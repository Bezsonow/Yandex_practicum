{
 "cells": [
  {
   "cell_type": "markdown",
   "id": "7d97cb5e",
   "metadata": {},
   "source": [
    "<div style=\"border:solid green 3px; padding: 20px\">\n",
    "\t\t\t\t\t\t\t\t\t\t\t\t\t\t\t\t\t\t\t\t\t\n",
    "<b>Привет!</b>\n",
    "\t\t\t\t\t\t\t\t\t\t\t\t\t\t\t\t\t\t\t\t\t\n",
    "Меня зовут Сороколетов Илья и я буду проверять твой проект. \n",
    "\t\t\t\t\t\t\t\t\t\t\t\t\t\t\t\t\t\t\t\t\t\n",
    "Предлагаю общаться на «**ты**», но если тебе будет комфортнее общаться на «**вы**», то сообщи об этом в комментариях)\n",
    "\t\t\t\t\t\t\t\t\t\t\t\t\t\t\t\t\t\t\t\t\t\n",
    "\t\t\t\t\t\t\t\t\t\t\t\t\t\t\t\t\t\t\t\t\t\n",
    "Для твоего удобства, я буду выделять свои комментарии следующим образом:\n",
    "\t\t\t\t\t\t\t\t\t\t\t\t\t\t\t\t\t\t\t\t\t\n",
    "<div class=\"alert alert-danger\">\n",
    "<b>❌ Комментарий ревьюера v1:</b> Самые важные замечания. Они указывают на ключевые моменты, которые влияют на конечный результат проекта. </div>\n",
    "\t\t\t\t\t\t\t\t\t\t\t\t\t\t\t\t\t\t\t\t\t\n",
    "<div class=\"alert alert-warning\">\n",
    "<b>⚠️ Комментарий ревьюера v1:</b> Советы или замечания, которые помогут сделать твою работу лучше, но необязательны к выполнению.\n",
    "\t\t\t\t\t\t\t\t\t\t\t\t\t\t\t\t\t\t\t\t\t\n",
    "</div>\n",
    "\t\t\t\t\t\t\t\t\t\t\t\t\t\t\t\t\t\t\t\t\t\n",
    "<div class=\"alert alert-success\">\n",
    "<b>✔️ Комментарий ревьюера v1:</b> Так я выделяю все остальные комментарии.</div>\n",
    "\t\t\t\t\t\t\t\t\t\t\t\t\t\t\t\t\t\t\t\t\t\n",
    "\t\t\t\t\t\t\t\t\t\t\t\t\t\t\t\t\t\t\t\t\t\n",
    "Пометками <b>v1-v2-v3-...</b> я буду отмечать версию проверки. Так ты сможешь быстро найти мои новые комментарии.\n",
    "\t\t\t\t\t\t\t\t\t\t\t\t\t\t\t\t\t\t\t\t\t\n",
    "Давай работать над проектом в диалоге: если ты что-то меняешь в проекте по моим рекомендациям — пиши об этом. Выбери для своих комментариев какой-то заметный цвет, так мне будет легче отследить изменения, например вот так:\n",
    "\t\t\t\t\t\t\t\t\t\t\t\t\t\t\t\t\t\t\t\t\t    \n",
    "<div class=\"alert alert-info\">\n",
    "<b>Комментарий студента:</b>\n",
    "<br>\n",
    "</div>\n",
    "\t\t\t\t\t\t\t\t\t\t\t\t\t\t\t\t\t\t\t\t\t\n",
    "<b>Пожалуйста, не перемещай, не изменяй и не удаляй мои комментарии.</b> Если ты оставляешь свои комментарии, то делай это под моими, чтобы сообщения были расположены в хронологическом порядке. Всё это поможет выполнить повторную проверку твоего проекта быстрее. \n",
    "\t\t\t\t\t\t\t\t\t\t\t\t\t\t\t\t\t\t\t\t\t\n",
    "Перед отправкой работы я рекомендую нажимать Kernel -> Restart & Run All. Это перезапустит ядро и по очереди выполнит все ячейки. Так ты сможешь проверить, что всё работает корректно. Кнопка Kernel находится в панели сверху\n",
    "\t\t\t\t\t\t\t\t\t\t\t\t\t\t\t\t\t\t\t\t\t\n",
    "Обязательно задавай вопросы если они возникнут, а я перехожу к проверке)\n",
    "\t\t\t\t\t\t\t\t\t\t\t\t\t\t\t\t\t\t\t\t\t\n",
    "P.S. На всякий случай, я оставлю пустой шаблон для твоих комментариев ниже. Кликни два раза на мой комментарий, скопируй последние четыре строчки кода и вставляй их в пустую ячейку там, где ты хочешь оставить комментарий. Не забудь только перед этим сменить тип ячейки на Markdown. Быстро это можно сделать так: кликнуть на ячейку - нажать ESC - нажать M. \n",
    "\t\t\t\t\t\t\t\t\t\t\t\t\t\t\t\t\t\t\t\t\t    \n",
    "\t\t\t\t\t\t\t\t\t\t\t\t\t\t\t\t\t\t\t\t\t    \n",
    "<div class=\"alert alert-info\">\n",
    "<b>Комментарий студента:</b>\n",
    "<br>Удали этот текст и вместо него напиши свой комментарий 🙂\n",
    "</div>"
   ]
  },
  {
   "cell_type": "markdown",
   "id": "e65a7b03",
   "metadata": {},
   "source": [
    "<div style=\"border:solid Purple 2px; padding: 40px\" > \n",
    "    <u><b> Описание проекта:</b></u>\n",
    "\n",
    "Вы аналитик популярного сервиса аренды самокатов GoFast. Вам передали данные о некоторых пользователях из нескольких городов, а также об их поездках. Проанализируйте данные и проверьте некоторые гипотезы, которые могут помочь бизнесу вырасти.\n",
    "\n",
    "Чтобы совершать поездки по городу, пользователи сервиса GoFast пользуются мобильным приложением. Сервисом можно пользоваться:\n",
    "\n",
    "без подписки\n",
    "\n",
    "<li>абонентская плата отсутствует;</li>\n",
    "\n",
    "<li>стоимость одной минуты поездки — 8 рублей;</li>\n",
    "\n",
    "<li>стоимость старта (начала поездки) — 50 рублей;</li>\n",
    "\n",
    "с подпиской Ultra\n",
    "\n",
    "<li>абонентская плата — 199 рублей в месяц;</li>\n",
    "\n",
    "<li>стоимость одной минуты поездки — 6 рублей;</li>\n",
    "\n",
    "<li>стоимость старта — бесплатно.</li>\n",
    "\n",
    "<u><b> Описание данных:</b></u>\n",
    "    \n",
    "В основных данных есть информация о пользователях, их поездках и подписках.\n",
    "\n",
    "Пользователи — users_go.csv\n",
    "\n",
    "<li>user_id - уникальный идентификатор пользователя</li>\n",
    "\n",
    "<li>name - имя пользователя</li>\n",
    "\n",
    "<li>age - возраст</li>\n",
    "\n",
    "<li>city - город</li>\n",
    "\n",
    "<li>subscription_type - тип подписки (free, ultra)</li>\n",
    "\n",
    "Поездки — rides_go.csv\n",
    "\n",
    "<li>user_id - уникальный идентификатор пользователя</li>\n",
    "\n",
    "<li>distance -расстояние, которое пользователь проехал в текущей сессии (в метрах)</li>\n",
    "\n",
    "<li>duration -продолжительность сессии (в минутах) — время с того момента, как пользователь нажал кнопку «Начать поездку» до момента, как он нажал кнопку «Завершить поездку»</li>\n",
    "\n",
    "<li>date -дата совершения поездки</li>\n",
    "\n",
    "Подписки — subscriptions_go.csv\n",
    "\n",
    "<li>subscription_type -тип подписки</li>\n",
    "\n",
    "<li>minute_price -стоимость одной минуты поездки по данной подписке</li>\n",
    "\n",
    "<li>start_ride_price- стоимость начала поездки</li>\n",
    "\n",
    "<li>subscription_fee - стоимость ежемесячного платежа</li>\n",
    "\n",
    "<u><b> Краткий план работы:</b></u>\n",
    "\n",
    "<ol> 1)Загрузка данных </ol>\n",
    "<ol> 2)Предобработка данных </ol>\n",
    "<ol> 3)Исследовательский анализ данных </ol>    \n",
    "<ol> 4)Объединение данных</ol>\n",
    "<ol> 5)Подсчёт выручки </ol>\n",
    "<ol> 6)Проверка гипотез </ol>\n",
    "<ol> 7)Распределения </ol>\n",
    "\n",
    "</div>"
   ]
  },
  {
   "cell_type": "markdown",
   "id": "872e3399",
   "metadata": {},
   "source": [
    "<div class=\"alert alert-success\">\n",
    "<b>✔️ Комментарий ревьюера v1:</b> \n",
    "<br>Здорово, что ты оставляешь описание задачи. Это поможет тебе быстро вспомнить о чем проект, если спустя время ты решишь к нему вернуться)\n",
    "</div>"
   ]
  },
  {
   "cell_type": "code",
   "execution_count": 1,
   "id": "106bd9d7",
   "metadata": {},
   "outputs": [],
   "source": [
    "#загружаем библиотеки\n",
    "import pandas as pd\n",
    "import matplotlib.pyplot as plt\n",
    "import scipy.stats as st\n",
    "import numpy as np"
   ]
  },
  {
   "cell_type": "markdown",
   "id": "456ba900",
   "metadata": {},
   "source": [
    "<div class=\"alert alert-success\">\n",
    "<b>✔️ Комментарий ревьюера v1:</b> \n",
    "<br>Молодец, что импортируешь все библиотеки отдельно в первой ячейке. Это позволит тебе в любой момент добавить ещё одну библиотеку без перезаписи переменных.\n",
    "</div>"
   ]
  },
  {
   "cell_type": "markdown",
   "id": "c42cbe00",
   "metadata": {},
   "source": [
    "#### Шаг 1. Загрузка данных"
   ]
  },
  {
   "cell_type": "markdown",
   "id": "1e9a52f8",
   "metadata": {},
   "source": [
    "<div>Считайте CSV-файлы с данными с помощью библиотеки pandas и сохраните их в датафреймы. Пути к файлам:\n",
    "<li>/datasets/users_go.csv</li>\n",
    "<li>/datasets/rides_go.csv</li>\n",
    "<li>/datasets/subscriptions_go.csv</li>\n",
    "1.2 Выведите первые строки каждого набора данных. Изучите общую информацию о каждом датафрейме.\n",
    "</div>"
   ]
  },
  {
   "cell_type": "code",
   "execution_count": 2,
   "id": "ecc67eaa",
   "metadata": {},
   "outputs": [],
   "source": [
    "#Считываем CSV-файлы с данными с помощью библиотеки pandas и сохраняем их в датафреймы\n",
    "users = pd.read_csv('/datasets/users_go.csv')\n",
    "rides = pd.read_csv('/datasets/rides_go.csv', parse_dates=['date'])\n",
    "subs = pd.read_csv('/datasets/subscriptions_go.csv')"
   ]
  },
  {
   "cell_type": "code",
   "execution_count": 3,
   "id": "cc98e42c",
   "metadata": {},
   "outputs": [
    {
     "data": {
      "text/html": [
       "<div>\n",
       "<style scoped>\n",
       "    .dataframe tbody tr th:only-of-type {\n",
       "        vertical-align: middle;\n",
       "    }\n",
       "\n",
       "    .dataframe tbody tr th {\n",
       "        vertical-align: top;\n",
       "    }\n",
       "\n",
       "    .dataframe thead th {\n",
       "        text-align: right;\n",
       "    }\n",
       "</style>\n",
       "<table border=\"1\" class=\"dataframe\">\n",
       "  <thead>\n",
       "    <tr style=\"text-align: right;\">\n",
       "      <th></th>\n",
       "      <th>user_id</th>\n",
       "      <th>name</th>\n",
       "      <th>age</th>\n",
       "      <th>city</th>\n",
       "      <th>subscription_type</th>\n",
       "    </tr>\n",
       "  </thead>\n",
       "  <tbody>\n",
       "    <tr>\n",
       "      <th>0</th>\n",
       "      <td>1</td>\n",
       "      <td>Кира</td>\n",
       "      <td>22</td>\n",
       "      <td>Тюмень</td>\n",
       "      <td>ultra</td>\n",
       "    </tr>\n",
       "    <tr>\n",
       "      <th>1</th>\n",
       "      <td>2</td>\n",
       "      <td>Станислав</td>\n",
       "      <td>31</td>\n",
       "      <td>Омск</td>\n",
       "      <td>ultra</td>\n",
       "    </tr>\n",
       "    <tr>\n",
       "      <th>2</th>\n",
       "      <td>3</td>\n",
       "      <td>Алексей</td>\n",
       "      <td>20</td>\n",
       "      <td>Москва</td>\n",
       "      <td>ultra</td>\n",
       "    </tr>\n",
       "    <tr>\n",
       "      <th>3</th>\n",
       "      <td>4</td>\n",
       "      <td>Константин</td>\n",
       "      <td>26</td>\n",
       "      <td>Ростов-на-Дону</td>\n",
       "      <td>ultra</td>\n",
       "    </tr>\n",
       "    <tr>\n",
       "      <th>4</th>\n",
       "      <td>5</td>\n",
       "      <td>Адель</td>\n",
       "      <td>28</td>\n",
       "      <td>Омск</td>\n",
       "      <td>ultra</td>\n",
       "    </tr>\n",
       "  </tbody>\n",
       "</table>\n",
       "</div>"
      ],
      "text/plain": [
       "   user_id        name  age            city subscription_type\n",
       "0        1        Кира   22          Тюмень             ultra\n",
       "1        2   Станислав   31            Омск             ultra\n",
       "2        3     Алексей   20          Москва             ultra\n",
       "3        4  Константин   26  Ростов-на-Дону             ultra\n",
       "4        5       Адель   28            Омск             ultra"
      ]
     },
     "execution_count": 3,
     "metadata": {},
     "output_type": "execute_result"
    }
   ],
   "source": [
    "#Выводим первые строки users \n",
    "users.head()"
   ]
  },
  {
   "cell_type": "code",
   "execution_count": 4,
   "id": "b8b007ad",
   "metadata": {},
   "outputs": [
    {
     "name": "stdout",
     "output_type": "stream",
     "text": [
      "<class 'pandas.core.frame.DataFrame'>\n",
      "RangeIndex: 1565 entries, 0 to 1564\n",
      "Data columns (total 5 columns):\n",
      " #   Column             Non-Null Count  Dtype \n",
      "---  ------             --------------  ----- \n",
      " 0   user_id            1565 non-null   int64 \n",
      " 1   name               1565 non-null   object\n",
      " 2   age                1565 non-null   int64 \n",
      " 3   city               1565 non-null   object\n",
      " 4   subscription_type  1565 non-null   object\n",
      "dtypes: int64(2), object(3)\n",
      "memory usage: 61.3+ KB\n"
     ]
    }
   ],
   "source": [
    "#получаем info users\n",
    "users.info()"
   ]
  },
  {
   "cell_type": "code",
   "execution_count": 5,
   "id": "69590b8f",
   "metadata": {},
   "outputs": [
    {
     "data": {
      "text/html": [
       "<div>\n",
       "<style scoped>\n",
       "    .dataframe tbody tr th:only-of-type {\n",
       "        vertical-align: middle;\n",
       "    }\n",
       "\n",
       "    .dataframe tbody tr th {\n",
       "        vertical-align: top;\n",
       "    }\n",
       "\n",
       "    .dataframe thead th {\n",
       "        text-align: right;\n",
       "    }\n",
       "</style>\n",
       "<table border=\"1\" class=\"dataframe\">\n",
       "  <thead>\n",
       "    <tr style=\"text-align: right;\">\n",
       "      <th></th>\n",
       "      <th>user_id</th>\n",
       "      <th>distance</th>\n",
       "      <th>duration</th>\n",
       "      <th>date</th>\n",
       "    </tr>\n",
       "  </thead>\n",
       "  <tbody>\n",
       "    <tr>\n",
       "      <th>0</th>\n",
       "      <td>1</td>\n",
       "      <td>4409.919140</td>\n",
       "      <td>25.599769</td>\n",
       "      <td>2021-01-01</td>\n",
       "    </tr>\n",
       "    <tr>\n",
       "      <th>1</th>\n",
       "      <td>1</td>\n",
       "      <td>2617.592153</td>\n",
       "      <td>15.816871</td>\n",
       "      <td>2021-01-18</td>\n",
       "    </tr>\n",
       "    <tr>\n",
       "      <th>2</th>\n",
       "      <td>1</td>\n",
       "      <td>754.159807</td>\n",
       "      <td>6.232113</td>\n",
       "      <td>2021-04-20</td>\n",
       "    </tr>\n",
       "    <tr>\n",
       "      <th>3</th>\n",
       "      <td>1</td>\n",
       "      <td>2694.783254</td>\n",
       "      <td>18.511000</td>\n",
       "      <td>2021-08-11</td>\n",
       "    </tr>\n",
       "    <tr>\n",
       "      <th>4</th>\n",
       "      <td>1</td>\n",
       "      <td>4028.687306</td>\n",
       "      <td>26.265803</td>\n",
       "      <td>2021-08-28</td>\n",
       "    </tr>\n",
       "  </tbody>\n",
       "</table>\n",
       "</div>"
      ],
      "text/plain": [
       "   user_id     distance   duration       date\n",
       "0        1  4409.919140  25.599769 2021-01-01\n",
       "1        1  2617.592153  15.816871 2021-01-18\n",
       "2        1   754.159807   6.232113 2021-04-20\n",
       "3        1  2694.783254  18.511000 2021-08-11\n",
       "4        1  4028.687306  26.265803 2021-08-28"
      ]
     },
     "execution_count": 5,
     "metadata": {},
     "output_type": "execute_result"
    }
   ],
   "source": [
    "#Выводим первые строки rides\n",
    "rides.head()"
   ]
  },
  {
   "cell_type": "code",
   "execution_count": 6,
   "id": "0f5820a7",
   "metadata": {},
   "outputs": [
    {
     "name": "stdout",
     "output_type": "stream",
     "text": [
      "<class 'pandas.core.frame.DataFrame'>\n",
      "RangeIndex: 18068 entries, 0 to 18067\n",
      "Data columns (total 4 columns):\n",
      " #   Column    Non-Null Count  Dtype         \n",
      "---  ------    --------------  -----         \n",
      " 0   user_id   18068 non-null  int64         \n",
      " 1   distance  18068 non-null  float64       \n",
      " 2   duration  18068 non-null  float64       \n",
      " 3   date      18068 non-null  datetime64[ns]\n",
      "dtypes: datetime64[ns](1), float64(2), int64(1)\n",
      "memory usage: 564.8 KB\n"
     ]
    }
   ],
   "source": [
    "#получаем info rides\n",
    "rides.info()"
   ]
  },
  {
   "cell_type": "code",
   "execution_count": 7,
   "id": "64dbf334",
   "metadata": {},
   "outputs": [
    {
     "data": {
      "text/html": [
       "<div>\n",
       "<style scoped>\n",
       "    .dataframe tbody tr th:only-of-type {\n",
       "        vertical-align: middle;\n",
       "    }\n",
       "\n",
       "    .dataframe tbody tr th {\n",
       "        vertical-align: top;\n",
       "    }\n",
       "\n",
       "    .dataframe thead th {\n",
       "        text-align: right;\n",
       "    }\n",
       "</style>\n",
       "<table border=\"1\" class=\"dataframe\">\n",
       "  <thead>\n",
       "    <tr style=\"text-align: right;\">\n",
       "      <th></th>\n",
       "      <th>subscription_type</th>\n",
       "      <th>minute_price</th>\n",
       "      <th>start_ride_price</th>\n",
       "      <th>subscription_fee</th>\n",
       "    </tr>\n",
       "  </thead>\n",
       "  <tbody>\n",
       "    <tr>\n",
       "      <th>0</th>\n",
       "      <td>free</td>\n",
       "      <td>8</td>\n",
       "      <td>50</td>\n",
       "      <td>0</td>\n",
       "    </tr>\n",
       "    <tr>\n",
       "      <th>1</th>\n",
       "      <td>ultra</td>\n",
       "      <td>6</td>\n",
       "      <td>0</td>\n",
       "      <td>199</td>\n",
       "    </tr>\n",
       "  </tbody>\n",
       "</table>\n",
       "</div>"
      ],
      "text/plain": [
       "  subscription_type  minute_price  start_ride_price  subscription_fee\n",
       "0              free             8                50                 0\n",
       "1             ultra             6                 0               199"
      ]
     },
     "execution_count": 7,
     "metadata": {},
     "output_type": "execute_result"
    }
   ],
   "source": [
    "#Выводим первые строки subs\n",
    "subs.head()"
   ]
  },
  {
   "cell_type": "code",
   "execution_count": 8,
   "id": "3e52ff7e",
   "metadata": {},
   "outputs": [
    {
     "name": "stdout",
     "output_type": "stream",
     "text": [
      "<class 'pandas.core.frame.DataFrame'>\n",
      "RangeIndex: 2 entries, 0 to 1\n",
      "Data columns (total 4 columns):\n",
      " #   Column             Non-Null Count  Dtype \n",
      "---  ------             --------------  ----- \n",
      " 0   subscription_type  2 non-null      object\n",
      " 1   minute_price       2 non-null      int64 \n",
      " 2   start_ride_price   2 non-null      int64 \n",
      " 3   subscription_fee   2 non-null      int64 \n",
      "dtypes: int64(3), object(1)\n",
      "memory usage: 192.0+ bytes\n"
     ]
    }
   ],
   "source": [
    "#получаем info subs\n",
    "subs.info()"
   ]
  },
  {
   "cell_type": "markdown",
   "id": "3765ca40",
   "metadata": {},
   "source": [
    "<div style=\"background-color:aliceblue;padding:25px;\"> Промежуточный вывод:\n",
    "<li>CSV-файлы считаны и сохранены в датафреймы.</li>\n",
    "<li>Первые строки датафреймов выведены</li>\n",
    "<li>Общая информация о датафреймах изучена</li>\n",
    "</div>"
   ]
  },
  {
   "cell_type": "markdown",
   "id": "b74aa95b",
   "metadata": {},
   "source": [
    "<div class=\"alert alert-success\">\n",
    "<b>✔️ Комментарий ревьюера v1:</b> \n",
    "<br>Первичный анализ данных выполнен верно. Можем переходить к следующему этапу)\n",
    "</div>"
   ]
  },
  {
   "cell_type": "markdown",
   "id": "e95ebca7",
   "metadata": {},
   "source": [
    "#### Шаг 2. Предобработка данных"
   ]
  },
  {
   "cell_type": "markdown",
   "id": "2489a25e",
   "metadata": {},
   "source": [
    "<div>\n",
    "<ol>Приведите столбец date к типу даты pandas.</ol>\n",
    "<ol>Создайте новый столбец с номером месяца на основе столбца date.</ol>\n",
    "<ol>Проверьте наличие пропущенных значений и дубликатов в датафреймах. Обработайте их, если такие значения присутствуют.</ol>\n",
    "</div>"
   ]
  },
  {
   "cell_type": "code",
   "execution_count": 9,
   "id": "18933ceb",
   "metadata": {},
   "outputs": [
    {
     "name": "stdout",
     "output_type": "stream",
     "text": [
      "<class 'pandas.core.frame.DataFrame'>\n",
      "RangeIndex: 18068 entries, 0 to 18067\n",
      "Data columns (total 4 columns):\n",
      " #   Column    Non-Null Count  Dtype         \n",
      "---  ------    --------------  -----         \n",
      " 0   user_id   18068 non-null  int64         \n",
      " 1   distance  18068 non-null  float64       \n",
      " 2   duration  18068 non-null  float64       \n",
      " 3   date      18068 non-null  datetime64[ns]\n",
      "dtypes: datetime64[ns](1), float64(2), int64(1)\n",
      "memory usage: 564.8 KB\n"
     ]
    }
   ],
   "source": [
    "#Приводим столбец date датафрейма rides к типу даты pandas.\n",
    "#rides['date'] = pd.to_datetime(rides['date'], format='%Y-%m-%d')\n",
    "#Проверяем тип данных столбца date\n",
    "rides.info()"
   ]
  },
  {
   "cell_type": "markdown",
   "id": "7c6caac5",
   "metadata": {},
   "source": [
    "<div class=\"alert alert-success\">\n",
    "<b>✔️ Комментарий ревьюера v1:</b> \n",
    "<br>Тип данных изменён верно! \n",
    "</div>\n",
    "\t\t\t\t\n",
    "<div class=\"alert alert-warning\">\n",
    "<b>⚠️ Комментарий ревьюера v1:</b> \n",
    "<br>Если при загрузке данных добавить параметр parse_dates: parse_dates=['date'] то список столбцов автоматически переведется в даты. Подробнее про это можно прочитать по ссылке ниже\n",
    "\t\t\t\t\n",
    "\thttps://newtechaudit.ru/gruzi-daty-krasivo/\n",
    "</div>"
   ]
  },
  {
   "cell_type": "markdown",
   "id": "bf470da3",
   "metadata": {},
   "source": [
    "<div class=\"alert alert-info\">\n",
    "<b>Комментарий студента:</b>\n",
    "<br>Крутая фича , благодарю, рекомендация учтена, In[10]закоментировал 🙂\n",
    "</div>"
   ]
  },
  {
   "cell_type": "code",
   "execution_count": 10,
   "id": "d89bf107",
   "metadata": {},
   "outputs": [
    {
     "data": {
      "text/html": [
       "<div>\n",
       "<style scoped>\n",
       "    .dataframe tbody tr th:only-of-type {\n",
       "        vertical-align: middle;\n",
       "    }\n",
       "\n",
       "    .dataframe tbody tr th {\n",
       "        vertical-align: top;\n",
       "    }\n",
       "\n",
       "    .dataframe thead th {\n",
       "        text-align: right;\n",
       "    }\n",
       "</style>\n",
       "<table border=\"1\" class=\"dataframe\">\n",
       "  <thead>\n",
       "    <tr style=\"text-align: right;\">\n",
       "      <th></th>\n",
       "      <th>user_id</th>\n",
       "      <th>distance</th>\n",
       "      <th>duration</th>\n",
       "      <th>date</th>\n",
       "      <th>month</th>\n",
       "    </tr>\n",
       "  </thead>\n",
       "  <tbody>\n",
       "    <tr>\n",
       "      <th>0</th>\n",
       "      <td>1</td>\n",
       "      <td>4409.919140</td>\n",
       "      <td>25.599769</td>\n",
       "      <td>2021-01-01</td>\n",
       "      <td>1</td>\n",
       "    </tr>\n",
       "    <tr>\n",
       "      <th>1</th>\n",
       "      <td>1</td>\n",
       "      <td>2617.592153</td>\n",
       "      <td>15.816871</td>\n",
       "      <td>2021-01-18</td>\n",
       "      <td>1</td>\n",
       "    </tr>\n",
       "    <tr>\n",
       "      <th>2</th>\n",
       "      <td>1</td>\n",
       "      <td>754.159807</td>\n",
       "      <td>6.232113</td>\n",
       "      <td>2021-04-20</td>\n",
       "      <td>4</td>\n",
       "    </tr>\n",
       "    <tr>\n",
       "      <th>3</th>\n",
       "      <td>1</td>\n",
       "      <td>2694.783254</td>\n",
       "      <td>18.511000</td>\n",
       "      <td>2021-08-11</td>\n",
       "      <td>8</td>\n",
       "    </tr>\n",
       "    <tr>\n",
       "      <th>4</th>\n",
       "      <td>1</td>\n",
       "      <td>4028.687306</td>\n",
       "      <td>26.265803</td>\n",
       "      <td>2021-08-28</td>\n",
       "      <td>8</td>\n",
       "    </tr>\n",
       "  </tbody>\n",
       "</table>\n",
       "</div>"
      ],
      "text/plain": [
       "   user_id     distance   duration       date  month\n",
       "0        1  4409.919140  25.599769 2021-01-01      1\n",
       "1        1  2617.592153  15.816871 2021-01-18      1\n",
       "2        1   754.159807   6.232113 2021-04-20      4\n",
       "3        1  2694.783254  18.511000 2021-08-11      8\n",
       "4        1  4028.687306  26.265803 2021-08-28      8"
      ]
     },
     "execution_count": 10,
     "metadata": {},
     "output_type": "execute_result"
    }
   ],
   "source": [
    "#Создаем столбец month на основе столбца date\n",
    "rides['month'] = rides['date'].dt.month\n",
    "#Выведем первые строки rides для проверки\n",
    "rides.head()"
   ]
  },
  {
   "cell_type": "markdown",
   "id": "2aee23b5",
   "metadata": {},
   "source": [
    "<div class=\"alert alert-success\">\n",
    "<b>✔️ Комментарий ревьюера v1:</b> \n",
    "<br>Новый столбец создан верно!\n",
    "</div>"
   ]
  },
  {
   "cell_type": "code",
   "execution_count": 11,
   "id": "16e7209b",
   "metadata": {},
   "outputs": [
    {
     "data": {
      "text/plain": [
       "user_id              0\n",
       "name                 0\n",
       "age                  0\n",
       "city                 0\n",
       "subscription_type    0\n",
       "dtype: int64"
      ]
     },
     "execution_count": 11,
     "metadata": {},
     "output_type": "execute_result"
    }
   ],
   "source": [
    "#Проверяем наличие пропущенных значений в users.\n",
    "users.isna().sum()"
   ]
  },
  {
   "cell_type": "code",
   "execution_count": 12,
   "id": "c58043d1",
   "metadata": {},
   "outputs": [
    {
     "data": {
      "text/plain": [
       "31"
      ]
     },
     "execution_count": 12,
     "metadata": {},
     "output_type": "execute_result"
    }
   ],
   "source": [
    "#выявляем явные дубликаты в users.\n",
    "users.duplicated().sum()"
   ]
  },
  {
   "cell_type": "code",
   "execution_count": 13,
   "id": "8d9279fd",
   "metadata": {},
   "outputs": [
    {
     "data": {
      "text/html": [
       "<div>\n",
       "<style scoped>\n",
       "    .dataframe tbody tr th:only-of-type {\n",
       "        vertical-align: middle;\n",
       "    }\n",
       "\n",
       "    .dataframe tbody tr th {\n",
       "        vertical-align: top;\n",
       "    }\n",
       "\n",
       "    .dataframe thead th {\n",
       "        text-align: right;\n",
       "    }\n",
       "</style>\n",
       "<table border=\"1\" class=\"dataframe\">\n",
       "  <thead>\n",
       "    <tr style=\"text-align: right;\">\n",
       "      <th></th>\n",
       "      <th>user_id</th>\n",
       "      <th>name</th>\n",
       "      <th>age</th>\n",
       "      <th>city</th>\n",
       "      <th>subscription_type</th>\n",
       "    </tr>\n",
       "  </thead>\n",
       "  <tbody>\n",
       "    <tr>\n",
       "      <th>1535</th>\n",
       "      <td>16</td>\n",
       "      <td>Амалия</td>\n",
       "      <td>27</td>\n",
       "      <td>Краснодар</td>\n",
       "      <td>ultra</td>\n",
       "    </tr>\n",
       "    <tr>\n",
       "      <th>1539</th>\n",
       "      <td>43</td>\n",
       "      <td>Стефания</td>\n",
       "      <td>22</td>\n",
       "      <td>Омск</td>\n",
       "      <td>ultra</td>\n",
       "    </tr>\n",
       "    <tr>\n",
       "      <th>1563</th>\n",
       "      <td>47</td>\n",
       "      <td>Юрий</td>\n",
       "      <td>28</td>\n",
       "      <td>Тюмень</td>\n",
       "      <td>ultra</td>\n",
       "    </tr>\n",
       "    <tr>\n",
       "      <th>1555</th>\n",
       "      <td>72</td>\n",
       "      <td>Никита</td>\n",
       "      <td>25</td>\n",
       "      <td>Москва</td>\n",
       "      <td>ultra</td>\n",
       "    </tr>\n",
       "    <tr>\n",
       "      <th>1549</th>\n",
       "      <td>108</td>\n",
       "      <td>Влада</td>\n",
       "      <td>29</td>\n",
       "      <td>Тюмень</td>\n",
       "      <td>ultra</td>\n",
       "    </tr>\n",
       "    <tr>\n",
       "      <th>1553</th>\n",
       "      <td>121</td>\n",
       "      <td>Алина</td>\n",
       "      <td>25</td>\n",
       "      <td>Пятигорск</td>\n",
       "      <td>ultra</td>\n",
       "    </tr>\n",
       "    <tr>\n",
       "      <th>1540</th>\n",
       "      <td>127</td>\n",
       "      <td>Павел</td>\n",
       "      <td>25</td>\n",
       "      <td>Пятигорск</td>\n",
       "      <td>ultra</td>\n",
       "    </tr>\n",
       "    <tr>\n",
       "      <th>1548</th>\n",
       "      <td>136</td>\n",
       "      <td>Марсель</td>\n",
       "      <td>25</td>\n",
       "      <td>Тюмень</td>\n",
       "      <td>ultra</td>\n",
       "    </tr>\n",
       "    <tr>\n",
       "      <th>1543</th>\n",
       "      <td>153</td>\n",
       "      <td>Герман</td>\n",
       "      <td>23</td>\n",
       "      <td>Москва</td>\n",
       "      <td>ultra</td>\n",
       "    </tr>\n",
       "    <tr>\n",
       "      <th>1542</th>\n",
       "      <td>204</td>\n",
       "      <td>Руслан</td>\n",
       "      <td>30</td>\n",
       "      <td>Пятигорск</td>\n",
       "      <td>ultra</td>\n",
       "    </tr>\n",
       "    <tr>\n",
       "      <th>1559</th>\n",
       "      <td>209</td>\n",
       "      <td>Андрей</td>\n",
       "      <td>23</td>\n",
       "      <td>Омск</td>\n",
       "      <td>ultra</td>\n",
       "    </tr>\n",
       "    <tr>\n",
       "      <th>1534</th>\n",
       "      <td>293</td>\n",
       "      <td>Агата</td>\n",
       "      <td>26</td>\n",
       "      <td>Краснодар</td>\n",
       "      <td>ultra</td>\n",
       "    </tr>\n",
       "    <tr>\n",
       "      <th>1552</th>\n",
       "      <td>297</td>\n",
       "      <td>Егор</td>\n",
       "      <td>33</td>\n",
       "      <td>Пятигорск</td>\n",
       "      <td>ultra</td>\n",
       "    </tr>\n",
       "    <tr>\n",
       "      <th>1562</th>\n",
       "      <td>307</td>\n",
       "      <td>Ясмина</td>\n",
       "      <td>19</td>\n",
       "      <td>Краснодар</td>\n",
       "      <td>ultra</td>\n",
       "    </tr>\n",
       "    <tr>\n",
       "      <th>1537</th>\n",
       "      <td>403</td>\n",
       "      <td>Полина</td>\n",
       "      <td>19</td>\n",
       "      <td>Сочи</td>\n",
       "      <td>ultra</td>\n",
       "    </tr>\n",
       "    <tr>\n",
       "      <th>1556</th>\n",
       "      <td>422</td>\n",
       "      <td>Кирилл</td>\n",
       "      <td>27</td>\n",
       "      <td>Сочи</td>\n",
       "      <td>ultra</td>\n",
       "    </tr>\n",
       "    <tr>\n",
       "      <th>1557</th>\n",
       "      <td>611</td>\n",
       "      <td>Владимир</td>\n",
       "      <td>28</td>\n",
       "      <td>Омск</td>\n",
       "      <td>ultra</td>\n",
       "    </tr>\n",
       "    <tr>\n",
       "      <th>1547</th>\n",
       "      <td>635</td>\n",
       "      <td>Герман</td>\n",
       "      <td>21</td>\n",
       "      <td>Москва</td>\n",
       "      <td>ultra</td>\n",
       "    </tr>\n",
       "    <tr>\n",
       "      <th>1541</th>\n",
       "      <td>659</td>\n",
       "      <td>Злата</td>\n",
       "      <td>27</td>\n",
       "      <td>Ростов-на-Дону</td>\n",
       "      <td>ultra</td>\n",
       "    </tr>\n",
       "    <tr>\n",
       "      <th>1551</th>\n",
       "      <td>666</td>\n",
       "      <td>Зарина</td>\n",
       "      <td>29</td>\n",
       "      <td>Москва</td>\n",
       "      <td>ultra</td>\n",
       "    </tr>\n",
       "    <tr>\n",
       "      <th>1550</th>\n",
       "      <td>737</td>\n",
       "      <td>Мелания</td>\n",
       "      <td>27</td>\n",
       "      <td>Ростов-на-Дону</td>\n",
       "      <td>free</td>\n",
       "    </tr>\n",
       "    <tr>\n",
       "      <th>1545</th>\n",
       "      <td>807</td>\n",
       "      <td>Александр</td>\n",
       "      <td>28</td>\n",
       "      <td>Екатеринбург</td>\n",
       "      <td>free</td>\n",
       "    </tr>\n",
       "    <tr>\n",
       "      <th>1561</th>\n",
       "      <td>809</td>\n",
       "      <td>Юрий</td>\n",
       "      <td>26</td>\n",
       "      <td>Сочи</td>\n",
       "      <td>free</td>\n",
       "    </tr>\n",
       "    <tr>\n",
       "      <th>1560</th>\n",
       "      <td>829</td>\n",
       "      <td>Федор</td>\n",
       "      <td>29</td>\n",
       "      <td>Пятигорск</td>\n",
       "      <td>free</td>\n",
       "    </tr>\n",
       "    <tr>\n",
       "      <th>1538</th>\n",
       "      <td>908</td>\n",
       "      <td>Рустам</td>\n",
       "      <td>30</td>\n",
       "      <td>Тюмень</td>\n",
       "      <td>free</td>\n",
       "    </tr>\n",
       "    <tr>\n",
       "      <th>1536</th>\n",
       "      <td>909</td>\n",
       "      <td>Константин</td>\n",
       "      <td>20</td>\n",
       "      <td>Екатеринбург</td>\n",
       "      <td>free</td>\n",
       "    </tr>\n",
       "    <tr>\n",
       "      <th>1546</th>\n",
       "      <td>924</td>\n",
       "      <td>Мария</td>\n",
       "      <td>23</td>\n",
       "      <td>Пятигорск</td>\n",
       "      <td>free</td>\n",
       "    </tr>\n",
       "    <tr>\n",
       "      <th>1564</th>\n",
       "      <td>1045</td>\n",
       "      <td>Артемий</td>\n",
       "      <td>28</td>\n",
       "      <td>Ростов-на-Дону</td>\n",
       "      <td>free</td>\n",
       "    </tr>\n",
       "    <tr>\n",
       "      <th>1554</th>\n",
       "      <td>1198</td>\n",
       "      <td>Демид</td>\n",
       "      <td>29</td>\n",
       "      <td>Ростов-на-Дону</td>\n",
       "      <td>free</td>\n",
       "    </tr>\n",
       "    <tr>\n",
       "      <th>1558</th>\n",
       "      <td>1237</td>\n",
       "      <td>Евгения</td>\n",
       "      <td>23</td>\n",
       "      <td>Тюмень</td>\n",
       "      <td>free</td>\n",
       "    </tr>\n",
       "    <tr>\n",
       "      <th>1544</th>\n",
       "      <td>1245</td>\n",
       "      <td>Регина</td>\n",
       "      <td>27</td>\n",
       "      <td>Пятигорск</td>\n",
       "      <td>free</td>\n",
       "    </tr>\n",
       "  </tbody>\n",
       "</table>\n",
       "</div>"
      ],
      "text/plain": [
       "      user_id        name  age            city subscription_type\n",
       "1535       16      Амалия   27       Краснодар             ultra\n",
       "1539       43    Стефания   22            Омск             ultra\n",
       "1563       47        Юрий   28          Тюмень             ultra\n",
       "1555       72      Никита   25          Москва             ultra\n",
       "1549      108       Влада   29          Тюмень             ultra\n",
       "1553      121       Алина   25       Пятигорск             ultra\n",
       "1540      127       Павел   25       Пятигорск             ultra\n",
       "1548      136     Марсель   25          Тюмень             ultra\n",
       "1543      153      Герман   23          Москва             ultra\n",
       "1542      204      Руслан   30       Пятигорск             ultra\n",
       "1559      209      Андрей   23            Омск             ultra\n",
       "1534      293       Агата   26       Краснодар             ultra\n",
       "1552      297        Егор   33       Пятигорск             ultra\n",
       "1562      307      Ясмина   19       Краснодар             ultra\n",
       "1537      403      Полина   19            Сочи             ultra\n",
       "1556      422      Кирилл   27            Сочи             ultra\n",
       "1557      611    Владимир   28            Омск             ultra\n",
       "1547      635      Герман   21          Москва             ultra\n",
       "1541      659       Злата   27  Ростов-на-Дону             ultra\n",
       "1551      666      Зарина   29          Москва             ultra\n",
       "1550      737     Мелания   27  Ростов-на-Дону              free\n",
       "1545      807   Александр   28    Екатеринбург              free\n",
       "1561      809        Юрий   26            Сочи              free\n",
       "1560      829       Федор   29       Пятигорск              free\n",
       "1538      908      Рустам   30          Тюмень              free\n",
       "1536      909  Константин   20    Екатеринбург              free\n",
       "1546      924       Мария   23       Пятигорск              free\n",
       "1564     1045     Артемий   28  Ростов-на-Дону              free\n",
       "1554     1198       Демид   29  Ростов-на-Дону              free\n",
       "1558     1237     Евгения   23          Тюмень              free\n",
       "1544     1245      Регина   27       Пятигорск              free"
      ]
     },
     "execution_count": 13,
     "metadata": {},
     "output_type": "execute_result"
    }
   ],
   "source": [
    "#выведем полученные дубликаты для оценки\n",
    "duplicated_users = users[users.duplicated()]\n",
    "duplicated_users.sort_values(by='user_id')"
   ]
  },
  {
   "cell_type": "code",
   "execution_count": 14,
   "id": "04ac6b40",
   "metadata": {},
   "outputs": [],
   "source": [
    "#Удаляем явные дубликаты\n",
    "users = users.drop_duplicates().reset_index(drop=True) "
   ]
  },
  {
   "cell_type": "code",
   "execution_count": 15,
   "id": "d552b2cb",
   "metadata": {},
   "outputs": [
    {
     "data": {
      "text/plain": [
       "0"
      ]
     },
     "execution_count": 15,
     "metadata": {},
     "output_type": "execute_result"
    }
   ],
   "source": [
    "#Повторная проверка явных дубликатов\n",
    "users.duplicated().sum()"
   ]
  },
  {
   "cell_type": "code",
   "execution_count": 16,
   "id": "aa03bd15",
   "metadata": {},
   "outputs": [
    {
     "data": {
      "text/plain": [
       "array(['Тюмень', 'Омск', 'Москва', 'Ростов-на-Дону', 'Краснодар',\n",
       "       'Пятигорск', 'Екатеринбург', 'Сочи'], dtype=object)"
      ]
     },
     "execution_count": 16,
     "metadata": {},
     "output_type": "execute_result"
    }
   ],
   "source": [
    "#Выявление неявных дубликатов в столбце city\n",
    "users['city'].unique()"
   ]
  },
  {
   "cell_type": "code",
   "execution_count": 17,
   "id": "80082278",
   "metadata": {},
   "outputs": [
    {
     "data": {
      "text/plain": [
       "array(['ultra', 'free'], dtype=object)"
      ]
     },
     "execution_count": 17,
     "metadata": {},
     "output_type": "execute_result"
    }
   ],
   "source": [
    "#Выявление неявных дубликатов в столбце subscription_type\n",
    "users['subscription_type'].unique()"
   ]
  },
  {
   "cell_type": "code",
   "execution_count": 18,
   "id": "37bb9743",
   "metadata": {},
   "outputs": [
    {
     "data": {
      "text/plain": [
       "user_id     0\n",
       "distance    0\n",
       "duration    0\n",
       "date        0\n",
       "month       0\n",
       "dtype: int64"
      ]
     },
     "execution_count": 18,
     "metadata": {},
     "output_type": "execute_result"
    }
   ],
   "source": [
    "#Проверяем наличие пропущенных значений в rides.\n",
    "rides.isna().sum()"
   ]
  },
  {
   "cell_type": "code",
   "execution_count": 19,
   "id": "d16de3f8",
   "metadata": {},
   "outputs": [
    {
     "data": {
      "text/plain": [
       "0"
      ]
     },
     "execution_count": 19,
     "metadata": {},
     "output_type": "execute_result"
    }
   ],
   "source": [
    "#выявляем явные дубликаты в rides.\n",
    "rides.duplicated().sum()"
   ]
  },
  {
   "cell_type": "code",
   "execution_count": 20,
   "id": "8926cb7f",
   "metadata": {},
   "outputs": [],
   "source": [
    "#округлим значения в столбцах distance и duration датафрейма rides до двух знаков после запятой.\n",
    "rides['distance'] = rides['distance'].round(2)\n",
    "rides['duration'] = rides['duration'].round(2)"
   ]
  },
  {
   "cell_type": "code",
   "execution_count": 21,
   "id": "f2baf7c0",
   "metadata": {},
   "outputs": [
    {
     "data": {
      "text/html": [
       "<div>\n",
       "<style scoped>\n",
       "    .dataframe tbody tr th:only-of-type {\n",
       "        vertical-align: middle;\n",
       "    }\n",
       "\n",
       "    .dataframe tbody tr th {\n",
       "        vertical-align: top;\n",
       "    }\n",
       "\n",
       "    .dataframe thead th {\n",
       "        text-align: right;\n",
       "    }\n",
       "</style>\n",
       "<table border=\"1\" class=\"dataframe\">\n",
       "  <thead>\n",
       "    <tr style=\"text-align: right;\">\n",
       "      <th></th>\n",
       "      <th>user_id</th>\n",
       "      <th>distance</th>\n",
       "      <th>duration</th>\n",
       "      <th>date</th>\n",
       "      <th>month</th>\n",
       "    </tr>\n",
       "  </thead>\n",
       "  <tbody>\n",
       "    <tr>\n",
       "      <th>0</th>\n",
       "      <td>1</td>\n",
       "      <td>4409.92</td>\n",
       "      <td>25.60</td>\n",
       "      <td>2021-01-01</td>\n",
       "      <td>1</td>\n",
       "    </tr>\n",
       "    <tr>\n",
       "      <th>1</th>\n",
       "      <td>1</td>\n",
       "      <td>2617.59</td>\n",
       "      <td>15.82</td>\n",
       "      <td>2021-01-18</td>\n",
       "      <td>1</td>\n",
       "    </tr>\n",
       "    <tr>\n",
       "      <th>2</th>\n",
       "      <td>1</td>\n",
       "      <td>754.16</td>\n",
       "      <td>6.23</td>\n",
       "      <td>2021-04-20</td>\n",
       "      <td>4</td>\n",
       "    </tr>\n",
       "    <tr>\n",
       "      <th>3</th>\n",
       "      <td>1</td>\n",
       "      <td>2694.78</td>\n",
       "      <td>18.51</td>\n",
       "      <td>2021-08-11</td>\n",
       "      <td>8</td>\n",
       "    </tr>\n",
       "    <tr>\n",
       "      <th>4</th>\n",
       "      <td>1</td>\n",
       "      <td>4028.69</td>\n",
       "      <td>26.27</td>\n",
       "      <td>2021-08-28</td>\n",
       "      <td>8</td>\n",
       "    </tr>\n",
       "  </tbody>\n",
       "</table>\n",
       "</div>"
      ],
      "text/plain": [
       "   user_id  distance  duration       date  month\n",
       "0        1   4409.92     25.60 2021-01-01      1\n",
       "1        1   2617.59     15.82 2021-01-18      1\n",
       "2        1    754.16      6.23 2021-04-20      4\n",
       "3        1   2694.78     18.51 2021-08-11      8\n",
       "4        1   4028.69     26.27 2021-08-28      8"
      ]
     },
     "execution_count": 21,
     "metadata": {},
     "output_type": "execute_result"
    }
   ],
   "source": [
    "#Выведем первые строки rides для проверки\n",
    "rides.head()"
   ]
  },
  {
   "cell_type": "code",
   "execution_count": 22,
   "id": "34598fae",
   "metadata": {},
   "outputs": [
    {
     "data": {
      "text/plain": [
       "subscription_type    0\n",
       "minute_price         0\n",
       "start_ride_price     0\n",
       "subscription_fee     0\n",
       "dtype: int64"
      ]
     },
     "execution_count": 22,
     "metadata": {},
     "output_type": "execute_result"
    }
   ],
   "source": [
    "#Проверяем наличие пропущенных значений в subs.\n",
    "subs.isna().sum()"
   ]
  },
  {
   "cell_type": "markdown",
   "id": "6604d54c",
   "metadata": {},
   "source": [
    "<div style=\"background-color:aliceblue;padding:25px;\"> Промежуточный вывод:\n",
    "<li>Столбец date приведен к типу даты pandas.</li>\n",
    "<li>Создан столбец month с номером месяца на основе столбца date.</li>\n",
    "<li>Выполнена проверка пропущенных значений. Пропущенные значения не обнаружены. В таблице users удалены явные дубликаты. Неявных дубликатов не обнаружено.</li>\n",
    "<li>Значения столбцов distance и duration округлены до двух знаков после запятой </li>\n",
    "</div>"
   ]
  },
  {
   "cell_type": "markdown",
   "id": "825ba169",
   "metadata": {},
   "source": [
    "<div class=\"alert alert-success\">\n",
    "<b>✔️ Комментарий ревьюера v1:</b> \n",
    "<br>С предобработкой закончили. Переходим к исследовательскому анализу!\n",
    "</div>"
   ]
  },
  {
   "cell_type": "markdown",
   "id": "212593c7",
   "metadata": {},
   "source": [
    "#### Шаг 3. Исследовательский анализ данных"
   ]
  },
  {
   "cell_type": "markdown",
   "id": "a1b3c32f",
   "metadata": {},
   "source": [
    "<div>Опишите и визуализируйте общую информацию о пользователях и поездках:\n",
    "<ol> 3.1 частота встречаемости городов;</ol> \n",
    "<ol> 3.2 соотношение пользователей с подпиской и без подписки;</ol> \n",
    "<ol> 3.3 возраст пользователей;</ol> \n",
    "<ol> 3.4 расстояние, которое пользователь преодолел за одну поездку;</ol> \n",
    "<ol> 3.5 продолжительность поездок.</ol> \n",
    "    </div>\n"
   ]
  },
  {
   "cell_type": "code",
   "execution_count": 23,
   "id": "c6f4ff6c",
   "metadata": {},
   "outputs": [
    {
     "data": {
      "text/plain": [
       "Пятигорск         219\n",
       "Екатеринбург      204\n",
       "Ростов-на-Дону    198\n",
       "Краснодар         193\n",
       "Сочи              189\n",
       "Омск              183\n",
       "Тюмень            180\n",
       "Москва            168\n",
       "Name: city, dtype: int64"
      ]
     },
     "execution_count": 23,
     "metadata": {},
     "output_type": "execute_result"
    }
   ],
   "source": [
    "#Определим частосту встречаемости городов\n",
    "users['city'].value_counts()"
   ]
  },
  {
   "cell_type": "code",
   "execution_count": 24,
   "id": "cd3935b1",
   "metadata": {},
   "outputs": [
    {
     "data": {
      "image/png": "[encoded data removed]",
      "text/plain": [
       "<Figure size 720x576 with 1 Axes>"
      ]
     },
     "metadata": {
      "needs_background": "light"
     },
     "output_type": "display_data"
    }
   ],
   "source": [
    "#Визуализируем частоту встречаемости городов\n",
    "users['city'].hist(bins = 30, grid=True, figsize = (10,8), legend=True)\n",
    "plt.title('Зависимость количества пользователей от их местоположения')\n",
    "plt.xlabel('название города')\n",
    "plt.ylabel('кол.')\n",
    "plt.show()"
   ]
  },
  {
   "cell_type": "markdown",
   "id": "9a72d38e",
   "metadata": {},
   "source": [
    "<div class=\"alert alert-success\">\n",
    "<b>✔️ Комментарий ревьюера v1:</b>\n",
    "<br>Молодец, что подписываешь график и его оси!\n",
    "</div>"
   ]
  },
  {
   "cell_type": "markdown",
   "id": "f98c5a43",
   "metadata": {},
   "source": [
    "Наиболее часто всречающийся город Пятигорск, наименее часто встречающийся Москва"
   ]
  },
  {
   "cell_type": "code",
   "execution_count": 25,
   "id": "5342ae56",
   "metadata": {},
   "outputs": [
    {
     "data": {
      "text/plain": [
       "Text(0.5, 1.0, 'Cоотношение пользователей с подпиской и без подписки(free/total)')"
      ]
     },
     "execution_count": 25,
     "metadata": {},
     "output_type": "execute_result"
    },
    {
     "data": {
      "image/png": "[encoded data removed]",
      "text/plain": [
       "<Figure size 432x288 with 1 Axes>"
      ]
     },
     "metadata": {},
     "output_type": "display_data"
    }
   ],
   "source": [
    "#Определим и визуализируем Cоотношение пользователей с подпиской и без подписки\n",
    "users.pivot_table(index='subscription_type', values = 'user_id', aggfunc='count') \\\n",
    ".plot(kind='pie', y ='user_id', autopct='%1.0f%%')\n",
    "plt.title('Cоотношение пользователей с подпиской и без подписки(free/total)')"
   ]
  },
  {
   "cell_type": "markdown",
   "id": "ac53040c",
   "metadata": {},
   "source": [
    "Доля пользователей без подписки больше доли пользователей с подпиской"
   ]
  },
  {
   "cell_type": "markdown",
   "id": "fac5c0a5",
   "metadata": {},
   "source": [
    "<div class=\"alert alert-success\">\n",
    "<b>✔️ Комментарий ревьюера v1:</b>\n",
    "<br>Верно! В этом задании нужно смотреть именно на долю пользователей и тут круговая диаграмма отлично подходит!\n",
    "</div>"
   ]
  },
  {
   "cell_type": "code",
   "execution_count": 26,
   "id": "2819cc27",
   "metadata": {},
   "outputs": [
    {
     "data": {
      "text/plain": [
       "count    1534.000000\n",
       "mean       24.903520\n",
       "std         4.572367\n",
       "min        12.000000\n",
       "25%        22.000000\n",
       "50%        25.000000\n",
       "75%        28.000000\n",
       "max        43.000000\n",
       "Name: age, dtype: float64"
      ]
     },
     "execution_count": 26,
     "metadata": {},
     "output_type": "execute_result"
    }
   ],
   "source": [
    "#Опишем возраст пользователей\n",
    "users['age'].describe()"
   ]
  },
  {
   "cell_type": "code",
   "execution_count": 27,
   "id": "9ada41e9",
   "metadata": {},
   "outputs": [
    {
     "data": {
      "image/png": "[encoded data removed]",
      "text/plain": [
       "<Figure size 720x576 with 1 Axes>"
      ]
     },
     "metadata": {
      "needs_background": "light"
     },
     "output_type": "display_data"
    }
   ],
   "source": [
    "#визуализируем возраст пользователей\n",
    "users['age'].hist(bins = 30, grid=True, figsize = (10,8), legend=True)\n",
    "plt.title('Зависимость кольчества пользователей от возраста')\n",
    "plt.xlabel('Возраст')\n",
    "plt.ylabel('кол.')\n",
    "plt.show()"
   ]
  },
  {
   "cell_type": "markdown",
   "id": "3c6a9d72",
   "metadata": {},
   "source": [
    "Наибольшее количество пользователей с возрастом от 22 до 28 лет. "
   ]
  },
  {
   "cell_type": "markdown",
   "id": "4c989d17",
   "metadata": {},
   "source": [
    "<div class=\"alert alert-success\">\n",
    "<b>✔️ Комментарий ревьюера v1:</b>\n",
    "<br>Молодец, что кроме графика ещё используешь метод describe()\n",
    "</div>"
   ]
  },
  {
   "cell_type": "code",
   "execution_count": 28,
   "id": "f54ed084",
   "metadata": {},
   "outputs": [
    {
     "data": {
      "text/plain": [
       "count    18068.000000\n",
       "mean      3070.659992\n",
       "std       1116.831222\n",
       "min          0.860000\n",
       "25%       2543.227500\n",
       "50%       3133.610000\n",
       "75%       3776.220000\n",
       "max       7211.010000\n",
       "Name: distance, dtype: float64"
      ]
     },
     "execution_count": 28,
     "metadata": {},
     "output_type": "execute_result"
    }
   ],
   "source": [
    "#опишем расстояние, которое пользователь преодолел за одну поездку\n",
    "rides['distance'].describe()"
   ]
  },
  {
   "cell_type": "code",
   "execution_count": 29,
   "id": "96886d7e",
   "metadata": {},
   "outputs": [
    {
     "data": {
      "image/png": "[encoded data removed]",
      "text/plain": [
       "<Figure size 720x576 with 1 Axes>"
      ]
     },
     "metadata": {
      "needs_background": "light"
     },
     "output_type": "display_data"
    }
   ],
   "source": [
    "#визуализируемпреодоленное растояние, которое пользователь преодолел за одну поездку\n",
    "rides['distance'].hist(bins = 30, grid=True, figsize = (10,8), legend=True)\n",
    "plt.title('Зависимость количества пользователей от преодоленного растояния за одну поездку')\n",
    "plt.xlabel('Рассотояние(м)')\n",
    "plt.ylabel('кол.')\n",
    "plt.show()"
   ]
  },
  {
   "cell_type": "markdown",
   "id": "69c8a10a",
   "metadata": {},
   "source": [
    "Наибольшая часть пользователей преодолевала расстояние за одну поездку в диапазоне от 2543 до 3776 м "
   ]
  },
  {
   "cell_type": "code",
   "execution_count": 30,
   "id": "e48853b3",
   "metadata": {},
   "outputs": [
    {
     "data": {
      "text/plain": [
       "count    18068.000000\n",
       "mean        17.805017\n",
       "std          6.091071\n",
       "min          0.500000\n",
       "25%         13.600000\n",
       "50%         17.680000\n",
       "75%         21.722500\n",
       "max         40.820000\n",
       "Name: duration, dtype: float64"
      ]
     },
     "execution_count": 30,
     "metadata": {},
     "output_type": "execute_result"
    }
   ],
   "source": [
    "#опишем продолжительность поездок\n",
    "rides['duration'].describe()"
   ]
  },
  {
   "cell_type": "code",
   "execution_count": 31,
   "id": "54e0c2ce",
   "metadata": {},
   "outputs": [
    {
     "data": {
      "image/png": "[encoded data removed]",
      "text/plain": [
       "<Figure size 720x576 with 1 Axes>"
      ]
     },
     "metadata": {
      "needs_background": "light"
     },
     "output_type": "display_data"
    }
   ],
   "source": [
    "#визуализируем продолжительность поездок\n",
    "rides['duration'].hist(bins = 30, grid=True, figsize = (10,8), legend=True)\n",
    "plt.title('Зависимость кольчества пользователей от продолжительности поездок')\n",
    "plt.xlabel('Время (мин)')\n",
    "plt.ylabel('кол.')\n",
    "plt.show()"
   ]
  },
  {
   "cell_type": "markdown",
   "id": "66e9b31d",
   "metadata": {},
   "source": [
    "У наибольшего количества пользователей продолжительность поездки составляет от 13.6 до 21.72 мин"
   ]
  },
  {
   "cell_type": "markdown",
   "id": "9d1bd700",
   "metadata": {},
   "source": [
    "<div style=\"background-color:aliceblue;padding:25px;\"> Промежуточный вывод:\n",
    "<li>Описана и визуализирована информация о частота встречаемости городов</li>\n",
    "<li>Описана и визуализирована информация о соотношении пользователей с подпиской и без подписки</li>\n",
    "<li>Описана и визуализирована информация о возрасте пользователей</li>\n",
    "<li>Описана и визуализирована информация о расстоянии, которое пользователь преодолел за одну поездку </li>\n",
    "<li>Описана и визуализирована информация о продолжительности поездок </li>\n",
    "</div>"
   ]
  },
  {
   "cell_type": "markdown",
   "id": "cdd663f0",
   "metadata": {},
   "source": [
    "<div class=\"alert alert-success\">\n",
    "<b>✔️ Комментарий ревьюера v1:</b>\n",
    "<br>Графики и выводы корректные\n",
    "</div>"
   ]
  },
  {
   "cell_type": "markdown",
   "id": "4ef51331",
   "metadata": {},
   "source": [
    "#### Шаг 4. Объединение данных"
   ]
  },
  {
   "cell_type": "markdown",
   "id": "2d448a00",
   "metadata": {},
   "source": [
    "<div>\n",
    "<ol> Объедините данные о пользователях, поездках и подписках в один датафрейм. Для этого воспользуйтесь методом merge().</ol> \n",
    "<ol> Создайте ещё два датафрейма из датафрейма, созданного на этапе 4.1:</ol> \n",
    "<li>c данными о пользователях без подписки;</li>\n",
    "<li>с данными о пользователях с подпиской.</li>\n",
    "<ol>Визуализируйте информацию о расстоянии и времени поездок для пользователей обеих категорий.</ol> \n",
    "</div>"
   ]
  },
  {
   "cell_type": "code",
   "execution_count": 32,
   "id": "82e9adab",
   "metadata": {},
   "outputs": [],
   "source": [
    "#Объединяем данные о пользователях, поездках и подписках в один датафрейм\n",
    "user_rides = users.merge(rides, on ='user_id', how = 'left')\n",
    "df = user_rides.merge(subs, on = 'subscription_type', how = 'left')"
   ]
  },
  {
   "cell_type": "code",
   "execution_count": 33,
   "id": "21fb29ab",
   "metadata": {},
   "outputs": [],
   "source": [
    "#Создаем ещё два датафрейма из датафрейма из df\n",
    "df_free = df.query('subscription_type == \"free\"')\n",
    "df_ultra = df.query('subscription_type == \"ultra\"')"
   ]
  },
  {
   "cell_type": "code",
   "execution_count": 34,
   "id": "2d98071a",
   "metadata": {},
   "outputs": [
    {
     "data": {
      "text/html": [
       "<div>\n",
       "<style scoped>\n",
       "    .dataframe tbody tr th:only-of-type {\n",
       "        vertical-align: middle;\n",
       "    }\n",
       "\n",
       "    .dataframe tbody tr th {\n",
       "        vertical-align: top;\n",
       "    }\n",
       "\n",
       "    .dataframe thead th {\n",
       "        text-align: right;\n",
       "    }\n",
       "</style>\n",
       "<table border=\"1\" class=\"dataframe\">\n",
       "  <thead>\n",
       "    <tr style=\"text-align: right;\">\n",
       "      <th></th>\n",
       "      <th>user_id</th>\n",
       "      <th>name</th>\n",
       "      <th>age</th>\n",
       "      <th>city</th>\n",
       "      <th>subscription_type</th>\n",
       "      <th>distance</th>\n",
       "      <th>duration</th>\n",
       "      <th>date</th>\n",
       "      <th>month</th>\n",
       "      <th>minute_price</th>\n",
       "      <th>start_ride_price</th>\n",
       "      <th>subscription_fee</th>\n",
       "    </tr>\n",
       "  </thead>\n",
       "  <tbody>\n",
       "    <tr>\n",
       "      <th>6500</th>\n",
       "      <td>700</td>\n",
       "      <td>Айдар</td>\n",
       "      <td>22</td>\n",
       "      <td>Омск</td>\n",
       "      <td>free</td>\n",
       "      <td>2515.69</td>\n",
       "      <td>14.94</td>\n",
       "      <td>2021-01-02</td>\n",
       "      <td>1</td>\n",
       "      <td>8</td>\n",
       "      <td>50</td>\n",
       "      <td>0</td>\n",
       "    </tr>\n",
       "    <tr>\n",
       "      <th>6501</th>\n",
       "      <td>700</td>\n",
       "      <td>Айдар</td>\n",
       "      <td>22</td>\n",
       "      <td>Омск</td>\n",
       "      <td>free</td>\n",
       "      <td>846.93</td>\n",
       "      <td>16.23</td>\n",
       "      <td>2021-02-01</td>\n",
       "      <td>2</td>\n",
       "      <td>8</td>\n",
       "      <td>50</td>\n",
       "      <td>0</td>\n",
       "    </tr>\n",
       "    <tr>\n",
       "      <th>6502</th>\n",
       "      <td>700</td>\n",
       "      <td>Айдар</td>\n",
       "      <td>22</td>\n",
       "      <td>Омск</td>\n",
       "      <td>free</td>\n",
       "      <td>4004.43</td>\n",
       "      <td>20.02</td>\n",
       "      <td>2021-02-04</td>\n",
       "      <td>2</td>\n",
       "      <td>8</td>\n",
       "      <td>50</td>\n",
       "      <td>0</td>\n",
       "    </tr>\n",
       "    <tr>\n",
       "      <th>6503</th>\n",
       "      <td>700</td>\n",
       "      <td>Айдар</td>\n",
       "      <td>22</td>\n",
       "      <td>Омск</td>\n",
       "      <td>free</td>\n",
       "      <td>1205.91</td>\n",
       "      <td>9.78</td>\n",
       "      <td>2021-02-10</td>\n",
       "      <td>2</td>\n",
       "      <td>8</td>\n",
       "      <td>50</td>\n",
       "      <td>0</td>\n",
       "    </tr>\n",
       "    <tr>\n",
       "      <th>6504</th>\n",
       "      <td>700</td>\n",
       "      <td>Айдар</td>\n",
       "      <td>22</td>\n",
       "      <td>Омск</td>\n",
       "      <td>free</td>\n",
       "      <td>3047.38</td>\n",
       "      <td>17.43</td>\n",
       "      <td>2021-02-14</td>\n",
       "      <td>2</td>\n",
       "      <td>8</td>\n",
       "      <td>50</td>\n",
       "      <td>0</td>\n",
       "    </tr>\n",
       "    <tr>\n",
       "      <th>...</th>\n",
       "      <td>...</td>\n",
       "      <td>...</td>\n",
       "      <td>...</td>\n",
       "      <td>...</td>\n",
       "      <td>...</td>\n",
       "      <td>...</td>\n",
       "      <td>...</td>\n",
       "      <td>...</td>\n",
       "      <td>...</td>\n",
       "      <td>...</td>\n",
       "      <td>...</td>\n",
       "      <td>...</td>\n",
       "    </tr>\n",
       "    <tr>\n",
       "      <th>18063</th>\n",
       "      <td>1534</td>\n",
       "      <td>Альберт</td>\n",
       "      <td>25</td>\n",
       "      <td>Краснодар</td>\n",
       "      <td>free</td>\n",
       "      <td>3781.10</td>\n",
       "      <td>19.82</td>\n",
       "      <td>2021-11-04</td>\n",
       "      <td>11</td>\n",
       "      <td>8</td>\n",
       "      <td>50</td>\n",
       "      <td>0</td>\n",
       "    </tr>\n",
       "    <tr>\n",
       "      <th>18064</th>\n",
       "      <td>1534</td>\n",
       "      <td>Альберт</td>\n",
       "      <td>25</td>\n",
       "      <td>Краснодар</td>\n",
       "      <td>free</td>\n",
       "      <td>2840.42</td>\n",
       "      <td>21.41</td>\n",
       "      <td>2021-11-16</td>\n",
       "      <td>11</td>\n",
       "      <td>8</td>\n",
       "      <td>50</td>\n",
       "      <td>0</td>\n",
       "    </tr>\n",
       "    <tr>\n",
       "      <th>18065</th>\n",
       "      <td>1534</td>\n",
       "      <td>Альберт</td>\n",
       "      <td>25</td>\n",
       "      <td>Краснодар</td>\n",
       "      <td>free</td>\n",
       "      <td>3826.19</td>\n",
       "      <td>18.44</td>\n",
       "      <td>2021-11-18</td>\n",
       "      <td>11</td>\n",
       "      <td>8</td>\n",
       "      <td>50</td>\n",
       "      <td>0</td>\n",
       "    </tr>\n",
       "    <tr>\n",
       "      <th>18066</th>\n",
       "      <td>1534</td>\n",
       "      <td>Альберт</td>\n",
       "      <td>25</td>\n",
       "      <td>Краснодар</td>\n",
       "      <td>free</td>\n",
       "      <td>2902.31</td>\n",
       "      <td>16.67</td>\n",
       "      <td>2021-11-27</td>\n",
       "      <td>11</td>\n",
       "      <td>8</td>\n",
       "      <td>50</td>\n",
       "      <td>0</td>\n",
       "    </tr>\n",
       "    <tr>\n",
       "      <th>18067</th>\n",
       "      <td>1534</td>\n",
       "      <td>Альберт</td>\n",
       "      <td>25</td>\n",
       "      <td>Краснодар</td>\n",
       "      <td>free</td>\n",
       "      <td>2371.71</td>\n",
       "      <td>15.89</td>\n",
       "      <td>2021-12-29</td>\n",
       "      <td>12</td>\n",
       "      <td>8</td>\n",
       "      <td>50</td>\n",
       "      <td>0</td>\n",
       "    </tr>\n",
       "  </tbody>\n",
       "</table>\n",
       "<p>11568 rows × 12 columns</p>\n",
       "</div>"
      ],
      "text/plain": [
       "       user_id     name  age       city subscription_type  distance  duration  \\\n",
       "6500       700    Айдар   22       Омск              free   2515.69     14.94   \n",
       "6501       700    Айдар   22       Омск              free    846.93     16.23   \n",
       "6502       700    Айдар   22       Омск              free   4004.43     20.02   \n",
       "6503       700    Айдар   22       Омск              free   1205.91      9.78   \n",
       "6504       700    Айдар   22       Омск              free   3047.38     17.43   \n",
       "...        ...      ...  ...        ...               ...       ...       ...   \n",
       "18063     1534  Альберт   25  Краснодар              free   3781.10     19.82   \n",
       "18064     1534  Альберт   25  Краснодар              free   2840.42     21.41   \n",
       "18065     1534  Альберт   25  Краснодар              free   3826.19     18.44   \n",
       "18066     1534  Альберт   25  Краснодар              free   2902.31     16.67   \n",
       "18067     1534  Альберт   25  Краснодар              free   2371.71     15.89   \n",
       "\n",
       "            date  month  minute_price  start_ride_price  subscription_fee  \n",
       "6500  2021-01-02      1             8                50                 0  \n",
       "6501  2021-02-01      2             8                50                 0  \n",
       "6502  2021-02-04      2             8                50                 0  \n",
       "6503  2021-02-10      2             8                50                 0  \n",
       "6504  2021-02-14      2             8                50                 0  \n",
       "...          ...    ...           ...               ...               ...  \n",
       "18063 2021-11-04     11             8                50                 0  \n",
       "18064 2021-11-16     11             8                50                 0  \n",
       "18065 2021-11-18     11             8                50                 0  \n",
       "18066 2021-11-27     11             8                50                 0  \n",
       "18067 2021-12-29     12             8                50                 0  \n",
       "\n",
       "[11568 rows x 12 columns]"
      ]
     },
     "execution_count": 34,
     "metadata": {},
     "output_type": "execute_result"
    }
   ],
   "source": [
    "df_free"
   ]
  },
  {
   "cell_type": "code",
   "execution_count": 35,
   "id": "77265cbf",
   "metadata": {},
   "outputs": [
    {
     "data": {
      "text/html": [
       "<div>\n",
       "<style scoped>\n",
       "    .dataframe tbody tr th:only-of-type {\n",
       "        vertical-align: middle;\n",
       "    }\n",
       "\n",
       "    .dataframe tbody tr th {\n",
       "        vertical-align: top;\n",
       "    }\n",
       "\n",
       "    .dataframe thead th {\n",
       "        text-align: right;\n",
       "    }\n",
       "</style>\n",
       "<table border=\"1\" class=\"dataframe\">\n",
       "  <thead>\n",
       "    <tr style=\"text-align: right;\">\n",
       "      <th></th>\n",
       "      <th>user_id</th>\n",
       "      <th>name</th>\n",
       "      <th>age</th>\n",
       "      <th>city</th>\n",
       "      <th>subscription_type</th>\n",
       "      <th>distance</th>\n",
       "      <th>duration</th>\n",
       "      <th>date</th>\n",
       "      <th>month</th>\n",
       "      <th>minute_price</th>\n",
       "      <th>start_ride_price</th>\n",
       "      <th>subscription_fee</th>\n",
       "    </tr>\n",
       "  </thead>\n",
       "  <tbody>\n",
       "    <tr>\n",
       "      <th>0</th>\n",
       "      <td>1</td>\n",
       "      <td>Кира</td>\n",
       "      <td>22</td>\n",
       "      <td>Тюмень</td>\n",
       "      <td>ultra</td>\n",
       "      <td>4409.92</td>\n",
       "      <td>25.60</td>\n",
       "      <td>2021-01-01</td>\n",
       "      <td>1</td>\n",
       "      <td>6</td>\n",
       "      <td>0</td>\n",
       "      <td>199</td>\n",
       "    </tr>\n",
       "    <tr>\n",
       "      <th>1</th>\n",
       "      <td>1</td>\n",
       "      <td>Кира</td>\n",
       "      <td>22</td>\n",
       "      <td>Тюмень</td>\n",
       "      <td>ultra</td>\n",
       "      <td>2617.59</td>\n",
       "      <td>15.82</td>\n",
       "      <td>2021-01-18</td>\n",
       "      <td>1</td>\n",
       "      <td>6</td>\n",
       "      <td>0</td>\n",
       "      <td>199</td>\n",
       "    </tr>\n",
       "    <tr>\n",
       "      <th>2</th>\n",
       "      <td>1</td>\n",
       "      <td>Кира</td>\n",
       "      <td>22</td>\n",
       "      <td>Тюмень</td>\n",
       "      <td>ultra</td>\n",
       "      <td>754.16</td>\n",
       "      <td>6.23</td>\n",
       "      <td>2021-04-20</td>\n",
       "      <td>4</td>\n",
       "      <td>6</td>\n",
       "      <td>0</td>\n",
       "      <td>199</td>\n",
       "    </tr>\n",
       "    <tr>\n",
       "      <th>3</th>\n",
       "      <td>1</td>\n",
       "      <td>Кира</td>\n",
       "      <td>22</td>\n",
       "      <td>Тюмень</td>\n",
       "      <td>ultra</td>\n",
       "      <td>2694.78</td>\n",
       "      <td>18.51</td>\n",
       "      <td>2021-08-11</td>\n",
       "      <td>8</td>\n",
       "      <td>6</td>\n",
       "      <td>0</td>\n",
       "      <td>199</td>\n",
       "    </tr>\n",
       "    <tr>\n",
       "      <th>4</th>\n",
       "      <td>1</td>\n",
       "      <td>Кира</td>\n",
       "      <td>22</td>\n",
       "      <td>Тюмень</td>\n",
       "      <td>ultra</td>\n",
       "      <td>4028.69</td>\n",
       "      <td>26.27</td>\n",
       "      <td>2021-08-28</td>\n",
       "      <td>8</td>\n",
       "      <td>6</td>\n",
       "      <td>0</td>\n",
       "      <td>199</td>\n",
       "    </tr>\n",
       "    <tr>\n",
       "      <th>...</th>\n",
       "      <td>...</td>\n",
       "      <td>...</td>\n",
       "      <td>...</td>\n",
       "      <td>...</td>\n",
       "      <td>...</td>\n",
       "      <td>...</td>\n",
       "      <td>...</td>\n",
       "      <td>...</td>\n",
       "      <td>...</td>\n",
       "      <td>...</td>\n",
       "      <td>...</td>\n",
       "      <td>...</td>\n",
       "    </tr>\n",
       "    <tr>\n",
       "      <th>6495</th>\n",
       "      <td>699</td>\n",
       "      <td>Оксана</td>\n",
       "      <td>22</td>\n",
       "      <td>Москва</td>\n",
       "      <td>ultra</td>\n",
       "      <td>3973.05</td>\n",
       "      <td>24.67</td>\n",
       "      <td>2021-08-29</td>\n",
       "      <td>8</td>\n",
       "      <td>6</td>\n",
       "      <td>0</td>\n",
       "      <td>199</td>\n",
       "    </tr>\n",
       "    <tr>\n",
       "      <th>6496</th>\n",
       "      <td>699</td>\n",
       "      <td>Оксана</td>\n",
       "      <td>22</td>\n",
       "      <td>Москва</td>\n",
       "      <td>ultra</td>\n",
       "      <td>3288.70</td>\n",
       "      <td>15.89</td>\n",
       "      <td>2021-09-12</td>\n",
       "      <td>9</td>\n",
       "      <td>6</td>\n",
       "      <td>0</td>\n",
       "      <td>199</td>\n",
       "    </tr>\n",
       "    <tr>\n",
       "      <th>6497</th>\n",
       "      <td>699</td>\n",
       "      <td>Оксана</td>\n",
       "      <td>22</td>\n",
       "      <td>Москва</td>\n",
       "      <td>ultra</td>\n",
       "      <td>3076.16</td>\n",
       "      <td>14.39</td>\n",
       "      <td>2021-09-26</td>\n",
       "      <td>9</td>\n",
       "      <td>6</td>\n",
       "      <td>0</td>\n",
       "      <td>199</td>\n",
       "    </tr>\n",
       "    <tr>\n",
       "      <th>6498</th>\n",
       "      <td>699</td>\n",
       "      <td>Оксана</td>\n",
       "      <td>22</td>\n",
       "      <td>Москва</td>\n",
       "      <td>ultra</td>\n",
       "      <td>4707.85</td>\n",
       "      <td>15.84</td>\n",
       "      <td>2021-10-17</td>\n",
       "      <td>10</td>\n",
       "      <td>6</td>\n",
       "      <td>0</td>\n",
       "      <td>199</td>\n",
       "    </tr>\n",
       "    <tr>\n",
       "      <th>6499</th>\n",
       "      <td>699</td>\n",
       "      <td>Оксана</td>\n",
       "      <td>22</td>\n",
       "      <td>Москва</td>\n",
       "      <td>ultra</td>\n",
       "      <td>3202.89</td>\n",
       "      <td>25.22</td>\n",
       "      <td>2021-12-03</td>\n",
       "      <td>12</td>\n",
       "      <td>6</td>\n",
       "      <td>0</td>\n",
       "      <td>199</td>\n",
       "    </tr>\n",
       "  </tbody>\n",
       "</table>\n",
       "<p>6500 rows × 12 columns</p>\n",
       "</div>"
      ],
      "text/plain": [
       "      user_id    name  age    city subscription_type  distance  duration  \\\n",
       "0           1    Кира   22  Тюмень             ultra   4409.92     25.60   \n",
       "1           1    Кира   22  Тюмень             ultra   2617.59     15.82   \n",
       "2           1    Кира   22  Тюмень             ultra    754.16      6.23   \n",
       "3           1    Кира   22  Тюмень             ultra   2694.78     18.51   \n",
       "4           1    Кира   22  Тюмень             ultra   4028.69     26.27   \n",
       "...       ...     ...  ...     ...               ...       ...       ...   \n",
       "6495      699  Оксана   22  Москва             ultra   3973.05     24.67   \n",
       "6496      699  Оксана   22  Москва             ultra   3288.70     15.89   \n",
       "6497      699  Оксана   22  Москва             ultra   3076.16     14.39   \n",
       "6498      699  Оксана   22  Москва             ultra   4707.85     15.84   \n",
       "6499      699  Оксана   22  Москва             ultra   3202.89     25.22   \n",
       "\n",
       "           date  month  minute_price  start_ride_price  subscription_fee  \n",
       "0    2021-01-01      1             6                 0               199  \n",
       "1    2021-01-18      1             6                 0               199  \n",
       "2    2021-04-20      4             6                 0               199  \n",
       "3    2021-08-11      8             6                 0               199  \n",
       "4    2021-08-28      8             6                 0               199  \n",
       "...         ...    ...           ...               ...               ...  \n",
       "6495 2021-08-29      8             6                 0               199  \n",
       "6496 2021-09-12      9             6                 0               199  \n",
       "6497 2021-09-26      9             6                 0               199  \n",
       "6498 2021-10-17     10             6                 0               199  \n",
       "6499 2021-12-03     12             6                 0               199  \n",
       "\n",
       "[6500 rows x 12 columns]"
      ]
     },
     "execution_count": 35,
     "metadata": {},
     "output_type": "execute_result"
    }
   ],
   "source": [
    "df_ultra"
   ]
  },
  {
   "cell_type": "markdown",
   "id": "421f0e76",
   "metadata": {},
   "source": [
    "<div class=\"alert alert-warning\">\n",
    "<b>⚠️ Комментарий ревьюера v1:</b> \n",
    "<br>После создания новых таблиц, не забывай проверять их размерность, чтобы убедиться, что ничего не потерялось. \n",
    "</div>"
   ]
  },
  {
   "cell_type": "markdown",
   "id": "e8077396",
   "metadata": {},
   "source": [
    "<div class=\"alert alert-info\">\n",
    "<b>Комментарий студента:</b>\n",
    "<br>Благодарю, рекомендация учтена🙂\n",
    "</div>"
   ]
  },
  {
   "cell_type": "code",
   "execution_count": 36,
   "id": "01b57823",
   "metadata": {},
   "outputs": [
    {
     "data": {
      "text/plain": [
       "count    11568.000000\n",
       "mean      3045.495284\n",
       "std       1246.173810\n",
       "min          0.860000\n",
       "25%       2366.560000\n",
       "50%       3114.650000\n",
       "75%       3905.695000\n",
       "max       7211.010000\n",
       "Name: distance, dtype: float64"
      ]
     },
     "execution_count": 36,
     "metadata": {},
     "output_type": "execute_result"
    }
   ],
   "source": [
    "#Опишем расстояние поездок для df_free\n",
    "df_free['distance'].describe()"
   ]
  },
  {
   "cell_type": "code",
   "execution_count": 37,
   "id": "c5950d80",
   "metadata": {},
   "outputs": [
    {
     "data": {
      "image/png": "[encoded data removed]",
      "text/plain": [
       "<Figure size 720x576 with 1 Axes>"
      ]
     },
     "metadata": {
      "needs_background": "light"
     },
     "output_type": "display_data"
    }
   ],
   "source": [
    "#визуализируем растояние поездок для df_free\n",
    "df_free['distance'].hist(bins = 30, grid=True, figsize = (10,8), legend=True)\n",
    "plt.title('Зависимость количества пользователей от растояния поездки(free)')\n",
    "plt.xlabel('Растояние поездки(м)')\n",
    "plt.ylabel('кол.')\n",
    "plt.show()"
   ]
  },
  {
   "cell_type": "markdown",
   "id": "899bcdce",
   "metadata": {},
   "source": [
    "Наибольшое количество пользователей без подписки преодолевали расстояние в диапозоне от 2366 до 3905 м"
   ]
  },
  {
   "cell_type": "code",
   "execution_count": 38,
   "id": "e31e3798",
   "metadata": {},
   "outputs": [
    {
     "data": {
      "text/plain": [
       "count    11568.000000\n",
       "mean        17.390900\n",
       "std          6.326821\n",
       "min          0.500000\n",
       "25%         12.960000\n",
       "50%         17.330000\n",
       "75%         21.592500\n",
       "max         34.950000\n",
       "Name: duration, dtype: float64"
      ]
     },
     "execution_count": 38,
     "metadata": {},
     "output_type": "execute_result"
    }
   ],
   "source": [
    "#Опишем продолжительность поездок df_free\n",
    "df_free['duration'].describe()"
   ]
  },
  {
   "cell_type": "code",
   "execution_count": 39,
   "id": "442a3dad",
   "metadata": {},
   "outputs": [
    {
     "data": {
      "image/png": "[encoded data removed]",
      "text/plain": [
       "<Figure size 720x576 with 1 Axes>"
      ]
     },
     "metadata": {
      "needs_background": "light"
     },
     "output_type": "display_data"
    }
   ],
   "source": [
    "#визуализируем продолжительность поездок для df_free\n",
    "df_free['duration'].hist(bins = 30, grid=True, figsize = (10,8), legend=True)\n",
    "plt.title('Зависимость количества пользователей от продолжительности поездки(free)')\n",
    "plt.xlabel('Продолжительность поездки (мин)')\n",
    "plt.ylabel('кол.')\n",
    "plt.show()"
   ]
  },
  {
   "cell_type": "markdown",
   "id": "74177e26",
   "metadata": {},
   "source": [
    "У наибольшего количества пользователей без подписки продолжительность поездки составляет от 12.96 до 21.59 мин"
   ]
  },
  {
   "cell_type": "code",
   "execution_count": 40,
   "id": "94fff626",
   "metadata": {},
   "outputs": [
    {
     "data": {
      "text/plain": [
       "count    6500.000000\n",
       "mean     3115.445431\n",
       "std       836.895369\n",
       "min       244.210000\n",
       "25%      2785.447500\n",
       "50%      3148.640000\n",
       "75%      3560.577500\n",
       "max      5699.770000\n",
       "Name: distance, dtype: float64"
      ]
     },
     "execution_count": 40,
     "metadata": {},
     "output_type": "execute_result"
    }
   ],
   "source": [
    "#опишем растояние поездки для df_ultra\n",
    "df_ultra['distance'].describe()"
   ]
  },
  {
   "cell_type": "code",
   "execution_count": 41,
   "id": "4af9b9c6",
   "metadata": {},
   "outputs": [
    {
     "data": {
      "image/png": "[encoded data removed]",
      "text/plain": [
       "<Figure size 720x576 with 1 Axes>"
      ]
     },
     "metadata": {
      "needs_background": "light"
     },
     "output_type": "display_data"
    }
   ],
   "source": [
    "#визуализируем растояние поездок для df_ultra\n",
    "df_ultra['distance'].hist(bins = 30, grid=True, figsize = (10,8), legend=True)\n",
    "plt.title('Зависимость количества пользователей от растояния поездки(ultra)')\n",
    "plt.xlabel('Растояние поездки(м)')\n",
    "plt.ylabel('кол.')\n",
    "plt.show()"
   ]
  },
  {
   "cell_type": "markdown",
   "id": "b3fe0324",
   "metadata": {},
   "source": [
    "Наибольшое количество пользователей c подпиской преодолевали расстояние в диапозоне от 2785 до 3560 м"
   ]
  },
  {
   "cell_type": "code",
   "execution_count": 42,
   "id": "d88e6cc4",
   "metadata": {},
   "outputs": [
    {
     "data": {
      "text/plain": [
       "count    6500.000000\n",
       "mean       18.542017\n",
       "std         5.572065\n",
       "min         3.760000\n",
       "25%        14.527500\n",
       "50%        18.180000\n",
       "75%        21.880000\n",
       "max        40.820000\n",
       "Name: duration, dtype: float64"
      ]
     },
     "execution_count": 42,
     "metadata": {},
     "output_type": "execute_result"
    }
   ],
   "source": [
    "#Опишем продолжительность поездок для df_ultra\n",
    "df_ultra['duration'].describe()"
   ]
  },
  {
   "cell_type": "code",
   "execution_count": 43,
   "id": "7a41447a",
   "metadata": {},
   "outputs": [
    {
     "data": {
      "image/png": "[encoded data removed]",
      "text/plain": [
       "<Figure size 720x576 with 1 Axes>"
      ]
     },
     "metadata": {
      "needs_background": "light"
     },
     "output_type": "display_data"
    }
   ],
   "source": [
    "#визуализируем продолжительность поездок для df_ultra\n",
    "df_free['duration'].hist(bins = 30, grid=True, figsize = (10,8), legend=True)\n",
    "plt.title('Зависимость количества пользователей от продолжительности поездки(ultra)')\n",
    "plt.xlabel('Продолжительность поездки (мин)')\n",
    "plt.ylabel('кол.')\n",
    "plt.show()"
   ]
  },
  {
   "cell_type": "markdown",
   "id": "c77a5bc5",
   "metadata": {},
   "source": [
    "У наибольшего количества пользователей с подпиской продолжительность поездки составляет от 14.52 до 21.88 мин"
   ]
  },
  {
   "cell_type": "code",
   "execution_count": 44,
   "id": "ea36b958",
   "metadata": {},
   "outputs": [
    {
     "data": {
      "image/png": "[encoded data removed]",
      "text/plain": [
       "<Figure size 720x576 with 1 Axes>"
      ]
     },
     "metadata": {
      "needs_background": "light"
     },
     "output_type": "display_data"
    }
   ],
   "source": [
    "#Совместил распределения в сооветсвии с рекомендацией\n",
    "ax = df_free['distance'].plot(kind = 'hist', grid=True, figsize = (10,8), bins = 30, label='Free')\n",
    "ax = df_ultra['distance'].plot(kind = 'hist', grid=True, figsize = (10,8), bins = 30, label='Ultra')\n",
    "plt.title('Зависимость количества пользователей от растояния поездки')\n",
    "plt.xlabel('расстояние, (м)')\n",
    "plt.ylabel('кол.')\n",
    "plt.legend(loc='upper right')\n",
    "plt.show()"
   ]
  },
  {
   "cell_type": "code",
   "execution_count": 45,
   "id": "e582ae42",
   "metadata": {},
   "outputs": [
    {
     "data": {
      "image/png": "[encoded data removed]",
      "text/plain": [
       "<Figure size 720x576 with 1 Axes>"
      ]
     },
     "metadata": {
      "needs_background": "light"
     },
     "output_type": "display_data"
    }
   ],
   "source": [
    "ax = df_free['duration'].plot(kind = 'hist', grid=True, figsize = (10,8), bins = 30, label='Free')\n",
    "ax = df_ultra['duration'].plot(kind = 'hist', grid=True, figsize = (10,8), bins = 30, label='Ultra')\n",
    "plt.title('Зависимость количества пользователей от продолжительности поездки')\n",
    "plt.xlabel('продолжительность, (мин)')\n",
    "plt.ylabel('кол.')\n",
    "plt.legend(loc='upper right')\n",
    "plt.show()"
   ]
  },
  {
   "cell_type": "markdown",
   "id": "90fb1858",
   "metadata": {},
   "source": [
    "<div style=\"background-color:aliceblue;padding:25px;\"> Промежуточный вывод:\n",
    "<li>Объединены данные о пользователях, поездках и подписках в один датафрейм(df)</li>\n",
    "<li>Созданы df_free и df_ultra из датафрейма df</li>\n",
    "<li>Визуализирована информация о расстоянии и времени поездок для пользователей обеих категорий.</li>\n",
    "</div>"
   ]
  },
  {
   "cell_type": "markdown",
   "id": "4fa0fd70",
   "metadata": {},
   "source": [
    "<div class=\"alert alert-success\">\n",
    "<b>✔️ Комментарий ревьюера v1:</b>\n",
    "<br>Вывод верный!\n",
    "</div>\n",
    "\n",
    "<div class=\"alert alert-warning\">\n",
    "<b>⚠️ Комментарий ревьюера v1:</b> \n",
    "<br>Здесь можно было бы наложить графики распределений друг на друга, чтобы их было проще сравнить друг с другом\n",
    "</div>"
   ]
  },
  {
   "cell_type": "markdown",
   "id": "31498577",
   "metadata": {},
   "source": [
    "<div class=\"alert alert-info\">\n",
    "<b>Комментарий студента:</b>\n",
    "<br>Благодарю, рекомендация учтена🙂\n",
    "</div>"
   ]
  },
  {
   "cell_type": "markdown",
   "id": "7cc7e966",
   "metadata": {},
   "source": [
    "<div class=\"alert alert-success\">\n",
    "<b>✔️ Комментарий ревьюера v2:</b>\n",
    "<br>Красота!\n",
    "</div>"
   ]
  },
  {
   "cell_type": "markdown",
   "id": "402d620f",
   "metadata": {},
   "source": [
    "#### Шаг 5. Подсчёт выручки"
   ]
  },
  {
   "cell_type": "markdown",
   "id": "fdbdbea7",
   "metadata": {},
   "source": [
    "<div>\n",
    "<ol>Создайте датафрейм с агрегированными данными о поездках на основе датафрейма с объединёнными данными из шага 4: найдите суммарное расстояние, количество поездок и суммарное время для каждого пользователя за каждый месяц.</ol>\n",
    "<ol>В этот же датафрейм добавьте столбец с помесячной выручкой, которую принёс каждый пользователь. Для этого обратитесь к информации об условиях оплаты для подписчиков и тех, у кого нет подписки. Продолжительность каждой поездки в каждой строке исходного датафрейма для подсчёта стоимости округляется до следующего целого числа: например, значения 25.3, 25.5  и 26.0 должны быть преобразованы к 26.</ol>\n",
    "<ol>Помесячная выручка считается по формуле: стоимость старта поездки X количество поездок + стоимость одной минуты поездки X общая продолжительность всех поездок в минутах + стоимость подписки.</ol>\n",
    "</div>\n"
   ]
  },
  {
   "cell_type": "code",
   "execution_count": 46,
   "id": "90e09d6b",
   "metadata": {},
   "outputs": [],
   "source": [
    "#Округлим продолжительность поездки\n",
    "df['duration'] = np.ceil(df['duration'])"
   ]
  },
  {
   "cell_type": "markdown",
   "id": "fbd3c8fa",
   "metadata": {},
   "source": [
    "<div class=\"alert alert-success\">\n",
    "<b>✔️ Комментарий ревьюера v1:</b>\n",
    "<br>Верно! Округлить длительности каждой поездки нужно до того, как ты перейдешь к расчетам revenue\n",
    "</div>"
   ]
  },
  {
   "cell_type": "code",
   "execution_count": 47,
   "id": "7ff1baff",
   "metadata": {},
   "outputs": [],
   "source": [
    "#Создаем датафрейм с агрегированными данными\n",
    "df_agr = df.pivot_table(index=('user_id', 'month'), \\\n",
    "    values=('distance', 'duration', 'minute_price', 'start_ride_price', 'subscription_fee'), \\\n",
    "    aggfunc=({'distance':{'count', 'sum'}, \\\n",
    "             'duration':'sum', 'minute_price': 'mean','start_ride_price':'mean',\n",
    "             'subscription_fee':'mean'}))\n",
    "df_agr.columns =['count', 'sum_distance', 'sum_duration', 'minute_price', 'start_ride_price','subscription_fee']"
   ]
  },
  {
   "cell_type": "code",
   "execution_count": 48,
   "id": "068cca67",
   "metadata": {},
   "outputs": [
    {
     "data": {
      "text/html": [
       "<div>\n",
       "<style scoped>\n",
       "    .dataframe tbody tr th:only-of-type {\n",
       "        vertical-align: middle;\n",
       "    }\n",
       "\n",
       "    .dataframe tbody tr th {\n",
       "        vertical-align: top;\n",
       "    }\n",
       "\n",
       "    .dataframe thead th {\n",
       "        text-align: right;\n",
       "    }\n",
       "</style>\n",
       "<table border=\"1\" class=\"dataframe\">\n",
       "  <thead>\n",
       "    <tr style=\"text-align: right;\">\n",
       "      <th></th>\n",
       "      <th></th>\n",
       "      <th>count</th>\n",
       "      <th>sum_distance</th>\n",
       "      <th>sum_duration</th>\n",
       "      <th>minute_price</th>\n",
       "      <th>start_ride_price</th>\n",
       "      <th>subscription_fee</th>\n",
       "      <th>revenue</th>\n",
       "    </tr>\n",
       "    <tr>\n",
       "      <th>user_id</th>\n",
       "      <th>month</th>\n",
       "      <th></th>\n",
       "      <th></th>\n",
       "      <th></th>\n",
       "      <th></th>\n",
       "      <th></th>\n",
       "      <th></th>\n",
       "      <th></th>\n",
       "    </tr>\n",
       "  </thead>\n",
       "  <tbody>\n",
       "    <tr>\n",
       "      <th rowspan=\"5\" valign=\"top\">1</th>\n",
       "      <th>1</th>\n",
       "      <td>2</td>\n",
       "      <td>7027.51</td>\n",
       "      <td>42.0</td>\n",
       "      <td>6</td>\n",
       "      <td>0</td>\n",
       "      <td>199</td>\n",
       "      <td>451.0</td>\n",
       "    </tr>\n",
       "    <tr>\n",
       "      <th>4</th>\n",
       "      <td>1</td>\n",
       "      <td>754.16</td>\n",
       "      <td>7.0</td>\n",
       "      <td>6</td>\n",
       "      <td>0</td>\n",
       "      <td>199</td>\n",
       "      <td>241.0</td>\n",
       "    </tr>\n",
       "    <tr>\n",
       "      <th>8</th>\n",
       "      <td>2</td>\n",
       "      <td>6723.47</td>\n",
       "      <td>46.0</td>\n",
       "      <td>6</td>\n",
       "      <td>0</td>\n",
       "      <td>199</td>\n",
       "      <td>475.0</td>\n",
       "    </tr>\n",
       "    <tr>\n",
       "      <th>10</th>\n",
       "      <td>2</td>\n",
       "      <td>5809.91</td>\n",
       "      <td>32.0</td>\n",
       "      <td>6</td>\n",
       "      <td>0</td>\n",
       "      <td>199</td>\n",
       "      <td>391.0</td>\n",
       "    </tr>\n",
       "    <tr>\n",
       "      <th>11</th>\n",
       "      <td>3</td>\n",
       "      <td>7003.50</td>\n",
       "      <td>56.0</td>\n",
       "      <td>6</td>\n",
       "      <td>0</td>\n",
       "      <td>199</td>\n",
       "      <td>535.0</td>\n",
       "    </tr>\n",
       "  </tbody>\n",
       "</table>\n",
       "</div>"
      ],
      "text/plain": [
       "               count  sum_distance  sum_duration  minute_price  \\\n",
       "user_id month                                                    \n",
       "1       1          2       7027.51          42.0             6   \n",
       "        4          1        754.16           7.0             6   \n",
       "        8          2       6723.47          46.0             6   \n",
       "        10         2       5809.91          32.0             6   \n",
       "        11         3       7003.50          56.0             6   \n",
       "\n",
       "               start_ride_price  subscription_fee  revenue  \n",
       "user_id month                                               \n",
       "1       1                     0               199    451.0  \n",
       "        4                     0               199    241.0  \n",
       "        8                     0               199    475.0  \n",
       "        10                    0               199    391.0  \n",
       "        11                    0               199    535.0  "
      ]
     },
     "execution_count": 48,
     "metadata": {},
     "output_type": "execute_result"
    }
   ],
   "source": [
    "#Добавляем столбец с помесячной выручкой\n",
    "df_agr['revenue'] = (\n",
    "    df_agr['start_ride_price']*df_agr['count']\n",
    "    +df_agr['minute_price']*df_agr['sum_duration']+df_agr['subscription_fee'])\n",
    "df_agr.head()"
   ]
  },
  {
   "cell_type": "markdown",
   "id": "98f15247",
   "metadata": {},
   "source": [
    "<div style=\"background-color:aliceblue;padding:25px;\"> Промежуточный вывод:\n",
    "<li>Создан датафрейм с агрегированными данными</li>\n",
    "<li>Округлена продолжительность поездки с помощью np.ceil</li>\n",
    "<li>Добавлен столбец с помесячной выручкой</li>\n",
    "</div>"
   ]
  },
  {
   "cell_type": "markdown",
   "id": "30febfca",
   "metadata": {},
   "source": [
    "<div class=\"alert alert-success\">\n",
    "<b>✔️ Комментарий ревьюера v1:</b>\n",
    "<br>Выручка расчитана верно!\n",
    "</div>"
   ]
  },
  {
   "cell_type": "markdown",
   "id": "41545ac0",
   "metadata": {},
   "source": [
    "#### Шаг 6. Проверка гипотез"
   ]
  },
  {
   "cell_type": "markdown",
   "id": "368740dc",
   "metadata": {},
   "source": [
    "\n",
    "6.1 Важно понять, тратят ли пользователи с подпиской больше времени на поездки? Если да, то пользователи с подпиской могут быть «выгоднее» для компании. Проверьте гипотезу. Используйте исходные данные о продолжительности каждой сессии — отдельно для подписчиков и тех, у кого нет подписки.\n",
    "\n",
    "6.2 Расстояние одной поездки в 3130 метров — оптимальное с точки зрения износа самоката. Можно ли сказать, что среднее расстояние, которое проезжают пользователи с подпиской за одну поездку, не превышает 3130 метров? Проверьте гипотезу и сделайте выводы.\n",
    "\n",
    "6.3 Проверьте гипотезу о том, будет ли помесячная выручка от пользователей с подпиской по месяцам выше, чем выручка от пользователей без подписки. Сделайте вывод.\n",
    "\n",
    "6.4 Представьте такую ситуацию: техническая команда сервиса обновила сервера, с которыми взаимодействует мобильное приложение. Она надеется, что из-за этого количество обращений в техподдержку значимо снизилось. Некоторый файл содержит для каждого пользователя данные о количестве обращений до обновления и после него. Какой тест вам понадобился бы для проверки этой гипотезы?"
   ]
  },
  {
   "cell_type": "markdown",
   "id": "8edc50a4",
   "metadata": {},
   "source": [
    "<li>H0: Затраты времени на поездки у пользователей равны</li>\n",
    "<li>H1: Затраты времени на поездки у пользователей c подпиской больше чем у людей без подписки</li>"
   ]
  },
  {
   "cell_type": "markdown",
   "id": "288ced30",
   "metadata": {},
   "source": [
    "<div class=\"alert alert-success\">\n",
    "<b>✔️ Комментарий ревьюера v1:</b>\n",
    "<br>Гипотезы сформулированы верно\n",
    "</div>"
   ]
  },
  {
   "cell_type": "code",
   "execution_count": 49,
   "id": "64c2820d",
   "metadata": {},
   "outputs": [
    {
     "name": "stdout",
     "output_type": "stream",
     "text": [
      "p-значение: 1.274138957151199e-34\n",
      "Отвергаем нулевую гипотезу\n"
     ]
    }
   ],
   "source": [
    "#Проверяем гипотезу о соотношении временных затрат поездок пользователей\n",
    "results = st.ttest_ind(df_ultra['duration'] ,df_free['duration'],alternative = 'greater')\n",
    "alpha = 0.05\n",
    "print('p-значение:',results.pvalue)\n",
    "if results.pvalue < alpha:\n",
    "    print('Отвергаем нулевую гипотезу')\n",
    "else:\n",
    "    print('Не удалось отвергнуть нулевую гипотезу')"
   ]
  },
  {
   "cell_type": "markdown",
   "id": "4df2f9e6",
   "metadata": {},
   "source": [
    "<li>H0: Среднее растояние, которое проезжает пользователь с подпиской  = 3130 м </li>\n",
    "<li>H1: Среднее растояние, которое проезжает пользователь с подпиской  меньше 3130 м </li>"
   ]
  },
  {
   "cell_type": "code",
   "execution_count": 50,
   "id": "2527eb39",
   "metadata": {},
   "outputs": [
    {
     "name": "stdout",
     "output_type": "stream",
     "text": [
      "p-значение: 0.0804637394157586\n",
      "Не получилось отвергнуть нулевую гипотезу\n"
     ]
    }
   ],
   "source": [
    "avg_distance = 3130\n",
    "alpha = 0.05\n",
    "results = st.ttest_1samp(df_ultra['distance'], avg_distance,alternative='less')\n",
    "print('p-значение:',results.pvalue)\n",
    "if results.pvalue < alpha:\n",
    "    print('Отвергаем нулевую гипотезу')\n",
    "else:\n",
    "    print('Не получилось отвергнуть нулевую гипотезу')"
   ]
  },
  {
   "cell_type": "markdown",
   "id": "d053fb45",
   "metadata": {},
   "source": [
    "<li>H0: Помесячная выручка от пользователей с подпиской по месяцам = помесячной выручке от пользователей без подписки</li>\n",
    "<li>H1: Помесячная выручка от пользователей с подпиской по месяцам > помесячной выручки от пользователей без подписки</li>"
   ]
  },
  {
   "cell_type": "markdown",
   "id": "cb1aba75",
   "metadata": {},
   "source": [
    "<div class=\"alert alert-success\">\n",
    "<b>✔️ Комментарий ревьюера v1:</b>\n",
    "<br>Гипотезы сформулированы верно\n",
    "</div>"
   ]
  },
  {
   "cell_type": "code",
   "execution_count": 51,
   "id": "b8d7cdfc",
   "metadata": {},
   "outputs": [
    {
     "name": "stdout",
     "output_type": "stream",
     "text": [
      "p-значение: 1.8164914860049708e-31\n",
      "Отвергаем нулевую гипотезу\n"
     ]
    }
   ],
   "source": [
    "results = st.ttest_ind(df_agr.loc[df_agr['subscription_fee'] > 0,'revenue'],\n",
    "                       df_agr.loc[df_agr['subscription_fee'] == 0,'revenue'],\n",
    "                       alternative = 'greater')\n",
    "alpha = 0.05\n",
    "print('p-значение:',results.pvalue)\n",
    "if results.pvalue < alpha:\n",
    "    print('Отвергаем нулевую гипотезу')\n",
    "else:\n",
    "    print('Не удалось отвергнуть нулевую гипотезу')"
   ]
  },
  {
   "cell_type": "markdown",
   "id": "876181c4",
   "metadata": {},
   "source": [
    "scipy.stats.ttest_rel() - предполагаемый тест для проверки гипотезы о снижении количества обращений в связи с обновлением сервеса"
   ]
  },
  {
   "cell_type": "markdown",
   "id": "39988ea8",
   "metadata": {},
   "source": [
    "<div class=\"alert alert-success\">\n",
    "<b>✔️ Комментарий ревьюера v1:</b>\n",
    "<br>Метод выбран верно!\n",
    "</div>"
   ]
  },
  {
   "cell_type": "markdown",
   "id": "f1ac34e2",
   "metadata": {},
   "source": [
    "<div style=\"background-color:aliceblue;padding:25px;\"> Промежуточный вывод:\n",
    "<li>Выполнены тесты по проверке гипотез в соответсвии с шагом 6 данного проетка</li>\n",
    "<li>Можно предположить, что затраты времени на поездки у пользователей c подпиской больше чем у людей без подписки</li>\n",
    "<li>Можно предположить, что пользователи с подпиской проезжают расстояние, не превышающее 3130 метров за одну поездку</li>\n",
    "<li>Можно предположить, что помесячная выручка от пользователей с подпиской по месяцам больше помесячной выручки от пользователей без подписки</li>\n",
    "<li>scipy.stats.ttest_rel() - предполагаемый тест для проверки гипотезы о снижении количества обращений в связи с обновлением сервеса</li>\n",
    "</div>"
   ]
  },
  {
   "cell_type": "markdown",
   "id": "671b2f41",
   "metadata": {},
   "source": [
    "<div class=\"alert alert-success\">\n",
    "<b>✔️ Комментарий ревьюера v1:</b>\n",
    "<br>Выводы верные\n",
    "</div>"
   ]
  },
  {
   "cell_type": "markdown",
   "id": "61213c5e",
   "metadata": {},
   "source": [
    "#### Шаг 7. Распределения"
   ]
  },
  {
   "cell_type": "markdown",
   "id": "1dec7fce",
   "metadata": {},
   "source": [
    "<div style=\"border:solid Purple 2px; padding: 40px\" > \n",
    "    <u><b> Общий вывод</b></u>\n",
    "    В процессе реализации проекта было выполнено:\n",
    "<ol> 1)Выполнена загрузка данных </ol>\n",
    "<ol> 2)Выполнена предобработка данных </ol>\n",
    "<ol> 3)Выполнен исследовательский анализ данных </ol>    \n",
    "<ol> 4)Выполнено объединение данных</ol>\n",
    "<ol> 5)Выполнен подсчёт выручки </ol>\n",
    "<ol> 6)Выполнена проверка гипотез </ol>\n",
    "<ol> 7)Распределения не выполнялись (является не обязательным заданием) - не выполнялись по причине отсутвия времени в связи с высокой загрузкой на работе. </ol>\n",
    "При выполнении загрузки данных:\n",
    "<li>CSV-файлы считаны и сохранены в датафреймы.</li>\n",
    "<li>Первые строки датафреймов выведены</li>\n",
    "<li>Общая информация о датафреймах изучена</li>\n",
    "При выполнении предобработки данных:\n",
    "<li>Столбец date приведен к типу даты pandas.</li>\n",
    "<li>Создан столбец month с номером месяца на основе столбца date.</li>\n",
    "<li>Выполнена проверка пропущенных значений. Пропущенные значения не обнаружены. В таблице users удалены явные дубликаты. Неявных дубликатов не обнаружено.</li>\n",
    "<li>Значения столбцов distance и duration округлены до двух знаков после запятой</li>\n",
    "    \n",
    "При выполнении исследовательского анализа данных:\n",
    "<li>Описана и визуализирована информация о частота встречаемости городов.Наиболее часто всречающийся город Пятигорск, наименее часто встречающийся Москва.</li>\n",
    "<li>Описана и визуализирована информация о соотношении пользователей с подпиской и без подписки.Доля пользователей без подписки больше доли пользователей с подпиской.</li>\n",
    "<li>Описана и визуализирована информация о возрасте пользователей.Наибольшее количество пользователей с возрастом от 22 до 28 лет.</li>\n",
    "<li>Описана и визуализирована информация о расстоянии, которое пользователь преодолел за одну поездку.Наибольшая часть пользователей преодолевала расстояние за одну поездку в диапазоне от 2543 до 3776 м.</li>\n",
    "<li>Описана и визуализирована информация о продолжительности поездок.У наибольшего количества пользователей продолжительность поездки составляет от 13.6 до 21.72 мин</li>\n",
    "    \n",
    "При выполнении объединения данных:\n",
    "<li>Объединены данные о пользователях, поездках и подписках в один датафрейм(df)</li>\n",
    "<li>Созданы df_free и df_ultra из датафрейма df</li>\n",
    "<li>Визуализирована информация о расстоянии и времени поездок для пользователей обеих категорий: </li> \n",
    "<ol>Наибольшое количество пользователей без подписки преодолевали расстояние в диапозоне от 2366 до 3905 м</ol>\n",
    "<ol>Наибольшое количество пользователей c подпиской преодолевали расстояние в диапозоне от 2785 до 3560 м</ol>\n",
    "<ol>У наибольшего количества пользователей без подписки продолжительность поездки составляет от 12.96 до 21.59 мин</ol>\n",
    "<ol>У наибольшего количества пользователей с подпиской продолжительность поездки составляет от 14.52 до 21.88 мин</ol>\n",
    "\n",
    "При подсчете выручки:\n",
    "<li>Создан датафрейм с агрегированными данными</li>\n",
    "<li>Округлена продолжительность поездки с помощью np.ceil</li>\n",
    "<li>Добавлен столбец с помесячной выручкой</li>\n",
    "    \n",
    "При проверке гипотез:\n",
    "<li>Выполнены тесты по проверке гипотез в соответсвии с шагом 6 данного проетка</li>\n",
    "<ol>Можно предположить, что затраты времени на поездки у пользователей c подпиской больше чем у людей без подписки</ol>\n",
    "<ol>Можно предположить, что пользователи с подпиской проезжают расстояние, не превышающее 3130 метров за одну поездку</ol>\n",
    "<ol>Можно предположить, что помесячная выручка от пользователей с подпиской по месяцам больше помесячной выручки от пользователей без подписки</ol>\n",
    "<ol>scipy.stats.ttest_rel() - предполагаемый тест для проверки гипотезы о снижении количества обращений в связи с обновлением сервеса </ol>\n",
    "    \n",
    "</div>"
   ]
  },
  {
   "cell_type": "markdown",
   "id": "7d7c8626",
   "metadata": {},
   "source": [
    "<div class=\"alert alert-danger\">\n",
    "<b>❌ Комментарий ревьюера v1:</b> \n",
    "<br>Давай увеличим объем вывода, чтобы он получится более подробным. Хорошей практикой является написание в общем выводе всех твоих действий (кратко) по проекту. А после этого нужно написать общий вывод использую информацию из промежуточных выводов после каждого раздела. Твой вывод раскрывает для заказчика всю твою проделанную работу и за что он платит деньги, даже если ему не интересен весь процесс исследования, то в отчёт он заглянет обязательно. \n",
    "</div>"
   ]
  },
  {
   "cell_type": "markdown",
   "id": "c51a7d9b",
   "metadata": {},
   "source": [
    "<div class=\"alert alert-info\">\n",
    "<b>Комментарий студента:</b>\n",
    "<br>Благодарю, замечание устранено 🙂\n",
    "</div>"
   ]
  },
  {
   "cell_type": "markdown",
   "id": "abe3e895",
   "metadata": {},
   "source": [
    "<div class=\"alert alert-success\">\n",
    "<b>✔️ Комментарий ревьюера v2:</b>\n",
    "<br>Супер! Так гораздо лучше)\n",
    "</div>"
   ]
  },
  {
   "cell_type": "markdown",
   "id": "2e997ac9",
   "metadata": {},
   "source": [
    "<div class=\"alert alert-danger\">\n",
    "<b>❌ Итоговый комментарий ревьюера v1:</b> \n",
    "<br>Необходимо поправить:\n",
    "<br>- дописать общий вывод\n",
    "\n",
    "</div>"
   ]
  },
  {
   "cell_type": "markdown",
   "id": "75d20cd8",
   "metadata": {},
   "source": [
    "<div class=\"alert alert-success\">\n",
    "<b>✔️ Итоговый комментарий ревьюера v2:</b>\n",
    "<br>Все правки выполнены. Молодец!\n",
    "<br>Я рад был поработать над проверкой твоей работы) В качестве дополнительного материала для изучения могу порекомендовать следующие материалы:\n",
    "\n",
    "    Курс \"Вероятность и статистика\" | Глеб Михайлов (free): https://www.youtube.com/playlist?list=PLQJ7ptkRY-xbHLLI66KdscKp_FJt0FsIi\n",
    "\n",
    "    Методы обнаружения выбросов: https://youtu.be/TOK7Kq7x0yc\n",
    "\n",
    "<br>Поздравляю со сдачей проекта и желаю удачи в дальнейшем обучении! 😉    \n",
    "</div>"
   ]
  }
 ],
 "metadata": {
  "ExecuteTimeLog": [
   {
    "duration": 1449,
    "start_time": "2024-03-24T19:18:01.674Z"
   },
   {
    "duration": 3,
    "start_time": "2024-03-24T19:18:03.917Z"
   },
   {
    "duration": 303,
    "start_time": "2024-03-24T19:22:12.838Z"
   },
   {
    "duration": 14,
    "start_time": "2024-03-24T19:23:40.280Z"
   },
   {
    "duration": 8,
    "start_time": "2024-03-24T19:24:07.779Z"
   },
   {
    "duration": 8,
    "start_time": "2024-03-24T19:24:12.450Z"
   },
   {
    "duration": 7,
    "start_time": "2024-03-24T19:24:16.920Z"
   },
   {
    "duration": 12,
    "start_time": "2024-03-24T19:25:36.464Z"
   },
   {
    "duration": 7,
    "start_time": "2024-03-24T19:25:41.244Z"
   },
   {
    "duration": 13,
    "start_time": "2024-03-24T19:26:15.204Z"
   },
   {
    "duration": 7,
    "start_time": "2024-03-24T19:26:59.552Z"
   },
   {
    "duration": 11,
    "start_time": "2024-03-24T19:28:13.324Z"
   },
   {
    "duration": 11,
    "start_time": "2024-03-24T19:29:42.637Z"
   },
   {
    "duration": 8,
    "start_time": "2024-03-24T19:42:27.659Z"
   },
   {
    "duration": 101,
    "start_time": "2024-03-24T19:44:28.790Z"
   },
   {
    "duration": 18,
    "start_time": "2024-03-24T19:44:43.412Z"
   },
   {
    "duration": 19,
    "start_time": "2024-03-24T19:44:49.318Z"
   },
   {
    "duration": 9,
    "start_time": "2024-03-24T19:45:32.227Z"
   },
   {
    "duration": 5,
    "start_time": "2024-03-24T19:47:42.429Z"
   },
   {
    "duration": 10,
    "start_time": "2024-03-24T19:48:20.946Z"
   },
   {
    "duration": 6,
    "start_time": "2024-03-24T19:50:42.663Z"
   },
   {
    "duration": 6,
    "start_time": "2024-03-24T19:50:47.942Z"
   },
   {
    "duration": 5,
    "start_time": "2024-03-24T19:50:52.190Z"
   },
   {
    "duration": 13,
    "start_time": "2024-03-24T19:52:52.060Z"
   },
   {
    "duration": 6,
    "start_time": "2024-03-24T19:53:20.278Z"
   },
   {
    "duration": 8,
    "start_time": "2024-03-24T19:54:39.549Z"
   },
   {
    "duration": 12,
    "start_time": "2024-03-24T19:55:01.678Z"
   },
   {
    "duration": 5,
    "start_time": "2024-03-24T19:57:02.953Z"
   },
   {
    "duration": 4,
    "start_time": "2024-03-24T20:03:53.323Z"
   },
   {
    "duration": 9,
    "start_time": "2024-03-24T20:04:15.554Z"
   },
   {
    "duration": 94,
    "start_time": "2024-03-24T20:07:41.498Z"
   },
   {
    "duration": 5,
    "start_time": "2024-03-24T20:09:06.825Z"
   },
   {
    "duration": 10,
    "start_time": "2024-03-24T20:10:48.707Z"
   },
   {
    "duration": 8,
    "start_time": "2024-03-24T20:11:36.677Z"
   },
   {
    "duration": 12,
    "start_time": "2024-03-24T20:12:08.525Z"
   },
   {
    "duration": 12,
    "start_time": "2024-03-24T20:16:15.162Z"
   },
   {
    "duration": 18,
    "start_time": "2024-03-24T20:16:24.178Z"
   },
   {
    "duration": 12,
    "start_time": "2024-03-24T20:16:59.600Z"
   },
   {
    "duration": 12,
    "start_time": "2024-03-24T20:17:50.093Z"
   },
   {
    "duration": 12,
    "start_time": "2024-03-24T20:17:55.197Z"
   },
   {
    "duration": 14,
    "start_time": "2024-03-24T20:19:15.984Z"
   },
   {
    "duration": 6,
    "start_time": "2024-03-24T20:19:57.072Z"
   },
   {
    "duration": 8,
    "start_time": "2024-03-24T20:21:06.305Z"
   },
   {
    "duration": 1345,
    "start_time": "2024-03-24T20:21:13.146Z"
   },
   {
    "duration": 1384,
    "start_time": "2024-03-24T20:21:26.456Z"
   },
   {
    "duration": 1286,
    "start_time": "2024-03-24T20:21:32.289Z"
   },
   {
    "duration": 4,
    "start_time": "2024-03-24T20:21:58.471Z"
   },
   {
    "duration": 1295,
    "start_time": "2024-03-24T20:22:07.361Z"
   },
   {
    "duration": 1349,
    "start_time": "2024-03-24T20:22:30.925Z"
   },
   {
    "duration": 1219,
    "start_time": "2024-03-24T20:23:09.186Z"
   },
   {
    "duration": 1239,
    "start_time": "2024-03-24T20:23:41.651Z"
   },
   {
    "duration": 15,
    "start_time": "2024-03-24T20:25:05.123Z"
   },
   {
    "duration": 7,
    "start_time": "2024-03-24T20:25:59.629Z"
   },
   {
    "duration": 1052,
    "start_time": "2024-03-24T20:26:29.923Z"
   },
   {
    "duration": 1237,
    "start_time": "2024-03-24T20:26:49.720Z"
   },
   {
    "duration": 5,
    "start_time": "2024-03-24T20:27:04.938Z"
   },
   {
    "duration": 9,
    "start_time": "2024-03-24T20:28:32.380Z"
   },
   {
    "duration": 5,
    "start_time": "2024-03-24T20:28:40.533Z"
   },
   {
    "duration": 5,
    "start_time": "2024-03-24T20:32:17.683Z"
   },
   {
    "duration": 6,
    "start_time": "2024-03-24T20:32:49.373Z"
   },
   {
    "duration": 4,
    "start_time": "2024-03-24T20:34:23.601Z"
   },
   {
    "duration": 4,
    "start_time": "2024-03-24T20:35:26.818Z"
   },
   {
    "duration": 9,
    "start_time": "2024-03-24T20:36:53.345Z"
   },
   {
    "duration": 48,
    "start_time": "2024-03-25T18:17:51.688Z"
   },
   {
    "duration": 1269,
    "start_time": "2024-03-25T18:17:59.094Z"
   },
   {
    "duration": 313,
    "start_time": "2024-03-25T18:18:00.365Z"
   },
   {
    "duration": 13,
    "start_time": "2024-03-25T18:18:00.680Z"
   },
   {
    "duration": 146,
    "start_time": "2024-03-25T18:18:00.694Z"
   },
   {
    "duration": 31,
    "start_time": "2024-03-25T18:18:00.842Z"
   },
   {
    "duration": 87,
    "start_time": "2024-03-25T18:18:00.874Z"
   },
   {
    "duration": 173,
    "start_time": "2024-03-25T18:18:00.963Z"
   },
   {
    "duration": 82,
    "start_time": "2024-03-25T18:18:01.138Z"
   },
   {
    "duration": 65,
    "start_time": "2024-03-25T18:18:01.221Z"
   },
   {
    "duration": 28,
    "start_time": "2024-03-25T18:18:01.287Z"
   },
   {
    "duration": 23,
    "start_time": "2024-03-25T18:18:01.317Z"
   },
   {
    "duration": 60,
    "start_time": "2024-03-25T18:18:01.342Z"
   },
   {
    "duration": 66,
    "start_time": "2024-03-25T18:18:01.404Z"
   },
   {
    "duration": 22,
    "start_time": "2024-03-25T18:18:01.473Z"
   },
   {
    "duration": 48,
    "start_time": "2024-03-25T18:18:01.497Z"
   },
   {
    "duration": 93,
    "start_time": "2024-03-25T18:18:01.547Z"
   },
   {
    "duration": 44,
    "start_time": "2024-03-25T18:18:01.642Z"
   },
   {
    "duration": 66,
    "start_time": "2024-03-25T18:18:01.688Z"
   },
   {
    "duration": 31,
    "start_time": "2024-03-25T18:18:01.755Z"
   },
   {
    "duration": 68,
    "start_time": "2024-03-25T18:18:01.787Z"
   },
   {
    "duration": 61,
    "start_time": "2024-03-25T18:18:01.857Z"
   },
   {
    "duration": 27,
    "start_time": "2024-03-25T18:18:01.920Z"
   },
   {
    "duration": 102,
    "start_time": "2024-03-25T18:18:01.949Z"
   },
   {
    "duration": 14,
    "start_time": "2024-03-25T18:18:21.678Z"
   },
   {
    "duration": 13,
    "start_time": "2024-03-25T18:20:19.746Z"
   },
   {
    "duration": 158,
    "start_time": "2024-03-25T18:20:26.954Z"
   },
   {
    "duration": 324,
    "start_time": "2024-03-25T18:20:43.805Z"
   },
   {
    "duration": 287,
    "start_time": "2024-03-25T18:20:53.890Z"
   },
   {
    "duration": 12,
    "start_time": "2024-03-25T18:21:13.490Z"
   },
   {
    "duration": 9,
    "start_time": "2024-03-25T18:21:24.349Z"
   },
   {
    "duration": 9,
    "start_time": "2024-03-25T18:21:35.117Z"
   },
   {
    "duration": 141,
    "start_time": "2024-03-25T18:21:56.482Z"
   },
   {
    "duration": 233,
    "start_time": "2024-03-25T18:22:06.537Z"
   },
   {
    "duration": 398,
    "start_time": "2024-03-25T18:22:39.297Z"
   },
   {
    "duration": 206,
    "start_time": "2024-03-25T18:23:05.526Z"
   },
   {
    "duration": 216,
    "start_time": "2024-03-25T18:23:11.727Z"
   },
   {
    "duration": 226,
    "start_time": "2024-03-25T18:23:22.892Z"
   },
   {
    "duration": 222,
    "start_time": "2024-03-25T18:23:30.306Z"
   },
   {
    "duration": 9,
    "start_time": "2024-03-25T18:24:18.974Z"
   },
   {
    "duration": 5,
    "start_time": "2024-03-25T18:25:10.510Z"
   },
   {
    "duration": 192,
    "start_time": "2024-03-25T18:27:11.287Z"
   },
   {
    "duration": 195,
    "start_time": "2024-03-25T18:27:32.298Z"
   },
   {
    "duration": 1340,
    "start_time": "2024-03-25T18:29:52.237Z"
   },
   {
    "duration": 1365,
    "start_time": "2024-03-25T18:30:13.287Z"
   },
   {
    "duration": 3,
    "start_time": "2024-03-25T18:31:17.026Z"
   },
   {
    "duration": 75,
    "start_time": "2024-03-25T18:31:17.031Z"
   },
   {
    "duration": 8,
    "start_time": "2024-03-25T18:31:17.108Z"
   },
   {
    "duration": 20,
    "start_time": "2024-03-25T18:31:17.117Z"
   },
   {
    "duration": 12,
    "start_time": "2024-03-25T18:31:17.138Z"
   },
   {
    "duration": 11,
    "start_time": "2024-03-25T18:31:17.152Z"
   },
   {
    "duration": 6,
    "start_time": "2024-03-25T18:31:17.164Z"
   },
   {
    "duration": 11,
    "start_time": "2024-03-25T18:31:17.172Z"
   },
   {
    "duration": 13,
    "start_time": "2024-03-25T18:31:17.186Z"
   },
   {
    "duration": 10,
    "start_time": "2024-03-25T18:31:17.201Z"
   },
   {
    "duration": 5,
    "start_time": "2024-03-25T18:31:17.213Z"
   },
   {
    "duration": 9,
    "start_time": "2024-03-25T18:31:17.220Z"
   },
   {
    "duration": 24,
    "start_time": "2024-03-25T18:31:17.231Z"
   },
   {
    "duration": 6,
    "start_time": "2024-03-25T18:31:17.280Z"
   },
   {
    "duration": 13,
    "start_time": "2024-03-25T18:31:17.288Z"
   },
   {
    "duration": 8,
    "start_time": "2024-03-25T18:31:17.303Z"
   },
   {
    "duration": 12,
    "start_time": "2024-03-25T18:31:17.313Z"
   },
   {
    "duration": 8,
    "start_time": "2024-03-25T18:31:17.326Z"
   },
   {
    "duration": 20,
    "start_time": "2024-03-25T18:31:17.335Z"
   },
   {
    "duration": 4,
    "start_time": "2024-03-25T18:31:17.357Z"
   },
   {
    "duration": 21,
    "start_time": "2024-03-25T18:31:17.363Z"
   },
   {
    "duration": 17,
    "start_time": "2024-03-25T18:31:17.385Z"
   },
   {
    "duration": 23,
    "start_time": "2024-03-25T18:31:17.404Z"
   },
   {
    "duration": 219,
    "start_time": "2024-03-25T18:31:17.429Z"
   },
   {
    "duration": 5132,
    "start_time": "2024-03-25T18:31:17.650Z"
   },
   {
    "duration": 13,
    "start_time": "2024-03-25T18:31:30.997Z"
   },
   {
    "duration": 11,
    "start_time": "2024-03-25T18:32:04.205Z"
   },
   {
    "duration": 1272,
    "start_time": "2024-03-25T18:32:21.440Z"
   },
   {
    "duration": 127,
    "start_time": "2024-03-25T18:32:36.091Z"
   },
   {
    "duration": 125,
    "start_time": "2024-03-25T18:33:32.194Z"
   },
   {
    "duration": 153,
    "start_time": "2024-03-25T18:34:01.444Z"
   },
   {
    "duration": 136,
    "start_time": "2024-03-25T18:35:05.019Z"
   },
   {
    "duration": 202,
    "start_time": "2024-03-25T18:35:53.159Z"
   },
   {
    "duration": 8,
    "start_time": "2024-03-25T18:40:26.020Z"
   },
   {
    "duration": 199,
    "start_time": "2024-03-25T18:41:49.294Z"
   },
   {
    "duration": 198,
    "start_time": "2024-03-25T18:42:25.338Z"
   },
   {
    "duration": 203,
    "start_time": "2024-03-25T18:42:35.755Z"
   },
   {
    "duration": 209,
    "start_time": "2024-03-25T18:45:36.539Z"
   },
   {
    "duration": 9,
    "start_time": "2024-03-25T18:46:41.118Z"
   },
   {
    "duration": 217,
    "start_time": "2024-03-25T18:47:22.825Z"
   },
   {
    "duration": 221,
    "start_time": "2024-03-25T18:48:29.221Z"
   },
   {
    "duration": 10,
    "start_time": "2024-03-25T18:51:52.267Z"
   },
   {
    "duration": 226,
    "start_time": "2024-03-25T18:52:34.238Z"
   },
   {
    "duration": 219,
    "start_time": "2024-03-25T18:53:41.873Z"
   },
   {
    "duration": 8,
    "start_time": "2024-03-25T19:04:59.272Z"
   },
   {
    "duration": 9,
    "start_time": "2024-03-25T19:05:07.167Z"
   },
   {
    "duration": 16,
    "start_time": "2024-03-25T19:07:36.760Z"
   },
   {
    "duration": 26,
    "start_time": "2024-03-25T19:07:51.479Z"
   },
   {
    "duration": 26,
    "start_time": "2024-03-25T19:08:21.859Z"
   },
   {
    "duration": 28,
    "start_time": "2024-03-25T19:08:32.642Z"
   },
   {
    "duration": 22,
    "start_time": "2024-03-25T19:09:13.002Z"
   },
   {
    "duration": 16,
    "start_time": "2024-03-25T19:09:43.039Z"
   },
   {
    "duration": 12,
    "start_time": "2024-03-25T19:12:39.575Z"
   },
   {
    "duration": 9,
    "start_time": "2024-03-25T19:13:37.371Z"
   },
   {
    "duration": 11,
    "start_time": "2024-03-25T19:13:48.145Z"
   },
   {
    "duration": 12,
    "start_time": "2024-03-25T19:14:03.767Z"
   },
   {
    "duration": 211,
    "start_time": "2024-03-25T19:15:43.238Z"
   },
   {
    "duration": 3,
    "start_time": "2024-03-25T19:20:45.955Z"
   },
   {
    "duration": 78,
    "start_time": "2024-03-25T19:20:45.960Z"
   },
   {
    "duration": 9,
    "start_time": "2024-03-25T19:20:46.040Z"
   },
   {
    "duration": 12,
    "start_time": "2024-03-25T19:20:46.050Z"
   },
   {
    "duration": 12,
    "start_time": "2024-03-25T19:20:46.064Z"
   },
   {
    "duration": 14,
    "start_time": "2024-03-25T19:20:46.078Z"
   },
   {
    "duration": 6,
    "start_time": "2024-03-25T19:20:46.094Z"
   },
   {
    "duration": 10,
    "start_time": "2024-03-25T19:20:46.102Z"
   },
   {
    "duration": 15,
    "start_time": "2024-03-25T19:20:46.113Z"
   },
   {
    "duration": 10,
    "start_time": "2024-03-25T19:20:46.130Z"
   },
   {
    "duration": 6,
    "start_time": "2024-03-25T19:20:46.141Z"
   },
   {
    "duration": 36,
    "start_time": "2024-03-25T19:20:46.148Z"
   },
   {
    "duration": 12,
    "start_time": "2024-03-25T19:20:46.186Z"
   },
   {
    "duration": 10,
    "start_time": "2024-03-25T19:20:46.201Z"
   },
   {
    "duration": 7,
    "start_time": "2024-03-25T19:20:46.212Z"
   },
   {
    "duration": 8,
    "start_time": "2024-03-25T19:20:46.220Z"
   },
   {
    "duration": 13,
    "start_time": "2024-03-25T19:20:46.229Z"
   },
   {
    "duration": 7,
    "start_time": "2024-03-25T19:20:46.243Z"
   },
   {
    "duration": 29,
    "start_time": "2024-03-25T19:20:46.252Z"
   },
   {
    "duration": 4,
    "start_time": "2024-03-25T19:20:46.283Z"
   },
   {
    "duration": 14,
    "start_time": "2024-03-25T19:20:46.289Z"
   },
   {
    "duration": 11,
    "start_time": "2024-03-25T19:20:46.305Z"
   },
   {
    "duration": 7,
    "start_time": "2024-03-25T19:20:46.317Z"
   },
   {
    "duration": 213,
    "start_time": "2024-03-25T19:20:46.325Z"
   },
   {
    "duration": 147,
    "start_time": "2024-03-25T19:20:46.540Z"
   },
   {
    "duration": 7,
    "start_time": "2024-03-25T19:20:46.688Z"
   },
   {
    "duration": 208,
    "start_time": "2024-03-25T19:20:46.697Z"
   },
   {
    "duration": 8,
    "start_time": "2024-03-25T19:20:46.907Z"
   },
   {
    "duration": 251,
    "start_time": "2024-03-25T19:20:46.917Z"
   },
   {
    "duration": 12,
    "start_time": "2024-03-25T19:20:47.170Z"
   },
   {
    "duration": 226,
    "start_time": "2024-03-25T19:20:47.183Z"
   },
   {
    "duration": 15,
    "start_time": "2024-03-25T19:20:47.410Z"
   },
   {
    "duration": 10,
    "start_time": "2024-03-25T19:20:47.426Z"
   },
   {
    "duration": 227,
    "start_time": "2024-03-25T19:20:47.437Z"
   },
   {
    "duration": 8,
    "start_time": "2024-03-25T19:22:00.094Z"
   },
   {
    "duration": 212,
    "start_time": "2024-03-25T19:22:56.436Z"
   },
   {
    "duration": 205,
    "start_time": "2024-03-25T19:25:05.585Z"
   },
   {
    "duration": 8,
    "start_time": "2024-03-25T19:27:10.906Z"
   },
   {
    "duration": 242,
    "start_time": "2024-03-25T19:28:11.366Z"
   },
   {
    "duration": 216,
    "start_time": "2024-03-25T19:28:33.127Z"
   },
   {
    "duration": 241,
    "start_time": "2024-03-25T19:29:16.356Z"
   },
   {
    "duration": 9,
    "start_time": "2024-03-25T19:31:59.690Z"
   },
   {
    "duration": 210,
    "start_time": "2024-03-25T19:34:34.889Z"
   },
   {
    "duration": 8,
    "start_time": "2024-03-25T19:35:47.376Z"
   },
   {
    "duration": 225,
    "start_time": "2024-03-25T19:35:57.708Z"
   },
   {
    "duration": 32,
    "start_time": "2024-03-25T19:53:43.675Z"
   },
   {
    "duration": 2,
    "start_time": "2024-03-25T20:12:02.486Z"
   },
   {
    "duration": 118,
    "start_time": "2024-03-25T20:12:02.490Z"
   },
   {
    "duration": 120,
    "start_time": "2024-03-25T20:12:02.609Z"
   },
   {
    "duration": 90,
    "start_time": "2024-03-25T20:12:02.730Z"
   },
   {
    "duration": 89,
    "start_time": "2024-03-25T20:12:02.822Z"
   },
   {
    "duration": 39,
    "start_time": "2024-03-25T20:12:02.913Z"
   },
   {
    "duration": 50,
    "start_time": "2024-03-25T20:12:02.954Z"
   },
   {
    "duration": 49,
    "start_time": "2024-03-25T20:12:03.006Z"
   },
   {
    "duration": 63,
    "start_time": "2024-03-25T20:12:03.056Z"
   },
   {
    "duration": 30,
    "start_time": "2024-03-25T20:12:03.120Z"
   },
   {
    "duration": 40,
    "start_time": "2024-03-25T20:12:03.152Z"
   },
   {
    "duration": 68,
    "start_time": "2024-03-25T20:12:03.193Z"
   },
   {
    "duration": 76,
    "start_time": "2024-03-25T20:12:03.263Z"
   },
   {
    "duration": 76,
    "start_time": "2024-03-25T20:12:03.342Z"
   },
   {
    "duration": 37,
    "start_time": "2024-03-25T20:12:03.420Z"
   },
   {
    "duration": 39,
    "start_time": "2024-03-25T20:12:03.459Z"
   },
   {
    "duration": 44,
    "start_time": "2024-03-25T20:12:03.500Z"
   },
   {
    "duration": 47,
    "start_time": "2024-03-25T20:12:03.546Z"
   },
   {
    "duration": 27,
    "start_time": "2024-03-25T20:12:03.594Z"
   },
   {
    "duration": 35,
    "start_time": "2024-03-25T20:12:03.622Z"
   },
   {
    "duration": 24,
    "start_time": "2024-03-25T20:12:03.659Z"
   },
   {
    "duration": 45,
    "start_time": "2024-03-25T20:12:03.684Z"
   },
   {
    "duration": 28,
    "start_time": "2024-03-25T20:12:03.731Z"
   },
   {
    "duration": 213,
    "start_time": "2024-03-25T20:12:03.761Z"
   },
   {
    "duration": 143,
    "start_time": "2024-03-25T20:12:03.975Z"
   },
   {
    "duration": 8,
    "start_time": "2024-03-25T20:12:04.119Z"
   },
   {
    "duration": 247,
    "start_time": "2024-03-25T20:12:04.128Z"
   },
   {
    "duration": 11,
    "start_time": "2024-03-25T20:12:04.376Z"
   },
   {
    "duration": 244,
    "start_time": "2024-03-25T20:12:04.389Z"
   },
   {
    "duration": 8,
    "start_time": "2024-03-25T20:12:04.635Z"
   },
   {
    "duration": 230,
    "start_time": "2024-03-25T20:12:04.644Z"
   },
   {
    "duration": 19,
    "start_time": "2024-03-25T20:12:04.875Z"
   },
   {
    "duration": 10,
    "start_time": "2024-03-25T20:12:04.895Z"
   },
   {
    "duration": 19,
    "start_time": "2024-03-25T20:12:04.907Z"
   },
   {
    "duration": 214,
    "start_time": "2024-03-25T20:12:04.928Z"
   },
   {
    "duration": 9,
    "start_time": "2024-03-25T20:12:05.143Z"
   },
   {
    "duration": 230,
    "start_time": "2024-03-25T20:12:05.153Z"
   },
   {
    "duration": 8,
    "start_time": "2024-03-25T20:12:05.385Z"
   },
   {
    "duration": 221,
    "start_time": "2024-03-25T20:12:05.394Z"
   },
   {
    "duration": 8,
    "start_time": "2024-03-25T20:12:05.617Z"
   },
   {
    "duration": 233,
    "start_time": "2024-03-25T20:12:05.629Z"
   },
   {
    "duration": 107,
    "start_time": "2024-03-25T20:12:05.864Z"
   },
   {
    "duration": 96,
    "start_time": "2024-03-25T20:12:55.048Z"
   },
   {
    "duration": 106,
    "start_time": "2024-03-25T20:13:02.986Z"
   },
   {
    "duration": 30,
    "start_time": "2024-03-25T20:13:18.345Z"
   },
   {
    "duration": 29,
    "start_time": "2024-03-25T20:13:24.792Z"
   },
   {
    "duration": 20,
    "start_time": "2024-03-25T20:16:27.534Z"
   },
   {
    "duration": 26,
    "start_time": "2024-03-25T20:16:40.487Z"
   },
   {
    "duration": 25,
    "start_time": "2024-03-25T20:16:55.085Z"
   },
   {
    "duration": 26,
    "start_time": "2024-03-25T20:17:00.709Z"
   },
   {
    "duration": 26,
    "start_time": "2024-03-25T20:17:15.942Z"
   },
   {
    "duration": 20,
    "start_time": "2024-03-25T20:18:18.951Z"
   },
   {
    "duration": 26,
    "start_time": "2024-03-25T20:18:47.309Z"
   },
   {
    "duration": 13,
    "start_time": "2024-03-25T20:21:38.692Z"
   },
   {
    "duration": 1369,
    "start_time": "2024-03-25T20:24:50.307Z"
   },
   {
    "duration": 17,
    "start_time": "2024-03-25T20:24:59.741Z"
   },
   {
    "duration": 15,
    "start_time": "2024-03-25T20:25:12.833Z"
   },
   {
    "duration": 2,
    "start_time": "2024-03-25T20:25:17.769Z"
   },
   {
    "duration": 75,
    "start_time": "2024-03-25T20:25:17.773Z"
   },
   {
    "duration": 8,
    "start_time": "2024-03-25T20:25:17.849Z"
   },
   {
    "duration": 31,
    "start_time": "2024-03-25T20:25:17.858Z"
   },
   {
    "duration": 15,
    "start_time": "2024-03-25T20:25:17.891Z"
   },
   {
    "duration": 13,
    "start_time": "2024-03-25T20:25:17.907Z"
   },
   {
    "duration": 23,
    "start_time": "2024-03-25T20:25:17.921Z"
   },
   {
    "duration": 13,
    "start_time": "2024-03-25T20:25:17.945Z"
   },
   {
    "duration": 19,
    "start_time": "2024-03-25T20:25:17.959Z"
   },
   {
    "duration": 10,
    "start_time": "2024-03-25T20:25:17.981Z"
   },
   {
    "duration": 6,
    "start_time": "2024-03-25T20:25:17.992Z"
   },
   {
    "duration": 13,
    "start_time": "2024-03-25T20:25:17.999Z"
   },
   {
    "duration": 42,
    "start_time": "2024-03-25T20:25:18.014Z"
   },
   {
    "duration": 5,
    "start_time": "2024-03-25T20:25:18.059Z"
   },
   {
    "duration": 7,
    "start_time": "2024-03-25T20:25:18.066Z"
   },
   {
    "duration": 8,
    "start_time": "2024-03-25T20:25:18.074Z"
   },
   {
    "duration": 8,
    "start_time": "2024-03-25T20:25:18.084Z"
   },
   {
    "duration": 7,
    "start_time": "2024-03-25T20:25:18.094Z"
   },
   {
    "duration": 16,
    "start_time": "2024-03-25T20:25:18.102Z"
   },
   {
    "duration": 4,
    "start_time": "2024-03-25T20:25:18.120Z"
   },
   {
    "duration": 16,
    "start_time": "2024-03-25T20:25:18.125Z"
   },
   {
    "duration": 8,
    "start_time": "2024-03-25T20:25:18.143Z"
   },
   {
    "duration": 20,
    "start_time": "2024-03-25T20:25:18.152Z"
   },
   {
    "duration": 210,
    "start_time": "2024-03-25T20:25:18.173Z"
   },
   {
    "duration": 146,
    "start_time": "2024-03-25T20:25:18.385Z"
   },
   {
    "duration": 7,
    "start_time": "2024-03-25T20:25:18.533Z"
   },
   {
    "duration": 210,
    "start_time": "2024-03-25T20:25:18.542Z"
   },
   {
    "duration": 9,
    "start_time": "2024-03-25T20:25:18.753Z"
   },
   {
    "duration": 226,
    "start_time": "2024-03-25T20:25:18.764Z"
   },
   {
    "duration": 8,
    "start_time": "2024-03-25T20:25:18.991Z"
   },
   {
    "duration": 705,
    "start_time": "2024-03-25T20:25:19.001Z"
   },
   {
    "duration": 15,
    "start_time": "2024-03-25T20:25:19.707Z"
   },
   {
    "duration": 10,
    "start_time": "2024-03-25T20:25:19.723Z"
   },
   {
    "duration": 8,
    "start_time": "2024-03-25T20:25:19.734Z"
   },
   {
    "duration": 222,
    "start_time": "2024-03-25T20:25:19.743Z"
   },
   {
    "duration": 15,
    "start_time": "2024-03-25T20:25:19.967Z"
   },
   {
    "duration": 219,
    "start_time": "2024-03-25T20:25:19.983Z"
   },
   {
    "duration": 7,
    "start_time": "2024-03-25T20:25:20.204Z"
   },
   {
    "duration": 199,
    "start_time": "2024-03-25T20:25:20.213Z"
   },
   {
    "duration": 9,
    "start_time": "2024-03-25T20:25:20.413Z"
   },
   {
    "duration": 252,
    "start_time": "2024-03-25T20:25:20.425Z"
   },
   {
    "duration": 26,
    "start_time": "2024-03-25T20:25:20.678Z"
   },
   {
    "duration": 10,
    "start_time": "2024-03-25T20:25:20.706Z"
   },
   {
    "duration": 16,
    "start_time": "2024-03-25T20:25:20.718Z"
   },
   {
    "duration": 18,
    "start_time": "2024-03-25T20:26:21.010Z"
   },
   {
    "duration": 26,
    "start_time": "2024-03-25T20:29:23.353Z"
   },
   {
    "duration": 27,
    "start_time": "2024-03-25T20:29:37.804Z"
   },
   {
    "duration": 109,
    "start_time": "2024-03-25T20:30:23.241Z"
   },
   {
    "duration": 99,
    "start_time": "2024-03-25T20:30:35.376Z"
   },
   {
    "duration": 100,
    "start_time": "2024-03-25T20:30:44.296Z"
   },
   {
    "duration": 99,
    "start_time": "2024-03-25T20:31:21.144Z"
   },
   {
    "duration": 93,
    "start_time": "2024-03-25T20:31:37.874Z"
   },
   {
    "duration": 94,
    "start_time": "2024-03-25T20:31:54.567Z"
   },
   {
    "duration": 110,
    "start_time": "2024-03-25T20:32:06.209Z"
   },
   {
    "duration": 95,
    "start_time": "2024-03-25T20:32:13.409Z"
   },
   {
    "duration": 145,
    "start_time": "2024-03-25T20:32:26.109Z"
   },
   {
    "duration": 4,
    "start_time": "2024-03-25T20:33:27.899Z"
   },
   {
    "duration": 19,
    "start_time": "2024-03-25T20:33:43.322Z"
   },
   {
    "duration": 10,
    "start_time": "2024-03-25T20:33:52.390Z"
   },
   {
    "duration": 34,
    "start_time": "2024-03-25T20:34:35.362Z"
   },
   {
    "duration": 11,
    "start_time": "2024-03-25T20:34:37.682Z"
   },
   {
    "duration": 49,
    "start_time": "2024-03-25T20:35:56.768Z"
   },
   {
    "duration": 10,
    "start_time": "2024-03-25T20:35:59.117Z"
   },
   {
    "duration": 6,
    "start_time": "2024-03-25T20:36:34.910Z"
   },
   {
    "duration": 12,
    "start_time": "2024-03-25T20:36:55.457Z"
   },
   {
    "duration": 3,
    "start_time": "2024-03-25T20:38:28.435Z"
   },
   {
    "duration": 14,
    "start_time": "2024-03-25T20:39:27.286Z"
   },
   {
    "duration": 3,
    "start_time": "2024-03-25T20:42:01.230Z"
   },
   {
    "duration": 36,
    "start_time": "2024-03-25T20:42:03.358Z"
   },
   {
    "duration": 13,
    "start_time": "2024-03-25T20:42:06.349Z"
   },
   {
    "duration": 84,
    "start_time": "2024-03-26T19:16:16.482Z"
   },
   {
    "duration": 47,
    "start_time": "2024-03-26T19:22:39.364Z"
   },
   {
    "duration": 1240,
    "start_time": "2024-03-26T19:22:44.328Z"
   },
   {
    "duration": 206,
    "start_time": "2024-03-26T19:22:45.570Z"
   },
   {
    "duration": 14,
    "start_time": "2024-03-26T19:22:45.777Z"
   },
   {
    "duration": 21,
    "start_time": "2024-03-26T19:22:45.793Z"
   },
   {
    "duration": 14,
    "start_time": "2024-03-26T19:22:45.817Z"
   },
   {
    "duration": 30,
    "start_time": "2024-03-26T19:22:45.833Z"
   },
   {
    "duration": 30,
    "start_time": "2024-03-26T19:22:45.865Z"
   },
   {
    "duration": 32,
    "start_time": "2024-03-26T19:22:45.896Z"
   },
   {
    "duration": 30,
    "start_time": "2024-03-26T19:22:45.930Z"
   },
   {
    "duration": 19,
    "start_time": "2024-03-26T19:22:45.962Z"
   },
   {
    "duration": 20,
    "start_time": "2024-03-26T19:22:45.983Z"
   },
   {
    "duration": 35,
    "start_time": "2024-03-26T19:22:46.005Z"
   },
   {
    "duration": 14,
    "start_time": "2024-03-26T19:22:46.042Z"
   },
   {
    "duration": 8,
    "start_time": "2024-03-26T19:22:46.059Z"
   },
   {
    "duration": 16,
    "start_time": "2024-03-26T19:22:46.069Z"
   },
   {
    "duration": 8,
    "start_time": "2024-03-26T19:22:46.086Z"
   },
   {
    "duration": 9,
    "start_time": "2024-03-26T19:22:46.096Z"
   },
   {
    "duration": 30,
    "start_time": "2024-03-26T19:22:46.106Z"
   },
   {
    "duration": 10,
    "start_time": "2024-03-26T19:22:46.138Z"
   },
   {
    "duration": 13,
    "start_time": "2024-03-26T19:22:46.149Z"
   },
   {
    "duration": 27,
    "start_time": "2024-03-26T19:22:46.164Z"
   },
   {
    "duration": 25,
    "start_time": "2024-03-26T19:22:46.193Z"
   },
   {
    "duration": 22,
    "start_time": "2024-03-26T19:22:46.220Z"
   },
   {
    "duration": 251,
    "start_time": "2024-03-26T19:22:46.244Z"
   },
   {
    "duration": 163,
    "start_time": "2024-03-26T19:22:46.497Z"
   },
   {
    "duration": 21,
    "start_time": "2024-03-26T19:22:46.662Z"
   },
   {
    "duration": 226,
    "start_time": "2024-03-26T19:22:46.685Z"
   },
   {
    "duration": 9,
    "start_time": "2024-03-26T19:22:46.913Z"
   },
   {
    "duration": 248,
    "start_time": "2024-03-26T19:22:46.924Z"
   },
   {
    "duration": 12,
    "start_time": "2024-03-26T19:22:47.174Z"
   },
   {
    "duration": 268,
    "start_time": "2024-03-26T19:22:47.188Z"
   },
   {
    "duration": 25,
    "start_time": "2024-03-26T19:22:47.458Z"
   },
   {
    "duration": 15,
    "start_time": "2024-03-26T19:22:47.485Z"
   },
   {
    "duration": 9,
    "start_time": "2024-03-26T19:22:47.502Z"
   },
   {
    "duration": 244,
    "start_time": "2024-03-26T19:22:47.512Z"
   },
   {
    "duration": 9,
    "start_time": "2024-03-26T19:22:47.758Z"
   },
   {
    "duration": 281,
    "start_time": "2024-03-26T19:22:47.769Z"
   },
   {
    "duration": 10,
    "start_time": "2024-03-26T19:22:48.052Z"
   },
   {
    "duration": 232,
    "start_time": "2024-03-26T19:22:48.063Z"
   },
   {
    "duration": 8,
    "start_time": "2024-03-26T19:22:48.297Z"
   },
   {
    "duration": 266,
    "start_time": "2024-03-26T19:22:48.309Z"
   },
   {
    "duration": 7,
    "start_time": "2024-03-26T19:22:48.576Z"
   },
   {
    "duration": 138,
    "start_time": "2024-03-26T19:22:48.585Z"
   },
   {
    "duration": 16,
    "start_time": "2024-03-26T19:22:48.725Z"
   },
   {
    "duration": 6,
    "start_time": "2024-03-26T19:22:48.742Z"
   },
   {
    "duration": 73,
    "start_time": "2024-03-26T19:24:19.718Z"
   },
   {
    "duration": 7,
    "start_time": "2024-03-26T19:24:27.743Z"
   },
   {
    "duration": 6,
    "start_time": "2024-03-26T19:41:59.221Z"
   },
   {
    "duration": 5,
    "start_time": "2024-03-26T19:42:15.399Z"
   },
   {
    "duration": 5,
    "start_time": "2024-03-26T19:43:21.373Z"
   },
   {
    "duration": 8,
    "start_time": "2024-03-26T19:52:45.669Z"
   },
   {
    "duration": 9,
    "start_time": "2024-03-26T19:53:14.105Z"
   },
   {
    "duration": 1080,
    "start_time": "2024-03-26T20:42:05.029Z"
   },
   {
    "duration": 71,
    "start_time": "2024-03-26T20:42:06.110Z"
   },
   {
    "duration": 10,
    "start_time": "2024-03-26T20:42:06.183Z"
   },
   {
    "duration": 15,
    "start_time": "2024-03-26T20:42:06.195Z"
   },
   {
    "duration": 11,
    "start_time": "2024-03-26T20:42:06.212Z"
   },
   {
    "duration": 14,
    "start_time": "2024-03-26T20:42:06.225Z"
   },
   {
    "duration": 7,
    "start_time": "2024-03-26T20:42:06.240Z"
   },
   {
    "duration": 11,
    "start_time": "2024-03-26T20:42:06.249Z"
   },
   {
    "duration": 12,
    "start_time": "2024-03-26T20:42:06.262Z"
   },
   {
    "duration": 10,
    "start_time": "2024-03-26T20:42:06.276Z"
   },
   {
    "duration": 5,
    "start_time": "2024-03-26T20:42:06.318Z"
   },
   {
    "duration": 6,
    "start_time": "2024-03-26T20:42:06.324Z"
   },
   {
    "duration": 12,
    "start_time": "2024-03-26T20:42:06.331Z"
   },
   {
    "duration": 4,
    "start_time": "2024-03-26T20:42:06.345Z"
   },
   {
    "duration": 5,
    "start_time": "2024-03-26T20:42:06.350Z"
   },
   {
    "duration": 3,
    "start_time": "2024-03-26T20:42:06.357Z"
   },
   {
    "duration": 4,
    "start_time": "2024-03-26T20:42:06.361Z"
   },
   {
    "duration": 52,
    "start_time": "2024-03-26T20:42:06.366Z"
   },
   {
    "duration": 8,
    "start_time": "2024-03-26T20:42:06.420Z"
   },
   {
    "duration": 14,
    "start_time": "2024-03-26T20:42:06.429Z"
   },
   {
    "duration": 12,
    "start_time": "2024-03-26T20:42:06.444Z"
   },
   {
    "duration": 7,
    "start_time": "2024-03-26T20:42:06.457Z"
   },
   {
    "duration": 11,
    "start_time": "2024-03-26T20:42:06.465Z"
   },
   {
    "duration": 237,
    "start_time": "2024-03-26T20:42:06.477Z"
   },
   {
    "duration": 138,
    "start_time": "2024-03-26T20:42:06.718Z"
   },
   {
    "duration": 8,
    "start_time": "2024-03-26T20:42:06.857Z"
   },
   {
    "duration": 211,
    "start_time": "2024-03-26T20:42:06.866Z"
   },
   {
    "duration": 8,
    "start_time": "2024-03-26T20:42:07.080Z"
   },
   {
    "duration": 231,
    "start_time": "2024-03-26T20:42:07.089Z"
   },
   {
    "duration": 9,
    "start_time": "2024-03-26T20:42:07.321Z"
   },
   {
    "duration": 245,
    "start_time": "2024-03-26T20:42:07.331Z"
   },
   {
    "duration": 17,
    "start_time": "2024-03-26T20:42:07.577Z"
   },
   {
    "duration": 24,
    "start_time": "2024-03-26T20:42:07.596Z"
   },
   {
    "duration": 9,
    "start_time": "2024-03-26T20:42:07.622Z"
   },
   {
    "duration": 231,
    "start_time": "2024-03-26T20:42:07.633Z"
   },
   {
    "duration": 10,
    "start_time": "2024-03-26T20:42:07.866Z"
   },
   {
    "duration": 248,
    "start_time": "2024-03-26T20:42:07.878Z"
   },
   {
    "duration": 8,
    "start_time": "2024-03-26T20:42:08.127Z"
   },
   {
    "duration": 204,
    "start_time": "2024-03-26T20:42:08.136Z"
   },
   {
    "duration": 7,
    "start_time": "2024-03-26T20:42:08.342Z"
   },
   {
    "duration": 253,
    "start_time": "2024-03-26T20:42:08.351Z"
   },
   {
    "duration": 4,
    "start_time": "2024-03-26T20:42:08.605Z"
   },
   {
    "duration": 129,
    "start_time": "2024-03-26T20:42:08.610Z"
   },
   {
    "duration": 14,
    "start_time": "2024-03-26T20:42:08.741Z"
   },
   {
    "duration": 5,
    "start_time": "2024-03-26T20:42:08.756Z"
   },
   {
    "duration": 5,
    "start_time": "2024-03-26T20:42:08.763Z"
   },
   {
    "duration": 8,
    "start_time": "2024-03-26T20:42:08.769Z"
   },
   {
    "duration": 6,
    "start_time": "2024-03-26T20:44:28.353Z"
   },
   {
    "duration": 7,
    "start_time": "2024-03-26T20:44:37.666Z"
   },
   {
    "duration": 48,
    "start_time": "2024-03-27T19:00:23.106Z"
   },
   {
    "duration": 1278,
    "start_time": "2024-03-27T19:00:27.732Z"
   },
   {
    "duration": 217,
    "start_time": "2024-03-27T19:00:29.012Z"
   },
   {
    "duration": 11,
    "start_time": "2024-03-27T19:00:29.230Z"
   },
   {
    "duration": 10,
    "start_time": "2024-03-27T19:00:29.243Z"
   },
   {
    "duration": 8,
    "start_time": "2024-03-27T19:00:29.256Z"
   },
   {
    "duration": 10,
    "start_time": "2024-03-27T19:00:29.265Z"
   },
   {
    "duration": 7,
    "start_time": "2024-03-27T19:00:29.277Z"
   },
   {
    "duration": 29,
    "start_time": "2024-03-27T19:00:29.286Z"
   },
   {
    "duration": 36,
    "start_time": "2024-03-27T19:00:29.317Z"
   },
   {
    "duration": 11,
    "start_time": "2024-03-27T19:00:29.355Z"
   },
   {
    "duration": 5,
    "start_time": "2024-03-27T19:00:29.368Z"
   },
   {
    "duration": 5,
    "start_time": "2024-03-27T19:00:29.375Z"
   },
   {
    "duration": 37,
    "start_time": "2024-03-27T19:00:29.382Z"
   },
   {
    "duration": 6,
    "start_time": "2024-03-27T19:00:29.422Z"
   },
   {
    "duration": 6,
    "start_time": "2024-03-27T19:00:29.430Z"
   },
   {
    "duration": 6,
    "start_time": "2024-03-27T19:00:29.438Z"
   },
   {
    "duration": 4,
    "start_time": "2024-03-27T19:00:29.445Z"
   },
   {
    "duration": 7,
    "start_time": "2024-03-27T19:00:29.450Z"
   },
   {
    "duration": 12,
    "start_time": "2024-03-27T19:00:29.458Z"
   },
   {
    "duration": 4,
    "start_time": "2024-03-27T19:00:29.471Z"
   },
   {
    "duration": 8,
    "start_time": "2024-03-27T19:00:29.515Z"
   },
   {
    "duration": 5,
    "start_time": "2024-03-27T19:00:29.525Z"
   },
   {
    "duration": 6,
    "start_time": "2024-03-27T19:00:29.531Z"
   },
   {
    "duration": 236,
    "start_time": "2024-03-27T19:00:29.538Z"
   },
   {
    "duration": 146,
    "start_time": "2024-03-27T19:00:29.776Z"
   },
   {
    "duration": 8,
    "start_time": "2024-03-27T19:00:29.924Z"
   },
   {
    "duration": 222,
    "start_time": "2024-03-27T19:00:29.934Z"
   },
   {
    "duration": 9,
    "start_time": "2024-03-27T19:00:30.158Z"
   },
   {
    "duration": 244,
    "start_time": "2024-03-27T19:00:30.168Z"
   },
   {
    "duration": 8,
    "start_time": "2024-03-27T19:00:30.414Z"
   },
   {
    "duration": 301,
    "start_time": "2024-03-27T19:00:30.424Z"
   },
   {
    "duration": 21,
    "start_time": "2024-03-27T19:00:30.727Z"
   },
   {
    "duration": 94,
    "start_time": "2024-03-27T19:00:30.750Z"
   },
   {
    "duration": 43,
    "start_time": "2024-03-27T19:00:30.845Z"
   },
   {
    "duration": 316,
    "start_time": "2024-03-27T19:00:30.890Z"
   },
   {
    "duration": 13,
    "start_time": "2024-03-27T19:00:31.208Z"
   },
   {
    "duration": 246,
    "start_time": "2024-03-27T19:00:31.223Z"
   },
   {
    "duration": 8,
    "start_time": "2024-03-27T19:00:31.471Z"
   },
   {
    "duration": 341,
    "start_time": "2024-03-27T19:00:31.480Z"
   },
   {
    "duration": 9,
    "start_time": "2024-03-27T19:00:31.822Z"
   },
   {
    "duration": 335,
    "start_time": "2024-03-27T19:00:31.834Z"
   },
   {
    "duration": 4,
    "start_time": "2024-03-27T19:00:32.170Z"
   },
   {
    "duration": 50,
    "start_time": "2024-03-27T19:00:32.175Z"
   },
   {
    "duration": 12,
    "start_time": "2024-03-27T19:00:32.227Z"
   },
   {
    "duration": 5,
    "start_time": "2024-03-27T19:00:32.241Z"
   },
   {
    "duration": 14,
    "start_time": "2024-03-27T19:00:32.247Z"
   },
   {
    "duration": 21,
    "start_time": "2024-03-27T19:00:32.263Z"
   },
   {
    "duration": 10,
    "start_time": "2024-03-27T19:03:06.926Z"
   },
   {
    "duration": 12,
    "start_time": "2024-03-27T19:03:10.611Z"
   },
   {
    "duration": 18,
    "start_time": "2024-03-27T19:05:44.694Z"
   },
   {
    "duration": 26,
    "start_time": "2024-03-27T19:05:48.133Z"
   },
   {
    "duration": 168,
    "start_time": "2024-03-27T19:16:09.330Z"
   },
   {
    "duration": 202,
    "start_time": "2024-03-27T19:17:14.126Z"
   },
   {
    "duration": 117,
    "start_time": "2024-03-27T19:17:32.976Z"
   },
   {
    "duration": 117,
    "start_time": "2024-03-27T19:17:42.699Z"
   },
   {
    "duration": 257,
    "start_time": "2024-03-27T19:20:04.799Z"
   },
   {
    "duration": 230,
    "start_time": "2024-03-27T19:20:21.632Z"
   },
   {
    "duration": 228,
    "start_time": "2024-03-27T19:20:31.228Z"
   },
   {
    "duration": 349,
    "start_time": "2024-03-27T19:22:40.844Z"
   },
   {
    "duration": 243,
    "start_time": "2024-03-27T19:22:45.090Z"
   },
   {
    "duration": 1413,
    "start_time": "2024-03-28T05:35:48.133Z"
   },
   {
    "duration": 320,
    "start_time": "2024-03-28T05:35:49.548Z"
   },
   {
    "duration": 12,
    "start_time": "2024-03-28T05:35:49.870Z"
   },
   {
    "duration": 13,
    "start_time": "2024-03-28T05:35:49.885Z"
   },
   {
    "duration": 19,
    "start_time": "2024-03-28T05:35:49.900Z"
   },
   {
    "duration": 13,
    "start_time": "2024-03-28T05:35:49.921Z"
   },
   {
    "duration": 10,
    "start_time": "2024-03-28T05:35:49.936Z"
   },
   {
    "duration": 32,
    "start_time": "2024-03-28T05:35:49.948Z"
   },
   {
    "duration": 16,
    "start_time": "2024-03-28T05:35:49.983Z"
   },
   {
    "duration": 14,
    "start_time": "2024-03-28T05:35:50.003Z"
   },
   {
    "duration": 18,
    "start_time": "2024-03-28T05:35:50.019Z"
   },
   {
    "duration": 28,
    "start_time": "2024-03-28T05:35:50.039Z"
   },
   {
    "duration": 24,
    "start_time": "2024-03-28T05:35:50.069Z"
   },
   {
    "duration": 8,
    "start_time": "2024-03-28T05:35:50.096Z"
   },
   {
    "duration": 9,
    "start_time": "2024-03-28T05:35:50.106Z"
   },
   {
    "duration": 4,
    "start_time": "2024-03-28T05:35:50.117Z"
   },
   {
    "duration": 6,
    "start_time": "2024-03-28T05:35:50.123Z"
   },
   {
    "duration": 9,
    "start_time": "2024-03-28T05:35:50.130Z"
   },
   {
    "duration": 42,
    "start_time": "2024-03-28T05:35:50.141Z"
   },
   {
    "duration": 6,
    "start_time": "2024-03-28T05:35:50.186Z"
   },
   {
    "duration": 18,
    "start_time": "2024-03-28T05:35:50.194Z"
   },
   {
    "duration": 11,
    "start_time": "2024-03-28T05:35:50.214Z"
   },
   {
    "duration": 16,
    "start_time": "2024-03-28T05:35:50.227Z"
   },
   {
    "duration": 277,
    "start_time": "2024-03-28T05:35:50.245Z"
   },
   {
    "duration": 199,
    "start_time": "2024-03-28T05:35:50.524Z"
   },
   {
    "duration": 9,
    "start_time": "2024-03-28T05:35:50.725Z"
   },
   {
    "duration": 253,
    "start_time": "2024-03-28T05:35:50.736Z"
   },
   {
    "duration": 10,
    "start_time": "2024-03-28T05:35:50.992Z"
   },
   {
    "duration": 277,
    "start_time": "2024-03-28T05:35:51.004Z"
   },
   {
    "duration": 12,
    "start_time": "2024-03-28T05:35:51.283Z"
   },
   {
    "duration": 286,
    "start_time": "2024-03-28T05:35:51.297Z"
   },
   {
    "duration": 17,
    "start_time": "2024-03-28T05:35:51.584Z"
   },
   {
    "duration": 13,
    "start_time": "2024-03-28T05:35:51.603Z"
   },
   {
    "duration": 23,
    "start_time": "2024-03-28T05:35:51.618Z"
   },
   {
    "duration": 44,
    "start_time": "2024-03-28T05:35:51.643Z"
   },
   {
    "duration": 10,
    "start_time": "2024-03-28T05:35:51.689Z"
   },
   {
    "duration": 272,
    "start_time": "2024-03-28T05:35:51.701Z"
   },
   {
    "duration": 16,
    "start_time": "2024-03-28T05:35:51.974Z"
   },
   {
    "duration": 325,
    "start_time": "2024-03-28T05:35:51.993Z"
   },
   {
    "duration": 9,
    "start_time": "2024-03-28T05:35:52.320Z"
   },
   {
    "duration": 259,
    "start_time": "2024-03-28T05:35:52.330Z"
   },
   {
    "duration": 14,
    "start_time": "2024-03-28T05:35:52.591Z"
   },
   {
    "duration": 277,
    "start_time": "2024-03-28T05:35:52.607Z"
   },
   {
    "duration": 388,
    "start_time": "2024-03-28T05:35:52.885Z"
   },
   {
    "duration": 306,
    "start_time": "2024-03-28T05:35:53.274Z"
   },
   {
    "duration": 4,
    "start_time": "2024-03-28T05:35:53.582Z"
   },
   {
    "duration": 60,
    "start_time": "2024-03-28T05:35:53.588Z"
   },
   {
    "duration": 14,
    "start_time": "2024-03-28T05:35:53.650Z"
   },
   {
    "duration": 26,
    "start_time": "2024-03-28T05:35:53.666Z"
   },
   {
    "duration": 14,
    "start_time": "2024-03-28T05:35:53.693Z"
   },
   {
    "duration": 13,
    "start_time": "2024-03-28T05:35:53.708Z"
   }
  ],
  "kernelspec": {
   "display_name": "Python 3 (ipykernel)",
   "language": "python",
   "name": "python3"
  },
  "language_info": {
   "codemirror_mode": {
    "name": "ipython",
    "version": 3
   },
   "file_extension": ".py",
   "mimetype": "text/x-python",
   "name": "python",
   "nbconvert_exporter": "python",
   "pygments_lexer": "ipython3",
   "version": "3.9.5"
  },
  "toc": {
   "base_numbering": 1,
   "nav_menu": {},
   "number_sections": true,
   "sideBar": true,
   "skip_h1_title": true,
   "title_cell": "Table of Contents",
   "title_sidebar": "Contents",
   "toc_cell": false,
   "toc_position": {},
   "toc_section_display": true,
   "toc_window_display": false
  }
 },
 "nbformat": 4,
 "nbformat_minor": 5
}
