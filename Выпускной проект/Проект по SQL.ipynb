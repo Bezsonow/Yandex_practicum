{
 "cells": [
  {
   "cell_type": "markdown",
   "metadata": {},
   "source": [
    "  <div class=\"alert alert-info\">\n",
    "  Привет, Кирилл! Меня зовут Светлана и я буду проверять твой проект. Моя основная цель — не указать на совершенные тобою ошибки, а поделиться своим опытом и помочь тебе. Предлагаю общаться на «ты». Но если это не удобно - дай знать, и мы перейдем на «вы».\n",
    "\n",
    "  <div class=\"alert alert-success\">\n",
    "  <b>👍 Успех:</b> Зелёным цветом отмечены удачные и элегантные решения, на которые можно опираться в будущих проектах.\n",
    "  </div>\n",
    "  <div class=\"alert alert-warning\">\n",
    "  <b>🤔 Рекомендация:</b> Жёлтым цветом выделено то, что в следующий раз можно сделать по-другому. Ты можешь учесть эти комментарии при выполнении будущих заданий или доработать проект сейчас (однако это не обязательно).\n",
    "  </div>\n",
    "  <div class=\"alert alert-danger\">\n",
    "  <b>😔 Необходимо исправить:</b> Красным цветом выделены комментарии, без исправления которых, я не смогу принять проект :(\n",
    "  </div>\n",
    "  <div class=\"alert alert-info\">\n",
    "  <b>👂 Совет:</b> Какие-то дополнительные материалы\n",
    "  </div>\n",
    "  Давай работать над проектом в диалоге: если ты что-то меняешь в проекте по моим рекомендациям — пиши об этом.\n",
    "  Мне будет легче отследить изменения, если ты выделишь свои комментарии:\n",
    "  <div class=\"alert alert-info\"> <b>🎓 Комментарий студента:</b> Например, вот так.</div>\n",
    "  Пожалуйста, не перемещай, не изменяй и не удаляй мои комментарии. Всё это поможет выполнить повторную проверку твоего проекта быстрее.\n",
    "   </div>"
   ]
  },
  {
   "cell_type": "markdown",
   "metadata": {},
   "source": [
    "# Проект по SQL\n",
    "\n",
    "<div style=\"border:solid Purple 2px; padding: 40px\" > \n",
    "    \n",
    "<u><b> Описание проекта:</b></u>\n",
    "    \n",
    "Коронавирус застал мир врасплох, изменив привычный порядок вещей. На какое-то время жители городов перестали выходить на улицу, посещать кафе и торговые центры. Зато стало больше времени для книг. Это заметили стартаперы — и бросились создавать приложения для тех, кто любит читать.\n",
    "Ваша компания решила быть на волне и купила крупный сервис для чтения книг по подписке. Ваша первая задача как аналитика — проанализировать базу данных.\n",
    "В ней — информация о книгах, издательствах, авторах, а также пользовательские обзоры книг. Эти данные помогут сформулировать ценностное предложение для нового продукта.\n",
    "    \n",
    "<u><b> Задачи:</b></u>    \n",
    "\n",
    "<li>Посчитать, сколько книг вышло после 1 января 2000 года;</li>\n",
    "<li>Для каждой книги посчитать количество обзоров и среднюю оценку;</li>\n",
    "<li>Определить издательство, которое выпустило наибольшее число книг толще 50 страниц — так вы исключите из анализа брошюры;</li>\n",
    "<li>Определить автора с самой высокой средней оценкой книг — учитывайте только книги с 50 и более оценками;</li>\n",
    "<li>Посчитайть среднее количество обзоров от пользователей, которые поставили больше 48 оценок.</li>\n",
    "    \n",
    "<u><b>Описание данных</b></u> \n",
    "\n",
    "Таблица books \n",
    "\n",
    "Содержит данные о книгах:\n",
    "\n",
    "<li>book_id — идентификатор книги;</li>\n",
    "<li>author_id — идентификатор автора;</li>\n",
    "<li>title — название книги;</li>\n",
    "<li>num_pages — количество страниц;</li>\n",
    "<li>publication_date — дата публикации книги;</li>\n",
    "<li>publisher_id — идентификатор издателя.</li>\n",
    "    \n",
    "    \n",
    "Таблица authors\n",
    "\n",
    "Содержит данные об авторах:\n",
    "\n",
    "<li>author_id — идентификатор автора;</li>\n",
    "<li>author — имя автора.</li>\n",
    "    \n",
    "Таблица publishers\n",
    "\n",
    "Содержит данные об издательствах:\n",
    "\n",
    "<li>publisher_id — идентификатор издательства;</li>\n",
    "<li>publisher — название издательства;</li>\n",
    "    \n",
    "Таблица ratings\n",
    "\n",
    "Содержит данные о пользовательских оценках книг:\n",
    "\n",
    "<li>rating_id — идентификатор оценки;</li>\n",
    "<li>book_id — идентификатор книги;</li>\n",
    "<li>username — имя пользователя, оставившего оценку;</li>\n",
    "<li>rating — оценка книги.</li>\n",
    "Таблица reviews\n",
    "\n",
    "Содержит данные о пользовательских обзорах на книги:\n",
    "\n",
    "<li>review_id — идентификатор обзора;</li>\n",
    "<li>book_id — идентификатор книги;</li>\n",
    "<li>username — имя пользователя, написавшего обзор;</li>\n",
    "<li>text — текст обзора.</li>"
   ]
  },
  {
   "cell_type": "code",
   "execution_count": 1,
   "metadata": {},
   "outputs": [],
   "source": [
    "# импортируем библиотеки\n",
    "import pandas as pd\n",
    "from IPython.display import display\n",
    "from sqlalchemy import text, create_engine"
   ]
  },
  {
   "cell_type": "code",
   "execution_count": 2,
   "metadata": {},
   "outputs": [
    {
     "data": {
      "text/html": [
       "<div>\n",
       "<style scoped>\n",
       "    .dataframe tbody tr th:only-of-type {\n",
       "        vertical-align: middle;\n",
       "    }\n",
       "\n",
       "    .dataframe tbody tr th {\n",
       "        vertical-align: top;\n",
       "    }\n",
       "\n",
       "    .dataframe thead th {\n",
       "        text-align: right;\n",
       "    }\n",
       "</style>\n",
       "<table border=\"1\" class=\"dataframe\">\n",
       "  <thead>\n",
       "    <tr style=\"text-align: right;\">\n",
       "      <th></th>\n",
       "      <th>book_id</th>\n",
       "      <th>author_id</th>\n",
       "      <th>title</th>\n",
       "      <th>num_pages</th>\n",
       "      <th>publication_date</th>\n",
       "      <th>publisher_id</th>\n",
       "    </tr>\n",
       "  </thead>\n",
       "  <tbody>\n",
       "    <tr>\n",
       "      <th>0</th>\n",
       "      <td>1</td>\n",
       "      <td>546</td>\n",
       "      <td>'Salem's Lot</td>\n",
       "      <td>594</td>\n",
       "      <td>2005-11-01</td>\n",
       "      <td>93</td>\n",
       "    </tr>\n",
       "    <tr>\n",
       "      <th>1</th>\n",
       "      <td>2</td>\n",
       "      <td>465</td>\n",
       "      <td>1 000 Places to See Before You Die</td>\n",
       "      <td>992</td>\n",
       "      <td>2003-05-22</td>\n",
       "      <td>336</td>\n",
       "    </tr>\n",
       "    <tr>\n",
       "      <th>2</th>\n",
       "      <td>3</td>\n",
       "      <td>407</td>\n",
       "      <td>13 Little Blue Envelopes (Little Blue Envelope...</td>\n",
       "      <td>322</td>\n",
       "      <td>2010-12-21</td>\n",
       "      <td>135</td>\n",
       "    </tr>\n",
       "    <tr>\n",
       "      <th>3</th>\n",
       "      <td>4</td>\n",
       "      <td>82</td>\n",
       "      <td>1491: New Revelations of the Americas Before C...</td>\n",
       "      <td>541</td>\n",
       "      <td>2006-10-10</td>\n",
       "      <td>309</td>\n",
       "    </tr>\n",
       "    <tr>\n",
       "      <th>4</th>\n",
       "      <td>5</td>\n",
       "      <td>125</td>\n",
       "      <td>1776</td>\n",
       "      <td>386</td>\n",
       "      <td>2006-07-04</td>\n",
       "      <td>268</td>\n",
       "    </tr>\n",
       "  </tbody>\n",
       "</table>\n",
       "</div>"
      ],
      "text/plain": [
       "   book_id  author_id                                              title  \\\n",
       "0        1        546                                       'Salem's Lot   \n",
       "1        2        465                 1 000 Places to See Before You Die   \n",
       "2        3        407  13 Little Blue Envelopes (Little Blue Envelope...   \n",
       "3        4         82  1491: New Revelations of the Americas Before C...   \n",
       "4        5        125                                               1776   \n",
       "\n",
       "   num_pages publication_date  publisher_id  \n",
       "0        594       2005-11-01            93  \n",
       "1        992       2003-05-22           336  \n",
       "2        322       2010-12-21           135  \n",
       "3        541       2006-10-10           309  \n",
       "4        386       2006-07-04           268  "
      ]
     },
     "execution_count": 2,
     "metadata": {},
     "output_type": "execute_result"
    }
   ],
   "source": [
    "# устанавливаем параметры\n",
    "db_config = {'user': 'praktikum_student', # имя пользователя\n",
    "'pwd': 'Sdf4$2;d-d30pp', # пароль\n",
    "'host': 'rc1b-wcoijxj3yxfsf3fs.mdb.yandexcloud.net',\n",
    "'port': 6432, # порт подключения\n",
    "'db': 'data-analyst-final-project-db'} # название базы данных\n",
    "connection_string = 'postgresql://{user}:{pwd}@{host}:{port}/{db}'.format(**db_config)\n",
    "# сохраняем коннектор\n",
    "engine = create_engine(connection_string, connect_args={'sslmode':'require'})\n",
    "# чтобы выполнить SQL-запрос, используем Pandas\n",
    "query = '''SELECT * FROM books LIMIT 5'''\n",
    "con=engine.connect()\n",
    "pd.io.sql.read_sql(sql=text(query), con = con)"
   ]
  },
  {
   "cell_type": "code",
   "execution_count": 3,
   "metadata": {},
   "outputs": [],
   "source": [
    "def q_exec(query='SELECT version()', show=False):\n",
    "    '''\n",
    "    Функция принимает запрос на языке sql и возвращает объект типа pandas DataFrame\n",
    "    ## Parameters:\n",
    "    `query` - запрос в виде строки. по умолчанию \"SELECT version()\"\n",
    "    `show` - вывести сразу результат на экран без присваивания результата работы функции переменной, по умолчанию `False`\n",
    "    '''\n",
    "    if show:\n",
    "        return display(pd.io.sql.read_sql(query, con = engine))\n",
    "    else:\n",
    "        return pd.io.sql.read_sql(query, con = engine)"
   ]
  },
  {
   "cell_type": "code",
   "execution_count": 4,
   "metadata": {},
   "outputs": [],
   "source": [
    "# напишем функцию для сбора информации о датафрейме\n",
    "\n",
    "def df_info(df=pd.DataFrame()):\n",
    "    '''\n",
    "    Функция выводит на экран 5 случайных строк и \n",
    "    общую информацию о датафрейме\n",
    "    ## Parameters:\n",
    "    `df` - объект pandas.DataFrame\n",
    "    '''\n",
    "    display(df.sample(5))\n",
    "    print('-----------')\n",
    "    print(df.info(), 'Явных дубликатов - ', df.duplicated().sum())"
   ]
  },
  {
   "cell_type": "code",
   "execution_count": 5,
   "metadata": {},
   "outputs": [
    {
     "data": {
      "text/html": [
       "<div>\n",
       "<style scoped>\n",
       "    .dataframe tbody tr th:only-of-type {\n",
       "        vertical-align: middle;\n",
       "    }\n",
       "\n",
       "    .dataframe tbody tr th {\n",
       "        vertical-align: top;\n",
       "    }\n",
       "\n",
       "    .dataframe thead th {\n",
       "        text-align: right;\n",
       "    }\n",
       "</style>\n",
       "<table border=\"1\" class=\"dataframe\">\n",
       "  <thead>\n",
       "    <tr style=\"text-align: right;\">\n",
       "      <th></th>\n",
       "      <th>book_id</th>\n",
       "      <th>author_id</th>\n",
       "      <th>title</th>\n",
       "      <th>num_pages</th>\n",
       "      <th>publication_date</th>\n",
       "      <th>publisher_id</th>\n",
       "    </tr>\n",
       "  </thead>\n",
       "  <tbody>\n",
       "    <tr>\n",
       "      <th>356</th>\n",
       "      <td>357</td>\n",
       "      <td>314</td>\n",
       "      <td>Into Thin Air: A Personal Account of the Mount...</td>\n",
       "      <td>368</td>\n",
       "      <td>1999-10-19</td>\n",
       "      <td>16</td>\n",
       "    </tr>\n",
       "    <tr>\n",
       "      <th>508</th>\n",
       "      <td>509</td>\n",
       "      <td>117</td>\n",
       "      <td>Peter and the Starcatchers (Peter and the Star...</td>\n",
       "      <td>452</td>\n",
       "      <td>2006-05-01</td>\n",
       "      <td>92</td>\n",
       "    </tr>\n",
       "    <tr>\n",
       "      <th>723</th>\n",
       "      <td>724</td>\n",
       "      <td>505</td>\n",
       "      <td>The Fires of Heaven (The Wheel of Time  #5)</td>\n",
       "      <td>912</td>\n",
       "      <td>1994-07-04</td>\n",
       "      <td>198</td>\n",
       "    </tr>\n",
       "    <tr>\n",
       "      <th>449</th>\n",
       "      <td>450</td>\n",
       "      <td>590</td>\n",
       "      <td>Mountains Beyond Mountains: The Quest of Dr. P...</td>\n",
       "      <td>333</td>\n",
       "      <td>2004-08-31</td>\n",
       "      <td>242</td>\n",
       "    </tr>\n",
       "    <tr>\n",
       "      <th>369</th>\n",
       "      <td>370</td>\n",
       "      <td>631</td>\n",
       "      <td>Julius Caesar</td>\n",
       "      <td>128</td>\n",
       "      <td>2002-10-17</td>\n",
       "      <td>204</td>\n",
       "    </tr>\n",
       "  </tbody>\n",
       "</table>\n",
       "</div>"
      ],
      "text/plain": [
       "     book_id  author_id                                              title  \\\n",
       "356      357        314  Into Thin Air: A Personal Account of the Mount...   \n",
       "508      509        117  Peter and the Starcatchers (Peter and the Star...   \n",
       "723      724        505        The Fires of Heaven (The Wheel of Time  #5)   \n",
       "449      450        590  Mountains Beyond Mountains: The Quest of Dr. P...   \n",
       "369      370        631                                      Julius Caesar   \n",
       "\n",
       "     num_pages publication_date  publisher_id  \n",
       "356        368       1999-10-19            16  \n",
       "508        452       2006-05-01            92  \n",
       "723        912       1994-07-04           198  \n",
       "449        333       2004-08-31           242  \n",
       "369        128       2002-10-17           204  "
      ]
     },
     "metadata": {},
     "output_type": "display_data"
    },
    {
     "name": "stdout",
     "output_type": "stream",
     "text": [
      "-----------\n",
      "<class 'pandas.core.frame.DataFrame'>\n",
      "RangeIndex: 1000 entries, 0 to 999\n",
      "Data columns (total 6 columns):\n",
      " #   Column            Non-Null Count  Dtype \n",
      "---  ------            --------------  ----- \n",
      " 0   book_id           1000 non-null   int64 \n",
      " 1   author_id         1000 non-null   int64 \n",
      " 2   title             1000 non-null   object\n",
      " 3   num_pages         1000 non-null   int64 \n",
      " 4   publication_date  1000 non-null   object\n",
      " 5   publisher_id      1000 non-null   int64 \n",
      "dtypes: int64(4), object(2)\n",
      "memory usage: 47.0+ KB\n",
      "None Явных дубликатов -  0\n"
     ]
    }
   ],
   "source": [
    "# таблица books\n",
    "books_query = 'SELECT * FROM books'\n",
    "\n",
    "df_info(q_exec(books_query))"
   ]
  },
  {
   "cell_type": "markdown",
   "metadata": {},
   "source": [
    " <div class=\"alert alert-danger\">\n",
    " <s><b>😔 Необходимо исправить:</b> Функция вывода запроса куда то пропала и тетрадка не запускается</s>\n",
    " </div>"
   ]
  },
  {
   "cell_type": "markdown",
   "metadata": {},
   "source": [
    "<div class=\"alert alert-info\"> <b>🎓 Комментарий студента:</b> Замечание устранено.</div>"
   ]
  },
  {
   "cell_type": "code",
   "execution_count": 6,
   "metadata": {},
   "outputs": [
    {
     "data": {
      "text/html": [
       "<div>\n",
       "<style scoped>\n",
       "    .dataframe tbody tr th:only-of-type {\n",
       "        vertical-align: middle;\n",
       "    }\n",
       "\n",
       "    .dataframe tbody tr th {\n",
       "        vertical-align: top;\n",
       "    }\n",
       "\n",
       "    .dataframe thead th {\n",
       "        text-align: right;\n",
       "    }\n",
       "</style>\n",
       "<table border=\"1\" class=\"dataframe\">\n",
       "  <thead>\n",
       "    <tr style=\"text-align: right;\">\n",
       "      <th></th>\n",
       "      <th>author_id</th>\n",
       "      <th>author</th>\n",
       "    </tr>\n",
       "  </thead>\n",
       "  <tbody>\n",
       "    <tr>\n",
       "      <th>618</th>\n",
       "      <td>619</td>\n",
       "      <td>William Gibson</td>\n",
       "    </tr>\n",
       "    <tr>\n",
       "      <th>527</th>\n",
       "      <td>528</td>\n",
       "      <td>Sarah Dessen</td>\n",
       "    </tr>\n",
       "    <tr>\n",
       "      <th>245</th>\n",
       "      <td>246</td>\n",
       "      <td>Jacquelyn Mitchard</td>\n",
       "    </tr>\n",
       "    <tr>\n",
       "      <th>280</th>\n",
       "      <td>281</td>\n",
       "      <td>Jen Lancaster</td>\n",
       "    </tr>\n",
       "    <tr>\n",
       "      <th>136</th>\n",
       "      <td>137</td>\n",
       "      <td>Donna Tartt</td>\n",
       "    </tr>\n",
       "  </tbody>\n",
       "</table>\n",
       "</div>"
      ],
      "text/plain": [
       "     author_id              author\n",
       "618        619      William Gibson\n",
       "527        528        Sarah Dessen\n",
       "245        246  Jacquelyn Mitchard\n",
       "280        281       Jen Lancaster\n",
       "136        137         Donna Tartt"
      ]
     },
     "metadata": {},
     "output_type": "display_data"
    },
    {
     "name": "stdout",
     "output_type": "stream",
     "text": [
      "-----------\n",
      "<class 'pandas.core.frame.DataFrame'>\n",
      "RangeIndex: 636 entries, 0 to 635\n",
      "Data columns (total 2 columns):\n",
      " #   Column     Non-Null Count  Dtype \n",
      "---  ------     --------------  ----- \n",
      " 0   author_id  636 non-null    int64 \n",
      " 1   author     636 non-null    object\n",
      "dtypes: int64(1), object(1)\n",
      "memory usage: 10.1+ KB\n",
      "None Явных дубликатов -  0\n"
     ]
    }
   ],
   "source": [
    "# таблица authors\n",
    "authors_query = 'SELECT * FROM authors'\n",
    "\n",
    "df_info(q_exec(authors_query))"
   ]
  },
  {
   "cell_type": "code",
   "execution_count": 7,
   "metadata": {},
   "outputs": [
    {
     "data": {
      "text/html": [
       "<div>\n",
       "<style scoped>\n",
       "    .dataframe tbody tr th:only-of-type {\n",
       "        vertical-align: middle;\n",
       "    }\n",
       "\n",
       "    .dataframe tbody tr th {\n",
       "        vertical-align: top;\n",
       "    }\n",
       "\n",
       "    .dataframe thead th {\n",
       "        text-align: right;\n",
       "    }\n",
       "</style>\n",
       "<table border=\"1\" class=\"dataframe\">\n",
       "  <thead>\n",
       "    <tr style=\"text-align: right;\">\n",
       "      <th></th>\n",
       "      <th>publisher_id</th>\n",
       "      <th>publisher</th>\n",
       "    </tr>\n",
       "  </thead>\n",
       "  <tbody>\n",
       "    <tr>\n",
       "      <th>263</th>\n",
       "      <td>264</td>\n",
       "      <td>Shambhala</td>\n",
       "    </tr>\n",
       "    <tr>\n",
       "      <th>254</th>\n",
       "      <td>255</td>\n",
       "      <td>Scholastic Inc.</td>\n",
       "    </tr>\n",
       "    <tr>\n",
       "      <th>335</th>\n",
       "      <td>336</td>\n",
       "      <td>Workman Publishing Company</td>\n",
       "    </tr>\n",
       "    <tr>\n",
       "      <th>21</th>\n",
       "      <td>22</td>\n",
       "      <td>Arrow Books Ltd</td>\n",
       "    </tr>\n",
       "    <tr>\n",
       "      <th>89</th>\n",
       "      <td>90</td>\n",
       "      <td>Digireads.com</td>\n",
       "    </tr>\n",
       "  </tbody>\n",
       "</table>\n",
       "</div>"
      ],
      "text/plain": [
       "     publisher_id                   publisher\n",
       "263           264                   Shambhala\n",
       "254           255             Scholastic Inc.\n",
       "335           336  Workman Publishing Company\n",
       "21             22             Arrow Books Ltd\n",
       "89             90               Digireads.com"
      ]
     },
     "metadata": {},
     "output_type": "display_data"
    },
    {
     "name": "stdout",
     "output_type": "stream",
     "text": [
      "-----------\n",
      "<class 'pandas.core.frame.DataFrame'>\n",
      "RangeIndex: 340 entries, 0 to 339\n",
      "Data columns (total 2 columns):\n",
      " #   Column        Non-Null Count  Dtype \n",
      "---  ------        --------------  ----- \n",
      " 0   publisher_id  340 non-null    int64 \n",
      " 1   publisher     340 non-null    object\n",
      "dtypes: int64(1), object(1)\n",
      "memory usage: 5.4+ KB\n",
      "None Явных дубликатов -  0\n"
     ]
    }
   ],
   "source": [
    "# таблица publishers\n",
    "publishers_query = 'SELECT * FROM publishers'\n",
    "\n",
    "df_info(q_exec(publishers_query))"
   ]
  },
  {
   "cell_type": "code",
   "execution_count": 8,
   "metadata": {},
   "outputs": [
    {
     "data": {
      "text/html": [
       "<div>\n",
       "<style scoped>\n",
       "    .dataframe tbody tr th:only-of-type {\n",
       "        vertical-align: middle;\n",
       "    }\n",
       "\n",
       "    .dataframe tbody tr th {\n",
       "        vertical-align: top;\n",
       "    }\n",
       "\n",
       "    .dataframe thead th {\n",
       "        text-align: right;\n",
       "    }\n",
       "</style>\n",
       "<table border=\"1\" class=\"dataframe\">\n",
       "  <thead>\n",
       "    <tr style=\"text-align: right;\">\n",
       "      <th></th>\n",
       "      <th>rating_id</th>\n",
       "      <th>book_id</th>\n",
       "      <th>username</th>\n",
       "      <th>rating</th>\n",
       "    </tr>\n",
       "  </thead>\n",
       "  <tbody>\n",
       "    <tr>\n",
       "      <th>6353</th>\n",
       "      <td>6354</td>\n",
       "      <td>976</td>\n",
       "      <td>dharris</td>\n",
       "      <td>5</td>\n",
       "    </tr>\n",
       "    <tr>\n",
       "      <th>5045</th>\n",
       "      <td>5046</td>\n",
       "      <td>779</td>\n",
       "      <td>lorichen</td>\n",
       "      <td>5</td>\n",
       "    </tr>\n",
       "    <tr>\n",
       "      <th>3219</th>\n",
       "      <td>3220</td>\n",
       "      <td>505</td>\n",
       "      <td>carolrodriguez</td>\n",
       "      <td>3</td>\n",
       "    </tr>\n",
       "    <tr>\n",
       "      <th>5409</th>\n",
       "      <td>5410</td>\n",
       "      <td>837</td>\n",
       "      <td>fieldsangela</td>\n",
       "      <td>4</td>\n",
       "    </tr>\n",
       "    <tr>\n",
       "      <th>6186</th>\n",
       "      <td>6187</td>\n",
       "      <td>948</td>\n",
       "      <td>brentpowers</td>\n",
       "      <td>5</td>\n",
       "    </tr>\n",
       "  </tbody>\n",
       "</table>\n",
       "</div>"
      ],
      "text/plain": [
       "      rating_id  book_id        username  rating\n",
       "6353       6354      976         dharris       5\n",
       "5045       5046      779        lorichen       5\n",
       "3219       3220      505  carolrodriguez       3\n",
       "5409       5410      837    fieldsangela       4\n",
       "6186       6187      948     brentpowers       5"
      ]
     },
     "metadata": {},
     "output_type": "display_data"
    },
    {
     "name": "stdout",
     "output_type": "stream",
     "text": [
      "-----------\n",
      "<class 'pandas.core.frame.DataFrame'>\n",
      "RangeIndex: 6456 entries, 0 to 6455\n",
      "Data columns (total 4 columns):\n",
      " #   Column     Non-Null Count  Dtype \n",
      "---  ------     --------------  ----- \n",
      " 0   rating_id  6456 non-null   int64 \n",
      " 1   book_id    6456 non-null   int64 \n",
      " 2   username   6456 non-null   object\n",
      " 3   rating     6456 non-null   int64 \n",
      "dtypes: int64(3), object(1)\n",
      "memory usage: 201.9+ KB\n",
      "None Явных дубликатов -  0\n"
     ]
    }
   ],
   "source": [
    "# таблица ratings\n",
    "ratings_query = 'SELECT * FROM ratings'\n",
    "\n",
    "df_info(q_exec(ratings_query))"
   ]
  },
  {
   "cell_type": "code",
   "execution_count": 9,
   "metadata": {},
   "outputs": [
    {
     "data": {
      "text/html": [
       "<div>\n",
       "<style scoped>\n",
       "    .dataframe tbody tr th:only-of-type {\n",
       "        vertical-align: middle;\n",
       "    }\n",
       "\n",
       "    .dataframe tbody tr th {\n",
       "        vertical-align: top;\n",
       "    }\n",
       "\n",
       "    .dataframe thead th {\n",
       "        text-align: right;\n",
       "    }\n",
       "</style>\n",
       "<table border=\"1\" class=\"dataframe\">\n",
       "  <thead>\n",
       "    <tr style=\"text-align: right;\">\n",
       "      <th></th>\n",
       "      <th>review_id</th>\n",
       "      <th>book_id</th>\n",
       "      <th>username</th>\n",
       "      <th>text</th>\n",
       "    </tr>\n",
       "  </thead>\n",
       "  <tbody>\n",
       "    <tr>\n",
       "      <th>2338</th>\n",
       "      <td>2337</td>\n",
       "      <td>839</td>\n",
       "      <td>fharris</td>\n",
       "      <td>Method much plant simply. Go challenge word tend.</td>\n",
       "    </tr>\n",
       "    <tr>\n",
       "      <th>1822</th>\n",
       "      <td>1821</td>\n",
       "      <td>659</td>\n",
       "      <td>kristykirby</td>\n",
       "      <td>Guy company spend light fly recognize. Phone m...</td>\n",
       "    </tr>\n",
       "    <tr>\n",
       "      <th>1122</th>\n",
       "      <td>1123</td>\n",
       "      <td>413</td>\n",
       "      <td>ryan01</td>\n",
       "      <td>Black indicate new meeting. Down relationship ...</td>\n",
       "    </tr>\n",
       "    <tr>\n",
       "      <th>2197</th>\n",
       "      <td>2197</td>\n",
       "      <td>792</td>\n",
       "      <td>richard89</td>\n",
       "      <td>Apply own radio phone do couple speech. Pm wha...</td>\n",
       "    </tr>\n",
       "    <tr>\n",
       "      <th>1138</th>\n",
       "      <td>1138</td>\n",
       "      <td>417</td>\n",
       "      <td>robertwells</td>\n",
       "      <td>Admit leave time just rise. Son nothing gun. T...</td>\n",
       "    </tr>\n",
       "  </tbody>\n",
       "</table>\n",
       "</div>"
      ],
      "text/plain": [
       "      review_id  book_id     username  \\\n",
       "2338       2337      839      fharris   \n",
       "1822       1821      659  kristykirby   \n",
       "1122       1123      413       ryan01   \n",
       "2197       2197      792    richard89   \n",
       "1138       1138      417  robertwells   \n",
       "\n",
       "                                                   text  \n",
       "2338  Method much plant simply. Go challenge word tend.  \n",
       "1822  Guy company spend light fly recognize. Phone m...  \n",
       "1122  Black indicate new meeting. Down relationship ...  \n",
       "2197  Apply own radio phone do couple speech. Pm wha...  \n",
       "1138  Admit leave time just rise. Son nothing gun. T...  "
      ]
     },
     "metadata": {},
     "output_type": "display_data"
    },
    {
     "name": "stdout",
     "output_type": "stream",
     "text": [
      "-----------\n",
      "<class 'pandas.core.frame.DataFrame'>\n",
      "RangeIndex: 2793 entries, 0 to 2792\n",
      "Data columns (total 4 columns):\n",
      " #   Column     Non-Null Count  Dtype \n",
      "---  ------     --------------  ----- \n",
      " 0   review_id  2793 non-null   int64 \n",
      " 1   book_id    2793 non-null   int64 \n",
      " 2   username   2793 non-null   object\n",
      " 3   text       2793 non-null   object\n",
      "dtypes: int64(2), object(2)\n",
      "memory usage: 87.4+ KB\n",
      "None Явных дубликатов -  0\n"
     ]
    }
   ],
   "source": [
    "# таблица reviews\n",
    "reviews_query = 'SELECT * FROM reviews'\n",
    "\n",
    "df_info(q_exec(reviews_query))"
   ]
  },
  {
   "cell_type": "markdown",
   "metadata": {},
   "source": [
    "<div style=\"background-color:aliceblue;padding:25px;\"> Промежуточный вывод:\n",
    "в нашем распоряжении 5 таблиц:\n",
    "<li>books - 1000 книг, типы данных соответствуют определнию (кроме publication_date)</li>\n",
    "<li>authors - 636 авторов книг</li>\n",
    "<li>publishers - 340 издателей</li>\n",
    "<li>ratings - 6456 оценок пользователей</li>\n",
    "<li>reviews - 2793 пользовательских обзора</li>\n",
    "<li>пропусков и явных дубликатов нет.</li>"
   ]
  },
  {
   "cell_type": "markdown",
   "metadata": {},
   "source": [
    " <div class=\"alert alert-success\">\n",
    " <b>👍 Успех:</b> Есть описание задачи, импортированы все нужные библиотеки, создано подключение к БД, просмотрены таблицы\n",
    " </div>"
   ]
  },
  {
   "cell_type": "markdown",
   "metadata": {},
   "source": [
    "## Подсчет количества книг, вышедших после 1 января 2000 года"
   ]
  },
  {
   "cell_type": "code",
   "execution_count": 10,
   "metadata": {},
   "outputs": [
    {
     "data": {
      "text/plain": [
       "819"
      ]
     },
     "execution_count": 10,
     "metadata": {},
     "output_type": "execute_result"
    }
   ],
   "source": [
    "q1 = '''\n",
    "        SELECT count(book_id) \n",
    "        FROM books WHERE publication_date > '2000-01-01';\n",
    "    '''\n",
    "\n",
    "answer_1 = q_exec(q1)\n",
    "\n",
    "answer_1 = int(answer_1.values[0])\n",
    "\n",
    "answer_1"
   ]
  },
  {
   "cell_type": "markdown",
   "metadata": {},
   "source": [
    "<div class=\"alert alert-success\">\n",
    " <b>👍 Успех:</b> Все верно!\n",
    " </div>"
   ]
  },
  {
   "cell_type": "markdown",
   "metadata": {},
   "source": [
    "## Подсчет количества обзоров и средней оценки для каждой книги"
   ]
  },
  {
   "cell_type": "code",
   "execution_count": 11,
   "metadata": {},
   "outputs": [
    {
     "data": {
      "text/html": [
       "<div>\n",
       "<style scoped>\n",
       "    .dataframe tbody tr th:only-of-type {\n",
       "        vertical-align: middle;\n",
       "    }\n",
       "\n",
       "    .dataframe tbody tr th {\n",
       "        vertical-align: top;\n",
       "    }\n",
       "\n",
       "    .dataframe thead th {\n",
       "        text-align: right;\n",
       "    }\n",
       "</style>\n",
       "<table border=\"1\" class=\"dataframe\">\n",
       "  <thead>\n",
       "    <tr style=\"text-align: right;\">\n",
       "      <th></th>\n",
       "      <th>title</th>\n",
       "      <th>review_qty</th>\n",
       "      <th>avg</th>\n",
       "    </tr>\n",
       "  </thead>\n",
       "  <tbody>\n",
       "    <tr>\n",
       "      <th>0</th>\n",
       "      <td>Twilight (Twilight  #1)</td>\n",
       "      <td>7</td>\n",
       "      <td>3.662500</td>\n",
       "    </tr>\n",
       "    <tr>\n",
       "      <th>1</th>\n",
       "      <td>The Hobbit  or There and Back Again</td>\n",
       "      <td>6</td>\n",
       "      <td>4.125000</td>\n",
       "    </tr>\n",
       "    <tr>\n",
       "      <th>2</th>\n",
       "      <td>Harry Potter and the Chamber of Secrets (Harry...</td>\n",
       "      <td>6</td>\n",
       "      <td>4.287500</td>\n",
       "    </tr>\n",
       "    <tr>\n",
       "      <th>3</th>\n",
       "      <td>Eat  Pray  Love</td>\n",
       "      <td>6</td>\n",
       "      <td>3.395833</td>\n",
       "    </tr>\n",
       "    <tr>\n",
       "      <th>4</th>\n",
       "      <td>The Lightning Thief (Percy Jackson and the Oly...</td>\n",
       "      <td>6</td>\n",
       "      <td>4.080645</td>\n",
       "    </tr>\n",
       "  </tbody>\n",
       "</table>\n",
       "</div>"
      ],
      "text/plain": [
       "                                               title  review_qty       avg\n",
       "0                            Twilight (Twilight  #1)           7  3.662500\n",
       "1                The Hobbit  or There and Back Again           6  4.125000\n",
       "2  Harry Potter and the Chamber of Secrets (Harry...           6  4.287500\n",
       "3                                    Eat  Pray  Love           6  3.395833\n",
       "4  The Lightning Thief (Percy Jackson and the Oly...           6  4.080645"
      ]
     },
     "execution_count": 11,
     "metadata": {},
     "output_type": "execute_result"
    }
   ],
   "source": [
    "q2 = '''\n",
    "        WITH\n",
    "                reviews_qty\n",
    "        AS\n",
    "\n",
    "        (SELECT DISTINCT\n",
    "                b.title,\n",
    "                b.book_id,\n",
    "                COUNT(rw.review_id) AS review_qty\n",
    "                \n",
    "        FROM books b\n",
    "            LEFT JOIN reviews rw\n",
    "            USING(book_id)\n",
    "  \n",
    "        GROUP BY b.title, b.book_id\n",
    "        ORDER BY 2 desc)\n",
    "\n",
    "        SELECT  \n",
    "                rq.title,\n",
    "                rq.review_qty,\n",
    "                AVG(r.rating)\n",
    "        FROM reviews_qty rq\n",
    "        LEFT JOIN ratings r\n",
    "        USING(book_id)\n",
    "        GROUP BY rq.title, rq.review_qty\n",
    "        ORDER BY 2 desc\n",
    "'''\n",
    "\n",
    "answer_2 = q_exec(q2)\n",
    "\n",
    "answer_2.head()"
   ]
  },
  {
   "cell_type": "markdown",
   "metadata": {},
   "source": [
    "Больше всего обзоров получила книга Twilight (Twilight #1) — 7 штук, а вот рейтинг у нее — 3.66/10."
   ]
  },
  {
   "cell_type": "markdown",
   "metadata": {},
   "source": [
    " <div class=\"alert alert-warning\">\n",
    " <b>🤔 Рекомендация:</b> Выводить нужно полный результат запроса, а не частично\n",
    " </div>"
   ]
  },
  {
   "cell_type": "markdown",
   "metadata": {},
   "source": [
    "## Определить издательство, которое выпустило наибольшее число книг толще 50 страниц"
   ]
  },
  {
   "cell_type": "code",
   "execution_count": 12,
   "metadata": {},
   "outputs": [
    {
     "data": {
      "text/plain": [
       "'Penguin Books'"
      ]
     },
     "execution_count": 12,
     "metadata": {},
     "output_type": "execute_result"
    }
   ],
   "source": [
    "q3 = '''\n",
    "        SELECT\n",
    "                p.publisher,\n",
    "                COUNT(p.publisher_id) AS publisher_qty\n",
    "                \n",
    "        FROM books b\n",
    "            LEFT JOIN publishers p\n",
    "            USING(publisher_id)\n",
    "            \n",
    "        WHERE\n",
    "                b.num_pages > 50\n",
    "                \n",
    "        GROUP BY p.publisher_id\n",
    "        ORDER BY 2 DESC\n",
    "        LIMIT 1;      \n",
    "'''\n",
    "\n",
    "answer_3 = q_exec(q3)\n",
    "\n",
    "answer_3 = answer_3['publisher'].values[0]\n",
    "\n",
    "answer_3"
   ]
  },
  {
   "cell_type": "markdown",
   "metadata": {},
   "source": [
    " <div class=\"alert alert-success\">\n",
    " <b>👍 Успех:</b> Все верно!\n",
    " </div>"
   ]
  },
  {
   "cell_type": "markdown",
   "metadata": {},
   "source": [
    "## Определить автора с самой высокой средней оценкой книг - учитываются только книги с 50 и более оценками"
   ]
  },
  {
   "cell_type": "code",
   "execution_count": 16,
   "metadata": {},
   "outputs": [
    {
     "data": {
      "text/plain": [
       "'J.K. Rowling/Mary GrandPré'"
      ]
     },
     "execution_count": 16,
     "metadata": {},
     "output_type": "execute_result"
    }
   ],
   "source": [
    "q4 = '''\n",
    "        SELECT\n",
    "                a.author,\n",
    "                AVG(rating) AS average_rating\n",
    "                \n",
    "        FROM books b\n",
    "            LEFT JOIN authors a\n",
    "            USING(author_id)\n",
    "            LEFT JOIN ratings r\n",
    "            USING(book_id)   \n",
    "             \n",
    "        GROUP BY a.author\n",
    "        HAVING COUNT(book_id) > 50\n",
    "        ORDER BY 2 DESC\n",
    "        LIMIT 100\n",
    "'''\n",
    "\n",
    "answer_4 = q_exec(q4)\n",
    "\n",
    "answer_4 = answer_4['author'].values[0]\n",
    "\n",
    "answer_4\n"
   ]
  },
  {
   "cell_type": "code",
   "execution_count": 15,
   "metadata": {},
   "outputs": [
    {
     "data": {
      "text/plain": [
       "'J.K. Rowling/Mary GrandPré'"
      ]
     },
     "execution_count": 15,
     "metadata": {},
     "output_type": "execute_result"
    }
   ],
   "source": [
    "q4 = '''WITH book_ratings AS (SELECT r.book_id,\n",
    "                                        AVG(r.rating) AS avg_rating,\n",
    "                                        COUNT(r.rating) AS total_ratings\n",
    "                                 FROM ratings r\n",
    "                                 GROUP BY r.book_id\n",
    "                                 HAVING COUNT(r.rating) >= 50),\n",
    "           author_average_ratings AS (SELECT a.author_id,\n",
    "                                             SUM(br.total_ratings) AS total_ratings,\n",
    "                                             AVG(br.avg_rating) AS avg_rating\n",
    "                                      FROM authors a\n",
    "                                      JOIN books b ON a.author_id = b.author_id\n",
    "                                      JOIN book_ratings br ON b.book_id = br.book_id\n",
    "                                      GROUP BY a.author_id)\n",
    "           SELECT a.author,\n",
    "                  aar.total_ratings,\n",
    "                  aar.avg_rating\n",
    "           FROM authors a\n",
    "           JOIN author_average_ratings aar ON a.author_id = aar.author_id\n",
    "           ORDER BY aar.avg_rating DESC\n",
    "           LIMIT 1'''\n",
    "answer_4 = q_exec(q4)\n",
    "\n",
    "answer_4 = answer_4['author'].values[0]\n",
    "\n",
    "answer_4"
   ]
  },
  {
   "cell_type": "markdown",
   "metadata": {},
   "source": [
    " <div class=\"alert alert-danger\">\n",
    "<s> <b>😔 Необходимо исправить:</b> Получилось не совсем верно, ты не учитываешь книги, где ровно 50 оценок, и фильтр HAVING призван отфильтровать книги с оценками 50 и более, а данные ты группируешь по автору. В итоге фильтр фильтрует не книги, а авторов, и в такой группировке почти у каждого автора будет 50 и более оценок, поэтому рейтинг будет рассчитан неверно - в него попадут лишние книги, которые не проходят по условию с количеством оценок</s>\n",
    " </div>"
   ]
  },
  {
   "cell_type": "markdown",
   "metadata": {},
   "source": [
    "<div class=\"alert alert-info\"> <b>🎓 Комментарий студента:</b> Замечание устранено. Автор с самой высокой средней оценкой книг (с 50 и более оценками): J.K. Rowling</div>"
   ]
  },
  {
   "cell_type": "markdown",
   "metadata": {},
   "source": [
    " <div class=\"alert alert-success\">\n",
    " <b>👍 Успех:</b> Все верно!\n",
    " </div>"
   ]
  },
  {
   "cell_type": "markdown",
   "metadata": {},
   "source": [
    "## Подсчет среднего количества обзоров от пользователей, которые поставили больше 50 оценок"
   ]
  },
  {
   "cell_type": "code",
   "execution_count": 14,
   "metadata": {},
   "outputs": [
    {
     "data": {
      "text/plain": [
       "24"
      ]
     },
     "execution_count": 14,
     "metadata": {},
     "output_type": "execute_result"
    }
   ],
   "source": [
    "q5 = '''\n",
    "        WITH \n",
    "        \n",
    "        users_above_48_rates AS\n",
    "        \n",
    "        (SELECT\n",
    "                r.username,\n",
    "                COUNT(r.username)\n",
    "        FROM\n",
    "                ratings r\n",
    "        LEFT JOIN books b\n",
    "        USING(book_ID)\n",
    "        GROUP BY r.username\n",
    "        HAVING COUNT(r.username) > 48)\n",
    "\n",
    "        SELECT \n",
    "                COUNT(username) / COUNT(DISTINCT username)\n",
    "        \n",
    "        FROM users_above_48_rates ur\n",
    "                \n",
    "        LEFT JOIN reviews rw\n",
    "        USING(username)\n",
    "             \n",
    "'''\n",
    "\n",
    "answer_5 = q_exec(q5)\n",
    "\n",
    "answer_5 = int(answer_5.values[0])\n",
    "\n",
    "answer_5"
   ]
  },
  {
   "cell_type": "markdown",
   "metadata": {},
   "source": [
    " <div class=\"alert alert-success\">\n",
    " <b>👍 Успех:</b> Все верно!\n",
    " </div>"
   ]
  },
  {
   "cell_type": "markdown",
   "metadata": {},
   "source": [
    "## Выводы\n",
    "\n",
    "Мы загрузили данные каждой из таблиц, сделали SQL-запросы и получили ответы на 5 вопросов.\n",
    "\n",
    "Обзор данных:\n",
    "\n",
    "в нашем распоряжении 5 таблиц:\n",
    "<li>books - 1000 книг, типы данных соответствуют определнию (кроме publication_date)</li>\n",
    "<li>authors - 636 авторов книг,</li>\n",
    "<li>publishers - 340 издателей,</li>\n",
    "<li>ratings - 6456 оценок пользователей,</li>\n",
    "<li>reviews - 2793 пользовательских обзора.</li>\n",
    "<li>пропусков и явных дубликатов нет.</li>\n",
    "\n",
    "Результаты каждой задачи:\n",
    "<li>819 книг вышло после 1 января 2000 года,</li>\n",
    "<li>количество обзоров и средней оценки для каждой книги хранится в фрейме answer_2, больше всего обзоров получила книга Twilight (Twilight #1) — 7 штук, а вот рейтинг у нее — 3.7/10.</li>\n",
    "<li>Penguin Books - издательство, которое выпустило наибольшее число книг толще 50 страниц,</li>\n",
    "<li>J.K. Rowling/Mary GrandPré - автор с самой высокой средней оценкой книг (учитывались только книги с 50 и более оценками),</li>\n",
    "<li>24 - среднее количество обзоров от пользователей, которые поставили больше 48 оценок.</li>"
   ]
  },
  {
   "cell_type": "markdown",
   "metadata": {},
   "source": [
    "<div class=\"alert alert-success\">\n",
    "<b>👍 Успех:</b> Хорошая работа, поздравляю с окончанием курса! Рекомендую еще пройти бесплатный курс от практикума по <a href='https://practicum.yandex.ru/ycloud-datalens/'> DataLens</a>\n",
    "   Дополнительную информацию по SQL  можно посмотреть и потренироваться <a href='https://sql-ex.ru'> здесь</a>, <a href='https://pgexercises.com'> здесь</a>, <a href='https://sql-academy.org'> здесь</a>, <a href='https://stepik.org/course/63054/info'> здесь</a>, <a href='https://Itresume.ru'> здесь</a>\n",
    "</div>"
   ]
  },
  {
   "cell_type": "code",
   "execution_count": null,
   "metadata": {},
   "outputs": [],
   "source": []
  }
 ],
 "metadata": {
  "ExecuteTimeLog": [
   {
    "duration": 592,
    "start_time": "2024-09-04T09:56:05.081Z"
   },
   {
    "duration": 13191,
    "start_time": "2024-09-04T09:56:52.805Z"
   },
   {
    "duration": 256,
    "start_time": "2024-09-04T09:57:53.042Z"
   },
   {
    "duration": 4,
    "start_time": "2024-09-04T09:59:49.587Z"
   },
   {
    "duration": 240,
    "start_time": "2024-09-04T09:59:52.931Z"
   },
   {
    "duration": 4,
    "start_time": "2024-09-04T10:19:34.329Z"
   },
   {
    "duration": 189,
    "start_time": "2024-09-04T10:19:41.221Z"
   },
   {
    "duration": 96,
    "start_time": "2024-09-04T10:19:49.952Z"
   },
   {
    "duration": 82,
    "start_time": "2024-09-04T10:19:58.268Z"
   },
   {
    "duration": 142,
    "start_time": "2024-09-04T10:20:05.259Z"
   },
   {
    "duration": 135,
    "start_time": "2024-09-04T10:20:17.714Z"
   },
   {
    "duration": 86,
    "start_time": "2024-09-04T10:20:47.257Z"
   },
   {
    "duration": 74,
    "start_time": "2024-09-04T10:23:23.632Z"
   },
   {
    "duration": 109,
    "start_time": "2024-09-04T10:24:02.894Z"
   },
   {
    "duration": 75,
    "start_time": "2024-09-04T10:25:55.268Z"
   },
   {
    "duration": 78,
    "start_time": "2024-09-04T10:26:15.710Z"
   },
   {
    "duration": 75,
    "start_time": "2024-09-04T10:28:30.215Z"
   },
   {
    "duration": 75,
    "start_time": "2024-09-04T10:31:20.393Z"
   },
   {
    "duration": 76,
    "start_time": "2024-09-04T10:31:36.547Z"
   },
   {
    "duration": 73,
    "start_time": "2024-09-04T10:35:29.611Z"
   },
   {
    "duration": 76,
    "start_time": "2024-09-04T10:35:42.123Z"
   },
   {
    "duration": 522,
    "start_time": "2024-09-04T14:31:52.357Z"
   },
   {
    "duration": 4609,
    "start_time": "2024-09-04T14:31:52.881Z"
   },
   {
    "duration": 4,
    "start_time": "2024-09-04T14:31:57.491Z"
   },
   {
    "duration": 70,
    "start_time": "2024-09-04T14:31:57.497Z"
   },
   {
    "duration": 0,
    "start_time": "2024-09-04T14:31:57.570Z"
   },
   {
    "duration": 0,
    "start_time": "2024-09-04T14:31:57.570Z"
   },
   {
    "duration": 0,
    "start_time": "2024-09-04T14:31:57.572Z"
   },
   {
    "duration": 0,
    "start_time": "2024-09-04T14:31:57.573Z"
   },
   {
    "duration": 0,
    "start_time": "2024-09-04T14:31:57.574Z"
   },
   {
    "duration": 0,
    "start_time": "2024-09-04T14:31:57.575Z"
   },
   {
    "duration": 0,
    "start_time": "2024-09-04T14:31:57.576Z"
   },
   {
    "duration": 0,
    "start_time": "2024-09-04T14:31:57.577Z"
   },
   {
    "duration": 0,
    "start_time": "2024-09-04T14:31:57.578Z"
   },
   {
    "duration": 9,
    "start_time": "2024-09-04T14:58:36.185Z"
   },
   {
    "duration": 473,
    "start_time": "2024-09-04T14:58:43.906Z"
   },
   {
    "duration": 6353,
    "start_time": "2024-09-04T14:58:44.381Z"
   },
   {
    "duration": 4,
    "start_time": "2024-09-04T14:58:50.736Z"
   },
   {
    "duration": 18,
    "start_time": "2024-09-04T14:58:50.742Z"
   },
   {
    "duration": 187,
    "start_time": "2024-09-04T14:58:50.762Z"
   },
   {
    "duration": 88,
    "start_time": "2024-09-04T14:58:50.950Z"
   },
   {
    "duration": 82,
    "start_time": "2024-09-04T14:58:51.039Z"
   },
   {
    "duration": 106,
    "start_time": "2024-09-04T14:58:51.123Z"
   },
   {
    "duration": 98,
    "start_time": "2024-09-04T14:58:51.230Z"
   },
   {
    "duration": 72,
    "start_time": "2024-09-04T14:58:51.330Z"
   },
   {
    "duration": 84,
    "start_time": "2024-09-04T14:58:51.403Z"
   },
   {
    "duration": 74,
    "start_time": "2024-09-04T14:58:51.488Z"
   },
   {
    "duration": 75,
    "start_time": "2024-09-04T14:58:51.563Z"
   },
   {
    "duration": 75,
    "start_time": "2024-09-04T14:58:51.641Z"
   },
   {
    "duration": 83,
    "start_time": "2024-09-04T14:59:29.380Z"
   },
   {
    "duration": 482,
    "start_time": "2024-09-04T20:25:20.427Z"
   },
   {
    "duration": 4311,
    "start_time": "2024-09-04T20:25:20.910Z"
   },
   {
    "duration": 3,
    "start_time": "2024-09-04T20:25:25.222Z"
   },
   {
    "duration": 3,
    "start_time": "2024-09-04T20:25:25.227Z"
   },
   {
    "duration": 47,
    "start_time": "2024-09-04T20:25:25.231Z"
   },
   {
    "duration": 16,
    "start_time": "2024-09-04T20:25:25.279Z"
   },
   {
    "duration": 14,
    "start_time": "2024-09-04T20:25:25.297Z"
   },
   {
    "duration": 28,
    "start_time": "2024-09-04T20:25:25.313Z"
   },
   {
    "duration": 29,
    "start_time": "2024-09-04T20:25:25.350Z"
   },
   {
    "duration": 7,
    "start_time": "2024-09-04T20:25:25.381Z"
   },
   {
    "duration": 19,
    "start_time": "2024-09-04T20:25:25.390Z"
   },
   {
    "duration": 8,
    "start_time": "2024-09-04T20:25:25.410Z"
   },
   {
    "duration": 10,
    "start_time": "2024-09-04T20:25:25.419Z"
   },
   {
    "duration": 8,
    "start_time": "2024-09-04T20:25:25.431Z"
   },
   {
    "duration": 19,
    "start_time": "2024-09-04T21:16:06.098Z"
   },
   {
    "duration": 18,
    "start_time": "2024-09-04T21:16:15.157Z"
   },
   {
    "duration": 11,
    "start_time": "2024-09-04T21:17:37.488Z"
   },
   {
    "duration": 11,
    "start_time": "2024-09-04T21:17:42.048Z"
   },
   {
    "duration": 51,
    "start_time": "2024-09-05T04:26:05.817Z"
   },
   {
    "duration": 540,
    "start_time": "2024-09-05T04:26:12.553Z"
   },
   {
    "duration": 10948,
    "start_time": "2024-09-05T04:26:13.095Z"
   },
   {
    "duration": 3,
    "start_time": "2024-09-05T04:26:24.044Z"
   },
   {
    "duration": 6,
    "start_time": "2024-09-05T04:26:24.050Z"
   },
   {
    "duration": 189,
    "start_time": "2024-09-05T04:26:24.058Z"
   },
   {
    "duration": 80,
    "start_time": "2024-09-05T04:26:24.249Z"
   },
   {
    "duration": 77,
    "start_time": "2024-09-05T04:26:24.331Z"
   },
   {
    "duration": 111,
    "start_time": "2024-09-05T04:26:24.410Z"
   },
   {
    "duration": 106,
    "start_time": "2024-09-05T04:26:24.523Z"
   },
   {
    "duration": 69,
    "start_time": "2024-09-05T04:26:24.632Z"
   },
   {
    "duration": 81,
    "start_time": "2024-09-05T04:26:24.703Z"
   },
   {
    "duration": 71,
    "start_time": "2024-09-05T04:26:24.786Z"
   },
   {
    "duration": 75,
    "start_time": "2024-09-05T04:26:24.858Z"
   },
   {
    "duration": 74,
    "start_time": "2024-09-05T04:26:24.935Z"
   },
   {
    "duration": 72,
    "start_time": "2024-09-05T04:27:32.813Z"
   },
   {
    "duration": 73,
    "start_time": "2024-09-05T04:27:57.173Z"
   }
  ],
  "kernelspec": {
   "display_name": "Python 3 (ipykernel)",
   "language": "python",
   "name": "python3"
  },
  "language_info": {
   "codemirror_mode": {
    "name": "ipython",
    "version": 3
   },
   "file_extension": ".py",
   "mimetype": "text/x-python",
   "name": "python",
   "nbconvert_exporter": "python",
   "pygments_lexer": "ipython3",
   "version": "3.9.5"
  },
  "toc": {
   "base_numbering": 1,
   "nav_menu": {},
   "number_sections": true,
   "sideBar": true,
   "skip_h1_title": true,
   "title_cell": "Table of Contents",
   "title_sidebar": "Contents",
   "toc_cell": false,
   "toc_position": {},
   "toc_section_display": true,
   "toc_window_display": false
  }
 },
 "nbformat": 4,
 "nbformat_minor": 2
}
