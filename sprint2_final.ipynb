{
 "cells": [
  {
   "cell_type": "markdown",
   "id": "4b446ffe",
   "metadata": {},
   "source": [
    "<div style=\"border:solid Purple 2px; padding: 40px\">\n",
    "\n",
    "<b>Привет, Кирилл!👋\n",
    "\n",
    "Меня зовут Эльвира, я буду ревьюером твоего проекта. Предлагаю общаться на «ты», но если это не удобно - дай мне знать, и мы перейдем на «вы».\n",
    "\n",
    "\n",
    "Ты можешь найти мои комментарии, обозначенные <font color='green'>зеленым</font>, <font color='gold'>желтым</font> и <font color='red'>красным</font> цветами, например:\n",
    "\n",
    "\n",
    "<div class=\"alert alert-success\">\n",
    "<h2> Комментарий ревьюера 😊<a class=\"tocSkip\"> </h2>\n",
    "    \n",
    "Такими комментариями я буду помечать отлично проделаную работу😉\n",
    "</div>\n",
    "    \n",
    "<div class=\"alert alert-warning\">\n",
    "<h2> Комментарий ревьюера 🤓<a class=\"tocSkip\"> </h2>\n",
    "        \n",
    "В таких комментариях я постараюсь подсказать тебе более элегантное или легкое решение, некоторые хитрости и фишки. Части проекта, помеченные такими комментариями, можно не исправлять, но рекомендую обратить на них внимание.</div>\n",
    "\n",
    "<div class=\"alert alert-block alert-danger\">\n",
    "<h2> Комментарий ревьюера ⛔️<a class=\"tocSkip\"></h2>\n",
    "    \n",
    "В случае, когда решение на отдельном шаге требует существенной переработки и внесения правок. Если ты видишь такой комментарий, значит здесть есть недочет, который следует исправить.\n",
    "</div>\n",
    "\n",
    "Ты также можешь реагировать на мои комментарии своими, выделяя их цветами и наиболее понравившимся тебе способом оформления, но явно  отличающимся от моих комментариев. Это нужно, чтобы не создавалась путаница🙃\n",
    "    \n",
    "`<div class=\"alert alert-info\"> <b>Комментарий студента:</b> Например, вот так.</div>`\n",
    "\n",
    "Чтобы сделать подобный блок, кликни здесь дважды и скопируй всю предыдущую строку ;)\n",
    "    \n",
    "Пожалуйста, не удаляй и не перемещай мои комментарии, они будут особенно полезны для нашей работы в случае повторной проверки проекта.</div></b>"
   ]
  },
  {
   "cell_type": "markdown",
   "id": "386f2ae7",
   "metadata": {
    "deletable": false,
    "editable": false,
    "id": "386f2ae7"
   },
   "source": [
    "# Исследование надежности заемщиков\n"
   ]
  },
  {
   "cell_type": "markdown",
   "id": "3190e6ee",
   "metadata": {},
   "source": [
    "<div class=\"alert alert-warning\">\n",
    "<h2> Комментарий ревьюера 🤓<a class=\"tocSkip\"> </h2>\n",
    "\n",
    "Введение, как и общий вывод - важные части твоей работы, на которые в первую очередь обращает внимание заказчик. Введение станет лучше, если ты добавишь в него:\n",
    "* заголовок,\n",
    "\n",
    "* краткое описание проекта,\n",
    "\n",
    "* выделим цель проекта\n",
    "\n",
    "* описание данных\n",
    "\n",
    "* краткий план работы, выделим основные этапы, которые должны сделать.\n",
    "\n",
    "Тогда получатель отчета сможет быстрей его понять.\n",
    "\n",
    "</div>"
   ]
  },
  {
   "cell_type": "markdown",
   "id": "69fd2676",
   "metadata": {},
   "source": [
    "<div style=\"border:solid Purple 2px; padding: 40px\" > <h1> Исследование надёжности заёмщиков </h1>\n",
    "\n",
    "<u> Описание проекта:</u>\n",
    "\n",
    "Заказчик — кредитный отдел банка. Нужно разобраться, влияет ли семейное положение и количество детей клиента на факт погашения кредита в срок. Входные данные от банка — статистика о платёжеспособности клиентов.\n",
    "Результаты исследования будут учтены при построении модели кредитного скоринга — специальной системы, которая оценивает способность потенциального заёмщика вернуть кредит банку.\n",
    "Цель проекта \n",
    "Исследовать предоставленные данные и выдать заключение по поводу наличия либо отсутсвия требуемых зависимостей\n",
    "\n",
    "<u> Описание данных:</u>\n",
    "    \n",
    "<ol> children — количество детей в семье </ol>\n",
    "<ol> days_employed — общий трудовой стаж в днях </ol>\n",
    "<ol> dob_years — возраст клиента в годах </ol>\n",
    "<ol> education — уровень образования клиента </ol>\n",
    "<ol> education_id — идентификатор уровня образования </ol>\n",
    "<ol> family_status — семейное положение </ol> \n",
    "<ol> family_status_id — идентификатор семейного положения </ol>\n",
    "<ol> gender — пол клиента </ol>\n",
    "<ol> income_type — тип занятости </ol>\n",
    "<ol> debt — имел ли задолженность по возврату кредитов </ol>\n",
    "<ol> total_income — ежемесячный доход </ol>\n",
    "<ol> purpose — цель получения кредита </ol>\n",
    "    \n",
    "<u> Краткий план работы:</u>\n",
    "\n",
    "    \n",
    "<ol> 1)Открыть таблицу и изучить общую информацию о данных </ol>\n",
    "<ol> 2)Выполнить предобработку данных </ol>\n",
    "<ol> 3)Выполнить исследование данные и ответьте на вопросы по требуемым зависимостям</ol>\n",
    "<ol> 4)Сформировать вывод по результатам исследования </ol>\n",
    "\n",
    "</div>"
   ]
  },
  {
   "cell_type": "markdown",
   "id": "78ca5b92",
   "metadata": {},
   "source": [
    "<div class=\"alert alert-success\">\n",
    "<h2> Комментарий ревьюера 😊 v_2 <a class=\"tocSkip\"> </h2>\n",
    "    \n",
    "Отличное введение к проекту)"
   ]
  },
  {
   "cell_type": "markdown",
   "id": "ffe86f65",
   "metadata": {
    "deletable": false,
    "editable": false,
    "id": "ffe86f65"
   },
   "source": [
    "Во второй части проекта вы выполните шаги 3 и 4. Их вручную проверит ревьюер.\n",
    "Чтобы вам не пришлось писать код заново для шагов 1 и 2, мы добавили авторские решения в ячейки с кодом. \n",
    "\n"
   ]
  },
  {
   "cell_type": "markdown",
   "id": "26613308",
   "metadata": {
    "deletable": false,
    "editable": false,
    "id": "26613308"
   },
   "source": [
    "## Откройте таблицу и изучите общую информацию о данных"
   ]
  },
  {
   "cell_type": "markdown",
   "id": "3c9f838e",
   "metadata": {
    "deletable": false,
    "editable": false,
    "id": "3c9f838e"
   },
   "source": [
    "**Задание 1. Импортируйте библиотеку pandas. Считайте данные из csv-файла в датафрейм и сохраните в переменную `data`. Путь к файлу:**\n",
    "\n",
    "`/datasets/data.csv`"
   ]
  },
  {
   "cell_type": "code",
   "execution_count": 1,
   "id": "77a68a90",
   "metadata": {
    "deletable": false,
    "id": "77a68a90"
   },
   "outputs": [],
   "source": [
    "import pandas as pd\n",
    "\n",
    "try:\n",
    "    data = pd.read_csv('/datasets/data.csv')\n",
    "except:\n",
    "    data = pd.read_csv('https://code.s3.yandex.net/datasets/data.csv')"
   ]
  },
  {
   "cell_type": "markdown",
   "id": "45365635",
   "metadata": {
    "deletable": false,
    "editable": false,
    "id": "45365635"
   },
   "source": [
    "**Задание 2. Выведите первые 20 строчек датафрейма `data` на экран.**"
   ]
  },
  {
   "cell_type": "code",
   "execution_count": 2,
   "id": "b0451a9a",
   "metadata": {
    "deletable": false,
    "id": "b0451a9a",
    "outputId": "1a8f3ef2-d323-4ec2-ddf7-89670b5944c4"
   },
   "outputs": [
    {
     "data": {
      "text/html": [
       "<div>\n",
       "<style scoped>\n",
       "    .dataframe tbody tr th:only-of-type {\n",
       "        vertical-align: middle;\n",
       "    }\n",
       "\n",
       "    .dataframe tbody tr th {\n",
       "        vertical-align: top;\n",
       "    }\n",
       "\n",
       "    .dataframe thead th {\n",
       "        text-align: right;\n",
       "    }\n",
       "</style>\n",
       "<table border=\"1\" class=\"dataframe\">\n",
       "  <thead>\n",
       "    <tr style=\"text-align: right;\">\n",
       "      <th></th>\n",
       "      <th>children</th>\n",
       "      <th>days_employed</th>\n",
       "      <th>dob_years</th>\n",
       "      <th>education</th>\n",
       "      <th>education_id</th>\n",
       "      <th>family_status</th>\n",
       "      <th>family_status_id</th>\n",
       "      <th>gender</th>\n",
       "      <th>income_type</th>\n",
       "      <th>debt</th>\n",
       "      <th>total_income</th>\n",
       "      <th>purpose</th>\n",
       "    </tr>\n",
       "  </thead>\n",
       "  <tbody>\n",
       "    <tr>\n",
       "      <th>0</th>\n",
       "      <td>1</td>\n",
       "      <td>-8437.673028</td>\n",
       "      <td>42</td>\n",
       "      <td>высшее</td>\n",
       "      <td>0</td>\n",
       "      <td>женат / замужем</td>\n",
       "      <td>0</td>\n",
       "      <td>F</td>\n",
       "      <td>сотрудник</td>\n",
       "      <td>0</td>\n",
       "      <td>253875.639453</td>\n",
       "      <td>покупка жилья</td>\n",
       "    </tr>\n",
       "    <tr>\n",
       "      <th>1</th>\n",
       "      <td>1</td>\n",
       "      <td>-4024.803754</td>\n",
       "      <td>36</td>\n",
       "      <td>среднее</td>\n",
       "      <td>1</td>\n",
       "      <td>женат / замужем</td>\n",
       "      <td>0</td>\n",
       "      <td>F</td>\n",
       "      <td>сотрудник</td>\n",
       "      <td>0</td>\n",
       "      <td>112080.014102</td>\n",
       "      <td>приобретение автомобиля</td>\n",
       "    </tr>\n",
       "    <tr>\n",
       "      <th>2</th>\n",
       "      <td>0</td>\n",
       "      <td>-5623.422610</td>\n",
       "      <td>33</td>\n",
       "      <td>Среднее</td>\n",
       "      <td>1</td>\n",
       "      <td>женат / замужем</td>\n",
       "      <td>0</td>\n",
       "      <td>M</td>\n",
       "      <td>сотрудник</td>\n",
       "      <td>0</td>\n",
       "      <td>145885.952297</td>\n",
       "      <td>покупка жилья</td>\n",
       "    </tr>\n",
       "    <tr>\n",
       "      <th>3</th>\n",
       "      <td>3</td>\n",
       "      <td>-4124.747207</td>\n",
       "      <td>32</td>\n",
       "      <td>среднее</td>\n",
       "      <td>1</td>\n",
       "      <td>женат / замужем</td>\n",
       "      <td>0</td>\n",
       "      <td>M</td>\n",
       "      <td>сотрудник</td>\n",
       "      <td>0</td>\n",
       "      <td>267628.550329</td>\n",
       "      <td>дополнительное образование</td>\n",
       "    </tr>\n",
       "    <tr>\n",
       "      <th>4</th>\n",
       "      <td>0</td>\n",
       "      <td>340266.072047</td>\n",
       "      <td>53</td>\n",
       "      <td>среднее</td>\n",
       "      <td>1</td>\n",
       "      <td>гражданский брак</td>\n",
       "      <td>1</td>\n",
       "      <td>F</td>\n",
       "      <td>пенсионер</td>\n",
       "      <td>0</td>\n",
       "      <td>158616.077870</td>\n",
       "      <td>сыграть свадьбу</td>\n",
       "    </tr>\n",
       "    <tr>\n",
       "      <th>5</th>\n",
       "      <td>0</td>\n",
       "      <td>-926.185831</td>\n",
       "      <td>27</td>\n",
       "      <td>высшее</td>\n",
       "      <td>0</td>\n",
       "      <td>гражданский брак</td>\n",
       "      <td>1</td>\n",
       "      <td>M</td>\n",
       "      <td>компаньон</td>\n",
       "      <td>0</td>\n",
       "      <td>255763.565419</td>\n",
       "      <td>покупка жилья</td>\n",
       "    </tr>\n",
       "    <tr>\n",
       "      <th>6</th>\n",
       "      <td>0</td>\n",
       "      <td>-2879.202052</td>\n",
       "      <td>43</td>\n",
       "      <td>высшее</td>\n",
       "      <td>0</td>\n",
       "      <td>женат / замужем</td>\n",
       "      <td>0</td>\n",
       "      <td>F</td>\n",
       "      <td>компаньон</td>\n",
       "      <td>0</td>\n",
       "      <td>240525.971920</td>\n",
       "      <td>операции с жильем</td>\n",
       "    </tr>\n",
       "    <tr>\n",
       "      <th>7</th>\n",
       "      <td>0</td>\n",
       "      <td>-152.779569</td>\n",
       "      <td>50</td>\n",
       "      <td>СРЕДНЕЕ</td>\n",
       "      <td>1</td>\n",
       "      <td>женат / замужем</td>\n",
       "      <td>0</td>\n",
       "      <td>M</td>\n",
       "      <td>сотрудник</td>\n",
       "      <td>0</td>\n",
       "      <td>135823.934197</td>\n",
       "      <td>образование</td>\n",
       "    </tr>\n",
       "    <tr>\n",
       "      <th>8</th>\n",
       "      <td>2</td>\n",
       "      <td>-6929.865299</td>\n",
       "      <td>35</td>\n",
       "      <td>ВЫСШЕЕ</td>\n",
       "      <td>0</td>\n",
       "      <td>гражданский брак</td>\n",
       "      <td>1</td>\n",
       "      <td>F</td>\n",
       "      <td>сотрудник</td>\n",
       "      <td>0</td>\n",
       "      <td>95856.832424</td>\n",
       "      <td>на проведение свадьбы</td>\n",
       "    </tr>\n",
       "    <tr>\n",
       "      <th>9</th>\n",
       "      <td>0</td>\n",
       "      <td>-2188.756445</td>\n",
       "      <td>41</td>\n",
       "      <td>среднее</td>\n",
       "      <td>1</td>\n",
       "      <td>женат / замужем</td>\n",
       "      <td>0</td>\n",
       "      <td>M</td>\n",
       "      <td>сотрудник</td>\n",
       "      <td>0</td>\n",
       "      <td>144425.938277</td>\n",
       "      <td>покупка жилья для семьи</td>\n",
       "    </tr>\n",
       "    <tr>\n",
       "      <th>10</th>\n",
       "      <td>2</td>\n",
       "      <td>-4171.483647</td>\n",
       "      <td>36</td>\n",
       "      <td>высшее</td>\n",
       "      <td>0</td>\n",
       "      <td>женат / замужем</td>\n",
       "      <td>0</td>\n",
       "      <td>M</td>\n",
       "      <td>компаньон</td>\n",
       "      <td>0</td>\n",
       "      <td>113943.491460</td>\n",
       "      <td>покупка недвижимости</td>\n",
       "    </tr>\n",
       "    <tr>\n",
       "      <th>11</th>\n",
       "      <td>0</td>\n",
       "      <td>-792.701887</td>\n",
       "      <td>40</td>\n",
       "      <td>среднее</td>\n",
       "      <td>1</td>\n",
       "      <td>женат / замужем</td>\n",
       "      <td>0</td>\n",
       "      <td>F</td>\n",
       "      <td>сотрудник</td>\n",
       "      <td>0</td>\n",
       "      <td>77069.234271</td>\n",
       "      <td>покупка коммерческой недвижимости</td>\n",
       "    </tr>\n",
       "    <tr>\n",
       "      <th>12</th>\n",
       "      <td>0</td>\n",
       "      <td>NaN</td>\n",
       "      <td>65</td>\n",
       "      <td>среднее</td>\n",
       "      <td>1</td>\n",
       "      <td>гражданский брак</td>\n",
       "      <td>1</td>\n",
       "      <td>M</td>\n",
       "      <td>пенсионер</td>\n",
       "      <td>0</td>\n",
       "      <td>NaN</td>\n",
       "      <td>сыграть свадьбу</td>\n",
       "    </tr>\n",
       "    <tr>\n",
       "      <th>13</th>\n",
       "      <td>0</td>\n",
       "      <td>-1846.641941</td>\n",
       "      <td>54</td>\n",
       "      <td>неоконченное высшее</td>\n",
       "      <td>2</td>\n",
       "      <td>женат / замужем</td>\n",
       "      <td>0</td>\n",
       "      <td>F</td>\n",
       "      <td>сотрудник</td>\n",
       "      <td>0</td>\n",
       "      <td>130458.228857</td>\n",
       "      <td>приобретение автомобиля</td>\n",
       "    </tr>\n",
       "    <tr>\n",
       "      <th>14</th>\n",
       "      <td>0</td>\n",
       "      <td>-1844.956182</td>\n",
       "      <td>56</td>\n",
       "      <td>высшее</td>\n",
       "      <td>0</td>\n",
       "      <td>гражданский брак</td>\n",
       "      <td>1</td>\n",
       "      <td>F</td>\n",
       "      <td>компаньон</td>\n",
       "      <td>1</td>\n",
       "      <td>165127.911772</td>\n",
       "      <td>покупка жилой недвижимости</td>\n",
       "    </tr>\n",
       "    <tr>\n",
       "      <th>15</th>\n",
       "      <td>1</td>\n",
       "      <td>-972.364419</td>\n",
       "      <td>26</td>\n",
       "      <td>среднее</td>\n",
       "      <td>1</td>\n",
       "      <td>женат / замужем</td>\n",
       "      <td>0</td>\n",
       "      <td>F</td>\n",
       "      <td>сотрудник</td>\n",
       "      <td>0</td>\n",
       "      <td>116820.904450</td>\n",
       "      <td>строительство собственной недвижимости</td>\n",
       "    </tr>\n",
       "    <tr>\n",
       "      <th>16</th>\n",
       "      <td>0</td>\n",
       "      <td>-1719.934226</td>\n",
       "      <td>35</td>\n",
       "      <td>среднее</td>\n",
       "      <td>1</td>\n",
       "      <td>женат / замужем</td>\n",
       "      <td>0</td>\n",
       "      <td>F</td>\n",
       "      <td>сотрудник</td>\n",
       "      <td>0</td>\n",
       "      <td>289202.704229</td>\n",
       "      <td>недвижимость</td>\n",
       "    </tr>\n",
       "    <tr>\n",
       "      <th>17</th>\n",
       "      <td>0</td>\n",
       "      <td>-2369.999720</td>\n",
       "      <td>33</td>\n",
       "      <td>высшее</td>\n",
       "      <td>0</td>\n",
       "      <td>гражданский брак</td>\n",
       "      <td>1</td>\n",
       "      <td>M</td>\n",
       "      <td>сотрудник</td>\n",
       "      <td>0</td>\n",
       "      <td>90410.586745</td>\n",
       "      <td>строительство недвижимости</td>\n",
       "    </tr>\n",
       "    <tr>\n",
       "      <th>18</th>\n",
       "      <td>0</td>\n",
       "      <td>400281.136913</td>\n",
       "      <td>53</td>\n",
       "      <td>среднее</td>\n",
       "      <td>1</td>\n",
       "      <td>вдовец / вдова</td>\n",
       "      <td>2</td>\n",
       "      <td>F</td>\n",
       "      <td>пенсионер</td>\n",
       "      <td>0</td>\n",
       "      <td>56823.777243</td>\n",
       "      <td>на покупку подержанного автомобиля</td>\n",
       "    </tr>\n",
       "    <tr>\n",
       "      <th>19</th>\n",
       "      <td>0</td>\n",
       "      <td>-10038.818549</td>\n",
       "      <td>48</td>\n",
       "      <td>СРЕДНЕЕ</td>\n",
       "      <td>1</td>\n",
       "      <td>в разводе</td>\n",
       "      <td>3</td>\n",
       "      <td>F</td>\n",
       "      <td>сотрудник</td>\n",
       "      <td>0</td>\n",
       "      <td>242831.107982</td>\n",
       "      <td>на покупку своего автомобиля</td>\n",
       "    </tr>\n",
       "  </tbody>\n",
       "</table>\n",
       "</div>"
      ],
      "text/plain": [
       "    children  days_employed  dob_years            education  education_id  \\\n",
       "0          1   -8437.673028         42               высшее             0   \n",
       "1          1   -4024.803754         36              среднее             1   \n",
       "2          0   -5623.422610         33              Среднее             1   \n",
       "3          3   -4124.747207         32              среднее             1   \n",
       "4          0  340266.072047         53              среднее             1   \n",
       "5          0    -926.185831         27               высшее             0   \n",
       "6          0   -2879.202052         43               высшее             0   \n",
       "7          0    -152.779569         50              СРЕДНЕЕ             1   \n",
       "8          2   -6929.865299         35               ВЫСШЕЕ             0   \n",
       "9          0   -2188.756445         41              среднее             1   \n",
       "10         2   -4171.483647         36               высшее             0   \n",
       "11         0    -792.701887         40              среднее             1   \n",
       "12         0            NaN         65              среднее             1   \n",
       "13         0   -1846.641941         54  неоконченное высшее             2   \n",
       "14         0   -1844.956182         56               высшее             0   \n",
       "15         1    -972.364419         26              среднее             1   \n",
       "16         0   -1719.934226         35              среднее             1   \n",
       "17         0   -2369.999720         33               высшее             0   \n",
       "18         0  400281.136913         53              среднее             1   \n",
       "19         0  -10038.818549         48              СРЕДНЕЕ             1   \n",
       "\n",
       "       family_status  family_status_id gender income_type  debt  \\\n",
       "0    женат / замужем                 0      F   сотрудник     0   \n",
       "1    женат / замужем                 0      F   сотрудник     0   \n",
       "2    женат / замужем                 0      M   сотрудник     0   \n",
       "3    женат / замужем                 0      M   сотрудник     0   \n",
       "4   гражданский брак                 1      F   пенсионер     0   \n",
       "5   гражданский брак                 1      M   компаньон     0   \n",
       "6    женат / замужем                 0      F   компаньон     0   \n",
       "7    женат / замужем                 0      M   сотрудник     0   \n",
       "8   гражданский брак                 1      F   сотрудник     0   \n",
       "9    женат / замужем                 0      M   сотрудник     0   \n",
       "10   женат / замужем                 0      M   компаньон     0   \n",
       "11   женат / замужем                 0      F   сотрудник     0   \n",
       "12  гражданский брак                 1      M   пенсионер     0   \n",
       "13   женат / замужем                 0      F   сотрудник     0   \n",
       "14  гражданский брак                 1      F   компаньон     1   \n",
       "15   женат / замужем                 0      F   сотрудник     0   \n",
       "16   женат / замужем                 0      F   сотрудник     0   \n",
       "17  гражданский брак                 1      M   сотрудник     0   \n",
       "18    вдовец / вдова                 2      F   пенсионер     0   \n",
       "19         в разводе                 3      F   сотрудник     0   \n",
       "\n",
       "     total_income                                 purpose  \n",
       "0   253875.639453                           покупка жилья  \n",
       "1   112080.014102                 приобретение автомобиля  \n",
       "2   145885.952297                           покупка жилья  \n",
       "3   267628.550329              дополнительное образование  \n",
       "4   158616.077870                         сыграть свадьбу  \n",
       "5   255763.565419                           покупка жилья  \n",
       "6   240525.971920                       операции с жильем  \n",
       "7   135823.934197                             образование  \n",
       "8    95856.832424                   на проведение свадьбы  \n",
       "9   144425.938277                 покупка жилья для семьи  \n",
       "10  113943.491460                    покупка недвижимости  \n",
       "11   77069.234271       покупка коммерческой недвижимости  \n",
       "12            NaN                         сыграть свадьбу  \n",
       "13  130458.228857                 приобретение автомобиля  \n",
       "14  165127.911772              покупка жилой недвижимости  \n",
       "15  116820.904450  строительство собственной недвижимости  \n",
       "16  289202.704229                            недвижимость  \n",
       "17   90410.586745              строительство недвижимости  \n",
       "18   56823.777243      на покупку подержанного автомобиля  \n",
       "19  242831.107982            на покупку своего автомобиля  "
      ]
     },
     "execution_count": 2,
     "metadata": {},
     "output_type": "execute_result"
    }
   ],
   "source": [
    "data.head(20)"
   ]
  },
  {
   "cell_type": "markdown",
   "id": "0ed8f27f",
   "metadata": {
    "deletable": false,
    "editable": false,
    "id": "0ed8f27f"
   },
   "source": [
    "**Задание 3. Выведите основную информацию о датафрейме с помощью метода `info()`.**"
   ]
  },
  {
   "cell_type": "code",
   "execution_count": 3,
   "id": "ab3f863b",
   "metadata": {
    "deletable": false,
    "id": "ab3f863b",
    "outputId": "15376089-8dad-46c9-b520-c05248d43158"
   },
   "outputs": [
    {
     "name": "stdout",
     "output_type": "stream",
     "text": [
      "<class 'pandas.core.frame.DataFrame'>\n",
      "RangeIndex: 21525 entries, 0 to 21524\n",
      "Data columns (total 12 columns):\n",
      " #   Column            Non-Null Count  Dtype  \n",
      "---  ------            --------------  -----  \n",
      " 0   children          21525 non-null  int64  \n",
      " 1   days_employed     19351 non-null  float64\n",
      " 2   dob_years         21525 non-null  int64  \n",
      " 3   education         21525 non-null  object \n",
      " 4   education_id      21525 non-null  int64  \n",
      " 5   family_status     21525 non-null  object \n",
      " 6   family_status_id  21525 non-null  int64  \n",
      " 7   gender            21525 non-null  object \n",
      " 8   income_type       21525 non-null  object \n",
      " 9   debt              21525 non-null  int64  \n",
      " 10  total_income      19351 non-null  float64\n",
      " 11  purpose           21525 non-null  object \n",
      "dtypes: float64(2), int64(5), object(5)\n",
      "memory usage: 2.0+ MB\n"
     ]
    }
   ],
   "source": [
    "data.info()"
   ]
  },
  {
   "cell_type": "markdown",
   "id": "60e3e22d",
   "metadata": {
    "deletable": false,
    "editable": false,
    "id": "60e3e22d"
   },
   "source": [
    "## Предобработка данных"
   ]
  },
  {
   "cell_type": "markdown",
   "id": "03dc170c",
   "metadata": {
    "deletable": false,
    "editable": false,
    "id": "03dc170c"
   },
   "source": [
    "### Удаление пропусков"
   ]
  },
  {
   "cell_type": "markdown",
   "id": "a4f54eef",
   "metadata": {
    "deletable": false,
    "editable": false,
    "id": "a4f54eef"
   },
   "source": [
    "**Задание 4. Выведите количество пропущенных значений для каждого столбца. Используйте комбинацию двух методов.**"
   ]
  },
  {
   "cell_type": "code",
   "execution_count": 4,
   "id": "2dc372b2",
   "metadata": {
    "deletable": false,
    "id": "2dc372b2",
    "outputId": "81f4d817-781c-465c-ed15-91ce4446810d"
   },
   "outputs": [
    {
     "data": {
      "text/plain": [
       "children               0\n",
       "days_employed       2174\n",
       "dob_years              0\n",
       "education              0\n",
       "education_id           0\n",
       "family_status          0\n",
       "family_status_id       0\n",
       "gender                 0\n",
       "income_type            0\n",
       "debt                   0\n",
       "total_income        2174\n",
       "purpose                0\n",
       "dtype: int64"
      ]
     },
     "execution_count": 4,
     "metadata": {},
     "output_type": "execute_result"
    }
   ],
   "source": [
    "data.isna().sum()"
   ]
  },
  {
   "cell_type": "markdown",
   "id": "14f011b1",
   "metadata": {
    "deletable": false,
    "editable": false,
    "id": "14f011b1"
   },
   "source": [
    "**Задание 5. В двух столбцах есть пропущенные значения. Один из них — `days_employed`. Пропуски в этом столбце вы обработаете на следующем этапе. Другой столбец с пропущенными значениями — `total_income` — хранит данные о доходах. На сумму дохода сильнее всего влияет тип занятости, поэтому заполнить пропуски в этом столбце нужно медианным значением по каждому типу из столбца `income_type`. Например, у человека с типом занятости `сотрудник` пропуск в столбце `total_income` должен быть заполнен медианным доходом среди всех записей с тем же типом.**"
   ]
  },
  {
   "cell_type": "code",
   "execution_count": 5,
   "id": "bdabfb6e",
   "metadata": {
    "deletable": false,
    "id": "bdabfb6e"
   },
   "outputs": [],
   "source": [
    "for t in data['income_type'].unique():\n",
    "    data.loc[(data['income_type'] == t) & (data['total_income'].isna()), 'total_income'] = \\\n",
    "    data.loc[(data['income_type'] == t), 'total_income'].median()"
   ]
  },
  {
   "cell_type": "markdown",
   "id": "5be34059",
   "metadata": {
    "deletable": false,
    "editable": false,
    "id": "5be34059"
   },
   "source": [
    "### Обработка аномальных значений"
   ]
  },
  {
   "cell_type": "markdown",
   "id": "a87606cb",
   "metadata": {
    "deletable": false,
    "editable": false,
    "id": "a87606cb"
   },
   "source": [
    "**Задание 6. В данных могут встречаться артефакты (аномалии) — значения, которые не отражают действительность и появились по какой-то ошибке. таким артефактом будет отрицательное количество дней трудового стажа в столбце `days_employed`. Для реальных данных это нормально. Обработайте значения в этом столбце: замените все отрицательные значения положительными с помощью метода `abs()`.**"
   ]
  },
  {
   "cell_type": "code",
   "execution_count": 6,
   "id": "020c46cc",
   "metadata": {
    "deletable": false,
    "id": "020c46cc"
   },
   "outputs": [],
   "source": [
    "data['days_employed'] = data['days_employed'].abs()"
   ]
  },
  {
   "cell_type": "markdown",
   "id": "45538a3a",
   "metadata": {
    "deletable": false,
    "editable": false,
    "id": "45538a3a"
   },
   "source": [
    "**Задание 7. Для каждого типа занятости выведите медианное значение трудового стажа `days_employed` в днях.**"
   ]
  },
  {
   "cell_type": "code",
   "execution_count": 7,
   "id": "cd3e6328",
   "metadata": {
    "deletable": false,
    "id": "cd3e6328",
    "outputId": "801ef80e-522b-4668-f34e-565af7432bcf"
   },
   "outputs": [
    {
     "data": {
      "text/plain": [
       "income_type\n",
       "безработный        366413.652744\n",
       "в декрете            3296.759962\n",
       "госслужащий          2689.368353\n",
       "компаньон            1547.382223\n",
       "пенсионер          365213.306266\n",
       "предприниматель       520.848083\n",
       "сотрудник            1574.202821\n",
       "студент               578.751554\n",
       "Name: days_employed, dtype: float64"
      ]
     },
     "execution_count": 7,
     "metadata": {},
     "output_type": "execute_result"
    }
   ],
   "source": [
    "data.groupby('income_type')['days_employed'].agg('median')"
   ]
  },
  {
   "cell_type": "markdown",
   "id": "90c5f058",
   "metadata": {
    "deletable": false,
    "editable": false,
    "id": "90c5f058"
   },
   "source": [
    "У двух типов (безработные и пенсионеры) получатся аномально большие значения. Исправить такие значения сложно, поэтому оставьте их как есть."
   ]
  },
  {
   "cell_type": "markdown",
   "id": "9652e50d",
   "metadata": {
    "deletable": false,
    "editable": false,
    "id": "9652e50d"
   },
   "source": [
    "**Задание 8. Выведите перечень уникальных значений столбца `children`.**"
   ]
  },
  {
   "cell_type": "code",
   "execution_count": 8,
   "id": "dbb37b8e",
   "metadata": {
    "deletable": false,
    "id": "dbb37b8e",
    "outputId": "6975b15c-7f95-4697-d16d-a0c79b657b03"
   },
   "outputs": [
    {
     "data": {
      "text/plain": [
       "array([ 1,  0,  3,  2, -1,  4, 20,  5])"
      ]
     },
     "execution_count": 8,
     "metadata": {},
     "output_type": "execute_result"
    }
   ],
   "source": [
    "data['children'].unique()"
   ]
  },
  {
   "cell_type": "markdown",
   "id": "2b8b0715",
   "metadata": {
    "deletable": false,
    "editable": false,
    "id": "2b8b0715"
   },
   "source": [
    "**Задание 9. В столбце `children` есть два аномальных значения. Удалите строки, в которых встречаются такие аномальные значения из датафрейма `data`.**"
   ]
  },
  {
   "cell_type": "code",
   "execution_count": 9,
   "id": "20009df8",
   "metadata": {
    "deletable": false,
    "id": "20009df8"
   },
   "outputs": [],
   "source": [
    "data = data[(data['children'] != -1) & (data['children'] != 20)]"
   ]
  },
  {
   "cell_type": "markdown",
   "id": "8c6ac9f1",
   "metadata": {
    "deletable": false,
    "editable": false,
    "id": "8c6ac9f1"
   },
   "source": [
    "**Задание 10. Ещё раз выведите перечень уникальных значений столбца `children`, чтобы убедиться, что артефакты удалены.**"
   ]
  },
  {
   "cell_type": "code",
   "execution_count": 10,
   "id": "07337b81",
   "metadata": {
    "deletable": false,
    "id": "07337b81",
    "outputId": "b2097101-d49d-44d9-901b-32a65c9463d1"
   },
   "outputs": [
    {
     "data": {
      "text/plain": [
       "array([1, 0, 3, 2, 4, 5])"
      ]
     },
     "execution_count": 10,
     "metadata": {},
     "output_type": "execute_result"
    }
   ],
   "source": [
    "data['children'].unique()"
   ]
  },
  {
   "cell_type": "markdown",
   "id": "ee3f52d4",
   "metadata": {
    "deletable": false,
    "editable": false,
    "id": "ee3f52d4"
   },
   "source": [
    "### Удаление пропусков (продолжение)"
   ]
  },
  {
   "cell_type": "markdown",
   "id": "a700b0e4",
   "metadata": {
    "deletable": false,
    "editable": false,
    "id": "a700b0e4"
   },
   "source": [
    "**Задание 11. Заполните пропуски в столбце `days_employed` медианными значениями по каждого типа занятости `income_type`.**"
   ]
  },
  {
   "cell_type": "code",
   "execution_count": 11,
   "id": "61946b83",
   "metadata": {
    "deletable": false,
    "id": "61946b83"
   },
   "outputs": [],
   "source": [
    "for t in data['income_type'].unique():\n",
    "    data.loc[(data['income_type'] == t) & (data['days_employed'].isna()), 'days_employed'] = \\\n",
    "    data.loc[(data['income_type'] == t), 'days_employed'].median()"
   ]
  },
  {
   "cell_type": "markdown",
   "id": "550dcd9b",
   "metadata": {
    "deletable": false,
    "editable": false,
    "id": "550dcd9b"
   },
   "source": [
    "**Задание 12. Убедитесь, что все пропуски заполнены. Проверьте себя и ещё раз выведите количество пропущенных значений для каждого столбца с помощью двух методов.**"
   ]
  },
  {
   "cell_type": "code",
   "execution_count": 12,
   "id": "937c7014",
   "metadata": {
    "deletable": false,
    "id": "937c7014",
    "outputId": "8da1e4e1-358e-4e87-98c9-f261bce0a7b2"
   },
   "outputs": [
    {
     "data": {
      "text/plain": [
       "children            0\n",
       "days_employed       0\n",
       "dob_years           0\n",
       "education           0\n",
       "education_id        0\n",
       "family_status       0\n",
       "family_status_id    0\n",
       "gender              0\n",
       "income_type         0\n",
       "debt                0\n",
       "total_income        0\n",
       "purpose             0\n",
       "dtype: int64"
      ]
     },
     "execution_count": 12,
     "metadata": {},
     "output_type": "execute_result"
    }
   ],
   "source": [
    "data.isna().sum()"
   ]
  },
  {
   "cell_type": "markdown",
   "id": "d522e295",
   "metadata": {
    "deletable": false,
    "editable": false,
    "id": "d522e295"
   },
   "source": [
    "### Изменение типов данных"
   ]
  },
  {
   "cell_type": "markdown",
   "id": "c229c581",
   "metadata": {
    "deletable": false,
    "editable": false,
    "id": "c229c581"
   },
   "source": [
    "**Задание 13. Замените вещественный тип данных в столбце `total_income` на целочисленный с помощью метода `astype()`.**"
   ]
  },
  {
   "cell_type": "code",
   "execution_count": 13,
   "id": "31036462",
   "metadata": {
    "deletable": false,
    "id": "31036462"
   },
   "outputs": [],
   "source": [
    "data['total_income'] = data['total_income'].astype(int)"
   ]
  },
  {
   "cell_type": "markdown",
   "id": "b8e3d1d9",
   "metadata": {
    "deletable": false,
    "editable": false,
    "id": "b8e3d1d9"
   },
   "source": [
    "### Обработка дубликатов"
   ]
  },
  {
   "cell_type": "markdown",
   "id": "9be53c49",
   "metadata": {
    "deletable": false,
    "editable": false,
    "id": "9be53c49"
   },
   "source": [
    "**Задание 14. Обработайте неявные дубликаты в столбце `education`. В этом столбце есть одни и те же значения, но записанные по-разному: с использованием заглавных и строчных букв. Приведите их к нижнему регистру.**"
   ]
  },
  {
   "cell_type": "code",
   "execution_count": 14,
   "id": "d89e73e1",
   "metadata": {
    "deletable": false,
    "id": "d89e73e1"
   },
   "outputs": [],
   "source": [
    "data['education'] = data['education'].str.lower()"
   ]
  },
  {
   "cell_type": "markdown",
   "id": "01d4500e",
   "metadata": {
    "deletable": false,
    "editable": false,
    "id": "01d4500e"
   },
   "source": [
    "**Задание 15. Выведите на экран количество строк-дубликатов в данных. Если такие строки присутствуют, удалите их.**"
   ]
  },
  {
   "cell_type": "code",
   "execution_count": 15,
   "id": "e10efb23",
   "metadata": {
    "deletable": false,
    "id": "e10efb23",
    "outputId": "9684deba-1934-42d1-99e1-cda61740f822"
   },
   "outputs": [
    {
     "data": {
      "text/plain": [
       "71"
      ]
     },
     "execution_count": 15,
     "metadata": {},
     "output_type": "execute_result"
    }
   ],
   "source": [
    "data.duplicated().sum()"
   ]
  },
  {
   "cell_type": "code",
   "execution_count": 16,
   "id": "df853f20",
   "metadata": {
    "deletable": false,
    "id": "df853f20"
   },
   "outputs": [],
   "source": [
    "data = data.drop_duplicates()"
   ]
  },
  {
   "cell_type": "markdown",
   "id": "627be38f",
   "metadata": {
    "deletable": false,
    "editable": false,
    "id": "627be38f"
   },
   "source": [
    "### Категоризация данных"
   ]
  },
  {
   "cell_type": "markdown",
   "id": "4684c3e0",
   "metadata": {
    "deletable": false,
    "editable": false,
    "id": "4684c3e0"
   },
   "source": [
    "**Задание 16. На основании диапазонов, указанных ниже, создайте в датафрейме `data` столбец `total_income_category` с категориями:**\n",
    "\n",
    "- 0–30000 — `'E'`;\n",
    "- 30001–50000 — `'D'`;\n",
    "- 50001–200000 — `'C'`;\n",
    "- 200001–1000000 — `'B'`;\n",
    "- 1000001 и выше — `'A'`.\n",
    "\n",
    "\n",
    "**Например, кредитополучателю с доходом 25000 нужно назначить категорию `'E'`, а клиенту, получающему 235000, — `'B'`. Используйте собственную функцию с именем `categorize_income()` и метод `apply()`.**"
   ]
  },
  {
   "cell_type": "code",
   "execution_count": 17,
   "id": "78965238",
   "metadata": {
    "deletable": false,
    "id": "78965238"
   },
   "outputs": [],
   "source": [
    "def categorize_income(income):\n",
    "    try:\n",
    "        if 0 <= income <= 30000:\n",
    "            return 'E'\n",
    "        elif 30001 <= income <= 50000:\n",
    "            return 'D'\n",
    "        elif 50001 <= income <= 200000:\n",
    "            return 'C'\n",
    "        elif 200001 <= income <= 1000000:\n",
    "            return 'B'\n",
    "        elif income >= 1000001:\n",
    "            return 'A'\n",
    "    except:\n",
    "        pass"
   ]
  },
  {
   "cell_type": "code",
   "execution_count": 18,
   "id": "0980ada1",
   "metadata": {
    "deletable": false,
    "id": "0980ada1"
   },
   "outputs": [],
   "source": [
    "data['total_income_category'] = data['total_income'].apply(categorize_income)"
   ]
  },
  {
   "cell_type": "markdown",
   "id": "9917bba0",
   "metadata": {
    "deletable": false,
    "editable": false,
    "id": "9917bba0"
   },
   "source": [
    "**Задание 17. Выведите на экран перечень уникальных целей взятия кредита из столбца `purpose`.**"
   ]
  },
  {
   "cell_type": "code",
   "execution_count": 19,
   "id": "ee07b65e",
   "metadata": {
    "deletable": false,
    "id": "ee07b65e",
    "outputId": "673c12d9-7d7e-4ae0-9812-c622c89dd244"
   },
   "outputs": [
    {
     "data": {
      "text/plain": [
       "array(['покупка жилья', 'приобретение автомобиля',\n",
       "       'дополнительное образование', 'сыграть свадьбу',\n",
       "       'операции с жильем', 'образование', 'на проведение свадьбы',\n",
       "       'покупка жилья для семьи', 'покупка недвижимости',\n",
       "       'покупка коммерческой недвижимости', 'покупка жилой недвижимости',\n",
       "       'строительство собственной недвижимости', 'недвижимость',\n",
       "       'строительство недвижимости', 'на покупку подержанного автомобиля',\n",
       "       'на покупку своего автомобиля',\n",
       "       'операции с коммерческой недвижимостью',\n",
       "       'строительство жилой недвижимости', 'жилье',\n",
       "       'операции со своей недвижимостью', 'автомобили',\n",
       "       'заняться образованием', 'сделка с подержанным автомобилем',\n",
       "       'получение образования', 'автомобиль', 'свадьба',\n",
       "       'получение дополнительного образования', 'покупка своего жилья',\n",
       "       'операции с недвижимостью', 'получение высшего образования',\n",
       "       'свой автомобиль', 'сделка с автомобилем',\n",
       "       'профильное образование', 'высшее образование',\n",
       "       'покупка жилья для сдачи', 'на покупку автомобиля', 'ремонт жилью',\n",
       "       'заняться высшим образованием'], dtype=object)"
      ]
     },
     "execution_count": 19,
     "metadata": {},
     "output_type": "execute_result"
    }
   ],
   "source": [
    "data['purpose'].unique()"
   ]
  },
  {
   "cell_type": "markdown",
   "id": "52b79d56",
   "metadata": {
    "deletable": false,
    "editable": false,
    "id": "52b79d56"
   },
   "source": [
    "**Задание 18. Создайте функцию, которая на основании данных из столбца `purpose` сформирует новый столбец `purpose_category`, в который войдут следующие категории:**\n",
    "\n",
    "- `'операции с автомобилем'`,\n",
    "- `'операции с недвижимостью'`,\n",
    "- `'проведение свадьбы'`,\n",
    "- `'получение образования'`.\n",
    "\n",
    "**Например, если в столбце `purpose` находится подстрока `'на покупку автомобиля'`, то в столбце `purpose_category` должна появиться строка `'операции с автомобилем'`.**\n",
    "\n",
    "**Используйте собственную функцию с именем `categorize_purpose()` и метод `apply()`. Изучите данные в столбце `purpose` и определите, какие подстроки помогут вам правильно определить категорию.**"
   ]
  },
  {
   "cell_type": "code",
   "execution_count": 20,
   "id": "be41da5d",
   "metadata": {
    "deletable": false,
    "id": "be41da5d"
   },
   "outputs": [],
   "source": [
    "def categorize_purpose(row):\n",
    "    try:\n",
    "        if 'автом' in row:\n",
    "            return 'операции с автомобилем'\n",
    "        elif 'жил' in row or 'недвиж' in row:\n",
    "            return 'операции с недвижимостью'\n",
    "        elif 'свад' in row:\n",
    "            return 'проведение свадьбы'\n",
    "        elif 'образов' in row:\n",
    "            return 'получение образования'\n",
    "    except:\n",
    "        return 'нет категории'"
   ]
  },
  {
   "cell_type": "code",
   "execution_count": 21,
   "id": "94c4a19a",
   "metadata": {
    "deletable": false,
    "id": "94c4a19a"
   },
   "outputs": [],
   "source": [
    "data['purpose_category'] = data['purpose'].apply(categorize_purpose)"
   ]
  },
  {
   "cell_type": "markdown",
   "id": "3d596c34",
   "metadata": {
    "deletable": false,
    "editable": false,
    "id": "3d596c34"
   },
   "source": [
    "### Шаг 3. Исследуйте данные и ответьте на вопросы"
   ]
  },
  {
   "cell_type": "markdown",
   "id": "648db036",
   "metadata": {
    "deletable": false,
    "editable": false,
    "id": "648db036"
   },
   "source": [
    "#### 3.1 Есть ли зависимость между количеством детей и возвратом кредита в срок?"
   ]
  },
  {
   "cell_type": "code",
   "execution_count": 22,
   "id": "7fcff25e",
   "metadata": {
    "deletable": false,
    "id": "7fcff25e"
   },
   "outputs": [],
   "source": [
    "# Ваш код будет здесь. Вы можете создавать новые ячейки.\n",
    "#Создадим функцию для котегоризации данных по количеству детей.\n",
    "#Согласно заданию №10 количество детей может быть [1, 0, 3, 2, 4, 5]\n",
    "def cotegorize_quantity_child(child):\n",
    "    if child == 0:\n",
    "        return 'нет детей'\n",
    "    elif child == 1:\n",
    "        return 'один ребенок'\n",
    "    elif child == 2:\n",
    "        return 'два ребенка'\n",
    "    elif child == 3:\n",
    "        return 'три ребенка'\n",
    "    elif child == 4:\n",
    "        return 'четыре ребенка'\n",
    "    elif child == 5:\n",
    "        return 'пять детей'"
   ]
  },
  {
   "cell_type": "markdown",
   "id": "a7887752",
   "metadata": {},
   "source": [
    "<div class=\"alert alert-warning\">\n",
    "<h2> Комментарий ревьюера 🤓<a class=\"tocSkip\"> </h2>\n",
    " А есть ли необходимость в дополнительной кодировке?"
   ]
  },
  {
   "cell_type": "markdown",
   "id": "b22790b9",
   "metadata": {},
   "source": [
    "<div class=\"alert alert-info\"> <b>Комментарий студента:</b>Справедливый вопрос, было желание сделать данную метрику читабельной , но в целом это явлеятся лишним действием </div>"
   ]
  },
  {
   "cell_type": "code",
   "execution_count": 23,
   "id": "71965e31",
   "metadata": {},
   "outputs": [],
   "source": [
    "#Создадим столбец category_child с категорией количества детей, применив функцию cotegorize_quantity_child:\n",
    "data['category_child'] = data['children'].apply(cotegorize_quantity_child)"
   ]
  },
  {
   "cell_type": "code",
   "execution_count": 24,
   "id": "63bbcb1b",
   "metadata": {},
   "outputs": [
    {
     "data": {
      "text/html": [
       "<div>\n",
       "<style scoped>\n",
       "    .dataframe tbody tr th:only-of-type {\n",
       "        vertical-align: middle;\n",
       "    }\n",
       "\n",
       "    .dataframe tbody tr th {\n",
       "        vertical-align: top;\n",
       "    }\n",
       "\n",
       "    .dataframe thead th {\n",
       "        text-align: right;\n",
       "    }\n",
       "</style>\n",
       "<table border=\"1\" class=\"dataframe\">\n",
       "  <thead>\n",
       "    <tr style=\"text-align: right;\">\n",
       "      <th></th>\n",
       "      <th>children</th>\n",
       "      <th>days_employed</th>\n",
       "      <th>dob_years</th>\n",
       "      <th>education</th>\n",
       "      <th>education_id</th>\n",
       "      <th>family_status</th>\n",
       "      <th>family_status_id</th>\n",
       "      <th>gender</th>\n",
       "      <th>income_type</th>\n",
       "      <th>debt</th>\n",
       "      <th>total_income</th>\n",
       "      <th>purpose</th>\n",
       "      <th>total_income_category</th>\n",
       "      <th>purpose_category</th>\n",
       "      <th>category_child</th>\n",
       "    </tr>\n",
       "  </thead>\n",
       "  <tbody>\n",
       "    <tr>\n",
       "      <th>0</th>\n",
       "      <td>1</td>\n",
       "      <td>8437.673028</td>\n",
       "      <td>42</td>\n",
       "      <td>высшее</td>\n",
       "      <td>0</td>\n",
       "      <td>женат / замужем</td>\n",
       "      <td>0</td>\n",
       "      <td>F</td>\n",
       "      <td>сотрудник</td>\n",
       "      <td>0</td>\n",
       "      <td>253875</td>\n",
       "      <td>покупка жилья</td>\n",
       "      <td>B</td>\n",
       "      <td>операции с недвижимостью</td>\n",
       "      <td>один ребенок</td>\n",
       "    </tr>\n",
       "    <tr>\n",
       "      <th>1</th>\n",
       "      <td>1</td>\n",
       "      <td>4024.803754</td>\n",
       "      <td>36</td>\n",
       "      <td>среднее</td>\n",
       "      <td>1</td>\n",
       "      <td>женат / замужем</td>\n",
       "      <td>0</td>\n",
       "      <td>F</td>\n",
       "      <td>сотрудник</td>\n",
       "      <td>0</td>\n",
       "      <td>112080</td>\n",
       "      <td>приобретение автомобиля</td>\n",
       "      <td>C</td>\n",
       "      <td>операции с автомобилем</td>\n",
       "      <td>один ребенок</td>\n",
       "    </tr>\n",
       "    <tr>\n",
       "      <th>2</th>\n",
       "      <td>0</td>\n",
       "      <td>5623.422610</td>\n",
       "      <td>33</td>\n",
       "      <td>среднее</td>\n",
       "      <td>1</td>\n",
       "      <td>женат / замужем</td>\n",
       "      <td>0</td>\n",
       "      <td>M</td>\n",
       "      <td>сотрудник</td>\n",
       "      <td>0</td>\n",
       "      <td>145885</td>\n",
       "      <td>покупка жилья</td>\n",
       "      <td>C</td>\n",
       "      <td>операции с недвижимостью</td>\n",
       "      <td>нет детей</td>\n",
       "    </tr>\n",
       "    <tr>\n",
       "      <th>3</th>\n",
       "      <td>3</td>\n",
       "      <td>4124.747207</td>\n",
       "      <td>32</td>\n",
       "      <td>среднее</td>\n",
       "      <td>1</td>\n",
       "      <td>женат / замужем</td>\n",
       "      <td>0</td>\n",
       "      <td>M</td>\n",
       "      <td>сотрудник</td>\n",
       "      <td>0</td>\n",
       "      <td>267628</td>\n",
       "      <td>дополнительное образование</td>\n",
       "      <td>B</td>\n",
       "      <td>получение образования</td>\n",
       "      <td>три ребенка</td>\n",
       "    </tr>\n",
       "    <tr>\n",
       "      <th>4</th>\n",
       "      <td>0</td>\n",
       "      <td>340266.072047</td>\n",
       "      <td>53</td>\n",
       "      <td>среднее</td>\n",
       "      <td>1</td>\n",
       "      <td>гражданский брак</td>\n",
       "      <td>1</td>\n",
       "      <td>F</td>\n",
       "      <td>пенсионер</td>\n",
       "      <td>0</td>\n",
       "      <td>158616</td>\n",
       "      <td>сыграть свадьбу</td>\n",
       "      <td>C</td>\n",
       "      <td>проведение свадьбы</td>\n",
       "      <td>нет детей</td>\n",
       "    </tr>\n",
       "    <tr>\n",
       "      <th>5</th>\n",
       "      <td>0</td>\n",
       "      <td>926.185831</td>\n",
       "      <td>27</td>\n",
       "      <td>высшее</td>\n",
       "      <td>0</td>\n",
       "      <td>гражданский брак</td>\n",
       "      <td>1</td>\n",
       "      <td>M</td>\n",
       "      <td>компаньон</td>\n",
       "      <td>0</td>\n",
       "      <td>255763</td>\n",
       "      <td>покупка жилья</td>\n",
       "      <td>B</td>\n",
       "      <td>операции с недвижимостью</td>\n",
       "      <td>нет детей</td>\n",
       "    </tr>\n",
       "    <tr>\n",
       "      <th>6</th>\n",
       "      <td>0</td>\n",
       "      <td>2879.202052</td>\n",
       "      <td>43</td>\n",
       "      <td>высшее</td>\n",
       "      <td>0</td>\n",
       "      <td>женат / замужем</td>\n",
       "      <td>0</td>\n",
       "      <td>F</td>\n",
       "      <td>компаньон</td>\n",
       "      <td>0</td>\n",
       "      <td>240525</td>\n",
       "      <td>операции с жильем</td>\n",
       "      <td>B</td>\n",
       "      <td>операции с недвижимостью</td>\n",
       "      <td>нет детей</td>\n",
       "    </tr>\n",
       "    <tr>\n",
       "      <th>7</th>\n",
       "      <td>0</td>\n",
       "      <td>152.779569</td>\n",
       "      <td>50</td>\n",
       "      <td>среднее</td>\n",
       "      <td>1</td>\n",
       "      <td>женат / замужем</td>\n",
       "      <td>0</td>\n",
       "      <td>M</td>\n",
       "      <td>сотрудник</td>\n",
       "      <td>0</td>\n",
       "      <td>135823</td>\n",
       "      <td>образование</td>\n",
       "      <td>C</td>\n",
       "      <td>получение образования</td>\n",
       "      <td>нет детей</td>\n",
       "    </tr>\n",
       "    <tr>\n",
       "      <th>8</th>\n",
       "      <td>2</td>\n",
       "      <td>6929.865299</td>\n",
       "      <td>35</td>\n",
       "      <td>высшее</td>\n",
       "      <td>0</td>\n",
       "      <td>гражданский брак</td>\n",
       "      <td>1</td>\n",
       "      <td>F</td>\n",
       "      <td>сотрудник</td>\n",
       "      <td>0</td>\n",
       "      <td>95856</td>\n",
       "      <td>на проведение свадьбы</td>\n",
       "      <td>C</td>\n",
       "      <td>проведение свадьбы</td>\n",
       "      <td>два ребенка</td>\n",
       "    </tr>\n",
       "    <tr>\n",
       "      <th>9</th>\n",
       "      <td>0</td>\n",
       "      <td>2188.756445</td>\n",
       "      <td>41</td>\n",
       "      <td>среднее</td>\n",
       "      <td>1</td>\n",
       "      <td>женат / замужем</td>\n",
       "      <td>0</td>\n",
       "      <td>M</td>\n",
       "      <td>сотрудник</td>\n",
       "      <td>0</td>\n",
       "      <td>144425</td>\n",
       "      <td>покупка жилья для семьи</td>\n",
       "      <td>C</td>\n",
       "      <td>операции с недвижимостью</td>\n",
       "      <td>нет детей</td>\n",
       "    </tr>\n",
       "    <tr>\n",
       "      <th>10</th>\n",
       "      <td>2</td>\n",
       "      <td>4171.483647</td>\n",
       "      <td>36</td>\n",
       "      <td>высшее</td>\n",
       "      <td>0</td>\n",
       "      <td>женат / замужем</td>\n",
       "      <td>0</td>\n",
       "      <td>M</td>\n",
       "      <td>компаньон</td>\n",
       "      <td>0</td>\n",
       "      <td>113943</td>\n",
       "      <td>покупка недвижимости</td>\n",
       "      <td>C</td>\n",
       "      <td>операции с недвижимостью</td>\n",
       "      <td>два ребенка</td>\n",
       "    </tr>\n",
       "    <tr>\n",
       "      <th>11</th>\n",
       "      <td>0</td>\n",
       "      <td>792.701887</td>\n",
       "      <td>40</td>\n",
       "      <td>среднее</td>\n",
       "      <td>1</td>\n",
       "      <td>женат / замужем</td>\n",
       "      <td>0</td>\n",
       "      <td>F</td>\n",
       "      <td>сотрудник</td>\n",
       "      <td>0</td>\n",
       "      <td>77069</td>\n",
       "      <td>покупка коммерческой недвижимости</td>\n",
       "      <td>C</td>\n",
       "      <td>операции с недвижимостью</td>\n",
       "      <td>нет детей</td>\n",
       "    </tr>\n",
       "    <tr>\n",
       "      <th>12</th>\n",
       "      <td>0</td>\n",
       "      <td>365286.622650</td>\n",
       "      <td>65</td>\n",
       "      <td>среднее</td>\n",
       "      <td>1</td>\n",
       "      <td>гражданский брак</td>\n",
       "      <td>1</td>\n",
       "      <td>M</td>\n",
       "      <td>пенсионер</td>\n",
       "      <td>0</td>\n",
       "      <td>118514</td>\n",
       "      <td>сыграть свадьбу</td>\n",
       "      <td>C</td>\n",
       "      <td>проведение свадьбы</td>\n",
       "      <td>нет детей</td>\n",
       "    </tr>\n",
       "    <tr>\n",
       "      <th>13</th>\n",
       "      <td>0</td>\n",
       "      <td>1846.641941</td>\n",
       "      <td>54</td>\n",
       "      <td>неоконченное высшее</td>\n",
       "      <td>2</td>\n",
       "      <td>женат / замужем</td>\n",
       "      <td>0</td>\n",
       "      <td>F</td>\n",
       "      <td>сотрудник</td>\n",
       "      <td>0</td>\n",
       "      <td>130458</td>\n",
       "      <td>приобретение автомобиля</td>\n",
       "      <td>C</td>\n",
       "      <td>операции с автомобилем</td>\n",
       "      <td>нет детей</td>\n",
       "    </tr>\n",
       "    <tr>\n",
       "      <th>14</th>\n",
       "      <td>0</td>\n",
       "      <td>1844.956182</td>\n",
       "      <td>56</td>\n",
       "      <td>высшее</td>\n",
       "      <td>0</td>\n",
       "      <td>гражданский брак</td>\n",
       "      <td>1</td>\n",
       "      <td>F</td>\n",
       "      <td>компаньон</td>\n",
       "      <td>1</td>\n",
       "      <td>165127</td>\n",
       "      <td>покупка жилой недвижимости</td>\n",
       "      <td>C</td>\n",
       "      <td>операции с недвижимостью</td>\n",
       "      <td>нет детей</td>\n",
       "    </tr>\n",
       "    <tr>\n",
       "      <th>15</th>\n",
       "      <td>1</td>\n",
       "      <td>972.364419</td>\n",
       "      <td>26</td>\n",
       "      <td>среднее</td>\n",
       "      <td>1</td>\n",
       "      <td>женат / замужем</td>\n",
       "      <td>0</td>\n",
       "      <td>F</td>\n",
       "      <td>сотрудник</td>\n",
       "      <td>0</td>\n",
       "      <td>116820</td>\n",
       "      <td>строительство собственной недвижимости</td>\n",
       "      <td>C</td>\n",
       "      <td>операции с недвижимостью</td>\n",
       "      <td>один ребенок</td>\n",
       "    </tr>\n",
       "    <tr>\n",
       "      <th>16</th>\n",
       "      <td>0</td>\n",
       "      <td>1719.934226</td>\n",
       "      <td>35</td>\n",
       "      <td>среднее</td>\n",
       "      <td>1</td>\n",
       "      <td>женат / замужем</td>\n",
       "      <td>0</td>\n",
       "      <td>F</td>\n",
       "      <td>сотрудник</td>\n",
       "      <td>0</td>\n",
       "      <td>289202</td>\n",
       "      <td>недвижимость</td>\n",
       "      <td>B</td>\n",
       "      <td>операции с недвижимостью</td>\n",
       "      <td>нет детей</td>\n",
       "    </tr>\n",
       "    <tr>\n",
       "      <th>17</th>\n",
       "      <td>0</td>\n",
       "      <td>2369.999720</td>\n",
       "      <td>33</td>\n",
       "      <td>высшее</td>\n",
       "      <td>0</td>\n",
       "      <td>гражданский брак</td>\n",
       "      <td>1</td>\n",
       "      <td>M</td>\n",
       "      <td>сотрудник</td>\n",
       "      <td>0</td>\n",
       "      <td>90410</td>\n",
       "      <td>строительство недвижимости</td>\n",
       "      <td>C</td>\n",
       "      <td>операции с недвижимостью</td>\n",
       "      <td>нет детей</td>\n",
       "    </tr>\n",
       "    <tr>\n",
       "      <th>18</th>\n",
       "      <td>0</td>\n",
       "      <td>400281.136913</td>\n",
       "      <td>53</td>\n",
       "      <td>среднее</td>\n",
       "      <td>1</td>\n",
       "      <td>вдовец / вдова</td>\n",
       "      <td>2</td>\n",
       "      <td>F</td>\n",
       "      <td>пенсионер</td>\n",
       "      <td>0</td>\n",
       "      <td>56823</td>\n",
       "      <td>на покупку подержанного автомобиля</td>\n",
       "      <td>C</td>\n",
       "      <td>операции с автомобилем</td>\n",
       "      <td>нет детей</td>\n",
       "    </tr>\n",
       "    <tr>\n",
       "      <th>19</th>\n",
       "      <td>0</td>\n",
       "      <td>10038.818549</td>\n",
       "      <td>48</td>\n",
       "      <td>среднее</td>\n",
       "      <td>1</td>\n",
       "      <td>в разводе</td>\n",
       "      <td>3</td>\n",
       "      <td>F</td>\n",
       "      <td>сотрудник</td>\n",
       "      <td>0</td>\n",
       "      <td>242831</td>\n",
       "      <td>на покупку своего автомобиля</td>\n",
       "      <td>B</td>\n",
       "      <td>операции с автомобилем</td>\n",
       "      <td>нет детей</td>\n",
       "    </tr>\n",
       "  </tbody>\n",
       "</table>\n",
       "</div>"
      ],
      "text/plain": [
       "    children  days_employed  dob_years            education  education_id  \\\n",
       "0          1    8437.673028         42               высшее             0   \n",
       "1          1    4024.803754         36              среднее             1   \n",
       "2          0    5623.422610         33              среднее             1   \n",
       "3          3    4124.747207         32              среднее             1   \n",
       "4          0  340266.072047         53              среднее             1   \n",
       "5          0     926.185831         27               высшее             0   \n",
       "6          0    2879.202052         43               высшее             0   \n",
       "7          0     152.779569         50              среднее             1   \n",
       "8          2    6929.865299         35               высшее             0   \n",
       "9          0    2188.756445         41              среднее             1   \n",
       "10         2    4171.483647         36               высшее             0   \n",
       "11         0     792.701887         40              среднее             1   \n",
       "12         0  365286.622650         65              среднее             1   \n",
       "13         0    1846.641941         54  неоконченное высшее             2   \n",
       "14         0    1844.956182         56               высшее             0   \n",
       "15         1     972.364419         26              среднее             1   \n",
       "16         0    1719.934226         35              среднее             1   \n",
       "17         0    2369.999720         33               высшее             0   \n",
       "18         0  400281.136913         53              среднее             1   \n",
       "19         0   10038.818549         48              среднее             1   \n",
       "\n",
       "       family_status  family_status_id gender income_type  debt  total_income  \\\n",
       "0    женат / замужем                 0      F   сотрудник     0        253875   \n",
       "1    женат / замужем                 0      F   сотрудник     0        112080   \n",
       "2    женат / замужем                 0      M   сотрудник     0        145885   \n",
       "3    женат / замужем                 0      M   сотрудник     0        267628   \n",
       "4   гражданский брак                 1      F   пенсионер     0        158616   \n",
       "5   гражданский брак                 1      M   компаньон     0        255763   \n",
       "6    женат / замужем                 0      F   компаньон     0        240525   \n",
       "7    женат / замужем                 0      M   сотрудник     0        135823   \n",
       "8   гражданский брак                 1      F   сотрудник     0         95856   \n",
       "9    женат / замужем                 0      M   сотрудник     0        144425   \n",
       "10   женат / замужем                 0      M   компаньон     0        113943   \n",
       "11   женат / замужем                 0      F   сотрудник     0         77069   \n",
       "12  гражданский брак                 1      M   пенсионер     0        118514   \n",
       "13   женат / замужем                 0      F   сотрудник     0        130458   \n",
       "14  гражданский брак                 1      F   компаньон     1        165127   \n",
       "15   женат / замужем                 0      F   сотрудник     0        116820   \n",
       "16   женат / замужем                 0      F   сотрудник     0        289202   \n",
       "17  гражданский брак                 1      M   сотрудник     0         90410   \n",
       "18    вдовец / вдова                 2      F   пенсионер     0         56823   \n",
       "19         в разводе                 3      F   сотрудник     0        242831   \n",
       "\n",
       "                                   purpose total_income_category  \\\n",
       "0                            покупка жилья                     B   \n",
       "1                  приобретение автомобиля                     C   \n",
       "2                            покупка жилья                     C   \n",
       "3               дополнительное образование                     B   \n",
       "4                          сыграть свадьбу                     C   \n",
       "5                            покупка жилья                     B   \n",
       "6                        операции с жильем                     B   \n",
       "7                              образование                     C   \n",
       "8                    на проведение свадьбы                     C   \n",
       "9                  покупка жилья для семьи                     C   \n",
       "10                    покупка недвижимости                     C   \n",
       "11       покупка коммерческой недвижимости                     C   \n",
       "12                         сыграть свадьбу                     C   \n",
       "13                 приобретение автомобиля                     C   \n",
       "14              покупка жилой недвижимости                     C   \n",
       "15  строительство собственной недвижимости                     C   \n",
       "16                            недвижимость                     B   \n",
       "17              строительство недвижимости                     C   \n",
       "18      на покупку подержанного автомобиля                     C   \n",
       "19            на покупку своего автомобиля                     B   \n",
       "\n",
       "            purpose_category category_child  \n",
       "0   операции с недвижимостью   один ребенок  \n",
       "1     операции с автомобилем   один ребенок  \n",
       "2   операции с недвижимостью      нет детей  \n",
       "3      получение образования    три ребенка  \n",
       "4         проведение свадьбы      нет детей  \n",
       "5   операции с недвижимостью      нет детей  \n",
       "6   операции с недвижимостью      нет детей  \n",
       "7      получение образования      нет детей  \n",
       "8         проведение свадьбы    два ребенка  \n",
       "9   операции с недвижимостью      нет детей  \n",
       "10  операции с недвижимостью    два ребенка  \n",
       "11  операции с недвижимостью      нет детей  \n",
       "12        проведение свадьбы      нет детей  \n",
       "13    операции с автомобилем      нет детей  \n",
       "14  операции с недвижимостью      нет детей  \n",
       "15  операции с недвижимостью   один ребенок  \n",
       "16  операции с недвижимостью      нет детей  \n",
       "17  операции с недвижимостью      нет детей  \n",
       "18    операции с автомобилем      нет детей  \n",
       "19    операции с автомобилем      нет детей  "
      ]
     },
     "execution_count": 24,
     "metadata": {},
     "output_type": "execute_result"
    }
   ],
   "source": [
    "#Выведем первых 20 строк датафрейма\n",
    "data.head(20)"
   ]
  },
  {
   "cell_type": "code",
   "execution_count": 25,
   "id": "65525694",
   "metadata": {},
   "outputs": [],
   "source": [
    "#Созданим функцию категоризации истории клиентов в части наличия/отсутсвия задолжностей по возврату кредитов \n",
    "def categorize_debt(debt):\n",
    "    if debt == 0:\n",
    "        return 'had_no_dept'\n",
    "    if debt >= 1:\n",
    "        return 'had_dept'"
   ]
  },
  {
   "cell_type": "code",
   "execution_count": 26,
   "id": "15598349",
   "metadata": {},
   "outputs": [],
   "source": [
    "#Создадим столбец category_debt , применив функцию categorize_debt:\n",
    "data['category_debt'] = data['debt'].apply(categorize_debt)"
   ]
  },
  {
   "cell_type": "code",
   "execution_count": 27,
   "id": "864d7b9e",
   "metadata": {},
   "outputs": [
    {
     "data": {
      "text/html": [
       "<div>\n",
       "<style scoped>\n",
       "    .dataframe tbody tr th:only-of-type {\n",
       "        vertical-align: middle;\n",
       "    }\n",
       "\n",
       "    .dataframe tbody tr th {\n",
       "        vertical-align: top;\n",
       "    }\n",
       "\n",
       "    .dataframe thead th {\n",
       "        text-align: right;\n",
       "    }\n",
       "</style>\n",
       "<table border=\"1\" class=\"dataframe\">\n",
       "  <thead>\n",
       "    <tr style=\"text-align: right;\">\n",
       "      <th></th>\n",
       "      <th>children</th>\n",
       "      <th>days_employed</th>\n",
       "      <th>dob_years</th>\n",
       "      <th>education</th>\n",
       "      <th>education_id</th>\n",
       "      <th>family_status</th>\n",
       "      <th>family_status_id</th>\n",
       "      <th>gender</th>\n",
       "      <th>income_type</th>\n",
       "      <th>debt</th>\n",
       "      <th>total_income</th>\n",
       "      <th>purpose</th>\n",
       "      <th>total_income_category</th>\n",
       "      <th>purpose_category</th>\n",
       "      <th>category_child</th>\n",
       "      <th>category_debt</th>\n",
       "    </tr>\n",
       "  </thead>\n",
       "  <tbody>\n",
       "    <tr>\n",
       "      <th>0</th>\n",
       "      <td>1</td>\n",
       "      <td>8437.673028</td>\n",
       "      <td>42</td>\n",
       "      <td>высшее</td>\n",
       "      <td>0</td>\n",
       "      <td>женат / замужем</td>\n",
       "      <td>0</td>\n",
       "      <td>F</td>\n",
       "      <td>сотрудник</td>\n",
       "      <td>0</td>\n",
       "      <td>253875</td>\n",
       "      <td>покупка жилья</td>\n",
       "      <td>B</td>\n",
       "      <td>операции с недвижимостью</td>\n",
       "      <td>один ребенок</td>\n",
       "      <td>had_no_dept</td>\n",
       "    </tr>\n",
       "    <tr>\n",
       "      <th>1</th>\n",
       "      <td>1</td>\n",
       "      <td>4024.803754</td>\n",
       "      <td>36</td>\n",
       "      <td>среднее</td>\n",
       "      <td>1</td>\n",
       "      <td>женат / замужем</td>\n",
       "      <td>0</td>\n",
       "      <td>F</td>\n",
       "      <td>сотрудник</td>\n",
       "      <td>0</td>\n",
       "      <td>112080</td>\n",
       "      <td>приобретение автомобиля</td>\n",
       "      <td>C</td>\n",
       "      <td>операции с автомобилем</td>\n",
       "      <td>один ребенок</td>\n",
       "      <td>had_no_dept</td>\n",
       "    </tr>\n",
       "    <tr>\n",
       "      <th>2</th>\n",
       "      <td>0</td>\n",
       "      <td>5623.422610</td>\n",
       "      <td>33</td>\n",
       "      <td>среднее</td>\n",
       "      <td>1</td>\n",
       "      <td>женат / замужем</td>\n",
       "      <td>0</td>\n",
       "      <td>M</td>\n",
       "      <td>сотрудник</td>\n",
       "      <td>0</td>\n",
       "      <td>145885</td>\n",
       "      <td>покупка жилья</td>\n",
       "      <td>C</td>\n",
       "      <td>операции с недвижимостью</td>\n",
       "      <td>нет детей</td>\n",
       "      <td>had_no_dept</td>\n",
       "    </tr>\n",
       "    <tr>\n",
       "      <th>3</th>\n",
       "      <td>3</td>\n",
       "      <td>4124.747207</td>\n",
       "      <td>32</td>\n",
       "      <td>среднее</td>\n",
       "      <td>1</td>\n",
       "      <td>женат / замужем</td>\n",
       "      <td>0</td>\n",
       "      <td>M</td>\n",
       "      <td>сотрудник</td>\n",
       "      <td>0</td>\n",
       "      <td>267628</td>\n",
       "      <td>дополнительное образование</td>\n",
       "      <td>B</td>\n",
       "      <td>получение образования</td>\n",
       "      <td>три ребенка</td>\n",
       "      <td>had_no_dept</td>\n",
       "    </tr>\n",
       "    <tr>\n",
       "      <th>4</th>\n",
       "      <td>0</td>\n",
       "      <td>340266.072047</td>\n",
       "      <td>53</td>\n",
       "      <td>среднее</td>\n",
       "      <td>1</td>\n",
       "      <td>гражданский брак</td>\n",
       "      <td>1</td>\n",
       "      <td>F</td>\n",
       "      <td>пенсионер</td>\n",
       "      <td>0</td>\n",
       "      <td>158616</td>\n",
       "      <td>сыграть свадьбу</td>\n",
       "      <td>C</td>\n",
       "      <td>проведение свадьбы</td>\n",
       "      <td>нет детей</td>\n",
       "      <td>had_no_dept</td>\n",
       "    </tr>\n",
       "    <tr>\n",
       "      <th>5</th>\n",
       "      <td>0</td>\n",
       "      <td>926.185831</td>\n",
       "      <td>27</td>\n",
       "      <td>высшее</td>\n",
       "      <td>0</td>\n",
       "      <td>гражданский брак</td>\n",
       "      <td>1</td>\n",
       "      <td>M</td>\n",
       "      <td>компаньон</td>\n",
       "      <td>0</td>\n",
       "      <td>255763</td>\n",
       "      <td>покупка жилья</td>\n",
       "      <td>B</td>\n",
       "      <td>операции с недвижимостью</td>\n",
       "      <td>нет детей</td>\n",
       "      <td>had_no_dept</td>\n",
       "    </tr>\n",
       "    <tr>\n",
       "      <th>6</th>\n",
       "      <td>0</td>\n",
       "      <td>2879.202052</td>\n",
       "      <td>43</td>\n",
       "      <td>высшее</td>\n",
       "      <td>0</td>\n",
       "      <td>женат / замужем</td>\n",
       "      <td>0</td>\n",
       "      <td>F</td>\n",
       "      <td>компаньон</td>\n",
       "      <td>0</td>\n",
       "      <td>240525</td>\n",
       "      <td>операции с жильем</td>\n",
       "      <td>B</td>\n",
       "      <td>операции с недвижимостью</td>\n",
       "      <td>нет детей</td>\n",
       "      <td>had_no_dept</td>\n",
       "    </tr>\n",
       "    <tr>\n",
       "      <th>7</th>\n",
       "      <td>0</td>\n",
       "      <td>152.779569</td>\n",
       "      <td>50</td>\n",
       "      <td>среднее</td>\n",
       "      <td>1</td>\n",
       "      <td>женат / замужем</td>\n",
       "      <td>0</td>\n",
       "      <td>M</td>\n",
       "      <td>сотрудник</td>\n",
       "      <td>0</td>\n",
       "      <td>135823</td>\n",
       "      <td>образование</td>\n",
       "      <td>C</td>\n",
       "      <td>получение образования</td>\n",
       "      <td>нет детей</td>\n",
       "      <td>had_no_dept</td>\n",
       "    </tr>\n",
       "    <tr>\n",
       "      <th>8</th>\n",
       "      <td>2</td>\n",
       "      <td>6929.865299</td>\n",
       "      <td>35</td>\n",
       "      <td>высшее</td>\n",
       "      <td>0</td>\n",
       "      <td>гражданский брак</td>\n",
       "      <td>1</td>\n",
       "      <td>F</td>\n",
       "      <td>сотрудник</td>\n",
       "      <td>0</td>\n",
       "      <td>95856</td>\n",
       "      <td>на проведение свадьбы</td>\n",
       "      <td>C</td>\n",
       "      <td>проведение свадьбы</td>\n",
       "      <td>два ребенка</td>\n",
       "      <td>had_no_dept</td>\n",
       "    </tr>\n",
       "    <tr>\n",
       "      <th>9</th>\n",
       "      <td>0</td>\n",
       "      <td>2188.756445</td>\n",
       "      <td>41</td>\n",
       "      <td>среднее</td>\n",
       "      <td>1</td>\n",
       "      <td>женат / замужем</td>\n",
       "      <td>0</td>\n",
       "      <td>M</td>\n",
       "      <td>сотрудник</td>\n",
       "      <td>0</td>\n",
       "      <td>144425</td>\n",
       "      <td>покупка жилья для семьи</td>\n",
       "      <td>C</td>\n",
       "      <td>операции с недвижимостью</td>\n",
       "      <td>нет детей</td>\n",
       "      <td>had_no_dept</td>\n",
       "    </tr>\n",
       "    <tr>\n",
       "      <th>10</th>\n",
       "      <td>2</td>\n",
       "      <td>4171.483647</td>\n",
       "      <td>36</td>\n",
       "      <td>высшее</td>\n",
       "      <td>0</td>\n",
       "      <td>женат / замужем</td>\n",
       "      <td>0</td>\n",
       "      <td>M</td>\n",
       "      <td>компаньон</td>\n",
       "      <td>0</td>\n",
       "      <td>113943</td>\n",
       "      <td>покупка недвижимости</td>\n",
       "      <td>C</td>\n",
       "      <td>операции с недвижимостью</td>\n",
       "      <td>два ребенка</td>\n",
       "      <td>had_no_dept</td>\n",
       "    </tr>\n",
       "    <tr>\n",
       "      <th>11</th>\n",
       "      <td>0</td>\n",
       "      <td>792.701887</td>\n",
       "      <td>40</td>\n",
       "      <td>среднее</td>\n",
       "      <td>1</td>\n",
       "      <td>женат / замужем</td>\n",
       "      <td>0</td>\n",
       "      <td>F</td>\n",
       "      <td>сотрудник</td>\n",
       "      <td>0</td>\n",
       "      <td>77069</td>\n",
       "      <td>покупка коммерческой недвижимости</td>\n",
       "      <td>C</td>\n",
       "      <td>операции с недвижимостью</td>\n",
       "      <td>нет детей</td>\n",
       "      <td>had_no_dept</td>\n",
       "    </tr>\n",
       "    <tr>\n",
       "      <th>12</th>\n",
       "      <td>0</td>\n",
       "      <td>365286.622650</td>\n",
       "      <td>65</td>\n",
       "      <td>среднее</td>\n",
       "      <td>1</td>\n",
       "      <td>гражданский брак</td>\n",
       "      <td>1</td>\n",
       "      <td>M</td>\n",
       "      <td>пенсионер</td>\n",
       "      <td>0</td>\n",
       "      <td>118514</td>\n",
       "      <td>сыграть свадьбу</td>\n",
       "      <td>C</td>\n",
       "      <td>проведение свадьбы</td>\n",
       "      <td>нет детей</td>\n",
       "      <td>had_no_dept</td>\n",
       "    </tr>\n",
       "    <tr>\n",
       "      <th>13</th>\n",
       "      <td>0</td>\n",
       "      <td>1846.641941</td>\n",
       "      <td>54</td>\n",
       "      <td>неоконченное высшее</td>\n",
       "      <td>2</td>\n",
       "      <td>женат / замужем</td>\n",
       "      <td>0</td>\n",
       "      <td>F</td>\n",
       "      <td>сотрудник</td>\n",
       "      <td>0</td>\n",
       "      <td>130458</td>\n",
       "      <td>приобретение автомобиля</td>\n",
       "      <td>C</td>\n",
       "      <td>операции с автомобилем</td>\n",
       "      <td>нет детей</td>\n",
       "      <td>had_no_dept</td>\n",
       "    </tr>\n",
       "    <tr>\n",
       "      <th>14</th>\n",
       "      <td>0</td>\n",
       "      <td>1844.956182</td>\n",
       "      <td>56</td>\n",
       "      <td>высшее</td>\n",
       "      <td>0</td>\n",
       "      <td>гражданский брак</td>\n",
       "      <td>1</td>\n",
       "      <td>F</td>\n",
       "      <td>компаньон</td>\n",
       "      <td>1</td>\n",
       "      <td>165127</td>\n",
       "      <td>покупка жилой недвижимости</td>\n",
       "      <td>C</td>\n",
       "      <td>операции с недвижимостью</td>\n",
       "      <td>нет детей</td>\n",
       "      <td>had_dept</td>\n",
       "    </tr>\n",
       "    <tr>\n",
       "      <th>15</th>\n",
       "      <td>1</td>\n",
       "      <td>972.364419</td>\n",
       "      <td>26</td>\n",
       "      <td>среднее</td>\n",
       "      <td>1</td>\n",
       "      <td>женат / замужем</td>\n",
       "      <td>0</td>\n",
       "      <td>F</td>\n",
       "      <td>сотрудник</td>\n",
       "      <td>0</td>\n",
       "      <td>116820</td>\n",
       "      <td>строительство собственной недвижимости</td>\n",
       "      <td>C</td>\n",
       "      <td>операции с недвижимостью</td>\n",
       "      <td>один ребенок</td>\n",
       "      <td>had_no_dept</td>\n",
       "    </tr>\n",
       "    <tr>\n",
       "      <th>16</th>\n",
       "      <td>0</td>\n",
       "      <td>1719.934226</td>\n",
       "      <td>35</td>\n",
       "      <td>среднее</td>\n",
       "      <td>1</td>\n",
       "      <td>женат / замужем</td>\n",
       "      <td>0</td>\n",
       "      <td>F</td>\n",
       "      <td>сотрудник</td>\n",
       "      <td>0</td>\n",
       "      <td>289202</td>\n",
       "      <td>недвижимость</td>\n",
       "      <td>B</td>\n",
       "      <td>операции с недвижимостью</td>\n",
       "      <td>нет детей</td>\n",
       "      <td>had_no_dept</td>\n",
       "    </tr>\n",
       "    <tr>\n",
       "      <th>17</th>\n",
       "      <td>0</td>\n",
       "      <td>2369.999720</td>\n",
       "      <td>33</td>\n",
       "      <td>высшее</td>\n",
       "      <td>0</td>\n",
       "      <td>гражданский брак</td>\n",
       "      <td>1</td>\n",
       "      <td>M</td>\n",
       "      <td>сотрудник</td>\n",
       "      <td>0</td>\n",
       "      <td>90410</td>\n",
       "      <td>строительство недвижимости</td>\n",
       "      <td>C</td>\n",
       "      <td>операции с недвижимостью</td>\n",
       "      <td>нет детей</td>\n",
       "      <td>had_no_dept</td>\n",
       "    </tr>\n",
       "    <tr>\n",
       "      <th>18</th>\n",
       "      <td>0</td>\n",
       "      <td>400281.136913</td>\n",
       "      <td>53</td>\n",
       "      <td>среднее</td>\n",
       "      <td>1</td>\n",
       "      <td>вдовец / вдова</td>\n",
       "      <td>2</td>\n",
       "      <td>F</td>\n",
       "      <td>пенсионер</td>\n",
       "      <td>0</td>\n",
       "      <td>56823</td>\n",
       "      <td>на покупку подержанного автомобиля</td>\n",
       "      <td>C</td>\n",
       "      <td>операции с автомобилем</td>\n",
       "      <td>нет детей</td>\n",
       "      <td>had_no_dept</td>\n",
       "    </tr>\n",
       "    <tr>\n",
       "      <th>19</th>\n",
       "      <td>0</td>\n",
       "      <td>10038.818549</td>\n",
       "      <td>48</td>\n",
       "      <td>среднее</td>\n",
       "      <td>1</td>\n",
       "      <td>в разводе</td>\n",
       "      <td>3</td>\n",
       "      <td>F</td>\n",
       "      <td>сотрудник</td>\n",
       "      <td>0</td>\n",
       "      <td>242831</td>\n",
       "      <td>на покупку своего автомобиля</td>\n",
       "      <td>B</td>\n",
       "      <td>операции с автомобилем</td>\n",
       "      <td>нет детей</td>\n",
       "      <td>had_no_dept</td>\n",
       "    </tr>\n",
       "  </tbody>\n",
       "</table>\n",
       "</div>"
      ],
      "text/plain": [
       "    children  days_employed  dob_years            education  education_id  \\\n",
       "0          1    8437.673028         42               высшее             0   \n",
       "1          1    4024.803754         36              среднее             1   \n",
       "2          0    5623.422610         33              среднее             1   \n",
       "3          3    4124.747207         32              среднее             1   \n",
       "4          0  340266.072047         53              среднее             1   \n",
       "5          0     926.185831         27               высшее             0   \n",
       "6          0    2879.202052         43               высшее             0   \n",
       "7          0     152.779569         50              среднее             1   \n",
       "8          2    6929.865299         35               высшее             0   \n",
       "9          0    2188.756445         41              среднее             1   \n",
       "10         2    4171.483647         36               высшее             0   \n",
       "11         0     792.701887         40              среднее             1   \n",
       "12         0  365286.622650         65              среднее             1   \n",
       "13         0    1846.641941         54  неоконченное высшее             2   \n",
       "14         0    1844.956182         56               высшее             0   \n",
       "15         1     972.364419         26              среднее             1   \n",
       "16         0    1719.934226         35              среднее             1   \n",
       "17         0    2369.999720         33               высшее             0   \n",
       "18         0  400281.136913         53              среднее             1   \n",
       "19         0   10038.818549         48              среднее             1   \n",
       "\n",
       "       family_status  family_status_id gender income_type  debt  total_income  \\\n",
       "0    женат / замужем                 0      F   сотрудник     0        253875   \n",
       "1    женат / замужем                 0      F   сотрудник     0        112080   \n",
       "2    женат / замужем                 0      M   сотрудник     0        145885   \n",
       "3    женат / замужем                 0      M   сотрудник     0        267628   \n",
       "4   гражданский брак                 1      F   пенсионер     0        158616   \n",
       "5   гражданский брак                 1      M   компаньон     0        255763   \n",
       "6    женат / замужем                 0      F   компаньон     0        240525   \n",
       "7    женат / замужем                 0      M   сотрудник     0        135823   \n",
       "8   гражданский брак                 1      F   сотрудник     0         95856   \n",
       "9    женат / замужем                 0      M   сотрудник     0        144425   \n",
       "10   женат / замужем                 0      M   компаньон     0        113943   \n",
       "11   женат / замужем                 0      F   сотрудник     0         77069   \n",
       "12  гражданский брак                 1      M   пенсионер     0        118514   \n",
       "13   женат / замужем                 0      F   сотрудник     0        130458   \n",
       "14  гражданский брак                 1      F   компаньон     1        165127   \n",
       "15   женат / замужем                 0      F   сотрудник     0        116820   \n",
       "16   женат / замужем                 0      F   сотрудник     0        289202   \n",
       "17  гражданский брак                 1      M   сотрудник     0         90410   \n",
       "18    вдовец / вдова                 2      F   пенсионер     0         56823   \n",
       "19         в разводе                 3      F   сотрудник     0        242831   \n",
       "\n",
       "                                   purpose total_income_category  \\\n",
       "0                            покупка жилья                     B   \n",
       "1                  приобретение автомобиля                     C   \n",
       "2                            покупка жилья                     C   \n",
       "3               дополнительное образование                     B   \n",
       "4                          сыграть свадьбу                     C   \n",
       "5                            покупка жилья                     B   \n",
       "6                        операции с жильем                     B   \n",
       "7                              образование                     C   \n",
       "8                    на проведение свадьбы                     C   \n",
       "9                  покупка жилья для семьи                     C   \n",
       "10                    покупка недвижимости                     C   \n",
       "11       покупка коммерческой недвижимости                     C   \n",
       "12                         сыграть свадьбу                     C   \n",
       "13                 приобретение автомобиля                     C   \n",
       "14              покупка жилой недвижимости                     C   \n",
       "15  строительство собственной недвижимости                     C   \n",
       "16                            недвижимость                     B   \n",
       "17              строительство недвижимости                     C   \n",
       "18      на покупку подержанного автомобиля                     C   \n",
       "19            на покупку своего автомобиля                     B   \n",
       "\n",
       "            purpose_category category_child category_debt  \n",
       "0   операции с недвижимостью   один ребенок   had_no_dept  \n",
       "1     операции с автомобилем   один ребенок   had_no_dept  \n",
       "2   операции с недвижимостью      нет детей   had_no_dept  \n",
       "3      получение образования    три ребенка   had_no_dept  \n",
       "4         проведение свадьбы      нет детей   had_no_dept  \n",
       "5   операции с недвижимостью      нет детей   had_no_dept  \n",
       "6   операции с недвижимостью      нет детей   had_no_dept  \n",
       "7      получение образования      нет детей   had_no_dept  \n",
       "8         проведение свадьбы    два ребенка   had_no_dept  \n",
       "9   операции с недвижимостью      нет детей   had_no_dept  \n",
       "10  операции с недвижимостью    два ребенка   had_no_dept  \n",
       "11  операции с недвижимостью      нет детей   had_no_dept  \n",
       "12        проведение свадьбы      нет детей   had_no_dept  \n",
       "13    операции с автомобилем      нет детей   had_no_dept  \n",
       "14  операции с недвижимостью      нет детей      had_dept  \n",
       "15  операции с недвижимостью   один ребенок   had_no_dept  \n",
       "16  операции с недвижимостью      нет детей   had_no_dept  \n",
       "17  операции с недвижимостью      нет детей   had_no_dept  \n",
       "18    операции с автомобилем      нет детей   had_no_dept  \n",
       "19    операции с автомобилем      нет детей   had_no_dept  "
      ]
     },
     "execution_count": 27,
     "metadata": {},
     "output_type": "execute_result"
    }
   ],
   "source": [
    "#Выведем первых 20 строк датафрейма\n",
    "data.head(20)"
   ]
  },
  {
   "cell_type": "code",
   "execution_count": 28,
   "id": "4e5f4dbe",
   "metadata": {},
   "outputs": [
    {
     "data": {
      "text/html": [
       "<div>\n",
       "<style scoped>\n",
       "    .dataframe tbody tr th:only-of-type {\n",
       "        vertical-align: middle;\n",
       "    }\n",
       "\n",
       "    .dataframe tbody tr th {\n",
       "        vertical-align: top;\n",
       "    }\n",
       "\n",
       "    .dataframe thead th {\n",
       "        text-align: right;\n",
       "    }\n",
       "</style>\n",
       "<table border=\"1\" class=\"dataframe\">\n",
       "  <thead>\n",
       "    <tr style=\"text-align: right;\">\n",
       "      <th>category_debt</th>\n",
       "      <th>had_dept</th>\n",
       "      <th>had_no_dept</th>\n",
       "      <th>percent_dept</th>\n",
       "    </tr>\n",
       "    <tr>\n",
       "      <th>category_child</th>\n",
       "      <th></th>\n",
       "      <th></th>\n",
       "      <th></th>\n",
       "    </tr>\n",
       "  </thead>\n",
       "  <tbody>\n",
       "    <tr>\n",
       "      <th>четыре ребенка</th>\n",
       "      <td>4</td>\n",
       "      <td>37</td>\n",
       "      <td>9.76%</td>\n",
       "    </tr>\n",
       "    <tr>\n",
       "      <th>два ребенка</th>\n",
       "      <td>194</td>\n",
       "      <td>1858</td>\n",
       "      <td>9.45%</td>\n",
       "    </tr>\n",
       "    <tr>\n",
       "      <th>один ребенок</th>\n",
       "      <td>444</td>\n",
       "      <td>4364</td>\n",
       "      <td>9.23%</td>\n",
       "    </tr>\n",
       "    <tr>\n",
       "      <th>три ребенка</th>\n",
       "      <td>27</td>\n",
       "      <td>303</td>\n",
       "      <td>8.18%</td>\n",
       "    </tr>\n",
       "    <tr>\n",
       "      <th>нет детей</th>\n",
       "      <td>1063</td>\n",
       "      <td>13028</td>\n",
       "      <td>7.54%</td>\n",
       "    </tr>\n",
       "    <tr>\n",
       "      <th>пять детей</th>\n",
       "      <td>0</td>\n",
       "      <td>9</td>\n",
       "      <td>0.00%</td>\n",
       "    </tr>\n",
       "  </tbody>\n",
       "</table>\n",
       "</div>"
      ],
      "text/plain": [
       "category_debt   had_dept  had_no_dept percent_dept\n",
       "category_child                                    \n",
       "четыре ребенка         4           37        9.76%\n",
       "два ребенка          194         1858        9.45%\n",
       "один ребенок         444         4364        9.23%\n",
       "три ребенка           27          303        8.18%\n",
       "нет детей           1063        13028        7.54%\n",
       "пять детей             0            9        0.00%"
      ]
     },
     "execution_count": 28,
     "metadata": {},
     "output_type": "execute_result"
    }
   ],
   "source": [
    "#Создадим сводную таблицу\n",
    "quantity_child_to_debt = data.pivot_table(index='category_child', columns='category_debt', values='debt', aggfunc='count', fill_value = 0)\n",
    "\n",
    "#Расчитаем долю клиентов с историей наличия задолжностей\n",
    "quantity_child_to_debt['percent_dept'] = quantity_child_to_debt['had_dept']/(quantity_child_to_debt['had_dept']+quantity_child_to_debt['had_no_dept'])\n",
    "#Переведем в проценцы полученные значения в столбце percent_dept\n",
    "quantity_child_to_debt['percent_dept'] = quantity_child_to_debt['percent_dept'].transform(lambda x: '{:,.2%}'.format(x))\n",
    "#Отсортируем сводную таблицу по убыванию (по столбцу percent_dept)\n",
    "quantity_child_to_debt.sort_values(by = 'percent_dept', ascending = False)"
   ]
  },
  {
   "cell_type": "markdown",
   "id": "d38ea15d",
   "metadata": {},
   "source": [
    "<div class=\"alert alert-block alert-danger\">\n",
    "<h2> Комментарий ревьюера ⛔️<a class=\"tocSkip\"></h2>\n",
    "<s>\n",
    "Расчет проведен неверно, так как сейчас мы рассчитываем значения столбца 'gender', а нас интересует столбец 'debt'. \n",
    "     \n",
    " Нужно скорректировать расчеты по всем таблицам)"
   ]
  },
  {
   "cell_type": "markdown",
   "id": "747d393f",
   "metadata": {},
   "source": [
    "<div class=\"alert alert-info\"> <b>Комментарий студента:</b> Расчеты скорректированы по всем таблицам</div>"
   ]
  },
  {
   "cell_type": "markdown",
   "id": "378a830c",
   "metadata": {},
   "source": [
    "<div class=\"alert alert-warning\">\n",
    "<h2> Комментарий ревьюера 🤓<a class=\"tocSkip\"> </h2>\n",
    "\n",
    "Можно задать сразу несколько функций в aggfunc=(['count', 'sum',...]). Тогда значения для столбца debt можно будет рассчитать как 'count' - общее кол-во заемщиков, 'sum' - кол-во должников (т.к. при сумме 0 будет 0 и мы сложим только 1, а это должники) и  можно еще рассчитать среднее(`mean`), это и будет наша доля должников по каждой категории."
   ]
  },
  {
   "cell_type": "markdown",
   "id": "5b6c92bc",
   "metadata": {},
   "source": [
    "<div class=\"alert alert-info\"> <b>Комментарий студента:</b> Попытался создать сводную таблицу с учетом рекомендаций, возникли сложности в выводе корректных результатов - буду подтягивать навыки работы со сводными таблицами </div>"
   ]
  },
  {
   "cell_type": "markdown",
   "id": "b90534b1",
   "metadata": {},
   "source": [
    "<div class=\"alert alert-warning\">\n",
    "<h2> Комментарий ревьюера 🤓 v_2<a class=\"tocSkip\"> </h2>\n",
    "\n",
    "Достаточно убрать параметр columns, тогда мы получим идентичную таблицу, созданную в одной строке кода."
   ]
  },
  {
   "cell_type": "code",
   "execution_count": 32,
   "id": "29681ef3",
   "metadata": {},
   "outputs": [
    {
     "data": {
      "text/html": [
       "<div>\n",
       "<style scoped>\n",
       "    .dataframe tbody tr th:only-of-type {\n",
       "        vertical-align: middle;\n",
       "    }\n",
       "\n",
       "    .dataframe tbody tr th {\n",
       "        vertical-align: top;\n",
       "    }\n",
       "\n",
       "    .dataframe thead tr th {\n",
       "        text-align: left;\n",
       "    }\n",
       "\n",
       "    .dataframe thead tr:last-of-type th {\n",
       "        text-align: right;\n",
       "    }\n",
       "</style>\n",
       "<table border=\"1\" class=\"dataframe\">\n",
       "  <thead>\n",
       "    <tr>\n",
       "      <th></th>\n",
       "      <th>count</th>\n",
       "      <th>sum</th>\n",
       "      <th>mean</th>\n",
       "    </tr>\n",
       "    <tr>\n",
       "      <th></th>\n",
       "      <th>debt</th>\n",
       "      <th>debt</th>\n",
       "      <th>debt</th>\n",
       "    </tr>\n",
       "    <tr>\n",
       "      <th>category_child</th>\n",
       "      <th></th>\n",
       "      <th></th>\n",
       "      <th></th>\n",
       "    </tr>\n",
       "  </thead>\n",
       "  <tbody>\n",
       "    <tr>\n",
       "      <th>два ребенка</th>\n",
       "      <td>2052</td>\n",
       "      <td>194</td>\n",
       "      <td>0.094542</td>\n",
       "    </tr>\n",
       "    <tr>\n",
       "      <th>нет детей</th>\n",
       "      <td>14091</td>\n",
       "      <td>1063</td>\n",
       "      <td>0.075438</td>\n",
       "    </tr>\n",
       "    <tr>\n",
       "      <th>один ребенок</th>\n",
       "      <td>4808</td>\n",
       "      <td>444</td>\n",
       "      <td>0.092346</td>\n",
       "    </tr>\n",
       "    <tr>\n",
       "      <th>пять детей</th>\n",
       "      <td>9</td>\n",
       "      <td>0</td>\n",
       "      <td>0.000000</td>\n",
       "    </tr>\n",
       "    <tr>\n",
       "      <th>три ребенка</th>\n",
       "      <td>330</td>\n",
       "      <td>27</td>\n",
       "      <td>0.081818</td>\n",
       "    </tr>\n",
       "    <tr>\n",
       "      <th>четыре ребенка</th>\n",
       "      <td>41</td>\n",
       "      <td>4</td>\n",
       "      <td>0.097561</td>\n",
       "    </tr>\n",
       "  </tbody>\n",
       "</table>\n",
       "</div>"
      ],
      "text/plain": [
       "                count   sum      mean\n",
       "                 debt  debt      debt\n",
       "category_child                       \n",
       "два ребенка      2052   194  0.094542\n",
       "нет детей       14091  1063  0.075438\n",
       "один ребенок     4808   444  0.092346\n",
       "пять детей          9     0  0.000000\n",
       "три ребенка       330    27  0.081818\n",
       "четыре ребенка     41     4  0.097561"
      ]
     },
     "execution_count": 32,
     "metadata": {},
     "output_type": "execute_result"
    }
   ],
   "source": [
    "# КОД ревьюера\n",
    "data.pivot_table(index='category_child', values='debt', aggfunc=(['count', 'sum', 'mean']))\n"
   ]
  },
  {
   "cell_type": "markdown",
   "id": "2eb9088e",
   "metadata": {
    "deletable": false,
    "id": "2eb9088e"
   },
   "source": [
    "**Вывод:** На основании полученных данных можно сделать вывод, что зависимость между количеством детей и возвратом кредита в срок имеется. Клиенты, у которых есть дети с большей вероятностью могут стать должниками.Допустимо предположить, что у клиентов с детьми имеются непредвиденные траты,которые могут повлиять на совевременную выплату кредита (траты в том числе на детей). Также замечу, что в процессе анализа выявлены клиенты с пятью детьми и отсутсвием задолжности  - предполагаю, что в датафрейме информации по данной категории было недостаточно для полного анализа.Кроме того, стоит отметить малочисленность выборок категории клиентов имеющих троих детей и более - данный фактор может оказывать влияние на достоверность полученных результатов"
   ]
  },
  {
   "cell_type": "markdown",
   "id": "b5ef829b",
   "metadata": {},
   "source": [
    "<div class=\"alert alert-warning\">\n",
    "<h2> Комментарий ревьюера 🤓<a class=\"tocSkip\"> </h2>\n",
    "\n",
    "Верно, можно отметить малочисленность выборок начиная с категорий с 3-мя и более детьми)"
   ]
  },
  {
   "cell_type": "markdown",
   "id": "9f5d1811",
   "metadata": {},
   "source": [
    "<div class=\"alert alert-info\"> <b>Комментарий студента:</b> Вывод скорректировал с учетом полученных рекомендаций </div>"
   ]
  },
  {
   "cell_type": "markdown",
   "id": "54ed13c4",
   "metadata": {},
   "source": [
    "<div class=\"alert alert-success\">\n",
    "<h2> Комментарий ревьюера 😊 v_2 <a class=\"tocSkip\"> </h2>\n",
    "\n",
    "Хорошо)"
   ]
  },
  {
   "cell_type": "markdown",
   "id": "74c9b3a7",
   "metadata": {
    "deletable": false,
    "editable": false,
    "id": "74c9b3a7"
   },
   "source": [
    "#### 3.2 Есть ли зависимость между семейным положением и возвратом кредита в срок?"
   ]
  },
  {
   "cell_type": "code",
   "execution_count": 29,
   "id": "8098ab3b",
   "metadata": {
    "deletable": false,
    "id": "8098ab3b"
   },
   "outputs": [
    {
     "data": {
      "text/html": [
       "<div>\n",
       "<style scoped>\n",
       "    .dataframe tbody tr th:only-of-type {\n",
       "        vertical-align: middle;\n",
       "    }\n",
       "\n",
       "    .dataframe tbody tr th {\n",
       "        vertical-align: top;\n",
       "    }\n",
       "\n",
       "    .dataframe thead th {\n",
       "        text-align: right;\n",
       "    }\n",
       "</style>\n",
       "<table border=\"1\" class=\"dataframe\">\n",
       "  <thead>\n",
       "    <tr style=\"text-align: right;\">\n",
       "      <th>category_debt</th>\n",
       "      <th>had_dept</th>\n",
       "      <th>had_no_dept</th>\n",
       "      <th>percent_dept</th>\n",
       "    </tr>\n",
       "    <tr>\n",
       "      <th>family_status</th>\n",
       "      <th></th>\n",
       "      <th></th>\n",
       "      <th></th>\n",
       "    </tr>\n",
       "  </thead>\n",
       "  <tbody>\n",
       "    <tr>\n",
       "      <th>Не женат / не замужем</th>\n",
       "      <td>273</td>\n",
       "      <td>2523</td>\n",
       "      <td>9.76%</td>\n",
       "    </tr>\n",
       "    <tr>\n",
       "      <th>гражданский брак</th>\n",
       "      <td>385</td>\n",
       "      <td>3749</td>\n",
       "      <td>9.31%</td>\n",
       "    </tr>\n",
       "    <tr>\n",
       "      <th>женат / замужем</th>\n",
       "      <td>927</td>\n",
       "      <td>11334</td>\n",
       "      <td>7.56%</td>\n",
       "    </tr>\n",
       "    <tr>\n",
       "      <th>в разводе</th>\n",
       "      <td>84</td>\n",
       "      <td>1105</td>\n",
       "      <td>7.06%</td>\n",
       "    </tr>\n",
       "    <tr>\n",
       "      <th>вдовец / вдова</th>\n",
       "      <td>63</td>\n",
       "      <td>888</td>\n",
       "      <td>6.62%</td>\n",
       "    </tr>\n",
       "  </tbody>\n",
       "</table>\n",
       "</div>"
      ],
      "text/plain": [
       "category_debt          had_dept  had_no_dept percent_dept\n",
       "family_status                                            \n",
       "Не женат / не замужем       273         2523        9.76%\n",
       "гражданский брак            385         3749        9.31%\n",
       "женат / замужем             927        11334        7.56%\n",
       "в разводе                    84         1105        7.06%\n",
       "вдовец / вдова               63          888        6.62%"
      ]
     },
     "execution_count": 29,
     "metadata": {},
     "output_type": "execute_result"
    }
   ],
   "source": [
    "# Ваш код будет здесь. Вы можете создавать новые ячейки.\n",
    "#создадим сводную таблицу\n",
    "family_status_to_debt = data.pivot_table(index='family_status', columns='category_debt', values='debt', aggfunc='count',fill_value=0)\n",
    "#узнаем долю должников\n",
    "family_status_to_debt['percent_dept'] = family_status_to_debt['had_dept']/(family_status_to_debt['had_dept']+family_status_to_debt['had_no_dept'])\n",
    "#переведем в проценты полученные значения\n",
    "family_status_to_debt['percent_dept'] = family_status_to_debt['percent_dept'].transform(lambda x: '{:,.2%}'.format(x))\n",
    "#отсортируем по убываю \n",
    "family_status_to_debt.sort_values(by = 'percent_dept', ascending = False)"
   ]
  },
  {
   "cell_type": "markdown",
   "id": "c389ca63",
   "metadata": {
    "deletable": false,
    "id": "c389ca63"
   },
   "source": [
    "**Вывод:** \n",
    "    На основании полученных данных можно сделать вывод, что зависимость между семейным положением и возвратом кредита в срок иммется.С наибольшей вероятностью  могут стать должниками  те клиенты, которые \"не обременены узами брака\".Допустимо предположить, что клиенты данной категории могут являтся безответсвенными людьми.\n",
    "    Также стоит отметить, что наименьшая вероятность стать  должниками у \"Вдовцов и вдов\".Допустимо предположить, что люди данной категории являются ответсвенными в силу перенесенных жизненных обстоятельств.Также основная группа вдовцов и вдов люди в возрасте и следовательно в выплате кредитов им могут помогать их дети."
   ]
  },
  {
   "cell_type": "markdown",
   "id": "712bb494",
   "metadata": {},
   "source": [
    "<div class=\"alert alert-success\">\n",
    "<h2> Комментарий ревьюера 😊<a class=\"tocSkip\"> </h2>\n",
    "\n",
    "Верно, молодец)"
   ]
  },
  {
   "cell_type": "markdown",
   "id": "581376f7",
   "metadata": {},
   "source": [
    "<div class=\"alert alert-info\"> <b>Комментарий студента:</b> 🤝 </div>"
   ]
  },
  {
   "cell_type": "markdown",
   "id": "9529de68",
   "metadata": {
    "deletable": false,
    "editable": false,
    "id": "9529de68"
   },
   "source": [
    "#### 3.3 Есть ли зависимость между уровнем дохода и возвратом кредита в срок?"
   ]
  },
  {
   "cell_type": "code",
   "execution_count": 30,
   "id": "8787f44a",
   "metadata": {
    "deletable": false,
    "id": "8787f44a"
   },
   "outputs": [
    {
     "data": {
      "text/html": [
       "<div>\n",
       "<style scoped>\n",
       "    .dataframe tbody tr th:only-of-type {\n",
       "        vertical-align: middle;\n",
       "    }\n",
       "\n",
       "    .dataframe tbody tr th {\n",
       "        vertical-align: top;\n",
       "    }\n",
       "\n",
       "    .dataframe thead th {\n",
       "        text-align: right;\n",
       "    }\n",
       "</style>\n",
       "<table border=\"1\" class=\"dataframe\">\n",
       "  <thead>\n",
       "    <tr style=\"text-align: right;\">\n",
       "      <th>category_debt</th>\n",
       "      <th>had_dept</th>\n",
       "      <th>had_no_dept</th>\n",
       "      <th>percent_dept</th>\n",
       "    </tr>\n",
       "    <tr>\n",
       "      <th>total_income_category</th>\n",
       "      <th></th>\n",
       "      <th></th>\n",
       "      <th></th>\n",
       "    </tr>\n",
       "  </thead>\n",
       "  <tbody>\n",
       "    <tr>\n",
       "      <th>E</th>\n",
       "      <td>2</td>\n",
       "      <td>20</td>\n",
       "      <td>9.09%</td>\n",
       "    </tr>\n",
       "    <tr>\n",
       "      <th>C</th>\n",
       "      <td>1353</td>\n",
       "      <td>14568</td>\n",
       "      <td>8.50%</td>\n",
       "    </tr>\n",
       "    <tr>\n",
       "      <th>A</th>\n",
       "      <td>2</td>\n",
       "      <td>23</td>\n",
       "      <td>8.00%</td>\n",
       "    </tr>\n",
       "    <tr>\n",
       "      <th>B</th>\n",
       "      <td>354</td>\n",
       "      <td>4660</td>\n",
       "      <td>7.06%</td>\n",
       "    </tr>\n",
       "    <tr>\n",
       "      <th>D</th>\n",
       "      <td>21</td>\n",
       "      <td>328</td>\n",
       "      <td>6.02%</td>\n",
       "    </tr>\n",
       "  </tbody>\n",
       "</table>\n",
       "</div>"
      ],
      "text/plain": [
       "category_debt          had_dept  had_no_dept percent_dept\n",
       "total_income_category                                    \n",
       "E                             2           20        9.09%\n",
       "C                          1353        14568        8.50%\n",
       "A                             2           23        8.00%\n",
       "B                           354         4660        7.06%\n",
       "D                            21          328        6.02%"
      ]
     },
     "execution_count": 30,
     "metadata": {},
     "output_type": "execute_result"
    }
   ],
   "source": [
    "#согласоно заданию №16 уровни дохода разделены на следующие категории:\n",
    "#0–30000 — 'E';\n",
    "#30001–50000 — 'D';\n",
    "#50001–200000 — 'C';\n",
    "#200001–1000000 — 'B';\n",
    "#1000001 и выше — 'A'.\n",
    "# Ваш код будет здесь. Вы можете создавать новые ячейки.\n",
    "#Создадим сводную таблицу\n",
    "categorize_income_to_debt = data.pivot_table(index = 'total_income_category',columns='category_debt', values='debt', aggfunc='count',fill_value=0)\n",
    "#узнаем долю должников\n",
    "categorize_income_to_debt['percent_dept'] = categorize_income_to_debt['had_dept']/(categorize_income_to_debt['had_dept']+categorize_income_to_debt['had_no_dept'])\n",
    "#переведем в проценты полученные значения\n",
    "categorize_income_to_debt['percent_dept'] = categorize_income_to_debt['percent_dept'].transform(lambda x: '{:,.2%}'.format(x))\n",
    "#отсортируем по убываю \n",
    "categorize_income_to_debt.sort_values(by = 'percent_dept', ascending = False)"
   ]
  },
  {
   "cell_type": "markdown",
   "id": "6dd14b57",
   "metadata": {
    "deletable": false,
    "id": "6dd14b57"
   },
   "source": [
    "**Вывод:** \n",
    "1.Выборки Е,А, D являются малочисленными, результатами исследования данных выборок следует пренебречь.\n",
    "2.С учетом пунка 1 данного вывода допустипо предполагать, что зависимость между уровнем дохода и возвратом кредита в срок прослеживается, а именно: чем больше ежемесячный доход клиента, тем с меньшей вероятностью он станет должником"
   ]
  },
  {
   "cell_type": "markdown",
   "id": "ba78d5e8",
   "metadata": {},
   "source": [
    "<div class=\"alert alert-block alert-danger\">\n",
    "<h2> Комментарий ревьюера ⛔️<a class=\"tocSkip\"></h2>\n",
    "<s>\n",
    "В данном примере количество заемщиков во всех категориях кроме B и C несопоставимо меньше, поэтому для выявления зависимости имеет смысл сравнивать только их."
   ]
  },
  {
   "cell_type": "markdown",
   "id": "17aa6cc1",
   "metadata": {},
   "source": [
    "<div class=\"alert alert-info\"> <b>Комментарий студента:</b> Согласен с замечанием. Вывод скорректирован </div>"
   ]
  },
  {
   "cell_type": "markdown",
   "id": "42469f9b",
   "metadata": {},
   "source": [
    "<div class=\"alert alert-success\">\n",
    "<h2> Комментарий ревьюера 😊 v_2 <a class=\"tocSkip\"> </h2>\n",
    "\n",
    "Отлично)"
   ]
  },
  {
   "cell_type": "markdown",
   "id": "1dcc9b12",
   "metadata": {
    "deletable": false,
    "editable": false,
    "id": "1dcc9b12"
   },
   "source": [
    "#### 3.4 Как разные цели кредита влияют на его возврат в срок?"
   ]
  },
  {
   "cell_type": "code",
   "execution_count": 31,
   "id": "c602bc8b",
   "metadata": {
    "deletable": false,
    "id": "c602bc8b"
   },
   "outputs": [
    {
     "data": {
      "text/html": [
       "<div>\n",
       "<style scoped>\n",
       "    .dataframe tbody tr th:only-of-type {\n",
       "        vertical-align: middle;\n",
       "    }\n",
       "\n",
       "    .dataframe tbody tr th {\n",
       "        vertical-align: top;\n",
       "    }\n",
       "\n",
       "    .dataframe thead th {\n",
       "        text-align: right;\n",
       "    }\n",
       "</style>\n",
       "<table border=\"1\" class=\"dataframe\">\n",
       "  <thead>\n",
       "    <tr style=\"text-align: right;\">\n",
       "      <th>category_debt</th>\n",
       "      <th>had_dept</th>\n",
       "      <th>had_no_dept</th>\n",
       "      <th>percent_dept</th>\n",
       "    </tr>\n",
       "    <tr>\n",
       "      <th>purpose_category</th>\n",
       "      <th></th>\n",
       "      <th></th>\n",
       "      <th></th>\n",
       "    </tr>\n",
       "  </thead>\n",
       "  <tbody>\n",
       "    <tr>\n",
       "      <th>операции с автомобилем</th>\n",
       "      <td>400</td>\n",
       "      <td>3879</td>\n",
       "      <td>9.35%</td>\n",
       "    </tr>\n",
       "    <tr>\n",
       "      <th>получение образования</th>\n",
       "      <td>369</td>\n",
       "      <td>3619</td>\n",
       "      <td>9.25%</td>\n",
       "    </tr>\n",
       "    <tr>\n",
       "      <th>проведение свадьбы</th>\n",
       "      <td>183</td>\n",
       "      <td>2130</td>\n",
       "      <td>7.91%</td>\n",
       "    </tr>\n",
       "    <tr>\n",
       "      <th>операции с недвижимостью</th>\n",
       "      <td>780</td>\n",
       "      <td>9971</td>\n",
       "      <td>7.26%</td>\n",
       "    </tr>\n",
       "  </tbody>\n",
       "</table>\n",
       "</div>"
      ],
      "text/plain": [
       "category_debt             had_dept  had_no_dept percent_dept\n",
       "purpose_category                                            \n",
       "операции с автомобилем         400         3879        9.35%\n",
       "получение образования          369         3619        9.25%\n",
       "проведение свадьбы             183         2130        7.91%\n",
       "операции с недвижимостью       780         9971        7.26%"
      ]
     },
     "execution_count": 31,
     "metadata": {},
     "output_type": "execute_result"
    }
   ],
   "source": [
    "# Ваш код будет здесь. Вы можете создавать новые ячейки.\n",
    "# работаем со столбцом 'purpose_category' реализованным в задании 18\n",
    "#\n",
    "purpose_category_to_debt = data.pivot_table(index = 'purpose_category',columns='category_debt', values='debt', aggfunc='count',fill_value=0)\n",
    "#узнаем долю должников\n",
    "purpose_category_to_debt['percent_dept'] = purpose_category_to_debt['had_dept']/(purpose_category_to_debt['had_dept']+purpose_category_to_debt['had_no_dept'])\n",
    "#переведем в проценты полученные значения\n",
    "purpose_category_to_debt['percent_dept'] = purpose_category_to_debt['percent_dept'].transform(lambda x: '{:,.2%}'.format(x))\n",
    "#отсортируем по убываю \n",
    "purpose_category_to_debt.sort_values(by = 'percent_dept', ascending = False)"
   ]
  },
  {
   "cell_type": "markdown",
   "id": "cf05ed63",
   "metadata": {
    "deletable": false,
    "id": "cf05ed63"
   },
   "source": [
    "**Вывод:** На основании полученных данных можно сделать вывод, что клиенты взявшием заем для операций с недвижимостью с меньшей долей вероятности станут должниками. Клиенты получившие заем на операции с движемым имуществом , в частности на операции с автомобилем, могут стать должниками с большей вероятностью.Допустимо предположить что влияющим фактором на несвоевременное погашение кредита с учетом операций с автомобилем могут стать непредвиденные расходы на данный автомобиль (поломки, ДТП и т.п)"
   ]
  },
  {
   "cell_type": "markdown",
   "id": "4cd80d3a",
   "metadata": {},
   "source": [
    "<div class=\"alert alert-success\">\n",
    "<h2> Комментарий ревьюера 😊<a class=\"tocSkip\"> </h2>\n",
    "\n",
    "Верно, молодец) "
   ]
  },
  {
   "cell_type": "markdown",
   "id": "46c1f10b",
   "metadata": {
    "deletable": false,
    "editable": false,
    "id": "46c1f10b"
   },
   "source": [
    "#### 3.5 Приведите возможные причины появления пропусков в исходных данных."
   ]
  },
  {
   "cell_type": "markdown",
   "id": "3697d2a9",
   "metadata": {
    "deletable": false,
    "id": "3697d2a9"
   },
   "source": [
    "*Ответ:* В исходных данных пропуски (согласно заданию №4) были выявлены в следующих столбцах:\n",
    "total_income — ежемесячный доход\n",
    "days_employed — общий трудовой стаж в днях\n",
    "Возомжные причины:\n",
    "1)Вышеперечисленные характеристики клиента являются конфиденциальной информацией и вполне возможно были не предоставлены при оформлении заявки на получение кредита либо при передаче данной статистики кредитный отдел банка намеренно скрыл информацию о клинетах.\n",
    "2)Некорректный экспорт данных из ПО, аккумулирующего всю информацию о клиентах.\n",
    "3)Случайная ошибка сотрудников банка при заполнении информации о клиентах."
   ]
  },
  {
   "cell_type": "markdown",
   "id": "20599e37",
   "metadata": {},
   "source": [
    "<div class=\"alert alert-success\">\n",
    "<h2> Комментарий ревьюера 😊<a class=\"tocSkip\"> </h2>\n",
    "\n",
    "Хорошо"
   ]
  },
  {
   "cell_type": "markdown",
   "id": "3137d257",
   "metadata": {
    "deletable": false,
    "editable": false,
    "id": "3137d257"
   },
   "source": [
    "#### 3.6 Объясните, почему заполнить пропуски медианным значением — лучшее решение для количественных переменных."
   ]
  },
  {
   "cell_type": "markdown",
   "id": "cf40012a",
   "metadata": {
    "deletable": false,
    "id": "cf40012a"
   },
   "source": [
    "*Ответ:*\n",
    "Медиана характеристика,на которую не влияют случайные выбросы и шум. Среднее арифметическое отражает ситуацию некорректно, так как не учитывает разброс данных."
   ]
  },
  {
   "cell_type": "markdown",
   "id": "1b0161e4",
   "metadata": {},
   "source": [
    "<div class=\"alert alert-success\">\n",
    "<h2> Комментарий ревьюера 😊<a class=\"tocSkip\"> </h2>\n",
    "\n",
    "Точно, медиана менее чувствительна к выбросам, чем среднее."
   ]
  },
  {
   "cell_type": "markdown",
   "id": "57bc304e",
   "metadata": {
    "deletable": false,
    "editable": false,
    "id": "57bc304e"
   },
   "source": [
    "### Шаг 4: общий вывод."
   ]
  },
  {
   "cell_type": "markdown",
   "id": "1ab75d1c",
   "metadata": {
    "deletable": false,
    "id": "1ab75d1c"
   },
   "source": [
    "Напишите ваш общий вывод."
   ]
  },
  {
   "cell_type": "markdown",
   "id": "f6e51a4e",
   "metadata": {},
   "source": [
    "<div style=\"border:solid Purple 2px; padding: 40px\" >\n",
    "<h1> Общий вывод по проетку \"Исследование надёжности заёмщиков\" </h1>\n",
    "Согласно заданию проектной работы результаты данного исследования будут учтены при построении модели кредитного скоринга — специальной системы, которая оценивает способность потенциального заёмщика вернуть кредит банку. Соответсвенно выводом являются результаты. \n",
    "<u>Результаты следующие:</u>\n",
    "<ol> 1)Рекомендуется одобрять заем на кредит клиентам не имеющих детей;</ol>\n",
    "<ol> 2)Рекомендуется одобрять заем Вдовцам и вдовам;</ol>\n",
    "<ol> 3)Рекомендуется одобрять заем клиентам с наибольшим доходом;</ol>\n",
    "<ol> 4)Рекомендуется одобрять заем на операции с недвижимостью.</ol>\n",
    "</div>"
   ]
  },
  {
   "cell_type": "markdown",
   "id": "8ff1275a",
   "metadata": {},
   "source": [
    "<div class=\"alert alert-success\">\n",
    "<h2> Комментарий ревьюера 😊<a class=\"tocSkip\"> </h2>\n",
    "\n",
    "Не забудь обновить вывод в соответствии с проектом)"
   ]
  },
  {
   "cell_type": "markdown",
   "id": "94e0c2b9",
   "metadata": {},
   "source": [
    "<div class=\"alert alert-info\"> <b>Комментарий студента:</b> Вывод скорректирован </div>"
   ]
  },
  {
   "cell_type": "markdown",
   "id": "5f7de8d5",
   "metadata": {},
   "source": [
    "<div style=\"border:solid Purple 2px; padding: 40px\">\n",
    "\n",
    "<h2> Общий комментарий ревьюера 😊 v_2<a class=\"tocSkip\"> </h2>\n",
    "    <br/>\n",
    "Кирилл, спасибо за проект! Успехов в дальнейшем обучении!)\n",
    "    "
   ]
  },
  {
   "cell_type": "markdown",
   "id": "ed5003fd",
   "metadata": {},
   "source": [
    "<div style=\"border:solid Purple 2px; padding: 40px\">\n",
    "\n",
    "<h2> Общий комментарий ревьюера 😊<a class=\"tocSkip\"> </h2>\n",
    "    <br/>\n",
    "Ты проделал большую работу, и все основные задачи в рамках проекта решены, это отличная работа! Отличная работа с таблицами, осталось совсем немного скорректировать)\n",
    " \n",
    "    \n",
    " \n",
    "**Желаю удачи и жду твой проект на повторное ревью! Если вдруг у тебя возникнут вопросы, то я с радостью отвечу на них.    😊**\n",
    "    "
   ]
  },
  {
   "cell_type": "code",
   "execution_count": null,
   "id": "e09eeec9",
   "metadata": {},
   "outputs": [],
   "source": []
  }
 ],
 "metadata": {
  "ExecuteTimeLog": [
   {
    "duration": 163,
    "start_time": "2024-02-26T18:57:44.008Z"
   },
   {
    "duration": 4,
    "start_time": "2024-02-26T19:04:33.708Z"
   },
   {
    "duration": 42,
    "start_time": "2024-02-26T19:08:02.002Z"
   },
   {
    "duration": 487,
    "start_time": "2024-02-26T19:08:45.257Z"
   },
   {
    "duration": 21,
    "start_time": "2024-02-26T19:08:45.746Z"
   },
   {
    "duration": 16,
    "start_time": "2024-02-26T19:08:45.768Z"
   },
   {
    "duration": 10,
    "start_time": "2024-02-26T19:08:45.786Z"
   },
   {
    "duration": 39,
    "start_time": "2024-02-26T19:08:45.798Z"
   },
   {
    "duration": 3,
    "start_time": "2024-02-26T19:08:45.839Z"
   },
   {
    "duration": 15,
    "start_time": "2024-02-26T19:08:45.844Z"
   },
   {
    "duration": 4,
    "start_time": "2024-02-26T19:08:45.860Z"
   },
   {
    "duration": 17,
    "start_time": "2024-02-26T19:08:45.865Z"
   },
   {
    "duration": 14,
    "start_time": "2024-02-26T19:08:45.884Z"
   },
   {
    "duration": 44,
    "start_time": "2024-02-26T19:08:45.899Z"
   },
   {
    "duration": 11,
    "start_time": "2024-02-26T19:08:45.944Z"
   },
   {
    "duration": 5,
    "start_time": "2024-02-26T19:08:45.956Z"
   },
   {
    "duration": 13,
    "start_time": "2024-02-26T19:08:45.964Z"
   },
   {
    "duration": 24,
    "start_time": "2024-02-26T19:08:45.979Z"
   },
   {
    "duration": 16,
    "start_time": "2024-02-26T19:08:46.004Z"
   },
   {
    "duration": 12,
    "start_time": "2024-02-26T19:08:46.022Z"
   },
   {
    "duration": 17,
    "start_time": "2024-02-26T19:08:46.035Z"
   },
   {
    "duration": 7,
    "start_time": "2024-02-26T19:08:46.054Z"
   },
   {
    "duration": 7,
    "start_time": "2024-02-26T19:08:46.062Z"
   },
   {
    "duration": 23,
    "start_time": "2024-02-26T19:08:46.071Z"
   },
   {
    "duration": 4,
    "start_time": "2024-02-26T19:08:46.095Z"
   },
   {
    "duration": 45,
    "start_time": "2024-02-26T19:08:46.101Z"
   },
   {
    "duration": 21,
    "start_time": "2024-02-26T19:08:46.148Z"
   },
   {
    "duration": 15,
    "start_time": "2024-02-26T19:08:46.171Z"
   },
   {
    "duration": 12,
    "start_time": "2024-02-26T19:08:46.187Z"
   },
   {
    "duration": 6,
    "start_time": "2024-02-26T19:08:52.158Z"
   },
   {
    "duration": 16,
    "start_time": "2024-02-26T19:09:39.798Z"
   },
   {
    "duration": 3,
    "start_time": "2024-02-26T19:17:34.889Z"
   },
   {
    "duration": 3,
    "start_time": "2024-02-26T19:19:17.672Z"
   },
   {
    "duration": 6,
    "start_time": "2024-02-26T19:20:09.668Z"
   },
   {
    "duration": 17,
    "start_time": "2024-02-26T19:20:48.167Z"
   },
   {
    "duration": 28,
    "start_time": "2024-02-26T19:31:04.524Z"
   },
   {
    "duration": 180,
    "start_time": "2024-02-26T19:31:13.895Z"
   },
   {
    "duration": 8,
    "start_time": "2024-02-26T19:31:33.890Z"
   },
   {
    "duration": 10,
    "start_time": "2024-02-26T19:31:49.159Z"
   },
   {
    "duration": 22,
    "start_time": "2024-02-26T19:33:47.850Z"
   },
   {
    "duration": 7,
    "start_time": "2024-02-26T19:34:04.326Z"
   },
   {
    "duration": 15,
    "start_time": "2024-02-26T19:37:26.454Z"
   },
   {
    "duration": 7,
    "start_time": "2024-02-26T19:37:30.688Z"
   },
   {
    "duration": 101,
    "start_time": "2024-02-26T19:38:26.746Z"
   },
   {
    "duration": 15,
    "start_time": "2024-02-26T19:38:46.664Z"
   },
   {
    "duration": 19,
    "start_time": "2024-02-26T19:43:09.300Z"
   },
   {
    "duration": 1634,
    "start_time": "2024-02-26T19:45:58.974Z"
   },
   {
    "duration": 17,
    "start_time": "2024-02-26T19:51:31.784Z"
   },
   {
    "duration": 17,
    "start_time": "2024-02-26T19:51:56.743Z"
   },
   {
    "duration": 18,
    "start_time": "2024-02-26T19:53:30.478Z"
   },
   {
    "duration": 17,
    "start_time": "2024-02-26T19:53:58.209Z"
   },
   {
    "duration": 19,
    "start_time": "2024-02-26T19:54:07.008Z"
   },
   {
    "duration": 22,
    "start_time": "2024-02-26T19:56:38.948Z"
   },
   {
    "duration": 21,
    "start_time": "2024-02-26T19:57:07.698Z"
   },
   {
    "duration": 22,
    "start_time": "2024-02-26T19:57:21.468Z"
   },
   {
    "duration": 15,
    "start_time": "2024-02-26T19:57:37.543Z"
   },
   {
    "duration": 6,
    "start_time": "2024-02-26T19:57:46.770Z"
   },
   {
    "duration": 17,
    "start_time": "2024-02-26T19:58:22.589Z"
   },
   {
    "duration": 6,
    "start_time": "2024-02-26T19:58:24.861Z"
   },
   {
    "duration": 1587,
    "start_time": "2024-02-26T20:03:14.173Z"
   },
   {
    "duration": 6,
    "start_time": "2024-02-26T20:03:16.748Z"
   },
   {
    "duration": 22,
    "start_time": "2024-02-26T20:04:58.267Z"
   },
   {
    "duration": 18,
    "start_time": "2024-02-26T20:05:20.607Z"
   },
   {
    "duration": 6,
    "start_time": "2024-02-26T20:05:23.189Z"
   },
   {
    "duration": 17,
    "start_time": "2024-02-26T20:05:33.303Z"
   },
   {
    "duration": 7,
    "start_time": "2024-02-26T20:05:35.945Z"
   },
   {
    "duration": 16,
    "start_time": "2024-02-26T20:06:24.569Z"
   },
   {
    "duration": 7,
    "start_time": "2024-02-26T20:06:26.697Z"
   },
   {
    "duration": 1646,
    "start_time": "2024-02-26T20:07:04.173Z"
   },
   {
    "duration": 7,
    "start_time": "2024-02-26T20:07:06.757Z"
   },
   {
    "duration": 17,
    "start_time": "2024-02-26T20:08:09.062Z"
   },
   {
    "duration": 6,
    "start_time": "2024-02-26T20:08:15.257Z"
   },
   {
    "duration": 1723,
    "start_time": "2024-02-26T20:09:56.655Z"
   },
   {
    "duration": 6,
    "start_time": "2024-02-26T20:09:59.115Z"
   },
   {
    "duration": 3,
    "start_time": "2024-02-26T20:11:07.371Z"
   },
   {
    "duration": 6,
    "start_time": "2024-02-26T20:11:09.643Z"
   },
   {
    "duration": 17,
    "start_time": "2024-02-26T20:11:14.655Z"
   },
   {
    "duration": 18,
    "start_time": "2024-02-26T20:12:03.661Z"
   },
   {
    "duration": 7,
    "start_time": "2024-02-26T20:12:07.216Z"
   },
   {
    "duration": 17,
    "start_time": "2024-02-26T20:21:15.227Z"
   },
   {
    "duration": 6,
    "start_time": "2024-02-26T20:21:18.007Z"
   },
   {
    "duration": 23,
    "start_time": "2024-02-26T20:29:30.128Z"
   },
   {
    "duration": 496,
    "start_time": "2024-02-26T20:37:09.756Z"
   },
   {
    "duration": 24,
    "start_time": "2024-02-26T20:38:27.465Z"
   },
   {
    "duration": 11,
    "start_time": "2024-02-26T20:39:09.630Z"
   },
   {
    "duration": 25,
    "start_time": "2024-02-26T20:41:03.619Z"
   },
   {
    "duration": 193,
    "start_time": "2024-02-26T20:41:34.065Z"
   },
   {
    "duration": 157,
    "start_time": "2024-02-26T20:45:22.849Z"
   },
   {
    "duration": 163,
    "start_time": "2024-02-26T20:45:41.098Z"
   },
   {
    "duration": 559,
    "start_time": "2024-02-27T17:45:39.786Z"
   },
   {
    "duration": 23,
    "start_time": "2024-02-27T17:45:40.347Z"
   },
   {
    "duration": 19,
    "start_time": "2024-02-27T17:45:40.372Z"
   },
   {
    "duration": 11,
    "start_time": "2024-02-27T17:45:40.392Z"
   },
   {
    "duration": 45,
    "start_time": "2024-02-27T17:45:40.406Z"
   },
   {
    "duration": 3,
    "start_time": "2024-02-27T17:45:40.453Z"
   },
   {
    "duration": 20,
    "start_time": "2024-02-27T17:45:40.458Z"
   },
   {
    "duration": 25,
    "start_time": "2024-02-27T17:45:40.480Z"
   },
   {
    "duration": 15,
    "start_time": "2024-02-27T17:45:40.507Z"
   },
   {
    "duration": 14,
    "start_time": "2024-02-27T17:45:40.523Z"
   },
   {
    "duration": 42,
    "start_time": "2024-02-27T17:45:40.538Z"
   },
   {
    "duration": 11,
    "start_time": "2024-02-27T17:45:40.582Z"
   },
   {
    "duration": 21,
    "start_time": "2024-02-27T17:45:40.594Z"
   },
   {
    "duration": 24,
    "start_time": "2024-02-27T17:45:40.618Z"
   },
   {
    "duration": 68,
    "start_time": "2024-02-27T17:45:40.644Z"
   },
   {
    "duration": 17,
    "start_time": "2024-02-27T17:45:40.713Z"
   },
   {
    "duration": 26,
    "start_time": "2024-02-27T17:45:40.732Z"
   },
   {
    "duration": 27,
    "start_time": "2024-02-27T17:45:40.760Z"
   },
   {
    "duration": 7,
    "start_time": "2024-02-27T17:45:40.789Z"
   },
   {
    "duration": 18,
    "start_time": "2024-02-27T17:45:40.798Z"
   },
   {
    "duration": 23,
    "start_time": "2024-02-27T17:45:40.818Z"
   },
   {
    "duration": 7,
    "start_time": "2024-02-27T17:45:40.843Z"
   },
   {
    "duration": 13,
    "start_time": "2024-02-27T17:45:40.851Z"
   },
   {
    "duration": 19,
    "start_time": "2024-02-27T17:45:40.866Z"
   },
   {
    "duration": 30,
    "start_time": "2024-02-27T17:45:40.887Z"
   },
   {
    "duration": 14,
    "start_time": "2024-02-27T17:45:40.918Z"
   },
   {
    "duration": 34,
    "start_time": "2024-02-27T17:45:40.933Z"
   },
   {
    "duration": 48,
    "start_time": "2024-02-27T17:45:40.969Z"
   },
   {
    "duration": 2,
    "start_time": "2024-02-27T17:45:41.019Z"
   },
   {
    "duration": 11,
    "start_time": "2024-02-27T17:45:41.023Z"
   },
   {
    "duration": 36,
    "start_time": "2024-02-27T17:45:41.036Z"
   },
   {
    "duration": 5,
    "start_time": "2024-02-27T17:48:25.368Z"
   },
   {
    "duration": 520,
    "start_time": "2024-02-27T17:55:06.450Z"
   },
   {
    "duration": 17,
    "start_time": "2024-02-27T17:58:09.533Z"
   },
   {
    "duration": 23,
    "start_time": "2024-02-27T17:58:45.330Z"
   },
   {
    "duration": 15,
    "start_time": "2024-02-27T18:01:56.411Z"
   },
   {
    "duration": 20,
    "start_time": "2024-02-27T18:02:17.244Z"
   },
   {
    "duration": 4,
    "start_time": "2024-02-27T18:08:31.887Z"
   },
   {
    "duration": 24,
    "start_time": "2024-02-27T18:08:53.602Z"
   },
   {
    "duration": 141,
    "start_time": "2024-02-27T18:10:16.542Z"
   },
   {
    "duration": 24,
    "start_time": "2024-02-27T18:13:51.204Z"
   },
   {
    "duration": 93,
    "start_time": "2024-02-27T19:26:03.474Z"
   },
   {
    "duration": 17,
    "start_time": "2024-02-27T19:26:03.569Z"
   },
   {
    "duration": 18,
    "start_time": "2024-02-27T19:26:03.588Z"
   },
   {
    "duration": 12,
    "start_time": "2024-02-27T19:26:03.608Z"
   },
   {
    "duration": 71,
    "start_time": "2024-02-27T19:26:03.622Z"
   },
   {
    "duration": 4,
    "start_time": "2024-02-27T19:26:03.695Z"
   },
   {
    "duration": 14,
    "start_time": "2024-02-27T19:26:03.701Z"
   },
   {
    "duration": 12,
    "start_time": "2024-02-27T19:26:03.717Z"
   },
   {
    "duration": 16,
    "start_time": "2024-02-27T19:26:03.731Z"
   },
   {
    "duration": 6,
    "start_time": "2024-02-27T19:26:03.802Z"
   },
   {
    "duration": 61,
    "start_time": "2024-02-27T19:26:03.810Z"
   },
   {
    "duration": 29,
    "start_time": "2024-02-27T19:26:03.873Z"
   },
   {
    "duration": 50,
    "start_time": "2024-02-27T19:26:03.903Z"
   },
   {
    "duration": 55,
    "start_time": "2024-02-27T19:26:03.956Z"
   },
   {
    "duration": 70,
    "start_time": "2024-02-27T19:26:04.013Z"
   },
   {
    "duration": 32,
    "start_time": "2024-02-27T19:26:04.085Z"
   },
   {
    "duration": 35,
    "start_time": "2024-02-27T19:26:04.119Z"
   },
   {
    "duration": 43,
    "start_time": "2024-02-27T19:26:04.156Z"
   },
   {
    "duration": 19,
    "start_time": "2024-02-27T19:26:04.201Z"
   },
   {
    "duration": 3,
    "start_time": "2024-02-27T19:26:04.222Z"
   },
   {
    "duration": 11,
    "start_time": "2024-02-27T19:26:04.227Z"
   },
   {
    "duration": 5,
    "start_time": "2024-02-27T19:26:04.240Z"
   },
   {
    "duration": 8,
    "start_time": "2024-02-27T19:26:04.248Z"
   },
   {
    "duration": 29,
    "start_time": "2024-02-27T19:26:04.258Z"
   },
   {
    "duration": 4,
    "start_time": "2024-02-27T19:26:04.289Z"
   },
   {
    "duration": 13,
    "start_time": "2024-02-27T19:26:04.295Z"
   },
   {
    "duration": 23,
    "start_time": "2024-02-27T19:26:04.310Z"
   },
   {
    "duration": 66,
    "start_time": "2024-02-27T19:26:04.335Z"
   },
   {
    "duration": 24,
    "start_time": "2024-02-27T19:26:04.403Z"
   },
   {
    "duration": 45,
    "start_time": "2024-02-27T19:26:04.428Z"
   },
   {
    "duration": 2,
    "start_time": "2024-02-27T19:26:04.475Z"
   },
   {
    "duration": 25,
    "start_time": "2024-02-27T19:42:42.443Z"
   },
   {
    "duration": 87,
    "start_time": "2024-02-27T19:55:35.466Z"
   },
   {
    "duration": 16,
    "start_time": "2024-02-27T19:55:35.555Z"
   },
   {
    "duration": 31,
    "start_time": "2024-02-27T19:55:35.573Z"
   },
   {
    "duration": 11,
    "start_time": "2024-02-27T19:55:35.607Z"
   },
   {
    "duration": 36,
    "start_time": "2024-02-27T19:55:35.620Z"
   },
   {
    "duration": 3,
    "start_time": "2024-02-27T19:55:35.658Z"
   },
   {
    "duration": 19,
    "start_time": "2024-02-27T19:55:35.675Z"
   },
   {
    "duration": 6,
    "start_time": "2024-02-27T19:55:35.699Z"
   },
   {
    "duration": 18,
    "start_time": "2024-02-27T19:55:35.706Z"
   },
   {
    "duration": 6,
    "start_time": "2024-02-27T19:55:35.725Z"
   },
   {
    "duration": 49,
    "start_time": "2024-02-27T19:55:35.732Z"
   },
   {
    "duration": 18,
    "start_time": "2024-02-27T19:55:35.788Z"
   },
   {
    "duration": 6,
    "start_time": "2024-02-27T19:55:35.807Z"
   },
   {
    "duration": 33,
    "start_time": "2024-02-27T19:55:35.815Z"
   },
   {
    "duration": 30,
    "start_time": "2024-02-27T19:55:35.850Z"
   },
   {
    "duration": 30,
    "start_time": "2024-02-27T19:55:35.884Z"
   },
   {
    "duration": 4,
    "start_time": "2024-02-27T19:55:35.915Z"
   },
   {
    "duration": 18,
    "start_time": "2024-02-27T19:55:35.921Z"
   },
   {
    "duration": 7,
    "start_time": "2024-02-27T19:55:35.940Z"
   },
   {
    "duration": 3,
    "start_time": "2024-02-27T19:55:35.949Z"
   },
   {
    "duration": 11,
    "start_time": "2024-02-27T19:55:35.953Z"
   },
   {
    "duration": 15,
    "start_time": "2024-02-27T19:55:35.965Z"
   },
   {
    "duration": 21,
    "start_time": "2024-02-27T19:55:35.981Z"
   },
   {
    "duration": 30,
    "start_time": "2024-02-27T19:55:36.004Z"
   },
   {
    "duration": 15,
    "start_time": "2024-02-27T19:55:36.036Z"
   },
   {
    "duration": 37,
    "start_time": "2024-02-27T19:55:36.052Z"
   },
   {
    "duration": 33,
    "start_time": "2024-02-27T19:55:36.091Z"
   },
   {
    "duration": 42,
    "start_time": "2024-02-27T19:55:36.126Z"
   },
   {
    "duration": 34,
    "start_time": "2024-02-27T19:55:36.170Z"
   },
   {
    "duration": 22,
    "start_time": "2024-02-27T19:55:36.206Z"
   },
   {
    "duration": 23,
    "start_time": "2024-02-27T19:55:36.229Z"
   },
   {
    "duration": 75,
    "start_time": "2024-02-27T21:49:48.478Z"
   },
   {
    "duration": 15,
    "start_time": "2024-02-27T21:49:48.555Z"
   },
   {
    "duration": 15,
    "start_time": "2024-02-27T21:49:48.572Z"
   },
   {
    "duration": 28,
    "start_time": "2024-02-27T21:49:48.588Z"
   },
   {
    "duration": 36,
    "start_time": "2024-02-27T21:49:48.617Z"
   },
   {
    "duration": 3,
    "start_time": "2024-02-27T21:49:48.654Z"
   },
   {
    "duration": 10,
    "start_time": "2024-02-27T21:49:48.659Z"
   },
   {
    "duration": 5,
    "start_time": "2024-02-27T21:49:48.671Z"
   },
   {
    "duration": 37,
    "start_time": "2024-02-27T21:49:48.678Z"
   },
   {
    "duration": 6,
    "start_time": "2024-02-27T21:49:48.717Z"
   },
   {
    "duration": 43,
    "start_time": "2024-02-27T21:49:48.725Z"
   },
   {
    "duration": 10,
    "start_time": "2024-02-27T21:49:48.769Z"
   },
   {
    "duration": 4,
    "start_time": "2024-02-27T21:49:48.781Z"
   },
   {
    "duration": 37,
    "start_time": "2024-02-27T21:49:48.786Z"
   },
   {
    "duration": 21,
    "start_time": "2024-02-27T21:49:48.825Z"
   },
   {
    "duration": 22,
    "start_time": "2024-02-27T21:49:48.849Z"
   },
   {
    "duration": 4,
    "start_time": "2024-02-27T21:49:48.873Z"
   },
   {
    "duration": 41,
    "start_time": "2024-02-27T21:49:48.879Z"
   },
   {
    "duration": 5,
    "start_time": "2024-02-27T21:49:48.922Z"
   },
   {
    "duration": 4,
    "start_time": "2024-02-27T21:49:48.933Z"
   },
   {
    "duration": 25,
    "start_time": "2024-02-27T21:49:48.939Z"
   },
   {
    "duration": 5,
    "start_time": "2024-02-27T21:49:48.966Z"
   },
   {
    "duration": 8,
    "start_time": "2024-02-27T21:49:48.972Z"
   },
   {
    "duration": 33,
    "start_time": "2024-02-27T21:49:48.981Z"
   },
   {
    "duration": 3,
    "start_time": "2024-02-27T21:49:49.015Z"
   },
   {
    "duration": 8,
    "start_time": "2024-02-27T21:49:49.019Z"
   },
   {
    "duration": 47,
    "start_time": "2024-02-27T21:49:49.028Z"
   },
   {
    "duration": 46,
    "start_time": "2024-02-27T21:49:49.076Z"
   },
   {
    "duration": 23,
    "start_time": "2024-02-27T21:49:49.123Z"
   },
   {
    "duration": 20,
    "start_time": "2024-02-27T21:49:49.147Z"
   },
   {
    "duration": 20,
    "start_time": "2024-02-27T21:49:49.169Z"
   },
   {
    "duration": 95,
    "start_time": "2024-02-28T18:10:02.767Z"
   },
   {
    "duration": 79,
    "start_time": "2024-02-28T18:10:33.553Z"
   },
   {
    "duration": 47,
    "start_time": "2024-02-28T18:35:53.292Z"
   },
   {
    "duration": 670,
    "start_time": "2024-02-28T18:36:00.567Z"
   },
   {
    "duration": 21,
    "start_time": "2024-02-28T18:36:01.238Z"
   },
   {
    "duration": 27,
    "start_time": "2024-02-28T18:36:01.261Z"
   },
   {
    "duration": 33,
    "start_time": "2024-02-28T18:36:01.289Z"
   },
   {
    "duration": 65,
    "start_time": "2024-02-28T18:36:01.324Z"
   },
   {
    "duration": 19,
    "start_time": "2024-02-28T18:36:01.390Z"
   },
   {
    "duration": 34,
    "start_time": "2024-02-28T18:36:01.411Z"
   },
   {
    "duration": 40,
    "start_time": "2024-02-28T18:36:01.447Z"
   },
   {
    "duration": 38,
    "start_time": "2024-02-28T18:36:01.489Z"
   },
   {
    "duration": 32,
    "start_time": "2024-02-28T18:36:01.529Z"
   },
   {
    "duration": 98,
    "start_time": "2024-02-28T18:36:01.563Z"
   },
   {
    "duration": 43,
    "start_time": "2024-02-28T18:36:01.662Z"
   },
   {
    "duration": 52,
    "start_time": "2024-02-28T18:36:01.706Z"
   },
   {
    "duration": 76,
    "start_time": "2024-02-28T18:36:01.760Z"
   },
   {
    "duration": 81,
    "start_time": "2024-02-28T18:36:01.838Z"
   },
   {
    "duration": 122,
    "start_time": "2024-02-28T18:36:01.920Z"
   },
   {
    "duration": 52,
    "start_time": "2024-02-28T18:36:02.044Z"
   },
   {
    "duration": 45,
    "start_time": "2024-02-28T18:36:02.098Z"
   },
   {
    "duration": 44,
    "start_time": "2024-02-28T18:36:02.144Z"
   },
   {
    "duration": 25,
    "start_time": "2024-02-28T18:36:02.189Z"
   },
   {
    "duration": 32,
    "start_time": "2024-02-28T18:36:02.215Z"
   },
   {
    "duration": 11,
    "start_time": "2024-02-28T18:36:02.249Z"
   },
   {
    "duration": 30,
    "start_time": "2024-02-28T18:36:02.262Z"
   },
   {
    "duration": 46,
    "start_time": "2024-02-28T18:36:02.294Z"
   },
   {
    "duration": 18,
    "start_time": "2024-02-28T18:36:02.341Z"
   },
   {
    "duration": 31,
    "start_time": "2024-02-28T18:36:02.360Z"
   },
   {
    "duration": 20,
    "start_time": "2024-02-28T18:36:02.393Z"
   },
   {
    "duration": 26,
    "start_time": "2024-02-28T18:36:02.415Z"
   },
   {
    "duration": 20,
    "start_time": "2024-02-28T18:36:02.443Z"
   },
   {
    "duration": 18,
    "start_time": "2024-02-28T18:36:02.465Z"
   },
   {
    "duration": 20,
    "start_time": "2024-02-28T18:36:02.485Z"
   },
   {
    "duration": 23,
    "start_time": "2024-02-28T18:36:52.828Z"
   },
   {
    "duration": 34,
    "start_time": "2024-02-28T18:37:12.891Z"
   },
   {
    "duration": 28,
    "start_time": "2024-02-28T18:37:27.760Z"
   },
   {
    "duration": 9,
    "start_time": "2024-02-28T18:38:00.316Z"
   },
   {
    "duration": 9,
    "start_time": "2024-02-28T18:38:50.809Z"
   },
   {
    "duration": 21,
    "start_time": "2024-02-28T18:41:00.071Z"
   },
   {
    "duration": 26,
    "start_time": "2024-02-28T18:41:23.057Z"
   },
   {
    "duration": 10,
    "start_time": "2024-02-28T18:41:31.802Z"
   },
   {
    "duration": 21,
    "start_time": "2024-02-28T18:41:40.675Z"
   },
   {
    "duration": 20,
    "start_time": "2024-02-28T18:41:47.957Z"
   },
   {
    "duration": 21,
    "start_time": "2024-02-28T18:41:56.077Z"
   },
   {
    "duration": 19,
    "start_time": "2024-02-28T18:42:10.690Z"
   },
   {
    "duration": 26,
    "start_time": "2024-02-28T18:51:29.846Z"
   },
   {
    "duration": 35,
    "start_time": "2024-02-28T18:51:55.412Z"
   },
   {
    "duration": 36,
    "start_time": "2024-02-28T18:52:08.251Z"
   },
   {
    "duration": 33,
    "start_time": "2024-02-28T18:55:21.751Z"
   },
   {
    "duration": 45,
    "start_time": "2024-02-28T18:55:42.371Z"
   },
   {
    "duration": 67,
    "start_time": "2024-02-28T18:58:10.988Z"
   },
   {
    "duration": 29,
    "start_time": "2024-02-28T18:58:59.047Z"
   },
   {
    "duration": 68,
    "start_time": "2024-02-28T18:59:13.162Z"
   },
   {
    "duration": 20,
    "start_time": "2024-02-28T18:59:27.950Z"
   },
   {
    "duration": 32,
    "start_time": "2024-02-28T19:00:05.096Z"
   },
   {
    "duration": 42,
    "start_time": "2024-02-28T19:00:27.805Z"
   },
   {
    "duration": 104,
    "start_time": "2024-02-28T19:27:14.789Z"
   },
   {
    "duration": 520,
    "start_time": "2024-02-28T20:56:35.340Z"
   },
   {
    "duration": 23,
    "start_time": "2024-02-28T20:56:35.861Z"
   },
   {
    "duration": 24,
    "start_time": "2024-02-28T20:56:35.885Z"
   },
   {
    "duration": 19,
    "start_time": "2024-02-28T20:56:35.914Z"
   },
   {
    "duration": 36,
    "start_time": "2024-02-28T20:56:35.934Z"
   },
   {
    "duration": 3,
    "start_time": "2024-02-28T20:56:35.971Z"
   },
   {
    "duration": 25,
    "start_time": "2024-02-28T20:56:35.975Z"
   },
   {
    "duration": 6,
    "start_time": "2024-02-28T20:56:36.002Z"
   },
   {
    "duration": 11,
    "start_time": "2024-02-28T20:56:36.010Z"
   },
   {
    "duration": 5,
    "start_time": "2024-02-28T20:56:36.025Z"
   },
   {
    "duration": 67,
    "start_time": "2024-02-28T20:56:36.032Z"
   },
   {
    "duration": 17,
    "start_time": "2024-02-28T20:56:36.100Z"
   },
   {
    "duration": 4,
    "start_time": "2024-02-28T20:56:36.119Z"
   },
   {
    "duration": 21,
    "start_time": "2024-02-28T20:56:36.124Z"
   },
   {
    "duration": 19,
    "start_time": "2024-02-28T20:56:36.147Z"
   },
   {
    "duration": 45,
    "start_time": "2024-02-28T20:56:36.167Z"
   },
   {
    "duration": 3,
    "start_time": "2024-02-28T20:56:36.215Z"
   },
   {
    "duration": 15,
    "start_time": "2024-02-28T20:56:36.219Z"
   },
   {
    "duration": 6,
    "start_time": "2024-02-28T20:56:36.235Z"
   },
   {
    "duration": 4,
    "start_time": "2024-02-28T20:56:36.242Z"
   },
   {
    "duration": 19,
    "start_time": "2024-02-28T20:56:36.247Z"
   },
   {
    "duration": 3,
    "start_time": "2024-02-28T20:56:36.267Z"
   },
   {
    "duration": 43,
    "start_time": "2024-02-28T20:56:36.271Z"
   },
   {
    "duration": 19,
    "start_time": "2024-02-28T20:56:36.316Z"
   },
   {
    "duration": 3,
    "start_time": "2024-02-28T20:56:36.336Z"
   },
   {
    "duration": 22,
    "start_time": "2024-02-28T20:56:36.341Z"
   },
   {
    "duration": 17,
    "start_time": "2024-02-28T20:56:36.365Z"
   },
   {
    "duration": 45,
    "start_time": "2024-02-28T20:56:36.385Z"
   },
   {
    "duration": 20,
    "start_time": "2024-02-28T20:56:36.431Z"
   },
   {
    "duration": 19,
    "start_time": "2024-02-28T20:56:36.453Z"
   },
   {
    "duration": 39,
    "start_time": "2024-02-28T20:56:36.473Z"
   },
   {
    "duration": 32,
    "start_time": "2024-02-28T20:58:10.899Z"
   }
  ],
  "colab": {
   "provenance": []
  },
  "kernelspec": {
   "display_name": "Python 3 (ipykernel)",
   "language": "python",
   "name": "python3"
  },
  "language_info": {
   "codemirror_mode": {
    "name": "ipython",
    "version": 3
   },
   "file_extension": ".py",
   "mimetype": "text/x-python",
   "name": "python",
   "nbconvert_exporter": "python",
   "pygments_lexer": "ipython3",
   "version": "3.9.5"
  },
  "toc": {
   "base_numbering": 1,
   "nav_menu": {},
   "number_sections": true,
   "sideBar": true,
   "skip_h1_title": true,
   "title_cell": "Table of Contents",
   "title_sidebar": "Contents",
   "toc_cell": false,
   "toc_position": {},
   "toc_section_display": true,
   "toc_window_display": false
  }
 },
 "nbformat": 4,
 "nbformat_minor": 5
}
