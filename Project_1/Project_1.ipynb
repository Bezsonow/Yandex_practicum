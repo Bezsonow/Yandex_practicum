{
 "cells": [
  {
   "cell_type": "markdown",
   "metadata": {},
   "source": [
    "Привет, Кирилл!\n",
    "\n",
    "Меня зовут Вячеслав Погорелый, и я буду проводить ревью твоего проекта. \n",
    "\n",
    "Предлагаю перейти на \"ты\", если не против)\n",
    "\n",
    "Но если это не удобно - дай знать, и мы перейдем на \"вы\". Моя главная задача — не находить сделанные тобою ошибки, а передать свой опыт и помочь тебе стать аналитиком данных.\n",
    "\n",
    "Я отметил комментарии и замечания разным цветом далее по тексту markdown:\n",
    "\n",
    "---    \n",
    "<div class=\"alert alert-block alert-danger\">\n",
    "    \n",
    "### Ошибка\n",
    "    \n",
    "Критическое замечание, которые следует исправить.\n",
    "</div> \n",
    "    \n",
    "---\n",
    "    \n",
    "<div class=\"alert alert-block alert-warning\">\n",
    "    \n",
    "### Совет\n",
    "    \n",
    "Замечание\\совет на будущее.\n",
    "</div>\n",
    "    \n",
    "---\n",
    "    \n",
    "<div class=\"alert alert-block alert-success\">\n",
    "    \n",
    "### Успех\n",
    "    \n",
    "Когда всё сделано правильно.\n",
    "</div>\n",
    "    \n",
    "    \n",
    "    \n",
    "Будет здорово, если для ответов ты выберешь любой **<font color=\"maroon\">читабельный и заметный цвет</font>**, так мне будет проще все проверить.\n",
    "\n",
    "\n",
    "При доработке проекта попрошу тебя сохранить и не видоизменять заметки ревьюера, это осложняет повторную проверку."
   ]
  },
  {
   "cell_type": "markdown",
   "metadata": {},
   "source": [
    "<div class=\"alert alert-block alert-success\">\n",
    " \n",
    "# Итоговый Комментарий ревьюера ver.2\n",
    "    \n",
    "#### Успех\n",
    "    \n",
    "Спасибо тебе за доработку проекта. Вот теперь я его готов принять. От себя хочу пожелать успехов в дальнейшей учебе. Ты точно справишься дальше, я уверен в этом. "
   ]
  },
  {
   "cell_type": "markdown",
   "metadata": {},
   "source": [
    "<div style=\"border:solid Purple 2px; padding: 40px\" > \n",
    "    <u><b> Описание проекта:</b></u>\n",
    "\n",
    "Вы работаете в интернет-магазине «Стримчик», который продаёт по всему миру компьютерные игры.\n",
    "Из открытых источников доступны исторические данные о продажах игр, оценки пользователей и экспертов,\n",
    "жанры и платформы (например, Xbox или PlayStation). Вам нужно выявить определяющие успешность игры закономерности.\n",
    "Это позволит сделать ставку на потенциально популярный продукт и спланировать рекламные кампании.\n",
    "Перед вами данные до 2016 года. Представим, что сейчас декабрь 2016 г., и вы планируете кампанию на 2017-й.\n",
    "Нужно отработать принцип работы с данными. Неважно, прогнозируете ли вы продажи на 2017 год по данным 2016-го или\n",
    "же 2027-й — по данным 2026 года.\n",
    "В наборе данных попадается аббревиатура ESRB (Entertainment Software Rating Board) — это ассоциация,\n",
    "определяющая возрастной рейтинг компьютерных игр.\n",
    "ESRB оценивает игровой контент и присваивает ему подходящую возрастную категорию, например, «Для взрослых»,\n",
    "«Для детей младшего возраста» или «Для подростков».\n",
    "\n",
    "<u><b> Описание данных:</b></u>\n",
    "<li>Name — название игры</li>\n",
    "<li>Platform — платформа</li>\n",
    "<li>Year_of_Release — год выпуска</li>\n",
    "<li>Genre — жанр игры</li>\n",
    "<li>NA_sales — продажи в Северной Америке (миллионы проданных копий)</li>\n",
    "<li>EU_sales — продажи в Европе (миллионы проданных копий)</li>\n",
    "<li>JP_sales — продажи в Японии (миллионы проданных копий)</li>\n",
    "<li>Other_sales — продажи в других странах (миллионы проданных копий)</li>\n",
    "<li>Critic_Score — оценка критиков (максимум 100)</li>\n",
    "<li>User_Score — оценка пользователей (максимум 10)</li>\n",
    "<li>Rating — рейтинг от организации ESRB (англ. Entertainment Software Rating Board). Эта ассоциация определяет рейтинг компьютерных игр и присваивает им подходящую возрастную категорию.</li>\n",
    "\n",
    "Данные за 2016 год могут быть неполными.\n",
    "    \n",
    "<u><b> Краткий план работы:</b></u>\n",
    "\n",
    "<ol> 1)Загрузка данных </ol>\n",
    "<ol> 2)Предобработка данных </ol>\n",
    "<ol> 3)Исследовательский анализ данных </ol>    \n",
    "<ol> 4)Составление портрета пользователя каждого региона</ol>\n",
    "<ol> 6)Проверка гипотез </ol>\n",
    "<ol> 7)Формирование общего вывода </ol>\n",
    "\n",
    "</div>"
   ]
  },
  {
   "cell_type": "markdown",
   "metadata": {},
   "source": [
    "<div class=\"alert alert-block alert-success\">\n",
    " \n",
    "### Комментарий ревьюера\n",
    "    \n",
    "#### Успех\n",
    "    \n",
    "Спасибо тебе за оформление оглавления к проекту.  "
   ]
  },
  {
   "cell_type": "code",
   "execution_count": 1,
   "metadata": {},
   "outputs": [],
   "source": [
    "#загружаем библиотеки\n",
    "import pandas as pd\n",
    "import matplotlib.pyplot as plt\n",
    "import scipy.stats as st\n",
    "import numpy as np\n",
    "import seaborn as sns"
   ]
  },
  {
   "cell_type": "markdown",
   "metadata": {},
   "source": [
    "Шаг 1 Загрузка данных.Откройте файл с данными и изучите общую информацию\n",
    "Путь к файлу: /datasets/games.csv"
   ]
  },
  {
   "cell_type": "code",
   "execution_count": 2,
   "metadata": {},
   "outputs": [],
   "source": [
    "#загружаем df\n",
    "df = pd.read_csv('/datasets/games.csv')"
   ]
  },
  {
   "cell_type": "code",
   "execution_count": 3,
   "metadata": {},
   "outputs": [
    {
     "data": {
      "text/html": [
       "<div>\n",
       "<style scoped>\n",
       "    .dataframe tbody tr th:only-of-type {\n",
       "        vertical-align: middle;\n",
       "    }\n",
       "\n",
       "    .dataframe tbody tr th {\n",
       "        vertical-align: top;\n",
       "    }\n",
       "\n",
       "    .dataframe thead th {\n",
       "        text-align: right;\n",
       "    }\n",
       "</style>\n",
       "<table border=\"1\" class=\"dataframe\">\n",
       "  <thead>\n",
       "    <tr style=\"text-align: right;\">\n",
       "      <th></th>\n",
       "      <th>Name</th>\n",
       "      <th>Platform</th>\n",
       "      <th>Year_of_Release</th>\n",
       "      <th>Genre</th>\n",
       "      <th>NA_sales</th>\n",
       "      <th>EU_sales</th>\n",
       "      <th>JP_sales</th>\n",
       "      <th>Other_sales</th>\n",
       "      <th>Critic_Score</th>\n",
       "      <th>User_Score</th>\n",
       "      <th>Rating</th>\n",
       "    </tr>\n",
       "  </thead>\n",
       "  <tbody>\n",
       "    <tr>\n",
       "      <th>0</th>\n",
       "      <td>Wii Sports</td>\n",
       "      <td>Wii</td>\n",
       "      <td>2006.0</td>\n",
       "      <td>Sports</td>\n",
       "      <td>41.36</td>\n",
       "      <td>28.96</td>\n",
       "      <td>3.77</td>\n",
       "      <td>8.45</td>\n",
       "      <td>76.0</td>\n",
       "      <td>8</td>\n",
       "      <td>E</td>\n",
       "    </tr>\n",
       "    <tr>\n",
       "      <th>1</th>\n",
       "      <td>Super Mario Bros.</td>\n",
       "      <td>NES</td>\n",
       "      <td>1985.0</td>\n",
       "      <td>Platform</td>\n",
       "      <td>29.08</td>\n",
       "      <td>3.58</td>\n",
       "      <td>6.81</td>\n",
       "      <td>0.77</td>\n",
       "      <td>NaN</td>\n",
       "      <td>NaN</td>\n",
       "      <td>NaN</td>\n",
       "    </tr>\n",
       "    <tr>\n",
       "      <th>2</th>\n",
       "      <td>Mario Kart Wii</td>\n",
       "      <td>Wii</td>\n",
       "      <td>2008.0</td>\n",
       "      <td>Racing</td>\n",
       "      <td>15.68</td>\n",
       "      <td>12.76</td>\n",
       "      <td>3.79</td>\n",
       "      <td>3.29</td>\n",
       "      <td>82.0</td>\n",
       "      <td>8.3</td>\n",
       "      <td>E</td>\n",
       "    </tr>\n",
       "    <tr>\n",
       "      <th>3</th>\n",
       "      <td>Wii Sports Resort</td>\n",
       "      <td>Wii</td>\n",
       "      <td>2009.0</td>\n",
       "      <td>Sports</td>\n",
       "      <td>15.61</td>\n",
       "      <td>10.93</td>\n",
       "      <td>3.28</td>\n",
       "      <td>2.95</td>\n",
       "      <td>80.0</td>\n",
       "      <td>8</td>\n",
       "      <td>E</td>\n",
       "    </tr>\n",
       "    <tr>\n",
       "      <th>4</th>\n",
       "      <td>Pokemon Red/Pokemon Blue</td>\n",
       "      <td>GB</td>\n",
       "      <td>1996.0</td>\n",
       "      <td>Role-Playing</td>\n",
       "      <td>11.27</td>\n",
       "      <td>8.89</td>\n",
       "      <td>10.22</td>\n",
       "      <td>1.00</td>\n",
       "      <td>NaN</td>\n",
       "      <td>NaN</td>\n",
       "      <td>NaN</td>\n",
       "    </tr>\n",
       "  </tbody>\n",
       "</table>\n",
       "</div>"
      ],
      "text/plain": [
       "                       Name Platform  Year_of_Release         Genre  NA_sales  \\\n",
       "0                Wii Sports      Wii           2006.0        Sports     41.36   \n",
       "1         Super Mario Bros.      NES           1985.0      Platform     29.08   \n",
       "2            Mario Kart Wii      Wii           2008.0        Racing     15.68   \n",
       "3         Wii Sports Resort      Wii           2009.0        Sports     15.61   \n",
       "4  Pokemon Red/Pokemon Blue       GB           1996.0  Role-Playing     11.27   \n",
       "\n",
       "   EU_sales  JP_sales  Other_sales  Critic_Score User_Score Rating  \n",
       "0     28.96      3.77         8.45          76.0          8      E  \n",
       "1      3.58      6.81         0.77           NaN        NaN    NaN  \n",
       "2     12.76      3.79         3.29          82.0        8.3      E  \n",
       "3     10.93      3.28         2.95          80.0          8      E  \n",
       "4      8.89     10.22         1.00           NaN        NaN    NaN  "
      ]
     },
     "execution_count": 3,
     "metadata": {},
     "output_type": "execute_result"
    }
   ],
   "source": [
    "#выведем первые строки df\n",
    "df.head()"
   ]
  },
  {
   "cell_type": "code",
   "execution_count": 4,
   "metadata": {},
   "outputs": [
    {
     "name": "stdout",
     "output_type": "stream",
     "text": [
      "<class 'pandas.core.frame.DataFrame'>\n",
      "RangeIndex: 16715 entries, 0 to 16714\n",
      "Data columns (total 11 columns):\n",
      " #   Column           Non-Null Count  Dtype  \n",
      "---  ------           --------------  -----  \n",
      " 0   Name             16713 non-null  object \n",
      " 1   Platform         16715 non-null  object \n",
      " 2   Year_of_Release  16446 non-null  float64\n",
      " 3   Genre            16713 non-null  object \n",
      " 4   NA_sales         16715 non-null  float64\n",
      " 5   EU_sales         16715 non-null  float64\n",
      " 6   JP_sales         16715 non-null  float64\n",
      " 7   Other_sales      16715 non-null  float64\n",
      " 8   Critic_Score     8137 non-null   float64\n",
      " 9   User_Score       10014 non-null  object \n",
      " 10  Rating           9949 non-null   object \n",
      "dtypes: float64(6), object(5)\n",
      "memory usage: 1.4+ MB\n"
     ]
    }
   ],
   "source": [
    "#получаем информацию о df\n",
    "df.info()"
   ]
  },
  {
   "cell_type": "markdown",
   "metadata": {},
   "source": [
    "<div style=\"background-color:aliceblue;padding:25px;\"> Промежуточный вывод:\n",
    "<li>CSV-файл считан и сохранен в датафрейм.</li>\n",
    "<li>Первые строки датафрейма выведены</li>\n",
    "<li>Общая информация о датафреймах изучена</li>\n",
    "</div>"
   ]
  },
  {
   "cell_type": "markdown",
   "metadata": {},
   "source": [
    "<div class=\"alert alert-block alert-success\">\n",
    " \n",
    "### Комментарий ревьюера\n",
    "    \n",
    "#### Успех\n",
    "    \n",
    "Первичная информация о данных получена."
   ]
  },
  {
   "cell_type": "markdown",
   "metadata": {},
   "source": [
    "Шаг 2. Подготовьте данные:\n",
    "<li>Замените названия столбцов (приведите к нижнему регистру);</li>\n",
    "<li>Преобразуйте данные в нужные типы. Опишите, в каких столбцах заменили тип данных и почему;</li>\n",
    "<li>Обработайте пропуски при необходимости:</li>\n",
    "<li>Объясните, почему заполнили пропуски определённым образом или почему не стали это делать;</li>\n",
    "<li>Опишите причины, которые могли привести к пропускам;</li>\n",
    "<li>Обратите внимание на аббревиатуру 'tbd' в столбце с оценкой пользователей. Отдельно разберите это значение и опишите, как его обработать;</li>\n",
    "<li>Посчитайте суммарные продажи во всех регионах и запишите их в отдельный столбец.</li>"
   ]
  },
  {
   "cell_type": "code",
   "execution_count": 5,
   "metadata": {},
   "outputs": [],
   "source": [
    "#Приводим к нижнему регистру названия столбцов\n",
    "df.columns = df.columns.str.lower()"
   ]
  },
  {
   "cell_type": "code",
   "execution_count": 6,
   "metadata": {},
   "outputs": [
    {
     "data": {
      "text/html": [
       "<div>\n",
       "<style scoped>\n",
       "    .dataframe tbody tr th:only-of-type {\n",
       "        vertical-align: middle;\n",
       "    }\n",
       "\n",
       "    .dataframe tbody tr th {\n",
       "        vertical-align: top;\n",
       "    }\n",
       "\n",
       "    .dataframe thead th {\n",
       "        text-align: right;\n",
       "    }\n",
       "</style>\n",
       "<table border=\"1\" class=\"dataframe\">\n",
       "  <thead>\n",
       "    <tr style=\"text-align: right;\">\n",
       "      <th></th>\n",
       "      <th>name</th>\n",
       "      <th>platform</th>\n",
       "      <th>year_of_release</th>\n",
       "      <th>genre</th>\n",
       "      <th>na_sales</th>\n",
       "      <th>eu_sales</th>\n",
       "      <th>jp_sales</th>\n",
       "      <th>other_sales</th>\n",
       "      <th>critic_score</th>\n",
       "      <th>user_score</th>\n",
       "      <th>rating</th>\n",
       "    </tr>\n",
       "  </thead>\n",
       "  <tbody>\n",
       "    <tr>\n",
       "      <th>0</th>\n",
       "      <td>Wii Sports</td>\n",
       "      <td>Wii</td>\n",
       "      <td>2006.0</td>\n",
       "      <td>Sports</td>\n",
       "      <td>41.36</td>\n",
       "      <td>28.96</td>\n",
       "      <td>3.77</td>\n",
       "      <td>8.45</td>\n",
       "      <td>76.0</td>\n",
       "      <td>8</td>\n",
       "      <td>E</td>\n",
       "    </tr>\n",
       "    <tr>\n",
       "      <th>1</th>\n",
       "      <td>Super Mario Bros.</td>\n",
       "      <td>NES</td>\n",
       "      <td>1985.0</td>\n",
       "      <td>Platform</td>\n",
       "      <td>29.08</td>\n",
       "      <td>3.58</td>\n",
       "      <td>6.81</td>\n",
       "      <td>0.77</td>\n",
       "      <td>NaN</td>\n",
       "      <td>NaN</td>\n",
       "      <td>NaN</td>\n",
       "    </tr>\n",
       "    <tr>\n",
       "      <th>2</th>\n",
       "      <td>Mario Kart Wii</td>\n",
       "      <td>Wii</td>\n",
       "      <td>2008.0</td>\n",
       "      <td>Racing</td>\n",
       "      <td>15.68</td>\n",
       "      <td>12.76</td>\n",
       "      <td>3.79</td>\n",
       "      <td>3.29</td>\n",
       "      <td>82.0</td>\n",
       "      <td>8.3</td>\n",
       "      <td>E</td>\n",
       "    </tr>\n",
       "    <tr>\n",
       "      <th>3</th>\n",
       "      <td>Wii Sports Resort</td>\n",
       "      <td>Wii</td>\n",
       "      <td>2009.0</td>\n",
       "      <td>Sports</td>\n",
       "      <td>15.61</td>\n",
       "      <td>10.93</td>\n",
       "      <td>3.28</td>\n",
       "      <td>2.95</td>\n",
       "      <td>80.0</td>\n",
       "      <td>8</td>\n",
       "      <td>E</td>\n",
       "    </tr>\n",
       "    <tr>\n",
       "      <th>4</th>\n",
       "      <td>Pokemon Red/Pokemon Blue</td>\n",
       "      <td>GB</td>\n",
       "      <td>1996.0</td>\n",
       "      <td>Role-Playing</td>\n",
       "      <td>11.27</td>\n",
       "      <td>8.89</td>\n",
       "      <td>10.22</td>\n",
       "      <td>1.00</td>\n",
       "      <td>NaN</td>\n",
       "      <td>NaN</td>\n",
       "      <td>NaN</td>\n",
       "    </tr>\n",
       "  </tbody>\n",
       "</table>\n",
       "</div>"
      ],
      "text/plain": [
       "                       name platform  year_of_release         genre  na_sales  \\\n",
       "0                Wii Sports      Wii           2006.0        Sports     41.36   \n",
       "1         Super Mario Bros.      NES           1985.0      Platform     29.08   \n",
       "2            Mario Kart Wii      Wii           2008.0        Racing     15.68   \n",
       "3         Wii Sports Resort      Wii           2009.0        Sports     15.61   \n",
       "4  Pokemon Red/Pokemon Blue       GB           1996.0  Role-Playing     11.27   \n",
       "\n",
       "   eu_sales  jp_sales  other_sales  critic_score user_score rating  \n",
       "0     28.96      3.77         8.45          76.0          8      E  \n",
       "1      3.58      6.81         0.77           NaN        NaN    NaN  \n",
       "2     12.76      3.79         3.29          82.0        8.3      E  \n",
       "3     10.93      3.28         2.95          80.0          8      E  \n",
       "4      8.89     10.22         1.00           NaN        NaN    NaN  "
      ]
     },
     "execution_count": 6,
     "metadata": {},
     "output_type": "execute_result"
    }
   ],
   "source": [
    "#Выводим первые 5 строк для проверки\n",
    "df.head()"
   ]
  },
  {
   "cell_type": "code",
   "execution_count": 7,
   "metadata": {},
   "outputs": [
    {
     "data": {
      "text/plain": [
       "269"
      ]
     },
     "execution_count": 7,
     "metadata": {},
     "output_type": "execute_result"
    }
   ],
   "source": [
    "#Определяем количество пропущенных значений в столбце year_of_release\n",
    "df['year_of_release'].isna().sum()"
   ]
  },
  {
   "cell_type": "markdown",
   "metadata": {},
   "source": [
    "Выборка с пропущенными значениями невелика - удалю строки с пропущенными значениями в столбце year_of_release"
   ]
  },
  {
   "cell_type": "code",
   "execution_count": 8,
   "metadata": {},
   "outputs": [],
   "source": [
    "#Удаляем строки с пропущенными значениями в столбце year_of_release\n",
    "df = df.dropna(subset=['year_of_release'])"
   ]
  },
  {
   "cell_type": "markdown",
   "metadata": {},
   "source": [
    "<div class=\"alert alert-block alert-success\">\n",
    " \n",
    "### Комментарий ревьюера\n",
    "    \n",
    "#### Успех\n",
    "    \n",
    "Пропусков мало и логично от них избавиться. "
   ]
  },
  {
   "cell_type": "code",
   "execution_count": 9,
   "metadata": {},
   "outputs": [],
   "source": [
    "#изменим тип данных столбца year_of_release на int\n",
    "df['year_of_release'] = df['year_of_release'].astype(int)"
   ]
  },
  {
   "cell_type": "code",
   "execution_count": 10,
   "metadata": {},
   "outputs": [
    {
     "data": {
      "text/plain": [
       "2"
      ]
     },
     "execution_count": 10,
     "metadata": {},
     "output_type": "execute_result"
    }
   ],
   "source": [
    "#Определяем количество пропущенных значений в столбце genre\n",
    "df['genre'].isna().sum()"
   ]
  },
  {
   "cell_type": "markdown",
   "metadata": {},
   "source": [
    "Выборка с пропущенными значениями невелика - удалю строки с пропущенными значениями в столбце genre"
   ]
  },
  {
   "cell_type": "code",
   "execution_count": 11,
   "metadata": {},
   "outputs": [],
   "source": [
    "#Удаляем строки с пропущенными значениями в столбце genre\n",
    "df = df.dropna(subset=['genre'])"
   ]
  },
  {
   "cell_type": "markdown",
   "metadata": {},
   "source": [
    "<div class=\"alert alert-block alert-success\">\n",
    " \n",
    "### Комментарий ревьюера\n",
    "    \n",
    "#### Успех\n",
    "    \n",
    "Тут тоже мало пропусков. Можем их просто удалить"
   ]
  },
  {
   "cell_type": "code",
   "execution_count": 12,
   "metadata": {},
   "outputs": [
    {
     "data": {
      "text/plain": [
       "8461"
      ]
     },
     "execution_count": 12,
     "metadata": {},
     "output_type": "execute_result"
    }
   ],
   "source": [
    "#Определяем количество пропущенных значений в столбце critic_score\n",
    "df['critic_score'].isna().sum()"
   ]
  },
  {
   "cell_type": "code",
   "execution_count": 13,
   "metadata": {},
   "outputs": [
    {
     "data": {
      "text/plain": [
       "array([76., nan, 82., 80., 89., 58., 87., 91., 61., 97., 95., 77., 88.,\n",
       "       83., 94., 93., 85., 86., 98., 96., 90., 84., 73., 74., 78., 92.,\n",
       "       71., 72., 68., 62., 49., 67., 81., 66., 56., 79., 70., 59., 64.,\n",
       "       75., 60., 63., 69., 50., 25., 42., 44., 55., 48., 57., 29., 47.,\n",
       "       65., 54., 20., 53., 37., 38., 33., 52., 30., 32., 43., 45., 51.,\n",
       "       40., 46., 39., 34., 41., 36., 31., 27., 35., 26., 19., 28., 23.,\n",
       "       24., 21., 17., 13.])"
      ]
     },
     "execution_count": 13,
     "metadata": {},
     "output_type": "execute_result"
    }
   ],
   "source": [
    "#Определим уникальные значения critic_score\n",
    "df['critic_score'].unique()"
   ]
  },
  {
   "cell_type": "markdown",
   "metadata": {},
   "source": [
    "Количество пропущенных значений в столбце critic_score велико - предлагается заполнить пропуски значением \"0\" (оценки критиков со значением ноль в данных отсутсвуют для нас это будет \"маркером\" в части идентивикации пропуска"
   ]
  },
  {
   "cell_type": "code",
   "execution_count": 14,
   "metadata": {},
   "outputs": [],
   "source": [
    "#заменяем пропуски на 0\n",
    "df['critic_score'] = df['critic_score'].fillna(0)"
   ]
  },
  {
   "cell_type": "code",
   "execution_count": 15,
   "metadata": {},
   "outputs": [],
   "source": [
    "#изменим тип данных столбца year_of_release на int так как после запятой в оценках критиках значений нет\n",
    "df['critic_score'] = df['critic_score'].astype(int)"
   ]
  },
  {
   "cell_type": "markdown",
   "metadata": {},
   "source": [
    "<div class=\"alert alert-block alert-success\">\n",
    " \n",
    "### Комментарий ревьюера\n",
    "    \n",
    "#### Успех\n",
    "    \n",
    "Оптимально тут пропуски никак не заменить и лучше оставить их как есть"
   ]
  },
  {
   "cell_type": "code",
   "execution_count": 16,
   "metadata": {},
   "outputs": [
    {
     "data": {
      "text/html": [
       "<div>\n",
       "<style scoped>\n",
       "    .dataframe tbody tr th:only-of-type {\n",
       "        vertical-align: middle;\n",
       "    }\n",
       "\n",
       "    .dataframe tbody tr th {\n",
       "        vertical-align: top;\n",
       "    }\n",
       "\n",
       "    .dataframe thead th {\n",
       "        text-align: right;\n",
       "    }\n",
       "</style>\n",
       "<table border=\"1\" class=\"dataframe\">\n",
       "  <thead>\n",
       "    <tr style=\"text-align: right;\">\n",
       "      <th></th>\n",
       "      <th>name</th>\n",
       "      <th>platform</th>\n",
       "      <th>year_of_release</th>\n",
       "      <th>genre</th>\n",
       "      <th>na_sales</th>\n",
       "      <th>eu_sales</th>\n",
       "      <th>jp_sales</th>\n",
       "      <th>other_sales</th>\n",
       "      <th>critic_score</th>\n",
       "      <th>user_score</th>\n",
       "      <th>rating</th>\n",
       "    </tr>\n",
       "  </thead>\n",
       "  <tbody>\n",
       "    <tr>\n",
       "      <th>0</th>\n",
       "      <td>Wii Sports</td>\n",
       "      <td>Wii</td>\n",
       "      <td>2006</td>\n",
       "      <td>Sports</td>\n",
       "      <td>41.36</td>\n",
       "      <td>28.96</td>\n",
       "      <td>3.77</td>\n",
       "      <td>8.45</td>\n",
       "      <td>76</td>\n",
       "      <td>8</td>\n",
       "      <td>E</td>\n",
       "    </tr>\n",
       "    <tr>\n",
       "      <th>1</th>\n",
       "      <td>Super Mario Bros.</td>\n",
       "      <td>NES</td>\n",
       "      <td>1985</td>\n",
       "      <td>Platform</td>\n",
       "      <td>29.08</td>\n",
       "      <td>3.58</td>\n",
       "      <td>6.81</td>\n",
       "      <td>0.77</td>\n",
       "      <td>0</td>\n",
       "      <td>NaN</td>\n",
       "      <td>NaN</td>\n",
       "    </tr>\n",
       "    <tr>\n",
       "      <th>2</th>\n",
       "      <td>Mario Kart Wii</td>\n",
       "      <td>Wii</td>\n",
       "      <td>2008</td>\n",
       "      <td>Racing</td>\n",
       "      <td>15.68</td>\n",
       "      <td>12.76</td>\n",
       "      <td>3.79</td>\n",
       "      <td>3.29</td>\n",
       "      <td>82</td>\n",
       "      <td>8.3</td>\n",
       "      <td>E</td>\n",
       "    </tr>\n",
       "    <tr>\n",
       "      <th>3</th>\n",
       "      <td>Wii Sports Resort</td>\n",
       "      <td>Wii</td>\n",
       "      <td>2009</td>\n",
       "      <td>Sports</td>\n",
       "      <td>15.61</td>\n",
       "      <td>10.93</td>\n",
       "      <td>3.28</td>\n",
       "      <td>2.95</td>\n",
       "      <td>80</td>\n",
       "      <td>8</td>\n",
       "      <td>E</td>\n",
       "    </tr>\n",
       "    <tr>\n",
       "      <th>4</th>\n",
       "      <td>Pokemon Red/Pokemon Blue</td>\n",
       "      <td>GB</td>\n",
       "      <td>1996</td>\n",
       "      <td>Role-Playing</td>\n",
       "      <td>11.27</td>\n",
       "      <td>8.89</td>\n",
       "      <td>10.22</td>\n",
       "      <td>1.00</td>\n",
       "      <td>0</td>\n",
       "      <td>NaN</td>\n",
       "      <td>NaN</td>\n",
       "    </tr>\n",
       "  </tbody>\n",
       "</table>\n",
       "</div>"
      ],
      "text/plain": [
       "                       name platform  year_of_release         genre  na_sales  \\\n",
       "0                Wii Sports      Wii             2006        Sports     41.36   \n",
       "1         Super Mario Bros.      NES             1985      Platform     29.08   \n",
       "2            Mario Kart Wii      Wii             2008        Racing     15.68   \n",
       "3         Wii Sports Resort      Wii             2009        Sports     15.61   \n",
       "4  Pokemon Red/Pokemon Blue       GB             1996  Role-Playing     11.27   \n",
       "\n",
       "   eu_sales  jp_sales  other_sales  critic_score user_score rating  \n",
       "0     28.96      3.77         8.45            76          8      E  \n",
       "1      3.58      6.81         0.77             0        NaN    NaN  \n",
       "2     12.76      3.79         3.29            82        8.3      E  \n",
       "3     10.93      3.28         2.95            80          8      E  \n",
       "4      8.89     10.22         1.00             0        NaN    NaN  "
      ]
     },
     "execution_count": 16,
     "metadata": {},
     "output_type": "execute_result"
    }
   ],
   "source": [
    "df.head()"
   ]
  },
  {
   "cell_type": "code",
   "execution_count": 17,
   "metadata": {},
   "outputs": [
    {
     "data": {
      "text/plain": [
       "6605"
      ]
     },
     "execution_count": 17,
     "metadata": {},
     "output_type": "execute_result"
    }
   ],
   "source": [
    "#Определяем количество пропущенных значений в столбце user_score\n",
    "df['user_score'].isna().sum()"
   ]
  },
  {
   "cell_type": "code",
   "execution_count": 18,
   "metadata": {},
   "outputs": [
    {
     "data": {
      "text/plain": [
       "array(['8', nan, '8.3', '8.5', '6.6', '8.4', '8.6', '7.7', '6.3', '7.4',\n",
       "       '8.2', '9', '7.9', '8.1', '8.7', '7.1', '3.4', '5.3', '4.8', '3.2',\n",
       "       '8.9', '6.4', '7.8', '7.5', '2.6', '7.2', '9.2', '7', '7.3', '4.3',\n",
       "       '7.6', '5.7', '5', '9.1', '6.5', 'tbd', '8.8', '6.9', '9.4', '6.8',\n",
       "       '6.1', '6.7', '5.4', '4', '4.9', '4.5', '9.3', '6.2', '4.2', '6',\n",
       "       '3.7', '4.1', '5.8', '5.6', '5.5', '4.4', '4.6', '5.9', '3.9',\n",
       "       '3.1', '2.9', '5.2', '3.3', '4.7', '5.1', '3.5', '2.5', '1.9', '3',\n",
       "       '2.7', '2.2', '2', '9.5', '2.1', '3.6', '2.8', '1.8', '3.8', '0',\n",
       "       '1.6', '9.6', '2.4', '1.7', '1.1', '0.3', '1.5', '0.7', '1.2',\n",
       "       '2.3', '0.5', '1.3', '0.2', '0.6', '1.4', '0.9', '1', '9.7'],\n",
       "      dtype=object)"
      ]
     },
     "execution_count": 18,
     "metadata": {},
     "output_type": "execute_result"
    }
   ],
   "source": [
    "#Определим уникальные значения user_score\n",
    "df['user_score'].unique()"
   ]
  },
  {
   "cell_type": "markdown",
   "metadata": {},
   "source": [
    "Количество пропущенных значений велико, также присутсвуют значение \"tbd\"(to be determined) -  пока не определён.\n",
    "Заменю tbd и nan значением \"-1\" будет \"маркером\" идентифицирующим пропусков"
   ]
  },
  {
   "cell_type": "code",
   "execution_count": 19,
   "metadata": {},
   "outputs": [],
   "source": [
    "#Заполняем значения tbd и nan значением \"-1\"\n",
    "df.loc[(df['user_score'] =='tbd') | (df['user_score'].isna()), 'user_score' ] = -1"
   ]
  },
  {
   "cell_type": "code",
   "execution_count": 20,
   "metadata": {},
   "outputs": [],
   "source": [
    "#Изменим тип данных user_score на float64\n",
    "df['user_score'] = df['user_score'].astype(float)"
   ]
  },
  {
   "cell_type": "code",
   "execution_count": 21,
   "metadata": {},
   "outputs": [
    {
     "data": {
      "text/html": [
       "<div>\n",
       "<style scoped>\n",
       "    .dataframe tbody tr th:only-of-type {\n",
       "        vertical-align: middle;\n",
       "    }\n",
       "\n",
       "    .dataframe tbody tr th {\n",
       "        vertical-align: top;\n",
       "    }\n",
       "\n",
       "    .dataframe thead th {\n",
       "        text-align: right;\n",
       "    }\n",
       "</style>\n",
       "<table border=\"1\" class=\"dataframe\">\n",
       "  <thead>\n",
       "    <tr style=\"text-align: right;\">\n",
       "      <th></th>\n",
       "      <th>name</th>\n",
       "      <th>platform</th>\n",
       "      <th>year_of_release</th>\n",
       "      <th>genre</th>\n",
       "      <th>na_sales</th>\n",
       "      <th>eu_sales</th>\n",
       "      <th>jp_sales</th>\n",
       "      <th>other_sales</th>\n",
       "      <th>critic_score</th>\n",
       "      <th>user_score</th>\n",
       "      <th>rating</th>\n",
       "    </tr>\n",
       "  </thead>\n",
       "  <tbody>\n",
       "    <tr>\n",
       "      <th>0</th>\n",
       "      <td>Wii Sports</td>\n",
       "      <td>Wii</td>\n",
       "      <td>2006</td>\n",
       "      <td>Sports</td>\n",
       "      <td>41.36</td>\n",
       "      <td>28.96</td>\n",
       "      <td>3.77</td>\n",
       "      <td>8.45</td>\n",
       "      <td>76</td>\n",
       "      <td>8.0</td>\n",
       "      <td>E</td>\n",
       "    </tr>\n",
       "    <tr>\n",
       "      <th>1</th>\n",
       "      <td>Super Mario Bros.</td>\n",
       "      <td>NES</td>\n",
       "      <td>1985</td>\n",
       "      <td>Platform</td>\n",
       "      <td>29.08</td>\n",
       "      <td>3.58</td>\n",
       "      <td>6.81</td>\n",
       "      <td>0.77</td>\n",
       "      <td>0</td>\n",
       "      <td>-1.0</td>\n",
       "      <td>NaN</td>\n",
       "    </tr>\n",
       "    <tr>\n",
       "      <th>2</th>\n",
       "      <td>Mario Kart Wii</td>\n",
       "      <td>Wii</td>\n",
       "      <td>2008</td>\n",
       "      <td>Racing</td>\n",
       "      <td>15.68</td>\n",
       "      <td>12.76</td>\n",
       "      <td>3.79</td>\n",
       "      <td>3.29</td>\n",
       "      <td>82</td>\n",
       "      <td>8.3</td>\n",
       "      <td>E</td>\n",
       "    </tr>\n",
       "    <tr>\n",
       "      <th>3</th>\n",
       "      <td>Wii Sports Resort</td>\n",
       "      <td>Wii</td>\n",
       "      <td>2009</td>\n",
       "      <td>Sports</td>\n",
       "      <td>15.61</td>\n",
       "      <td>10.93</td>\n",
       "      <td>3.28</td>\n",
       "      <td>2.95</td>\n",
       "      <td>80</td>\n",
       "      <td>8.0</td>\n",
       "      <td>E</td>\n",
       "    </tr>\n",
       "    <tr>\n",
       "      <th>4</th>\n",
       "      <td>Pokemon Red/Pokemon Blue</td>\n",
       "      <td>GB</td>\n",
       "      <td>1996</td>\n",
       "      <td>Role-Playing</td>\n",
       "      <td>11.27</td>\n",
       "      <td>8.89</td>\n",
       "      <td>10.22</td>\n",
       "      <td>1.00</td>\n",
       "      <td>0</td>\n",
       "      <td>-1.0</td>\n",
       "      <td>NaN</td>\n",
       "    </tr>\n",
       "  </tbody>\n",
       "</table>\n",
       "</div>"
      ],
      "text/plain": [
       "                       name platform  year_of_release         genre  na_sales  \\\n",
       "0                Wii Sports      Wii             2006        Sports     41.36   \n",
       "1         Super Mario Bros.      NES             1985      Platform     29.08   \n",
       "2            Mario Kart Wii      Wii             2008        Racing     15.68   \n",
       "3         Wii Sports Resort      Wii             2009        Sports     15.61   \n",
       "4  Pokemon Red/Pokemon Blue       GB             1996  Role-Playing     11.27   \n",
       "\n",
       "   eu_sales  jp_sales  other_sales  critic_score  user_score rating  \n",
       "0     28.96      3.77         8.45            76         8.0      E  \n",
       "1      3.58      6.81         0.77             0        -1.0    NaN  \n",
       "2     12.76      3.79         3.29            82         8.3      E  \n",
       "3     10.93      3.28         2.95            80         8.0      E  \n",
       "4      8.89     10.22         1.00             0        -1.0    NaN  "
      ]
     },
     "execution_count": 21,
     "metadata": {},
     "output_type": "execute_result"
    }
   ],
   "source": [
    "df.head()"
   ]
  },
  {
   "cell_type": "code",
   "execution_count": 22,
   "metadata": {},
   "outputs": [
    {
     "data": {
      "text/plain": [
       "6676"
      ]
     },
     "execution_count": 22,
     "metadata": {},
     "output_type": "execute_result"
    }
   ],
   "source": [
    "#Определяем количество пропущенных значений в столбце rating\n",
    "df['rating'].isna().sum()"
   ]
  },
  {
   "cell_type": "code",
   "execution_count": 23,
   "metadata": {},
   "outputs": [
    {
     "data": {
      "text/plain": [
       "array(['E', nan, 'M', 'T', 'E10+', 'K-A', 'AO', 'EC', 'RP'], dtype=object)"
      ]
     },
     "execution_count": 23,
     "metadata": {},
     "output_type": "execute_result"
    }
   ],
   "source": [
    "#Определим уникальные значения rating\n",
    "df['rating'].unique()"
   ]
  },
  {
   "cell_type": "markdown",
   "metadata": {},
   "source": [
    "Справочная информация. Расшифровка рейтингов ESRB (https://ru.wikipedia.org/wiki/Entertainment_Software_Rating_Board)\n",
    "\n",
    "<li> «EC» («Early childhood») — «Для детей младшего возраста»: Игра подходит для детей от 3 лет и не содержит материалов, которые родители могли бы счесть неподходящими. Продукты, получившие данный рейтинг, изначально разрабатываются для детей и обычно представляют собой развивающие игры.</li>\n",
    "<li> «E» («Everyone») — «Для всех»: Содержание вполне подходит для всех возрастов (ранее с 6 лет). Такие игры могут понравиться и взрослым. Игры с этим рейтингом могут содержать минимальное насилие, в основном «мультяшного» характера. Первоначально \"K-A\" (\"Kids to Adults\"): </li>\n",
    "<li> «E10+» («Everyone 10 and older») — «Для всех от 10 лет и старше»: Проекты с данным рейтингом могут содержать больше мультипликационного или мягкого насилия, или несколько откровенные сцены, или минимальное количество крови. Рейтинг был принят ESRB 2 марта 2005 года.</li>\n",
    "<li> «T» («Teen») — «Подросткам»: Игра подходит для лиц от 13 лет. Проекты из данной категории могут содержать насилие, непристойные сцены, грубый юмор, в меру откровенное сексуальное содержимое, кровь или нечастое использование ненормативной лексики.</li>\n",
    "<li> «M» («Mature») — «Для взрослых»: Материалы игры не подходят для лиц младше 17 лет. Проекты с данным рейтингом могут содержать жестокое насилие, большое количество крови с расчленением, непристойные сексуальные сцены или грубую ненормативную лексику.</li>\n",
    "<li> «AO» («Adults Only 18+») — «Только для взрослых»: Содержание игры только для взрослых старше 18 лет. Продукты из данной категории могут содержать длительные сцены жестокого насилия и/или очень откровенное сексуальное содержимое.</li>\n",
    "<li> «RP» («Rating Pending») — «Рейтинг ожидается»: Продукт был отправлен в ESRB и ожидает присвоения рейтинга. Данный логотип используется только на рекламных презентациях и в демо-версиях игр до официальной даты выпуска в продажу:</li>"
   ]
  },
  {
   "cell_type": "markdown",
   "metadata": {},
   "source": [
    "Ознакомившись с уникальными значениями rating буду выполнять предобработку данных следубщим образом:\n",
    "1)заменю устаревшее значение 'K-A' на 'E'\n",
    "2)пропуски заполню 'unknown'"
   ]
  },
  {
   "cell_type": "code",
   "execution_count": 24,
   "metadata": {},
   "outputs": [],
   "source": [
    "#Заменим K-A на Е\n",
    "df.loc[df['rating'] =='K-A', 'rating'] = 'E'"
   ]
  },
  {
   "cell_type": "code",
   "execution_count": 25,
   "metadata": {},
   "outputs": [],
   "source": [
    "#Заполним пропуски unknown\n",
    "df['rating'] = df['rating'].fillna('unknown')"
   ]
  },
  {
   "cell_type": "markdown",
   "metadata": {},
   "source": [
    "<div class=\"alert alert-block alert-success\">\n",
    " \n",
    "### Комментарий ревьюера\n",
    "    \n",
    "#### Успех\n",
    "    \n",
    "Значение-заглушка это хорошее решение "
   ]
  },
  {
   "cell_type": "code",
   "execution_count": 64,
   "metadata": {},
   "outputs": [],
   "source": [
    "#cчитаем суммарные продажи по всем регионам\n",
    "#df['total_sales'] = df['na_sales']+df['eu_sales']+df['jp_sales']+df['other_sales']\n",
    "df['total_sales'] = df[['na_sales','eu_sales','jp_sales','other_sales']].sum(axis=1)"
   ]
  },
  {
   "cell_type": "markdown",
   "metadata": {},
   "source": [
    "<div class=\"alert alert-block alert-warning\">\n",
    " \n",
    "### Комментарий ревьюера\n",
    "    \n",
    "#### Совет\n",
    "    \n",
    "Можно еще суммировать таким способом `df['x'] = df[['a', 'b' ,'c']].sum(axis=1)`"
   ]
  },
  {
   "cell_type": "markdown",
   "metadata": {},
   "source": [
    "<div class=\"alert alert-info\">\n",
    "<b>Комментарий студента:</b>\n",
    "<br>Рекомендация учтена, спасибо 🙂\n",
    "</div>"
   ]
  },
  {
   "cell_type": "code",
   "execution_count": 65,
   "metadata": {},
   "outputs": [
    {
     "data": {
      "text/html": [
       "<div>\n",
       "<style scoped>\n",
       "    .dataframe tbody tr th:only-of-type {\n",
       "        vertical-align: middle;\n",
       "    }\n",
       "\n",
       "    .dataframe tbody tr th {\n",
       "        vertical-align: top;\n",
       "    }\n",
       "\n",
       "    .dataframe thead th {\n",
       "        text-align: right;\n",
       "    }\n",
       "</style>\n",
       "<table border=\"1\" class=\"dataframe\">\n",
       "  <thead>\n",
       "    <tr style=\"text-align: right;\">\n",
       "      <th></th>\n",
       "      <th>name</th>\n",
       "      <th>platform</th>\n",
       "      <th>year_of_release</th>\n",
       "      <th>genre</th>\n",
       "      <th>na_sales</th>\n",
       "      <th>eu_sales</th>\n",
       "      <th>jp_sales</th>\n",
       "      <th>other_sales</th>\n",
       "      <th>critic_score</th>\n",
       "      <th>user_score</th>\n",
       "      <th>rating</th>\n",
       "      <th>total_sales</th>\n",
       "    </tr>\n",
       "  </thead>\n",
       "  <tbody>\n",
       "    <tr>\n",
       "      <th>0</th>\n",
       "      <td>Wii Sports</td>\n",
       "      <td>Wii</td>\n",
       "      <td>2006</td>\n",
       "      <td>Sports</td>\n",
       "      <td>41.36</td>\n",
       "      <td>28.96</td>\n",
       "      <td>3.77</td>\n",
       "      <td>8.45</td>\n",
       "      <td>76</td>\n",
       "      <td>8.0</td>\n",
       "      <td>E</td>\n",
       "      <td>82.54</td>\n",
       "    </tr>\n",
       "    <tr>\n",
       "      <th>1</th>\n",
       "      <td>Super Mario Bros.</td>\n",
       "      <td>NES</td>\n",
       "      <td>1985</td>\n",
       "      <td>Platform</td>\n",
       "      <td>29.08</td>\n",
       "      <td>3.58</td>\n",
       "      <td>6.81</td>\n",
       "      <td>0.77</td>\n",
       "      <td>0</td>\n",
       "      <td>-1.0</td>\n",
       "      <td>unknown</td>\n",
       "      <td>40.24</td>\n",
       "    </tr>\n",
       "    <tr>\n",
       "      <th>2</th>\n",
       "      <td>Mario Kart Wii</td>\n",
       "      <td>Wii</td>\n",
       "      <td>2008</td>\n",
       "      <td>Racing</td>\n",
       "      <td>15.68</td>\n",
       "      <td>12.76</td>\n",
       "      <td>3.79</td>\n",
       "      <td>3.29</td>\n",
       "      <td>82</td>\n",
       "      <td>8.3</td>\n",
       "      <td>E</td>\n",
       "      <td>35.52</td>\n",
       "    </tr>\n",
       "    <tr>\n",
       "      <th>3</th>\n",
       "      <td>Wii Sports Resort</td>\n",
       "      <td>Wii</td>\n",
       "      <td>2009</td>\n",
       "      <td>Sports</td>\n",
       "      <td>15.61</td>\n",
       "      <td>10.93</td>\n",
       "      <td>3.28</td>\n",
       "      <td>2.95</td>\n",
       "      <td>80</td>\n",
       "      <td>8.0</td>\n",
       "      <td>E</td>\n",
       "      <td>32.77</td>\n",
       "    </tr>\n",
       "    <tr>\n",
       "      <th>4</th>\n",
       "      <td>Pokemon Red/Pokemon Blue</td>\n",
       "      <td>GB</td>\n",
       "      <td>1996</td>\n",
       "      <td>Role-Playing</td>\n",
       "      <td>11.27</td>\n",
       "      <td>8.89</td>\n",
       "      <td>10.22</td>\n",
       "      <td>1.00</td>\n",
       "      <td>0</td>\n",
       "      <td>-1.0</td>\n",
       "      <td>unknown</td>\n",
       "      <td>31.38</td>\n",
       "    </tr>\n",
       "  </tbody>\n",
       "</table>\n",
       "</div>"
      ],
      "text/plain": [
       "                       name platform  year_of_release         genre  na_sales  \\\n",
       "0                Wii Sports      Wii             2006        Sports     41.36   \n",
       "1         Super Mario Bros.      NES             1985      Platform     29.08   \n",
       "2            Mario Kart Wii      Wii             2008        Racing     15.68   \n",
       "3         Wii Sports Resort      Wii             2009        Sports     15.61   \n",
       "4  Pokemon Red/Pokemon Blue       GB             1996  Role-Playing     11.27   \n",
       "\n",
       "   eu_sales  jp_sales  other_sales  critic_score  user_score   rating  \\\n",
       "0     28.96      3.77         8.45            76         8.0        E   \n",
       "1      3.58      6.81         0.77             0        -1.0  unknown   \n",
       "2     12.76      3.79         3.29            82         8.3        E   \n",
       "3     10.93      3.28         2.95            80         8.0        E   \n",
       "4      8.89     10.22         1.00             0        -1.0  unknown   \n",
       "\n",
       "   total_sales  \n",
       "0        82.54  \n",
       "1        40.24  \n",
       "2        35.52  \n",
       "3        32.77  \n",
       "4        31.38  "
      ]
     },
     "execution_count": 65,
     "metadata": {},
     "output_type": "execute_result"
    }
   ],
   "source": [
    "#Выведем первые строки обработанного датафрейма\n",
    "df.head()"
   ]
  },
  {
   "cell_type": "code",
   "execution_count": 28,
   "metadata": {},
   "outputs": [
    {
     "name": "stdout",
     "output_type": "stream",
     "text": [
      "<class 'pandas.core.frame.DataFrame'>\n",
      "Int64Index: 16444 entries, 0 to 16714\n",
      "Data columns (total 12 columns):\n",
      " #   Column           Non-Null Count  Dtype  \n",
      "---  ------           --------------  -----  \n",
      " 0   name             16444 non-null  object \n",
      " 1   platform         16444 non-null  object \n",
      " 2   year_of_release  16444 non-null  int64  \n",
      " 3   genre            16444 non-null  object \n",
      " 4   na_sales         16444 non-null  float64\n",
      " 5   eu_sales         16444 non-null  float64\n",
      " 6   jp_sales         16444 non-null  float64\n",
      " 7   other_sales      16444 non-null  float64\n",
      " 8   critic_score     16444 non-null  int64  \n",
      " 9   user_score       16444 non-null  float64\n",
      " 10  rating           16444 non-null  object \n",
      " 11  total_sales      16444 non-null  float64\n",
      "dtypes: float64(6), int64(2), object(4)\n",
      "memory usage: 1.6+ MB\n"
     ]
    }
   ],
   "source": [
    "#Выведем  информацию обработанного датафрейма\n",
    "df.info()"
   ]
  },
  {
   "cell_type": "markdown",
   "metadata": {},
   "source": [
    "<div style=\"background-color:aliceblue;padding:25px;\"> Промежуточный вывод:\n",
    "<li>Названия столбцов приведены к нижнему регистру;</li>\n",
    "<li>Данные в нужные типы приобразованы:</li>\n",
    "<li>year_of_Release: было float64/ стало int64 - изменил на int64 так как на тип datetime изменить не получилось (подскажете как  - буду благодарен)</li>\n",
    "<li>сritic_Score: было float64/ стало int64 - изменил на int64 так как после запятой численные значения отсутсвуют</li>\n",
    "<li>user_Score: было object/  стало float64 - изменил на float64  для выполнения дальнейшей работы</li> \n",
    "<li>Пропуски обработаны и заполнены</li>\n",
    "<li>Суммарные продажи во всех регионах посчитаны записаны в отдельный столбец.</li>\n",
    "</div>"
   ]
  },
  {
   "cell_type": "markdown",
   "metadata": {},
   "source": [
    "Шаг 3. Проведите исследовательский анализ данных\n",
    "<li>Посмотрите, сколько игр выпускалось в разные годы. Важны ли данные за все периоды?</li>\n",
    "<li>Посмотрите, как менялись продажи по платформам. Выберите платформы с наибольшими суммарными продажами и постройте распределение по годам. За какой характерный срок появляются новые и исчезают старые платформы?</li>\n",
    "<li>Возьмите данные за соответствующий актуальный период. Актуальный период определите самостоятельно в результате исследования предыдущих вопросов. Основной фактор — эти данные помогут построить прогноз на 2017 год.</li>\n",
    "<li>Не учитывайте в работе данные за предыдущие годы.</li>\n",
    "<li>Какие платформы лидируют по продажам, растут или падают? Выберите несколько потенциально прибыльных платформ.</li>\n",
    "<li>Постройте график «ящик с усами» по глобальным продажам игр в разбивке по платформам. Опишите результат.</li>\n",
    "<li>Посмотрите, как влияют на продажи внутри одной популярной платформы отзывы пользователей и критиков. Постройте диаграмму рассеяния и посчитайте корреляцию между отзывами и продажами. Сформулируйте выводы.</li>\n",
    "<li>Соотнесите выводы с продажами игр на других платформах.</li>\n",
    "<li>Посмотрите на общее распределение игр по жанрам. Что можно сказать о самых прибыльных жанрах? Выделяются ли жанры с высокими и низкими продажами?</li>\n",
    "\n"
   ]
  },
  {
   "cell_type": "markdown",
   "metadata": {},
   "source": [
    "<div class=\"alert alert-block alert-success\">\n",
    " \n",
    "### Комментарий ревьюера\n",
    "    \n",
    "#### Успех\n",
    "    \n",
    "А теперь данные готовы к дальнейшему анализу "
   ]
  },
  {
   "cell_type": "code",
   "execution_count": 29,
   "metadata": {},
   "outputs": [
    {
     "data": {
      "image/png": "[encoded data removed]",
      "text/plain": [
       "<Figure size 1080x360 with 1 Axes>"
      ]
     },
     "metadata": {
      "needs_background": "light"
     },
     "output_type": "display_data"
    }
   ],
   "source": [
    "df.pivot_table(index = 'year_of_release', values ='name', aggfunc = 'count').plot(figsize = (15,5), color ='red')\n",
    "plt.title('Зависимость количества выпущенных игр от года выпуска')\n",
    "plt.xlabel('год')\n",
    "plt.ylabel('кол.')\n",
    "plt.show()"
   ]
  },
  {
   "cell_type": "code",
   "execution_count": 30,
   "metadata": {},
   "outputs": [
    {
     "data": {
      "text/html": [
       "<div>\n",
       "<style scoped>\n",
       "    .dataframe tbody tr th:only-of-type {\n",
       "        vertical-align: middle;\n",
       "    }\n",
       "\n",
       "    .dataframe tbody tr th {\n",
       "        vertical-align: top;\n",
       "    }\n",
       "\n",
       "    .dataframe thead th {\n",
       "        text-align: right;\n",
       "    }\n",
       "</style>\n",
       "<table border=\"1\" class=\"dataframe\">\n",
       "  <thead>\n",
       "    <tr style=\"text-align: right;\">\n",
       "      <th></th>\n",
       "      <th>name</th>\n",
       "    </tr>\n",
       "    <tr>\n",
       "      <th>year_of_release</th>\n",
       "      <th></th>\n",
       "    </tr>\n",
       "  </thead>\n",
       "  <tbody>\n",
       "    <tr>\n",
       "      <th>2008</th>\n",
       "      <td>1427</td>\n",
       "    </tr>\n",
       "    <tr>\n",
       "      <th>2009</th>\n",
       "      <td>1426</td>\n",
       "    </tr>\n",
       "    <tr>\n",
       "      <th>2010</th>\n",
       "      <td>1255</td>\n",
       "    </tr>\n",
       "    <tr>\n",
       "      <th>2007</th>\n",
       "      <td>1197</td>\n",
       "    </tr>\n",
       "    <tr>\n",
       "      <th>2011</th>\n",
       "      <td>1136</td>\n",
       "    </tr>\n",
       "    <tr>\n",
       "      <th>2006</th>\n",
       "      <td>1006</td>\n",
       "    </tr>\n",
       "    <tr>\n",
       "      <th>2005</th>\n",
       "      <td>939</td>\n",
       "    </tr>\n",
       "    <tr>\n",
       "      <th>2002</th>\n",
       "      <td>829</td>\n",
       "    </tr>\n",
       "    <tr>\n",
       "      <th>2003</th>\n",
       "      <td>775</td>\n",
       "    </tr>\n",
       "    <tr>\n",
       "      <th>2004</th>\n",
       "      <td>762</td>\n",
       "    </tr>\n",
       "    <tr>\n",
       "      <th>2012</th>\n",
       "      <td>653</td>\n",
       "    </tr>\n",
       "    <tr>\n",
       "      <th>2015</th>\n",
       "      <td>606</td>\n",
       "    </tr>\n",
       "    <tr>\n",
       "      <th>2014</th>\n",
       "      <td>581</td>\n",
       "    </tr>\n",
       "    <tr>\n",
       "      <th>2013</th>\n",
       "      <td>544</td>\n",
       "    </tr>\n",
       "    <tr>\n",
       "      <th>2016</th>\n",
       "      <td>502</td>\n",
       "    </tr>\n",
       "    <tr>\n",
       "      <th>2001</th>\n",
       "      <td>482</td>\n",
       "    </tr>\n",
       "    <tr>\n",
       "      <th>1998</th>\n",
       "      <td>379</td>\n",
       "    </tr>\n",
       "    <tr>\n",
       "      <th>2000</th>\n",
       "      <td>350</td>\n",
       "    </tr>\n",
       "    <tr>\n",
       "      <th>1999</th>\n",
       "      <td>338</td>\n",
       "    </tr>\n",
       "    <tr>\n",
       "      <th>1997</th>\n",
       "      <td>289</td>\n",
       "    </tr>\n",
       "    <tr>\n",
       "      <th>1996</th>\n",
       "      <td>263</td>\n",
       "    </tr>\n",
       "    <tr>\n",
       "      <th>1995</th>\n",
       "      <td>219</td>\n",
       "    </tr>\n",
       "    <tr>\n",
       "      <th>1994</th>\n",
       "      <td>121</td>\n",
       "    </tr>\n",
       "    <tr>\n",
       "      <th>1993</th>\n",
       "      <td>60</td>\n",
       "    </tr>\n",
       "    <tr>\n",
       "      <th>1981</th>\n",
       "      <td>46</td>\n",
       "    </tr>\n",
       "    <tr>\n",
       "      <th>1992</th>\n",
       "      <td>43</td>\n",
       "    </tr>\n",
       "    <tr>\n",
       "      <th>1991</th>\n",
       "      <td>41</td>\n",
       "    </tr>\n",
       "    <tr>\n",
       "      <th>1982</th>\n",
       "      <td>36</td>\n",
       "    </tr>\n",
       "    <tr>\n",
       "      <th>1986</th>\n",
       "      <td>21</td>\n",
       "    </tr>\n",
       "    <tr>\n",
       "      <th>1989</th>\n",
       "      <td>17</td>\n",
       "    </tr>\n",
       "    <tr>\n",
       "      <th>1983</th>\n",
       "      <td>17</td>\n",
       "    </tr>\n",
       "    <tr>\n",
       "      <th>1990</th>\n",
       "      <td>16</td>\n",
       "    </tr>\n",
       "    <tr>\n",
       "      <th>1987</th>\n",
       "      <td>16</td>\n",
       "    </tr>\n",
       "    <tr>\n",
       "      <th>1988</th>\n",
       "      <td>15</td>\n",
       "    </tr>\n",
       "    <tr>\n",
       "      <th>1985</th>\n",
       "      <td>14</td>\n",
       "    </tr>\n",
       "    <tr>\n",
       "      <th>1984</th>\n",
       "      <td>14</td>\n",
       "    </tr>\n",
       "    <tr>\n",
       "      <th>1980</th>\n",
       "      <td>9</td>\n",
       "    </tr>\n",
       "  </tbody>\n",
       "</table>\n",
       "</div>"
      ],
      "text/plain": [
       "                 name\n",
       "year_of_release      \n",
       "2008             1427\n",
       "2009             1426\n",
       "2010             1255\n",
       "2007             1197\n",
       "2011             1136\n",
       "2006             1006\n",
       "2005              939\n",
       "2002              829\n",
       "2003              775\n",
       "2004              762\n",
       "2012              653\n",
       "2015              606\n",
       "2014              581\n",
       "2013              544\n",
       "2016              502\n",
       "2001              482\n",
       "1998              379\n",
       "2000              350\n",
       "1999              338\n",
       "1997              289\n",
       "1996              263\n",
       "1995              219\n",
       "1994              121\n",
       "1993               60\n",
       "1981               46\n",
       "1992               43\n",
       "1991               41\n",
       "1982               36\n",
       "1986               21\n",
       "1989               17\n",
       "1983               17\n",
       "1990               16\n",
       "1987               16\n",
       "1988               15\n",
       "1985               14\n",
       "1984               14\n",
       "1980                9"
      ]
     },
     "execution_count": 30,
     "metadata": {},
     "output_type": "execute_result"
    }
   ],
   "source": [
    "df.pivot_table(index = 'year_of_release', values ='name', aggfunc = 'count')\\\n",
    ".sort_values(by='name', ascending=False)"
   ]
  },
  {
   "cell_type": "markdown",
   "metadata": {},
   "source": [
    "Наибольшее количество игр выпускалось в 2008 г.Наибольшоее количество игр в (разрезе временного периода) выпускалось с 2005 по 2012г. c 1980 по 1993 выпускалось менее 100 игр в год  - считаю что данные указанные в этом интревале не окажут значительного воздействия при дальнейшем анализе."
   ]
  },
  {
   "cell_type": "markdown",
   "metadata": {},
   "source": [
    "<div class=\"alert alert-block alert-success\">\n",
    " \n",
    "### Комментарий ревьюера\n",
    "    \n",
    "#### Успех\n",
    "    \n",
    "Хороший информативный график вышел. По нему мы видим, как ведет себя выпуск платформ с каждым годом. "
   ]
  },
  {
   "cell_type": "code",
   "execution_count": 31,
   "metadata": {},
   "outputs": [
    {
     "data": {
      "image/png": "[encoded data removed]",
      "text/plain": [
       "<Figure size 1080x360 with 1 Axes>"
      ]
     },
     "metadata": {
      "needs_background": "light"
     },
     "output_type": "display_data"
    }
   ],
   "source": [
    "#Определим платформы с наибольшими продажами\n",
    "df.pivot_table(index ='platform', values ='total_sales', aggfunc = 'sum') \\\n",
    ".sort_values(by='total_sales', ascending = False).head(10)\\\n",
    ".plot(kind='bar', grid = True, figsize=(15,5))\n",
    "plt.title('Количество суммарных продаж в зависимости от платформы')\n",
    "plt.xlabel('Платформа')\n",
    "plt.ylabel('Суммарные продажи')\n",
    "plt.show()"
   ]
  },
  {
   "cell_type": "code",
   "execution_count": 32,
   "metadata": {},
   "outputs": [],
   "source": [
    "#df.pivot_table(index ='platform', values ='total_sales', aggfunc = 'sum') \\\n",
    "#.sort_values(by='total_sales', ascending = False).head(10)"
   ]
  },
  {
   "cell_type": "markdown",
   "metadata": {},
   "source": [
    "В результате анализа выявлено, что количество платформ с наибольшими продажами -  6 шт. "
   ]
  },
  {
   "cell_type": "code",
   "execution_count": 33,
   "metadata": {},
   "outputs": [
    {
     "data": {
      "text/plain": [
       "['PS2', 'X360', 'PS3', 'Wii', 'DS', 'PS']"
      ]
     },
     "execution_count": 33,
     "metadata": {},
     "output_type": "execute_result"
    }
   ],
   "source": [
    "top_sales = df.pivot_table(index='platform', values='total_sales', aggfunc='sum') \\\n",
    ".sort_values(by='total_sales', ascending=False).reset_index().head(6)['platform'].tolist()\n",
    "top_sales"
   ]
  },
  {
   "cell_type": "code",
   "execution_count": 34,
   "metadata": {},
   "outputs": [
    {
     "data": {
      "image/png": "[encoded data removed]",
      "text/plain": [
       "<Figure size 1080x720 with 1 Axes>"
      ]
     },
     "metadata": {
      "needs_background": "light"
     },
     "output_type": "display_data"
    }
   ],
   "source": [
    "#Пройдемся циклом по каждой платформе\n",
    "for name in top_sales:\n",
    "    (\n",
    "    df.query('platform == @name')\n",
    "    .pivot_table(index = 'year_of_release', values = 'total_sales', aggfunc = 'sum')\n",
    "    .sort_values('year_of_release', ascending = False)['total_sales']\n",
    "    .plot(figsize = (15, 10), label=name)\n",
    "    )\n",
    "    plt.title('Топ шесть платформ')\n",
    "    plt.xlabel('Год')\n",
    "    plt.ylabel('Суммарные продажи')\n",
    "    plt.legend() "
   ]
  },
  {
   "cell_type": "markdown",
   "metadata": {},
   "source": [
    "Nintendo DS https://ru.wikipedia.org/wiki/Nintendo_DS фактически выпущена в 2004 году , следовательно проведем анализ выпущенных игр на данную платформу"
   ]
  },
  {
   "cell_type": "markdown",
   "metadata": {},
   "source": [
    "<div class=\"alert alert-block alert-warning\">\n",
    " \n",
    "### Комментарий ревьюера\n",
    "    \n",
    "#### Совет\n",
    "    \n",
    "В целом, можно было убрать значение-выброс. "
   ]
  },
  {
   "cell_type": "markdown",
   "metadata": {},
   "source": [
    "<div class=\"alert alert-info\">\n",
    "<b>Комментарий студента:</b>\n",
    "<br>Работы по удалению выброса были сделаны изначально ниже 🙂\n",
    "</div>"
   ]
  },
  {
   "cell_type": "markdown",
   "metadata": {},
   "source": [
    "<div class=\"alert alert-block alert-success\">\n",
    " \n",
    "# Комментарий ревьюера ver.2\n",
    "    \n",
    "#### Успех\n",
    "    \n",
    "Исправлено"
   ]
  },
  {
   "cell_type": "code",
   "execution_count": 35,
   "metadata": {},
   "outputs": [
    {
     "data": {
      "text/html": [
       "<div>\n",
       "<style scoped>\n",
       "    .dataframe tbody tr th:only-of-type {\n",
       "        vertical-align: middle;\n",
       "    }\n",
       "\n",
       "    .dataframe tbody tr th {\n",
       "        vertical-align: top;\n",
       "    }\n",
       "\n",
       "    .dataframe thead th {\n",
       "        text-align: right;\n",
       "    }\n",
       "</style>\n",
       "<table border=\"1\" class=\"dataframe\">\n",
       "  <thead>\n",
       "    <tr style=\"text-align: right;\">\n",
       "      <th></th>\n",
       "      <th>name</th>\n",
       "      <th>platform</th>\n",
       "      <th>year_of_release</th>\n",
       "      <th>genre</th>\n",
       "      <th>na_sales</th>\n",
       "      <th>eu_sales</th>\n",
       "      <th>jp_sales</th>\n",
       "      <th>other_sales</th>\n",
       "      <th>critic_score</th>\n",
       "      <th>user_score</th>\n",
       "      <th>rating</th>\n",
       "      <th>total_sales</th>\n",
       "    </tr>\n",
       "  </thead>\n",
       "  <tbody>\n",
       "    <tr>\n",
       "      <th>15957</th>\n",
       "      <td>Strongest Tokyo University Shogi DS</td>\n",
       "      <td>DS</td>\n",
       "      <td>1985</td>\n",
       "      <td>Action</td>\n",
       "      <td>0.0</td>\n",
       "      <td>0.0</td>\n",
       "      <td>0.02</td>\n",
       "      <td>0.0</td>\n",
       "      <td>0</td>\n",
       "      <td>-1.0</td>\n",
       "      <td>unknown</td>\n",
       "      <td>0.02</td>\n",
       "    </tr>\n",
       "  </tbody>\n",
       "</table>\n",
       "</div>"
      ],
      "text/plain": [
       "                                      name platform  year_of_release   genre  \\\n",
       "15957  Strongest Tokyo University Shogi DS       DS             1985  Action   \n",
       "\n",
       "       na_sales  eu_sales  jp_sales  other_sales  critic_score  user_score  \\\n",
       "15957       0.0       0.0      0.02          0.0             0        -1.0   \n",
       "\n",
       "        rating  total_sales  \n",
       "15957  unknown         0.02  "
      ]
     },
     "execution_count": 35,
     "metadata": {},
     "output_type": "execute_result"
    }
   ],
   "source": [
    "#определим игру выпущенную до 2004 (года выпуска платформы)\n",
    "df.query('platform == \"DS\" and year_of_release < 2004')"
   ]
  },
  {
   "cell_type": "code",
   "execution_count": 36,
   "metadata": {},
   "outputs": [
    {
     "name": "stdout",
     "output_type": "stream",
     "text": [
      "<class 'pandas.core.frame.DataFrame'>\n",
      "Int64Index: 16444 entries, 0 to 16714\n",
      "Data columns (total 12 columns):\n",
      " #   Column           Non-Null Count  Dtype  \n",
      "---  ------           --------------  -----  \n",
      " 0   name             16444 non-null  object \n",
      " 1   platform         16444 non-null  object \n",
      " 2   year_of_release  16444 non-null  int64  \n",
      " 3   genre            16444 non-null  object \n",
      " 4   na_sales         16444 non-null  float64\n",
      " 5   eu_sales         16444 non-null  float64\n",
      " 6   jp_sales         16444 non-null  float64\n",
      " 7   other_sales      16444 non-null  float64\n",
      " 8   critic_score     16444 non-null  int64  \n",
      " 9   user_score       16444 non-null  float64\n",
      " 10  rating           16444 non-null  object \n",
      " 11  total_sales      16444 non-null  float64\n",
      "dtypes: float64(6), int64(2), object(4)\n",
      "memory usage: 1.6+ MB\n"
     ]
    }
   ],
   "source": [
    "df.info()"
   ]
  },
  {
   "cell_type": "code",
   "execution_count": 37,
   "metadata": {},
   "outputs": [],
   "source": [
    "#Удалим данную игру из датафрейма\n",
    "df = df[(df['name']!='Strongest Tokyo University Shogi DS')]"
   ]
  },
  {
   "cell_type": "code",
   "execution_count": 38,
   "metadata": {},
   "outputs": [
    {
     "name": "stdout",
     "output_type": "stream",
     "text": [
      "<class 'pandas.core.frame.DataFrame'>\n",
      "Int64Index: 16443 entries, 0 to 16714\n",
      "Data columns (total 12 columns):\n",
      " #   Column           Non-Null Count  Dtype  \n",
      "---  ------           --------------  -----  \n",
      " 0   name             16443 non-null  object \n",
      " 1   platform         16443 non-null  object \n",
      " 2   year_of_release  16443 non-null  int64  \n",
      " 3   genre            16443 non-null  object \n",
      " 4   na_sales         16443 non-null  float64\n",
      " 5   eu_sales         16443 non-null  float64\n",
      " 6   jp_sales         16443 non-null  float64\n",
      " 7   other_sales      16443 non-null  float64\n",
      " 8   critic_score     16443 non-null  int64  \n",
      " 9   user_score       16443 non-null  float64\n",
      " 10  rating           16443 non-null  object \n",
      " 11  total_sales      16443 non-null  float64\n",
      "dtypes: float64(6), int64(2), object(4)\n",
      "memory usage: 1.6+ MB\n"
     ]
    }
   ],
   "source": [
    "df.info()"
   ]
  },
  {
   "cell_type": "code",
   "execution_count": 39,
   "metadata": {},
   "outputs": [
    {
     "data": {
      "image/png": "[encoded data removed]",
      "text/plain": [
       "<Figure size 1080x720 with 1 Axes>"
      ]
     },
     "metadata": {
      "needs_background": "light"
     },
     "output_type": "display_data"
    }
   ],
   "source": [
    "#Пройдемся циклом по каждой платформе повторно\n",
    "for name in top_sales:\n",
    "    (\n",
    "    df.query('platform == @name')\n",
    "    .pivot_table(index = 'year_of_release', values = 'total_sales', aggfunc = 'sum')\n",
    "    .sort_values('year_of_release', ascending = False)['total_sales']\n",
    "    .plot(figsize = (15, 10), label=name)\n",
    "    )\n",
    "    plt.title('Топ шесть платформ')\n",
    "    plt.xlabel('Год')\n",
    "    plt.ylabel('Суммарные продажи')\n",
    "    plt.legend() "
   ]
  },
  {
   "cell_type": "markdown",
   "metadata": {},
   "source": [
    "В среднем жизненный цикл платформы составляет 10 лет"
   ]
  },
  {
   "cell_type": "markdown",
   "metadata": {},
   "source": [
    "Считаю,что на основании последнего графика актуальным периодом для выполнения дальнейших работ является с 2013 годa"
   ]
  },
  {
   "cell_type": "code",
   "execution_count": 40,
   "metadata": {},
   "outputs": [],
   "source": [
    "list_act = (df\n",
    "          .query('year_of_release >= 2013')\n",
    "          .pivot_table(index = 'platform', values = 'total_sales', aggfunc = 'sum')\n",
    "          .sort_values('total_sales', ascending = False)\n",
    "          .reset_index().head(6)['platform'].tolist()\n",
    "         )"
   ]
  },
  {
   "cell_type": "markdown",
   "metadata": {},
   "source": [
    "<div class=\"alert alert-block alert-success\">\n",
    " \n",
    "### Комментарий ревьюера\n",
    "    \n",
    "#### Успех\n",
    "\n",
    "С актуальным периодом согласен. Нам незачем обращать внимание на старые данные. "
   ]
  },
  {
   "cell_type": "code",
   "execution_count": 41,
   "metadata": {},
   "outputs": [
    {
     "data": {
      "text/plain": [
       "['PS4', 'PS3', 'XOne', '3DS', 'X360', 'WiiU']"
      ]
     },
     "execution_count": 41,
     "metadata": {},
     "output_type": "execute_result"
    }
   ],
   "source": [
    "list_act"
   ]
  },
  {
   "cell_type": "code",
   "execution_count": 42,
   "metadata": {},
   "outputs": [],
   "source": [
    "df_act = df.query('year_of_release >= 2013')"
   ]
  },
  {
   "cell_type": "code",
   "execution_count": 43,
   "metadata": {},
   "outputs": [
    {
     "data": {
      "image/png": "[encoded data removed]",
      "text/plain": [
       "<Figure size 1080x720 with 1 Axes>"
      ]
     },
     "metadata": {
      "needs_background": "light"
     },
     "output_type": "display_data"
    }
   ],
   "source": [
    "#Пройдемся циклом по каждой платформе повторно\n",
    "for name in list_act:\n",
    "    (\n",
    "    df_act.query('platform == @name')\n",
    "    .pivot_table(index = 'year_of_release', values = 'total_sales', aggfunc = 'sum')\n",
    "    .sort_values('year_of_release', ascending = False)['total_sales']\n",
    "    .plot(figsize = (15, 10), label=name)\n",
    "    )\n",
    "    plt.title('Топ шесть платформ')\n",
    "    plt.xlabel('Год (актуальный период)')\n",
    "    plt.ylabel('Суммарные продажи')\n",
    "    plt.legend() "
   ]
  },
  {
   "cell_type": "markdown",
   "metadata": {},
   "source": [
    "<div class=\"alert alert-block alert-success\">\n",
    " \n",
    "### Комментарий ревьюера\n",
    "    \n",
    "#### Успех\n",
    "    \n",
    "По графику мы можем заметить, что все платформы имеют падающую тенеденцию."
   ]
  },
  {
   "cell_type": "markdown",
   "metadata": {},
   "source": [
    "На основании графика, можно сделать следующий вывод: \n",
    "<li> Лидируют по продажам PS4 и XOne </li>\n",
    "<li> Общая тендеция по продаже игр(по всем платформам) идет на спад (рост отсутсвует)</li>\n",
    "<li> Потенциально прибыльные платформы соответсвенно PS4 и XOne </li>"
   ]
  },
  {
   "cell_type": "markdown",
   "metadata": {},
   "source": []
  },
  {
   "cell_type": "code",
   "execution_count": 78,
   "metadata": {},
   "outputs": [
    {
     "data": {
      "image/png": "[encoded data removed]",
      "text/plain": [
       "<Figure size 720x576 with 1 Axes>"
      ]
     },
     "metadata": {
      "needs_background": "light"
     },
     "output_type": "display_data"
    }
   ],
   "source": [
    "df_act \\\n",
    ".query('platform in [\"PS4\", \"Wii\", \"WiiU\", \"X360\", \"XOne\"]') \\\n",
    ".pivot_table(index = 'name', columns = 'platform', values = 'total_sales', aggfunc = 'sum') \\\n",
    ".plot(kind='box', ylim=(0,1.9), figsize = (10,8))\n",
    "plt.title('Рейтинг актуальных платформ за период 2013-2016г.')\n",
    "plt.xlabel('Кол-во проданных игр, млн. копий')\n",
    "plt.ylabel('Год релиза игры');"
   ]
  },
  {
   "cell_type": "markdown",
   "metadata": {},
   "source": [
    "<div class=\"alert alert-block alert-danger\">\n",
    " \n",
    "### Комментарий ревьюера\n",
    "    \n",
    "#### Ошибка\n",
    "    \n",
    "А тут стоит показать наболее перспективыне платформы. Правильно оставить таких штук 5 "
   ]
  },
  {
   "cell_type": "markdown",
   "metadata": {},
   "source": [
    "<div class=\"alert alert-info\">\n",
    "<b>Комментарий студента:</b>\n",
    "<br>Замечание устранено 🙂\n",
    "</div>"
   ]
  },
  {
   "cell_type": "markdown",
   "metadata": {},
   "source": [
    "<div class=\"alert alert-block alert-success\">\n",
    " \n",
    "# Комментарий ревьюера ver.2\n",
    "    \n",
    "#### Успех\n",
    "    \n",
    "И тут отлично вышло"
   ]
  },
  {
   "cell_type": "code",
   "execution_count": 45,
   "metadata": {},
   "outputs": [
    {
     "data": {
      "text/plain": [
       "count    2233.000000\n",
       "mean        0.488442\n",
       "std         1.235226\n",
       "min         0.010000\n",
       "25%         0.030000\n",
       "50%         0.110000\n",
       "75%         0.400000\n",
       "max        21.050000\n",
       "Name: total_sales, dtype: float64"
      ]
     },
     "execution_count": 45,
     "metadata": {},
     "output_type": "execute_result"
    }
   ],
   "source": [
    "df_act['total_sales'].describe()"
   ]
  },
  {
   "cell_type": "markdown",
   "metadata": {},
   "source": [
    "На основании полученных данных можно сделать следующие выводы:\n",
    "Медианное значение по всей выборке составляет 0,11 но у большинства платформ данный показатель фактически отличен.\n",
    "Значения первого и третьего квартилей также отлично.\n",
    "По большинству платформ присутствуют выбросы по продажам."
   ]
  },
  {
   "cell_type": "markdown",
   "metadata": {},
   "source": [
    "В качестве популярной платформы возьмем PS4"
   ]
  },
  {
   "cell_type": "code",
   "execution_count": 46,
   "metadata": {},
   "outputs": [
    {
     "data": {
      "text/plain": [
       "<AxesSubplot:xlabel='user_score', ylabel='critic_score'>"
      ]
     },
     "execution_count": 46,
     "metadata": {},
     "output_type": "execute_result"
    },
    {
     "data": {
      "image/png": "[encoded data removed]",
      "text/plain": [
       "<Figure size 432x288 with 1 Axes>"
      ]
     },
     "metadata": {
      "needs_background": "light"
     },
     "output_type": "display_data"
    }
   ],
   "source": [
    "PS_4 = df_act.query('platform == \"PS4\" and user_score > -1 and critic_score > 0')\n",
    "PS_4.plot(x='user_score', y='critic_score', kind='scatter')"
   ]
  },
  {
   "cell_type": "code",
   "execution_count": 47,
   "metadata": {},
   "outputs": [
    {
     "data": {
      "text/html": [
       "<div>\n",
       "<style scoped>\n",
       "    .dataframe tbody tr th:only-of-type {\n",
       "        vertical-align: middle;\n",
       "    }\n",
       "\n",
       "    .dataframe tbody tr th {\n",
       "        vertical-align: top;\n",
       "    }\n",
       "\n",
       "    .dataframe thead th {\n",
       "        text-align: right;\n",
       "    }\n",
       "</style>\n",
       "<table border=\"1\" class=\"dataframe\">\n",
       "  <thead>\n",
       "    <tr style=\"text-align: right;\">\n",
       "      <th></th>\n",
       "      <th>critic_score</th>\n",
       "      <th>user_score</th>\n",
       "      <th>total_sales</th>\n",
       "    </tr>\n",
       "  </thead>\n",
       "  <tbody>\n",
       "    <tr>\n",
       "      <th>critic_score</th>\n",
       "      <td>1.000000</td>\n",
       "      <td>0.557654</td>\n",
       "      <td>0.405895</td>\n",
       "    </tr>\n",
       "    <tr>\n",
       "      <th>user_score</th>\n",
       "      <td>0.557654</td>\n",
       "      <td>1.000000</td>\n",
       "      <td>-0.033625</td>\n",
       "    </tr>\n",
       "    <tr>\n",
       "      <th>total_sales</th>\n",
       "      <td>0.405895</td>\n",
       "      <td>-0.033625</td>\n",
       "      <td>1.000000</td>\n",
       "    </tr>\n",
       "  </tbody>\n",
       "</table>\n",
       "</div>"
      ],
      "text/plain": [
       "              critic_score  user_score  total_sales\n",
       "critic_score      1.000000    0.557654     0.405895\n",
       "user_score        0.557654    1.000000    -0.033625\n",
       "total_sales       0.405895   -0.033625     1.000000"
      ]
     },
     "execution_count": 47,
     "metadata": {},
     "output_type": "execute_result"
    }
   ],
   "source": [
    "PS_4_cor = PS_4[['critic_score','user_score', 'total_sales']]\n",
    "PS_4_cor.corr()"
   ]
  },
  {
   "cell_type": "markdown",
   "metadata": {},
   "source": [
    "На основании полученных данных можно сделать следующие выводы:\n",
    "<li> Оценки критиков оказывают влияние на продажи игр</li> \n",
    "<li> Оценки пользователей не оказывают влияние на продажи игр</li>\n",
    "<li> Оценки критиков оказывают влияние на мнение пользователей</li>"
   ]
  },
  {
   "cell_type": "code",
   "execution_count": 48,
   "metadata": {},
   "outputs": [
    {
     "data": {
      "text/plain": [
       "<AxesSubplot:xlabel='user_score', ylabel='critic_score'>"
      ]
     },
     "execution_count": 48,
     "metadata": {},
     "output_type": "execute_result"
    },
    {
     "data": {
      "image/png": "[encoded data removed]",
      "text/plain": [
       "<Figure size 432x288 with 1 Axes>"
      ]
     },
     "metadata": {
      "needs_background": "light"
     },
     "output_type": "display_data"
    }
   ],
   "source": [
    "X_one = df_act.query('platform == \"XOne\" and user_score > -1 and critic_score > 0')\n",
    "X_one.plot(x='user_score', y='critic_score', kind='scatter')"
   ]
  },
  {
   "cell_type": "markdown",
   "metadata": {},
   "source": [
    "<div class=\"alert alert-block alert-success\">\n",
    " \n",
    "### Комментарий ревьюера\n",
    "    \n",
    "#### Успех\n",
    "    \n",
    "Использовна хороший способ показа зависимости на графике. "
   ]
  },
  {
   "cell_type": "code",
   "execution_count": 49,
   "metadata": {},
   "outputs": [
    {
     "data": {
      "text/html": [
       "<div>\n",
       "<style scoped>\n",
       "    .dataframe tbody tr th:only-of-type {\n",
       "        vertical-align: middle;\n",
       "    }\n",
       "\n",
       "    .dataframe tbody tr th {\n",
       "        vertical-align: top;\n",
       "    }\n",
       "\n",
       "    .dataframe thead th {\n",
       "        text-align: right;\n",
       "    }\n",
       "</style>\n",
       "<table border=\"1\" class=\"dataframe\">\n",
       "  <thead>\n",
       "    <tr style=\"text-align: right;\">\n",
       "      <th></th>\n",
       "      <th>critic_score</th>\n",
       "      <th>user_score</th>\n",
       "      <th>total_sales</th>\n",
       "    </tr>\n",
       "  </thead>\n",
       "  <tbody>\n",
       "    <tr>\n",
       "      <th>critic_score</th>\n",
       "      <td>1.000000</td>\n",
       "      <td>0.472462</td>\n",
       "      <td>0.410422</td>\n",
       "    </tr>\n",
       "    <tr>\n",
       "      <th>user_score</th>\n",
       "      <td>0.472462</td>\n",
       "      <td>1.000000</td>\n",
       "      <td>-0.094003</td>\n",
       "    </tr>\n",
       "    <tr>\n",
       "      <th>total_sales</th>\n",
       "      <td>0.410422</td>\n",
       "      <td>-0.094003</td>\n",
       "      <td>1.000000</td>\n",
       "    </tr>\n",
       "  </tbody>\n",
       "</table>\n",
       "</div>"
      ],
      "text/plain": [
       "              critic_score  user_score  total_sales\n",
       "critic_score      1.000000    0.472462     0.410422\n",
       "user_score        0.472462    1.000000    -0.094003\n",
       "total_sales       0.410422   -0.094003     1.000000"
      ]
     },
     "execution_count": 49,
     "metadata": {},
     "output_type": "execute_result"
    }
   ],
   "source": [
    "X_one_cor = X_one[['critic_score','user_score', 'total_sales']]\n",
    "X_one_cor.corr()"
   ]
  },
  {
   "cell_type": "markdown",
   "metadata": {},
   "source": [
    "На основании полученных данных можно сделать следующий вывод:\n",
    "Зависимости полученные при анализе кореляций платформы XOne идентичны зависимостям выявленными при анализе кореляций PS4"
   ]
  },
  {
   "cell_type": "markdown",
   "metadata": {},
   "source": [
    "<div class=\"alert alert-block alert-success\">\n",
    " \n",
    "### Комментарий ревьюера\n",
    "    \n",
    "#### Успех\n",
    "    \n",
    "Выводы на основе данных нескольких платформ выглядят убедительнее"
   ]
  },
  {
   "cell_type": "markdown",
   "metadata": {},
   "source": [
    "Посмотрите на общее распределение игр по жанрам.\n",
    "Что можно сказать о самых прибыльных жанрах? Выделяются ли жанры с высокими и низкими продажами?\n"
   ]
  },
  {
   "cell_type": "code",
   "execution_count": 50,
   "metadata": {},
   "outputs": [
    {
     "data": {
      "image/png": "[encoded data removed]",
      "text/plain": [
       "<Figure size 1080x360 with 1 Axes>"
      ]
     },
     "metadata": {
      "needs_background": "light"
     },
     "output_type": "display_data"
    }
   ],
   "source": [
    "df_act.pivot_table(index ='genre', values ='total_sales', aggfunc = 'sum') \\\n",
    ".sort_values(by='total_sales', ascending = False) \\\n",
    ".plot(kind='bar', grid = True, figsize=(15,5))\n",
    "plt.title('Зависимость количества продаж игр от жанра')\n",
    "plt.xlabel('жанр')\n",
    "plt.ylabel('Суммарные продажи')\n",
    "plt.show()"
   ]
  },
  {
   "cell_type": "markdown",
   "metadata": {},
   "source": [
    "На основании полученного распределения можно сделать следующие выводы:\n",
    "<li>Игры с жанром Action лидеры по продажам</li>\n",
    "<li> Замыкают тройку Sports и Shooter</li>\n",
    "<li> Игры с жанром Strategy имеют самый низкий рейтинг по продажам</li>"
   ]
  },
  {
   "cell_type": "markdown",
   "metadata": {},
   "source": [
    "<div class=\"alert alert-block alert-danger\">\n",
    " \n",
    "### Комментарий ревьюера\n",
    "    \n",
    "#### Ошибка\n",
    "    \n",
    "Высокие продажи могут быть вызваны не успехом, а просто огромным количеством игр. Вполне могут быть жанры, где игр немного, но при этом продажи сопоставимы с продажами Экшена. Чтобы проверить это, стоит рассмотреть средние или медианные продажи."
   ]
  },
  {
   "cell_type": "markdown",
   "metadata": {},
   "source": [
    "<div class=\"alert alert-block alert-success\">\n",
    " \n",
    "# Комментарий ревьюера ver.2\n",
    "    \n",
    "#### Успех\n",
    "    \n",
    "Исправлено"
   ]
  },
  {
   "cell_type": "code",
   "execution_count": 83,
   "metadata": {},
   "outputs": [
    {
     "data": {
      "text/html": [
       "<div>\n",
       "<style scoped>\n",
       "    .dataframe tbody tr th:only-of-type {\n",
       "        vertical-align: middle;\n",
       "    }\n",
       "\n",
       "    .dataframe tbody tr th {\n",
       "        vertical-align: top;\n",
       "    }\n",
       "\n",
       "    .dataframe thead th {\n",
       "        text-align: right;\n",
       "    }\n",
       "</style>\n",
       "<table border=\"1\" class=\"dataframe\">\n",
       "  <thead>\n",
       "    <tr style=\"text-align: right;\">\n",
       "      <th></th>\n",
       "      <th>count</th>\n",
       "      <th>mean</th>\n",
       "      <th>median</th>\n",
       "      <th>sum</th>\n",
       "    </tr>\n",
       "    <tr>\n",
       "      <th>genre</th>\n",
       "      <th></th>\n",
       "      <th></th>\n",
       "      <th></th>\n",
       "      <th></th>\n",
       "    </tr>\n",
       "  </thead>\n",
       "  <tbody>\n",
       "    <tr>\n",
       "      <th>Shooter</th>\n",
       "      <td>187</td>\n",
       "      <td>1.245882</td>\n",
       "      <td>0.450</td>\n",
       "      <td>232.98</td>\n",
       "    </tr>\n",
       "    <tr>\n",
       "      <th>Sports</th>\n",
       "      <td>214</td>\n",
       "      <td>0.703972</td>\n",
       "      <td>0.240</td>\n",
       "      <td>150.65</td>\n",
       "    </tr>\n",
       "    <tr>\n",
       "      <th>Platform</th>\n",
       "      <td>74</td>\n",
       "      <td>0.576081</td>\n",
       "      <td>0.225</td>\n",
       "      <td>42.63</td>\n",
       "    </tr>\n",
       "    <tr>\n",
       "      <th>Role-Playing</th>\n",
       "      <td>292</td>\n",
       "      <td>0.499623</td>\n",
       "      <td>0.125</td>\n",
       "      <td>145.89</td>\n",
       "    </tr>\n",
       "    <tr>\n",
       "      <th>Fighting</th>\n",
       "      <td>80</td>\n",
       "      <td>0.441375</td>\n",
       "      <td>0.125</td>\n",
       "      <td>35.31</td>\n",
       "    </tr>\n",
       "    <tr>\n",
       "      <th>Racing</th>\n",
       "      <td>85</td>\n",
       "      <td>0.469294</td>\n",
       "      <td>0.120</td>\n",
       "      <td>39.89</td>\n",
       "    </tr>\n",
       "    <tr>\n",
       "      <th>Action</th>\n",
       "      <td>766</td>\n",
       "      <td>0.420196</td>\n",
       "      <td>0.110</td>\n",
       "      <td>321.87</td>\n",
       "    </tr>\n",
       "    <tr>\n",
       "      <th>Simulation</th>\n",
       "      <td>62</td>\n",
       "      <td>0.350968</td>\n",
       "      <td>0.100</td>\n",
       "      <td>21.76</td>\n",
       "    </tr>\n",
       "    <tr>\n",
       "      <th>Misc</th>\n",
       "      <td>155</td>\n",
       "      <td>0.405290</td>\n",
       "      <td>0.100</td>\n",
       "      <td>62.82</td>\n",
       "    </tr>\n",
       "    <tr>\n",
       "      <th>Strategy</th>\n",
       "      <td>56</td>\n",
       "      <td>0.180000</td>\n",
       "      <td>0.080</td>\n",
       "      <td>10.08</td>\n",
       "    </tr>\n",
       "    <tr>\n",
       "      <th>Puzzle</th>\n",
       "      <td>17</td>\n",
       "      <td>0.186471</td>\n",
       "      <td>0.060</td>\n",
       "      <td>3.17</td>\n",
       "    </tr>\n",
       "    <tr>\n",
       "      <th>Adventure</th>\n",
       "      <td>245</td>\n",
       "      <td>0.096490</td>\n",
       "      <td>0.030</td>\n",
       "      <td>23.64</td>\n",
       "    </tr>\n",
       "  </tbody>\n",
       "</table>\n",
       "</div>"
      ],
      "text/plain": [
       "              count      mean  median     sum\n",
       "genre                                        \n",
       "Shooter         187  1.245882   0.450  232.98\n",
       "Sports          214  0.703972   0.240  150.65\n",
       "Platform         74  0.576081   0.225   42.63\n",
       "Role-Playing    292  0.499623   0.125  145.89\n",
       "Fighting         80  0.441375   0.125   35.31\n",
       "Racing           85  0.469294   0.120   39.89\n",
       "Action          766  0.420196   0.110  321.87\n",
       "Simulation       62  0.350968   0.100   21.76\n",
       "Misc            155  0.405290   0.100   62.82\n",
       "Strategy         56  0.180000   0.080   10.08\n",
       "Puzzle           17  0.186471   0.060    3.17\n",
       "Adventure       245  0.096490   0.030   23.64"
      ]
     },
     "execution_count": 83,
     "metadata": {},
     "output_type": "execute_result"
    }
   ],
   "source": [
    "df_act.pivot_table(index = 'genre', values = 'total_sales',aggfunc = ('sum','count','median','mean')) \\\n",
    ".sort_values(by='median', ascending = False)"
   ]
  },
  {
   "cell_type": "markdown",
   "metadata": {},
   "source": [
    "Самым прибыльным жанром является Shooter, в хвосте Adventure"
   ]
  },
  {
   "cell_type": "markdown",
   "metadata": {},
   "source": [
    "<div class=\"alert alert-info\">\n",
    "<b>Комментарий студента:</b>\n",
    "<br>Замечание устранено 🙂\n",
    "</div>"
   ]
  },
  {
   "cell_type": "markdown",
   "metadata": {},
   "source": [
    "<div style=\"background-color:aliceblue;padding:25px;\"> Промежуточный вывод:\n",
    "<li>Изучена информация о выпуске игр в разные годы</li>\n",
    "<li>Изучена информация о легедне изменения продаж по платформам.Построены распределения. Определен срок ЖЦ платформ</li>\n",
    "<li>Определен актуальный период для построения прогноза на 2017г</li>\n",
    "<li>Построены ящики с усами по глобальным продажам игра в разбике по платформам</li>\n",
    "<li>Определно влияние критиков и пользователей на продажи популярной платформы,построена диаграмма рассеивания.Сформулированы выводы</li> \n",
    "<li>Соотесены выводы с расчитанной корреляцией другой платформы</li>\n",
    "<li>Построено распределение игр по жанрам. Определены самые прибыльные , c высокими и низкими продажами</li>\n",
    "</div>\n"
   ]
  },
  {
   "cell_type": "markdown",
   "metadata": {},
   "source": [
    "Шаг 4. Составьте портрет пользователя каждого региона\n",
    "Определите для пользователя каждого региона (NA, EU, JP):\n",
    "<li>Самые популярные платформы (топ-5). Опишите различия в долях продаж.</li>\n",
    "<li>Самые популярные жанры (топ-5). Поясните разницу.</li>\n",
    "<li>Влияет ли рейтинг ESRB на продажи в отдельном регионе?</li>"
   ]
  },
  {
   "cell_type": "code",
   "execution_count": 51,
   "metadata": {},
   "outputs": [
    {
     "data": {
      "text/html": [
       "<div>\n",
       "<style scoped>\n",
       "    .dataframe tbody tr th:only-of-type {\n",
       "        vertical-align: middle;\n",
       "    }\n",
       "\n",
       "    .dataframe tbody tr th {\n",
       "        vertical-align: top;\n",
       "    }\n",
       "\n",
       "    .dataframe thead th {\n",
       "        text-align: right;\n",
       "    }\n",
       "</style>\n",
       "<table border=\"1\" class=\"dataframe\">\n",
       "  <thead>\n",
       "    <tr style=\"text-align: right;\">\n",
       "      <th></th>\n",
       "      <th>name</th>\n",
       "      <th>platform</th>\n",
       "      <th>year_of_release</th>\n",
       "      <th>genre</th>\n",
       "      <th>na_sales</th>\n",
       "      <th>eu_sales</th>\n",
       "      <th>jp_sales</th>\n",
       "      <th>other_sales</th>\n",
       "      <th>critic_score</th>\n",
       "      <th>user_score</th>\n",
       "      <th>rating</th>\n",
       "      <th>total_sales</th>\n",
       "    </tr>\n",
       "  </thead>\n",
       "  <tbody>\n",
       "    <tr>\n",
       "      <th>0</th>\n",
       "      <td>Wii Sports</td>\n",
       "      <td>Wii</td>\n",
       "      <td>2006</td>\n",
       "      <td>Sports</td>\n",
       "      <td>41.36</td>\n",
       "      <td>28.96</td>\n",
       "      <td>3.77</td>\n",
       "      <td>8.45</td>\n",
       "      <td>76</td>\n",
       "      <td>8.0</td>\n",
       "      <td>E</td>\n",
       "      <td>82.54</td>\n",
       "    </tr>\n",
       "    <tr>\n",
       "      <th>1</th>\n",
       "      <td>Super Mario Bros.</td>\n",
       "      <td>NES</td>\n",
       "      <td>1985</td>\n",
       "      <td>Platform</td>\n",
       "      <td>29.08</td>\n",
       "      <td>3.58</td>\n",
       "      <td>6.81</td>\n",
       "      <td>0.77</td>\n",
       "      <td>0</td>\n",
       "      <td>-1.0</td>\n",
       "      <td>unknown</td>\n",
       "      <td>40.24</td>\n",
       "    </tr>\n",
       "    <tr>\n",
       "      <th>2</th>\n",
       "      <td>Mario Kart Wii</td>\n",
       "      <td>Wii</td>\n",
       "      <td>2008</td>\n",
       "      <td>Racing</td>\n",
       "      <td>15.68</td>\n",
       "      <td>12.76</td>\n",
       "      <td>3.79</td>\n",
       "      <td>3.29</td>\n",
       "      <td>82</td>\n",
       "      <td>8.3</td>\n",
       "      <td>E</td>\n",
       "      <td>35.52</td>\n",
       "    </tr>\n",
       "    <tr>\n",
       "      <th>3</th>\n",
       "      <td>Wii Sports Resort</td>\n",
       "      <td>Wii</td>\n",
       "      <td>2009</td>\n",
       "      <td>Sports</td>\n",
       "      <td>15.61</td>\n",
       "      <td>10.93</td>\n",
       "      <td>3.28</td>\n",
       "      <td>2.95</td>\n",
       "      <td>80</td>\n",
       "      <td>8.0</td>\n",
       "      <td>E</td>\n",
       "      <td>32.77</td>\n",
       "    </tr>\n",
       "    <tr>\n",
       "      <th>4</th>\n",
       "      <td>Pokemon Red/Pokemon Blue</td>\n",
       "      <td>GB</td>\n",
       "      <td>1996</td>\n",
       "      <td>Role-Playing</td>\n",
       "      <td>11.27</td>\n",
       "      <td>8.89</td>\n",
       "      <td>10.22</td>\n",
       "      <td>1.00</td>\n",
       "      <td>0</td>\n",
       "      <td>-1.0</td>\n",
       "      <td>unknown</td>\n",
       "      <td>31.38</td>\n",
       "    </tr>\n",
       "  </tbody>\n",
       "</table>\n",
       "</div>"
      ],
      "text/plain": [
       "                       name platform  year_of_release         genre  na_sales  \\\n",
       "0                Wii Sports      Wii             2006        Sports     41.36   \n",
       "1         Super Mario Bros.      NES             1985      Platform     29.08   \n",
       "2            Mario Kart Wii      Wii             2008        Racing     15.68   \n",
       "3         Wii Sports Resort      Wii             2009        Sports     15.61   \n",
       "4  Pokemon Red/Pokemon Blue       GB             1996  Role-Playing     11.27   \n",
       "\n",
       "   eu_sales  jp_sales  other_sales  critic_score  user_score   rating  \\\n",
       "0     28.96      3.77         8.45            76         8.0        E   \n",
       "1      3.58      6.81         0.77             0        -1.0  unknown   \n",
       "2     12.76      3.79         3.29            82         8.3        E   \n",
       "3     10.93      3.28         2.95            80         8.0        E   \n",
       "4      8.89     10.22         1.00             0        -1.0  unknown   \n",
       "\n",
       "   total_sales  \n",
       "0        82.54  \n",
       "1        40.24  \n",
       "2        35.52  \n",
       "3        32.77  \n",
       "4        31.38  "
      ]
     },
     "execution_count": 51,
     "metadata": {},
     "output_type": "execute_result"
    }
   ],
   "source": [
    "df.head()"
   ]
  },
  {
   "cell_type": "code",
   "execution_count": 52,
   "metadata": {},
   "outputs": [
    {
     "data": {
      "text/plain": [
       "<AxesSubplot:ylabel='na_sales'>"
      ]
     },
     "execution_count": 52,
     "metadata": {},
     "output_type": "execute_result"
    },
    {
     "data": {
      "image/png": "[encoded data removed]",
      "text/plain": [
       "<Figure size 432x288 with 1 Axes>"
      ]
     },
     "metadata": {},
     "output_type": "display_data"
    }
   ],
   "source": [
    "df_act.groupby('platform')['na_sales'].sum().sort_values(ascending = False).head(5). \\\n",
    "plot(kind = 'pie',autopct='%1.0f%%')"
   ]
  },
  {
   "cell_type": "code",
   "execution_count": 53,
   "metadata": {},
   "outputs": [
    {
     "data": {
      "text/plain": [
       "<AxesSubplot:ylabel='na_sales'>"
      ]
     },
     "execution_count": 53,
     "metadata": {},
     "output_type": "execute_result"
    },
    {
     "data": {
      "image/png": "[encoded data removed]",
      "text/plain": [
       "<Figure size 432x288 with 1 Axes>"
      ]
     },
     "metadata": {},
     "output_type": "display_data"
    }
   ],
   "source": [
    "df_act.groupby('genre')['na_sales'].sum().sort_values(ascending = False).head(5). \\\n",
    "plot(kind = 'pie',autopct='%1.0f%%')"
   ]
  },
  {
   "cell_type": "markdown",
   "metadata": {},
   "source": [
    "В Северной Америке самой популярной платформой является PS4,  самый популярный жанр Action"
   ]
  },
  {
   "cell_type": "markdown",
   "metadata": {},
   "source": [
    "<div class=\"alert alert-block alert-success\">\n",
    " \n",
    "### Комментарий ревьюера\n",
    "    \n",
    "#### Успех\n",
    "    \n",
    "Первичное представление о регионе получено"
   ]
  },
  {
   "cell_type": "code",
   "execution_count": 54,
   "metadata": {},
   "outputs": [
    {
     "data": {
      "text/plain": [
       "<AxesSubplot:ylabel='eu_sales'>"
      ]
     },
     "execution_count": 54,
     "metadata": {},
     "output_type": "execute_result"
    },
    {
     "data": {
      "image/png": "[encoded data removed]",
      "text/plain": [
       "<Figure size 432x288 with 1 Axes>"
      ]
     },
     "metadata": {},
     "output_type": "display_data"
    }
   ],
   "source": [
    "df_act.groupby('platform')['eu_sales'].sum().sort_values(ascending = False).head(5). \\\n",
    "plot(kind = 'pie',autopct='%1.0f%%')"
   ]
  },
  {
   "cell_type": "code",
   "execution_count": 55,
   "metadata": {},
   "outputs": [
    {
     "data": {
      "text/plain": [
       "<AxesSubplot:ylabel='eu_sales'>"
      ]
     },
     "execution_count": 55,
     "metadata": {},
     "output_type": "execute_result"
    },
    {
     "data": {
      "image/png": "[encoded data removed]",
      "text/plain": [
       "<Figure size 432x288 with 1 Axes>"
      ]
     },
     "metadata": {},
     "output_type": "display_data"
    }
   ],
   "source": [
    "df_act.groupby('genre')['eu_sales'].sum().sort_values(ascending = False).head(5). \\\n",
    "plot(kind = 'pie',autopct='%1.0f%%')"
   ]
  },
  {
   "cell_type": "markdown",
   "metadata": {},
   "source": [
    "В Европе самой популярной платформой является PS4, самый популярный жанр Action"
   ]
  },
  {
   "cell_type": "code",
   "execution_count": 56,
   "metadata": {},
   "outputs": [
    {
     "data": {
      "text/plain": [
       "<AxesSubplot:ylabel='jp_sales'>"
      ]
     },
     "execution_count": 56,
     "metadata": {},
     "output_type": "execute_result"
    },
    {
     "data": {
      "image/png": "[encoded data removed]",
      "text/plain": [
       "<Figure size 432x288 with 1 Axes>"
      ]
     },
     "metadata": {},
     "output_type": "display_data"
    }
   ],
   "source": [
    "df_act.groupby('platform')['jp_sales'].sum().sort_values(ascending = False).head(5). \\\n",
    "plot(kind = 'pie',autopct='%1.0f%%')"
   ]
  },
  {
   "cell_type": "code",
   "execution_count": 57,
   "metadata": {},
   "outputs": [
    {
     "data": {
      "text/plain": [
       "<AxesSubplot:ylabel='jp_sales'>"
      ]
     },
     "execution_count": 57,
     "metadata": {},
     "output_type": "execute_result"
    },
    {
     "data": {
      "image/png": "[encoded data removed]",
      "text/plain": [
       "<Figure size 432x288 with 1 Axes>"
      ]
     },
     "metadata": {},
     "output_type": "display_data"
    }
   ],
   "source": [
    "df_act.groupby('genre')['jp_sales'].sum().sort_values(ascending = False).head(5). \\\n",
    "plot(kind = 'pie',autopct='%1.0f%%')"
   ]
  },
  {
   "cell_type": "markdown",
   "metadata": {},
   "source": [
    "В Японии самой популярной платформой является 3DS, самый популярный жанр Role-Playing"
   ]
  },
  {
   "cell_type": "markdown",
   "metadata": {},
   "source": [
    "<div class=\"alert alert-block alert-success\">\n",
    " \n",
    "### Комментарий ревьюера\n",
    "    \n",
    "#### Успех\n",
    "    \n",
    "А тут мы можем видеть, что Япония наиболее уникальна среди регионов. "
   ]
  },
  {
   "cell_type": "markdown",
   "metadata": {},
   "source": [
    "По результатам анализа можно сделать следующий вывод:\n",
    "<li>Предпочтения в выборе платформы и жанров у пользователей Северной Америки и Европы схожи</li>\n",
    "<li>Отличие предпочтений пользователей Японии от двух остальных заключается в наличи внешнего влияющего фактора такого как особенность общественного транспорта (https://konnichiwa.ru/4253/?ysclid=luwtmj9nhd746207851)</li>"
   ]
  },
  {
   "cell_type": "code",
   "execution_count": 58,
   "metadata": {},
   "outputs": [
    {
     "data": {
      "text/plain": [
       "<AxesSubplot:xlabel='rating'>"
      ]
     },
     "execution_count": 58,
     "metadata": {},
     "output_type": "execute_result"
    },
    {
     "data": {
      "image/png": "[encoded data removed]",
      "text/plain": [
       "<Figure size 432x288 with 1 Axes>"
      ]
     },
     "metadata": {
      "needs_background": "light"
     },
     "output_type": "display_data"
    }
   ],
   "source": [
    "df_act.groupby('rating')['na_sales'].sum().sort_values(ascending = False).head(5). \\\n",
    "plot(kind = 'bar')"
   ]
  },
  {
   "cell_type": "code",
   "execution_count": 59,
   "metadata": {},
   "outputs": [
    {
     "data": {
      "text/plain": [
       "<AxesSubplot:xlabel='rating'>"
      ]
     },
     "execution_count": 59,
     "metadata": {},
     "output_type": "execute_result"
    },
    {
     "data": {
      "image/png": "[encoded data removed]",
      "text/plain": [
       "<Figure size 432x288 with 1 Axes>"
      ]
     },
     "metadata": {
      "needs_background": "light"
     },
     "output_type": "display_data"
    }
   ],
   "source": [
    "df_act.groupby('rating')['eu_sales'].sum().sort_values(ascending = False).head(5). \\\n",
    "plot(kind = 'bar')"
   ]
  },
  {
   "cell_type": "code",
   "execution_count": 60,
   "metadata": {},
   "outputs": [
    {
     "data": {
      "text/plain": [
       "<AxesSubplot:xlabel='rating'>"
      ]
     },
     "execution_count": 60,
     "metadata": {},
     "output_type": "execute_result"
    },
    {
     "data": {
      "image/png": "[encoded data removed]",
      "text/plain": [
       "<Figure size 432x288 with 1 Axes>"
      ]
     },
     "metadata": {
      "needs_background": "light"
     },
     "output_type": "display_data"
    }
   ],
   "source": [
    "df_act.groupby('rating')['jp_sales'].sum().sort_values(ascending = False).head(5). \\\n",
    "plot(kind = 'bar')"
   ]
  },
  {
   "cell_type": "markdown",
   "metadata": {},
   "source": [
    "В Северной Америке и Европе рейтинги почти идентичны. Первые места в данных регионах заняли игры категории М \n",
    "В Японии первое место по количеству проданных копий заняли игры без определенного рейтинга.Можно предположить что данный факт связан с Японским рейтингом игр (CERO - https://ru.wikipedia.org/wiki/Computer_Entertainment_Rating_Organization) \n",
    "\n",
    "Отвечая на вопрос влияния рейтинга ESRB на продажи в регионе можно предположить что влияние рейтинга оказывается в большей степени на продажи Европе и Северной Америке."
   ]
  },
  {
   "cell_type": "markdown",
   "metadata": {},
   "source": [
    "<div style=\"background-color:aliceblue;padding:25px;\"> Промежуточный вывод:\n",
    "<li>Составлен портрет пользователя каждого региона</li>\n",
    "Для каждого пользователя (в зависимости от региона) определены:\n",
    "<li>Самые популярные платформы (топ-5)</li>\n",
    "<li>Самые популярные жанры (топ-5)</li>\n",
    "<li>Влиние рейтинга ESRB на продажи в регионе </li>\n",
    "</div>"
   ]
  },
  {
   "cell_type": "markdown",
   "metadata": {},
   "source": [
    "<div class=\"alert alert-block alert-success\">\n",
    " \n",
    "### Комментарий ревьюера\n",
    "    \n",
    "#### Успех\n",
    "    \n",
    "Рассмотрев каждый из регионов мы пришли к выводу, что они имеют свою специфику. "
   ]
  },
  {
   "cell_type": "markdown",
   "metadata": {},
   "source": [
    "Шаг 5. Проверьте гипотезы\n",
    "\n",
    "Средние пользовательские рейтинги платформ Xbox One и PC одинаковые;\n",
    "\n",
    "Средние пользовательские рейтинги жанров Action (англ. «действие», экшен-игры) и Sports (англ. «спортивные соревнования») разные.\n",
    "\n",
    "Задайте самостоятельно пороговое значение alpha.\n",
    "\n",
    "Поясните:\n",
    "\n",
    "Как вы сформулировали нулевую и альтернативную гипотезы;\n",
    "\n",
    "Какой критерий применили для проверки гипотез и почему."
   ]
  },
  {
   "cell_type": "markdown",
   "metadata": {},
   "source": [
    "Нулевая гипотеза: \"Средний пользовательский рейтинг платформы(далее - СПРП) Xbox One  равен  СПРП PC\".\n",
    "Альтернативная гипотеза \"СПРП Xbox One не равен  СПРП PC\"."
   ]
  },
  {
   "cell_type": "code",
   "execution_count": 61,
   "metadata": {},
   "outputs": [],
   "source": [
    "#отфильтруем user_score по маркеру '-1'\n",
    "score = df_act[df_act['user_score']!= -1]"
   ]
  },
  {
   "cell_type": "code",
   "execution_count": 62,
   "metadata": {},
   "outputs": [
    {
     "name": "stdout",
     "output_type": "stream",
     "text": [
      "p-значение: 0.14012658403611647\n",
      "Не получилось отвергнуть нулевую гипотезу\n",
      "СПРП XOne: 6.521428571428572\n",
      "СПРП PC: 6.2696774193548395\n"
     ]
    }
   ],
   "source": [
    "alpha = 0.05\n",
    "results = st.ttest_ind(\n",
    "    score.query('platform == \"XOne\"')['user_score'],\n",
    "    score.query('platform == \"PC\"')['user_score']\n",
    "    )\n",
    "print('p-значение:', results.pvalue)\n",
    "\n",
    "if (results.pvalue < alpha):\n",
    "    print(\"Отвергаем нулевую гипотезу\")\n",
    "else:\n",
    "    print(\"Не получилось отвергнуть нулевую гипотезу\")\n",
    "    \n",
    "print('СПРП XOne:', score.query('platform == \"XOne\"')['user_score'].mean())\n",
    "print('СПРП PC:', score.query('platform == \"PC\"')['user_score'].mean())"
   ]
  },
  {
   "cell_type": "markdown",
   "metadata": {},
   "source": [
    "Вывод:Нет оснований полагать, что СПРП XOne и PC имеют значительные различия"
   ]
  },
  {
   "cell_type": "markdown",
   "metadata": {},
   "source": [
    "<div class=\"alert alert-block alert-success\">\n",
    " \n",
    "### Комментарий ревьюера\n",
    "    \n",
    "#### Успех\n",
    "    \n",
    "Гипотезы сформулированы и верно определен метод проверки. "
   ]
  },
  {
   "cell_type": "markdown",
   "metadata": {},
   "source": [
    "Нулевая гипотеза: \"СПРП  жанра  Action равен СПРП Sports\".\n",
    "Альтернативная гипотеза \"СПРП  жанра  Action не равен СПРП Sports\"."
   ]
  },
  {
   "cell_type": "code",
   "execution_count": 63,
   "metadata": {},
   "outputs": [
    {
     "name": "stdout",
     "output_type": "stream",
     "text": [
      "p-значение: 1.0517832389140023e-27\n",
      "Отвергаем нулевую гипотезу\n",
      "СПРП Action: 6.837532133676092\n",
      "СПРП Sports: 5.238124999999999\n"
     ]
    }
   ],
   "source": [
    "alpha = 0.05\n",
    "results = st.ttest_ind(\n",
    "    score.query('genre == \"Action\"')['user_score'],\n",
    "    score.query('genre == \"Sports\"')['user_score']\n",
    "    )\n",
    "print('p-значение:', results.pvalue)\n",
    "\n",
    "if (results.pvalue < alpha):\n",
    "    print(\"Отвергаем нулевую гипотезу\")\n",
    "else:\n",
    "    print(\"Не получилось отвергнуть нулевую гипотезу\")\n",
    "    \n",
    "print('СПРП Action:', score.query('genre == \"Action\"')['user_score'].mean())\n",
    "print('СПРП Sports:', score.query('genre == \"Sports\"')['user_score'].mean())"
   ]
  },
  {
   "cell_type": "markdown",
   "metadata": {},
   "source": [
    "Вывод: Средние пользовательские рейтинги Action и Sports разные. СПРП у жанра Action выше чем у Sports"
   ]
  },
  {
   "cell_type": "markdown",
   "metadata": {},
   "source": [
    "<div style=\"background-color:aliceblue;padding:25px;\"> Промежуточный вывод:\n",
    "<li>Гипотезы проверены</li>\n",
    "</div>"
   ]
  },
  {
   "cell_type": "markdown",
   "metadata": {},
   "source": [
    "<div class=\"alert alert-block alert-success\">\n",
    " \n",
    "### Комментарий ревьюера\n",
    "    \n",
    "#### Успех\n",
    "    \n",
    "И в данном случае согласен с выводами. "
   ]
  },
  {
   "cell_type": "markdown",
   "metadata": {},
   "source": [
    "<div style=\"border:solid Purple 2px; padding: 40px\" > \n",
    "    <u><b> Общий вывод</b></u>\n",
    "<u><b> В процессе реализации проекта было выполнено:</b></u>\n",
    "<ol>1)Загрузка данных </ol>\n",
    "<ol>2)Предобработка данных </ol>\n",
    "<ol>3)Исследовательский анализ данных </ol>    \n",
    "<ol>4)Составление портрета пользователя каждого региона</ol>\n",
    "<ol>6)Проверка гипотез </ol>\n",
    "<ol>7)Формирование общего вывода </ol>\n",
    "При загрузке данных:\n",
    "<li>CSV-файл считан и сохранен в датафрейм.</li>\n",
    "<li>Первые строки датафрейма выведены</li>\n",
    "<li>Общая информация о датафреймах изучена</li>\n",
    "В процессе предобработки данных:\n",
    "<li>Названия столбцов приведены к нижнему регистру;</li>\n",
    "<li>Данные в нужные типы приобразованы:</li>\n",
    "<li>year_of_Release: было float64/ стало int64</li>\n",
    "<li>сritic_Score: было float64/ стало int64т</li>\n",
    "<li>user_Score: было object/  стало float64</li> \n",
    "<li>Пропуски обработаны и заполнены</li>\n",
    "<li>Суммарные продажи во всех регионах посчитаны записаны в отдельный столбец.</li>\n",
    "В процессе проведения исследовательского анализа данных:\n",
    "<li>Изучена информация о выпуске игр в разные годы.Наибольшее количество игр выпускалось в 2008 г.Наибольшоее количество игр в (разрезе временного периода) выпускалось с 2005 по 2012г.</li>\n",
    "<li>Изучена информация о легедне изменения продаж по платформам.Построены распределения. Определен срок ЖЦ платформ - 10 лет.</li>\n",
    "<li>Определен актуальный период для построения прогноза на 2017г - взят период начиная с 2013 годa</li>\n",
    "<li>Построены ящики с усами по глобальным продажам игра в разбике по платформам</li>\n",
    "<li>Определно влияние критиков и пользователей на продажи популярной платформы,построена диаграмма рассеивания.Оценки критиков оказывают влияние на продажи игр.Оценки пользователей не оказывают влияние на продажи игр.Оценки критиков оказывают влияние на мнение пользователей.</li> \n",
    "<li>Соотесены выводы с расчитанной корреляцией другой платформы.Зависимости схожи.</li>\n",
    "<li>Построено распределение игр по жанрам. Определены самые прибыльные , c высокими и низкими продажами.Игры с жанром Action лидеры по продажам.Замыкают тройку Sports и Shooter.Игры с жанром Strategy имеют самый низкий рейтинг по продажам</li>\n",
    "При составлении портрета пользователя каждого региона:\n",
    "<li>Составлен портрет пользователя каждого региона</li>\n",
    "Для каждого пользователя (в зависимости от региона) определены:\n",
    "<li>Самые популярные платформы  и жанры(топ-5).В Северной Америке и Европе самой популярной платформой является PS4, самый популярный жанр Action.В Японии самой популярной платформой является 3DS самый популярный жанр Role-Playing</li>\n",
    "<li>Влиние рейтинга ESRB на продажи в регионе.Влияние рейтинга ESRB на продажи в регионах оказывается в большей степени на продажи в Европе и Северной Америке. </li>\n",
    "При проверке гипотез выявлено:\n",
    "<li>Нет оснований полагать, что СПРП XOne и PC имеют значительные различия</li>\n",
    "<li>Средние пользовательские рейтинги Action и Sports разные. СПРП у жанра Action выше чем у Sports</li>\n",
    "Сформирован общий вывод\n",
    "</div>"
   ]
  },
  {
   "cell_type": "markdown",
   "metadata": {},
   "source": [
    "<div class=\"alert alert-block alert-success\">\n",
    " \n",
    "### Комментарий ревьюера\n",
    "    \n",
    "#### Успех\n",
    "    \n",
    "Итоговый вывод стал отличным дополнением к проекту. С такими данными мы точно сможем составить прогноз продаж на 2017 год. Спасибо, за такое количество полезных инсайтов. "
   ]
  },
  {
   "cell_type": "markdown",
   "metadata": {},
   "source": [
    "<div class=\"alert alert-block alert-info\">\n",
    "\n",
    "## Итоговый комментарии от ревьюера:\n",
    "    \n",
    "#### Успех\n",
    "\n",
    "Спасибо большое тебе за такую качественную работу. Мне было приятно проверять проект и делиться обратной связью. Особенно впечатлила Предобработка данных. Все достаточно структурировано и последовательно. Ты применяешь верные навыки для работы с кодом. Еще хочу отметить понятные и информативные графики. Однако, в проекте есть несколько замечаний, которые надо исправить:\n",
    "\n",
    "* Ящик с усами доработать.\n",
    "* Найти и определить самый успешный жанр по медиане или среднему.\n",
    "    \n",
    "Еще я оставил рекомендации. Очень надеюсь, что ты учтешь их в этом и последующих проектах.\n",
    "       \n",
    "Жду проект после доработки. Уверен, ты справишься.\n",
    "</div>"
   ]
  },
  {
   "cell_type": "markdown",
   "metadata": {},
   "source": [
    "<div class=\"alert alert-info\">\n",
    "<b>Комментарий студента:</b>\n",
    "<br>Все замечания устранены.Благодарю за ценные советы\n",
    "</div>"
   ]
  },
  {
   "cell_type": "code",
   "execution_count": null,
   "metadata": {},
   "outputs": [],
   "source": []
  }
 ],
 "metadata": {
  "ExecuteTimeLog": [
   {
    "duration": 108,
    "start_time": "2024-04-08T17:55:59.668Z"
   },
   {
    "duration": 135,
    "start_time": "2024-04-08T17:56:46.543Z"
   },
   {
    "duration": 1194,
    "start_time": "2024-04-08T18:01:32.257Z"
   },
   {
    "duration": 190,
    "start_time": "2024-04-08T18:02:57.306Z"
   },
   {
    "duration": 50,
    "start_time": "2024-04-08T18:03:22.527Z"
   },
   {
    "duration": 22,
    "start_time": "2024-04-08T18:03:34.812Z"
   },
   {
    "duration": 13,
    "start_time": "2024-04-08T18:04:08.361Z"
   },
   {
    "duration": 15,
    "start_time": "2024-04-08T18:04:27.861Z"
   },
   {
    "duration": 13,
    "start_time": "2024-04-08T18:04:47.984Z"
   },
   {
    "duration": 59,
    "start_time": "2024-04-08T18:06:08.824Z"
   },
   {
    "duration": 18,
    "start_time": "2024-04-08T18:06:10.593Z"
   },
   {
    "duration": 14,
    "start_time": "2024-04-08T18:06:14.471Z"
   },
   {
    "duration": 66,
    "start_time": "2024-04-08T18:06:32.460Z"
   },
   {
    "duration": 15,
    "start_time": "2024-04-08T18:06:34.135Z"
   },
   {
    "duration": 19,
    "start_time": "2024-04-08T18:06:36.998Z"
   },
   {
    "duration": 106,
    "start_time": "2024-04-08T18:12:51.641Z"
   },
   {
    "duration": 3,
    "start_time": "2024-04-08T18:13:08.428Z"
   },
   {
    "duration": 3,
    "start_time": "2024-04-08T18:13:15.248Z"
   },
   {
    "duration": 1089,
    "start_time": "2024-04-08T18:13:29.945Z"
   },
   {
    "duration": 52,
    "start_time": "2024-04-08T18:13:31.036Z"
   },
   {
    "duration": 33,
    "start_time": "2024-04-08T18:13:31.090Z"
   },
   {
    "duration": 37,
    "start_time": "2024-04-08T18:13:31.125Z"
   },
   {
    "duration": 22,
    "start_time": "2024-04-08T18:13:31.164Z"
   },
   {
    "duration": 12,
    "start_time": "2024-04-08T18:13:42.394Z"
   },
   {
    "duration": 22,
    "start_time": "2024-04-08T18:14:35.104Z"
   },
   {
    "duration": 9,
    "start_time": "2024-04-08T18:16:13.007Z"
   },
   {
    "duration": 6,
    "start_time": "2024-04-08T18:16:33.222Z"
   },
   {
    "duration": 96,
    "start_time": "2024-04-08T18:16:58.182Z"
   },
   {
    "duration": 10,
    "start_time": "2024-04-08T18:17:02.891Z"
   },
   {
    "duration": 8,
    "start_time": "2024-04-08T18:17:07.240Z"
   },
   {
    "duration": 5,
    "start_time": "2024-04-08T18:18:08.069Z"
   },
   {
    "duration": 26,
    "start_time": "2024-04-08T18:23:47.707Z"
   },
   {
    "duration": 6,
    "start_time": "2024-04-08T18:28:43.503Z"
   },
   {
    "duration": 13,
    "start_time": "2024-04-08T18:28:56.379Z"
   },
   {
    "duration": 12,
    "start_time": "2024-04-08T18:29:04.703Z"
   },
   {
    "duration": 13,
    "start_time": "2024-04-08T18:29:06.048Z"
   },
   {
    "duration": 13,
    "start_time": "2024-04-08T18:31:13.924Z"
   },
   {
    "duration": 13,
    "start_time": "2024-04-08T18:31:15.762Z"
   },
   {
    "duration": 12,
    "start_time": "2024-04-08T18:31:23.994Z"
   },
   {
    "duration": 1030,
    "start_time": "2024-04-08T18:31:31.817Z"
   },
   {
    "duration": 50,
    "start_time": "2024-04-08T18:31:32.849Z"
   },
   {
    "duration": 16,
    "start_time": "2024-04-08T18:31:32.901Z"
   },
   {
    "duration": 12,
    "start_time": "2024-04-08T18:31:32.919Z"
   },
   {
    "duration": 2,
    "start_time": "2024-04-08T18:31:32.933Z"
   },
   {
    "duration": 13,
    "start_time": "2024-04-08T18:31:32.937Z"
   },
   {
    "duration": 5,
    "start_time": "2024-04-08T18:31:32.952Z"
   },
   {
    "duration": 28,
    "start_time": "2024-04-08T18:31:32.958Z"
   },
   {
    "duration": 808,
    "start_time": "2024-04-08T18:31:32.987Z"
   },
   {
    "duration": 0,
    "start_time": "2024-04-08T18:31:33.796Z"
   },
   {
    "duration": 980,
    "start_time": "2024-04-08T18:31:49.264Z"
   },
   {
    "duration": 6,
    "start_time": "2024-04-08T18:32:07.203Z"
   },
   {
    "duration": 14,
    "start_time": "2024-04-08T18:32:09.633Z"
   },
   {
    "duration": 994,
    "start_time": "2024-04-08T18:32:29.663Z"
   },
   {
    "duration": 51,
    "start_time": "2024-04-08T18:32:30.659Z"
   },
   {
    "duration": 45,
    "start_time": "2024-04-08T18:32:30.712Z"
   },
   {
    "duration": 221,
    "start_time": "2024-04-08T18:32:30.758Z"
   },
   {
    "duration": 192,
    "start_time": "2024-04-08T18:32:30.982Z"
   },
   {
    "duration": 162,
    "start_time": "2024-04-08T18:32:31.176Z"
   },
   {
    "duration": 127,
    "start_time": "2024-04-08T18:32:31.339Z"
   },
   {
    "duration": 86,
    "start_time": "2024-04-08T18:32:31.467Z"
   },
   {
    "duration": 21,
    "start_time": "2024-04-08T18:32:31.554Z"
   },
   {
    "duration": 70,
    "start_time": "2024-04-08T18:32:31.576Z"
   },
   {
    "duration": 14,
    "start_time": "2024-04-08T18:32:52.630Z"
   },
   {
    "duration": 7,
    "start_time": "2024-04-08T18:34:08.232Z"
   },
   {
    "duration": 13,
    "start_time": "2024-04-08T18:34:10.860Z"
   },
   {
    "duration": 37,
    "start_time": "2024-04-08T18:34:30.376Z"
   },
   {
    "duration": 6,
    "start_time": "2024-04-08T18:34:42.970Z"
   },
   {
    "duration": 6,
    "start_time": "2024-04-08T18:36:33.768Z"
   },
   {
    "duration": 5,
    "start_time": "2024-04-08T18:36:35.579Z"
   },
   {
    "duration": 7,
    "start_time": "2024-04-08T18:36:47.710Z"
   },
   {
    "duration": 12,
    "start_time": "2024-04-08T18:37:16.361Z"
   },
   {
    "duration": 1016,
    "start_time": "2024-04-08T18:37:26.832Z"
   },
   {
    "duration": 52,
    "start_time": "2024-04-08T18:37:27.850Z"
   },
   {
    "duration": 16,
    "start_time": "2024-04-08T18:37:27.904Z"
   },
   {
    "duration": 16,
    "start_time": "2024-04-08T18:37:27.922Z"
   },
   {
    "duration": 3,
    "start_time": "2024-04-08T18:37:27.939Z"
   },
   {
    "duration": 16,
    "start_time": "2024-04-08T18:37:27.943Z"
   },
   {
    "duration": 6,
    "start_time": "2024-04-08T18:37:27.961Z"
   },
   {
    "duration": 29,
    "start_time": "2024-04-08T18:37:27.969Z"
   },
   {
    "duration": 9,
    "start_time": "2024-04-08T18:37:28.000Z"
   },
   {
    "duration": 18,
    "start_time": "2024-04-08T18:37:28.011Z"
   },
   {
    "duration": 11,
    "start_time": "2024-04-08T18:37:52.046Z"
   },
   {
    "duration": 13,
    "start_time": "2024-04-08T18:37:52.704Z"
   },
   {
    "duration": 10,
    "start_time": "2024-04-08T18:37:59.360Z"
   },
   {
    "duration": 11,
    "start_time": "2024-04-08T18:37:59.940Z"
   },
   {
    "duration": 1003,
    "start_time": "2024-04-08T18:38:05.942Z"
   },
   {
    "duration": 51,
    "start_time": "2024-04-08T18:38:06.946Z"
   },
   {
    "duration": 18,
    "start_time": "2024-04-08T18:38:06.998Z"
   },
   {
    "duration": 13,
    "start_time": "2024-04-08T18:38:07.018Z"
   },
   {
    "duration": 3,
    "start_time": "2024-04-08T18:38:07.033Z"
   },
   {
    "duration": 13,
    "start_time": "2024-04-08T18:38:07.038Z"
   },
   {
    "duration": 10,
    "start_time": "2024-04-08T18:38:07.053Z"
   },
   {
    "duration": 21,
    "start_time": "2024-04-08T18:38:07.065Z"
   },
   {
    "duration": 711,
    "start_time": "2024-04-08T18:38:07.087Z"
   },
   {
    "duration": 0,
    "start_time": "2024-04-08T18:38:07.800Z"
   },
   {
    "duration": 661,
    "start_time": "2024-04-08T18:38:20.160Z"
   },
   {
    "duration": 5,
    "start_time": "2024-04-08T18:42:32.416Z"
   },
   {
    "duration": 12,
    "start_time": "2024-04-08T18:42:38.715Z"
   },
   {
    "duration": 1021,
    "start_time": "2024-04-08T18:42:52.672Z"
   },
   {
    "duration": 57,
    "start_time": "2024-04-08T18:42:53.695Z"
   },
   {
    "duration": 16,
    "start_time": "2024-04-08T18:42:53.754Z"
   },
   {
    "duration": 13,
    "start_time": "2024-04-08T18:42:53.771Z"
   },
   {
    "duration": 8,
    "start_time": "2024-04-08T18:42:53.786Z"
   },
   {
    "duration": 14,
    "start_time": "2024-04-08T18:42:53.796Z"
   },
   {
    "duration": 9,
    "start_time": "2024-04-08T18:42:53.811Z"
   },
   {
    "duration": 27,
    "start_time": "2024-04-08T18:42:53.821Z"
   },
   {
    "duration": 11,
    "start_time": "2024-04-08T18:42:53.849Z"
   },
   {
    "duration": 8,
    "start_time": "2024-04-08T18:42:53.861Z"
   },
   {
    "duration": 20,
    "start_time": "2024-04-08T18:42:53.870Z"
   },
   {
    "duration": 12,
    "start_time": "2024-04-08T18:46:45.130Z"
   },
   {
    "duration": 12,
    "start_time": "2024-04-08T18:46:46.062Z"
   },
   {
    "duration": 1008,
    "start_time": "2024-04-08T18:47:10.428Z"
   },
   {
    "duration": 51,
    "start_time": "2024-04-08T18:47:11.437Z"
   },
   {
    "duration": 17,
    "start_time": "2024-04-08T18:47:11.489Z"
   },
   {
    "duration": 13,
    "start_time": "2024-04-08T18:47:11.507Z"
   },
   {
    "duration": 4,
    "start_time": "2024-04-08T18:47:11.522Z"
   },
   {
    "duration": 15,
    "start_time": "2024-04-08T18:47:11.527Z"
   },
   {
    "duration": 20,
    "start_time": "2024-04-08T18:47:11.544Z"
   },
   {
    "duration": 24,
    "start_time": "2024-04-08T18:47:11.566Z"
   },
   {
    "duration": 12,
    "start_time": "2024-04-08T18:47:11.591Z"
   },
   {
    "duration": 8,
    "start_time": "2024-04-08T18:47:11.604Z"
   },
   {
    "duration": 21,
    "start_time": "2024-04-08T18:47:11.613Z"
   },
   {
    "duration": 12,
    "start_time": "2024-04-08T18:47:24.854Z"
   },
   {
    "duration": 1012,
    "start_time": "2024-04-08T18:47:37.027Z"
   },
   {
    "duration": 51,
    "start_time": "2024-04-08T18:47:38.041Z"
   },
   {
    "duration": 18,
    "start_time": "2024-04-08T18:47:38.094Z"
   },
   {
    "duration": 12,
    "start_time": "2024-04-08T18:47:38.114Z"
   },
   {
    "duration": 3,
    "start_time": "2024-04-08T18:47:38.127Z"
   },
   {
    "duration": 14,
    "start_time": "2024-04-08T18:47:38.131Z"
   },
   {
    "duration": 6,
    "start_time": "2024-04-08T18:47:38.146Z"
   },
   {
    "duration": 25,
    "start_time": "2024-04-08T18:47:38.153Z"
   },
   {
    "duration": 30,
    "start_time": "2024-04-08T18:47:38.180Z"
   },
   {
    "duration": 13,
    "start_time": "2024-04-08T18:47:38.212Z"
   },
   {
    "duration": 51,
    "start_time": "2024-04-09T18:20:50.561Z"
   },
   {
    "duration": 1235,
    "start_time": "2024-04-09T18:25:55.329Z"
   },
   {
    "duration": 104,
    "start_time": "2024-04-09T18:25:56.566Z"
   },
   {
    "duration": 19,
    "start_time": "2024-04-09T18:25:56.672Z"
   },
   {
    "duration": 17,
    "start_time": "2024-04-09T18:25:56.693Z"
   },
   {
    "duration": 5,
    "start_time": "2024-04-09T18:25:56.711Z"
   },
   {
    "duration": 16,
    "start_time": "2024-04-09T18:25:56.717Z"
   },
   {
    "duration": 5,
    "start_time": "2024-04-09T18:25:56.735Z"
   },
   {
    "duration": 52,
    "start_time": "2024-04-09T18:25:56.742Z"
   },
   {
    "duration": 120,
    "start_time": "2024-04-09T18:25:56.796Z"
   },
   {
    "duration": 0,
    "start_time": "2024-04-09T18:25:56.918Z"
   },
   {
    "duration": 11,
    "start_time": "2024-04-09T18:26:57.483Z"
   },
   {
    "duration": 5,
    "start_time": "2024-04-09T18:27:15.661Z"
   },
   {
    "duration": 30,
    "start_time": "2024-04-09T18:27:28.381Z"
   },
   {
    "duration": 13,
    "start_time": "2024-04-09T18:27:32.431Z"
   },
   {
    "duration": 7,
    "start_time": "2024-04-09T18:27:49.186Z"
   },
   {
    "duration": 4,
    "start_time": "2024-04-09T18:27:55.580Z"
   },
   {
    "duration": 5,
    "start_time": "2024-04-09T18:27:58.917Z"
   },
   {
    "duration": 20,
    "start_time": "2024-04-09T18:28:16.632Z"
   },
   {
    "duration": 7,
    "start_time": "2024-04-09T18:29:36.323Z"
   },
   {
    "duration": 12,
    "start_time": "2024-04-09T18:30:16.037Z"
   },
   {
    "duration": 656,
    "start_time": "2024-04-09T18:31:16.106Z"
   },
   {
    "duration": 717,
    "start_time": "2024-04-09T18:31:47.229Z"
   },
   {
    "duration": 643,
    "start_time": "2024-04-09T18:32:33.048Z"
   },
   {
    "duration": 10,
    "start_time": "2024-04-09T18:33:00.081Z"
   },
   {
    "duration": 13,
    "start_time": "2024-04-09T18:33:12.512Z"
   },
   {
    "duration": 9,
    "start_time": "2024-04-09T18:34:48.542Z"
   },
   {
    "duration": 7,
    "start_time": "2024-04-09T18:35:08.634Z"
   },
   {
    "duration": 8,
    "start_time": "2024-04-09T18:35:18.173Z"
   },
   {
    "duration": 8,
    "start_time": "2024-04-09T18:35:37.641Z"
   },
   {
    "duration": 17,
    "start_time": "2024-04-09T18:36:22.546Z"
   },
   {
    "duration": 16,
    "start_time": "2024-04-09T18:36:29.241Z"
   },
   {
    "duration": 11,
    "start_time": "2024-04-09T18:36:35.342Z"
   },
   {
    "duration": 11,
    "start_time": "2024-04-09T18:36:42.154Z"
   },
   {
    "duration": 18,
    "start_time": "2024-04-09T18:37:12.212Z"
   },
   {
    "duration": 5,
    "start_time": "2024-04-09T18:38:46.051Z"
   },
   {
    "duration": 5,
    "start_time": "2024-04-09T18:40:21.472Z"
   },
   {
    "duration": 6,
    "start_time": "2024-04-09T18:40:50.941Z"
   },
   {
    "duration": 11,
    "start_time": "2024-04-09T18:41:51.850Z"
   },
   {
    "duration": 5,
    "start_time": "2024-04-09T18:41:58.773Z"
   },
   {
    "duration": 5,
    "start_time": "2024-04-09T18:42:50.088Z"
   },
   {
    "duration": 5,
    "start_time": "2024-04-09T18:43:05.099Z"
   },
   {
    "duration": 5,
    "start_time": "2024-04-09T18:43:14.320Z"
   },
   {
    "duration": 5,
    "start_time": "2024-04-09T18:43:24.333Z"
   },
   {
    "duration": 7,
    "start_time": "2024-04-09T18:44:30.222Z"
   },
   {
    "duration": 6,
    "start_time": "2024-04-09T18:48:47.999Z"
   },
   {
    "duration": 7,
    "start_time": "2024-04-09T18:50:13.064Z"
   },
   {
    "duration": 5,
    "start_time": "2024-04-09T18:50:24.768Z"
   },
   {
    "duration": 5,
    "start_time": "2024-04-09T18:52:14.238Z"
   },
   {
    "duration": 9,
    "start_time": "2024-04-09T18:53:12.311Z"
   },
   {
    "duration": 6,
    "start_time": "2024-04-09T18:53:18.150Z"
   },
   {
    "duration": 6,
    "start_time": "2024-04-09T18:54:23.070Z"
   },
   {
    "duration": 7,
    "start_time": "2024-04-09T19:06:16.149Z"
   },
   {
    "duration": 4,
    "start_time": "2024-04-09T19:06:39.783Z"
   },
   {
    "duration": 4,
    "start_time": "2024-04-09T19:07:11.747Z"
   },
   {
    "duration": 1168,
    "start_time": "2024-04-09T19:07:25.283Z"
   },
   {
    "duration": 57,
    "start_time": "2024-04-09T19:07:26.453Z"
   },
   {
    "duration": 20,
    "start_time": "2024-04-09T19:07:26.512Z"
   },
   {
    "duration": 20,
    "start_time": "2024-04-09T19:07:26.533Z"
   },
   {
    "duration": 3,
    "start_time": "2024-04-09T19:07:26.556Z"
   },
   {
    "duration": 38,
    "start_time": "2024-04-09T19:07:26.561Z"
   },
   {
    "duration": 20,
    "start_time": "2024-04-09T19:07:26.601Z"
   },
   {
    "duration": 20,
    "start_time": "2024-04-09T19:07:26.623Z"
   },
   {
    "duration": 4,
    "start_time": "2024-04-09T19:07:26.645Z"
   },
   {
    "duration": 16,
    "start_time": "2024-04-09T19:07:26.650Z"
   },
   {
    "duration": 9,
    "start_time": "2024-04-09T19:07:26.667Z"
   },
   {
    "duration": 5,
    "start_time": "2024-04-09T19:07:26.677Z"
   },
   {
    "duration": 7,
    "start_time": "2024-04-09T19:07:26.684Z"
   },
   {
    "duration": 5,
    "start_time": "2024-04-09T19:07:26.693Z"
   },
   {
    "duration": 5,
    "start_time": "2024-04-09T19:07:26.700Z"
   },
   {
    "duration": 15,
    "start_time": "2024-04-09T19:07:26.706Z"
   },
   {
    "duration": 11,
    "start_time": "2024-04-09T19:07:26.723Z"
   },
   {
    "duration": 13,
    "start_time": "2024-04-09T19:07:45.442Z"
   },
   {
    "duration": 8,
    "start_time": "2024-04-09T19:16:07.838Z"
   },
   {
    "duration": 5,
    "start_time": "2024-04-09T19:16:16.093Z"
   },
   {
    "duration": 116,
    "start_time": "2024-04-09T19:18:28.859Z"
   },
   {
    "duration": 20,
    "start_time": "2024-04-09T19:18:38.841Z"
   },
   {
    "duration": 6,
    "start_time": "2024-04-09T19:19:43.892Z"
   },
   {
    "duration": 5,
    "start_time": "2024-04-09T19:19:46.799Z"
   },
   {
    "duration": 1220,
    "start_time": "2024-04-09T19:20:41.347Z"
   },
   {
    "duration": 56,
    "start_time": "2024-04-09T19:20:42.569Z"
   },
   {
    "duration": 19,
    "start_time": "2024-04-09T19:20:42.627Z"
   },
   {
    "duration": 15,
    "start_time": "2024-04-09T19:20:42.647Z"
   },
   {
    "duration": 3,
    "start_time": "2024-04-09T19:20:42.663Z"
   },
   {
    "duration": 23,
    "start_time": "2024-04-09T19:20:42.668Z"
   },
   {
    "duration": 4,
    "start_time": "2024-04-09T19:20:42.692Z"
   },
   {
    "duration": 14,
    "start_time": "2024-04-09T19:20:42.698Z"
   },
   {
    "duration": 3,
    "start_time": "2024-04-09T19:20:42.714Z"
   },
   {
    "duration": 4,
    "start_time": "2024-04-09T19:20:42.720Z"
   },
   {
    "duration": 10,
    "start_time": "2024-04-09T19:20:42.726Z"
   },
   {
    "duration": 4,
    "start_time": "2024-04-09T19:20:42.738Z"
   },
   {
    "duration": 5,
    "start_time": "2024-04-09T19:20:42.743Z"
   },
   {
    "duration": 33,
    "start_time": "2024-04-09T19:20:42.749Z"
   },
   {
    "duration": 3,
    "start_time": "2024-04-09T19:20:42.784Z"
   },
   {
    "duration": 22,
    "start_time": "2024-04-09T19:20:42.788Z"
   },
   {
    "duration": 5,
    "start_time": "2024-04-09T19:20:42.811Z"
   },
   {
    "duration": 5,
    "start_time": "2024-04-09T19:20:42.817Z"
   },
   {
    "duration": 15,
    "start_time": "2024-04-09T19:20:42.823Z"
   },
   {
    "duration": 5,
    "start_time": "2024-04-09T19:20:42.839Z"
   },
   {
    "duration": 9,
    "start_time": "2024-04-09T19:21:42.292Z"
   },
   {
    "duration": 6,
    "start_time": "2024-04-09T19:21:54.444Z"
   },
   {
    "duration": 5,
    "start_time": "2024-04-09T19:22:36.544Z"
   },
   {
    "duration": 14,
    "start_time": "2024-04-09T19:23:21.001Z"
   },
   {
    "duration": 6,
    "start_time": "2024-04-09T19:24:15.831Z"
   },
   {
    "duration": 5,
    "start_time": "2024-04-09T19:24:36.795Z"
   },
   {
    "duration": 5,
    "start_time": "2024-04-09T19:37:08.622Z"
   },
   {
    "duration": 4,
    "start_time": "2024-04-09T19:38:21.394Z"
   },
   {
    "duration": 6,
    "start_time": "2024-04-09T19:38:29.678Z"
   },
   {
    "duration": 14,
    "start_time": "2024-04-09T19:40:59.278Z"
   },
   {
    "duration": 18,
    "start_time": "2024-04-09T19:41:36.637Z"
   },
   {
    "duration": 5,
    "start_time": "2024-04-09T19:44:29.525Z"
   },
   {
    "duration": 14,
    "start_time": "2024-04-09T19:44:32.363Z"
   },
   {
    "duration": 44,
    "start_time": "2024-04-11T14:05:53.909Z"
   },
   {
    "duration": 1247,
    "start_time": "2024-04-11T14:05:59.484Z"
   },
   {
    "duration": 190,
    "start_time": "2024-04-11T14:06:00.733Z"
   },
   {
    "duration": 17,
    "start_time": "2024-04-11T14:06:00.926Z"
   },
   {
    "duration": 121,
    "start_time": "2024-04-11T14:06:00.945Z"
   },
   {
    "duration": 51,
    "start_time": "2024-04-11T14:06:01.068Z"
   },
   {
    "duration": 62,
    "start_time": "2024-04-11T14:06:01.121Z"
   },
   {
    "duration": 58,
    "start_time": "2024-04-11T14:06:01.185Z"
   },
   {
    "duration": 48,
    "start_time": "2024-04-11T14:06:01.245Z"
   },
   {
    "duration": 37,
    "start_time": "2024-04-11T14:06:01.295Z"
   },
   {
    "duration": 62,
    "start_time": "2024-04-11T14:06:01.333Z"
   },
   {
    "duration": 60,
    "start_time": "2024-04-11T14:06:01.397Z"
   },
   {
    "duration": 45,
    "start_time": "2024-04-11T14:06:01.459Z"
   },
   {
    "duration": 61,
    "start_time": "2024-04-11T14:06:01.506Z"
   },
   {
    "duration": 52,
    "start_time": "2024-04-11T14:06:01.569Z"
   },
   {
    "duration": 30,
    "start_time": "2024-04-11T14:06:01.623Z"
   },
   {
    "duration": 85,
    "start_time": "2024-04-11T14:06:01.654Z"
   },
   {
    "duration": 79,
    "start_time": "2024-04-11T14:06:01.741Z"
   },
   {
    "duration": 73,
    "start_time": "2024-04-11T14:06:01.822Z"
   },
   {
    "duration": 65,
    "start_time": "2024-04-11T14:06:01.897Z"
   },
   {
    "duration": 76,
    "start_time": "2024-04-11T14:06:01.964Z"
   },
   {
    "duration": 167,
    "start_time": "2024-04-11T14:06:02.042Z"
   },
   {
    "duration": 257,
    "start_time": "2024-04-11T14:06:02.210Z"
   },
   {
    "duration": 71,
    "start_time": "2024-04-11T14:06:02.469Z"
   },
   {
    "duration": 99,
    "start_time": "2024-04-11T14:06:02.541Z"
   },
   {
    "duration": 301,
    "start_time": "2024-04-11T14:06:02.641Z"
   },
   {
    "duration": 295,
    "start_time": "2024-04-11T14:06:02.944Z"
   },
   {
    "duration": 132,
    "start_time": "2024-04-11T14:06:03.241Z"
   },
   {
    "duration": 122,
    "start_time": "2024-04-11T14:06:03.375Z"
   },
   {
    "duration": 241,
    "start_time": "2024-04-11T14:06:03.498Z"
   },
   {
    "duration": 8,
    "start_time": "2024-04-11T14:06:26.657Z"
   },
   {
    "duration": 86,
    "start_time": "2024-04-11T14:07:57.019Z"
   },
   {
    "duration": 8,
    "start_time": "2024-04-11T14:08:07.632Z"
   },
   {
    "duration": 23,
    "start_time": "2024-04-11T14:09:04.385Z"
   },
   {
    "duration": 141,
    "start_time": "2024-04-11T14:09:27.988Z"
   },
   {
    "duration": 14,
    "start_time": "2024-04-11T14:09:42.019Z"
   },
   {
    "duration": 101,
    "start_time": "2024-04-11T14:12:35.981Z"
   },
   {
    "duration": 18,
    "start_time": "2024-04-11T14:13:20.812Z"
   },
   {
    "duration": 14,
    "start_time": "2024-04-11T14:13:38.479Z"
   },
   {
    "duration": 15,
    "start_time": "2024-04-11T14:16:05.777Z"
   },
   {
    "duration": 14,
    "start_time": "2024-04-11T14:20:09.893Z"
   },
   {
    "duration": 15,
    "start_time": "2024-04-11T14:20:34.752Z"
   },
   {
    "duration": 101,
    "start_time": "2024-04-11T14:22:10.429Z"
   },
   {
    "duration": 98,
    "start_time": "2024-04-11T14:22:16.478Z"
   },
   {
    "duration": 157,
    "start_time": "2024-04-11T14:22:24.262Z"
   },
   {
    "duration": 167,
    "start_time": "2024-04-11T14:23:12.005Z"
   },
   {
    "duration": 8,
    "start_time": "2024-04-11T14:23:46.462Z"
   },
   {
    "duration": 157,
    "start_time": "2024-04-11T14:25:14.550Z"
   },
   {
    "duration": 155,
    "start_time": "2024-04-11T14:26:10.067Z"
   },
   {
    "duration": 162,
    "start_time": "2024-04-11T14:27:14.041Z"
   },
   {
    "duration": 12,
    "start_time": "2024-04-11T14:27:56.844Z"
   },
   {
    "duration": 19,
    "start_time": "2024-04-11T14:28:31.440Z"
   },
   {
    "duration": 13,
    "start_time": "2024-04-11T14:28:45.714Z"
   },
   {
    "duration": 14,
    "start_time": "2024-04-11T14:29:13.671Z"
   },
   {
    "duration": 13,
    "start_time": "2024-04-11T14:29:21.904Z"
   },
   {
    "duration": 12,
    "start_time": "2024-04-11T14:31:12.314Z"
   },
   {
    "duration": 13,
    "start_time": "2024-04-11T14:33:48.837Z"
   },
   {
    "duration": 303,
    "start_time": "2024-04-11T14:34:34.918Z"
   },
   {
    "duration": 9,
    "start_time": "2024-04-11T14:35:40.506Z"
   },
   {
    "duration": 6,
    "start_time": "2024-04-11T14:35:54.015Z"
   },
   {
    "duration": 11,
    "start_time": "2024-04-11T14:36:39.735Z"
   },
   {
    "duration": 14,
    "start_time": "2024-04-11T14:37:21.610Z"
   },
   {
    "duration": 14,
    "start_time": "2024-04-11T14:45:10.038Z"
   },
   {
    "duration": 16,
    "start_time": "2024-04-11T14:46:10.049Z"
   },
   {
    "duration": 166,
    "start_time": "2024-04-11T14:46:32.922Z"
   },
   {
    "duration": 100,
    "start_time": "2024-04-11T14:47:22.438Z"
   },
   {
    "duration": 1241,
    "start_time": "2024-04-11T14:47:29.327Z"
   },
   {
    "duration": 1211,
    "start_time": "2024-04-11T14:47:47.178Z"
   },
   {
    "duration": 1160,
    "start_time": "2024-04-11T14:48:05.624Z"
   },
   {
    "duration": 1192,
    "start_time": "2024-04-11T14:48:39.143Z"
   },
   {
    "duration": 1212,
    "start_time": "2024-04-11T14:48:58.346Z"
   },
   {
    "duration": 8,
    "start_time": "2024-04-11T14:49:31.259Z"
   },
   {
    "duration": 16,
    "start_time": "2024-04-11T14:49:38.685Z"
   },
   {
    "duration": 1336,
    "start_time": "2024-04-11T14:50:03.995Z"
   },
   {
    "duration": 1135,
    "start_time": "2024-04-11T14:51:56.619Z"
   },
   {
    "duration": 296,
    "start_time": "2024-04-11T14:55:05.128Z"
   },
   {
    "duration": 339,
    "start_time": "2024-04-11T14:56:35.911Z"
   },
   {
    "duration": 9,
    "start_time": "2024-04-11T15:00:33.585Z"
   },
   {
    "duration": 11,
    "start_time": "2024-04-11T15:00:39.404Z"
   },
   {
    "duration": 21,
    "start_time": "2024-04-11T15:00:42.207Z"
   },
   {
    "duration": 25,
    "start_time": "2024-04-11T15:01:14.384Z"
   },
   {
    "duration": 10,
    "start_time": "2024-04-11T15:01:28.141Z"
   },
   {
    "duration": 27,
    "start_time": "2024-04-11T15:02:32.534Z"
   },
   {
    "duration": 9,
    "start_time": "2024-04-11T15:02:46.238Z"
   },
   {
    "duration": 28,
    "start_time": "2024-04-11T15:03:19.339Z"
   },
   {
    "duration": 19,
    "start_time": "2024-04-11T15:03:47.615Z"
   },
   {
    "duration": 156,
    "start_time": "2024-04-11T15:04:03.705Z"
   },
   {
    "duration": 5389,
    "start_time": "2024-04-11T15:04:20.091Z"
   },
   {
    "duration": 4933,
    "start_time": "2024-04-11T15:04:39.408Z"
   },
   {
    "duration": 1247,
    "start_time": "2024-04-11T15:05:16.963Z"
   },
   {
    "duration": 10,
    "start_time": "2024-04-11T15:07:27.644Z"
   },
   {
    "duration": 8,
    "start_time": "2024-04-11T15:07:32.451Z"
   },
   {
    "duration": 1253,
    "start_time": "2024-04-11T15:08:24.920Z"
   },
   {
    "duration": 11,
    "start_time": "2024-04-11T15:11:11.405Z"
   },
   {
    "duration": 18,
    "start_time": "2024-04-11T15:12:38.945Z"
   },
   {
    "duration": 15,
    "start_time": "2024-04-11T15:12:59.758Z"
   },
   {
    "duration": 96,
    "start_time": "2024-04-11T15:13:41.813Z"
   },
   {
    "duration": 468,
    "start_time": "2024-04-11T15:13:46.530Z"
   },
   {
    "duration": 171,
    "start_time": "2024-04-11T15:14:06.265Z"
   },
   {
    "duration": 189,
    "start_time": "2024-04-11T15:15:29.050Z"
   },
   {
    "duration": 24,
    "start_time": "2024-04-11T15:16:24.978Z"
   },
   {
    "duration": 18,
    "start_time": "2024-04-11T15:16:41.310Z"
   },
   {
    "duration": 19,
    "start_time": "2024-04-11T15:18:03.539Z"
   },
   {
    "duration": 222,
    "start_time": "2024-04-11T15:18:34.945Z"
   },
   {
    "duration": 19,
    "start_time": "2024-04-11T15:18:49.083Z"
   },
   {
    "duration": 19,
    "start_time": "2024-04-11T15:19:04.345Z"
   },
   {
    "duration": 24,
    "start_time": "2024-04-11T15:20:04.961Z"
   },
   {
    "duration": 100,
    "start_time": "2024-04-11T15:20:48.264Z"
   },
   {
    "duration": 65,
    "start_time": "2024-04-11T15:20:55.361Z"
   },
   {
    "duration": 61,
    "start_time": "2024-04-11T15:21:01.898Z"
   },
   {
    "duration": 1145,
    "start_time": "2024-04-11T15:21:09.356Z"
   },
   {
    "duration": 54,
    "start_time": "2024-04-11T15:21:10.503Z"
   },
   {
    "duration": 17,
    "start_time": "2024-04-11T15:21:10.559Z"
   },
   {
    "duration": 24,
    "start_time": "2024-04-11T15:21:10.577Z"
   },
   {
    "duration": 8,
    "start_time": "2024-04-11T15:21:10.603Z"
   },
   {
    "duration": 17,
    "start_time": "2024-04-11T15:21:10.612Z"
   },
   {
    "duration": 16,
    "start_time": "2024-04-11T15:21:10.630Z"
   },
   {
    "duration": 40,
    "start_time": "2024-04-11T15:21:10.647Z"
   },
   {
    "duration": 26,
    "start_time": "2024-04-11T15:21:10.688Z"
   },
   {
    "duration": 21,
    "start_time": "2024-04-11T15:21:10.715Z"
   },
   {
    "duration": 11,
    "start_time": "2024-04-11T15:21:10.738Z"
   },
   {
    "duration": 5,
    "start_time": "2024-04-11T15:21:10.750Z"
   },
   {
    "duration": 10,
    "start_time": "2024-04-11T15:21:10.757Z"
   },
   {
    "duration": 7,
    "start_time": "2024-04-11T15:21:10.770Z"
   },
   {
    "duration": 32,
    "start_time": "2024-04-11T15:21:10.778Z"
   },
   {
    "duration": 21,
    "start_time": "2024-04-11T15:21:10.811Z"
   },
   {
    "duration": 22,
    "start_time": "2024-04-11T15:21:10.833Z"
   },
   {
    "duration": 13,
    "start_time": "2024-04-11T15:21:10.856Z"
   },
   {
    "duration": 23,
    "start_time": "2024-04-11T15:21:10.870Z"
   },
   {
    "duration": 17,
    "start_time": "2024-04-11T15:21:10.894Z"
   },
   {
    "duration": 15,
    "start_time": "2024-04-11T15:21:10.912Z"
   },
   {
    "duration": 5,
    "start_time": "2024-04-11T15:21:10.928Z"
   },
   {
    "duration": 10,
    "start_time": "2024-04-11T15:21:10.934Z"
   },
   {
    "duration": 11,
    "start_time": "2024-04-11T15:21:10.945Z"
   },
   {
    "duration": 11,
    "start_time": "2024-04-11T15:21:10.958Z"
   },
   {
    "duration": 5,
    "start_time": "2024-04-11T15:21:10.994Z"
   },
   {
    "duration": 20,
    "start_time": "2024-04-11T15:21:11.000Z"
   },
   {
    "duration": 20,
    "start_time": "2024-04-11T15:21:11.021Z"
   },
   {
    "duration": 225,
    "start_time": "2024-04-11T15:21:11.042Z"
   },
   {
    "duration": 12,
    "start_time": "2024-04-11T15:21:11.269Z"
   },
   {
    "duration": 216,
    "start_time": "2024-04-11T15:21:11.282Z"
   },
   {
    "duration": 66,
    "start_time": "2024-04-11T15:21:11.500Z"
   },
   {
    "duration": 102,
    "start_time": "2024-04-11T15:21:35.795Z"
   },
   {
    "duration": 19,
    "start_time": "2024-04-11T15:22:29.584Z"
   },
   {
    "duration": 19,
    "start_time": "2024-04-11T15:23:25.338Z"
   },
   {
    "duration": 137,
    "start_time": "2024-04-11T15:23:35.152Z"
   },
   {
    "duration": 8,
    "start_time": "2024-04-11T15:25:10.011Z"
   },
   {
    "duration": 9,
    "start_time": "2024-04-11T15:25:14.477Z"
   },
   {
    "duration": 1307,
    "start_time": "2024-04-11T15:25:16.619Z"
   },
   {
    "duration": 14,
    "start_time": "2024-04-11T15:25:48.833Z"
   },
   {
    "duration": 2,
    "start_time": "2024-04-11T15:27:59.753Z"
   },
   {
    "duration": 18,
    "start_time": "2024-04-11T15:28:03.889Z"
   },
   {
    "duration": 13,
    "start_time": "2024-04-11T15:28:12.081Z"
   },
   {
    "duration": 442,
    "start_time": "2024-04-11T15:28:30.888Z"
   },
   {
    "duration": 401,
    "start_time": "2024-04-11T15:30:27.615Z"
   },
   {
    "duration": 476,
    "start_time": "2024-04-11T15:30:45.150Z"
   },
   {
    "duration": 429,
    "start_time": "2024-04-11T15:30:52.055Z"
   },
   {
    "duration": 12,
    "start_time": "2024-04-11T15:31:27.627Z"
   },
   {
    "duration": 445,
    "start_time": "2024-04-11T15:32:06.677Z"
   },
   {
    "duration": 15,
    "start_time": "2024-04-11T15:34:17.262Z"
   },
   {
    "duration": 15,
    "start_time": "2024-04-11T15:34:42.336Z"
   },
   {
    "duration": 3,
    "start_time": "2024-04-11T15:38:50.455Z"
   },
   {
    "duration": 12,
    "start_time": "2024-04-11T15:39:44.647Z"
   },
   {
    "duration": 333,
    "start_time": "2024-04-11T15:39:47.405Z"
   },
   {
    "duration": 11,
    "start_time": "2024-04-11T15:42:48.203Z"
   },
   {
    "duration": 4,
    "start_time": "2024-04-11T15:42:51.638Z"
   },
   {
    "duration": 15,
    "start_time": "2024-04-11T15:42:57.181Z"
   },
   {
    "duration": 15,
    "start_time": "2024-04-11T15:43:47.240Z"
   },
   {
    "duration": 14,
    "start_time": "2024-04-11T15:45:25.918Z"
   },
   {
    "duration": 3,
    "start_time": "2024-04-11T15:45:34.632Z"
   },
   {
    "duration": 4,
    "start_time": "2024-04-11T15:46:17.260Z"
   },
   {
    "duration": 13,
    "start_time": "2024-04-11T15:46:19.559Z"
   },
   {
    "duration": 17,
    "start_time": "2024-04-11T15:48:14.379Z"
   },
   {
    "duration": 15,
    "start_time": "2024-04-11T15:48:28.979Z"
   },
   {
    "duration": 6,
    "start_time": "2024-04-11T15:50:50.669Z"
   },
   {
    "duration": 14,
    "start_time": "2024-04-11T15:50:58.915Z"
   },
   {
    "duration": 384,
    "start_time": "2024-04-11T15:51:26.195Z"
   },
   {
    "duration": 346,
    "start_time": "2024-04-11T15:54:27.399Z"
   },
   {
    "duration": 343,
    "start_time": "2024-04-11T15:54:51.261Z"
   },
   {
    "duration": 8,
    "start_time": "2024-04-11T19:02:36.994Z"
   },
   {
    "duration": 47,
    "start_time": "2024-04-11T19:02:47.378Z"
   },
   {
    "duration": 1280,
    "start_time": "2024-04-11T19:02:55.581Z"
   },
   {
    "duration": 198,
    "start_time": "2024-04-11T19:02:56.863Z"
   },
   {
    "duration": 19,
    "start_time": "2024-04-11T19:02:57.063Z"
   },
   {
    "duration": 15,
    "start_time": "2024-04-11T19:02:57.084Z"
   },
   {
    "duration": 3,
    "start_time": "2024-04-11T19:02:57.101Z"
   },
   {
    "duration": 15,
    "start_time": "2024-04-11T19:02:57.106Z"
   },
   {
    "duration": 6,
    "start_time": "2024-04-11T19:02:57.122Z"
   },
   {
    "duration": 10,
    "start_time": "2024-04-11T19:02:57.129Z"
   },
   {
    "duration": 6,
    "start_time": "2024-04-11T19:02:57.140Z"
   },
   {
    "duration": 34,
    "start_time": "2024-04-11T19:02:57.147Z"
   },
   {
    "duration": 7,
    "start_time": "2024-04-11T19:02:57.182Z"
   },
   {
    "duration": 4,
    "start_time": "2024-04-11T19:02:57.190Z"
   },
   {
    "duration": 4,
    "start_time": "2024-04-11T19:02:57.196Z"
   },
   {
    "duration": 3,
    "start_time": "2024-04-11T19:02:57.203Z"
   },
   {
    "duration": 4,
    "start_time": "2024-04-11T19:02:57.208Z"
   },
   {
    "duration": 19,
    "start_time": "2024-04-11T19:02:57.213Z"
   },
   {
    "duration": 5,
    "start_time": "2024-04-11T19:02:57.234Z"
   },
   {
    "duration": 10,
    "start_time": "2024-04-11T19:02:57.240Z"
   },
   {
    "duration": 33,
    "start_time": "2024-04-11T19:02:57.251Z"
   },
   {
    "duration": 11,
    "start_time": "2024-04-11T19:02:57.287Z"
   },
   {
    "duration": 17,
    "start_time": "2024-04-11T19:02:57.300Z"
   },
   {
    "duration": 8,
    "start_time": "2024-04-11T19:02:57.319Z"
   },
   {
    "duration": 6,
    "start_time": "2024-04-11T19:02:57.329Z"
   },
   {
    "duration": 13,
    "start_time": "2024-04-11T19:02:57.337Z"
   },
   {
    "duration": 8,
    "start_time": "2024-04-11T19:02:57.352Z"
   },
   {
    "duration": 18,
    "start_time": "2024-04-11T19:02:57.362Z"
   },
   {
    "duration": 14,
    "start_time": "2024-04-11T19:02:57.382Z"
   },
   {
    "duration": 18,
    "start_time": "2024-04-11T19:02:57.397Z"
   },
   {
    "duration": 214,
    "start_time": "2024-04-11T19:02:57.417Z"
   },
   {
    "duration": 15,
    "start_time": "2024-04-11T19:02:57.632Z"
   },
   {
    "duration": 219,
    "start_time": "2024-04-11T19:02:57.648Z"
   },
   {
    "duration": 2,
    "start_time": "2024-04-11T19:02:57.868Z"
   },
   {
    "duration": 25,
    "start_time": "2024-04-11T19:02:57.872Z"
   },
   {
    "duration": 367,
    "start_time": "2024-04-11T19:02:57.898Z"
   },
   {
    "duration": 25,
    "start_time": "2024-04-11T19:02:58.268Z"
   },
   {
    "duration": 8,
    "start_time": "2024-04-11T19:02:58.295Z"
   },
   {
    "duration": 1271,
    "start_time": "2024-04-11T19:02:58.304Z"
   },
   {
    "duration": 1249,
    "start_time": "2024-04-11T19:03:19.672Z"
   },
   {
    "duration": 14,
    "start_time": "2024-04-11T19:04:03.564Z"
   },
   {
    "duration": 11,
    "start_time": "2024-04-11T19:04:13.804Z"
   },
   {
    "duration": 1105,
    "start_time": "2024-04-11T19:04:19.238Z"
   },
   {
    "duration": 54,
    "start_time": "2024-04-11T19:04:20.346Z"
   },
   {
    "duration": 20,
    "start_time": "2024-04-11T19:04:20.401Z"
   },
   {
    "duration": 23,
    "start_time": "2024-04-11T19:04:20.423Z"
   },
   {
    "duration": 10,
    "start_time": "2024-04-11T19:04:20.449Z"
   },
   {
    "duration": 21,
    "start_time": "2024-04-11T19:04:20.460Z"
   },
   {
    "duration": 18,
    "start_time": "2024-04-11T19:04:20.483Z"
   },
   {
    "duration": 20,
    "start_time": "2024-04-11T19:04:20.503Z"
   },
   {
    "duration": 5,
    "start_time": "2024-04-11T19:04:20.525Z"
   },
   {
    "duration": 19,
    "start_time": "2024-04-11T19:04:20.531Z"
   },
   {
    "duration": 29,
    "start_time": "2024-04-11T19:04:20.552Z"
   },
   {
    "duration": 6,
    "start_time": "2024-04-11T19:04:20.583Z"
   },
   {
    "duration": 8,
    "start_time": "2024-04-11T19:04:20.590Z"
   },
   {
    "duration": 4,
    "start_time": "2024-04-11T19:04:20.600Z"
   },
   {
    "duration": 8,
    "start_time": "2024-04-11T19:04:20.606Z"
   },
   {
    "duration": 39,
    "start_time": "2024-04-11T19:04:20.616Z"
   },
   {
    "duration": 38,
    "start_time": "2024-04-11T19:04:20.657Z"
   },
   {
    "duration": 14,
    "start_time": "2024-04-11T19:04:20.697Z"
   },
   {
    "duration": 8,
    "start_time": "2024-04-11T19:04:20.713Z"
   },
   {
    "duration": 23,
    "start_time": "2024-04-11T19:04:20.723Z"
   },
   {
    "duration": 42,
    "start_time": "2024-04-11T19:04:20.748Z"
   },
   {
    "duration": 26,
    "start_time": "2024-04-11T19:04:20.792Z"
   },
   {
    "duration": 40,
    "start_time": "2024-04-11T19:04:20.820Z"
   },
   {
    "duration": 10,
    "start_time": "2024-04-11T19:04:20.862Z"
   },
   {
    "duration": 12,
    "start_time": "2024-04-11T19:04:20.874Z"
   },
   {
    "duration": 12,
    "start_time": "2024-04-11T19:04:20.888Z"
   },
   {
    "duration": 20,
    "start_time": "2024-04-11T19:04:20.902Z"
   },
   {
    "duration": 40,
    "start_time": "2024-04-11T19:04:20.924Z"
   },
   {
    "duration": 234,
    "start_time": "2024-04-11T19:04:20.966Z"
   },
   {
    "duration": 14,
    "start_time": "2024-04-11T19:04:21.202Z"
   },
   {
    "duration": 209,
    "start_time": "2024-04-11T19:04:21.218Z"
   },
   {
    "duration": 2,
    "start_time": "2024-04-11T19:04:21.428Z"
   },
   {
    "duration": 28,
    "start_time": "2024-04-11T19:04:21.432Z"
   },
   {
    "duration": 353,
    "start_time": "2024-04-11T19:04:21.462Z"
   },
   {
    "duration": 15,
    "start_time": "2024-04-11T19:04:21.817Z"
   },
   {
    "duration": 16,
    "start_time": "2024-04-11T19:04:21.833Z"
   },
   {
    "duration": 1216,
    "start_time": "2024-04-11T19:04:21.851Z"
   },
   {
    "duration": 11,
    "start_time": "2024-04-11T19:05:21.325Z"
   },
   {
    "duration": 9,
    "start_time": "2024-04-11T19:05:36.107Z"
   },
   {
    "duration": 11,
    "start_time": "2024-04-11T19:05:43.958Z"
   },
   {
    "duration": 11,
    "start_time": "2024-04-11T19:06:04.743Z"
   },
   {
    "duration": 1150,
    "start_time": "2024-04-11T19:06:16.683Z"
   },
   {
    "duration": 56,
    "start_time": "2024-04-11T19:06:17.834Z"
   },
   {
    "duration": 19,
    "start_time": "2024-04-11T19:06:17.891Z"
   },
   {
    "duration": 17,
    "start_time": "2024-04-11T19:06:17.911Z"
   },
   {
    "duration": 29,
    "start_time": "2024-04-11T19:06:17.930Z"
   },
   {
    "duration": 22,
    "start_time": "2024-04-11T19:06:17.961Z"
   },
   {
    "duration": 36,
    "start_time": "2024-04-11T19:06:17.985Z"
   },
   {
    "duration": 35,
    "start_time": "2024-04-11T19:06:18.022Z"
   },
   {
    "duration": 11,
    "start_time": "2024-04-11T19:06:18.058Z"
   },
   {
    "duration": 18,
    "start_time": "2024-04-11T19:06:18.071Z"
   },
   {
    "duration": 43,
    "start_time": "2024-04-11T19:06:18.091Z"
   },
   {
    "duration": 19,
    "start_time": "2024-04-11T19:06:18.135Z"
   },
   {
    "duration": 19,
    "start_time": "2024-04-11T19:06:18.156Z"
   },
   {
    "duration": 19,
    "start_time": "2024-04-11T19:06:18.177Z"
   },
   {
    "duration": 36,
    "start_time": "2024-04-11T19:06:18.197Z"
   },
   {
    "duration": 22,
    "start_time": "2024-04-11T19:06:18.235Z"
   },
   {
    "duration": 16,
    "start_time": "2024-04-11T19:06:18.259Z"
   },
   {
    "duration": 8,
    "start_time": "2024-04-11T19:06:18.278Z"
   },
   {
    "duration": 11,
    "start_time": "2024-04-11T19:06:18.288Z"
   },
   {
    "duration": 23,
    "start_time": "2024-04-11T19:06:18.301Z"
   },
   {
    "duration": 24,
    "start_time": "2024-04-11T19:06:18.326Z"
   },
   {
    "duration": 17,
    "start_time": "2024-04-11T19:06:18.352Z"
   },
   {
    "duration": 26,
    "start_time": "2024-04-11T19:06:18.371Z"
   },
   {
    "duration": 48,
    "start_time": "2024-04-11T19:06:18.398Z"
   },
   {
    "duration": 44,
    "start_time": "2024-04-11T19:06:18.448Z"
   },
   {
    "duration": 31,
    "start_time": "2024-04-11T19:06:18.495Z"
   },
   {
    "duration": 21,
    "start_time": "2024-04-11T19:06:18.527Z"
   },
   {
    "duration": 24,
    "start_time": "2024-04-11T19:06:18.552Z"
   },
   {
    "duration": 248,
    "start_time": "2024-04-11T19:06:18.578Z"
   },
   {
    "duration": 14,
    "start_time": "2024-04-11T19:06:18.827Z"
   },
   {
    "duration": 211,
    "start_time": "2024-04-11T19:06:18.842Z"
   },
   {
    "duration": 2,
    "start_time": "2024-04-11T19:06:19.054Z"
   },
   {
    "duration": 31,
    "start_time": "2024-04-11T19:06:19.058Z"
   },
   {
    "duration": 354,
    "start_time": "2024-04-11T19:06:19.091Z"
   },
   {
    "duration": 15,
    "start_time": "2024-04-11T19:06:19.447Z"
   },
   {
    "duration": 28,
    "start_time": "2024-04-11T19:06:19.464Z"
   },
   {
    "duration": 23,
    "start_time": "2024-04-11T19:06:19.494Z"
   },
   {
    "duration": 36,
    "start_time": "2024-04-11T19:06:19.519Z"
   },
   {
    "duration": 1426,
    "start_time": "2024-04-11T19:06:19.557Z"
   },
   {
    "duration": 4,
    "start_time": "2024-04-11T19:07:53.934Z"
   },
   {
    "duration": 9,
    "start_time": "2024-04-11T19:07:55.988Z"
   },
   {
    "duration": 4,
    "start_time": "2024-04-11T19:08:22.110Z"
   },
   {
    "duration": 9,
    "start_time": "2024-04-11T19:08:33.141Z"
   },
   {
    "duration": 1170,
    "start_time": "2024-04-11T19:08:41.572Z"
   },
   {
    "duration": 54,
    "start_time": "2024-04-11T19:08:42.744Z"
   },
   {
    "duration": 19,
    "start_time": "2024-04-11T19:08:42.800Z"
   },
   {
    "duration": 20,
    "start_time": "2024-04-11T19:08:42.820Z"
   },
   {
    "duration": 3,
    "start_time": "2024-04-11T19:08:42.842Z"
   },
   {
    "duration": 22,
    "start_time": "2024-04-11T19:08:42.847Z"
   },
   {
    "duration": 16,
    "start_time": "2024-04-11T19:08:42.871Z"
   },
   {
    "duration": 16,
    "start_time": "2024-04-11T19:08:42.889Z"
   },
   {
    "duration": 27,
    "start_time": "2024-04-11T19:08:42.906Z"
   },
   {
    "duration": 18,
    "start_time": "2024-04-11T19:08:42.935Z"
   },
   {
    "duration": 19,
    "start_time": "2024-04-11T19:08:42.954Z"
   },
   {
    "duration": 5,
    "start_time": "2024-04-11T19:08:42.975Z"
   },
   {
    "duration": 14,
    "start_time": "2024-04-11T19:08:42.981Z"
   },
   {
    "duration": 9,
    "start_time": "2024-04-11T19:08:42.998Z"
   },
   {
    "duration": 9,
    "start_time": "2024-04-11T19:08:43.008Z"
   },
   {
    "duration": 20,
    "start_time": "2024-04-11T19:08:43.019Z"
   },
   {
    "duration": 18,
    "start_time": "2024-04-11T19:08:43.040Z"
   },
   {
    "duration": 30,
    "start_time": "2024-04-11T19:08:43.060Z"
   },
   {
    "duration": 8,
    "start_time": "2024-04-11T19:08:43.091Z"
   },
   {
    "duration": 5,
    "start_time": "2024-04-11T19:08:43.100Z"
   },
   {
    "duration": 23,
    "start_time": "2024-04-11T19:08:43.107Z"
   },
   {
    "duration": 6,
    "start_time": "2024-04-11T19:08:43.132Z"
   },
   {
    "duration": 6,
    "start_time": "2024-04-11T19:08:43.140Z"
   },
   {
    "duration": 15,
    "start_time": "2024-04-11T19:08:43.148Z"
   },
   {
    "duration": 5,
    "start_time": "2024-04-11T19:08:43.164Z"
   },
   {
    "duration": 9,
    "start_time": "2024-04-11T19:08:43.171Z"
   },
   {
    "duration": 14,
    "start_time": "2024-04-11T19:08:43.181Z"
   },
   {
    "duration": 14,
    "start_time": "2024-04-11T19:08:43.197Z"
   },
   {
    "duration": 212,
    "start_time": "2024-04-11T19:08:43.213Z"
   },
   {
    "duration": 16,
    "start_time": "2024-04-11T19:08:43.427Z"
   },
   {
    "duration": 237,
    "start_time": "2024-04-11T19:08:43.445Z"
   },
   {
    "duration": 2,
    "start_time": "2024-04-11T19:08:43.684Z"
   },
   {
    "duration": 28,
    "start_time": "2024-04-11T19:08:43.688Z"
   },
   {
    "duration": 368,
    "start_time": "2024-04-11T19:08:43.717Z"
   },
   {
    "duration": 15,
    "start_time": "2024-04-11T19:08:44.087Z"
   },
   {
    "duration": 13,
    "start_time": "2024-04-11T19:08:44.103Z"
   },
   {
    "duration": 14,
    "start_time": "2024-04-11T19:08:44.118Z"
   },
   {
    "duration": 17,
    "start_time": "2024-04-11T19:08:44.133Z"
   },
   {
    "duration": 332,
    "start_time": "2024-04-11T19:08:44.151Z"
   },
   {
    "duration": 6,
    "start_time": "2024-04-11T19:12:15.711Z"
   },
   {
    "duration": 6,
    "start_time": "2024-04-11T19:14:01.154Z"
   },
   {
    "duration": 1296,
    "start_time": "2024-04-11T19:16:17.865Z"
   },
   {
    "duration": 6,
    "start_time": "2024-04-11T19:17:32.162Z"
   },
   {
    "duration": 12,
    "start_time": "2024-04-11T19:18:43.884Z"
   },
   {
    "duration": 5,
    "start_time": "2024-04-11T19:18:53.919Z"
   },
   {
    "duration": 6,
    "start_time": "2024-04-11T19:19:32.122Z"
   },
   {
    "duration": 15,
    "start_time": "2024-04-11T19:19:46.005Z"
   },
   {
    "duration": 12,
    "start_time": "2024-04-11T19:20:00.870Z"
   },
   {
    "duration": 1201,
    "start_time": "2024-04-11T19:20:11.158Z"
   },
   {
    "duration": 56,
    "start_time": "2024-04-11T19:20:12.362Z"
   },
   {
    "duration": 21,
    "start_time": "2024-04-11T19:20:12.420Z"
   },
   {
    "duration": 15,
    "start_time": "2024-04-11T19:20:12.443Z"
   },
   {
    "duration": 3,
    "start_time": "2024-04-11T19:20:12.461Z"
   },
   {
    "duration": 28,
    "start_time": "2024-04-11T19:20:12.465Z"
   },
   {
    "duration": 19,
    "start_time": "2024-04-11T19:20:12.494Z"
   },
   {
    "duration": 12,
    "start_time": "2024-04-11T19:20:12.514Z"
   },
   {
    "duration": 21,
    "start_time": "2024-04-11T19:20:12.528Z"
   },
   {
    "duration": 13,
    "start_time": "2024-04-11T19:20:12.551Z"
   },
   {
    "duration": 14,
    "start_time": "2024-04-11T19:20:12.566Z"
   },
   {
    "duration": 7,
    "start_time": "2024-04-11T19:20:12.582Z"
   },
   {
    "duration": 12,
    "start_time": "2024-04-11T19:20:12.591Z"
   },
   {
    "duration": 4,
    "start_time": "2024-04-11T19:20:12.616Z"
   },
   {
    "duration": 10,
    "start_time": "2024-04-11T19:20:12.622Z"
   },
   {
    "duration": 20,
    "start_time": "2024-04-11T19:20:12.634Z"
   },
   {
    "duration": 9,
    "start_time": "2024-04-11T19:20:12.656Z"
   },
   {
    "duration": 5,
    "start_time": "2024-04-11T19:20:12.681Z"
   },
   {
    "duration": 13,
    "start_time": "2024-04-11T19:20:12.688Z"
   },
   {
    "duration": 20,
    "start_time": "2024-04-11T19:20:12.703Z"
   },
   {
    "duration": 22,
    "start_time": "2024-04-11T19:20:12.724Z"
   },
   {
    "duration": 6,
    "start_time": "2024-04-11T19:20:12.748Z"
   },
   {
    "duration": 5,
    "start_time": "2024-04-11T19:20:12.756Z"
   },
   {
    "duration": 9,
    "start_time": "2024-04-11T19:20:12.762Z"
   },
   {
    "duration": 4,
    "start_time": "2024-04-11T19:20:12.781Z"
   },
   {
    "duration": 22,
    "start_time": "2024-04-11T19:20:12.787Z"
   },
   {
    "duration": 18,
    "start_time": "2024-04-11T19:20:12.811Z"
   },
   {
    "duration": 16,
    "start_time": "2024-04-11T19:20:12.831Z"
   },
   {
    "duration": 214,
    "start_time": "2024-04-11T19:20:12.848Z"
   },
   {
    "duration": 18,
    "start_time": "2024-04-11T19:20:13.064Z"
   },
   {
    "duration": 218,
    "start_time": "2024-04-11T19:20:13.083Z"
   },
   {
    "duration": 2,
    "start_time": "2024-04-11T19:20:13.303Z"
   },
   {
    "duration": 45,
    "start_time": "2024-04-11T19:20:13.306Z"
   },
   {
    "duration": 361,
    "start_time": "2024-04-11T19:20:13.353Z"
   },
   {
    "duration": 17,
    "start_time": "2024-04-11T19:20:13.715Z"
   },
   {
    "duration": 28,
    "start_time": "2024-04-11T19:20:13.733Z"
   },
   {
    "duration": 6,
    "start_time": "2024-04-11T19:20:13.763Z"
   },
   {
    "duration": 18,
    "start_time": "2024-04-11T19:20:13.771Z"
   },
   {
    "duration": 352,
    "start_time": "2024-04-11T19:20:13.791Z"
   },
   {
    "duration": 12,
    "start_time": "2024-04-11T19:20:14.145Z"
   },
   {
    "duration": 91,
    "start_time": "2024-04-11T19:21:07.313Z"
   },
   {
    "duration": 97,
    "start_time": "2024-04-11T19:21:25.330Z"
   },
   {
    "duration": 100,
    "start_time": "2024-04-11T19:22:36.534Z"
   },
   {
    "duration": 94,
    "start_time": "2024-04-11T19:23:35.017Z"
   },
   {
    "duration": 13,
    "start_time": "2024-04-11T19:23:41.431Z"
   },
   {
    "duration": 4,
    "start_time": "2024-04-11T19:23:56.310Z"
   },
   {
    "duration": 13,
    "start_time": "2024-04-11T19:24:39.302Z"
   },
   {
    "duration": 4,
    "start_time": "2024-04-11T19:24:42.174Z"
   },
   {
    "duration": 7,
    "start_time": "2024-04-11T19:27:31.598Z"
   },
   {
    "duration": 95,
    "start_time": "2024-04-11T19:28:08.042Z"
   },
   {
    "duration": 18,
    "start_time": "2024-04-11T19:28:13.141Z"
   },
   {
    "duration": 4,
    "start_time": "2024-04-11T19:28:14.047Z"
   },
   {
    "duration": 331,
    "start_time": "2024-04-11T19:28:17.586Z"
   },
   {
    "duration": 411,
    "start_time": "2024-04-11T19:29:22.522Z"
   },
   {
    "duration": 120,
    "start_time": "2024-04-11T19:40:46.392Z"
   },
   {
    "duration": 94,
    "start_time": "2024-04-11T19:40:59.289Z"
   },
   {
    "duration": 93,
    "start_time": "2024-04-11T19:41:03.468Z"
   },
   {
    "duration": 233,
    "start_time": "2024-04-11T19:41:26.689Z"
   },
   {
    "duration": 57,
    "start_time": "2024-04-11T19:48:41.562Z"
   },
   {
    "duration": 106,
    "start_time": "2024-04-11T19:49:39.296Z"
   },
   {
    "duration": 28,
    "start_time": "2024-04-11T19:49:59.897Z"
   },
   {
    "duration": 257,
    "start_time": "2024-04-11T19:50:16.393Z"
   },
   {
    "duration": 261,
    "start_time": "2024-04-11T19:50:34.337Z"
   },
   {
    "duration": 268,
    "start_time": "2024-04-11T19:52:53.386Z"
   },
   {
    "duration": 9,
    "start_time": "2024-04-11T19:53:55.636Z"
   },
   {
    "duration": 152,
    "start_time": "2024-04-11T20:00:29.808Z"
   },
   {
    "duration": 10,
    "start_time": "2024-04-11T20:01:16.860Z"
   },
   {
    "duration": 226,
    "start_time": "2024-04-11T20:05:20.211Z"
   },
   {
    "duration": 10,
    "start_time": "2024-04-11T20:05:25.598Z"
   },
   {
    "duration": 149,
    "start_time": "2024-04-11T20:06:36.214Z"
   },
   {
    "duration": 17,
    "start_time": "2024-04-11T20:06:40.503Z"
   },
   {
    "duration": 146,
    "start_time": "2024-04-11T20:13:06.937Z"
   },
   {
    "duration": 9,
    "start_time": "2024-04-11T20:13:29.599Z"
   },
   {
    "duration": 221,
    "start_time": "2024-04-11T20:18:26.059Z"
   },
   {
    "duration": 225,
    "start_time": "2024-04-11T20:18:55.663Z"
   },
   {
    "duration": 46,
    "start_time": "2024-04-12T15:02:57.076Z"
   },
   {
    "duration": 1301,
    "start_time": "2024-04-12T15:03:03.402Z"
   },
   {
    "duration": 185,
    "start_time": "2024-04-12T15:03:04.705Z"
   },
   {
    "duration": 17,
    "start_time": "2024-04-12T15:03:04.892Z"
   },
   {
    "duration": 71,
    "start_time": "2024-04-12T15:03:04.911Z"
   },
   {
    "duration": 12,
    "start_time": "2024-04-12T15:03:04.985Z"
   },
   {
    "duration": 33,
    "start_time": "2024-04-12T15:03:04.999Z"
   },
   {
    "duration": 36,
    "start_time": "2024-04-12T15:03:05.033Z"
   },
   {
    "duration": 43,
    "start_time": "2024-04-12T15:03:05.071Z"
   },
   {
    "duration": 58,
    "start_time": "2024-04-12T15:03:05.116Z"
   },
   {
    "duration": 64,
    "start_time": "2024-04-12T15:03:05.176Z"
   },
   {
    "duration": 32,
    "start_time": "2024-04-12T15:03:05.242Z"
   },
   {
    "duration": 48,
    "start_time": "2024-04-12T15:03:05.275Z"
   },
   {
    "duration": 15,
    "start_time": "2024-04-12T15:03:05.325Z"
   },
   {
    "duration": 45,
    "start_time": "2024-04-12T15:03:05.344Z"
   },
   {
    "duration": 23,
    "start_time": "2024-04-12T15:03:05.391Z"
   },
   {
    "duration": 51,
    "start_time": "2024-04-12T15:03:05.415Z"
   },
   {
    "duration": 25,
    "start_time": "2024-04-12T15:03:05.468Z"
   },
   {
    "duration": 38,
    "start_time": "2024-04-12T15:03:05.496Z"
   },
   {
    "duration": 24,
    "start_time": "2024-04-12T15:03:05.536Z"
   },
   {
    "duration": 28,
    "start_time": "2024-04-12T15:03:05.561Z"
   },
   {
    "duration": 31,
    "start_time": "2024-04-12T15:03:05.591Z"
   },
   {
    "duration": 19,
    "start_time": "2024-04-12T15:03:05.624Z"
   },
   {
    "duration": 25,
    "start_time": "2024-04-12T15:03:05.645Z"
   },
   {
    "duration": 26,
    "start_time": "2024-04-12T15:03:05.671Z"
   },
   {
    "duration": 26,
    "start_time": "2024-04-12T15:03:05.698Z"
   },
   {
    "duration": 18,
    "start_time": "2024-04-12T15:03:05.725Z"
   },
   {
    "duration": 22,
    "start_time": "2024-04-12T15:03:05.745Z"
   },
   {
    "duration": 24,
    "start_time": "2024-04-12T15:03:05.769Z"
   },
   {
    "duration": 195,
    "start_time": "2024-04-12T15:03:05.795Z"
   },
   {
    "duration": 14,
    "start_time": "2024-04-12T15:03:05.992Z"
   },
   {
    "duration": 200,
    "start_time": "2024-04-12T15:03:06.007Z"
   },
   {
    "duration": 2,
    "start_time": "2024-04-12T15:03:06.209Z"
   },
   {
    "duration": 26,
    "start_time": "2024-04-12T15:03:06.213Z"
   },
   {
    "duration": 361,
    "start_time": "2024-04-12T15:03:06.241Z"
   },
   {
    "duration": 14,
    "start_time": "2024-04-12T15:03:06.603Z"
   },
   {
    "duration": 62,
    "start_time": "2024-04-12T15:03:06.619Z"
   },
   {
    "duration": 16,
    "start_time": "2024-04-12T15:03:06.683Z"
   },
   {
    "duration": 27,
    "start_time": "2024-04-12T15:03:06.700Z"
   },
   {
    "duration": 314,
    "start_time": "2024-04-12T15:03:06.728Z"
   },
   {
    "duration": 11,
    "start_time": "2024-04-12T15:03:07.043Z"
   },
   {
    "duration": 42,
    "start_time": "2024-04-12T15:03:07.057Z"
   },
   {
    "duration": 62,
    "start_time": "2024-04-12T15:03:07.100Z"
   },
   {
    "duration": 428,
    "start_time": "2024-04-12T15:03:07.163Z"
   },
   {
    "duration": 335,
    "start_time": "2024-04-12T15:03:07.592Z"
   },
   {
    "duration": 8,
    "start_time": "2024-04-12T15:03:07.928Z"
   },
   {
    "duration": 182,
    "start_time": "2024-04-12T15:03:07.937Z"
   },
   {
    "duration": 9,
    "start_time": "2024-04-12T15:03:08.120Z"
   },
   {
    "duration": 173,
    "start_time": "2024-04-12T15:03:08.130Z"
   },
   {
    "duration": 10,
    "start_time": "2024-04-12T15:03:08.304Z"
   },
   {
    "duration": 114,
    "start_time": "2024-04-12T15:03:08.315Z"
   },
   {
    "duration": 1,
    "start_time": "2024-04-12T15:03:08.430Z"
   },
   {
    "duration": 0,
    "start_time": "2024-04-12T15:03:08.431Z"
   },
   {
    "duration": 77,
    "start_time": "2024-04-12T15:03:16.747Z"
   },
   {
    "duration": 14,
    "start_time": "2024-04-12T15:09:08.787Z"
   },
   {
    "duration": 72,
    "start_time": "2024-04-12T15:09:17.636Z"
   },
   {
    "duration": 86,
    "start_time": "2024-04-12T15:10:18.361Z"
   },
   {
    "duration": 87,
    "start_time": "2024-04-12T15:11:53.171Z"
   },
   {
    "duration": 83,
    "start_time": "2024-04-12T15:14:09.860Z"
   },
   {
    "duration": 211,
    "start_time": "2024-04-12T15:14:46.366Z"
   },
   {
    "duration": 207,
    "start_time": "2024-04-12T15:15:03.632Z"
   },
   {
    "duration": 154,
    "start_time": "2024-04-12T15:15:23.147Z"
   },
   {
    "duration": 93,
    "start_time": "2024-04-12T15:15:32.174Z"
   },
   {
    "duration": 89,
    "start_time": "2024-04-12T15:16:09.883Z"
   },
   {
    "duration": 101,
    "start_time": "2024-04-12T15:17:00.902Z"
   },
   {
    "duration": 88,
    "start_time": "2024-04-12T15:19:00.220Z"
   },
   {
    "duration": 98,
    "start_time": "2024-04-12T15:19:20.941Z"
   },
   {
    "duration": 232,
    "start_time": "2024-04-12T15:31:03.549Z"
   },
   {
    "duration": 116,
    "start_time": "2024-04-12T15:31:12.340Z"
   },
   {
    "duration": 119,
    "start_time": "2024-04-12T15:31:47.665Z"
   },
   {
    "duration": 120,
    "start_time": "2024-04-12T15:32:10.541Z"
   },
   {
    "duration": 119,
    "start_time": "2024-04-12T15:32:16.483Z"
   },
   {
    "duration": 118,
    "start_time": "2024-04-12T15:32:22.806Z"
   },
   {
    "duration": 133,
    "start_time": "2024-04-12T15:41:17.023Z"
   },
   {
    "duration": 3,
    "start_time": "2024-04-12T15:50:33.075Z"
   },
   {
    "duration": 4,
    "start_time": "2024-04-12T15:51:20.166Z"
   },
   {
    "duration": 3,
    "start_time": "2024-04-12T15:51:26.172Z"
   },
   {
    "duration": 1140,
    "start_time": "2024-04-12T15:51:31.472Z"
   },
   {
    "duration": 4,
    "start_time": "2024-04-12T15:52:02.796Z"
   },
   {
    "duration": 89,
    "start_time": "2024-04-12T15:55:43.360Z"
   },
   {
    "duration": 10,
    "start_time": "2024-04-12T15:56:05.458Z"
   },
   {
    "duration": 13,
    "start_time": "2024-04-12T15:56:41.332Z"
   },
   {
    "duration": 13,
    "start_time": "2024-04-12T16:02:08.155Z"
   },
   {
    "duration": 92,
    "start_time": "2024-04-12T16:04:58.591Z"
   },
   {
    "duration": 95,
    "start_time": "2024-04-12T16:05:16.259Z"
   },
   {
    "duration": 13,
    "start_time": "2024-04-12T16:05:25.658Z"
   },
   {
    "duration": 90,
    "start_time": "2024-04-12T16:05:43.785Z"
   },
   {
    "duration": 13,
    "start_time": "2024-04-12T16:05:47.747Z"
   },
   {
    "duration": 13,
    "start_time": "2024-04-12T16:06:23.124Z"
   },
   {
    "duration": 93,
    "start_time": "2024-04-12T16:08:44.069Z"
   },
   {
    "duration": 1307,
    "start_time": "2024-04-12T18:45:40.090Z"
   },
   {
    "duration": 185,
    "start_time": "2024-04-12T18:45:41.399Z"
   },
   {
    "duration": 17,
    "start_time": "2024-04-12T18:45:41.585Z"
   },
   {
    "duration": 14,
    "start_time": "2024-04-12T18:45:41.604Z"
   },
   {
    "duration": 2,
    "start_time": "2024-04-12T18:45:41.620Z"
   },
   {
    "duration": 39,
    "start_time": "2024-04-12T18:45:41.624Z"
   },
   {
    "duration": 9,
    "start_time": "2024-04-12T18:45:41.664Z"
   },
   {
    "duration": 9,
    "start_time": "2024-04-12T18:45:41.674Z"
   },
   {
    "duration": 4,
    "start_time": "2024-04-12T18:45:41.684Z"
   },
   {
    "duration": 7,
    "start_time": "2024-04-12T18:45:41.689Z"
   },
   {
    "duration": 7,
    "start_time": "2024-04-12T18:45:41.697Z"
   },
   {
    "duration": 8,
    "start_time": "2024-04-12T18:45:41.705Z"
   },
   {
    "duration": 4,
    "start_time": "2024-04-12T18:45:41.714Z"
   },
   {
    "duration": 12,
    "start_time": "2024-04-12T18:45:41.720Z"
   },
   {
    "duration": 4,
    "start_time": "2024-04-12T18:45:41.733Z"
   },
   {
    "duration": 12,
    "start_time": "2024-04-12T18:45:41.739Z"
   },
   {
    "duration": 18,
    "start_time": "2024-04-12T18:45:41.752Z"
   },
   {
    "duration": 9,
    "start_time": "2024-04-12T18:45:41.771Z"
   },
   {
    "duration": 20,
    "start_time": "2024-04-12T18:45:41.781Z"
   },
   {
    "duration": 6,
    "start_time": "2024-04-12T18:45:41.802Z"
   },
   {
    "duration": 25,
    "start_time": "2024-04-12T18:45:41.809Z"
   },
   {
    "duration": 9,
    "start_time": "2024-04-12T18:45:41.835Z"
   },
   {
    "duration": 18,
    "start_time": "2024-04-12T18:45:41.846Z"
   },
   {
    "duration": 16,
    "start_time": "2024-04-12T18:45:41.865Z"
   },
   {
    "duration": 9,
    "start_time": "2024-04-12T18:45:41.883Z"
   },
   {
    "duration": 6,
    "start_time": "2024-04-12T18:45:41.894Z"
   },
   {
    "duration": 25,
    "start_time": "2024-04-12T18:45:41.901Z"
   },
   {
    "duration": 34,
    "start_time": "2024-04-12T18:45:41.928Z"
   },
   {
    "duration": 177,
    "start_time": "2024-04-12T18:45:41.963Z"
   },
   {
    "duration": 13,
    "start_time": "2024-04-12T18:45:42.142Z"
   },
   {
    "duration": 185,
    "start_time": "2024-04-12T18:45:42.156Z"
   },
   {
    "duration": 2,
    "start_time": "2024-04-12T18:45:42.343Z"
   },
   {
    "duration": 29,
    "start_time": "2024-04-12T18:45:42.346Z"
   },
   {
    "duration": 326,
    "start_time": "2024-04-12T18:45:42.376Z"
   },
   {
    "duration": 14,
    "start_time": "2024-04-12T18:45:42.703Z"
   },
   {
    "duration": 20,
    "start_time": "2024-04-12T18:45:42.719Z"
   },
   {
    "duration": 21,
    "start_time": "2024-04-12T18:45:42.741Z"
   },
   {
    "duration": 17,
    "start_time": "2024-04-12T18:45:42.764Z"
   },
   {
    "duration": 284,
    "start_time": "2024-04-12T18:45:42.782Z"
   },
   {
    "duration": 12,
    "start_time": "2024-04-12T18:45:43.068Z"
   },
   {
    "duration": 4,
    "start_time": "2024-04-12T18:45:43.093Z"
   },
   {
    "duration": 6,
    "start_time": "2024-04-12T18:45:43.098Z"
   },
   {
    "duration": 309,
    "start_time": "2024-04-12T18:45:43.105Z"
   },
   {
    "duration": 336,
    "start_time": "2024-04-12T18:45:43.416Z"
   },
   {
    "duration": 7,
    "start_time": "2024-04-12T18:45:43.753Z"
   },
   {
    "duration": 145,
    "start_time": "2024-04-12T18:45:43.762Z"
   },
   {
    "duration": 8,
    "start_time": "2024-04-12T18:45:43.908Z"
   },
   {
    "duration": 141,
    "start_time": "2024-04-12T18:45:43.917Z"
   },
   {
    "duration": 8,
    "start_time": "2024-04-12T18:45:44.060Z"
   },
   {
    "duration": 96,
    "start_time": "2024-04-12T18:45:44.069Z"
   },
   {
    "duration": 0,
    "start_time": "2024-04-12T18:45:44.166Z"
   },
   {
    "duration": 0,
    "start_time": "2024-04-12T18:45:44.168Z"
   },
   {
    "duration": 0,
    "start_time": "2024-04-12T18:45:44.169Z"
   },
   {
    "duration": 0,
    "start_time": "2024-04-12T18:45:44.170Z"
   },
   {
    "duration": 0,
    "start_time": "2024-04-12T18:45:44.171Z"
   },
   {
    "duration": 0,
    "start_time": "2024-04-12T18:45:44.172Z"
   },
   {
    "duration": 0,
    "start_time": "2024-04-12T18:45:44.173Z"
   },
   {
    "duration": 0,
    "start_time": "2024-04-12T18:45:44.174Z"
   },
   {
    "duration": 0,
    "start_time": "2024-04-12T18:45:44.175Z"
   },
   {
    "duration": 0,
    "start_time": "2024-04-12T18:45:44.177Z"
   },
   {
    "duration": 0,
    "start_time": "2024-04-12T18:45:44.178Z"
   },
   {
    "duration": 0,
    "start_time": "2024-04-12T18:45:44.179Z"
   },
   {
    "duration": 0,
    "start_time": "2024-04-12T18:45:44.180Z"
   },
   {
    "duration": 0,
    "start_time": "2024-04-12T18:45:44.181Z"
   },
   {
    "duration": 95,
    "start_time": "2024-04-12T18:59:03.373Z"
   },
   {
    "duration": 1416,
    "start_time": "2024-04-13T12:20:46.344Z"
   },
   {
    "duration": 197,
    "start_time": "2024-04-13T12:20:47.762Z"
   },
   {
    "duration": 18,
    "start_time": "2024-04-13T12:20:47.960Z"
   },
   {
    "duration": 15,
    "start_time": "2024-04-13T12:20:47.979Z"
   },
   {
    "duration": 5,
    "start_time": "2024-04-13T12:20:47.996Z"
   },
   {
    "duration": 19,
    "start_time": "2024-04-13T12:20:48.002Z"
   },
   {
    "duration": 6,
    "start_time": "2024-04-13T12:20:48.022Z"
   },
   {
    "duration": 7,
    "start_time": "2024-04-13T12:20:48.030Z"
   },
   {
    "duration": 8,
    "start_time": "2024-04-13T12:20:48.039Z"
   },
   {
    "duration": 22,
    "start_time": "2024-04-13T12:20:48.049Z"
   },
   {
    "duration": 8,
    "start_time": "2024-04-13T12:20:48.073Z"
   },
   {
    "duration": 9,
    "start_time": "2024-04-13T12:20:48.083Z"
   },
   {
    "duration": 5,
    "start_time": "2024-04-13T12:20:48.094Z"
   },
   {
    "duration": 6,
    "start_time": "2024-04-13T12:20:48.102Z"
   },
   {
    "duration": 6,
    "start_time": "2024-04-13T12:20:48.110Z"
   },
   {
    "duration": 28,
    "start_time": "2024-04-13T12:20:48.118Z"
   },
   {
    "duration": 18,
    "start_time": "2024-04-13T12:20:48.153Z"
   },
   {
    "duration": 24,
    "start_time": "2024-04-13T12:20:48.173Z"
   },
   {
    "duration": 8,
    "start_time": "2024-04-13T12:20:48.199Z"
   },
   {
    "duration": 7,
    "start_time": "2024-04-13T12:20:48.209Z"
   },
   {
    "duration": 15,
    "start_time": "2024-04-13T12:20:48.218Z"
   },
   {
    "duration": 8,
    "start_time": "2024-04-13T12:20:48.235Z"
   },
   {
    "duration": 8,
    "start_time": "2024-04-13T12:20:48.244Z"
   },
   {
    "duration": 20,
    "start_time": "2024-04-13T12:20:48.254Z"
   },
   {
    "duration": 7,
    "start_time": "2024-04-13T12:20:48.276Z"
   },
   {
    "duration": 14,
    "start_time": "2024-04-13T12:20:48.285Z"
   },
   {
    "duration": 16,
    "start_time": "2024-04-13T12:20:48.301Z"
   },
   {
    "duration": 20,
    "start_time": "2024-04-13T12:20:48.319Z"
   },
   {
    "duration": 220,
    "start_time": "2024-04-13T12:20:48.341Z"
   },
   {
    "duration": 19,
    "start_time": "2024-04-13T12:20:48.563Z"
   },
   {
    "duration": 224,
    "start_time": "2024-04-13T12:20:48.584Z"
   },
   {
    "duration": 3,
    "start_time": "2024-04-13T12:20:48.809Z"
   },
   {
    "duration": 14,
    "start_time": "2024-04-13T12:20:48.813Z"
   },
   {
    "duration": 376,
    "start_time": "2024-04-13T12:20:48.829Z"
   },
   {
    "duration": 16,
    "start_time": "2024-04-13T12:20:49.207Z"
   },
   {
    "duration": 14,
    "start_time": "2024-04-13T12:20:49.225Z"
   },
   {
    "duration": 6,
    "start_time": "2024-04-13T12:20:49.240Z"
   },
   {
    "duration": 23,
    "start_time": "2024-04-13T12:20:49.247Z"
   },
   {
    "duration": 354,
    "start_time": "2024-04-13T12:20:49.272Z"
   },
   {
    "duration": 12,
    "start_time": "2024-04-13T12:20:49.628Z"
   },
   {
    "duration": 3,
    "start_time": "2024-04-13T12:20:49.645Z"
   },
   {
    "duration": 21,
    "start_time": "2024-04-13T12:20:49.650Z"
   },
   {
    "duration": 365,
    "start_time": "2024-04-13T12:20:49.673Z"
   },
   {
    "duration": 361,
    "start_time": "2024-04-13T12:20:50.039Z"
   },
   {
    "duration": 8,
    "start_time": "2024-04-13T12:20:50.402Z"
   },
   {
    "duration": 190,
    "start_time": "2024-04-13T12:20:50.412Z"
   },
   {
    "duration": 10,
    "start_time": "2024-04-13T12:20:50.604Z"
   },
   {
    "duration": 168,
    "start_time": "2024-04-13T12:20:50.615Z"
   },
   {
    "duration": 10,
    "start_time": "2024-04-13T12:20:50.785Z"
   },
   {
    "duration": 250,
    "start_time": "2024-04-13T12:20:50.797Z"
   },
   {
    "duration": 21,
    "start_time": "2024-04-13T12:20:51.050Z"
   },
   {
    "duration": 104,
    "start_time": "2024-04-13T12:20:51.073Z"
   },
   {
    "duration": 117,
    "start_time": "2024-04-13T12:20:51.179Z"
   },
   {
    "duration": 113,
    "start_time": "2024-04-13T12:20:51.298Z"
   },
   {
    "duration": 114,
    "start_time": "2024-04-13T12:20:51.413Z"
   },
   {
    "duration": 113,
    "start_time": "2024-04-13T12:20:51.528Z"
   },
   {
    "duration": 111,
    "start_time": "2024-04-13T12:20:51.643Z"
   },
   {
    "duration": 229,
    "start_time": "2024-04-13T12:20:51.756Z"
   },
   {
    "duration": 134,
    "start_time": "2024-04-13T12:20:51.987Z"
   },
   {
    "duration": 139,
    "start_time": "2024-04-13T12:20:52.123Z"
   },
   {
    "duration": 4,
    "start_time": "2024-04-13T12:20:52.270Z"
   },
   {
    "duration": 30,
    "start_time": "2024-04-13T12:20:52.275Z"
   },
   {
    "duration": 14,
    "start_time": "2024-04-13T12:20:52.307Z"
   },
   {
    "duration": 57,
    "start_time": "2024-04-13T18:02:13.413Z"
   },
   {
    "duration": 1246,
    "start_time": "2024-04-13T18:02:19.935Z"
   },
   {
    "duration": 185,
    "start_time": "2024-04-13T18:02:21.183Z"
   },
   {
    "duration": 15,
    "start_time": "2024-04-13T18:02:21.370Z"
   },
   {
    "duration": 31,
    "start_time": "2024-04-13T18:02:21.387Z"
   },
   {
    "duration": 30,
    "start_time": "2024-04-13T18:02:21.420Z"
   },
   {
    "duration": 44,
    "start_time": "2024-04-13T18:02:21.452Z"
   },
   {
    "duration": 45,
    "start_time": "2024-04-13T18:02:21.497Z"
   },
   {
    "duration": 51,
    "start_time": "2024-04-13T18:02:21.544Z"
   },
   {
    "duration": 22,
    "start_time": "2024-04-13T18:02:21.596Z"
   },
   {
    "duration": 30,
    "start_time": "2024-04-13T18:02:21.620Z"
   },
   {
    "duration": 44,
    "start_time": "2024-04-13T18:02:21.652Z"
   },
   {
    "duration": 31,
    "start_time": "2024-04-13T18:02:21.698Z"
   },
   {
    "duration": 25,
    "start_time": "2024-04-13T18:02:21.730Z"
   },
   {
    "duration": 27,
    "start_time": "2024-04-13T18:02:21.757Z"
   },
   {
    "duration": 52,
    "start_time": "2024-04-13T18:02:21.785Z"
   },
   {
    "duration": 50,
    "start_time": "2024-04-13T18:02:21.839Z"
   },
   {
    "duration": 24,
    "start_time": "2024-04-13T18:02:21.891Z"
   },
   {
    "duration": 33,
    "start_time": "2024-04-13T18:02:21.917Z"
   },
   {
    "duration": 43,
    "start_time": "2024-04-13T18:02:21.952Z"
   },
   {
    "duration": 33,
    "start_time": "2024-04-13T18:02:21.997Z"
   },
   {
    "duration": 35,
    "start_time": "2024-04-13T18:02:22.031Z"
   },
   {
    "duration": 18,
    "start_time": "2024-04-13T18:02:22.068Z"
   },
   {
    "duration": 13,
    "start_time": "2024-04-13T18:02:22.087Z"
   },
   {
    "duration": 15,
    "start_time": "2024-04-13T18:02:22.101Z"
   },
   {
    "duration": 33,
    "start_time": "2024-04-13T18:02:22.117Z"
   },
   {
    "duration": 46,
    "start_time": "2024-04-13T18:02:22.151Z"
   },
   {
    "duration": 34,
    "start_time": "2024-04-13T18:02:22.198Z"
   },
   {
    "duration": 30,
    "start_time": "2024-04-13T18:02:22.235Z"
   },
   {
    "duration": 199,
    "start_time": "2024-04-13T18:02:22.266Z"
   },
   {
    "duration": 12,
    "start_time": "2024-04-13T18:02:22.467Z"
   },
   {
    "duration": 189,
    "start_time": "2024-04-13T18:02:22.480Z"
   },
   {
    "duration": 2,
    "start_time": "2024-04-13T18:02:22.671Z"
   },
   {
    "duration": 18,
    "start_time": "2024-04-13T18:02:22.674Z"
   },
   {
    "duration": 333,
    "start_time": "2024-04-13T18:02:22.693Z"
   },
   {
    "duration": 15,
    "start_time": "2024-04-13T18:02:23.027Z"
   },
   {
    "duration": 24,
    "start_time": "2024-04-13T18:02:23.044Z"
   },
   {
    "duration": 31,
    "start_time": "2024-04-13T18:02:23.070Z"
   },
   {
    "duration": 33,
    "start_time": "2024-04-13T18:02:23.103Z"
   },
   {
    "duration": 295,
    "start_time": "2024-04-13T18:02:23.138Z"
   },
   {
    "duration": 11,
    "start_time": "2024-04-13T18:02:23.435Z"
   },
   {
    "duration": 38,
    "start_time": "2024-04-13T18:02:23.448Z"
   },
   {
    "duration": 60,
    "start_time": "2024-04-13T18:02:23.488Z"
   },
   {
    "duration": 305,
    "start_time": "2024-04-13T18:02:23.550Z"
   },
   {
    "duration": 312,
    "start_time": "2024-04-13T18:02:23.857Z"
   },
   {
    "duration": 7,
    "start_time": "2024-04-13T18:02:24.171Z"
   },
   {
    "duration": 149,
    "start_time": "2024-04-13T18:02:24.179Z"
   },
   {
    "duration": 12,
    "start_time": "2024-04-13T18:02:24.329Z"
   },
   {
    "duration": 182,
    "start_time": "2024-04-13T18:02:24.343Z"
   },
   {
    "duration": 8,
    "start_time": "2024-04-13T18:02:24.526Z"
   },
   {
    "duration": 227,
    "start_time": "2024-04-13T18:02:24.536Z"
   },
   {
    "duration": 13,
    "start_time": "2024-04-13T18:02:24.764Z"
   },
   {
    "duration": 95,
    "start_time": "2024-04-13T18:02:24.778Z"
   },
   {
    "duration": 96,
    "start_time": "2024-04-13T18:02:24.874Z"
   },
   {
    "duration": 105,
    "start_time": "2024-04-13T18:02:24.971Z"
   },
   {
    "duration": 93,
    "start_time": "2024-04-13T18:02:25.077Z"
   },
   {
    "duration": 88,
    "start_time": "2024-04-13T18:02:25.172Z"
   },
   {
    "duration": 107,
    "start_time": "2024-04-13T18:02:25.261Z"
   },
   {
    "duration": 204,
    "start_time": "2024-04-13T18:02:25.369Z"
   },
   {
    "duration": 130,
    "start_time": "2024-04-13T18:02:25.574Z"
   },
   {
    "duration": 127,
    "start_time": "2024-04-13T18:02:25.705Z"
   },
   {
    "duration": 11,
    "start_time": "2024-04-13T18:02:25.833Z"
   },
   {
    "duration": 39,
    "start_time": "2024-04-13T18:02:25.846Z"
   },
   {
    "duration": 37,
    "start_time": "2024-04-13T18:02:25.887Z"
   },
   {
    "duration": 4,
    "start_time": "2024-04-13T18:02:43.204Z"
   },
   {
    "duration": 16,
    "start_time": "2024-04-13T18:02:45.290Z"
   },
   {
    "duration": 262,
    "start_time": "2024-04-13T18:05:53.731Z"
   },
   {
    "duration": 235,
    "start_time": "2024-04-13T18:06:09.525Z"
   },
   {
    "duration": 233,
    "start_time": "2024-04-13T18:06:15.105Z"
   },
   {
    "duration": 29,
    "start_time": "2024-04-13T18:07:26.141Z"
   },
   {
    "duration": 110,
    "start_time": "2024-04-13T18:08:24.594Z"
   },
   {
    "duration": 19,
    "start_time": "2024-04-13T18:08:42.791Z"
   },
   {
    "duration": 19,
    "start_time": "2024-04-13T18:11:56.004Z"
   },
   {
    "duration": 17,
    "start_time": "2024-04-13T18:12:05.524Z"
   },
   {
    "duration": 19,
    "start_time": "2024-04-13T18:17:54.742Z"
   },
   {
    "duration": 21,
    "start_time": "2024-04-13T18:18:01.273Z"
   },
   {
    "duration": 95,
    "start_time": "2024-04-13T18:18:28.070Z"
   },
   {
    "duration": 87,
    "start_time": "2024-04-13T18:18:32.907Z"
   },
   {
    "duration": 180,
    "start_time": "2024-04-13T18:18:37.090Z"
   },
   {
    "duration": 87,
    "start_time": "2024-04-13T18:19:58.751Z"
   },
   {
    "duration": 18,
    "start_time": "2024-04-13T18:22:26.686Z"
   },
   {
    "duration": 20,
    "start_time": "2024-04-13T18:23:32.853Z"
   },
   {
    "duration": 21,
    "start_time": "2024-04-13T18:24:01.413Z"
   },
   {
    "duration": 21,
    "start_time": "2024-04-13T18:26:39.103Z"
   },
   {
    "duration": 90,
    "start_time": "2024-04-13T18:29:40.473Z"
   }
  ],
  "kernelspec": {
   "display_name": "Python 3 (ipykernel)",
   "language": "python",
   "name": "python3"
  },
  "language_info": {
   "codemirror_mode": {
    "name": "ipython",
    "version": 3
   },
   "file_extension": ".py",
   "mimetype": "text/x-python",
   "name": "python",
   "nbconvert_exporter": "python",
   "pygments_lexer": "ipython3",
   "version": "3.9.5"
  },
  "toc": {
   "base_numbering": 1,
   "nav_menu": {},
   "number_sections": true,
   "sideBar": true,
   "skip_h1_title": true,
   "title_cell": "Table of Contents",
   "title_sidebar": "Contents",
   "toc_cell": false,
   "toc_position": {},
   "toc_section_display": true,
   "toc_window_display": false
  }
 },
 "nbformat": 4,
 "nbformat_minor": 2
}
