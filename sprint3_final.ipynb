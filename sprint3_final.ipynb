{
 "cells": [
  {
   "cell_type": "markdown",
   "metadata": {},
   "source": [
    "<div style=\"border:solid Chocolate 2px; padding: 40px\">\n",
    "\n",
    "Кирилл, привет, меня зовут Станислав, и я буду проверять твой проект. Предлагаю общаться на «ты», но если это неудобно - дай знать, и мы перейдем на «вы».\n",
    "Это учебный проект и здесь не стоит бояться делать ошибки, я хочу поделиться своим опытом и помочь тебе стать аналитиком данных.\n",
    "Уже выполнена большая работа над проектом, давай сделаем его еще лучше. Ниже ты найдешь мои комментарии - пожалуйста, не перемещай, не изменяй и не удаляй их. Я буду использовать цветовую разметку:\n",
    "\n",
    "<div class=\"alert alert-danger\">\n",
    "❌ <b>Комментарий с замечанием ревьюера:</b> Так выделены самые важные замечания. Как только ты их исправишь проект будет принят. </div>\n",
    "\n",
    "<div class=\"alert alert-warning\">\n",
    "⚠️  <b>Комментарий с небольшим замечанием или советом ревьюера:</b> Так выделены небольшие замечания или советы. \n",
    "</div>\n",
    "\n",
    "<div class=\"alert alert-success\">\n",
    "✔️ <b>Комментарий с комплиментом ревьюера:</b> Так я выделяю все остальные комментарии.</div>\n",
    "\n",
    "Давай работать над проектом в диалоге: если ты что-то меняешь в проекте или отвечаешь на мои комментарии — пиши об этом.\n",
    "Мне будет легче отследить изменения, если ты выделишь свои комментарии:\n",
    "<div class=\"alert alert-info\"> <b>🎓 Комментарий студента:</b> Например, вот так.</div>\n",
    "Всё это поможет выполнить повторную проверку твоего проекта оперативнее.\n",
    "</div>\n"
   ]
  },
  {
   "cell_type": "markdown",
   "metadata": {},
   "source": [
    "<div style=\"border:solid Chocolate 2px; padding: 40px\">\n",
    "\n",
    "# Общий вывод ревьюера по проекту\n",
    "\n",
    "<div class=\"alert alert-success\">\n",
    "Проделана хорошая аналитическая работа. Код написан чисто, соблюдена структура проекта и написаны логичные и обоснованные выводы. Есть несколько замечаний, исправь их и проект будет принят.\n",
    "</div>\n",
    "\n",
    "<div class=\"alert alert-danger\">\n",
    "  \n",
    "- скорректируй, пожалуйста, этап предобработки данных    \n",
    "   \n",
    "    \n",
    "- дополни, пожалуйста, выводы\n",
    "</div>\n",
    "</div>\n",
    "\n"
   ]
  },
  {
   "cell_type": "markdown",
   "metadata": {},
   "source": [
    "<div style=\"border:solid Chocolate 2px; padding: 40px\">\n",
    "\n",
    "# Общий вывод ревьюера по проекту в2\n",
    "\n",
    "<div class=\"alert alert-success\">\n",
    "Спасибо за проработку замечаний по проекту, работу принимаю и желаю успеха в следующих проектах!\n",
    "</div>"
   ]
  },
  {
   "cell_type": "markdown",
   "metadata": {
    "id": "-VFbjcb3Awb7"
   },
   "source": [
    "# Исследование объявлений о продаже квартир\n",
    "\n",
    "<div style=\"border:solid Purple 2px; padding: 40px\" > \n",
    "    <u><b> Описание проекта:</b></u>\n",
    "В вашем распоряжении данные сервиса Яндекс Недвижимость — архив объявлений о продаже квартир в Санкт-Петербурге и соседних населённых пунктах за несколько лет. Вам нужно научиться определять рыночную стоимость объектов недвижимости. Для этого проведите исследовательский анализ данных и установите параметры, влияющие на цену объектов. Это позволит построить автоматизированную систему: она отследит аномалии и мошенническую деятельность.\n",
    "\n",
    "По каждой квартире на продажу доступны два вида данных. Первые вписаны пользователем, вторые — получены автоматически на основе картографических данных. Например, расстояние до центра, аэропорта и других объектов — эти данные автоматически получены из геосервисов. Количество парков и водоёмов также заполняется без участия пользователя.\n",
    "\n",
    "\n",
    "\n",
    "\n",
    "\n",
    "<u><b> Описание данных:</b></u>\n",
    "    \n",
    "<li> airports_nearest — расстояние до ближайшего аэропорта в метрах (м) </li>\n",
    "\n",
    "<li>balcony — число балконов</li>\n",
    "\n",
    "<li>ceiling_height — высота потолков (м)</li>\n",
    "\n",
    "<li>cityCenters_nearest — расстояние до центра города (м)</li>\n",
    "\n",
    "<li>days_exposition — сколько дней было размещено объявление (от публикации до снятия)</li>\n",
    "\n",
    "<li>first_day_exposition — дата публикации</li>\n",
    "\n",
    "<li>floor — этаж</li>\n",
    "\n",
    "<li>floors_total — всего этажей в доме</li>\n",
    "\n",
    "<li>is_apartment — апартаменты (булев тип)</li>\n",
    "\n",
    "<li>kitchen_area — площадь кухни в квадратных метрах (м²)</li>\n",
    "\n",
    "<li>last_price — цена на момент снятия с публикации</li>\n",
    "\n",
    "<li>living_area — жилая площадь в квадратных метрах (м²)</li>\n",
    "\n",
    "<li>locality_name — название населённого пункта</li>\n",
    "\n",
    "<li>open_plan — свободная планировка (булев тип)</li>\n",
    "\n",
    "<li>parks_around3000 — число парков в радиусе 3 км</li>\n",
    "\n",
    "<li>parks_nearest — расстояние до ближайшего парка (м)</li>\n",
    "\n",
    "<li>ponds_around3000 — число водоёмов в радиусе 3 км</li>\n",
    "\n",
    "<li>ponds_nearest — расстояние до ближайшего водоёма (м)</li>\n",
    "\n",
    "<li>rooms — число комнат</li>\n",
    "\n",
    "<li>studio — квартира-студия (булев тип)</li>\n",
    "\n",
    "<li>total_area — общая площадь квартиры в квадратных метрах (м²)</li>\n",
    "\n",
    "<li>total_images — число фотографий квартиры в объявлении</li>\n",
    "    \n",
    "<u><b> Краткий план работы:</b></u>\n",
    "\n",
    "    \n",
    "<ol> 1)Откройть файл с данными и изучить общую информацию </ol>\n",
    "<ol> 2)Выполнить предобработку данных </ol>\n",
    "<ol> 3)Добавить в таблицу новые столбцы </ol>    \n",
    "<ol> 4)Провести исследовательский анализ данных</ol>\n",
    "<ol> 5)Подготовить общий вывод по результатам работы </ol>\n",
    "\n",
    "</div>"
   ]
  },
  {
   "cell_type": "markdown",
   "metadata": {},
   "source": [
    "<div class=\"alert alert-success\">\n",
    "✔️<b>Комментарий с комплиментом ревьюера:</b> \n",
    "\n",
    "Здорово, что ты добавил в начале проекта введение, расписал этапы проекта и описал задачи. \n"
   ]
  },
  {
   "cell_type": "markdown",
   "metadata": {
    "id": "aeFLH07FAwb9"
   },
   "source": [
    "### Откройте файл с данными и изучите общую информацию"
   ]
  },
  {
   "cell_type": "markdown",
   "metadata": {},
   "source": [
    "<div > <b>Заметка для выполнения шага 1:</b>\n",
    "    <li>Загрузите данные из csv-файла в датафрейм c помощью библиотеки pandas.</li>\n",
    "\n",
    "   <li>Изучите общую информацию о полученном датафрейме.</li>\n",
    "\n",
    "   <li>Постройте гистограмму для всех числовых столбцов таблицы на одном графике. Например, для датафрейма data можно построить такую гистограмму командой data.hist(figsize=(15, 20)). Напомним, что параметр figsize задаёт размер графика.</li>\n",
    "\n",
    "</div>"
   ]
  },
  {
   "cell_type": "code",
   "execution_count": 1,
   "metadata": {
    "id": "7MZxY65pAwb9"
   },
   "outputs": [],
   "source": [
    "#загружаем библиотеки\n",
    "import pandas as pd\n",
    "import matplotlib.pyplot as plt"
   ]
  },
  {
   "cell_type": "code",
   "execution_count": 2,
   "metadata": {},
   "outputs": [],
   "source": [
    "#загружаем данные\n",
    "data = pd.read_csv('/datasets/real_estate_data.csv', sep='\\t')"
   ]
  },
  {
   "cell_type": "markdown",
   "metadata": {},
   "source": [
    "<div class=\"alert alert-warning\">\n",
    "⚠️  <b>Комментарий с советом ревьюера:</b>\n",
    "\n",
    "Обрати, пожалуйста, внимание, что загрузку датасета и импорт библиотек лучше выделять в отдельные ячейки. Если в процессе работы ты поймешь, что тебе надо импортировать дополнительную библиотеку, тебе не надо будет заново дополнительно загружать датасет.\n",
    "</div>\n"
   ]
  },
  {
   "cell_type": "markdown",
   "metadata": {},
   "source": [
    "<div class=\"alert alert-info\"> <b>🎓 Комментарий студента:</b> Благодарю за рекомендацию, рекомендация учтена.</div>"
   ]
  },
  {
   "cell_type": "markdown",
   "metadata": {},
   "source": [
    "<div class=\"alert alert-success\">\n",
    "✔️<b>Комментарий с комплиментом ревьюера в2:</b> \n",
    "\n",
    "Отлично"
   ]
  },
  {
   "cell_type": "code",
   "execution_count": 3,
   "metadata": {},
   "outputs": [
    {
     "name": "stdout",
     "output_type": "stream",
     "text": [
      "<class 'pandas.core.frame.DataFrame'>\n",
      "RangeIndex: 23699 entries, 0 to 23698\n",
      "Data columns (total 22 columns):\n",
      " #   Column                Non-Null Count  Dtype  \n",
      "---  ------                --------------  -----  \n",
      " 0   total_images          23699 non-null  int64  \n",
      " 1   last_price            23699 non-null  float64\n",
      " 2   total_area            23699 non-null  float64\n",
      " 3   first_day_exposition  23699 non-null  object \n",
      " 4   rooms                 23699 non-null  int64  \n",
      " 5   ceiling_height        14504 non-null  float64\n",
      " 6   floors_total          23613 non-null  float64\n",
      " 7   living_area           21796 non-null  float64\n",
      " 8   floor                 23699 non-null  int64  \n",
      " 9   is_apartment          2775 non-null   object \n",
      " 10  studio                23699 non-null  bool   \n",
      " 11  open_plan             23699 non-null  bool   \n",
      " 12  kitchen_area          21421 non-null  float64\n",
      " 13  balcony               12180 non-null  float64\n",
      " 14  locality_name         23650 non-null  object \n",
      " 15  airports_nearest      18157 non-null  float64\n",
      " 16  cityCenters_nearest   18180 non-null  float64\n",
      " 17  parks_around3000      18181 non-null  float64\n",
      " 18  parks_nearest         8079 non-null   float64\n",
      " 19  ponds_around3000      18181 non-null  float64\n",
      " 20  ponds_nearest         9110 non-null   float64\n",
      " 21  days_exposition       20518 non-null  float64\n",
      "dtypes: bool(2), float64(14), int64(3), object(3)\n",
      "memory usage: 3.7+ MB\n"
     ]
    }
   ],
   "source": [
    "# получаем общие сведения о датафрейме\n",
    "data.info()"
   ]
  },
  {
   "cell_type": "code",
   "execution_count": 4,
   "metadata": {},
   "outputs": [
    {
     "data": {
      "text/html": [
       "<div>\n",
       "<style scoped>\n",
       "    .dataframe tbody tr th:only-of-type {\n",
       "        vertical-align: middle;\n",
       "    }\n",
       "\n",
       "    .dataframe tbody tr th {\n",
       "        vertical-align: top;\n",
       "    }\n",
       "\n",
       "    .dataframe thead th {\n",
       "        text-align: right;\n",
       "    }\n",
       "</style>\n",
       "<table border=\"1\" class=\"dataframe\">\n",
       "  <thead>\n",
       "    <tr style=\"text-align: right;\">\n",
       "      <th></th>\n",
       "      <th>total_images</th>\n",
       "      <th>last_price</th>\n",
       "      <th>total_area</th>\n",
       "      <th>first_day_exposition</th>\n",
       "      <th>rooms</th>\n",
       "      <th>ceiling_height</th>\n",
       "      <th>floors_total</th>\n",
       "      <th>living_area</th>\n",
       "      <th>floor</th>\n",
       "      <th>is_apartment</th>\n",
       "      <th>...</th>\n",
       "      <th>kitchen_area</th>\n",
       "      <th>balcony</th>\n",
       "      <th>locality_name</th>\n",
       "      <th>airports_nearest</th>\n",
       "      <th>cityCenters_nearest</th>\n",
       "      <th>parks_around3000</th>\n",
       "      <th>parks_nearest</th>\n",
       "      <th>ponds_around3000</th>\n",
       "      <th>ponds_nearest</th>\n",
       "      <th>days_exposition</th>\n",
       "    </tr>\n",
       "  </thead>\n",
       "  <tbody>\n",
       "    <tr>\n",
       "      <th>0</th>\n",
       "      <td>20</td>\n",
       "      <td>13000000.0</td>\n",
       "      <td>108.00</td>\n",
       "      <td>2019-03-07T00:00:00</td>\n",
       "      <td>3</td>\n",
       "      <td>2.70</td>\n",
       "      <td>16.0</td>\n",
       "      <td>51.00</td>\n",
       "      <td>8</td>\n",
       "      <td>NaN</td>\n",
       "      <td>...</td>\n",
       "      <td>25.00</td>\n",
       "      <td>NaN</td>\n",
       "      <td>Санкт-Петербург</td>\n",
       "      <td>18863.0</td>\n",
       "      <td>16028.0</td>\n",
       "      <td>1.0</td>\n",
       "      <td>482.0</td>\n",
       "      <td>2.0</td>\n",
       "      <td>755.0</td>\n",
       "      <td>NaN</td>\n",
       "    </tr>\n",
       "    <tr>\n",
       "      <th>1</th>\n",
       "      <td>7</td>\n",
       "      <td>3350000.0</td>\n",
       "      <td>40.40</td>\n",
       "      <td>2018-12-04T00:00:00</td>\n",
       "      <td>1</td>\n",
       "      <td>NaN</td>\n",
       "      <td>11.0</td>\n",
       "      <td>18.60</td>\n",
       "      <td>1</td>\n",
       "      <td>NaN</td>\n",
       "      <td>...</td>\n",
       "      <td>11.00</td>\n",
       "      <td>2.0</td>\n",
       "      <td>посёлок Шушары</td>\n",
       "      <td>12817.0</td>\n",
       "      <td>18603.0</td>\n",
       "      <td>0.0</td>\n",
       "      <td>NaN</td>\n",
       "      <td>0.0</td>\n",
       "      <td>NaN</td>\n",
       "      <td>81.0</td>\n",
       "    </tr>\n",
       "    <tr>\n",
       "      <th>2</th>\n",
       "      <td>10</td>\n",
       "      <td>5196000.0</td>\n",
       "      <td>56.00</td>\n",
       "      <td>2015-08-20T00:00:00</td>\n",
       "      <td>2</td>\n",
       "      <td>NaN</td>\n",
       "      <td>5.0</td>\n",
       "      <td>34.30</td>\n",
       "      <td>4</td>\n",
       "      <td>NaN</td>\n",
       "      <td>...</td>\n",
       "      <td>8.30</td>\n",
       "      <td>0.0</td>\n",
       "      <td>Санкт-Петербург</td>\n",
       "      <td>21741.0</td>\n",
       "      <td>13933.0</td>\n",
       "      <td>1.0</td>\n",
       "      <td>90.0</td>\n",
       "      <td>2.0</td>\n",
       "      <td>574.0</td>\n",
       "      <td>558.0</td>\n",
       "    </tr>\n",
       "    <tr>\n",
       "      <th>3</th>\n",
       "      <td>0</td>\n",
       "      <td>64900000.0</td>\n",
       "      <td>159.00</td>\n",
       "      <td>2015-07-24T00:00:00</td>\n",
       "      <td>3</td>\n",
       "      <td>NaN</td>\n",
       "      <td>14.0</td>\n",
       "      <td>NaN</td>\n",
       "      <td>9</td>\n",
       "      <td>NaN</td>\n",
       "      <td>...</td>\n",
       "      <td>NaN</td>\n",
       "      <td>0.0</td>\n",
       "      <td>Санкт-Петербург</td>\n",
       "      <td>28098.0</td>\n",
       "      <td>6800.0</td>\n",
       "      <td>2.0</td>\n",
       "      <td>84.0</td>\n",
       "      <td>3.0</td>\n",
       "      <td>234.0</td>\n",
       "      <td>424.0</td>\n",
       "    </tr>\n",
       "    <tr>\n",
       "      <th>4</th>\n",
       "      <td>2</td>\n",
       "      <td>10000000.0</td>\n",
       "      <td>100.00</td>\n",
       "      <td>2018-06-19T00:00:00</td>\n",
       "      <td>2</td>\n",
       "      <td>3.03</td>\n",
       "      <td>14.0</td>\n",
       "      <td>32.00</td>\n",
       "      <td>13</td>\n",
       "      <td>NaN</td>\n",
       "      <td>...</td>\n",
       "      <td>41.00</td>\n",
       "      <td>NaN</td>\n",
       "      <td>Санкт-Петербург</td>\n",
       "      <td>31856.0</td>\n",
       "      <td>8098.0</td>\n",
       "      <td>2.0</td>\n",
       "      <td>112.0</td>\n",
       "      <td>1.0</td>\n",
       "      <td>48.0</td>\n",
       "      <td>121.0</td>\n",
       "    </tr>\n",
       "    <tr>\n",
       "      <th>5</th>\n",
       "      <td>10</td>\n",
       "      <td>2890000.0</td>\n",
       "      <td>30.40</td>\n",
       "      <td>2018-09-10T00:00:00</td>\n",
       "      <td>1</td>\n",
       "      <td>NaN</td>\n",
       "      <td>12.0</td>\n",
       "      <td>14.40</td>\n",
       "      <td>5</td>\n",
       "      <td>NaN</td>\n",
       "      <td>...</td>\n",
       "      <td>9.10</td>\n",
       "      <td>NaN</td>\n",
       "      <td>городской посёлок Янино-1</td>\n",
       "      <td>NaN</td>\n",
       "      <td>NaN</td>\n",
       "      <td>NaN</td>\n",
       "      <td>NaN</td>\n",
       "      <td>NaN</td>\n",
       "      <td>NaN</td>\n",
       "      <td>55.0</td>\n",
       "    </tr>\n",
       "    <tr>\n",
       "      <th>6</th>\n",
       "      <td>6</td>\n",
       "      <td>3700000.0</td>\n",
       "      <td>37.30</td>\n",
       "      <td>2017-11-02T00:00:00</td>\n",
       "      <td>1</td>\n",
       "      <td>NaN</td>\n",
       "      <td>26.0</td>\n",
       "      <td>10.60</td>\n",
       "      <td>6</td>\n",
       "      <td>NaN</td>\n",
       "      <td>...</td>\n",
       "      <td>14.40</td>\n",
       "      <td>1.0</td>\n",
       "      <td>посёлок Парголово</td>\n",
       "      <td>52996.0</td>\n",
       "      <td>19143.0</td>\n",
       "      <td>0.0</td>\n",
       "      <td>NaN</td>\n",
       "      <td>0.0</td>\n",
       "      <td>NaN</td>\n",
       "      <td>155.0</td>\n",
       "    </tr>\n",
       "    <tr>\n",
       "      <th>7</th>\n",
       "      <td>5</td>\n",
       "      <td>7915000.0</td>\n",
       "      <td>71.60</td>\n",
       "      <td>2019-04-18T00:00:00</td>\n",
       "      <td>2</td>\n",
       "      <td>NaN</td>\n",
       "      <td>24.0</td>\n",
       "      <td>NaN</td>\n",
       "      <td>22</td>\n",
       "      <td>NaN</td>\n",
       "      <td>...</td>\n",
       "      <td>18.90</td>\n",
       "      <td>2.0</td>\n",
       "      <td>Санкт-Петербург</td>\n",
       "      <td>23982.0</td>\n",
       "      <td>11634.0</td>\n",
       "      <td>0.0</td>\n",
       "      <td>NaN</td>\n",
       "      <td>0.0</td>\n",
       "      <td>NaN</td>\n",
       "      <td>NaN</td>\n",
       "    </tr>\n",
       "    <tr>\n",
       "      <th>8</th>\n",
       "      <td>20</td>\n",
       "      <td>2900000.0</td>\n",
       "      <td>33.16</td>\n",
       "      <td>2018-05-23T00:00:00</td>\n",
       "      <td>1</td>\n",
       "      <td>NaN</td>\n",
       "      <td>27.0</td>\n",
       "      <td>15.43</td>\n",
       "      <td>26</td>\n",
       "      <td>NaN</td>\n",
       "      <td>...</td>\n",
       "      <td>8.81</td>\n",
       "      <td>NaN</td>\n",
       "      <td>посёлок Мурино</td>\n",
       "      <td>NaN</td>\n",
       "      <td>NaN</td>\n",
       "      <td>NaN</td>\n",
       "      <td>NaN</td>\n",
       "      <td>NaN</td>\n",
       "      <td>NaN</td>\n",
       "      <td>189.0</td>\n",
       "    </tr>\n",
       "    <tr>\n",
       "      <th>9</th>\n",
       "      <td>18</td>\n",
       "      <td>5400000.0</td>\n",
       "      <td>61.00</td>\n",
       "      <td>2017-02-26T00:00:00</td>\n",
       "      <td>3</td>\n",
       "      <td>2.50</td>\n",
       "      <td>9.0</td>\n",
       "      <td>43.60</td>\n",
       "      <td>7</td>\n",
       "      <td>NaN</td>\n",
       "      <td>...</td>\n",
       "      <td>6.50</td>\n",
       "      <td>2.0</td>\n",
       "      <td>Санкт-Петербург</td>\n",
       "      <td>50898.0</td>\n",
       "      <td>15008.0</td>\n",
       "      <td>0.0</td>\n",
       "      <td>NaN</td>\n",
       "      <td>0.0</td>\n",
       "      <td>NaN</td>\n",
       "      <td>289.0</td>\n",
       "    </tr>\n",
       "  </tbody>\n",
       "</table>\n",
       "<p>10 rows × 22 columns</p>\n",
       "</div>"
      ],
      "text/plain": [
       "   total_images  last_price  total_area first_day_exposition  rooms  \\\n",
       "0            20  13000000.0      108.00  2019-03-07T00:00:00      3   \n",
       "1             7   3350000.0       40.40  2018-12-04T00:00:00      1   \n",
       "2            10   5196000.0       56.00  2015-08-20T00:00:00      2   \n",
       "3             0  64900000.0      159.00  2015-07-24T00:00:00      3   \n",
       "4             2  10000000.0      100.00  2018-06-19T00:00:00      2   \n",
       "5            10   2890000.0       30.40  2018-09-10T00:00:00      1   \n",
       "6             6   3700000.0       37.30  2017-11-02T00:00:00      1   \n",
       "7             5   7915000.0       71.60  2019-04-18T00:00:00      2   \n",
       "8            20   2900000.0       33.16  2018-05-23T00:00:00      1   \n",
       "9            18   5400000.0       61.00  2017-02-26T00:00:00      3   \n",
       "\n",
       "   ceiling_height  floors_total  living_area  floor is_apartment  ...  \\\n",
       "0            2.70          16.0        51.00      8          NaN  ...   \n",
       "1             NaN          11.0        18.60      1          NaN  ...   \n",
       "2             NaN           5.0        34.30      4          NaN  ...   \n",
       "3             NaN          14.0          NaN      9          NaN  ...   \n",
       "4            3.03          14.0        32.00     13          NaN  ...   \n",
       "5             NaN          12.0        14.40      5          NaN  ...   \n",
       "6             NaN          26.0        10.60      6          NaN  ...   \n",
       "7             NaN          24.0          NaN     22          NaN  ...   \n",
       "8             NaN          27.0        15.43     26          NaN  ...   \n",
       "9            2.50           9.0        43.60      7          NaN  ...   \n",
       "\n",
       "   kitchen_area  balcony              locality_name  airports_nearest  \\\n",
       "0         25.00      NaN            Санкт-Петербург           18863.0   \n",
       "1         11.00      2.0             посёлок Шушары           12817.0   \n",
       "2          8.30      0.0            Санкт-Петербург           21741.0   \n",
       "3           NaN      0.0            Санкт-Петербург           28098.0   \n",
       "4         41.00      NaN            Санкт-Петербург           31856.0   \n",
       "5          9.10      NaN  городской посёлок Янино-1               NaN   \n",
       "6         14.40      1.0          посёлок Парголово           52996.0   \n",
       "7         18.90      2.0            Санкт-Петербург           23982.0   \n",
       "8          8.81      NaN             посёлок Мурино               NaN   \n",
       "9          6.50      2.0            Санкт-Петербург           50898.0   \n",
       "\n",
       "  cityCenters_nearest  parks_around3000  parks_nearest  ponds_around3000  \\\n",
       "0             16028.0               1.0          482.0               2.0   \n",
       "1             18603.0               0.0            NaN               0.0   \n",
       "2             13933.0               1.0           90.0               2.0   \n",
       "3              6800.0               2.0           84.0               3.0   \n",
       "4              8098.0               2.0          112.0               1.0   \n",
       "5                 NaN               NaN            NaN               NaN   \n",
       "6             19143.0               0.0            NaN               0.0   \n",
       "7             11634.0               0.0            NaN               0.0   \n",
       "8                 NaN               NaN            NaN               NaN   \n",
       "9             15008.0               0.0            NaN               0.0   \n",
       "\n",
       "   ponds_nearest  days_exposition  \n",
       "0          755.0              NaN  \n",
       "1            NaN             81.0  \n",
       "2          574.0            558.0  \n",
       "3          234.0            424.0  \n",
       "4           48.0            121.0  \n",
       "5            NaN             55.0  \n",
       "6            NaN            155.0  \n",
       "7            NaN              NaN  \n",
       "8            NaN            189.0  \n",
       "9            NaN            289.0  \n",
       "\n",
       "[10 rows x 22 columns]"
      ]
     },
     "execution_count": 4,
     "metadata": {},
     "output_type": "execute_result"
    }
   ],
   "source": [
    "#выводим первые 10 строк\n",
    "data.head(10)"
   ]
  },
  {
   "cell_type": "code",
   "execution_count": 5,
   "metadata": {},
   "outputs": [
    {
     "data": {
      "text/plain": [
       "array([[<AxesSubplot:title={'center':'total_images'}>,\n",
       "        <AxesSubplot:title={'center':'last_price'}>,\n",
       "        <AxesSubplot:title={'center':'total_area'}>,\n",
       "        <AxesSubplot:title={'center':'rooms'}>],\n",
       "       [<AxesSubplot:title={'center':'ceiling_height'}>,\n",
       "        <AxesSubplot:title={'center':'floors_total'}>,\n",
       "        <AxesSubplot:title={'center':'living_area'}>,\n",
       "        <AxesSubplot:title={'center':'floor'}>],\n",
       "       [<AxesSubplot:title={'center':'kitchen_area'}>,\n",
       "        <AxesSubplot:title={'center':'balcony'}>,\n",
       "        <AxesSubplot:title={'center':'airports_nearest'}>,\n",
       "        <AxesSubplot:title={'center':'cityCenters_nearest'}>],\n",
       "       [<AxesSubplot:title={'center':'parks_around3000'}>,\n",
       "        <AxesSubplot:title={'center':'parks_nearest'}>,\n",
       "        <AxesSubplot:title={'center':'ponds_around3000'}>,\n",
       "        <AxesSubplot:title={'center':'ponds_nearest'}>],\n",
       "       [<AxesSubplot:title={'center':'days_exposition'}>, <AxesSubplot:>,\n",
       "        <AxesSubplot:>, <AxesSubplot:>]], dtype=object)"
      ]
     },
     "execution_count": 5,
     "metadata": {},
     "output_type": "execute_result"
    },
    {
     "data": {
      "image/png": "[encoded data removed]",
      "text/plain": [
       "<Figure size 1080x1440 with 20 Axes>"
      ]
     },
     "metadata": {
      "needs_background": "light"
     },
     "output_type": "display_data"
    }
   ],
   "source": [
    "#Строим гистограммы для всех числовых столбцов\n",
    "data.hist(figsize=(15,20))"
   ]
  },
  {
   "cell_type": "markdown",
   "metadata": {
    "id": "-O5NtivEAwb9"
   },
   "source": [
    "### Выполните предобработку данных"
   ]
  },
  {
   "cell_type": "markdown",
   "metadata": {
    "id": "7v3vAeTuAwb-"
   },
   "source": [
    "<div > <b>Заметка для выполнения шага 2:\n",
    "</b> Найдите и изучите пропущенные значения в столбцах:\n",
    "\n",
    "<li> Определите, в каких столбцах есть пропуски.</li>\n",
    "  <li> Заполните пропущенные значения там, где это возможно. Например, если продавец не указал число балконов, то, скорее всего, в его квартире их нет. Такие пропуски можно заменить на число 0. Если логичную замену предложить невозможно, то оставьте пропуски. Пропущенные значения — тоже важный сигнал, который нужно учитывать.</li>\n",
    "\n",
    "  <li>В ячейке с типом markdown укажите причины, которые могли привести к пропускам в данных.</li>\n",
    "\n",
    "  <li>Рассмотрите типы данных в каждом столбце: Найдите столбцы, в которых нужно изменить тип данных. Преобразуйте тип данных в выбранных столбцах. В ячейке с типом markdown поясните, почему нужно изменить тип данных.</li>\n",
    "\n",
    "  <li>Изучите уникальные значения в столбце с названиями и устраните неявные дубликаты. Например, «поселок Рябово» и «поселок городского типа Рябово», «поселок Тельмана» и «посёлок Тельмана» — это обозначения одних и тех же населённых пунктов. Вы можете заменить названия в существующем столбце или создать новый с названиями без дубликатов.</li>\n",
    "\n",
    "Подсказка\n",
    "\n",
    "Избавиться от явных дубликатов в этом случае можно разными способами. Один из самых простых: воспользоваться цепочкой методов replace().\n",
    "\n",
    "Пример:\n",
    "\n",
    "Скопировать кодSQL\n",
    "\n",
    "data['название столбца'] = (\n",
    "    data['название столбца']\n",
    "    .str.replace('ё', 'е')\n",
    "    .replace(['что заменять', 'что ещё заменять', ...], 'на что заменять', regex=True)\n",
    ") \n",
    "    </div>"
   ]
  },
  {
   "cell_type": "code",
   "execution_count": 6,
   "metadata": {},
   "outputs": [
    {
     "data": {
      "text/plain": [
       "total_images                0\n",
       "last_price                  0\n",
       "total_area                  0\n",
       "first_day_exposition        0\n",
       "rooms                       0\n",
       "ceiling_height           9195\n",
       "floors_total               86\n",
       "living_area              1903\n",
       "floor                       0\n",
       "is_apartment            20924\n",
       "studio                      0\n",
       "open_plan                   0\n",
       "kitchen_area             2278\n",
       "balcony                 11519\n",
       "locality_name              49\n",
       "airports_nearest         5542\n",
       "cityCenters_nearest      5519\n",
       "parks_around3000         5518\n",
       "parks_nearest           15620\n",
       "ponds_around3000         5518\n",
       "ponds_nearest           14589\n",
       "days_exposition          3181\n",
       "dtype: int64"
      ]
     },
     "execution_count": 6,
     "metadata": {},
     "output_type": "execute_result"
    }
   ],
   "source": [
    "#Определим в каких столбцах есть пропуски\n",
    "data.isna().sum()"
   ]
  },
  {
   "cell_type": "markdown",
   "metadata": {},
   "source": [
    "<div> По результатам анализа пропуски имеются в следующих столбцах:\n",
    "    \n",
    "<li>ceiling_height - высота потолков (м).В выборке с пропущенными значениями количество значительное относительного генеральной совокупности, заполню пропуски медианным значением. Прелполагаемая причина пропусков - не занесена информация пользователем </li>\n",
    "    \n",
    "<li>floors_total - всего этажей в доме - в выборке количество пропусков не значительное относительно генеральной совокупности, строки с пропусками по данному столбцу удалю.Предполагаемая причина пропусков - не занесена информация пользователем.   </li>\n",
    "    \n",
    "<li>living_area - жилая площадь в квадратных метрах (м²) -   в выборке количество пропусков значительное,  заполню пропуски медианным значением. Предполагаемая причина пропусков - не занесена информация пользователем</li>\n",
    "    \n",
    "<li>is_apartment - апартаменты (булев тип) - в выборке количество пропусков значительное, во всех пропущенных значениях укажу \"False\". При анализе оставшихся значений data['is_apartment'].value_counts() аппартаментами являются 50 объектов недвижимости, следовательно принятие по умолчанию данной метрики как False для пропущенных значений не окажет негативного влияния на дальнейшее исследование.Предполагаемая причина пропусков - не занесена информация пользователем</li>\n",
    "    \n",
    "<li>kitchen_area - площадь кухни в квадратных метрах (м²)-  в выборке количество пропусков значительное,  заполню пропуски медианным значением предполагая, что кухня долбыть быть в объекте недвижимости.Предполагаемая причина пропусков - не занесена информация пользователем. </li>\n",
    "    \n",
    "<li>balcony - число балконов - в выборке количество пропусков значительное,  заполню пропуски 0 ,предполагая что балконы в по данным объектам недвижимости отсутсвуют.Предполагаемая причина пропусков - не занесена информация пользователем. </li>\n",
    "    \n",
    "<li>locality_name - название населённого пункта.в выборке количество пропусков не значительное относительно генеральной совокупности, строки с пропусками по данному столбцу переименую в unknown.Предполагаемая причина пропусков - не занесена информация пользователем.</li>\n",
    "    \n",
    "<li>airports_nearest - расстояние до ближайшего аэропорта в метрах(м) - в выборке количество пропусков значительное.Пропуски оставлю без изменения.Предполагаемая причина пропусков - ошибка ПО при генерации метрики либо не занесена информация о locality_name пользователем, что послужило причининой пропуска в airports_nearest.</li>\n",
    "    \n",
    "    \n",
    "<li>cityCenters_nearest - расстояние до центра города (м) -  в выборке количество пропусков значительное.Пропуски оставлю без изменения. Предполагаемая причина пропуска -  ошибка ПО при генерации метрики либо не занесена информация о locality_name пользователем, что послужило причининой пропуска cityCenters_nearest</li>\n",
    "    \n",
    "<li>parks_around3000 - число парков в радиусе 3 км -  выборке количество пропусков значительное.Заполню пропуски 0  предполагая,  что парки в радиусе 3 км  отностительно местонахождения недвижимости  отсутсвуют.Предполагаемая причина пропуска -  ошибка ПО при генерации метрики либо не занесена информация о locality_name пользователем, что послужило причининой пропуска </li>\n",
    "    \n",
    "<li>parks_nearest - расстояние до ближайшего парка (м). - в выборке количество пропусков значительное. Данные пропуски оставлю без изменений.Предполагаемая причина пропуска ошибка ПО при генерации метрики либо не занесена информация о locality_name пользователем, что послужило причининой пропуска </li>\n",
    "    \n",
    "<li>ponds_around - число водоёмов в радиусе 3 км - выборке количество пропусков значительное.Заполню пропуски 0  предполагая,что водоемы  в радиусе 3 км  отностительно местонахождения недвижимости отсутсвуют.Предполагаемая причина пропуска -  ошибка ПО при генерации метрики либо не занесена информация о locality_name пользователем, что послужило причининой пропуска</li>\n",
    "    \n",
    "<li>ponds_nearest - расстояние до ближайшего водоёма (м) - в выборке количество пропусков значительное. Данные пропуски оставлю без изменений.Предполагаемая причина пропуска -  ошибка ПО при генерации метрики либо не занесена информация о locality_name пользователем, что послужило причининой пропуска</li> \n",
    "    \n",
    "<li>days_exposition - сколько дней было размещено объявление (от публикации до снятия) - в выборке количество пропусков значительное. Данные пропуски оставлю без изменений.Предполагаемая причина пропуска -  ошибка ПО при генерации метрики.</li> "
   ]
  },
  {
   "cell_type": "code",
   "execution_count": 7,
   "metadata": {},
   "outputs": [],
   "source": [
    "# заполняем пропуски в ceiling_heigh медианным значением\n",
    "data['ceiling_height'] = data['ceiling_height'].fillna(value =data['ceiling_height'].median())"
   ]
  },
  {
   "cell_type": "code",
   "execution_count": 8,
   "metadata": {},
   "outputs": [
    {
     "data": {
      "text/plain": [
       "22869    100.0\n",
       "3148      32.0\n",
       "22336     32.0\n",
       "21377     27.5\n",
       "4876      27.0\n",
       "17857     27.0\n",
       "5246      27.0\n",
       "20478     27.0\n",
       "22938     27.0\n",
       "5807      27.0\n",
       "21824     27.0\n",
       "10773     27.0\n",
       "5669      26.0\n",
       "18545     25.0\n",
       "4643      25.0\n",
       "9379      25.0\n",
       "11285     25.0\n",
       "14382     25.0\n",
       "355       25.0\n",
       "6246      25.0\n",
       "5076      24.0\n",
       "20507     22.6\n",
       "17496     20.0\n",
       "15061     14.0\n",
       "22309     10.3\n",
       "5863       8.3\n",
       "3474       8.0\n",
       "15743      8.0\n",
       "17442      8.0\n",
       "20264      6.0\n",
       "21227      5.8\n",
       "1388       5.6\n",
       "7578       5.5\n",
       "12628      5.3\n",
       "1026       5.3\n",
       "464        5.2\n",
       "1053       5.0\n",
       "21923      4.9\n",
       "2802       4.8\n",
       "1300       4.7\n",
       "Name: ceiling_height, dtype: float64"
      ]
     },
     "execution_count": 8,
     "metadata": {},
     "output_type": "execute_result"
    }
   ],
   "source": [
    "#проверим топ 10 высотных потолков (отсортируем в порядке убывания)\n",
    "data['ceiling_height'].sort_values(ascending = False).head(40)"
   ]
  },
  {
   "cell_type": "markdown",
   "metadata": {},
   "source": [
    "Наврядли стометровые потолки могут присутсвовать в объектах недвижимости . Допустимо предположить, что значения ceiling_height с высотой потолков боле 14 метров (20,22 и тп.) указаны неверно. Разделю такие значения на 10."
   ]
  },
  {
   "cell_type": "code",
   "execution_count": 9,
   "metadata": {},
   "outputs": [
    {
     "data": {
      "text/plain": [
       "15061    14.00\n",
       "22309    10.30\n",
       "22869    10.00\n",
       "5863      8.30\n",
       "17442     8.00\n",
       "15743     8.00\n",
       "3474      8.00\n",
       "20264     6.00\n",
       "21227     5.80\n",
       "1388      5.60\n",
       "7578      5.50\n",
       "1026      5.30\n",
       "12628     5.30\n",
       "464       5.20\n",
       "1053      5.00\n",
       "21923     4.90\n",
       "2802      4.80\n",
       "19142     4.70\n",
       "1300      4.70\n",
       "12401     4.65\n",
       "6802      4.50\n",
       "14519     4.50\n",
       "13224     4.50\n",
       "10159     4.50\n",
       "2823      4.50\n",
       "9783      4.50\n",
       "3067      4.50\n",
       "8018      4.45\n",
       "7521      4.45\n",
       "6728      4.40\n",
       "11651     4.40\n",
       "7274      4.40\n",
       "4201      4.37\n",
       "10754     4.30\n",
       "17078     4.25\n",
       "7279      4.20\n",
       "11128     4.20\n",
       "2843      4.20\n",
       "19041     4.20\n",
       "22494     4.20\n",
       "Name: ceiling_height, dtype: float64"
      ]
     },
     "execution_count": 9,
     "metadata": {},
     "output_type": "execute_result"
    }
   ],
   "source": [
    "#делим на 10 значения с некорректной высотой полоков\n",
    "data.loc[data['ceiling_height']>=20, 'ceiling_height'] = data['ceiling_height']/10\n",
    "#проверим топ 10\n",
    "data['ceiling_height'].sort_values(ascending = False).head(40)"
   ]
  },
  {
   "cell_type": "code",
   "execution_count": 10,
   "metadata": {},
   "outputs": [],
   "source": [
    "#удаляем пропуски в c floors_total\n",
    "data.dropna(subset = ['floors_total'], inplace=True)"
   ]
  },
  {
   "cell_type": "code",
   "execution_count": 11,
   "metadata": {},
   "outputs": [],
   "source": [
    "#изменим тип данных  floors_total с float64 на int64\n",
    "data['floors_total'] = data['floors_total'].astype(int)"
   ]
  },
  {
   "cell_type": "markdown",
   "metadata": {},
   "source": [
    "<div class=\"alert alert-info\"> <b>🎓 Комментарий студента:</b> Строки кода с 12 по 14 работа с living_area.</div>"
   ]
  },
  {
   "cell_type": "code",
   "execution_count": 12,
   "metadata": {},
   "outputs": [
    {
     "name": "stdout",
     "output_type": "stream",
     "text": [
      "          index  living_area\n",
      "0   living_area     1.000000\n",
      "1    total_area     0.939770\n",
      "2         rooms     0.846006\n",
      "3    last_price     0.566396\n",
      "4  kitchen_area     0.428768\n"
     ]
    },
    {
     "data": {
      "text/html": [
       "<div>\n",
       "<style scoped>\n",
       "    .dataframe tbody tr th:only-of-type {\n",
       "        vertical-align: middle;\n",
       "    }\n",
       "\n",
       "    .dataframe tbody tr th {\n",
       "        vertical-align: top;\n",
       "    }\n",
       "\n",
       "    .dataframe thead th {\n",
       "        text-align: right;\n",
       "    }\n",
       "</style>\n",
       "<table border=\"1\" class=\"dataframe\">\n",
       "  <thead>\n",
       "    <tr style=\"text-align: right;\">\n",
       "      <th></th>\n",
       "      <th>rooms</th>\n",
       "      <th>living_area</th>\n",
       "    </tr>\n",
       "  </thead>\n",
       "  <tbody>\n",
       "    <tr>\n",
       "      <th>0</th>\n",
       "      <td>0</td>\n",
       "      <td>19.0</td>\n",
       "    </tr>\n",
       "    <tr>\n",
       "      <th>1</th>\n",
       "      <td>1</td>\n",
       "      <td>18.0</td>\n",
       "    </tr>\n",
       "    <tr>\n",
       "      <th>2</th>\n",
       "      <td>2</td>\n",
       "      <td>32.0</td>\n",
       "    </tr>\n",
       "    <tr>\n",
       "      <th>3</th>\n",
       "      <td>3</td>\n",
       "      <td>47.0</td>\n",
       "    </tr>\n",
       "    <tr>\n",
       "      <th>4</th>\n",
       "      <td>4</td>\n",
       "      <td>67.0</td>\n",
       "    </tr>\n",
       "    <tr>\n",
       "      <th>5</th>\n",
       "      <td>5</td>\n",
       "      <td>100.0</td>\n",
       "    </tr>\n",
       "    <tr>\n",
       "      <th>6</th>\n",
       "      <td>6</td>\n",
       "      <td>132.0</td>\n",
       "    </tr>\n",
       "    <tr>\n",
       "      <th>7</th>\n",
       "      <td>7</td>\n",
       "      <td>164.0</td>\n",
       "    </tr>\n",
       "    <tr>\n",
       "      <th>8</th>\n",
       "      <td>8</td>\n",
       "      <td>169.0</td>\n",
       "    </tr>\n",
       "    <tr>\n",
       "      <th>9</th>\n",
       "      <td>9</td>\n",
       "      <td>190.0</td>\n",
       "    </tr>\n",
       "    <tr>\n",
       "      <th>10</th>\n",
       "      <td>10</td>\n",
       "      <td>166.0</td>\n",
       "    </tr>\n",
       "    <tr>\n",
       "      <th>11</th>\n",
       "      <td>11</td>\n",
       "      <td>134.0</td>\n",
       "    </tr>\n",
       "    <tr>\n",
       "      <th>12</th>\n",
       "      <td>12</td>\n",
       "      <td>410.0</td>\n",
       "    </tr>\n",
       "    <tr>\n",
       "      <th>13</th>\n",
       "      <td>14</td>\n",
       "      <td>195.0</td>\n",
       "    </tr>\n",
       "    <tr>\n",
       "      <th>14</th>\n",
       "      <td>15</td>\n",
       "      <td>409.0</td>\n",
       "    </tr>\n",
       "    <tr>\n",
       "      <th>15</th>\n",
       "      <td>16</td>\n",
       "      <td>180.0</td>\n",
       "    </tr>\n",
       "    <tr>\n",
       "      <th>16</th>\n",
       "      <td>19</td>\n",
       "      <td>264.0</td>\n",
       "    </tr>\n",
       "  </tbody>\n",
       "</table>\n",
       "</div>"
      ],
      "text/plain": [
       "    rooms  living_area\n",
       "0       0         19.0\n",
       "1       1         18.0\n",
       "2       2         32.0\n",
       "3       3         47.0\n",
       "4       4         67.0\n",
       "5       5        100.0\n",
       "6       6        132.0\n",
       "7       7        164.0\n",
       "8       8        169.0\n",
       "9       9        190.0\n",
       "10     10        166.0\n",
       "11     11        134.0\n",
       "12     12        410.0\n",
       "13     14        195.0\n",
       "14     15        409.0\n",
       "15     16        180.0\n",
       "16     19        264.0"
      ]
     },
     "execution_count": 12,
     "metadata": {},
     "output_type": "execute_result"
    }
   ],
   "source": [
    "# Узнаем коэфициенты корреляции  Пирсона, которые влияют на living_area\n",
    "сorr = data.corr()\n",
    "print(сorr.sort_values(by='living_area', ascending=False)['living_area'].reset_index().head())\n",
    "\n",
    "# Посчитаем усредненное значение жилой площади одной комнаты\n",
    "round(data.pivot_table(index='rooms', values='living_area', aggfunc='mean')).reset_index()"
   ]
  },
  {
   "cell_type": "code",
   "execution_count": 13,
   "metadata": {},
   "outputs": [],
   "source": [
    "#средняя площадь комнаты\n",
    "avg_area_room = round(data.living_area.sum() / data.rooms.sum())"
   ]
  },
  {
   "cell_type": "code",
   "execution_count": 14,
   "metadata": {},
   "outputs": [],
   "source": [
    "#заполняем пропуски в living_area \n",
    "data['living_area'] = data['living_area'].fillna(value = data['rooms']*avg_area_room)"
   ]
  },
  {
   "cell_type": "markdown",
   "metadata": {},
   "source": [
    "<div class=\"alert alert-danger\">\n",
    "❌ <b>Комментарий с замечанием ревьюера:</b>\n",
    "\n",
    "Слишком большое количество пропусков заполненное медианной сильно исказит данные.\n",
    "    \n",
    "Пропуски в этом столбце можно расчитать с помощью коэффициента, рассчитанным между общей площадью и жилой площадью по известным данным."
   ]
  },
  {
   "cell_type": "markdown",
   "metadata": {},
   "source": [
    "<div class=\"alert alert-info\"> <b>🎓 Комментарий студента:</b> Данные living_area скорректированы.Но я решил оттолкнуться от средней площади комнат - надеюсь не ошибся. В случае необходимости выполню расчет через общую площадь кв.</div>"
   ]
  },
  {
   "cell_type": "markdown",
   "metadata": {},
   "source": [
    "<div class=\"alert alert-success\">\n",
    "✔️<b>Комментарий с комплиментом ревьюера в2:</b> \n",
    "\n",
    "Отлично, что провел анализ и заполнил пропуски. Здесь можно применить оба способа и посмотреть на различие в результатах."
   ]
  },
  {
   "cell_type": "code",
   "execution_count": 15,
   "metadata": {},
   "outputs": [],
   "source": [
    "# заполняем пропуски в is_apartment значением False\n",
    "data['is_apartment'] = data['is_apartment'].fillna(False)\n",
    "#изменим тип данных  s_apartment с object на bool\n",
    "data['is_apartment'] = data['is_apartment'].astype(bool)"
   ]
  },
  {
   "cell_type": "code",
   "execution_count": 16,
   "metadata": {},
   "outputs": [],
   "source": [
    "#заполняем пропуски в kitchen_area медианным значением\n",
    "data['kitchen_area'] = data['kitchen_area'].fillna(0)"
   ]
  },
  {
   "cell_type": "markdown",
   "metadata": {},
   "source": [
    "<div class=\"alert alert-danger\">\n",
    "❌ <b>Комментарий с замечанием ревьюера:</b>\n",
    "\n",
    "Здесь также необходимо быть аккуратным с заполнением медианой."
   ]
  },
  {
   "cell_type": "markdown",
   "metadata": {},
   "source": [
    "<div class=\"alert alert-info\"> <b>🎓 Комментарий студента:</b> Решил не рисковать и заполнить пропуски по столбцу kitchen_area нулями.</div>"
   ]
  },
  {
   "cell_type": "markdown",
   "metadata": {},
   "source": [
    "<div class=\"alert alert-success\">\n",
    "✔️<b>Комментарий с комплиментом ревьюера в2:</b> \n",
    "\n",
    "Отлично"
   ]
  },
  {
   "cell_type": "code",
   "execution_count": 17,
   "metadata": {},
   "outputs": [],
   "source": [
    "#Пропуски в balcony заполню нулями\n",
    "data['balcony'] = data['balcony'].fillna(0)\n",
    "#изменим тип данных  balcony  с float64 на int64\n",
    "data['balcony'] = data['balcony'].astype(int)"
   ]
  },
  {
   "cell_type": "code",
   "execution_count": 18,
   "metadata": {},
   "outputs": [
    {
     "data": {
      "text/plain": [
       "array(['Санкт-Петербург', 'посёлок Шушары', 'городской посёлок Янино-1',\n",
       "       'посёлок Парголово', 'посёлок Мурино', 'Ломоносов', 'Сертолово',\n",
       "       'Петергоф', 'Пушкин', 'деревня Кудрово', 'Коммунар', 'Колпино',\n",
       "       'поселок городского типа Красный Бор', 'Гатчина', 'поселок Мурино',\n",
       "       'деревня Фёдоровское', 'Выборг', 'Кронштадт', 'Кировск',\n",
       "       'деревня Новое Девяткино', 'посёлок Металлострой',\n",
       "       'посёлок городского типа Лебяжье',\n",
       "       'посёлок городского типа Сиверский', 'поселок Молодцово',\n",
       "       'поселок городского типа Кузьмоловский',\n",
       "       'садовое товарищество Новая Ропша', 'Павловск',\n",
       "       'деревня Пикколово', 'Всеволожск', 'Волхов', 'Кингисепп',\n",
       "       'Приозерск', 'Сестрорецк', 'деревня Куттузи', 'посёлок Аннино',\n",
       "       'поселок городского типа Ефимовский', 'посёлок Плодовое',\n",
       "       'деревня Заклинье', 'поселок Торковичи', 'поселок Первомайское',\n",
       "       'Красное Село', 'посёлок Понтонный', 'Сясьстрой', 'деревня Старая',\n",
       "       'деревня Лесколово', 'посёлок Новый Свет', 'Сланцы',\n",
       "       'село Путилово', 'Ивангород', 'Мурино', 'Шлиссельбург',\n",
       "       'Никольское', 'Зеленогорск', 'Сосновый Бор', 'поселок Новый Свет',\n",
       "       'деревня Оржицы', 'деревня Кальтино', 'Кудрово',\n",
       "       'поселок Романовка', 'посёлок Бугры', 'поселок Бугры',\n",
       "       'поселок городского типа Рощино', 'Кириши', 'Луга', 'Волосово',\n",
       "       'Отрадное', 'село Павлово', 'поселок Оредеж', 'село Копорье',\n",
       "       'посёлок городского типа Красный Бор', 'посёлок Молодёжное',\n",
       "       'Тихвин', 'посёлок Победа', 'деревня Нурма',\n",
       "       'поселок городского типа Синявино', 'Тосно',\n",
       "       'посёлок городского типа Кузьмоловский', 'посёлок Стрельна',\n",
       "       'Бокситогорск', 'посёлок Александровская', 'деревня Лопухинка',\n",
       "       'Пикалёво', 'поселок Терволово',\n",
       "       'поселок городского типа Советский', 'Подпорожье',\n",
       "       'посёлок Петровское', 'посёлок городского типа Токсово',\n",
       "       'поселок Сельцо', 'посёлок городского типа Вырица',\n",
       "       'деревня Кипень', 'деревня Келози', 'деревня Вартемяги',\n",
       "       'посёлок Тельмана', 'поселок Севастьяново',\n",
       "       'городской поселок Большая Ижора', 'unknown',\n",
       "       'городской посёлок Павлово', 'деревня Агалатово',\n",
       "       'посёлок Новогорелово', 'городской посёлок Лесогорский',\n",
       "       'деревня Лаголово', 'поселок Цвелодубово',\n",
       "       'поселок городского типа Рахья', 'поселок городского типа Вырица',\n",
       "       'деревня Белогорка', 'поселок Заводской',\n",
       "       'городской посёлок Новоселье', 'деревня Большие Колпаны',\n",
       "       'деревня Горбунки', 'деревня Батово', 'деревня Заневка',\n",
       "       'деревня Иссад', 'Приморск', 'городской посёлок Фёдоровское',\n",
       "       'деревня Мистолово', 'Новая Ладога', 'поселок Зимитицы',\n",
       "       'поселок Барышево', 'деревня Разметелево',\n",
       "       'поселок городского типа имени Свердлова', 'деревня Пеники',\n",
       "       'поселок Рябово', 'деревня Пудомяги', 'поселок станции Корнево',\n",
       "       'деревня Низино', 'деревня Бегуницы', 'посёлок Поляны',\n",
       "       'городской посёлок Мга', 'поселок Елизаветино',\n",
       "       'посёлок городского типа Кузнечное', 'деревня Колтуши',\n",
       "       'поселок Запорожское', 'посёлок городского типа Рощино',\n",
       "       'деревня Гостилицы', 'деревня Малое Карлино',\n",
       "       'посёлок Мичуринское', 'посёлок городского типа имени Морозова',\n",
       "       'посёлок Песочный', 'посёлок Сосново', 'деревня Аро',\n",
       "       'поселок Ильичёво', 'посёлок городского типа Тайцы',\n",
       "       'деревня Малое Верево', 'деревня Извара', 'поселок станции Вещево',\n",
       "       'село Паша', 'деревня Калитино',\n",
       "       'посёлок городского типа Ульяновка', 'деревня Чудской Бор',\n",
       "       'поселок городского типа Дубровка', 'деревня Мины',\n",
       "       'поселок Войсковицы', 'посёлок городского типа имени Свердлова',\n",
       "       'деревня Коркино', 'посёлок Ропша',\n",
       "       'поселок городского типа Приладожский', 'посёлок Щеглово',\n",
       "       'посёлок Гаврилово', 'Лодейное Поле', 'деревня Рабитицы',\n",
       "       'поселок городского типа Никольский', 'деревня Кузьмолово',\n",
       "       'деревня Малые Колпаны', 'поселок Тельмана',\n",
       "       'посёлок Петро-Славянка', 'городской посёлок Назия',\n",
       "       'посёлок Репино', 'посёлок Ильичёво', 'поселок Углово',\n",
       "       'поселок Старая Малукса', 'садовое товарищество Рахья',\n",
       "       'поселок Аннино', 'поселок Победа', 'деревня Меньково',\n",
       "       'деревня Старые Бегуницы', 'посёлок Сапёрный', 'поселок Семрино',\n",
       "       'поселок Гаврилово', 'поселок Глажево', 'поселок Кобринское',\n",
       "       'деревня Гарболово', 'деревня Юкки',\n",
       "       'поселок станции Приветнинское', 'деревня Мануйлово',\n",
       "       'деревня Пчева', 'поселок Поляны', 'поселок Цвылёво',\n",
       "       'поселок Мельниково', 'посёлок Пудость', 'посёлок Усть-Луга',\n",
       "       'Светогорск', 'Любань', 'поселок Селезнёво',\n",
       "       'поселок городского типа Рябово', 'Каменногорск', 'деревня Кривко',\n",
       "       'поселок Глебычево', 'деревня Парицы', 'поселок Жилпосёлок',\n",
       "       'посёлок городского типа Мга', 'городской поселок Янино-1',\n",
       "       'посёлок Войскорово', 'село Никольское', 'посёлок Терволово',\n",
       "       'поселок Стеклянный', 'посёлок городского типа Важины',\n",
       "       'посёлок Мыза-Ивановка', 'село Русско-Высоцкое',\n",
       "       'поселок городского типа Лебяжье',\n",
       "       'поселок городского типа Форносово', 'село Старая Ладога',\n",
       "       'поселок Житково', 'городской посёлок Виллози', 'деревня Лампово',\n",
       "       'деревня Шпаньково', 'деревня Лаврики', 'посёлок Сумино',\n",
       "       'посёлок Возрождение', 'деревня Старосиверская',\n",
       "       'посёлок Кикерино', 'поселок Возрождение',\n",
       "       'деревня Старое Хинколово', 'посёлок Пригородный',\n",
       "       'посёлок Торфяное', 'городской посёлок Будогощь',\n",
       "       'поселок Суходолье', 'поселок Красная Долина', 'деревня Хапо-Ое',\n",
       "       'поселок городского типа Дружная Горка', 'поселок Лисий Нос',\n",
       "       'деревня Яльгелево', 'посёлок Стеклянный', 'село Рождествено',\n",
       "       'деревня Старополье', 'посёлок Левашово', 'деревня Сяськелево',\n",
       "       'деревня Камышовка',\n",
       "       'садоводческое некоммерческое товарищество Лесная Поляна',\n",
       "       'деревня Хязельки', 'поселок Жилгородок',\n",
       "       'посёлок городского типа Павлово', 'деревня Ялгино',\n",
       "       'поселок Новый Учхоз', 'городской посёлок Рощино',\n",
       "       'поселок Гончарово', 'поселок Почап', 'посёлок Сапёрное',\n",
       "       'посёлок Платформа 69-й километр', 'поселок Каложицы',\n",
       "       'деревня Фалилеево', 'деревня Пельгора',\n",
       "       'поселок городского типа Лесогорский', 'деревня Торошковичи',\n",
       "       'посёлок Белоостров', 'посёлок Алексеевка', 'поселок Серебрянский',\n",
       "       'поселок Лукаши', 'поселок Петровское', 'деревня Щеглово',\n",
       "       'поселок Мичуринское', 'деревня Тарасово', 'поселок Кингисеппский',\n",
       "       'посёлок при железнодорожной станции Вещево', 'поселок Ушаки',\n",
       "       'деревня Котлы', 'деревня Сижно', 'деревня Торосово',\n",
       "       'посёлок Форт Красная Горка', 'деревня Новолисино',\n",
       "       'посёлок станции Громово', 'деревня Глинка', 'посёлок Мельниково',\n",
       "       'поселок городского типа Назия', 'деревня Старая Пустошь',\n",
       "       'поселок Коммунары', 'поселок Починок',\n",
       "       'посёлок городского типа Вознесенье', 'деревня Разбегаево',\n",
       "       'посёлок городского типа Рябово', 'поселок Гладкое',\n",
       "       'посёлок при железнодорожной станции Приветнинское',\n",
       "       'поселок Тёсово-4', 'посёлок Жилгородок', 'деревня Бор',\n",
       "       'посёлок Коробицыно', 'деревня Большая Вруда', 'деревня Курковицы',\n",
       "       'посёлок Лисий Нос', 'городской посёлок Советский',\n",
       "       'посёлок Кобралово', 'деревня Суоранда', 'поселок Кобралово',\n",
       "       'поселок городского типа Кондратьево',\n",
       "       'коттеджный поселок Счастье', 'поселок Любань', 'деревня Реброво',\n",
       "       'деревня Зимитицы', 'деревня Тойворово', 'поселок Семиозерье',\n",
       "       'поселок Лесное', 'поселок Совхозный', 'поселок Усть-Луга',\n",
       "       'посёлок Ленинское', 'посёлок Суйда',\n",
       "       'посёлок городского типа Форносово', 'деревня Нижние Осельки',\n",
       "       'посёлок станции Свирь', 'поселок Перово', 'Высоцк',\n",
       "       'поселок Гарболово', 'село Шум', 'поселок Котельский',\n",
       "       'поселок станции Лужайка', 'деревня Большая Пустомержа',\n",
       "       'поселок Красносельское', 'деревня Вахнова Кара', 'деревня Пижма',\n",
       "       'коттеджный поселок Кивеннапа Север', 'поселок Коробицыно',\n",
       "       'поселок Ромашки', 'посёлок Перово', 'деревня Каськово',\n",
       "       'деревня Куровицы', 'посёлок Плоское', 'поселок Сумино',\n",
       "       'поселок городского типа Большая Ижора', 'поселок Кирпичное',\n",
       "       'деревня Ям-Тесово', 'деревня Раздолье', 'деревня Терпилицы',\n",
       "       'поселок городского типа Токсово', 'посёлок Шугозеро',\n",
       "       'деревня Ваганово', 'поселок Пушное', 'садовое товарищество Садко',\n",
       "       'посёлок Усть-Ижора', 'деревня Выскатка',\n",
       "       'городской посёлок Свирьстрой', 'поселок Громово',\n",
       "       'деревня Кисельня', 'посёлок Старая Малукса',\n",
       "       'деревня Трубников Бор', 'поселок Калитино',\n",
       "       'посёлок Высокоключевой', 'садовое товарищество Приладожский',\n",
       "       'посёлок Пансионат Зелёный Бор', 'деревня Ненимяки',\n",
       "       'поселок Пансионат Зелёный Бор', 'деревня Снегирёвка',\n",
       "       'деревня Рапполово', 'деревня Пустынка', 'поселок Рабитицы',\n",
       "       'деревня Большой Сабск', 'деревня Русско', 'деревня Лупполово',\n",
       "       'деревня Большое Рейзино', 'деревня Малая Романовка',\n",
       "       'поселок Дружноселье', 'поселок Пчевжа', 'поселок Володарское',\n",
       "       'деревня Нижняя', 'коттеджный посёлок Лесное', 'деревня Тихковицы',\n",
       "       'деревня Борисова Грива', 'посёлок Дзержинского'], dtype=object)"
      ]
     },
     "execution_count": 18,
     "metadata": {},
     "output_type": "execute_result"
    }
   ],
   "source": [
    "#Пропуски в locality_name значением unknown\n",
    "data['locality_name'] = data['locality_name'].fillna('unknown')\n",
    "#Получим уникальные значения по столбцу\n",
    "data['locality_name'].unique()"
   ]
  },
  {
   "cell_type": "code",
   "execution_count": 19,
   "metadata": {},
   "outputs": [],
   "source": [
    "#приведем значения locality_name к нижниму регистру\n",
    "data['locality_name'] = data['locality_name'].str.lower()\n",
    "#Избавимся от явных дубликатов с помощью цепочки методов replace().\n",
    "data['locality_name'] = (\n",
    "    data['locality_name']\n",
    "    .str.replace('ё','е')\n",
    "    .replace(['поселок ','городского типа ', 'садовое товарищество '\n",
    "              , 'садоводческое некоммерческое товарищество ', 'коттеджный', 'городской'\n",
    "              , 'станции ', 'село ', 'пансионат ', 'при железнодорожной станции ','деревня '\n",
    "              , 'городской поселок '], '', regex=True))"
   ]
  },
  {
   "cell_type": "markdown",
   "metadata": {},
   "source": [
    "<div class=\"alert alert-success\">\n",
    "✔️ <b>Комментарий с комплиментом ревьюера:</b>\n",
    "\n",
    "Отлично, неявные дубликаты обработаны верно. 🔥\n",
    "</div>\n"
   ]
  },
  {
   "cell_type": "code",
   "execution_count": 20,
   "metadata": {},
   "outputs": [],
   "source": [
    "# переименуем cityCenters_nearest,parks_around3000,ponds_around3000 с учетом соблюдения змеиного синтаксиса\n",
    "data = data.rename(columns = {'cityCenters_nearest':'city_centers_nearest'\n",
    "                       ,'parks_around3000':'parks_around_3000'\n",
    "                      ,'ponds_around3000':'ponds_around_3000'})"
   ]
  },
  {
   "cell_type": "code",
   "execution_count": 21,
   "metadata": {},
   "outputs": [],
   "source": [
    "#заполню parks_around_3000 нулями\n",
    "data['parks_around_3000'] = data['parks_around_3000'].fillna(0)\n",
    "#изменим тип данных  parks_around_3000 с float64 на int64\n",
    "data['parks_around_3000'] = data['parks_around_3000'].astype(int)"
   ]
  },
  {
   "cell_type": "code",
   "execution_count": 22,
   "metadata": {},
   "outputs": [],
   "source": [
    "#заполню ponds_around_3000 нулями\n",
    "data['ponds_around_3000'] = data['ponds_around_3000'].fillna(0)\n",
    "#изменим тип данных  ponds_around_3000 с float64 на int64\n",
    "data['ponds_around_3000'] = data['ponds_around_3000'].astype(int)"
   ]
  },
  {
   "cell_type": "code",
   "execution_count": 23,
   "metadata": {},
   "outputs": [],
   "source": [
    "#изменим формат first_day_exposition\n",
    "data['first_day_exposition'] = pd.to_datetime(data['first_day_exposition'], format='%Y-%m-%dT%H:%M:%S')"
   ]
  },
  {
   "cell_type": "markdown",
   "metadata": {},
   "source": [
    "<div class=\"alert alert-success\">\n",
    "✔️ <b>Комментарий с комплиментом ревьюера:</b>\n",
    "\n",
    "Проделана хорошая работа по подготовке данных к анализу. "
   ]
  },
  {
   "cell_type": "markdown",
   "metadata": {},
   "source": [
    "<div>Промежуточный вывод:\n",
    "\n",
    "Найдены пропущенные значения.\n",
    "Пропущенные значения заполнены там, где это возможно.\n",
    "Объяснено, какие пропущенные значения обнаружены.\n",
    "В каждом столбце установлен корректный тип данных.\n",
    "Объяснено, в каких столбцах изменён тип данных и почему.\n",
    "Устранены неявные дубликаты в названиях населённых пунктов.\n",
    "Обработаны редкие и выбивающиеся значения (аномалии)\n",
    "</div>"
   ]
  },
  {
   "cell_type": "markdown",
   "metadata": {},
   "source": [
    "<div class=\"alert alert-danger\">\n",
    "❌ <b>Комментарий с замечанием ревьюера:</b> \n",
    "\n",
    "Добавь, пожалуйста, вывод по проведенной работе.\n",
    "</div>\n"
   ]
  },
  {
   "cell_type": "markdown",
   "metadata": {},
   "source": [
    "<div class=\"alert alert-info\"> <b>🎓 Комментарий студента:</b> Вывод добавлен.</div>"
   ]
  },
  {
   "cell_type": "markdown",
   "metadata": {},
   "source": [
    "<div class=\"alert alert-success\">\n",
    "✔️<b>Комментарий с комплиментом ревьюера в2:</b> \n",
    "\n",
    "Отлично"
   ]
  },
  {
   "cell_type": "markdown",
   "metadata": {
    "id": "QCcvyY6YAwb-"
   },
   "source": [
    "### Добавьте в таблицу новые столбцы"
   ]
  },
  {
   "cell_type": "markdown",
   "metadata": {
    "id": "Z8eJek3IAwb-"
   },
   "source": [
    "<div > <b>Заметка для выполнения шага 3:</b>\n",
    "1)цена одного квадратного метра (нужно поделить стоимость объекта на его общую площадь, а затем округлить до двух знаков после запятой);\n",
    "\n",
    "2)день недели публикации объявления (0 — понедельник, 1 — вторник и так далее);\n",
    "\n",
    "3)месяц публикации объявления;\n",
    "\n",
    "4)год публикации объявления;\n",
    "\n",
    "5)тип этажа квартиры (значения — «‎первый», «последний», «другой»);\n",
    "\n",
    "6)расстояние до центра города в километрах (переведите из м в км и округлите до ближайших целых значений).\n",
    "</div>"
   ]
  },
  {
   "cell_type": "code",
   "execution_count": 24,
   "metadata": {},
   "outputs": [],
   "source": [
    "#создаем параметр стоимость одного квадратного метра\n",
    "data['price_one_m'] = (data['last_price']/data['total_area']).round(2)"
   ]
  },
  {
   "cell_type": "code",
   "execution_count": 25,
   "metadata": {},
   "outputs": [],
   "source": [
    "#создаем параметр день недели публикации объявления\n",
    "data['day_week_pub'] = data['first_day_exposition'].dt.weekday"
   ]
  },
  {
   "cell_type": "code",
   "execution_count": 26,
   "metadata": {},
   "outputs": [],
   "source": [
    "#создаем параметр месяц публикации объявления\n",
    "data['month_pub'] = data['first_day_exposition'].dt.month"
   ]
  },
  {
   "cell_type": "code",
   "execution_count": 27,
   "metadata": {},
   "outputs": [],
   "source": [
    "#создаем параметр год публикации объявления\n",
    "data['year_pub'] = data['first_day_exposition'].dt.year"
   ]
  },
  {
   "cell_type": "code",
   "execution_count": 28,
   "metadata": {},
   "outputs": [],
   "source": [
    "#создаем параметр тип этажа квартиры\n",
    "def type_floor(row):\n",
    "    if row['floor']==1:\n",
    "        return 'первый'\n",
    "    elif row['floor'] == row['floors_total']:\n",
    "        return 'последний'\n",
    "    else:\n",
    "        return 'другой'\n",
    "    \n",
    "data['name_floor']=data.apply(type_floor, axis=1)"
   ]
  },
  {
   "cell_type": "code",
   "execution_count": 29,
   "metadata": {},
   "outputs": [],
   "source": [
    "#создаем параметр расстояние до центра города в километрах\n",
    "data['city_centers_nearest_km']=(data['city_centers_nearest']/1000).round()"
   ]
  },
  {
   "cell_type": "markdown",
   "metadata": {},
   "source": [
    "<div class=\"alert alert-success\">\n",
    "✔️ <b>Комментарий с комплиментом ревьюера:</b>\n",
    "\n",
    "Все необходимые столбцы добавлены.\n",
    "\n",
    "</div>\n"
   ]
  },
  {
   "cell_type": "markdown",
   "metadata": {
    "id": "pPyxrKWTAwb-"
   },
   "source": [
    "### Проведите исследовательский анализ данных"
   ]
  },
  {
   "cell_type": "markdown",
   "metadata": {
    "id": "V2f0D3kLAwb-"
   },
   "source": [
    "<div > <b>Заметка для выполнения шага 4:</b>\n",
    "Изучите перечисленные ниже параметры объектов и постройте отдельные гистограммы для каждого из этих параметров. В некоторых параметрах встречаются редкие и выбивающиеся значения. При построении гистограмм удалите их. Попробуйте обработать аномалии в этом и других столбцах, если они есть. Если природа аномалии понятна и данные действительно искажены, то восстановите корректное значение. В противном случае удалите редкие и выбивающиеся значения.\n",
    "\n",
    "Список параметров:\n",
    "общая площадь;\n",
    "жилая площадь;\n",
    "площадь кухни;\n",
    "цена объекта;\n",
    "количество комнат;\n",
    "высота потолков;\n",
    "тип этажа квартиры («первый», «последний», «другой»);\n",
    "общее количество этажей в доме;\n",
    "расстояние до центра города в метрах;\n",
    "расстояние до ближайшего парка\n",
    "Опишите все ваши наблюдения по параметрам в ячейке с типом markdown.\n",
    "Изучите, как быстро продавались квартиры (столбец days_exposition). Этот параметр показывает, сколько дней было размещено каждое объявление.\n",
    "Постройте гистограмму.\n",
    "Посчитайте среднее и медиану.\n",
    "В ячейке типа markdown опишите, сколько времени обычно занимает продажа. Какие продажи можно считать быстрыми, а какие — необычно долгими?\n",
    "Определите факторы, которые больше всего влияют на общую (полную) стоимость объекта.\n",
    "Изучите, зависит ли цена от:\n",
    "общей площади;\n",
    "жилой площади;\n",
    "площади кухни;\n",
    "количества комнат;\n",
    "этажа, на котором расположена квартира (первый, последний, другой);\n",
    "даты размещения (день недели, месяц, год).\n",
    "Постройте графики, которые покажут зависимость цены от указанных выше параметров. Для подготовки данных перед визуализацией вы можете использовать сводные таблицы.\n",
    "Посчитайте среднюю цену одного квадратного метра в 10 населённых пунктах с наибольшим числом объявлений — постройте сводную таблицу с количеством объявлений и средней ценой квадратного метра для этих населенных пунктов. Выделите населённые пункты с самой высокой и низкой стоимостью квадратного метра.\n",
    "Ранее вы посчитали расстояние до центра в километрах. Теперь выделите квартиры в Санкт-Петербурге с помощью столбца locality_name и вычислите их среднюю стоимость на разном удалении от центра. Учитывайте каждый километр расстояния: узнайте среднюю цену квартир в одном километре от центра, в двух и так далее. Опишите, как стоимость объектов зависит от расстояния до центра города — постройте график изменения средней цены для каждого километра от центра Петербурга.\n",
    "</div>"
   ]
  },
  {
   "cell_type": "code",
   "execution_count": 30,
   "metadata": {},
   "outputs": [
    {
     "data": {
      "text/plain": [
       "count    23613.000000\n",
       "mean        60.340678\n",
       "std         35.648988\n",
       "min         12.000000\n",
       "25%         40.000000\n",
       "50%         52.000000\n",
       "75%         69.800000\n",
       "max        900.000000\n",
       "Name: total_area, dtype: float64"
      ]
     },
     "execution_count": 30,
     "metadata": {},
     "output_type": "execute_result"
    }
   ],
   "source": [
    "#Получим описательную статистику total_area\n",
    "data['total_area'].describe()"
   ]
  },
  {
   "cell_type": "code",
   "execution_count": 31,
   "metadata": {},
   "outputs": [
    {
     "data": {
      "image/png": "[encoded data removed]",
      "text/plain": [
       "<Figure size 720x576 with 1 Axes>"
      ]
     },
     "metadata": {
      "needs_background": "light"
     },
     "output_type": "display_data"
    }
   ],
   "source": [
    "\n",
    "#Построим гистограмму\n",
    "data.plot(y = 'total_area', kind = 'hist', bins = 100, grid=True, figsize = (10,8), range = (0,150), legend=True)\n",
    "plt.title('Зависимость количества объявлений о продаже квартир от общей площади квартиры')\n",
    "plt.xlabel('кв.м')\n",
    "plt.ylabel('кол.кв')\n",
    "plt.show()"
   ]
  },
  {
   "cell_type": "markdown",
   "metadata": {},
   "source": [
    "Наибольшее количество объявлений о продаже квартир с общей площадью 30 кв.м до 65 кв.м. "
   ]
  },
  {
   "cell_type": "code",
   "execution_count": 32,
   "metadata": {},
   "outputs": [
    {
     "data": {
      "text/plain": [
       "count    23613.000000\n",
       "mean        34.181140\n",
       "std         21.631271\n",
       "min          0.000000\n",
       "25%         18.400000\n",
       "50%         30.000000\n",
       "75%         42.700000\n",
       "max        409.700000\n",
       "Name: living_area, dtype: float64"
      ]
     },
     "execution_count": 32,
     "metadata": {},
     "output_type": "execute_result"
    }
   ],
   "source": [
    "#Получим описательную статистику living_area\n",
    "data['living_area'].describe()"
   ]
  },
  {
   "cell_type": "code",
   "execution_count": 33,
   "metadata": {},
   "outputs": [
    {
     "data": {
      "image/png": "[encoded data removed]",
      "text/plain": [
       "<Figure size 720x576 with 1 Axes>"
      ]
     },
     "metadata": {
      "needs_background": "light"
     },
     "output_type": "display_data"
    }
   ],
   "source": [
    "##Построим гистограмму\n",
    "data.plot(y = 'living_area', kind = 'hist', bins = 100, grid=True, figsize = (10,8), range = (0,150), legend=True)\n",
    "plt.title('Зависимость количества объявлений о продаже квартир от жилой площади квартиры')\n",
    "plt.xlabel('кв.м')\n",
    "plt.ylabel('кол.кв')\n",
    "plt.show()"
   ]
  },
  {
   "cell_type": "markdown",
   "metadata": {},
   "source": [
    "Наибольшее количество объявлений о продаже квартир с жилой площадью от 15 кв.м до 35 кв.м."
   ]
  },
  {
   "cell_type": "code",
   "execution_count": 34,
   "metadata": {},
   "outputs": [
    {
     "data": {
      "text/plain": [
       "count    23613.000000\n",
       "mean         9.566009\n",
       "std          6.412137\n",
       "min          0.000000\n",
       "25%          6.300000\n",
       "50%          9.000000\n",
       "75%         11.420000\n",
       "max        112.000000\n",
       "Name: kitchen_area, dtype: float64"
      ]
     },
     "execution_count": 34,
     "metadata": {},
     "output_type": "execute_result"
    }
   ],
   "source": [
    "#Получим описательную статистику kitchen_area\n",
    "data['kitchen_area'].describe()"
   ]
  },
  {
   "cell_type": "code",
   "execution_count": 35,
   "metadata": {},
   "outputs": [
    {
     "data": {
      "image/png": "[encoded data removed]",
      "text/plain": [
       "<Figure size 720x576 with 1 Axes>"
      ]
     },
     "metadata": {
      "needs_background": "light"
     },
     "output_type": "display_data"
    }
   ],
   "source": [
    "#Построим гистограмму\n",
    "data.plot(y = 'kitchen_area', kind = 'hist', bins = 100, grid=True, figsize = (10,8), range = (0,70), legend=True)\n",
    "plt.title('Зависимость количества объявлений о продаже квартир от площади кухни')\n",
    "plt.xlabel('кв.м')\n",
    "plt.ylabel('кол.кв')\n",
    "plt.show()"
   ]
  },
  {
   "cell_type": "markdown",
   "metadata": {},
   "source": [
    "Наибольшее количество объявлений о продаже квартир с площадью кухни от 5 кв.м до 12 кв.м."
   ]
  },
  {
   "cell_type": "code",
   "execution_count": 36,
   "metadata": {},
   "outputs": [
    {
     "data": {
      "text/plain": [
       "count    23613.000000\n",
       "mean         2.071147\n",
       "std          1.078380\n",
       "min          0.000000\n",
       "25%          1.000000\n",
       "50%          2.000000\n",
       "75%          3.000000\n",
       "max         19.000000\n",
       "Name: rooms, dtype: float64"
      ]
     },
     "execution_count": 36,
     "metadata": {},
     "output_type": "execute_result"
    }
   ],
   "source": [
    "#Получим описательную статистику rooms\n",
    "data['rooms'].describe()"
   ]
  },
  {
   "cell_type": "code",
   "execution_count": 37,
   "metadata": {},
   "outputs": [],
   "source": [
    "#избавились от аномалий (квартир с комнатами 0)\n",
    "data= data.query('rooms!=0')"
   ]
  },
  {
   "cell_type": "code",
   "execution_count": 38,
   "metadata": {},
   "outputs": [
    {
     "data": {
      "image/png": "[encoded data removed]",
      "text/plain": [
       "<Figure size 720x576 with 1 Axes>"
      ]
     },
     "metadata": {
      "needs_background": "light"
     },
     "output_type": "display_data"
    }
   ],
   "source": [
    "data.plot(y = 'rooms', kind = 'hist', bins = 30, grid=True, figsize = (10,8), range = (0,10), legend=True)\n",
    "plt.title('Зависимость количества объявлений о продаже квартир от количества комнат')\n",
    "plt.xlabel('кол ком')\n",
    "plt.ylabel('кол.кв')\n",
    "plt.show()"
   ]
  },
  {
   "cell_type": "markdown",
   "metadata": {},
   "source": [
    "Наибольшее количество объявлений о продаже квартир с комнатами от 1 до 3"
   ]
  },
  {
   "cell_type": "code",
   "execution_count": 39,
   "metadata": {},
   "outputs": [
    {
     "data": {
      "text/plain": [
       "count    23419.000000\n",
       "mean         2.698701\n",
       "std          0.253578\n",
       "min          1.000000\n",
       "25%          2.600000\n",
       "50%          2.650000\n",
       "75%          2.700000\n",
       "max         14.000000\n",
       "Name: ceiling_height, dtype: float64"
      ]
     },
     "execution_count": 39,
     "metadata": {},
     "output_type": "execute_result"
    }
   ],
   "source": [
    "#Получим описательную статистику ceiling_height\n",
    "data['ceiling_height'].describe()"
   ]
  },
  {
   "cell_type": "code",
   "execution_count": 40,
   "metadata": {},
   "outputs": [
    {
     "data": {
      "image/png": "[encoded data removed]",
      "text/plain": [
       "<Figure size 720x576 with 1 Axes>"
      ]
     },
     "metadata": {
      "needs_background": "light"
     },
     "output_type": "display_data"
    }
   ],
   "source": [
    "data.plot(y = 'ceiling_height', kind = 'hist', bins = 30, grid=True, figsize = (10,8), range = (0,5), legend=True)\n",
    "plt.title('Зависимость количества объявлений о продаже квартир от  высоты потолков')\n",
    "plt.xlabel('м')\n",
    "plt.ylabel('кол.кв')\n",
    "plt.show()"
   ]
  },
  {
   "cell_type": "markdown",
   "metadata": {},
   "source": [
    "Наибольшее количество объявлений о продаже квартир с высотой потолков от 2,5 м до 2,8 м"
   ]
  },
  {
   "cell_type": "code",
   "execution_count": 41,
   "metadata": {},
   "outputs": [
    {
     "data": {
      "text/plain": [
       "count      23419\n",
       "unique         3\n",
       "top       другой\n",
       "freq       17198\n",
       "Name: name_floor, dtype: object"
      ]
     },
     "execution_count": 41,
     "metadata": {},
     "output_type": "execute_result"
    }
   ],
   "source": [
    "#тип этажа квартиры («первый», «последний», «другой»)\n",
    "data['name_floor'].describe()"
   ]
  },
  {
   "cell_type": "code",
   "execution_count": 42,
   "metadata": {},
   "outputs": [
    {
     "data": {
      "text/plain": [
       "<AxesSubplot:ylabel='floor'>"
      ]
     },
     "execution_count": 42,
     "metadata": {},
     "output_type": "execute_result"
    },
    {
     "data": {
      "image/png": "[encoded data removed]",
      "text/plain": [
       "<Figure size 432x288 with 1 Axes>"
      ]
     },
     "metadata": {},
     "output_type": "display_data"
    }
   ],
   "source": [
    "data.pivot_table(index='name_floor', values = 'floor', aggfunc='count').plot(kind='pie', y ='floor', autopct='%1.0f%%')"
   ]
  },
  {
   "cell_type": "markdown",
   "metadata": {},
   "source": [
    "Количество объявлений о продаже квартир на первом этаже меньше чем на последнем."
   ]
  },
  {
   "cell_type": "code",
   "execution_count": 43,
   "metadata": {},
   "outputs": [
    {
     "data": {
      "text/plain": [
       "count    23419.000000\n",
       "mean        10.622273\n",
       "std          6.569964\n",
       "min          1.000000\n",
       "25%          5.000000\n",
       "50%          9.000000\n",
       "75%         16.000000\n",
       "max         60.000000\n",
       "Name: floors_total, dtype: float64"
      ]
     },
     "execution_count": 43,
     "metadata": {},
     "output_type": "execute_result"
    }
   ],
   "source": [
    "#Получим описательную статистику ceiling_height\n",
    "data['floors_total'].describe()"
   ]
  },
  {
   "cell_type": "code",
   "execution_count": 44,
   "metadata": {},
   "outputs": [
    {
     "data": {
      "image/png": "[encoded data removed]",
      "text/plain": [
       "<Figure size 720x576 with 1 Axes>"
      ]
     },
     "metadata": {
      "needs_background": "light"
     },
     "output_type": "display_data"
    }
   ],
   "source": [
    "#строим гистограмму\n",
    "data.plot(y = 'floors_total', kind = 'hist', bins = 30, grid=True, figsize = (10,8), range = (0,60), legend=True)\n",
    "plt.title('Зависимость количества объявлений о продаже квартир от  высоты потолков')\n",
    "plt.xlabel('кол.этаж')\n",
    "plt.ylabel('кол.кв')\n",
    "plt.show()"
   ]
  },
  {
   "cell_type": "markdown",
   "metadata": {},
   "source": [
    "Наибольшое количество объявлений о продаже квартир в домах 5-этажных и 9-ти этажных"
   ]
  },
  {
   "cell_type": "code",
   "execution_count": 45,
   "metadata": {},
   "outputs": [
    {
     "data": {
      "text/plain": [
       "count    17987.000000\n",
       "mean     14190.166398\n",
       "std       8632.361562\n",
       "min        181.000000\n",
       "25%       9229.000000\n",
       "50%      13083.000000\n",
       "75%      16285.000000\n",
       "max      65968.000000\n",
       "Name: city_centers_nearest, dtype: float64"
      ]
     },
     "execution_count": 45,
     "metadata": {},
     "output_type": "execute_result"
    }
   ],
   "source": [
    "#Получим описательную статистику city_centers_nearest\n",
    "data['city_centers_nearest'].describe()"
   ]
  },
  {
   "cell_type": "code",
   "execution_count": 46,
   "metadata": {},
   "outputs": [
    {
     "data": {
      "image/png": "[encoded data removed]",
      "text/plain": [
       "<Figure size 720x576 with 1 Axes>"
      ]
     },
     "metadata": {
      "needs_background": "light"
     },
     "output_type": "display_data"
    }
   ],
   "source": [
    "#строим гистограмму\n",
    "data.plot(y = 'city_centers_nearest', kind = 'hist', bins = 30, grid=True, figsize = (10,8), range = (150,65968), legend=True)\n",
    "plt.title('Зависимость количества объявлений от удаленности от цента города')\n",
    "plt.xlabel('м')\n",
    "plt.ylabel('кол.кв')\n",
    "plt.show()"
   ]
  },
  {
   "cell_type": "markdown",
   "metadata": {},
   "source": [
    "Наибольшее количество объявлений квартир, с удаленностью от цента города в диапозоне от 11 км до 15 км"
   ]
  },
  {
   "cell_type": "code",
   "execution_count": 47,
   "metadata": {},
   "outputs": [
    {
     "data": {
      "text/plain": [
       "count    8017.000000\n",
       "mean      490.220282\n",
       "std       341.427493\n",
       "min         1.000000\n",
       "25%       288.000000\n",
       "50%       454.000000\n",
       "75%       612.000000\n",
       "max      3190.000000\n",
       "Name: parks_nearest, dtype: float64"
      ]
     },
     "execution_count": 47,
     "metadata": {},
     "output_type": "execute_result"
    }
   ],
   "source": [
    "#Получим описательную статистику city_centers_nearest\n",
    "data['parks_nearest'].describe()"
   ]
  },
  {
   "cell_type": "code",
   "execution_count": 48,
   "metadata": {},
   "outputs": [
    {
     "data": {
      "image/png": "[encoded data removed]",
      "text/plain": [
       "<Figure size 720x576 with 1 Axes>"
      ]
     },
     "metadata": {
      "needs_background": "light"
     },
     "output_type": "display_data"
    }
   ],
   "source": [
    "data.plot(y = 'parks_nearest', kind = 'hist', bins = 30, grid=True, figsize = (10,8), range = (0,3500), legend=True)\n",
    "plt.title('Зависимость количества объявлений от удаленности от ближайшего парка')\n",
    "plt.xlabel('м')\n",
    "plt.ylabel('кол.кв')\n",
    "plt.show()"
   ]
  },
  {
   "cell_type": "markdown",
   "metadata": {},
   "source": [
    "Наибольшее количество объявлений квартир, с растоянием до ближайшего парка от 250 м до 700 м"
   ]
  },
  {
   "cell_type": "markdown",
   "metadata": {},
   "source": [
    "<div class=\"alert alert-success\">\n",
    "✔️ <b>Комментарий с комплиментом ревьюера:</b>\n",
    "\n",
    "Построены корректные графики, здорово, что применил метод describe()\n",
    "\n",
    "</div>\n"
   ]
  },
  {
   "cell_type": "code",
   "execution_count": 49,
   "metadata": {},
   "outputs": [
    {
     "data": {
      "text/plain": [
       "count    20261.000000\n",
       "mean       181.511722\n",
       "std        220.045540\n",
       "min          1.000000\n",
       "25%         45.000000\n",
       "50%         96.000000\n",
       "75%        232.000000\n",
       "max       1580.000000\n",
       "Name: days_exposition, dtype: float64"
      ]
     },
     "execution_count": 49,
     "metadata": {},
     "output_type": "execute_result"
    }
   ],
   "source": [
    "#\n",
    "data['days_exposition'].describe()"
   ]
  },
  {
   "cell_type": "markdown",
   "metadata": {},
   "source": [
    "Медианное значение продажи квартир 96 дней, среднее 181 день"
   ]
  },
  {
   "cell_type": "code",
   "execution_count": 50,
   "metadata": {},
   "outputs": [
    {
     "data": {
      "image/png": "[encoded data removed]",
      "text/plain": [
       "<Figure size 720x576 with 1 Axes>"
      ]
     },
     "metadata": {
      "needs_background": "light"
     },
     "output_type": "display_data"
    }
   ],
   "source": [
    "#построим гистограмму\n",
    "data.plot(y = 'days_exposition', kind = 'hist', bins = 100, grid=True, figsize = (10,8), range = (0,1600), legend=True)\n",
    "plt.title('Зависимость количества объявлений от длительности размещения объявления (от публикации до снятия)')\n",
    "plt.xlabel('дни')\n",
    "plt.ylabel('кол.кв')\n",
    "plt.show()"
   ]
  },
  {
   "cell_type": "markdown",
   "metadata": {},
   "source": [
    "Продажи c длительностью до 50 дней можно считать быстрыми, c длительностью более 232 дней — необычно долгими."
   ]
  },
  {
   "cell_type": "markdown",
   "metadata": {},
   "source": [
    "<div class=\"alert alert-success\">\n",
    "✔️ <b>Комментарий с комплиментом ревьюера:</b>\n",
    "\n",
    "Согласен\n",
    "\n",
    "</div>\n"
   ]
  },
  {
   "cell_type": "code",
   "execution_count": 51,
   "metadata": {},
   "outputs": [
    {
     "data": {
      "text/html": [
       "<div>\n",
       "<style scoped>\n",
       "    .dataframe tbody tr th:only-of-type {\n",
       "        vertical-align: middle;\n",
       "    }\n",
       "\n",
       "    .dataframe tbody tr th {\n",
       "        vertical-align: top;\n",
       "    }\n",
       "\n",
       "    .dataframe thead th {\n",
       "        text-align: right;\n",
       "    }\n",
       "</style>\n",
       "<table border=\"1\" class=\"dataframe\">\n",
       "  <thead>\n",
       "    <tr style=\"text-align: right;\">\n",
       "      <th></th>\n",
       "      <th>last_price</th>\n",
       "    </tr>\n",
       "  </thead>\n",
       "  <tbody>\n",
       "    <tr>\n",
       "      <th>last_price</th>\n",
       "      <td>1.0</td>\n",
       "    </tr>\n",
       "  </tbody>\n",
       "</table>\n",
       "</div>"
      ],
      "text/plain": [
       "            last_price\n",
       "last_price         1.0"
      ]
     },
     "execution_count": 51,
     "metadata": {},
     "output_type": "execute_result"
    }
   ],
   "source": [
    "data.pivot_table(index=['total_area',\n",
    "                        'living_area',\n",
    "                        'kitchen_area',\n",
    "                        'rooms','name_floor','day_week_pub','month_pub','year_pub'], values ='last_price').corr()"
   ]
  },
  {
   "cell_type": "code",
   "execution_count": 52,
   "metadata": {},
   "outputs": [
    {
     "data": {
      "text/html": [
       "<div>\n",
       "<style scoped>\n",
       "    .dataframe tbody tr th:only-of-type {\n",
       "        vertical-align: middle;\n",
       "    }\n",
       "\n",
       "    .dataframe tbody tr th {\n",
       "        vertical-align: top;\n",
       "    }\n",
       "\n",
       "    .dataframe thead th {\n",
       "        text-align: right;\n",
       "    }\n",
       "</style>\n",
       "<table border=\"1\" class=\"dataframe\">\n",
       "  <thead>\n",
       "    <tr style=\"text-align: right;\">\n",
       "      <th></th>\n",
       "      <th>day_week_pub</th>\n",
       "      <th>kitchen_area</th>\n",
       "      <th>last_price</th>\n",
       "      <th>living_area</th>\n",
       "      <th>month_pub</th>\n",
       "      <th>rooms</th>\n",
       "      <th>total_area</th>\n",
       "      <th>year_pub</th>\n",
       "    </tr>\n",
       "  </thead>\n",
       "  <tbody>\n",
       "    <tr>\n",
       "      <th>day_week_pub</th>\n",
       "      <td>1.000000</td>\n",
       "      <td>0.539603</td>\n",
       "      <td>0.308759</td>\n",
       "      <td>0.082492</td>\n",
       "      <td>0.268431</td>\n",
       "      <td>-0.081575</td>\n",
       "      <td>0.310820</td>\n",
       "      <td>0.181024</td>\n",
       "    </tr>\n",
       "    <tr>\n",
       "      <th>kitchen_area</th>\n",
       "      <td>0.539603</td>\n",
       "      <td>1.000000</td>\n",
       "      <td>0.276069</td>\n",
       "      <td>0.132575</td>\n",
       "      <td>-0.008628</td>\n",
       "      <td>0.142849</td>\n",
       "      <td>0.438526</td>\n",
       "      <td>-0.259717</td>\n",
       "    </tr>\n",
       "    <tr>\n",
       "      <th>last_price</th>\n",
       "      <td>0.308759</td>\n",
       "      <td>0.276069</td>\n",
       "      <td>1.000000</td>\n",
       "      <td>0.614336</td>\n",
       "      <td>-0.010242</td>\n",
       "      <td>0.436850</td>\n",
       "      <td>0.735766</td>\n",
       "      <td>-0.062943</td>\n",
       "    </tr>\n",
       "    <tr>\n",
       "      <th>living_area</th>\n",
       "      <td>0.082492</td>\n",
       "      <td>0.132575</td>\n",
       "      <td>0.614336</td>\n",
       "      <td>1.000000</td>\n",
       "      <td>-0.153746</td>\n",
       "      <td>0.901953</td>\n",
       "      <td>0.922286</td>\n",
       "      <td>-0.057198</td>\n",
       "    </tr>\n",
       "    <tr>\n",
       "      <th>month_pub</th>\n",
       "      <td>0.268431</td>\n",
       "      <td>-0.008628</td>\n",
       "      <td>-0.010242</td>\n",
       "      <td>-0.153746</td>\n",
       "      <td>1.000000</td>\n",
       "      <td>-0.293921</td>\n",
       "      <td>-0.053160</td>\n",
       "      <td>-0.357437</td>\n",
       "    </tr>\n",
       "    <tr>\n",
       "      <th>rooms</th>\n",
       "      <td>-0.081575</td>\n",
       "      <td>0.142849</td>\n",
       "      <td>0.436850</td>\n",
       "      <td>0.901953</td>\n",
       "      <td>-0.293921</td>\n",
       "      <td>1.000000</td>\n",
       "      <td>0.806469</td>\n",
       "      <td>-0.053373</td>\n",
       "    </tr>\n",
       "    <tr>\n",
       "      <th>total_area</th>\n",
       "      <td>0.310820</td>\n",
       "      <td>0.438526</td>\n",
       "      <td>0.735766</td>\n",
       "      <td>0.922286</td>\n",
       "      <td>-0.053160</td>\n",
       "      <td>0.806469</td>\n",
       "      <td>1.000000</td>\n",
       "      <td>-0.098156</td>\n",
       "    </tr>\n",
       "    <tr>\n",
       "      <th>year_pub</th>\n",
       "      <td>0.181024</td>\n",
       "      <td>-0.259717</td>\n",
       "      <td>-0.062943</td>\n",
       "      <td>-0.057198</td>\n",
       "      <td>-0.357437</td>\n",
       "      <td>-0.053373</td>\n",
       "      <td>-0.098156</td>\n",
       "      <td>1.000000</td>\n",
       "    </tr>\n",
       "  </tbody>\n",
       "</table>\n",
       "</div>"
      ],
      "text/plain": [
       "              day_week_pub  kitchen_area  last_price  living_area  month_pub  \\\n",
       "day_week_pub      1.000000      0.539603    0.308759     0.082492   0.268431   \n",
       "kitchen_area      0.539603      1.000000    0.276069     0.132575  -0.008628   \n",
       "last_price        0.308759      0.276069    1.000000     0.614336  -0.010242   \n",
       "living_area       0.082492      0.132575    0.614336     1.000000  -0.153746   \n",
       "month_pub         0.268431     -0.008628   -0.010242    -0.153746   1.000000   \n",
       "rooms            -0.081575      0.142849    0.436850     0.901953  -0.293921   \n",
       "total_area        0.310820      0.438526    0.735766     0.922286  -0.053160   \n",
       "year_pub          0.181024     -0.259717   -0.062943    -0.057198  -0.357437   \n",
       "\n",
       "                 rooms  total_area  year_pub  \n",
       "day_week_pub -0.081575    0.310820  0.181024  \n",
       "kitchen_area  0.142849    0.438526 -0.259717  \n",
       "last_price    0.436850    0.735766 -0.062943  \n",
       "living_area   0.901953    0.922286 -0.057198  \n",
       "month_pub    -0.293921   -0.053160 -0.357437  \n",
       "rooms         1.000000    0.806469 -0.053373  \n",
       "total_area    0.806469    1.000000 -0.098156  \n",
       "year_pub     -0.053373   -0.098156  1.000000  "
      ]
     },
     "execution_count": 52,
     "metadata": {},
     "output_type": "execute_result"
    }
   ],
   "source": [
    "\n",
    "data.pivot_table(index='floor', values=['last_price',\n",
    "                                        'total_area',\n",
    "                                        'living_area',\n",
    "                                        'kitchen_area',\n",
    "                                        'rooms',\n",
    "                                        'name_floor','day_week_pub','month_pub','year_pub']).corr()"
   ]
  },
  {
   "cell_type": "markdown",
   "metadata": {},
   "source": [
    "<div>\n",
    "    Согласно коэфициенту кореляции Пирсона на общую (полную) стоимость объекта:\n",
    "    \n",
    "в большей степени влияют(линейная зависимость):\n",
    "\n",
    "<li>общая площадь</li>\n",
    "<li>жилая площадь</li>\n",
    "\n",
    "в меньшей степени влияют:\n",
    "<li>количество комнат</li>\n",
    "<li>площадь кухни</li>\n",
    "<li>день недели публикации объявления</li>\n",
    "\n",
    "не имеют влияния:\n",
    "<li>месяц публикации </li>\n",
    "<li>год публикации</li>\n",
    "</div>\n",
    "\n",
    "\n",
    "\n"
   ]
  },
  {
   "cell_type": "code",
   "execution_count": 53,
   "metadata": {},
   "outputs": [
    {
     "data": {
      "image/png": "[encoded data removed]",
      "text/plain": [
       "<Figure size 720x720 with 1 Axes>"
      ]
     },
     "metadata": {
      "needs_background": "light"
     },
     "output_type": "display_data"
    }
   ],
   "source": [
    "data.pivot_table(index='total_area', values='last_price').plot(grid=True, style='o', figsize=(10, 10))\n",
    "plt.title('Зависимость цены от общей площади')\n",
    "plt.xlabel('Общая площадь')\n",
    "plt.ylabel('Цена')\n",
    "plt.show()"
   ]
  },
  {
   "cell_type": "code",
   "execution_count": 54,
   "metadata": {},
   "outputs": [
    {
     "data": {
      "image/png": "[encoded data removed]",
      "text/plain": [
       "<Figure size 720x720 with 1 Axes>"
      ]
     },
     "metadata": {
      "needs_background": "light"
     },
     "output_type": "display_data"
    }
   ],
   "source": [
    "data.pivot_table(index='living_area', values='last_price').plot(grid=True, style='o', figsize=(10, 10))\n",
    "plt.title('Зависимость цены от жилой площади')\n",
    "plt.xlabel('Жилая площадь')\n",
    "plt.ylabel('Цена')\n",
    "plt.show()"
   ]
  },
  {
   "cell_type": "code",
   "execution_count": 55,
   "metadata": {},
   "outputs": [
    {
     "data": {
      "image/png": "[encoded data removed]",
      "text/plain": [
       "<Figure size 720x720 with 1 Axes>"
      ]
     },
     "metadata": {
      "needs_background": "light"
     },
     "output_type": "display_data"
    }
   ],
   "source": [
    "data.pivot_table(index='kitchen_area', values='last_price').plot(grid=True, style='o', figsize=(10, 10))\n",
    "plt.title('Зависимость цены от площади кухни')\n",
    "plt.xlabel('Площадь кухни')\n",
    "plt.ylabel('Цена')\n",
    "plt.show()"
   ]
  },
  {
   "cell_type": "code",
   "execution_count": 56,
   "metadata": {},
   "outputs": [
    {
     "data": {
      "image/png": "[encoded data removed]",
      "text/plain": [
       "<Figure size 720x720 with 1 Axes>"
      ]
     },
     "metadata": {
      "needs_background": "light"
     },
     "output_type": "display_data"
    }
   ],
   "source": [
    "data.pivot_table(index='rooms', values='last_price').plot(grid=True, style='-o', figsize=(10, 10))\n",
    "plt.title('Зависимость цены от количества комнат')\n",
    "plt.xlabel('Количество комнат')\n",
    "plt.ylabel('Цена')\n",
    "plt.show()"
   ]
  },
  {
   "cell_type": "code",
   "execution_count": 57,
   "metadata": {},
   "outputs": [
    {
     "data": {
      "image/png": "[encoded data removed]",
      "text/plain": [
       "<Figure size 720x720 with 1 Axes>"
      ]
     },
     "metadata": {
      "needs_background": "light"
     },
     "output_type": "display_data"
    }
   ],
   "source": [
    "data.pivot_table(index='name_floor', values='last_price').plot(grid=True, style='-o', figsize=(10, 10))\n",
    "plt.title('Зависимость цены от этажа')\n",
    "plt.xlabel('Этаж')\n",
    "plt.ylabel('Цена')\n",
    "plt.show()"
   ]
  },
  {
   "cell_type": "code",
   "execution_count": 58,
   "metadata": {},
   "outputs": [
    {
     "data": {
      "image/png": "[encoded data removed]",
      "text/plain": [
       "<Figure size 720x720 with 1 Axes>"
      ]
     },
     "metadata": {
      "needs_background": "light"
     },
     "output_type": "display_data"
    }
   ],
   "source": [
    "data.pivot_table(index='day_week_pub', values='last_price').plot(grid=True, style='-o', figsize=(10, 10))\n",
    "plt.title('Зависимость цены от дня недели размещения объявления')\n",
    "plt.xlabel('День недели')\n",
    "plt.ylabel('Цена')\n",
    "plt.show()"
   ]
  },
  {
   "cell_type": "code",
   "execution_count": 59,
   "metadata": {},
   "outputs": [
    {
     "data": {
      "image/png": "[encoded data removed]",
      "text/plain": [
       "<Figure size 720x720 with 1 Axes>"
      ]
     },
     "metadata": {
      "needs_background": "light"
     },
     "output_type": "display_data"
    }
   ],
   "source": [
    "data.pivot_table(index='month_pub', values='last_price').plot(kind ='bar',grid=True, style='-o', figsize=(10, 10))\n",
    "plt.title('Зависимость цены от месяца размещения объявления')\n",
    "plt.xlabel('Месяц')\n",
    "plt.ylabel('Цена')\n",
    "plt.show()"
   ]
  },
  {
   "cell_type": "code",
   "execution_count": 60,
   "metadata": {},
   "outputs": [
    {
     "data": {
      "image/png": "[encoded data removed]",
      "text/plain": [
       "<Figure size 720x720 with 1 Axes>"
      ]
     },
     "metadata": {
      "needs_background": "light"
     },
     "output_type": "display_data"
    }
   ],
   "source": [
    "data.pivot_table(index='year_pub', values='last_price').plot(kind ='bar', grid=True, style='-o', figsize=(10, 10))\n",
    "plt.title('Зависимость цены от года размещения объявления')\n",
    "plt.xlabel('Год')\n",
    "plt.ylabel('Цена')\n",
    "plt.show()"
   ]
  },
  {
   "cell_type": "markdown",
   "metadata": {},
   "source": [
    "\n",
    "<div class=\"alert alert-warning\">\n",
    "⚠️  <b>Комментарий с небольшим замечанием или советом ревьюера:</b>\n",
    "\n",
    "Подпиши, пожалуйста, оси графиков на русском языке. Также здесь советую применить другой тип график - столбчатую диаграмму, такой график будет корректнее отображать изменение показаетля по году, месяцу, недели. \n",
    "</div>\n"
   ]
  },
  {
   "cell_type": "markdown",
   "metadata": {},
   "source": [
    "<div class=\"alert alert-info\"> <b>🎓 Комментарий студента:</b> Рекомендации выполнены. Оси подписаны , тип графика изменен на столбчатую диаграмму</div>"
   ]
  },
  {
   "cell_type": "markdown",
   "metadata": {},
   "source": [
    "<div class=\"alert alert-success\">\n",
    "✔️<b>Комментарий с комплиментом ревьюера в2:</b> \n",
    "\n",
    "Отлично"
   ]
  },
  {
   "cell_type": "code",
   "execution_count": 61,
   "metadata": {},
   "outputs": [
    {
     "data": {
      "text/html": [
       "<div>\n",
       "<style scoped>\n",
       "    .dataframe tbody tr th:only-of-type {\n",
       "        vertical-align: middle;\n",
       "    }\n",
       "\n",
       "    .dataframe tbody tr th {\n",
       "        vertical-align: top;\n",
       "    }\n",
       "\n",
       "    .dataframe thead th {\n",
       "        text-align: right;\n",
       "    }\n",
       "</style>\n",
       "<table border=\"1\" class=\"dataframe\">\n",
       "  <thead>\n",
       "    <tr style=\"text-align: right;\">\n",
       "      <th></th>\n",
       "      <th>count</th>\n",
       "      <th>mean_price_m</th>\n",
       "    </tr>\n",
       "    <tr>\n",
       "      <th>locality_name</th>\n",
       "      <th></th>\n",
       "      <th></th>\n",
       "    </tr>\n",
       "  </thead>\n",
       "  <tbody>\n",
       "    <tr>\n",
       "      <th>санкт-петербург</th>\n",
       "      <td>15542</td>\n",
       "      <td>114807.90</td>\n",
       "    </tr>\n",
       "    <tr>\n",
       "      <th>пушкин</th>\n",
       "      <td>369</td>\n",
       "      <td>103125.82</td>\n",
       "    </tr>\n",
       "    <tr>\n",
       "      <th>кудрово</th>\n",
       "      <td>449</td>\n",
       "      <td>95083.10</td>\n",
       "    </tr>\n",
       "    <tr>\n",
       "      <th>парголово</th>\n",
       "      <td>323</td>\n",
       "      <td>90289.78</td>\n",
       "    </tr>\n",
       "    <tr>\n",
       "      <th>мурино</th>\n",
       "      <td>559</td>\n",
       "      <td>85469.35</td>\n",
       "    </tr>\n",
       "    <tr>\n",
       "      <th>шушары</th>\n",
       "      <td>435</td>\n",
       "      <td>78277.94</td>\n",
       "    </tr>\n",
       "    <tr>\n",
       "      <th>колпино</th>\n",
       "      <td>338</td>\n",
       "      <td>75424.58</td>\n",
       "    </tr>\n",
       "    <tr>\n",
       "      <th>гатчина</th>\n",
       "      <td>307</td>\n",
       "      <td>68746.15</td>\n",
       "    </tr>\n",
       "    <tr>\n",
       "      <th>всеволожск</th>\n",
       "      <td>392</td>\n",
       "      <td>68618.01</td>\n",
       "    </tr>\n",
       "    <tr>\n",
       "      <th>выборг</th>\n",
       "      <td>237</td>\n",
       "      <td>58141.91</td>\n",
       "    </tr>\n",
       "  </tbody>\n",
       "</table>\n",
       "</div>"
      ],
      "text/plain": [
       "                 count  mean_price_m\n",
       "locality_name                       \n",
       "санкт-петербург  15542     114807.90\n",
       "пушкин             369     103125.82\n",
       "кудрово            449      95083.10\n",
       "парголово          323      90289.78\n",
       "мурино             559      85469.35\n",
       "шушары             435      78277.94\n",
       "колпино            338      75424.58\n",
       "гатчина            307      68746.15\n",
       "всеволожск         392      68618.01\n",
       "выборг             237      58141.91"
      ]
     },
     "execution_count": 61,
     "metadata": {},
     "output_type": "execute_result"
    }
   ],
   "source": [
    "#считаем среднюю цену одного квадратного метра в 10 населённых пунктах с наибольшим числом объявлений\n",
    "\n",
    "svod=data.pivot_table(index='locality_name', values ='price_one_m' , aggfunc = ['count','mean'])\n",
    "svod.columns=['count', 'mean_price_m']\n",
    "#cортируем по количеству объявлений, выбираем топ 10 , округляем до двух знаков после запятой\n",
    "top_kv = svod.sort_values(by='count', ascending=False).head(10).round(2)\n",
    "#сортируем топ10 по убыванию стоимости средней стоймости кв м \n",
    "top_kv.sort_values(by='mean_price_m', ascending=False)"
   ]
  },
  {
   "cell_type": "markdown",
   "metadata": {},
   "source": [
    "Наибольшая средняя стоимость квадратного метра в Санкт-Петербурге, наименьшая средняя стоимость в Выборге"
   ]
  },
  {
   "cell_type": "code",
   "execution_count": 62,
   "metadata": {},
   "outputs": [
    {
     "data": {
      "text/plain": [
       "count    15482.000000\n",
       "mean        11.574990\n",
       "std          4.854923\n",
       "min          0.000000\n",
       "25%          8.000000\n",
       "50%         12.000000\n",
       "75%         15.000000\n",
       "max         29.000000\n",
       "Name: city_centers_nearest_km, dtype: float64"
      ]
     },
     "execution_count": 62,
     "metadata": {},
     "output_type": "execute_result"
    }
   ],
   "source": [
    "#Получим описательную статистику city_centers_nearest_km по Санкт-Петербургу\n",
    "data.query('locality_name == \"санкт-петербург\"')['city_centers_nearest_km'].describe()"
   ]
  },
  {
   "cell_type": "code",
   "execution_count": 63,
   "metadata": {},
   "outputs": [
    {
     "data": {
      "text/html": [
       "<div>\n",
       "<style scoped>\n",
       "    .dataframe tbody tr th:only-of-type {\n",
       "        vertical-align: middle;\n",
       "    }\n",
       "\n",
       "    .dataframe tbody tr th {\n",
       "        vertical-align: top;\n",
       "    }\n",
       "\n",
       "    .dataframe thead th {\n",
       "        text-align: right;\n",
       "    }\n",
       "</style>\n",
       "<table border=\"1\" class=\"dataframe\">\n",
       "  <thead>\n",
       "    <tr style=\"text-align: right;\">\n",
       "      <th></th>\n",
       "      <th>mean_last_price</th>\n",
       "    </tr>\n",
       "    <tr>\n",
       "      <th>city_centers_nearest_km</th>\n",
       "      <th></th>\n",
       "    </tr>\n",
       "  </thead>\n",
       "  <tbody>\n",
       "    <tr>\n",
       "      <th>0.0</th>\n",
       "      <td>3.144912e+07</td>\n",
       "    </tr>\n",
       "    <tr>\n",
       "      <th>1.0</th>\n",
       "      <td>2.127482e+07</td>\n",
       "    </tr>\n",
       "    <tr>\n",
       "      <th>2.0</th>\n",
       "      <td>1.788662e+07</td>\n",
       "    </tr>\n",
       "    <tr>\n",
       "      <th>6.0</th>\n",
       "      <td>1.532842e+07</td>\n",
       "    </tr>\n",
       "    <tr>\n",
       "      <th>7.0</th>\n",
       "      <td>1.483023e+07</td>\n",
       "    </tr>\n",
       "    <tr>\n",
       "      <th>5.0</th>\n",
       "      <td>1.448752e+07</td>\n",
       "    </tr>\n",
       "    <tr>\n",
       "      <th>4.0</th>\n",
       "      <td>1.332048e+07</td>\n",
       "    </tr>\n",
       "    <tr>\n",
       "      <th>3.0</th>\n",
       "      <td>1.116056e+07</td>\n",
       "    </tr>\n",
       "    <tr>\n",
       "      <th>8.0</th>\n",
       "      <td>1.000910e+07</td>\n",
       "    </tr>\n",
       "    <tr>\n",
       "      <th>27.0</th>\n",
       "      <td>8.300000e+06</td>\n",
       "    </tr>\n",
       "    <tr>\n",
       "      <th>9.0</th>\n",
       "      <td>6.969390e+06</td>\n",
       "    </tr>\n",
       "    <tr>\n",
       "      <th>10.0</th>\n",
       "      <td>6.514002e+06</td>\n",
       "    </tr>\n",
       "    <tr>\n",
       "      <th>11.0</th>\n",
       "      <td>6.228108e+06</td>\n",
       "    </tr>\n",
       "    <tr>\n",
       "      <th>13.0</th>\n",
       "      <td>6.109652e+06</td>\n",
       "    </tr>\n",
       "    <tr>\n",
       "      <th>20.0</th>\n",
       "      <td>6.054931e+06</td>\n",
       "    </tr>\n",
       "    <tr>\n",
       "      <th>15.0</th>\n",
       "      <td>5.887143e+06</td>\n",
       "    </tr>\n",
       "    <tr>\n",
       "      <th>12.0</th>\n",
       "      <td>5.854278e+06</td>\n",
       "    </tr>\n",
       "    <tr>\n",
       "      <th>14.0</th>\n",
       "      <td>5.652588e+06</td>\n",
       "    </tr>\n",
       "    <tr>\n",
       "      <th>21.0</th>\n",
       "      <td>5.519275e+06</td>\n",
       "    </tr>\n",
       "    <tr>\n",
       "      <th>22.0</th>\n",
       "      <td>5.415524e+06</td>\n",
       "    </tr>\n",
       "    <tr>\n",
       "      <th>16.0</th>\n",
       "      <td>5.388663e+06</td>\n",
       "    </tr>\n",
       "    <tr>\n",
       "      <th>17.0</th>\n",
       "      <td>5.330947e+06</td>\n",
       "    </tr>\n",
       "    <tr>\n",
       "      <th>18.0</th>\n",
       "      <td>5.099375e+06</td>\n",
       "    </tr>\n",
       "    <tr>\n",
       "      <th>19.0</th>\n",
       "      <td>5.081623e+06</td>\n",
       "    </tr>\n",
       "    <tr>\n",
       "      <th>23.0</th>\n",
       "      <td>5.042855e+06</td>\n",
       "    </tr>\n",
       "    <tr>\n",
       "      <th>28.0</th>\n",
       "      <td>5.026429e+06</td>\n",
       "    </tr>\n",
       "    <tr>\n",
       "      <th>29.0</th>\n",
       "      <td>4.236667e+06</td>\n",
       "    </tr>\n",
       "    <tr>\n",
       "      <th>25.0</th>\n",
       "      <td>4.052840e+06</td>\n",
       "    </tr>\n",
       "    <tr>\n",
       "      <th>26.0</th>\n",
       "      <td>4.014287e+06</td>\n",
       "    </tr>\n",
       "    <tr>\n",
       "      <th>24.0</th>\n",
       "      <td>3.890687e+06</td>\n",
       "    </tr>\n",
       "  </tbody>\n",
       "</table>\n",
       "</div>"
      ],
      "text/plain": [
       "                         mean_last_price\n",
       "city_centers_nearest_km                 \n",
       "0.0                         3.144912e+07\n",
       "1.0                         2.127482e+07\n",
       "2.0                         1.788662e+07\n",
       "6.0                         1.532842e+07\n",
       "7.0                         1.483023e+07\n",
       "5.0                         1.448752e+07\n",
       "4.0                         1.332048e+07\n",
       "3.0                         1.116056e+07\n",
       "8.0                         1.000910e+07\n",
       "27.0                        8.300000e+06\n",
       "9.0                         6.969390e+06\n",
       "10.0                        6.514002e+06\n",
       "11.0                        6.228108e+06\n",
       "13.0                        6.109652e+06\n",
       "20.0                        6.054931e+06\n",
       "15.0                        5.887143e+06\n",
       "12.0                        5.854278e+06\n",
       "14.0                        5.652588e+06\n",
       "21.0                        5.519275e+06\n",
       "22.0                        5.415524e+06\n",
       "16.0                        5.388663e+06\n",
       "17.0                        5.330947e+06\n",
       "18.0                        5.099375e+06\n",
       "19.0                        5.081623e+06\n",
       "23.0                        5.042855e+06\n",
       "28.0                        5.026429e+06\n",
       "29.0                        4.236667e+06\n",
       "25.0                        4.052840e+06\n",
       "26.0                        4.014287e+06\n",
       "24.0                        3.890687e+06"
      ]
     },
     "execution_count": 63,
     "metadata": {},
     "output_type": "execute_result"
    }
   ],
   "source": [
    "#Находим среднюю стоимость квартир в зависимости от удаленности от центра Санкт-Петербугра\n",
    "avg_last = data.query('locality_name == \"санкт-петербург\"') \\\n",
    "    .pivot_table(index='city_centers_nearest_km', values='last_price', aggfunc='mean')\n",
    "avg_last.head()\n",
    "avg_last.columns = ['mean_last_price']\n",
    "#сортируем по уменьшению средней стоимости\n",
    "avg_last.sort_values(by='mean_last_price', ascending=False)"
   ]
  },
  {
   "cell_type": "code",
   "execution_count": 64,
   "metadata": {},
   "outputs": [
    {
     "data": {
      "image/png": "[encoded data removed]",
      "text/plain": [
       "<Figure size 1080x720 with 1 Axes>"
      ]
     },
     "metadata": {
      "needs_background": "light"
     },
     "output_type": "display_data"
    }
   ],
   "source": [
    "#Построим график\n",
    "avg_last.plot(grid=True, style='-o', figsize=(15, 10))\n",
    "plt.title('Зависимость средней стоимости кв от удаления от центра города в Санкт-Петербурге')\n",
    "plt.xlabel('Расстояние от центра города (км)')\n",
    "plt.ylabel('Цена (млн. руб.)')\n",
    "plt.show()"
   ]
  },
  {
   "cell_type": "markdown",
   "metadata": {},
   "source": [
    "Самая высокая стоимость объектов в центре города и на удаленностидо 3 км от центра.Так же имеются объекты на удаленности с удаленнойстью в диапазоне от 3 до 7 км от центра с выской стоимостью - допустимо предположить что данные объекты имеются высокую стоимость всязи с большой общей площадью и высоким качеством объекта."
   ]
  },
  {
   "cell_type": "markdown",
   "metadata": {},
   "source": [
    "<div class=\"alert alert-success\">\n",
    "<b>Комментарий с комплиментом ревьюера:</b> \n",
    "\n",
    "Корректный анализ\n",
    "</div>\n"
   ]
  },
  {
   "cell_type": "markdown",
   "metadata": {
    "id": "h7VpzkIDAwb-"
   },
   "source": [
    "### Напишите общий вывод"
   ]
  },
  {
   "cell_type": "markdown",
   "metadata": {
    "id": "3H4lnp_KAwb-"
   },
   "source": [
    "<div style=\"border:solid Purple 2px; padding: 40px\" > \n",
    "<b>В процессе исследования объявлений о продаже квартир были выполнены следующие этапы и сделаны выводы:</b>\n",
    "<li>Изучен файл с данными: выведены первые строки, использован метод info(), построены гистограммы.</li>\n",
    "<li>Найдены пропущенные значения.</li>\n",
    "<li>Пропущенные значения заполнены там, где это возможно.</li>\n",
    "<li>Объяснено, какие пропущенные значения обнаружены.</li>\n",
    "<li>В каждом столбце установлен корректный тип данных.</li>\n",
    "<li>Объяснено, в каких столбцах изменён тип данных и почему.</li>\n",
    "<li>Устранены неявные дубликаты в названиях населённых пунктов.</li>\n",
    "<li>Обработаны редкие и выбивающиеся значения (аномалии).</li>\n",
    "<li>В таблицу добавлены новые параметры согласно заданию</li>\n",
    "<li>Изучены и описаны параметры согласно заданию</li>\n",
    "<li>Изучен процесс частоты продажи квартир <li>:\n",
    "<li>Определены факторы, которые больше всего влияют на общую (полную) стоимость объекта». Построены графики, которые показывают зависимость цены от параметров</li>\n",
    "<li>Расчитана средняя цена одного квадратного метра в 10 населённых пунктах с наибольшим числом объявлений</li>\n",
    "<li>Вычеслена средняя стоимость квартир на разном удалении от центра квартиры в Санкт-Петербурге, построен график зависимости</li> \n",
    "<li>На каждом этапе сделаны промежуточные выводы.</li>\n",
    "</div>"
   ]
  },
  {
   "cell_type": "markdown",
   "metadata": {},
   "source": [
    "<div class=\"alert alert-success\">\n",
    "<b>Комментарий с комплиментом ревьюера:</b> \n",
    "\n",
    "Подробный вывод, молодец!\n",
    "</div>\n"
   ]
  },
  {
   "cell_type": "markdown",
   "metadata": {},
   "source": [
    "<div style=\"border:solid Chocolate 2px; padding: 40px\">\n",
    "\n",
    "# Общий вывод ревьюера по проекту\n",
    "\n",
    "<div class=\"alert alert-success\">\n",
    "Проделана хорошая аналитическая работа. Код написан чисто, соблюдена структура проекта и написаны логичные и обоснованные выводы. Есть несколько замечаний, исправь их и проект будет принят.\n",
    "</div>\n",
    "\n",
    "<div class=\"alert alert-danger\">\n",
    "  \n",
    "- скорректируй, пожалуйста, этап предобработки данных    \n",
    "   \n",
    "    \n",
    "- дополни, пожалуйста, выводы\n",
    "</div>\n",
    "</div>\n",
    "\n"
   ]
  },
  {
   "cell_type": "markdown",
   "metadata": {},
   "source": [
    "<div class=\"alert alert-info\"> <b>🎓 Комментарий студента:</b> Этап предобработки данных скорректирован, выводы дополнены.Большое спасибо за рекомендации!</div>"
   ]
  },
  {
   "cell_type": "markdown",
   "metadata": {
    "id": "A90mc0BgAwb-"
   },
   "source": [
    "**Чек-лист готовности проекта**\n",
    "\n",
    "Поставьте 'x' в выполненных пунктах. Далее нажмите Shift+Enter."
   ]
  },
  {
   "cell_type": "markdown",
   "metadata": {
    "id": "ME3sTWm6Awb-"
   },
   "source": [
    "- [x]  Файл с данными открыт.\n",
    "- [x]  Файл с данными изучен: выведены первые строки, использован метод `info()`, построены гистограммы.\n",
    "- [x]  Найдены пропущенные значения.\n",
    "- [x]  Пропущенные значения заполнены там, где это возможно.\n",
    "- [x]  Объяснено, какие пропущенные значения обнаружены.\n",
    "- [x]  В каждом столбце установлен корректный тип данных.\n",
    "- [x]  Объяснено, в каких столбцах изменён тип данных и почему.\n",
    "- [x]  Устранены неявные дубликаты в названиях населённых пунктов.\n",
    "- [x]  Обработаны редкие и выбивающиеся значения (аномалии).\n",
    "- [x]  В таблицу добавлены новые параметры:\n",
    "       – цена одного квадратного метра;\n",
    "       – день публикации объявления (0 - понедельник, 1 - вторник и т. д.);\n",
    "       – месяц публикации объявления;\n",
    "       – год публикации объявления;\n",
    "       – тип этажа квартиры (значения — «первый», «последний», «другой»);\n",
    "       – расстояние до центра города в километрах.\n",
    "- [x]  Изучены и описаны параметры:\n",
    "        - общая площадь;\n",
    "        - жилая площадь;\n",
    "        - площадь кухни;\n",
    "        - цена объекта;\n",
    "        - количество комнат;\n",
    "        - высота потолков;\n",
    "        - тип этажа квартиры («первый», «последний», «другой»);\n",
    "        - общее количество этажей в доме;\n",
    "        - расстояние до центра города в метрах;\n",
    "        - расстояние до ближайшего парка.\n",
    "- [x]  Выполнено задание «Изучите, как быстро продавались квартиры (столбец `days_exposition`)»:\n",
    "    - построена гистограмма;\n",
    "    - рассчитаны среднее и медиана;\n",
    "    - описано, сколько обычно занимает продажа и указано, какие продажи можно считать быстрыми, а какие — необычно долгими.\n",
    "- [x]  Выполнено задание «Определите факторы, которые больше всего влияют на общую (полную) стоимость объекта». Построены графики, которые показывают зависимость цены от параметров:\n",
    "        - общая площадь;\n",
    "        - жилая площадь;\n",
    "        - площадь кухни;\n",
    "        - количество комнат;\n",
    "        - тип этажа, на котором расположена квартира (первый, последний, другой);\n",
    "        - дата размещения (день недели, месяц, год).\n",
    "- [x]  Выполнено задание «Посчитайте среднюю цену одного квадратного метра в 10 населённых пунктах с наибольшим числом объявлений»:\n",
    "    - выделены населённые пункты с самой высокой и низкой стоимостью квадратного метра.\n",
    "- [x]  Выполнено задание «Выделите квартиры в Санкт-Петербурге с помощью столбца `locality_name` и вычислите их среднюю стоимость на разном удалении от центра»:\n",
    "    -  учтён каждый километр расстояния, известны средние цены квартир в одном километре от центра, в двух и так далее;\n",
    "    -  описано, как стоимость объекта зависит от расстояния до центра города;\n",
    "    -  построен график изменения средней цены для каждого километра от центра Петербурга.\n",
    "- [x]  На каждом этапе сделаны промежуточные выводы.\n",
    "- [x]  В конце проекта сделан общий вывод."
   ]
  }
 ],
 "metadata": {
  "ExecuteTimeLog": [
   {
    "duration": 445,
    "start_time": "2024-03-10T18:15:34.094Z"
   },
   {
    "duration": 154,
    "start_time": "2024-03-10T18:15:41.745Z"
   },
   {
    "duration": 17,
    "start_time": "2024-03-10T18:19:19.390Z"
   },
   {
    "duration": 16,
    "start_time": "2024-03-10T18:19:24.653Z"
   },
   {
    "duration": 11,
    "start_time": "2024-03-10T18:19:48.690Z"
   },
   {
    "duration": 11,
    "start_time": "2024-03-10T18:19:56.967Z"
   },
   {
    "duration": 4,
    "start_time": "2024-03-10T18:20:42.916Z"
   },
   {
    "duration": 50,
    "start_time": "2024-03-10T18:20:58.162Z"
   },
   {
    "duration": 6,
    "start_time": "2024-03-10T18:21:23.030Z"
   },
   {
    "duration": 99,
    "start_time": "2024-03-10T18:21:59.469Z"
   },
   {
    "duration": 85,
    "start_time": "2024-03-10T18:22:04.413Z"
   },
   {
    "duration": 5,
    "start_time": "2024-03-10T18:22:08.230Z"
   },
   {
    "duration": 2119,
    "start_time": "2024-03-10T18:25:07.138Z"
   },
   {
    "duration": 94,
    "start_time": "2024-03-10T18:25:15.798Z"
   },
   {
    "duration": 80,
    "start_time": "2024-03-10T18:25:23.170Z"
   },
   {
    "duration": 7,
    "start_time": "2024-03-10T18:25:30.647Z"
   },
   {
    "duration": 81,
    "start_time": "2024-03-10T18:27:19.911Z"
   },
   {
    "duration": 6,
    "start_time": "2024-03-10T18:27:25.031Z"
   },
   {
    "duration": 6,
    "start_time": "2024-03-10T18:29:40.105Z"
   },
   {
    "duration": 2133,
    "start_time": "2024-03-10T18:30:23.060Z"
   },
   {
    "duration": 6,
    "start_time": "2024-03-10T18:30:29.979Z"
   },
   {
    "duration": 84,
    "start_time": "2024-03-10T18:30:57.270Z"
   },
   {
    "duration": 3,
    "start_time": "2024-03-10T18:31:03.377Z"
   },
   {
    "duration": 6,
    "start_time": "2024-03-10T18:31:05.239Z"
   },
   {
    "duration": 5,
    "start_time": "2024-03-10T18:31:31.196Z"
   },
   {
    "duration": 93,
    "start_time": "2024-03-10T18:35:19.766Z"
   },
   {
    "duration": 5,
    "start_time": "2024-03-10T18:35:23.372Z"
   },
   {
    "duration": 1999,
    "start_time": "2024-03-10T18:35:32.212Z"
   },
   {
    "duration": 97,
    "start_time": "2024-03-10T18:35:44.847Z"
   },
   {
    "duration": 135,
    "start_time": "2024-03-10T18:36:39.516Z"
   },
   {
    "duration": 48,
    "start_time": "2024-03-10T18:37:03.383Z"
   },
   {
    "duration": 112,
    "start_time": "2024-03-10T18:37:09.322Z"
   },
   {
    "duration": 4,
    "start_time": "2024-03-10T18:37:12.305Z"
   },
   {
    "duration": 4,
    "start_time": "2024-03-10T18:38:47.247Z"
   },
   {
    "duration": 5,
    "start_time": "2024-03-10T18:38:49.901Z"
   },
   {
    "duration": 1978,
    "start_time": "2024-03-10T18:39:09.778Z"
   },
   {
    "duration": 5,
    "start_time": "2024-03-10T18:39:12.020Z"
   },
   {
    "duration": 3,
    "start_time": "2024-03-10T18:40:15.204Z"
   },
   {
    "duration": 107,
    "start_time": "2024-03-10T18:40:19.422Z"
   },
   {
    "duration": 4,
    "start_time": "2024-03-10T18:40:22.458Z"
   },
   {
    "duration": 132,
    "start_time": "2024-03-10T18:41:13.794Z"
   },
   {
    "duration": 3,
    "start_time": "2024-03-10T18:41:15.063Z"
   },
   {
    "duration": 16,
    "start_time": "2024-03-10T18:41:20.641Z"
   },
   {
    "duration": 20,
    "start_time": "2024-03-10T18:41:38.812Z"
   },
   {
    "duration": 111,
    "start_time": "2024-03-10T18:41:56.116Z"
   },
   {
    "duration": 4,
    "start_time": "2024-03-10T18:41:57.616Z"
   },
   {
    "duration": 37,
    "start_time": "2024-03-10T18:41:58.490Z"
   },
   {
    "duration": 4,
    "start_time": "2024-03-10T18:42:24.868Z"
   },
   {
    "duration": 14,
    "start_time": "2024-03-10T18:43:00.457Z"
   },
   {
    "duration": 13,
    "start_time": "2024-03-10T18:45:55.239Z"
   },
   {
    "duration": 1584,
    "start_time": "2024-03-10T18:46:14.012Z"
   },
   {
    "duration": 796,
    "start_time": "2024-03-10T18:46:52.045Z"
   },
   {
    "duration": 1807,
    "start_time": "2024-03-10T18:47:05.372Z"
   },
   {
    "duration": 42,
    "start_time": "2024-03-12T19:01:52.313Z"
   },
   {
    "duration": 696,
    "start_time": "2024-03-12T19:02:02.443Z"
   },
   {
    "duration": 13,
    "start_time": "2024-03-12T19:02:03.141Z"
   },
   {
    "duration": 80,
    "start_time": "2024-03-12T19:02:03.156Z"
   },
   {
    "duration": 2068,
    "start_time": "2024-03-12T19:02:03.238Z"
   },
   {
    "duration": 10,
    "start_time": "2024-03-12T19:02:05.308Z"
   },
   {
    "duration": 1174,
    "start_time": "2024-03-12T19:33:33.927Z"
   },
   {
    "duration": 1050,
    "start_time": "2024-03-12T19:33:40.972Z"
   },
   {
    "duration": 1087,
    "start_time": "2024-03-12T19:33:45.023Z"
   },
   {
    "duration": 1157,
    "start_time": "2024-03-12T19:33:50.110Z"
   },
   {
    "duration": 6,
    "start_time": "2024-03-12T19:33:57.616Z"
   },
   {
    "duration": 6,
    "start_time": "2024-03-12T20:03:23.681Z"
   },
   {
    "duration": 7,
    "start_time": "2024-03-12T20:03:46.618Z"
   },
   {
    "duration": 1121,
    "start_time": "2024-03-12T20:11:37.565Z"
   },
   {
    "duration": 6,
    "start_time": "2024-03-12T20:11:50.915Z"
   },
   {
    "duration": 1092,
    "start_time": "2024-03-12T20:12:03.596Z"
   },
   {
    "duration": 6,
    "start_time": "2024-03-12T20:12:12.860Z"
   },
   {
    "duration": 1114,
    "start_time": "2024-03-12T20:12:27.659Z"
   },
   {
    "duration": 11,
    "start_time": "2024-03-12T20:12:37.719Z"
   },
   {
    "duration": 7,
    "start_time": "2024-03-12T20:35:43.013Z"
   },
   {
    "duration": 30,
    "start_time": "2024-03-12T20:35:50.437Z"
   },
   {
    "duration": 13,
    "start_time": "2024-03-12T20:36:38.291Z"
   },
   {
    "duration": 21,
    "start_time": "2024-03-12T20:36:48.406Z"
   },
   {
    "duration": 4,
    "start_time": "2024-03-12T20:37:24.333Z"
   },
   {
    "duration": 6,
    "start_time": "2024-03-12T20:37:36.453Z"
   },
   {
    "duration": 6,
    "start_time": "2024-03-12T20:40:57.251Z"
   },
   {
    "duration": 4,
    "start_time": "2024-03-12T20:41:15.675Z"
   },
   {
    "duration": 4,
    "start_time": "2024-03-12T20:41:26.500Z"
   },
   {
    "duration": 545,
    "start_time": "2024-03-13T18:43:35.987Z"
   },
   {
    "duration": 15,
    "start_time": "2024-03-13T18:43:36.534Z"
   },
   {
    "duration": 35,
    "start_time": "2024-03-13T18:43:36.550Z"
   },
   {
    "duration": 2363,
    "start_time": "2024-03-13T18:43:36.586Z"
   },
   {
    "duration": 10,
    "start_time": "2024-03-13T18:43:38.950Z"
   },
   {
    "duration": 1663,
    "start_time": "2024-03-13T18:46:15.986Z"
   },
   {
    "duration": 233,
    "start_time": "2024-03-13T18:47:09.007Z"
   },
   {
    "duration": 6,
    "start_time": "2024-03-13T18:47:20.495Z"
   },
   {
    "duration": 105,
    "start_time": "2024-03-13T18:47:52.480Z"
   },
   {
    "duration": 4,
    "start_time": "2024-03-13T18:47:57.337Z"
   },
   {
    "duration": 228,
    "start_time": "2024-03-13T18:49:01.100Z"
   },
   {
    "duration": 6,
    "start_time": "2024-03-13T18:49:03.515Z"
   },
   {
    "duration": 5,
    "start_time": "2024-03-13T18:53:10.507Z"
   },
   {
    "duration": 5,
    "start_time": "2024-03-13T18:53:20.127Z"
   },
   {
    "duration": 6,
    "start_time": "2024-03-13T18:57:09.323Z"
   },
   {
    "duration": 9,
    "start_time": "2024-03-13T18:57:50.277Z"
   },
   {
    "duration": 5,
    "start_time": "2024-03-13T18:58:11.044Z"
   },
   {
    "duration": 5,
    "start_time": "2024-03-13T18:58:25.265Z"
   },
   {
    "duration": 5,
    "start_time": "2024-03-13T18:59:25.260Z"
   },
   {
    "duration": 5,
    "start_time": "2024-03-13T18:59:26.670Z"
   },
   {
    "duration": 6,
    "start_time": "2024-03-13T19:00:06.623Z"
   },
   {
    "duration": 4,
    "start_time": "2024-03-13T19:00:49.010Z"
   },
   {
    "duration": 13,
    "start_time": "2024-03-13T19:07:15.340Z"
   },
   {
    "duration": 15,
    "start_time": "2024-03-13T19:07:30.504Z"
   },
   {
    "duration": 10,
    "start_time": "2024-03-13T19:07:38.838Z"
   },
   {
    "duration": 13,
    "start_time": "2024-03-13T19:10:17.152Z"
   },
   {
    "duration": 8,
    "start_time": "2024-03-13T19:10:29.058Z"
   },
   {
    "duration": 9,
    "start_time": "2024-03-13T19:10:35.709Z"
   },
   {
    "duration": 13,
    "start_time": "2024-03-13T19:10:46.033Z"
   },
   {
    "duration": 5,
    "start_time": "2024-03-13T19:12:48.165Z"
   },
   {
    "duration": 6,
    "start_time": "2024-03-13T19:13:05.405Z"
   },
   {
    "duration": 5,
    "start_time": "2024-03-13T19:13:15.598Z"
   },
   {
    "duration": 4,
    "start_time": "2024-03-13T19:13:35.821Z"
   },
   {
    "duration": 4,
    "start_time": "2024-03-13T19:13:37.853Z"
   },
   {
    "duration": 5,
    "start_time": "2024-03-13T19:13:45.969Z"
   },
   {
    "duration": 5,
    "start_time": "2024-03-13T19:13:49.531Z"
   },
   {
    "duration": 2,
    "start_time": "2024-03-13T19:13:57.568Z"
   },
   {
    "duration": 5,
    "start_time": "2024-03-13T19:13:59.820Z"
   },
   {
    "duration": 5,
    "start_time": "2024-03-13T19:14:32.620Z"
   },
   {
    "duration": 5,
    "start_time": "2024-03-13T19:14:42.914Z"
   },
   {
    "duration": 2,
    "start_time": "2024-03-13T19:14:51.748Z"
   },
   {
    "duration": 11,
    "start_time": "2024-03-13T19:14:55.563Z"
   },
   {
    "duration": 494,
    "start_time": "2024-03-13T19:15:11.382Z"
   },
   {
    "duration": 15,
    "start_time": "2024-03-13T19:15:11.877Z"
   },
   {
    "duration": 38,
    "start_time": "2024-03-13T19:15:11.894Z"
   },
   {
    "duration": 2116,
    "start_time": "2024-03-13T19:15:11.933Z"
   },
   {
    "duration": 9,
    "start_time": "2024-03-13T19:15:14.051Z"
   },
   {
    "duration": 8,
    "start_time": "2024-03-13T19:15:14.061Z"
   },
   {
    "duration": 10,
    "start_time": "2024-03-13T19:15:14.070Z"
   },
   {
    "duration": 6,
    "start_time": "2024-03-13T19:15:46.548Z"
   },
   {
    "duration": 9,
    "start_time": "2024-03-13T19:15:57.522Z"
   },
   {
    "duration": 77,
    "start_time": "2024-03-13T19:20:40.142Z"
   },
   {
    "duration": 9,
    "start_time": "2024-03-13T19:20:51.559Z"
   },
   {
    "duration": 5,
    "start_time": "2024-03-13T19:21:24.541Z"
   },
   {
    "duration": 1649,
    "start_time": "2024-03-13T19:25:42.367Z"
   },
   {
    "duration": 1639,
    "start_time": "2024-03-13T19:25:52.550Z"
   },
   {
    "duration": 5,
    "start_time": "2024-03-13T19:26:21.316Z"
   },
   {
    "duration": 5,
    "start_time": "2024-03-13T19:28:04.504Z"
   },
   {
    "duration": 5,
    "start_time": "2024-03-13T19:28:11.108Z"
   },
   {
    "duration": 8,
    "start_time": "2024-03-13T19:28:32.961Z"
   },
   {
    "duration": 8,
    "start_time": "2024-03-13T19:29:22.054Z"
   },
   {
    "duration": 7,
    "start_time": "2024-03-13T19:29:59.534Z"
   },
   {
    "duration": 7,
    "start_time": "2024-03-13T19:30:09.267Z"
   },
   {
    "duration": 5,
    "start_time": "2024-03-13T19:30:21.510Z"
   },
   {
    "duration": 4,
    "start_time": "2024-03-13T19:30:30.562Z"
   },
   {
    "duration": 7,
    "start_time": "2024-03-13T19:31:39.452Z"
   },
   {
    "duration": 8,
    "start_time": "2024-03-13T19:34:12.377Z"
   },
   {
    "duration": 13,
    "start_time": "2024-03-13T19:38:35.113Z"
   },
   {
    "duration": 6,
    "start_time": "2024-03-13T19:39:04.217Z"
   },
   {
    "duration": 6,
    "start_time": "2024-03-13T19:44:03.679Z"
   },
   {
    "duration": 6,
    "start_time": "2024-03-13T19:44:21.043Z"
   },
   {
    "duration": 6,
    "start_time": "2024-03-13T19:45:53.013Z"
   },
   {
    "duration": 7,
    "start_time": "2024-03-13T19:49:28.848Z"
   },
   {
    "duration": 7,
    "start_time": "2024-03-13T19:50:23.339Z"
   },
   {
    "duration": 5,
    "start_time": "2024-03-13T19:50:33.748Z"
   },
   {
    "duration": 16,
    "start_time": "2024-03-13T19:50:49.041Z"
   },
   {
    "duration": 5,
    "start_time": "2024-03-13T19:55:39.733Z"
   },
   {
    "duration": 6,
    "start_time": "2024-03-13T19:56:09.436Z"
   },
   {
    "duration": 17,
    "start_time": "2024-03-13T19:58:11.070Z"
   },
   {
    "duration": 4,
    "start_time": "2024-03-13T20:01:06.893Z"
   },
   {
    "duration": 8,
    "start_time": "2024-03-13T20:03:30.371Z"
   },
   {
    "duration": 12,
    "start_time": "2024-03-13T20:04:31.483Z"
   },
   {
    "duration": 7,
    "start_time": "2024-03-13T20:05:17.440Z"
   },
   {
    "duration": 10,
    "start_time": "2024-03-13T20:05:30.058Z"
   },
   {
    "duration": 486,
    "start_time": "2024-03-13T20:05:37.897Z"
   },
   {
    "duration": 15,
    "start_time": "2024-03-13T20:05:38.384Z"
   },
   {
    "duration": 34,
    "start_time": "2024-03-13T20:05:38.401Z"
   },
   {
    "duration": 2188,
    "start_time": "2024-03-13T20:05:38.437Z"
   },
   {
    "duration": 9,
    "start_time": "2024-03-13T20:05:40.627Z"
   },
   {
    "duration": 4,
    "start_time": "2024-03-13T20:05:40.638Z"
   },
   {
    "duration": 8,
    "start_time": "2024-03-13T20:05:40.643Z"
   },
   {
    "duration": 18,
    "start_time": "2024-03-13T20:05:40.652Z"
   },
   {
    "duration": 14,
    "start_time": "2024-03-13T20:05:40.672Z"
   },
   {
    "duration": 4,
    "start_time": "2024-03-13T20:05:40.688Z"
   },
   {
    "duration": 6,
    "start_time": "2024-03-13T20:05:40.694Z"
   },
   {
    "duration": 6,
    "start_time": "2024-03-13T20:05:40.701Z"
   },
   {
    "duration": 19,
    "start_time": "2024-03-13T20:05:40.708Z"
   },
   {
    "duration": 3,
    "start_time": "2024-03-13T20:05:40.730Z"
   },
   {
    "duration": 4,
    "start_time": "2024-03-13T20:05:55.559Z"
   },
   {
    "duration": 8,
    "start_time": "2024-03-13T20:06:00.261Z"
   },
   {
    "duration": 519,
    "start_time": "2024-03-13T20:06:22.440Z"
   },
   {
    "duration": 15,
    "start_time": "2024-03-13T20:06:22.961Z"
   },
   {
    "duration": 34,
    "start_time": "2024-03-13T20:06:22.978Z"
   },
   {
    "duration": 2228,
    "start_time": "2024-03-13T20:06:23.013Z"
   },
   {
    "duration": 9,
    "start_time": "2024-03-13T20:06:25.243Z"
   },
   {
    "duration": 31,
    "start_time": "2024-03-13T20:06:25.254Z"
   },
   {
    "duration": 16,
    "start_time": "2024-03-13T20:06:25.287Z"
   },
   {
    "duration": 18,
    "start_time": "2024-03-13T20:06:25.305Z"
   },
   {
    "duration": 18,
    "start_time": "2024-03-13T20:06:25.325Z"
   },
   {
    "duration": 12,
    "start_time": "2024-03-13T20:06:25.345Z"
   },
   {
    "duration": 16,
    "start_time": "2024-03-13T20:06:25.358Z"
   },
   {
    "duration": 11,
    "start_time": "2024-03-13T20:06:25.375Z"
   },
   {
    "duration": 27,
    "start_time": "2024-03-13T20:06:25.387Z"
   },
   {
    "duration": 15,
    "start_time": "2024-03-13T20:06:25.417Z"
   },
   {
    "duration": 9,
    "start_time": "2024-03-13T20:07:29.662Z"
   },
   {
    "duration": 488,
    "start_time": "2024-03-13T20:08:29.918Z"
   },
   {
    "duration": 16,
    "start_time": "2024-03-13T20:08:30.409Z"
   },
   {
    "duration": 202,
    "start_time": "2024-03-13T20:08:30.427Z"
   },
   {
    "duration": 2262,
    "start_time": "2024-03-13T20:08:30.631Z"
   },
   {
    "duration": 10,
    "start_time": "2024-03-13T20:08:32.896Z"
   },
   {
    "duration": 8,
    "start_time": "2024-03-13T20:08:32.908Z"
   },
   {
    "duration": 56,
    "start_time": "2024-03-13T20:08:32.917Z"
   },
   {
    "duration": 21,
    "start_time": "2024-03-13T20:08:32.975Z"
   },
   {
    "duration": 29,
    "start_time": "2024-03-13T20:08:32.997Z"
   },
   {
    "duration": 38,
    "start_time": "2024-03-13T20:08:33.028Z"
   },
   {
    "duration": 25,
    "start_time": "2024-03-13T20:08:33.068Z"
   },
   {
    "duration": 23,
    "start_time": "2024-03-13T20:08:33.094Z"
   },
   {
    "duration": 13,
    "start_time": "2024-03-13T20:08:33.118Z"
   },
   {
    "duration": 34,
    "start_time": "2024-03-13T20:08:33.134Z"
   },
   {
    "duration": 4,
    "start_time": "2024-03-13T20:11:40.198Z"
   },
   {
    "duration": 15,
    "start_time": "2024-03-13T20:11:54.071Z"
   },
   {
    "duration": 4,
    "start_time": "2024-03-13T20:12:11.574Z"
   },
   {
    "duration": 5,
    "start_time": "2024-03-13T20:12:45.521Z"
   },
   {
    "duration": 6,
    "start_time": "2024-03-13T20:13:44.284Z"
   },
   {
    "duration": 7,
    "start_time": "2024-03-13T20:13:58.735Z"
   },
   {
    "duration": 5,
    "start_time": "2024-03-13T20:15:45.847Z"
   },
   {
    "duration": 5,
    "start_time": "2024-03-13T20:15:52.867Z"
   },
   {
    "duration": 9,
    "start_time": "2024-03-13T20:18:28.781Z"
   },
   {
    "duration": 14,
    "start_time": "2024-03-13T20:21:49.206Z"
   },
   {
    "duration": 101,
    "start_time": "2024-03-13T20:24:34.270Z"
   },
   {
    "duration": 102,
    "start_time": "2024-03-13T20:24:55.244Z"
   },
   {
    "duration": 100,
    "start_time": "2024-03-13T20:26:11.654Z"
   },
   {
    "duration": 97,
    "start_time": "2024-03-13T20:26:39.337Z"
   },
   {
    "duration": 101,
    "start_time": "2024-03-13T20:27:19.845Z"
   },
   {
    "duration": 98,
    "start_time": "2024-03-13T20:27:36.711Z"
   },
   {
    "duration": 229,
    "start_time": "2024-03-13T20:28:11.124Z"
   },
   {
    "duration": 235,
    "start_time": "2024-03-13T20:28:26.625Z"
   },
   {
    "duration": 233,
    "start_time": "2024-03-13T20:28:48.564Z"
   },
   {
    "duration": 237,
    "start_time": "2024-03-13T20:29:37.736Z"
   },
   {
    "duration": 238,
    "start_time": "2024-03-13T20:30:30.081Z"
   },
   {
    "duration": 8,
    "start_time": "2024-03-13T20:31:19.585Z"
   },
   {
    "duration": 242,
    "start_time": "2024-03-13T20:32:03.735Z"
   },
   {
    "duration": 8,
    "start_time": "2024-03-13T20:32:06.802Z"
   },
   {
    "duration": 248,
    "start_time": "2024-03-13T20:35:12.250Z"
   },
   {
    "duration": 8,
    "start_time": "2024-03-13T20:35:19.045Z"
   },
   {
    "duration": 8,
    "start_time": "2024-03-13T20:35:52.508Z"
   },
   {
    "duration": 8,
    "start_time": "2024-03-13T20:39:46.921Z"
   },
   {
    "duration": 8,
    "start_time": "2024-03-13T20:40:03.509Z"
   },
   {
    "duration": 8,
    "start_time": "2024-03-13T20:40:16.652Z"
   },
   {
    "duration": 2,
    "start_time": "2024-03-13T20:41:30.909Z"
   },
   {
    "duration": 46,
    "start_time": "2024-03-13T20:45:55.064Z"
   },
   {
    "duration": 43,
    "start_time": "2024-03-13T20:49:52.887Z"
   },
   {
    "duration": 1690,
    "start_time": "2024-03-13T20:50:33.506Z"
   },
   {
    "duration": 44,
    "start_time": "2024-03-13T20:50:57.553Z"
   },
   {
    "duration": 1621,
    "start_time": "2024-03-13T20:51:01.320Z"
   },
   {
    "duration": 91,
    "start_time": "2024-03-13T20:51:21.967Z"
   },
   {
    "duration": 15,
    "start_time": "2024-03-13T20:51:22.060Z"
   },
   {
    "duration": 33,
    "start_time": "2024-03-13T20:51:22.077Z"
   },
   {
    "duration": 1856,
    "start_time": "2024-03-13T20:51:22.111Z"
   },
   {
    "duration": 10,
    "start_time": "2024-03-13T20:51:23.968Z"
   },
   {
    "duration": 12,
    "start_time": "2024-03-13T20:51:23.979Z"
   },
   {
    "duration": 17,
    "start_time": "2024-03-13T20:51:23.992Z"
   },
   {
    "duration": 12,
    "start_time": "2024-03-13T20:51:24.011Z"
   },
   {
    "duration": 16,
    "start_time": "2024-03-13T20:51:24.024Z"
   },
   {
    "duration": 4,
    "start_time": "2024-03-13T20:51:24.041Z"
   },
   {
    "duration": 16,
    "start_time": "2024-03-13T20:51:24.046Z"
   },
   {
    "duration": 13,
    "start_time": "2024-03-13T20:51:24.063Z"
   },
   {
    "duration": 6,
    "start_time": "2024-03-13T20:51:24.077Z"
   },
   {
    "duration": 30,
    "start_time": "2024-03-13T20:51:24.086Z"
   },
   {
    "duration": 22,
    "start_time": "2024-03-13T20:51:24.117Z"
   },
   {
    "duration": 259,
    "start_time": "2024-03-13T20:51:24.141Z"
   },
   {
    "duration": 44,
    "start_time": "2024-03-13T20:51:24.402Z"
   },
   {
    "duration": 1562,
    "start_time": "2024-03-13T20:51:24.448Z"
   },
   {
    "duration": 1600,
    "start_time": "2024-03-13T20:51:55.276Z"
   },
   {
    "duration": 529,
    "start_time": "2024-03-13T20:52:14.764Z"
   },
   {
    "duration": 15,
    "start_time": "2024-03-13T20:52:15.295Z"
   },
   {
    "duration": 40,
    "start_time": "2024-03-13T20:52:15.312Z"
   },
   {
    "duration": 2122,
    "start_time": "2024-03-13T20:52:15.354Z"
   },
   {
    "duration": 9,
    "start_time": "2024-03-13T20:52:17.478Z"
   },
   {
    "duration": 3,
    "start_time": "2024-03-13T20:52:17.489Z"
   },
   {
    "duration": 7,
    "start_time": "2024-03-13T20:52:17.493Z"
   },
   {
    "duration": 9,
    "start_time": "2024-03-13T20:52:17.502Z"
   },
   {
    "duration": 8,
    "start_time": "2024-03-13T20:52:17.512Z"
   },
   {
    "duration": 5,
    "start_time": "2024-03-13T20:52:17.521Z"
   },
   {
    "duration": 4,
    "start_time": "2024-03-13T20:52:17.527Z"
   },
   {
    "duration": 39,
    "start_time": "2024-03-13T20:52:17.532Z"
   },
   {
    "duration": 4,
    "start_time": "2024-03-13T20:52:17.572Z"
   },
   {
    "duration": 4,
    "start_time": "2024-03-13T20:52:17.578Z"
   },
   {
    "duration": 10,
    "start_time": "2024-03-13T20:52:17.584Z"
   },
   {
    "duration": 267,
    "start_time": "2024-03-13T20:52:17.595Z"
   },
   {
    "duration": 46,
    "start_time": "2024-03-13T20:52:17.864Z"
   },
   {
    "duration": 1720,
    "start_time": "2024-03-13T20:52:17.912Z"
   },
   {
    "duration": 4,
    "start_time": "2024-03-13T20:53:47.116Z"
   },
   {
    "duration": 4,
    "start_time": "2024-03-13T20:53:50.358Z"
   },
   {
    "duration": 31,
    "start_time": "2024-03-13T20:54:01.982Z"
   },
   {
    "duration": 4,
    "start_time": "2024-03-13T20:54:08.724Z"
   },
   {
    "duration": 5,
    "start_time": "2024-03-13T20:54:19.225Z"
   },
   {
    "duration": 8,
    "start_time": "2024-03-13T20:54:58.388Z"
   },
   {
    "duration": 6,
    "start_time": "2024-03-13T20:55:56.598Z"
   },
   {
    "duration": 7,
    "start_time": "2024-03-13T20:56:09.912Z"
   },
   {
    "duration": 3,
    "start_time": "2024-03-13T20:56:15.339Z"
   },
   {
    "duration": 291,
    "start_time": "2024-03-13T20:57:09.920Z"
   },
   {
    "duration": 4,
    "start_time": "2024-03-13T20:57:52.737Z"
   },
   {
    "duration": 9,
    "start_time": "2024-03-13T20:59:59.108Z"
   },
   {
    "duration": 257,
    "start_time": "2024-03-13T21:00:37.968Z"
   },
   {
    "duration": 40,
    "start_time": "2024-03-13T21:01:54.084Z"
   },
   {
    "duration": 5,
    "start_time": "2024-03-13T21:02:43.507Z"
   },
   {
    "duration": 43,
    "start_time": "2024-03-13T21:02:48.658Z"
   },
   {
    "duration": 8,
    "start_time": "2024-03-13T21:03:16.925Z"
   },
   {
    "duration": 48,
    "start_time": "2024-03-14T19:03:30.595Z"
   },
   {
    "duration": 720,
    "start_time": "2024-03-14T19:03:36.392Z"
   },
   {
    "duration": 16,
    "start_time": "2024-03-14T19:03:37.114Z"
   },
   {
    "duration": 49,
    "start_time": "2024-03-14T19:03:37.132Z"
   },
   {
    "duration": 2517,
    "start_time": "2024-03-14T19:03:37.183Z"
   },
   {
    "duration": 10,
    "start_time": "2024-03-14T19:03:39.701Z"
   },
   {
    "duration": 53,
    "start_time": "2024-03-14T19:03:39.713Z"
   },
   {
    "duration": 9,
    "start_time": "2024-03-14T19:03:39.769Z"
   },
   {
    "duration": 11,
    "start_time": "2024-03-14T19:03:39.783Z"
   },
   {
    "duration": 15,
    "start_time": "2024-03-14T19:03:39.796Z"
   },
   {
    "duration": 5,
    "start_time": "2024-03-14T19:03:39.814Z"
   },
   {
    "duration": 6,
    "start_time": "2024-03-14T19:03:39.820Z"
   },
   {
    "duration": 7,
    "start_time": "2024-03-14T19:03:39.827Z"
   },
   {
    "duration": 24,
    "start_time": "2024-03-14T19:03:39.836Z"
   },
   {
    "duration": 19,
    "start_time": "2024-03-14T19:03:39.862Z"
   },
   {
    "duration": 21,
    "start_time": "2024-03-14T19:03:39.883Z"
   },
   {
    "duration": 340,
    "start_time": "2024-03-14T19:03:39.906Z"
   },
   {
    "duration": 11,
    "start_time": "2024-03-14T19:03:40.248Z"
   },
   {
    "duration": 14,
    "start_time": "2024-03-14T19:03:40.260Z"
   },
   {
    "duration": 31,
    "start_time": "2024-03-14T19:03:40.276Z"
   },
   {
    "duration": 39,
    "start_time": "2024-03-14T19:03:40.309Z"
   },
   {
    "duration": 86,
    "start_time": "2024-03-14T19:03:40.349Z"
   },
   {
    "duration": 4,
    "start_time": "2024-03-14T19:04:08.242Z"
   },
   {
    "duration": 7,
    "start_time": "2024-03-14T19:04:41.988Z"
   },
   {
    "duration": 27,
    "start_time": "2024-03-14T19:04:54.990Z"
   },
   {
    "duration": 521,
    "start_time": "2024-03-14T19:06:02.226Z"
   },
   {
    "duration": 25,
    "start_time": "2024-03-14T19:06:02.749Z"
   },
   {
    "duration": 53,
    "start_time": "2024-03-14T19:06:02.777Z"
   },
   {
    "duration": 2392,
    "start_time": "2024-03-14T19:06:02.832Z"
   },
   {
    "duration": 10,
    "start_time": "2024-03-14T19:06:05.226Z"
   },
   {
    "duration": 19,
    "start_time": "2024-03-14T19:06:05.237Z"
   },
   {
    "duration": 22,
    "start_time": "2024-03-14T19:06:05.258Z"
   },
   {
    "duration": 11,
    "start_time": "2024-03-14T19:06:05.283Z"
   },
   {
    "duration": 10,
    "start_time": "2024-03-14T19:06:05.296Z"
   },
   {
    "duration": 7,
    "start_time": "2024-03-14T19:06:05.307Z"
   },
   {
    "duration": 5,
    "start_time": "2024-03-14T19:06:05.315Z"
   },
   {
    "duration": 38,
    "start_time": "2024-03-14T19:06:05.322Z"
   },
   {
    "duration": 6,
    "start_time": "2024-03-14T19:06:05.363Z"
   },
   {
    "duration": 7,
    "start_time": "2024-03-14T19:06:05.373Z"
   },
   {
    "duration": 13,
    "start_time": "2024-03-14T19:06:05.382Z"
   },
   {
    "duration": 347,
    "start_time": "2024-03-14T19:06:05.397Z"
   },
   {
    "duration": 5,
    "start_time": "2024-03-14T19:06:05.745Z"
   },
   {
    "duration": 7,
    "start_time": "2024-03-14T19:06:05.758Z"
   },
   {
    "duration": 7,
    "start_time": "2024-03-14T19:06:05.768Z"
   },
   {
    "duration": 13,
    "start_time": "2024-03-14T19:06:05.777Z"
   },
   {
    "duration": 31,
    "start_time": "2024-03-14T19:06:05.792Z"
   },
   {
    "duration": 4,
    "start_time": "2024-03-14T19:06:55.361Z"
   },
   {
    "duration": 4,
    "start_time": "2024-03-14T19:07:09.980Z"
   },
   {
    "duration": 6,
    "start_time": "2024-03-14T19:14:47.598Z"
   },
   {
    "duration": 8,
    "start_time": "2024-03-14T19:17:09.845Z"
   },
   {
    "duration": 5,
    "start_time": "2024-03-14T19:17:59.070Z"
   },
   {
    "duration": 5,
    "start_time": "2024-03-14T19:20:05.981Z"
   },
   {
    "duration": 6,
    "start_time": "2024-03-14T19:20:23.137Z"
   },
   {
    "duration": 28,
    "start_time": "2024-03-14T19:20:34.350Z"
   },
   {
    "duration": 5,
    "start_time": "2024-03-14T19:21:51.276Z"
   },
   {
    "duration": 8,
    "start_time": "2024-03-14T19:22:22.007Z"
   },
   {
    "duration": 26,
    "start_time": "2024-03-14T19:22:30.067Z"
   },
   {
    "duration": 6,
    "start_time": "2024-03-14T19:22:40.400Z"
   },
   {
    "duration": 381,
    "start_time": "2024-03-14T19:31:12.287Z"
   },
   {
    "duration": 404,
    "start_time": "2024-03-14T19:31:23.013Z"
   },
   {
    "duration": 416,
    "start_time": "2024-03-14T19:31:49.348Z"
   },
   {
    "duration": 7,
    "start_time": "2024-03-14T19:36:17.208Z"
   },
   {
    "duration": 76,
    "start_time": "2024-03-14T19:36:48.264Z"
   },
   {
    "duration": 8,
    "start_time": "2024-03-14T19:36:56.636Z"
   },
   {
    "duration": 4,
    "start_time": "2024-03-14T19:37:15.404Z"
   },
   {
    "duration": 10,
    "start_time": "2024-03-14T19:46:24.712Z"
   },
   {
    "duration": 8,
    "start_time": "2024-03-14T19:51:34.108Z"
   },
   {
    "duration": 267,
    "start_time": "2024-03-14T19:52:12.542Z"
   },
   {
    "duration": 292,
    "start_time": "2024-03-14T19:53:18.970Z"
   },
   {
    "duration": 264,
    "start_time": "2024-03-14T19:53:24.691Z"
   },
   {
    "duration": 63,
    "start_time": "2024-03-14T19:54:38.530Z"
   },
   {
    "duration": 135,
    "start_time": "2024-03-14T19:55:09.406Z"
   },
   {
    "duration": 9,
    "start_time": "2024-03-14T19:55:23.058Z"
   },
   {
    "duration": 130,
    "start_time": "2024-03-14T19:55:30.536Z"
   },
   {
    "duration": 134,
    "start_time": "2024-03-14T19:55:47.111Z"
   },
   {
    "duration": 226,
    "start_time": "2024-03-14T19:56:03.152Z"
   },
   {
    "duration": 128,
    "start_time": "2024-03-14T19:56:09.506Z"
   },
   {
    "duration": 140,
    "start_time": "2024-03-14T19:56:22.082Z"
   },
   {
    "duration": 134,
    "start_time": "2024-03-14T19:56:30.530Z"
   },
   {
    "duration": 236,
    "start_time": "2024-03-14T19:57:24.533Z"
   },
   {
    "duration": 226,
    "start_time": "2024-03-14T19:58:21.465Z"
   },
   {
    "duration": 218,
    "start_time": "2024-03-14T19:58:32.719Z"
   },
   {
    "duration": 144,
    "start_time": "2024-03-14T19:59:09.817Z"
   },
   {
    "duration": 225,
    "start_time": "2024-03-14T20:00:26.835Z"
   },
   {
    "duration": 259,
    "start_time": "2024-03-14T20:00:50.255Z"
   },
   {
    "duration": 236,
    "start_time": "2024-03-14T20:01:01.288Z"
   },
   {
    "duration": 231,
    "start_time": "2024-03-14T20:01:30.986Z"
   },
   {
    "duration": 239,
    "start_time": "2024-03-14T20:01:45.855Z"
   },
   {
    "duration": 203,
    "start_time": "2024-03-14T20:02:05.106Z"
   },
   {
    "duration": 315,
    "start_time": "2024-03-14T20:04:28.918Z"
   },
   {
    "duration": 156,
    "start_time": "2024-03-14T20:06:43.594Z"
   },
   {
    "duration": 1365,
    "start_time": "2024-03-14T20:06:53.350Z"
   },
   {
    "duration": 359,
    "start_time": "2024-03-14T20:07:08.158Z"
   },
   {
    "duration": 351,
    "start_time": "2024-03-14T20:09:43.035Z"
   },
   {
    "duration": 650,
    "start_time": "2024-03-14T20:09:58.592Z"
   },
   {
    "duration": 468,
    "start_time": "2024-03-14T20:10:07.202Z"
   },
   {
    "duration": 556,
    "start_time": "2024-03-14T20:10:17.965Z"
   },
   {
    "duration": 510,
    "start_time": "2024-03-14T20:10:45.490Z"
   },
   {
    "duration": 494,
    "start_time": "2024-03-14T20:11:04.511Z"
   },
   {
    "duration": 383,
    "start_time": "2024-03-14T20:11:13.100Z"
   },
   {
    "duration": 368,
    "start_time": "2024-03-14T20:11:53.321Z"
   },
   {
    "duration": 358,
    "start_time": "2024-03-14T20:12:40.494Z"
   },
   {
    "duration": 345,
    "start_time": "2024-03-14T20:15:13.574Z"
   },
   {
    "duration": 321,
    "start_time": "2024-03-14T20:17:22.308Z"
   },
   {
    "duration": 434,
    "start_time": "2024-03-14T20:17:33.496Z"
   },
   {
    "duration": 10,
    "start_time": "2024-03-14T20:26:12.920Z"
   },
   {
    "duration": 363,
    "start_time": "2024-03-14T20:27:44.895Z"
   },
   {
    "duration": 343,
    "start_time": "2024-03-14T20:28:49.684Z"
   },
   {
    "duration": 334,
    "start_time": "2024-03-14T20:31:14.456Z"
   },
   {
    "duration": 326,
    "start_time": "2024-03-14T20:31:37.535Z"
   },
   {
    "duration": 10,
    "start_time": "2024-03-14T20:39:20.274Z"
   },
   {
    "duration": 476,
    "start_time": "2024-03-14T20:40:21.057Z"
   },
   {
    "duration": 368,
    "start_time": "2024-03-14T20:40:56.810Z"
   },
   {
    "duration": 8,
    "start_time": "2024-03-14T20:44:41.615Z"
   },
   {
    "duration": 356,
    "start_time": "2024-03-14T20:45:01.224Z"
   },
   {
    "duration": 312,
    "start_time": "2024-03-14T20:45:13.950Z"
   },
   {
    "duration": 13,
    "start_time": "2024-03-14T20:49:32.629Z"
   },
   {
    "duration": 104,
    "start_time": "2024-03-14T20:51:25.684Z"
   },
   {
    "duration": 436,
    "start_time": "2024-03-14T20:51:28.496Z"
   },
   {
    "duration": 10,
    "start_time": "2024-03-14T20:51:44.032Z"
   },
   {
    "duration": 337,
    "start_time": "2024-03-14T20:51:51.094Z"
   },
   {
    "duration": 543,
    "start_time": "2024-03-14T20:51:59.125Z"
   },
   {
    "duration": 20,
    "start_time": "2024-03-14T20:51:59.670Z"
   },
   {
    "duration": 46,
    "start_time": "2024-03-14T20:51:59.691Z"
   },
   {
    "duration": 2536,
    "start_time": "2024-03-14T20:51:59.739Z"
   },
   {
    "duration": 10,
    "start_time": "2024-03-14T20:52:02.279Z"
   },
   {
    "duration": 36,
    "start_time": "2024-03-14T20:52:02.291Z"
   },
   {
    "duration": 92,
    "start_time": "2024-03-14T20:52:02.329Z"
   },
   {
    "duration": 45,
    "start_time": "2024-03-14T20:52:02.423Z"
   },
   {
    "duration": 12,
    "start_time": "2024-03-14T20:52:02.470Z"
   },
   {
    "duration": 38,
    "start_time": "2024-03-14T20:52:02.483Z"
   },
   {
    "duration": 64,
    "start_time": "2024-03-14T20:52:02.522Z"
   },
   {
    "duration": 55,
    "start_time": "2024-03-14T20:52:02.588Z"
   },
   {
    "duration": 41,
    "start_time": "2024-03-14T20:52:02.645Z"
   },
   {
    "duration": 85,
    "start_time": "2024-03-14T20:52:02.689Z"
   },
   {
    "duration": 15,
    "start_time": "2024-03-14T20:52:02.777Z"
   },
   {
    "duration": 332,
    "start_time": "2024-03-14T20:52:02.794Z"
   },
   {
    "duration": 5,
    "start_time": "2024-03-14T20:52:03.127Z"
   },
   {
    "duration": 16,
    "start_time": "2024-03-14T20:52:03.133Z"
   },
   {
    "duration": 36,
    "start_time": "2024-03-14T20:52:03.150Z"
   },
   {
    "duration": 34,
    "start_time": "2024-03-14T20:52:03.187Z"
   },
   {
    "duration": 31,
    "start_time": "2024-03-14T20:52:03.222Z"
   },
   {
    "duration": 27,
    "start_time": "2024-03-14T20:52:03.255Z"
   },
   {
    "duration": 15,
    "start_time": "2024-03-14T20:52:03.283Z"
   },
   {
    "duration": 9,
    "start_time": "2024-03-14T20:52:03.300Z"
   },
   {
    "duration": 389,
    "start_time": "2024-03-14T20:52:03.311Z"
   },
   {
    "duration": 4,
    "start_time": "2024-03-14T20:52:03.701Z"
   },
   {
    "duration": 8,
    "start_time": "2024-03-14T20:52:03.707Z"
   },
   {
    "duration": 371,
    "start_time": "2024-03-14T20:52:03.717Z"
   },
   {
    "duration": 8,
    "start_time": "2024-03-14T20:52:04.090Z"
   },
   {
    "duration": 470,
    "start_time": "2024-03-14T20:52:04.100Z"
   },
   {
    "duration": 10,
    "start_time": "2024-03-14T20:52:04.571Z"
   },
   {
    "duration": 362,
    "start_time": "2024-03-14T20:52:04.584Z"
   },
   {
    "duration": 11,
    "start_time": "2024-03-14T20:52:04.948Z"
   },
   {
    "duration": 392,
    "start_time": "2024-03-14T20:52:04.961Z"
   },
   {
    "duration": 86,
    "start_time": "2024-03-14T20:54:37.559Z"
   },
   {
    "duration": 7,
    "start_time": "2024-03-14T20:54:42.414Z"
   },
   {
    "duration": 14,
    "start_time": "2024-03-14T20:56:27.064Z"
   },
   {
    "duration": 19,
    "start_time": "2024-03-14T20:57:16.660Z"
   },
   {
    "duration": 316,
    "start_time": "2024-03-14T20:57:19.393Z"
   },
   {
    "duration": 13,
    "start_time": "2024-03-14T20:58:06.643Z"
   },
   {
    "duration": 9,
    "start_time": "2024-03-14T20:58:25.702Z"
   },
   {
    "duration": 11,
    "start_time": "2024-03-14T20:58:30.519Z"
   },
   {
    "duration": 1173,
    "start_time": "2024-03-14T21:02:09.903Z"
   },
   {
    "duration": 9,
    "start_time": "2024-03-14T21:02:18.002Z"
   },
   {
    "duration": 346,
    "start_time": "2024-03-14T21:03:24.797Z"
   },
   {
    "duration": 307,
    "start_time": "2024-03-14T21:03:34.258Z"
   },
   {
    "duration": 427,
    "start_time": "2024-03-14T21:04:16.399Z"
   },
   {
    "duration": 243,
    "start_time": "2024-03-14T21:04:47.539Z"
   },
   {
    "duration": 209,
    "start_time": "2024-03-14T21:05:02.935Z"
   },
   {
    "duration": 305,
    "start_time": "2024-03-14T21:05:08.710Z"
   },
   {
    "duration": 217,
    "start_time": "2024-03-14T21:05:14.039Z"
   },
   {
    "duration": 243,
    "start_time": "2024-03-14T21:06:38.263Z"
   },
   {
    "duration": 209,
    "start_time": "2024-03-14T21:06:49.198Z"
   },
   {
    "duration": 245,
    "start_time": "2024-03-14T21:07:30.255Z"
   },
   {
    "duration": 11,
    "start_time": "2024-03-14T21:09:47.908Z"
   },
   {
    "duration": 16,
    "start_time": "2024-03-14T21:10:23.395Z"
   },
   {
    "duration": 153,
    "start_time": "2024-03-14T21:11:45.909Z"
   },
   {
    "duration": 246,
    "start_time": "2024-03-14T21:11:55.748Z"
   },
   {
    "duration": 150,
    "start_time": "2024-03-14T21:12:09.208Z"
   },
   {
    "duration": 53,
    "start_time": "2024-03-15T19:40:28.601Z"
   },
   {
    "duration": 760,
    "start_time": "2024-03-15T19:40:36.953Z"
   },
   {
    "duration": 17,
    "start_time": "2024-03-15T19:40:37.715Z"
   },
   {
    "duration": 37,
    "start_time": "2024-03-15T19:40:37.733Z"
   },
   {
    "duration": 2532,
    "start_time": "2024-03-15T19:40:37.772Z"
   },
   {
    "duration": 10,
    "start_time": "2024-03-15T19:40:40.307Z"
   },
   {
    "duration": 19,
    "start_time": "2024-03-15T19:40:40.318Z"
   },
   {
    "duration": 10,
    "start_time": "2024-03-15T19:40:40.338Z"
   },
   {
    "duration": 13,
    "start_time": "2024-03-15T19:40:40.349Z"
   },
   {
    "duration": 10,
    "start_time": "2024-03-15T19:40:40.363Z"
   },
   {
    "duration": 20,
    "start_time": "2024-03-15T19:40:40.374Z"
   },
   {
    "duration": 9,
    "start_time": "2024-03-15T19:40:40.395Z"
   },
   {
    "duration": 16,
    "start_time": "2024-03-15T19:40:40.406Z"
   },
   {
    "duration": 19,
    "start_time": "2024-03-15T19:40:40.424Z"
   },
   {
    "duration": 10,
    "start_time": "2024-03-15T19:40:40.446Z"
   },
   {
    "duration": 17,
    "start_time": "2024-03-15T19:40:40.457Z"
   },
   {
    "duration": 286,
    "start_time": "2024-03-15T19:40:40.476Z"
   },
   {
    "duration": 5,
    "start_time": "2024-03-15T19:40:40.763Z"
   },
   {
    "duration": 29,
    "start_time": "2024-03-15T19:40:40.769Z"
   },
   {
    "duration": 8,
    "start_time": "2024-03-15T19:40:40.800Z"
   },
   {
    "duration": 23,
    "start_time": "2024-03-15T19:40:40.809Z"
   },
   {
    "duration": 5,
    "start_time": "2024-03-15T19:40:40.834Z"
   },
   {
    "duration": 13,
    "start_time": "2024-03-15T19:40:40.840Z"
   },
   {
    "duration": 6,
    "start_time": "2024-03-15T19:40:40.854Z"
   },
   {
    "duration": 5,
    "start_time": "2024-03-15T19:40:40.862Z"
   },
   {
    "duration": 369,
    "start_time": "2024-03-15T19:40:40.869Z"
   },
   {
    "duration": 4,
    "start_time": "2024-03-15T19:40:41.239Z"
   },
   {
    "duration": 13,
    "start_time": "2024-03-15T19:40:41.245Z"
   },
   {
    "duration": 366,
    "start_time": "2024-03-15T19:40:41.260Z"
   },
   {
    "duration": 10,
    "start_time": "2024-03-15T19:40:41.628Z"
   },
   {
    "duration": 442,
    "start_time": "2024-03-15T19:40:41.640Z"
   },
   {
    "duration": 9,
    "start_time": "2024-03-15T19:40:42.084Z"
   },
   {
    "duration": 357,
    "start_time": "2024-03-15T19:40:42.095Z"
   },
   {
    "duration": 10,
    "start_time": "2024-03-15T19:40:42.453Z"
   },
   {
    "duration": 27,
    "start_time": "2024-03-15T19:40:42.465Z"
   },
   {
    "duration": 275,
    "start_time": "2024-03-15T19:40:42.493Z"
   },
   {
    "duration": 17,
    "start_time": "2024-03-15T19:40:42.770Z"
   },
   {
    "duration": 244,
    "start_time": "2024-03-15T19:40:42.788Z"
   },
   {
    "duration": 11,
    "start_time": "2024-03-15T19:40:43.034Z"
   },
   {
    "duration": 246,
    "start_time": "2024-03-15T19:40:43.046Z"
   },
   {
    "duration": 167,
    "start_time": "2024-03-15T19:40:43.294Z"
   },
   {
    "duration": 6,
    "start_time": "2024-03-15T19:41:18.865Z"
   },
   {
    "duration": 6,
    "start_time": "2024-03-15T19:41:34.228Z"
   },
   {
    "duration": 8,
    "start_time": "2024-03-15T19:41:47.319Z"
   },
   {
    "duration": 77,
    "start_time": "2024-03-15T19:42:29.996Z"
   },
   {
    "duration": 209,
    "start_time": "2024-03-15T19:43:08.150Z"
   },
   {
    "duration": 215,
    "start_time": "2024-03-15T19:43:18.758Z"
   },
   {
    "duration": 527,
    "start_time": "2024-03-15T19:46:04.292Z"
   },
   {
    "duration": 16,
    "start_time": "2024-03-15T19:46:04.821Z"
   },
   {
    "duration": 44,
    "start_time": "2024-03-15T19:46:04.839Z"
   },
   {
    "duration": 2372,
    "start_time": "2024-03-15T19:46:04.885Z"
   },
   {
    "duration": 11,
    "start_time": "2024-03-15T19:46:07.259Z"
   },
   {
    "duration": 5,
    "start_time": "2024-03-15T19:46:07.272Z"
   },
   {
    "duration": 12,
    "start_time": "2024-03-15T19:46:07.278Z"
   },
   {
    "duration": 11,
    "start_time": "2024-03-15T19:46:07.292Z"
   },
   {
    "duration": 9,
    "start_time": "2024-03-15T19:46:07.305Z"
   },
   {
    "duration": 29,
    "start_time": "2024-03-15T19:46:07.316Z"
   },
   {
    "duration": 5,
    "start_time": "2024-03-15T19:46:07.346Z"
   },
   {
    "duration": 13,
    "start_time": "2024-03-15T19:46:07.353Z"
   },
   {
    "duration": 5,
    "start_time": "2024-03-15T19:46:07.368Z"
   },
   {
    "duration": 11,
    "start_time": "2024-03-15T19:46:07.376Z"
   },
   {
    "duration": 16,
    "start_time": "2024-03-15T19:46:07.388Z"
   },
   {
    "duration": 294,
    "start_time": "2024-03-15T19:46:07.406Z"
   },
   {
    "duration": 5,
    "start_time": "2024-03-15T19:46:07.702Z"
   },
   {
    "duration": 11,
    "start_time": "2024-03-15T19:46:07.708Z"
   },
   {
    "duration": 14,
    "start_time": "2024-03-15T19:46:07.721Z"
   },
   {
    "duration": 11,
    "start_time": "2024-03-15T19:46:07.736Z"
   },
   {
    "duration": 43,
    "start_time": "2024-03-15T19:46:07.748Z"
   },
   {
    "duration": 81,
    "start_time": "2024-03-15T19:46:07.793Z"
   },
   {
    "duration": 24,
    "start_time": "2024-03-15T19:46:07.876Z"
   },
   {
    "duration": 30,
    "start_time": "2024-03-15T19:46:07.902Z"
   },
   {
    "duration": 357,
    "start_time": "2024-03-15T19:46:07.933Z"
   },
   {
    "duration": 4,
    "start_time": "2024-03-15T19:46:08.292Z"
   },
   {
    "duration": 25,
    "start_time": "2024-03-15T19:46:08.298Z"
   },
   {
    "duration": 337,
    "start_time": "2024-03-15T19:46:08.325Z"
   },
   {
    "duration": 20,
    "start_time": "2024-03-15T19:46:08.664Z"
   },
   {
    "duration": 429,
    "start_time": "2024-03-15T19:46:08.685Z"
   },
   {
    "duration": 9,
    "start_time": "2024-03-15T19:46:09.116Z"
   },
   {
    "duration": 362,
    "start_time": "2024-03-15T19:46:09.126Z"
   },
   {
    "duration": 8,
    "start_time": "2024-03-15T19:46:09.490Z"
   },
   {
    "duration": 17,
    "start_time": "2024-03-15T19:46:09.499Z"
   },
   {
    "duration": 244,
    "start_time": "2024-03-15T19:46:09.517Z"
   },
   {
    "duration": 9,
    "start_time": "2024-03-15T19:46:09.763Z"
   },
   {
    "duration": 261,
    "start_time": "2024-03-15T19:46:09.782Z"
   },
   {
    "duration": 10,
    "start_time": "2024-03-15T19:46:10.045Z"
   },
   {
    "duration": 21,
    "start_time": "2024-03-15T19:46:10.057Z"
   },
   {
    "duration": 0,
    "start_time": "2024-03-15T19:48:20.105Z"
   },
   {
    "duration": 14,
    "start_time": "2024-03-15T19:48:23.846Z"
   },
   {
    "duration": 205,
    "start_time": "2024-03-15T19:48:32.798Z"
   },
   {
    "duration": 291,
    "start_time": "2024-03-15T19:49:11.265Z"
   },
   {
    "duration": 14,
    "start_time": "2024-03-15T19:51:32.585Z"
   },
   {
    "duration": 8,
    "start_time": "2024-03-15T19:52:10.635Z"
   },
   {
    "duration": 70,
    "start_time": "2024-03-15T19:53:03.363Z"
   },
   {
    "duration": 217,
    "start_time": "2024-03-15T19:53:15.961Z"
   },
   {
    "duration": 179,
    "start_time": "2024-03-15T19:55:10.999Z"
   },
   {
    "duration": 197,
    "start_time": "2024-03-15T19:55:41.444Z"
   },
   {
    "duration": 201,
    "start_time": "2024-03-15T19:55:54.314Z"
   },
   {
    "duration": 198,
    "start_time": "2024-03-15T19:56:01.477Z"
   },
   {
    "duration": 197,
    "start_time": "2024-03-15T19:56:05.718Z"
   },
   {
    "duration": 314,
    "start_time": "2024-03-15T19:56:13.811Z"
   },
   {
    "duration": 222,
    "start_time": "2024-03-15T19:56:22.604Z"
   },
   {
    "duration": 232,
    "start_time": "2024-03-15T19:56:31.648Z"
   },
   {
    "duration": 265,
    "start_time": "2024-03-15T19:56:44.036Z"
   },
   {
    "duration": 16,
    "start_time": "2024-03-15T19:57:12.412Z"
   },
   {
    "duration": 1184,
    "start_time": "2024-03-15T19:57:35.761Z"
   },
   {
    "duration": 162,
    "start_time": "2024-03-15T19:57:52.397Z"
   },
   {
    "duration": 167,
    "start_time": "2024-03-15T19:59:11.655Z"
   },
   {
    "duration": 9,
    "start_time": "2024-03-15T20:04:06.069Z"
   },
   {
    "duration": 80,
    "start_time": "2024-03-15T20:04:47.122Z"
   },
   {
    "duration": 222,
    "start_time": "2024-03-15T20:04:53.905Z"
   },
   {
    "duration": 238,
    "start_time": "2024-03-15T20:05:06.044Z"
   },
   {
    "duration": 10,
    "start_time": "2024-03-15T20:07:44.588Z"
   },
   {
    "duration": 78,
    "start_time": "2024-03-15T20:09:40.270Z"
   },
   {
    "duration": 272,
    "start_time": "2024-03-15T20:09:49.383Z"
   },
   {
    "duration": 245,
    "start_time": "2024-03-15T20:11:27.494Z"
   },
   {
    "duration": 255,
    "start_time": "2024-03-15T20:11:52.360Z"
   },
   {
    "duration": 89,
    "start_time": "2024-03-15T20:12:39.729Z"
   },
   {
    "duration": 239,
    "start_time": "2024-03-15T20:12:44.731Z"
   },
   {
    "duration": 234,
    "start_time": "2024-03-15T20:13:16.013Z"
   },
   {
    "duration": 230,
    "start_time": "2024-03-15T20:13:24.397Z"
   },
   {
    "duration": 10,
    "start_time": "2024-03-15T20:15:46.572Z"
   },
   {
    "duration": 11,
    "start_time": "2024-03-15T20:16:53.764Z"
   },
   {
    "duration": 240,
    "start_time": "2024-03-15T20:17:46.836Z"
   },
   {
    "duration": 252,
    "start_time": "2024-03-15T20:18:59.260Z"
   },
   {
    "duration": 11,
    "start_time": "2024-03-15T20:24:20.488Z"
   },
   {
    "duration": 5,
    "start_time": "2024-03-15T20:24:40.291Z"
   },
   {
    "duration": 5,
    "start_time": "2024-03-15T20:25:04.355Z"
   },
   {
    "duration": 9,
    "start_time": "2024-03-15T20:27:03.397Z"
   },
   {
    "duration": 244,
    "start_time": "2024-03-15T20:27:17.177Z"
   },
   {
    "duration": 251,
    "start_time": "2024-03-15T20:29:00.674Z"
   },
   {
    "duration": 343,
    "start_time": "2024-03-15T20:36:35.493Z"
   },
   {
    "duration": 110,
    "start_time": "2024-03-15T20:53:43.011Z"
   },
   {
    "duration": 97,
    "start_time": "2024-03-15T20:54:06.509Z"
   },
   {
    "duration": 49,
    "start_time": "2024-03-15T20:54:43.597Z"
   },
   {
    "duration": 34,
    "start_time": "2024-03-15T20:56:19.234Z"
   },
   {
    "duration": 157,
    "start_time": "2024-03-15T20:56:28.154Z"
   },
   {
    "duration": 182,
    "start_time": "2024-03-15T20:57:33.640Z"
   },
   {
    "duration": 35,
    "start_time": "2024-03-15T20:59:49.124Z"
   },
   {
    "duration": 264,
    "start_time": "2024-03-15T21:02:38.726Z"
   },
   {
    "duration": 5,
    "start_time": "2024-03-15T21:04:35.843Z"
   },
   {
    "duration": 20,
    "start_time": "2024-03-15T21:05:20.126Z"
   },
   {
    "duration": 21,
    "start_time": "2024-03-15T21:15:41.465Z"
   },
   {
    "duration": 26,
    "start_time": "2024-03-15T21:16:18.085Z"
   },
   {
    "duration": 17,
    "start_time": "2024-03-15T21:17:12.238Z"
   },
   {
    "duration": 28,
    "start_time": "2024-03-15T21:17:27.905Z"
   },
   {
    "duration": 148,
    "start_time": "2024-03-15T21:23:25.232Z"
   },
   {
    "duration": 174,
    "start_time": "2024-03-15T21:24:03.746Z"
   },
   {
    "duration": 188,
    "start_time": "2024-03-15T21:25:08.487Z"
   },
   {
    "duration": 201,
    "start_time": "2024-03-15T21:25:52.999Z"
   },
   {
    "duration": 169,
    "start_time": "2024-03-15T21:26:21.093Z"
   },
   {
    "duration": 172,
    "start_time": "2024-03-15T21:27:39.114Z"
   },
   {
    "duration": 186,
    "start_time": "2024-03-15T21:28:47.654Z"
   },
   {
    "duration": 169,
    "start_time": "2024-03-15T21:29:28.856Z"
   },
   {
    "duration": 189,
    "start_time": "2024-03-15T21:29:35.789Z"
   },
   {
    "duration": 187,
    "start_time": "2024-03-15T21:30:15.036Z"
   },
   {
    "duration": 180,
    "start_time": "2024-03-15T21:30:34.118Z"
   },
   {
    "duration": 179,
    "start_time": "2024-03-15T21:31:13.346Z"
   },
   {
    "duration": 197,
    "start_time": "2024-03-15T21:31:26.536Z"
   },
   {
    "duration": 213,
    "start_time": "2024-03-15T21:31:53.284Z"
   },
   {
    "duration": 202,
    "start_time": "2024-03-15T21:33:03.483Z"
   },
   {
    "duration": 190,
    "start_time": "2024-03-15T21:33:17.030Z"
   },
   {
    "duration": 48,
    "start_time": "2024-03-16T07:07:17.932Z"
   },
   {
    "duration": 578,
    "start_time": "2024-03-16T07:07:25.470Z"
   },
   {
    "duration": 15,
    "start_time": "2024-03-16T07:07:26.050Z"
   },
   {
    "duration": 42,
    "start_time": "2024-03-16T07:07:26.067Z"
   },
   {
    "duration": 2519,
    "start_time": "2024-03-16T07:07:26.110Z"
   },
   {
    "duration": 12,
    "start_time": "2024-03-16T07:07:28.632Z"
   },
   {
    "duration": 15,
    "start_time": "2024-03-16T07:07:28.645Z"
   },
   {
    "duration": 20,
    "start_time": "2024-03-16T07:07:28.662Z"
   },
   {
    "duration": 11,
    "start_time": "2024-03-16T07:07:28.684Z"
   },
   {
    "duration": 11,
    "start_time": "2024-03-16T07:07:28.697Z"
   },
   {
    "duration": 39,
    "start_time": "2024-03-16T07:07:28.711Z"
   },
   {
    "duration": 6,
    "start_time": "2024-03-16T07:07:28.752Z"
   },
   {
    "duration": 17,
    "start_time": "2024-03-16T07:07:28.761Z"
   },
   {
    "duration": 6,
    "start_time": "2024-03-16T07:07:28.780Z"
   },
   {
    "duration": 7,
    "start_time": "2024-03-16T07:07:28.789Z"
   },
   {
    "duration": 32,
    "start_time": "2024-03-16T07:07:28.797Z"
   },
   {
    "duration": 293,
    "start_time": "2024-03-16T07:07:28.831Z"
   },
   {
    "duration": 5,
    "start_time": "2024-03-16T07:07:29.125Z"
   },
   {
    "duration": 7,
    "start_time": "2024-03-16T07:07:29.132Z"
   },
   {
    "duration": 10,
    "start_time": "2024-03-16T07:07:29.141Z"
   },
   {
    "duration": 11,
    "start_time": "2024-03-16T07:07:29.153Z"
   },
   {
    "duration": 14,
    "start_time": "2024-03-16T07:07:29.166Z"
   },
   {
    "duration": 5,
    "start_time": "2024-03-16T07:07:29.182Z"
   },
   {
    "duration": 5,
    "start_time": "2024-03-16T07:07:29.189Z"
   },
   {
    "duration": 5,
    "start_time": "2024-03-16T07:07:29.195Z"
   },
   {
    "duration": 354,
    "start_time": "2024-03-16T07:07:29.202Z"
   },
   {
    "duration": 4,
    "start_time": "2024-03-16T07:07:29.558Z"
   },
   {
    "duration": 18,
    "start_time": "2024-03-16T07:07:29.563Z"
   },
   {
    "duration": 337,
    "start_time": "2024-03-16T07:07:29.582Z"
   },
   {
    "duration": 9,
    "start_time": "2024-03-16T07:07:29.921Z"
   },
   {
    "duration": 412,
    "start_time": "2024-03-16T07:07:29.931Z"
   },
   {
    "duration": 9,
    "start_time": "2024-03-16T07:07:30.345Z"
   },
   {
    "duration": 474,
    "start_time": "2024-03-16T07:07:30.355Z"
   },
   {
    "duration": 9,
    "start_time": "2024-03-16T07:07:30.830Z"
   },
   {
    "duration": 82,
    "start_time": "2024-03-16T07:07:30.841Z"
   },
   {
    "duration": 277,
    "start_time": "2024-03-16T07:07:30.925Z"
   },
   {
    "duration": 10,
    "start_time": "2024-03-16T07:07:31.204Z"
   },
   {
    "duration": 244,
    "start_time": "2024-03-16T07:07:31.216Z"
   },
   {
    "duration": 11,
    "start_time": "2024-03-16T07:07:31.462Z"
   },
   {
    "duration": 219,
    "start_time": "2024-03-16T07:07:31.479Z"
   },
   {
    "duration": 8,
    "start_time": "2024-03-16T07:07:31.700Z"
   },
   {
    "duration": 240,
    "start_time": "2024-03-16T07:07:31.712Z"
   },
   {
    "duration": 11,
    "start_time": "2024-03-16T07:07:31.954Z"
   },
   {
    "duration": 302,
    "start_time": "2024-03-16T07:07:31.967Z"
   },
   {
    "duration": 13,
    "start_time": "2024-03-16T07:07:32.271Z"
   },
   {
    "duration": 250,
    "start_time": "2024-03-16T07:07:32.286Z"
   },
   {
    "duration": 11,
    "start_time": "2024-03-16T07:07:32.538Z"
   },
   {
    "duration": 447,
    "start_time": "2024-03-16T07:07:32.550Z"
   },
   {
    "duration": 30,
    "start_time": "2024-03-16T07:07:32.999Z"
   },
   {
    "duration": 23,
    "start_time": "2024-03-16T07:07:33.030Z"
   },
   {
    "duration": 185,
    "start_time": "2024-03-16T07:07:33.055Z"
   },
   {
    "duration": 183,
    "start_time": "2024-03-16T07:07:33.242Z"
   },
   {
    "duration": 171,
    "start_time": "2024-03-16T07:07:33.427Z"
   },
   {
    "duration": 187,
    "start_time": "2024-03-16T07:07:33.599Z"
   },
   {
    "duration": 182,
    "start_time": "2024-03-16T07:07:33.787Z"
   },
   {
    "duration": 214,
    "start_time": "2024-03-16T07:07:33.970Z"
   },
   {
    "duration": 205,
    "start_time": "2024-03-16T07:07:34.186Z"
   },
   {
    "duration": 208,
    "start_time": "2024-03-16T07:07:34.392Z"
   },
   {
    "duration": 85,
    "start_time": "2024-03-16T07:07:34.601Z"
   },
   {
    "duration": 18,
    "start_time": "2024-03-16T07:07:42.041Z"
   },
   {
    "duration": 95,
    "start_time": "2024-03-16T07:08:28.707Z"
   },
   {
    "duration": 123,
    "start_time": "2024-03-16T07:08:36.358Z"
   },
   {
    "duration": 103,
    "start_time": "2024-03-16T07:08:39.885Z"
   },
   {
    "duration": 18,
    "start_time": "2024-03-16T07:08:57.614Z"
   },
   {
    "duration": 16,
    "start_time": "2024-03-16T07:09:17.160Z"
   },
   {
    "duration": 25,
    "start_time": "2024-03-16T07:10:41.305Z"
   },
   {
    "duration": 28,
    "start_time": "2024-03-16T07:10:51.827Z"
   },
   {
    "duration": 27,
    "start_time": "2024-03-16T07:11:28.015Z"
   },
   {
    "duration": 21,
    "start_time": "2024-03-16T07:14:50.139Z"
   },
   {
    "duration": 24,
    "start_time": "2024-03-16T07:15:26.526Z"
   },
   {
    "duration": 25,
    "start_time": "2024-03-16T07:16:06.746Z"
   },
   {
    "duration": 26,
    "start_time": "2024-03-16T07:16:40.896Z"
   },
   {
    "duration": 27,
    "start_time": "2024-03-16T07:17:21.844Z"
   },
   {
    "duration": 25,
    "start_time": "2024-03-16T07:18:36.985Z"
   },
   {
    "duration": 27,
    "start_time": "2024-03-16T07:19:56.823Z"
   },
   {
    "duration": 32,
    "start_time": "2024-03-16T07:29:31.534Z"
   },
   {
    "duration": 15,
    "start_time": "2024-03-16T07:29:53.708Z"
   },
   {
    "duration": 94,
    "start_time": "2024-03-16T07:34:26.794Z"
   },
   {
    "duration": 21,
    "start_time": "2024-03-16T07:34:34.720Z"
   },
   {
    "duration": 100,
    "start_time": "2024-03-16T07:35:36.540Z"
   },
   {
    "duration": 179,
    "start_time": "2024-03-16T07:35:41.826Z"
   },
   {
    "duration": 195,
    "start_time": "2024-03-16T07:36:29.382Z"
   },
   {
    "duration": 194,
    "start_time": "2024-03-16T07:37:35.337Z"
   },
   {
    "duration": 206,
    "start_time": "2024-03-16T07:37:45.521Z"
   },
   {
    "duration": 297,
    "start_time": "2024-03-16T07:37:53.817Z"
   },
   {
    "duration": 21,
    "start_time": "2024-03-16T07:39:13.163Z"
   },
   {
    "duration": 236,
    "start_time": "2024-03-16T07:40:19.647Z"
   },
   {
    "duration": 23,
    "start_time": "2024-03-16T07:42:44.098Z"
   },
   {
    "duration": 19,
    "start_time": "2024-03-16T07:42:56.598Z"
   },
   {
    "duration": 13,
    "start_time": "2024-03-16T07:43:56.055Z"
   },
   {
    "duration": 19,
    "start_time": "2024-03-16T07:44:09.786Z"
   },
   {
    "duration": 14,
    "start_time": "2024-03-16T07:45:31.096Z"
   },
   {
    "duration": 22,
    "start_time": "2024-03-16T07:45:45.537Z"
   },
   {
    "duration": 197,
    "start_time": "2024-03-16T07:47:57.983Z"
   },
   {
    "duration": 729,
    "start_time": "2024-03-17T17:55:53.709Z"
   },
   {
    "duration": 66,
    "start_time": "2024-03-17T17:56:31.885Z"
   },
   {
    "duration": 598,
    "start_time": "2024-03-17T18:04:18.638Z"
   },
   {
    "duration": 307,
    "start_time": "2024-03-17T18:04:19.238Z"
   },
   {
    "duration": 12,
    "start_time": "2024-03-17T18:04:19.547Z"
   },
   {
    "duration": 31,
    "start_time": "2024-03-17T18:04:19.561Z"
   },
   {
    "duration": 1672,
    "start_time": "2024-03-17T18:04:19.594Z"
   },
   {
    "duration": 8,
    "start_time": "2024-03-17T18:04:21.268Z"
   },
   {
    "duration": 15,
    "start_time": "2024-03-17T18:04:21.277Z"
   },
   {
    "duration": 7,
    "start_time": "2024-03-17T18:04:21.293Z"
   },
   {
    "duration": 9,
    "start_time": "2024-03-17T18:04:21.301Z"
   },
   {
    "duration": 8,
    "start_time": "2024-03-17T18:04:21.311Z"
   },
   {
    "duration": 7,
    "start_time": "2024-03-17T18:04:21.320Z"
   },
   {
    "duration": 4,
    "start_time": "2024-03-17T18:04:21.328Z"
   },
   {
    "duration": 11,
    "start_time": "2024-03-17T18:04:21.334Z"
   },
   {
    "duration": 6,
    "start_time": "2024-03-17T18:04:21.347Z"
   },
   {
    "duration": 7,
    "start_time": "2024-03-17T18:04:21.354Z"
   },
   {
    "duration": 17,
    "start_time": "2024-03-17T18:04:21.363Z"
   },
   {
    "duration": 240,
    "start_time": "2024-03-17T18:04:21.382Z"
   },
   {
    "duration": 4,
    "start_time": "2024-03-17T18:04:21.624Z"
   },
   {
    "duration": 11,
    "start_time": "2024-03-17T18:04:21.629Z"
   },
   {
    "duration": 5,
    "start_time": "2024-03-17T18:04:21.642Z"
   },
   {
    "duration": 9,
    "start_time": "2024-03-17T18:04:21.648Z"
   },
   {
    "duration": 4,
    "start_time": "2024-03-17T18:04:21.658Z"
   },
   {
    "duration": 8,
    "start_time": "2024-03-17T18:04:21.664Z"
   },
   {
    "duration": 10,
    "start_time": "2024-03-17T18:04:21.674Z"
   },
   {
    "duration": 14,
    "start_time": "2024-03-17T18:04:21.685Z"
   },
   {
    "duration": 311,
    "start_time": "2024-03-17T18:04:21.700Z"
   },
   {
    "duration": 4,
    "start_time": "2024-03-17T18:04:22.012Z"
   },
   {
    "duration": 18,
    "start_time": "2024-03-17T18:04:22.017Z"
   },
   {
    "duration": 287,
    "start_time": "2024-03-17T18:04:22.036Z"
   },
   {
    "duration": 7,
    "start_time": "2024-03-17T18:04:22.325Z"
   },
   {
    "duration": 346,
    "start_time": "2024-03-17T18:04:22.333Z"
   },
   {
    "duration": 7,
    "start_time": "2024-03-17T18:04:22.681Z"
   },
   {
    "duration": 285,
    "start_time": "2024-03-17T18:04:22.689Z"
   },
   {
    "duration": 9,
    "start_time": "2024-03-17T18:04:22.976Z"
   },
   {
    "duration": 10,
    "start_time": "2024-03-17T18:04:22.986Z"
   },
   {
    "duration": 210,
    "start_time": "2024-03-17T18:04:22.997Z"
   },
   {
    "duration": 8,
    "start_time": "2024-03-17T18:04:23.208Z"
   },
   {
    "duration": 195,
    "start_time": "2024-03-17T18:04:23.217Z"
   },
   {
    "duration": 9,
    "start_time": "2024-03-17T18:04:23.413Z"
   },
   {
    "duration": 141,
    "start_time": "2024-03-17T18:04:23.423Z"
   },
   {
    "duration": 7,
    "start_time": "2024-03-17T18:04:23.568Z"
   },
   {
    "duration": 198,
    "start_time": "2024-03-17T18:04:23.576Z"
   },
   {
    "duration": 8,
    "start_time": "2024-03-17T18:04:23.775Z"
   },
   {
    "duration": 201,
    "start_time": "2024-03-17T18:04:23.785Z"
   },
   {
    "duration": 8,
    "start_time": "2024-03-17T18:04:23.987Z"
   },
   {
    "duration": 208,
    "start_time": "2024-03-17T18:04:23.996Z"
   },
   {
    "duration": 8,
    "start_time": "2024-03-17T18:04:24.206Z"
   },
   {
    "duration": 288,
    "start_time": "2024-03-17T18:04:24.215Z"
   },
   {
    "duration": 27,
    "start_time": "2024-03-17T18:04:24.505Z"
   },
   {
    "duration": 28,
    "start_time": "2024-03-17T18:04:24.533Z"
   },
   {
    "duration": 223,
    "start_time": "2024-03-17T18:04:24.562Z"
   },
   {
    "duration": 156,
    "start_time": "2024-03-17T18:04:24.787Z"
   },
   {
    "duration": 139,
    "start_time": "2024-03-17T18:04:24.945Z"
   },
   {
    "duration": 150,
    "start_time": "2024-03-17T18:04:25.086Z"
   },
   {
    "duration": 167,
    "start_time": "2024-03-17T18:04:25.237Z"
   },
   {
    "duration": 187,
    "start_time": "2024-03-17T18:04:25.405Z"
   },
   {
    "duration": 166,
    "start_time": "2024-03-17T18:04:25.594Z"
   },
   {
    "duration": 159,
    "start_time": "2024-03-17T18:04:25.762Z"
   },
   {
    "duration": 32,
    "start_time": "2024-03-17T18:04:25.922Z"
   },
   {
    "duration": 12,
    "start_time": "2024-03-17T18:04:25.955Z"
   },
   {
    "duration": 43,
    "start_time": "2024-03-17T18:04:25.968Z"
   },
   {
    "duration": 187,
    "start_time": "2024-03-17T18:04:26.012Z"
   },
   {
    "duration": 3,
    "start_time": "2024-03-17T18:22:04.562Z"
   },
   {
    "duration": 9,
    "start_time": "2024-03-17T18:24:15.782Z"
   },
   {
    "duration": 9,
    "start_time": "2024-03-17T18:25:07.493Z"
   },
   {
    "duration": 5,
    "start_time": "2024-03-17T18:27:15.914Z"
   },
   {
    "duration": 1127,
    "start_time": "2024-03-17T18:27:37.914Z"
   },
   {
    "duration": 9,
    "start_time": "2024-03-17T18:27:49.350Z"
   },
   {
    "duration": 5,
    "start_time": "2024-03-17T18:27:52.717Z"
   },
   {
    "duration": 10,
    "start_time": "2024-03-17T18:29:15.669Z"
   },
   {
    "duration": 5,
    "start_time": "2024-03-17T18:29:18.131Z"
   },
   {
    "duration": 8,
    "start_time": "2024-03-17T18:31:15.997Z"
   },
   {
    "duration": 127,
    "start_time": "2024-03-17T18:31:50.824Z"
   },
   {
    "duration": 4,
    "start_time": "2024-03-17T18:37:01.612Z"
   },
   {
    "duration": 8,
    "start_time": "2024-03-17T18:37:06.297Z"
   },
   {
    "duration": 13,
    "start_time": "2024-03-17T19:00:40.042Z"
   },
   {
    "duration": 25,
    "start_time": "2024-03-17T19:01:25.039Z"
   },
   {
    "duration": 327,
    "start_time": "2024-03-17T19:03:24.997Z"
   },
   {
    "duration": 316,
    "start_time": "2024-03-17T19:04:35.024Z"
   },
   {
    "duration": 263,
    "start_time": "2024-03-17T19:04:49.121Z"
   },
   {
    "duration": 280,
    "start_time": "2024-03-17T19:05:34.713Z"
   },
   {
    "duration": 283,
    "start_time": "2024-03-17T19:05:57.598Z"
   },
   {
    "duration": 3,
    "start_time": "2024-03-17T19:06:51.249Z"
   },
   {
    "duration": 89,
    "start_time": "2024-03-17T19:06:51.254Z"
   },
   {
    "duration": 14,
    "start_time": "2024-03-17T19:06:51.344Z"
   },
   {
    "duration": 25,
    "start_time": "2024-03-17T19:06:51.360Z"
   },
   {
    "duration": 1675,
    "start_time": "2024-03-17T19:06:51.387Z"
   },
   {
    "duration": 8,
    "start_time": "2024-03-17T19:06:53.064Z"
   },
   {
    "duration": 6,
    "start_time": "2024-03-17T19:06:53.073Z"
   },
   {
    "duration": 12,
    "start_time": "2024-03-17T19:06:53.080Z"
   },
   {
    "duration": 12,
    "start_time": "2024-03-17T19:06:53.093Z"
   },
   {
    "duration": 8,
    "start_time": "2024-03-17T19:06:53.107Z"
   },
   {
    "duration": 4,
    "start_time": "2024-03-17T19:06:53.116Z"
   },
   {
    "duration": 24,
    "start_time": "2024-03-17T19:06:53.121Z"
   },
   {
    "duration": 319,
    "start_time": "2024-03-17T19:06:53.146Z"
   },
   {
    "duration": 1,
    "start_time": "2024-03-17T19:06:53.468Z"
   },
   {
    "duration": 0,
    "start_time": "2024-03-17T19:06:53.470Z"
   },
   {
    "duration": 0,
    "start_time": "2024-03-17T19:06:53.471Z"
   },
   {
    "duration": 0,
    "start_time": "2024-03-17T19:06:53.473Z"
   },
   {
    "duration": 0,
    "start_time": "2024-03-17T19:06:53.474Z"
   },
   {
    "duration": 0,
    "start_time": "2024-03-17T19:06:53.475Z"
   },
   {
    "duration": 0,
    "start_time": "2024-03-17T19:06:53.476Z"
   },
   {
    "duration": 0,
    "start_time": "2024-03-17T19:06:53.477Z"
   },
   {
    "duration": 0,
    "start_time": "2024-03-17T19:06:53.478Z"
   },
   {
    "duration": 0,
    "start_time": "2024-03-17T19:06:53.479Z"
   },
   {
    "duration": 0,
    "start_time": "2024-03-17T19:06:53.480Z"
   },
   {
    "duration": 0,
    "start_time": "2024-03-17T19:06:53.481Z"
   },
   {
    "duration": 0,
    "start_time": "2024-03-17T19:06:53.482Z"
   },
   {
    "duration": 0,
    "start_time": "2024-03-17T19:06:53.483Z"
   },
   {
    "duration": 0,
    "start_time": "2024-03-17T19:06:53.484Z"
   },
   {
    "duration": 0,
    "start_time": "2024-03-17T19:06:53.486Z"
   },
   {
    "duration": 0,
    "start_time": "2024-03-17T19:06:53.487Z"
   },
   {
    "duration": 0,
    "start_time": "2024-03-17T19:06:53.488Z"
   },
   {
    "duration": 0,
    "start_time": "2024-03-17T19:06:53.489Z"
   },
   {
    "duration": 0,
    "start_time": "2024-03-17T19:06:53.490Z"
   },
   {
    "duration": 0,
    "start_time": "2024-03-17T19:06:53.491Z"
   },
   {
    "duration": 0,
    "start_time": "2024-03-17T19:06:53.492Z"
   },
   {
    "duration": 0,
    "start_time": "2024-03-17T19:06:53.493Z"
   },
   {
    "duration": 0,
    "start_time": "2024-03-17T19:06:53.494Z"
   },
   {
    "duration": 0,
    "start_time": "2024-03-17T19:06:53.495Z"
   },
   {
    "duration": 0,
    "start_time": "2024-03-17T19:06:53.496Z"
   },
   {
    "duration": 0,
    "start_time": "2024-03-17T19:06:53.497Z"
   },
   {
    "duration": 0,
    "start_time": "2024-03-17T19:06:53.499Z"
   },
   {
    "duration": 0,
    "start_time": "2024-03-17T19:06:53.500Z"
   },
   {
    "duration": 0,
    "start_time": "2024-03-17T19:06:53.501Z"
   },
   {
    "duration": 0,
    "start_time": "2024-03-17T19:06:53.502Z"
   },
   {
    "duration": 0,
    "start_time": "2024-03-17T19:06:53.503Z"
   },
   {
    "duration": 0,
    "start_time": "2024-03-17T19:06:53.504Z"
   },
   {
    "duration": 0,
    "start_time": "2024-03-17T19:06:53.545Z"
   },
   {
    "duration": 0,
    "start_time": "2024-03-17T19:06:53.546Z"
   },
   {
    "duration": 0,
    "start_time": "2024-03-17T19:06:53.547Z"
   },
   {
    "duration": 0,
    "start_time": "2024-03-17T19:06:53.549Z"
   },
   {
    "duration": 0,
    "start_time": "2024-03-17T19:06:53.550Z"
   },
   {
    "duration": 0,
    "start_time": "2024-03-17T19:06:53.551Z"
   },
   {
    "duration": 0,
    "start_time": "2024-03-17T19:06:53.552Z"
   },
   {
    "duration": 0,
    "start_time": "2024-03-17T19:06:53.553Z"
   },
   {
    "duration": 0,
    "start_time": "2024-03-17T19:06:53.554Z"
   },
   {
    "duration": 0,
    "start_time": "2024-03-17T19:06:53.556Z"
   },
   {
    "duration": 0,
    "start_time": "2024-03-17T19:06:53.557Z"
   },
   {
    "duration": 0,
    "start_time": "2024-03-17T19:06:53.558Z"
   },
   {
    "duration": 0,
    "start_time": "2024-03-17T19:06:53.559Z"
   },
   {
    "duration": 0,
    "start_time": "2024-03-17T19:06:53.560Z"
   },
   {
    "duration": 0,
    "start_time": "2024-03-17T19:06:53.561Z"
   },
   {
    "duration": 0,
    "start_time": "2024-03-17T19:06:53.562Z"
   },
   {
    "duration": 0,
    "start_time": "2024-03-17T19:06:53.563Z"
   },
   {
    "duration": 0,
    "start_time": "2024-03-17T19:06:53.565Z"
   },
   {
    "duration": 0,
    "start_time": "2024-03-17T19:06:53.566Z"
   },
   {
    "duration": 0,
    "start_time": "2024-03-17T19:06:53.568Z"
   },
   {
    "duration": 0,
    "start_time": "2024-03-17T19:06:53.569Z"
   },
   {
    "duration": 282,
    "start_time": "2024-03-17T19:10:34.557Z"
   },
   {
    "duration": 543,
    "start_time": "2024-03-17T19:11:39.067Z"
   },
   {
    "duration": 302,
    "start_time": "2024-03-17T19:13:13.141Z"
   },
   {
    "duration": 17,
    "start_time": "2024-03-17T19:16:58.951Z"
   },
   {
    "duration": 41,
    "start_time": "2024-03-17T19:26:19.178Z"
   },
   {
    "duration": 6,
    "start_time": "2024-03-17T19:27:07.229Z"
   },
   {
    "duration": 3,
    "start_time": "2024-03-17T19:27:51.218Z"
   },
   {
    "duration": 3,
    "start_time": "2024-03-17T19:31:59.110Z"
   },
   {
    "duration": 74,
    "start_time": "2024-03-17T19:33:25.625Z"
   },
   {
    "duration": 8,
    "start_time": "2024-03-17T19:33:52.365Z"
   },
   {
    "duration": 151,
    "start_time": "2024-03-17T19:34:03.911Z"
   },
   {
    "duration": 151,
    "start_time": "2024-03-17T19:37:13.594Z"
   },
   {
    "duration": 771,
    "start_time": "2024-03-17T19:37:26.804Z"
   },
   {
    "duration": 828,
    "start_time": "2024-03-17T19:38:57.208Z"
   },
   {
    "duration": 798,
    "start_time": "2024-03-17T19:40:49.143Z"
   },
   {
    "duration": 65,
    "start_time": "2024-03-17T19:42:12.309Z"
   },
   {
    "duration": 71,
    "start_time": "2024-03-17T19:42:22.340Z"
   },
   {
    "duration": 69,
    "start_time": "2024-03-17T19:42:39.002Z"
   },
   {
    "duration": 76,
    "start_time": "2024-03-17T19:42:42.338Z"
   },
   {
    "duration": 91,
    "start_time": "2024-03-17T19:42:54.822Z"
   },
   {
    "duration": 9,
    "start_time": "2024-03-17T19:44:34.413Z"
   },
   {
    "duration": 6,
    "start_time": "2024-03-17T19:45:23.108Z"
   },
   {
    "duration": 8,
    "start_time": "2024-03-17T19:45:37.415Z"
   },
   {
    "duration": 4,
    "start_time": "2024-03-17T19:45:59.030Z"
   },
   {
    "duration": 26,
    "start_time": "2024-03-17T19:46:29.294Z"
   },
   {
    "duration": 5,
    "start_time": "2024-03-17T19:49:12.461Z"
   },
   {
    "duration": 586,
    "start_time": "2024-03-17T19:50:00.303Z"
   },
   {
    "duration": 101,
    "start_time": "2024-03-17T19:50:00.891Z"
   },
   {
    "duration": 20,
    "start_time": "2024-03-17T19:50:00.994Z"
   },
   {
    "duration": 130,
    "start_time": "2024-03-17T19:50:01.015Z"
   },
   {
    "duration": 1879,
    "start_time": "2024-03-17T19:50:01.147Z"
   },
   {
    "duration": 8,
    "start_time": "2024-03-17T19:50:03.028Z"
   },
   {
    "duration": 44,
    "start_time": "2024-03-17T19:50:03.038Z"
   },
   {
    "duration": 17,
    "start_time": "2024-03-17T19:50:03.084Z"
   },
   {
    "duration": 11,
    "start_time": "2024-03-17T19:50:03.102Z"
   },
   {
    "duration": 23,
    "start_time": "2024-03-17T19:50:03.116Z"
   },
   {
    "duration": 19,
    "start_time": "2024-03-17T19:50:03.141Z"
   },
   {
    "duration": 25,
    "start_time": "2024-03-17T19:50:03.162Z"
   },
   {
    "duration": 67,
    "start_time": "2024-03-17T19:50:03.188Z"
   },
   {
    "duration": 3,
    "start_time": "2024-03-17T19:50:03.257Z"
   },
   {
    "duration": 33,
    "start_time": "2024-03-17T19:50:03.262Z"
   },
   {
    "duration": 5,
    "start_time": "2024-03-17T19:50:03.296Z"
   },
   {
    "duration": 31,
    "start_time": "2024-03-17T19:50:03.302Z"
   },
   {
    "duration": 5,
    "start_time": "2024-03-17T19:50:03.335Z"
   },
   {
    "duration": 10,
    "start_time": "2024-03-17T19:50:03.341Z"
   },
   {
    "duration": 258,
    "start_time": "2024-03-17T19:50:03.353Z"
   },
   {
    "duration": 4,
    "start_time": "2024-03-17T19:50:03.613Z"
   },
   {
    "duration": 21,
    "start_time": "2024-03-17T19:50:03.618Z"
   },
   {
    "duration": 11,
    "start_time": "2024-03-17T19:50:03.640Z"
   },
   {
    "duration": 9,
    "start_time": "2024-03-17T19:50:03.652Z"
   },
   {
    "duration": 9,
    "start_time": "2024-03-17T19:50:03.663Z"
   },
   {
    "duration": 21,
    "start_time": "2024-03-17T19:50:03.673Z"
   },
   {
    "duration": 16,
    "start_time": "2024-03-17T19:50:03.695Z"
   },
   {
    "duration": 5,
    "start_time": "2024-03-17T19:50:03.715Z"
   },
   {
    "duration": 296,
    "start_time": "2024-03-17T19:50:03.721Z"
   },
   {
    "duration": 4,
    "start_time": "2024-03-17T19:50:04.018Z"
   },
   {
    "duration": 10,
    "start_time": "2024-03-17T19:50:04.023Z"
   },
   {
    "duration": 314,
    "start_time": "2024-03-17T19:50:04.045Z"
   },
   {
    "duration": 8,
    "start_time": "2024-03-17T19:50:04.360Z"
   },
   {
    "duration": 343,
    "start_time": "2024-03-17T19:50:04.369Z"
   },
   {
    "duration": 7,
    "start_time": "2024-03-17T19:50:04.714Z"
   },
   {
    "duration": 283,
    "start_time": "2024-03-17T19:50:04.722Z"
   },
   {
    "duration": 8,
    "start_time": "2024-03-17T19:50:05.006Z"
   },
   {
    "duration": 15,
    "start_time": "2024-03-17T19:50:05.015Z"
   },
   {
    "duration": 217,
    "start_time": "2024-03-17T19:50:05.032Z"
   },
   {
    "duration": 8,
    "start_time": "2024-03-17T19:50:05.250Z"
   },
   {
    "duration": 215,
    "start_time": "2024-03-17T19:50:05.260Z"
   },
   {
    "duration": 10,
    "start_time": "2024-03-17T19:50:05.477Z"
   },
   {
    "duration": 143,
    "start_time": "2024-03-17T19:50:05.489Z"
   },
   {
    "duration": 14,
    "start_time": "2024-03-17T19:50:05.634Z"
   },
   {
    "duration": 187,
    "start_time": "2024-03-17T19:50:05.650Z"
   },
   {
    "duration": 11,
    "start_time": "2024-03-17T19:50:05.838Z"
   },
   {
    "duration": 191,
    "start_time": "2024-03-17T19:50:05.850Z"
   },
   {
    "duration": 7,
    "start_time": "2024-03-17T19:50:06.043Z"
   },
   {
    "duration": 210,
    "start_time": "2024-03-17T19:50:06.052Z"
   },
   {
    "duration": 8,
    "start_time": "2024-03-17T19:50:06.263Z"
   },
   {
    "duration": 303,
    "start_time": "2024-03-17T19:50:06.272Z"
   },
   {
    "duration": 37,
    "start_time": "2024-03-17T19:50:06.576Z"
   },
   {
    "duration": 33,
    "start_time": "2024-03-17T19:50:06.614Z"
   },
   {
    "duration": 240,
    "start_time": "2024-03-17T19:50:06.649Z"
   },
   {
    "duration": 160,
    "start_time": "2024-03-17T19:50:06.890Z"
   },
   {
    "duration": 149,
    "start_time": "2024-03-17T19:50:07.051Z"
   },
   {
    "duration": 164,
    "start_time": "2024-03-17T19:50:07.203Z"
   },
   {
    "duration": 165,
    "start_time": "2024-03-17T19:50:07.369Z"
   },
   {
    "duration": 175,
    "start_time": "2024-03-17T19:50:07.535Z"
   },
   {
    "duration": 181,
    "start_time": "2024-03-17T19:50:07.711Z"
   },
   {
    "duration": 168,
    "start_time": "2024-03-17T19:50:07.894Z"
   },
   {
    "duration": 26,
    "start_time": "2024-03-17T19:50:08.063Z"
   },
   {
    "duration": 24,
    "start_time": "2024-03-17T19:50:08.090Z"
   },
   {
    "duration": 37,
    "start_time": "2024-03-17T19:50:08.116Z"
   },
   {
    "duration": 194,
    "start_time": "2024-03-17T19:50:08.155Z"
   },
   {
    "duration": 4,
    "start_time": "2024-03-17T19:56:10.272Z"
   },
   {
    "duration": 148,
    "start_time": "2024-03-17T20:04:19.111Z"
   },
   {
    "duration": 174,
    "start_time": "2024-03-17T20:04:47.095Z"
   },
   {
    "duration": 136,
    "start_time": "2024-03-17T20:05:05.834Z"
   },
   {
    "duration": 152,
    "start_time": "2024-03-17T20:05:20.084Z"
   },
   {
    "duration": 236,
    "start_time": "2024-03-17T20:05:37.861Z"
   },
   {
    "duration": 191,
    "start_time": "2024-03-17T20:05:59.479Z"
   },
   {
    "duration": 180,
    "start_time": "2024-03-17T20:06:13.013Z"
   },
   {
    "duration": 153,
    "start_time": "2024-03-17T20:06:23.735Z"
   },
   {
    "duration": 146,
    "start_time": "2024-03-17T20:07:09.242Z"
   },
   {
    "duration": 139,
    "start_time": "2024-03-17T20:07:20.628Z"
   },
   {
    "duration": 141,
    "start_time": "2024-03-17T20:07:25.805Z"
   },
   {
    "duration": 155,
    "start_time": "2024-03-17T20:07:31.930Z"
   },
   {
    "duration": 138,
    "start_time": "2024-03-17T20:07:36.982Z"
   },
   {
    "duration": 155,
    "start_time": "2024-03-17T20:07:43.479Z"
   },
   {
    "duration": 146,
    "start_time": "2024-03-17T20:07:47.412Z"
   },
   {
    "duration": 166,
    "start_time": "2024-03-17T20:07:58.138Z"
   },
   {
    "duration": 157,
    "start_time": "2024-03-17T20:08:06.663Z"
   },
   {
    "duration": 156,
    "start_time": "2024-03-17T20:08:17.841Z"
   },
   {
    "duration": 225,
    "start_time": "2024-03-17T20:08:42.347Z"
   },
   {
    "duration": 182,
    "start_time": "2024-03-17T20:09:15.524Z"
   },
   {
    "duration": 153,
    "start_time": "2024-03-17T20:09:33.904Z"
   },
   {
    "duration": 163,
    "start_time": "2024-03-17T20:10:28.934Z"
   },
   {
    "duration": 786,
    "start_time": "2024-03-17T20:11:12.519Z"
   },
   {
    "duration": 270,
    "start_time": "2024-03-17T20:11:19.884Z"
   },
   {
    "duration": 259,
    "start_time": "2024-03-17T20:11:30.955Z"
   },
   {
    "duration": 184,
    "start_time": "2024-03-17T20:11:38.111Z"
   },
   {
    "duration": 194,
    "start_time": "2024-03-17T20:12:00.797Z"
   },
   {
    "duration": 162,
    "start_time": "2024-03-17T20:12:17.878Z"
   },
   {
    "duration": 224,
    "start_time": "2024-03-17T20:12:31.918Z"
   },
   {
    "duration": 153,
    "start_time": "2024-03-17T20:12:38.376Z"
   },
   {
    "duration": 159,
    "start_time": "2024-03-17T20:12:48.999Z"
   },
   {
    "duration": 173,
    "start_time": "2024-03-17T20:12:58.285Z"
   },
   {
    "duration": 616,
    "start_time": "2024-03-17T20:13:19.316Z"
   },
   {
    "duration": 93,
    "start_time": "2024-03-17T20:13:19.933Z"
   },
   {
    "duration": 13,
    "start_time": "2024-03-17T20:13:20.028Z"
   },
   {
    "duration": 30,
    "start_time": "2024-03-17T20:13:20.042Z"
   },
   {
    "duration": 1680,
    "start_time": "2024-03-17T20:13:20.074Z"
   },
   {
    "duration": 8,
    "start_time": "2024-03-17T20:13:21.756Z"
   },
   {
    "duration": 13,
    "start_time": "2024-03-17T20:13:21.765Z"
   },
   {
    "duration": 18,
    "start_time": "2024-03-17T20:13:21.779Z"
   },
   {
    "duration": 15,
    "start_time": "2024-03-17T20:13:21.798Z"
   },
   {
    "duration": 8,
    "start_time": "2024-03-17T20:13:21.814Z"
   },
   {
    "duration": 4,
    "start_time": "2024-03-17T20:13:21.824Z"
   },
   {
    "duration": 4,
    "start_time": "2024-03-17T20:13:21.829Z"
   },
   {
    "duration": 49,
    "start_time": "2024-03-17T20:13:21.835Z"
   },
   {
    "duration": 2,
    "start_time": "2024-03-17T20:13:21.887Z"
   },
   {
    "duration": 24,
    "start_time": "2024-03-17T20:13:21.891Z"
   },
   {
    "duration": 4,
    "start_time": "2024-03-17T20:13:21.917Z"
   },
   {
    "duration": 4,
    "start_time": "2024-03-17T20:13:21.922Z"
   },
   {
    "duration": 20,
    "start_time": "2024-03-17T20:13:21.927Z"
   },
   {
    "duration": 10,
    "start_time": "2024-03-17T20:13:21.948Z"
   },
   {
    "duration": 274,
    "start_time": "2024-03-17T20:13:21.960Z"
   },
   {
    "duration": 4,
    "start_time": "2024-03-17T20:13:22.235Z"
   },
   {
    "duration": 14,
    "start_time": "2024-03-17T20:13:22.240Z"
   },
   {
    "duration": 8,
    "start_time": "2024-03-17T20:13:22.255Z"
   },
   {
    "duration": 24,
    "start_time": "2024-03-17T20:13:22.264Z"
   },
   {
    "duration": 3,
    "start_time": "2024-03-17T20:13:22.290Z"
   },
   {
    "duration": 17,
    "start_time": "2024-03-17T20:13:22.295Z"
   },
   {
    "duration": 5,
    "start_time": "2024-03-17T20:13:22.314Z"
   },
   {
    "duration": 4,
    "start_time": "2024-03-17T20:13:22.320Z"
   },
   {
    "duration": 283,
    "start_time": "2024-03-17T20:13:22.326Z"
   },
   {
    "duration": 4,
    "start_time": "2024-03-17T20:13:22.610Z"
   },
   {
    "duration": 10,
    "start_time": "2024-03-17T20:13:22.615Z"
   },
   {
    "duration": 278,
    "start_time": "2024-03-17T20:13:22.626Z"
   },
   {
    "duration": 7,
    "start_time": "2024-03-17T20:13:22.905Z"
   },
   {
    "duration": 332,
    "start_time": "2024-03-17T20:13:22.914Z"
   },
   {
    "duration": 7,
    "start_time": "2024-03-17T20:13:23.248Z"
   },
   {
    "duration": 294,
    "start_time": "2024-03-17T20:13:23.256Z"
   },
   {
    "duration": 7,
    "start_time": "2024-03-17T20:13:23.551Z"
   },
   {
    "duration": 9,
    "start_time": "2024-03-17T20:13:23.559Z"
   },
   {
    "duration": 199,
    "start_time": "2024-03-17T20:13:23.569Z"
   },
   {
    "duration": 8,
    "start_time": "2024-03-17T20:13:23.769Z"
   },
   {
    "duration": 202,
    "start_time": "2024-03-17T20:13:23.780Z"
   },
   {
    "duration": 8,
    "start_time": "2024-03-17T20:13:23.984Z"
   },
   {
    "duration": 157,
    "start_time": "2024-03-17T20:13:23.994Z"
   },
   {
    "duration": 7,
    "start_time": "2024-03-17T20:13:24.153Z"
   },
   {
    "duration": 202,
    "start_time": "2024-03-17T20:13:24.161Z"
   },
   {
    "duration": 8,
    "start_time": "2024-03-17T20:13:24.364Z"
   },
   {
    "duration": 187,
    "start_time": "2024-03-17T20:13:24.373Z"
   },
   {
    "duration": 8,
    "start_time": "2024-03-17T20:13:24.561Z"
   },
   {
    "duration": 222,
    "start_time": "2024-03-17T20:13:24.570Z"
   },
   {
    "duration": 9,
    "start_time": "2024-03-17T20:13:24.793Z"
   },
   {
    "duration": 290,
    "start_time": "2024-03-17T20:13:24.803Z"
   },
   {
    "duration": 27,
    "start_time": "2024-03-17T20:13:25.094Z"
   },
   {
    "duration": 32,
    "start_time": "2024-03-17T20:13:25.122Z"
   },
   {
    "duration": 222,
    "start_time": "2024-03-17T20:13:25.155Z"
   },
   {
    "duration": 159,
    "start_time": "2024-03-17T20:13:25.378Z"
   },
   {
    "duration": 143,
    "start_time": "2024-03-17T20:13:25.538Z"
   },
   {
    "duration": 152,
    "start_time": "2024-03-17T20:13:25.683Z"
   },
   {
    "duration": 172,
    "start_time": "2024-03-17T20:13:25.837Z"
   },
   {
    "duration": 176,
    "start_time": "2024-03-17T20:13:26.010Z"
   },
   {
    "duration": 179,
    "start_time": "2024-03-17T20:13:26.187Z"
   },
   {
    "duration": 149,
    "start_time": "2024-03-17T20:13:26.368Z"
   },
   {
    "duration": 30,
    "start_time": "2024-03-17T20:13:26.519Z"
   },
   {
    "duration": 16,
    "start_time": "2024-03-17T20:13:26.551Z"
   },
   {
    "duration": 17,
    "start_time": "2024-03-17T20:13:26.568Z"
   },
   {
    "duration": 187,
    "start_time": "2024-03-17T20:13:26.586Z"
   },
   {
    "duration": 160,
    "start_time": "2024-03-17T20:14:56.259Z"
   },
   {
    "duration": 3,
    "start_time": "2024-03-17T20:22:03.896Z"
   },
   {
    "duration": 4,
    "start_time": "2024-03-17T20:22:08.274Z"
   },
   {
    "duration": 601,
    "start_time": "2024-03-17T20:22:24.223Z"
   },
   {
    "duration": 89,
    "start_time": "2024-03-17T20:22:24.826Z"
   },
   {
    "duration": 12,
    "start_time": "2024-03-17T20:22:24.917Z"
   },
   {
    "duration": 28,
    "start_time": "2024-03-17T20:22:24.931Z"
   },
   {
    "duration": 1698,
    "start_time": "2024-03-17T20:22:24.960Z"
   },
   {
    "duration": 8,
    "start_time": "2024-03-17T20:22:26.660Z"
   },
   {
    "duration": 8,
    "start_time": "2024-03-17T20:22:26.670Z"
   },
   {
    "duration": 7,
    "start_time": "2024-03-17T20:22:26.679Z"
   },
   {
    "duration": 16,
    "start_time": "2024-03-17T20:22:26.687Z"
   },
   {
    "duration": 16,
    "start_time": "2024-03-17T20:22:26.704Z"
   },
   {
    "duration": 5,
    "start_time": "2024-03-17T20:22:26.721Z"
   },
   {
    "duration": 45,
    "start_time": "2024-03-17T20:22:26.727Z"
   },
   {
    "duration": 3,
    "start_time": "2024-03-17T20:22:26.774Z"
   },
   {
    "duration": 9,
    "start_time": "2024-03-17T20:22:26.779Z"
   },
   {
    "duration": 9,
    "start_time": "2024-03-17T20:22:26.789Z"
   },
   {
    "duration": 10,
    "start_time": "2024-03-17T20:22:26.799Z"
   },
   {
    "duration": 20,
    "start_time": "2024-03-17T20:22:26.810Z"
   },
   {
    "duration": 7,
    "start_time": "2024-03-17T20:22:26.832Z"
   },
   {
    "duration": 231,
    "start_time": "2024-03-17T20:22:26.841Z"
   },
   {
    "duration": 4,
    "start_time": "2024-03-17T20:22:27.073Z"
   },
   {
    "duration": 4,
    "start_time": "2024-03-17T20:22:27.079Z"
   },
   {
    "duration": 4,
    "start_time": "2024-03-17T20:22:27.084Z"
   },
   {
    "duration": 7,
    "start_time": "2024-03-17T20:22:27.089Z"
   },
   {
    "duration": 8,
    "start_time": "2024-03-17T20:22:27.097Z"
   },
   {
    "duration": 6,
    "start_time": "2024-03-17T20:22:27.107Z"
   },
   {
    "duration": 8,
    "start_time": "2024-03-17T20:22:27.114Z"
   },
   {
    "duration": 24,
    "start_time": "2024-03-17T20:22:27.123Z"
   },
   {
    "duration": 301,
    "start_time": "2024-03-17T20:22:27.148Z"
   },
   {
    "duration": 4,
    "start_time": "2024-03-17T20:22:27.451Z"
   },
   {
    "duration": 14,
    "start_time": "2024-03-17T20:22:27.456Z"
   },
   {
    "duration": 303,
    "start_time": "2024-03-17T20:22:27.472Z"
   },
   {
    "duration": 7,
    "start_time": "2024-03-17T20:22:27.777Z"
   },
   {
    "duration": 322,
    "start_time": "2024-03-17T20:22:27.786Z"
   },
   {
    "duration": 8,
    "start_time": "2024-03-17T20:22:28.109Z"
   },
   {
    "duration": 284,
    "start_time": "2024-03-17T20:22:28.118Z"
   },
   {
    "duration": 8,
    "start_time": "2024-03-17T20:22:28.403Z"
   },
   {
    "duration": 9,
    "start_time": "2024-03-17T20:22:28.412Z"
   },
   {
    "duration": 198,
    "start_time": "2024-03-17T20:22:28.422Z"
   },
   {
    "duration": 7,
    "start_time": "2024-03-17T20:22:28.622Z"
   },
   {
    "duration": 198,
    "start_time": "2024-03-17T20:22:28.630Z"
   },
   {
    "duration": 17,
    "start_time": "2024-03-17T20:22:28.831Z"
   },
   {
    "duration": 175,
    "start_time": "2024-03-17T20:22:28.849Z"
   },
   {
    "duration": 7,
    "start_time": "2024-03-17T20:22:29.026Z"
   },
   {
    "duration": 196,
    "start_time": "2024-03-17T20:22:29.034Z"
   },
   {
    "duration": 14,
    "start_time": "2024-03-17T20:22:29.231Z"
   },
   {
    "duration": 185,
    "start_time": "2024-03-17T20:22:29.247Z"
   },
   {
    "duration": 15,
    "start_time": "2024-03-17T20:22:29.433Z"
   },
   {
    "duration": 213,
    "start_time": "2024-03-17T20:22:29.450Z"
   },
   {
    "duration": 8,
    "start_time": "2024-03-17T20:22:29.664Z"
   },
   {
    "duration": 286,
    "start_time": "2024-03-17T20:22:29.674Z"
   },
   {
    "duration": 26,
    "start_time": "2024-03-17T20:22:29.962Z"
   },
   {
    "duration": 22,
    "start_time": "2024-03-17T20:22:29.989Z"
   },
   {
    "duration": 276,
    "start_time": "2024-03-17T20:22:30.013Z"
   },
   {
    "duration": 170,
    "start_time": "2024-03-17T20:22:30.290Z"
   },
   {
    "duration": 150,
    "start_time": "2024-03-17T20:22:30.461Z"
   },
   {
    "duration": 159,
    "start_time": "2024-03-17T20:22:30.613Z"
   },
   {
    "duration": 156,
    "start_time": "2024-03-17T20:22:30.773Z"
   },
   {
    "duration": 177,
    "start_time": "2024-03-17T20:22:30.931Z"
   },
   {
    "duration": 189,
    "start_time": "2024-03-17T20:22:31.110Z"
   },
   {
    "duration": 175,
    "start_time": "2024-03-17T20:22:31.301Z"
   },
   {
    "duration": 32,
    "start_time": "2024-03-17T20:22:31.478Z"
   },
   {
    "duration": 116,
    "start_time": "2024-03-17T20:22:31.512Z"
   },
   {
    "duration": 53,
    "start_time": "2024-03-17T20:22:31.629Z"
   },
   {
    "duration": 193,
    "start_time": "2024-03-17T20:22:31.684Z"
   }
  ],
  "colab": {
   "provenance": []
  },
  "kernelspec": {
   "display_name": "Python 3 (ipykernel)",
   "language": "python",
   "name": "python3"
  },
  "language_info": {
   "codemirror_mode": {
    "name": "ipython",
    "version": 3
   },
   "file_extension": ".py",
   "mimetype": "text/x-python",
   "name": "python",
   "nbconvert_exporter": "python",
   "pygments_lexer": "ipython3",
   "version": "3.9.5"
  },
  "toc": {
   "base_numbering": 1,
   "nav_menu": {},
   "number_sections": true,
   "sideBar": true,
   "skip_h1_title": true,
   "title_cell": "Table of Contents",
   "title_sidebar": "Contents",
   "toc_cell": false,
   "toc_position": {},
   "toc_section_display": true,
   "toc_window_display": false
  }
 },
 "nbformat": 4,
 "nbformat_minor": 1
}
