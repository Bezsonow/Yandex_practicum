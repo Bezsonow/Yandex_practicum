{
 "cells": [
  {
   "cell_type": "markdown",
   "metadata": {},
   "source": [
    "<div style=\"background:#e5e5e5; color:#000; padding:10px\">\n",
    "\n",
    "Привет еще раз!\\\n",
    "    Все замечания устранены, проект принят!\n",
    "    \n",
    "Желаю тебе успехов во всех будущих начинаниях! 🙂\n",
    "</div> "
   ]
  },
  {
   "cell_type": "markdown",
   "metadata": {},
   "source": [
    "<div style=\"border:solid black 2px; padding: 20px\">\n",
    "Кирилл, привет!\n",
    "\n",
    "Меня зовут Сергей, и я буду делать ревью твоего проекта. Давай будем общаться на «ты». Но если тебе комфортнее на «вы», обязательно сообщи мне об этом. Моя основная цель - не указать тебе на совершенные тобой ошибки, а поделиться своим опытом и помочь тебе стать аналитиком данных.\n",
    "    \n",
    "Свои комментарии я буду выделять следующим образом:\n",
    "<div class=\"alert alert-danger\">\n",
    "    \n",
    "  <b>Комментарий ревьюера</b>\n",
    "    \n",
    "  ❌ Так выделено то, что необходимо исправить, прежде чем я смогу принять твой проект.\n",
    "</div>\n",
    "    \n",
    "    \n",
    "<div class=\"alert alert-warning\">\n",
    "    \n",
    "  <b>Комментарий ревьюера</b>\n",
    "    \n",
    "  ⚠️ Так отмечены не обязательные к доработке моменты. Mожешь учесть их при редактировании проекта. На твое усмотрение.\n",
    "</div>\n",
    "    \n",
    "    \n",
    "<div class=\"alert alert-success\">\n",
    "  \n",
    "  <b>Комментарий ревьюера</b>\n",
    "    \n",
    "  ✔️ А так удачные решения и подходы, на которые стоит опираться в будущих проектах.\n",
    "</div>\n",
    "    \n",
    "    \n",
    "<div style=\"border:solid black 2px; padding: 20px\">\n",
    "  \n",
    "    \n",
    "  <b>Чек-лист доработок</b>\n",
    "    \n",
    "  📃 Такой комментарий будет в конце тетрадки. В нем будут еще раз указаны нюансы, требующие обязательного исправления.\n",
    "</div>\n",
    "\n",
    "Предлагаю работать над проектом в форме диалога: если ты <b>что-то меняешь</b> в работе по моим рекомендациям — <b>напиши об этом</b> в ячейке `Markdown` и помечай комментарий каким-то заметным цветом, например так:\n",
    "    \n",
    "    \n",
    "```\n",
    "<div class=\"alert alert-block alert-info\">\n",
    "  \n",
    "  <b>Комментарий cтудента</b>\n",
    "    \n",
    "  Текст комментария.\n",
    "</div>\n",
    "```\n",
    "    \n",
    "<div class=\"alert alert-block alert-info\">\n",
    "  \n",
    "  <b>Комментарий cтудента</b>\n",
    "    \n",
    "  Текст комментария.\n",
    "</div>\n",
    "    \n",
    "Пожалуйста, <b>не перемещай, не изменяй и не удаляй мои комментарии</b>. Такой формат работы поможет выполнить повторную проверку твоего проекта оперативнее.\n",
    "\n",
    "</div>"
   ]
  },
  {
   "cell_type": "markdown",
   "metadata": {},
   "source": [
    "<div style=\"border:solid Purple 2px; padding: 40px\" > \n",
    "  <b>   \n",
    "Название проекта : Приоритизация гипотез интернет магазина , проведение A/B-теста , анализ результатов.  </b>\n",
    "    \n",
    "<u><b> Описание проекта:</b></u>\n",
    "\n",
    "Вы — аналитик крупного интернет-магазина. Вместе с отделом маркетинга вы подготовили список гипотез для увеличения выручки.\n",
    "\n",
    "Приоритизируйте гипотезы, запустите A/B-тест и проанализируйте результаты.\n",
    "\n",
    "<b> Описание данных:</b>\n",
    "\n",
    "Данные для первой части\n",
    "    \n",
    "Файл /datasets/hypothesis.csv\n",
    "\n",
    "<li>Hypothesis — краткое описание гипотезы;</li>\n",
    "\n",
    "<li>Reach — охват пользователей по 10-балльной шкале;</li>\n",
    "\n",
    "<li>Impact — влияние на пользователей по 10-балльной шкале;</li>\n",
    "\n",
    "<li>Confidence — уверенность в гипотезе по 10-балльной шкале;</li>\n",
    "\n",
    "<li>Efforts — затраты ресурсов на проверку гипотезы по 10-балльной шкале.\n",
    "Чем больше значение Efforts, тем дороже проверка гипотезы.</li>\n",
    "\n",
    "Данные для второй части\n",
    "\n",
    "Файл /datasets/orders.csv. \n",
    "\n",
    "<li>transactionId — идентификатор заказа;</li>\n",
    "\n",
    "<li>visitorId — идентификатор пользователя, совершившего заказ;</li>\n",
    "\n",
    "<li>date — дата, когда был совершён заказ;</li>\n",
    "\n",
    "<li>revenue — выручка заказа;</li>\n",
    "\n",
    "<li>group — группа A/B-теста, в которую попал заказ.</li>\n",
    "\n",
    "Файл /datasets/visitors.csv. \n",
    "\n",
    "<li>date — дата;</li>\n",
    "\n",
    "<li>group — группа A/B-теста;</li>\n",
    "\n",
    "<li>visitors — количество пользователей в указанную дату в указанной группе A/B-теста</li>\n",
    "\n",
    "\n",
    "\n",
    "\n",
    "<u><b> Краткий план работы:</b></u>\n",
    "\n",
    "<ol> 1)Загрузка данных </ol>\n",
    "<ol> 2)Приоритизация гипотез. </ol>\n",
    "<ol> 3)Анализ A/B-теста </ol>    \n",
    "<ol> 4)Формирование выводов</ol>\n",
    "\n",
    "\n",
    "    \n",
    "</div>"
   ]
  },
  {
   "cell_type": "markdown",
   "metadata": {},
   "source": [
    "<div class=\"alert alert-success\">\n",
    "  \n",
    "  <b>Комментарий ревьюера</b>\n",
    "    \n",
    "  ✔️ Хорошо, что есть описание и цели проекта.\n",
    "</div>\n",
    "<div class=\"alert alert-warning\">\n",
    "    \n",
    "  <b>Комментарий ревьюера</b>\n",
    "    \n",
    "  ⚠️ Стоит добавить еще название проекта.\n",
    "</div>"
   ]
  },
  {
   "cell_type": "markdown",
   "metadata": {},
   "source": [
    "<div class=\"alert alert-block alert-info\">\n",
    "  \n",
    "  <b>Комментарий cтудента</b>\n",
    "    \n",
    "  Рекомендации выполнены\n",
    "</div>\n",
    "<div class=\"alert alert-success\">\n",
    "  \n",
    "  <b>Комментарий ревьюера v.2</b>\n",
    "    \n",
    "  ✔️ 👍\n",
    "</div>"
   ]
  },
  {
   "cell_type": "code",
   "execution_count": 1,
   "metadata": {},
   "outputs": [],
   "source": [
    "#подгружаем необходимые библиотеки\n",
    "import pandas as pd\n",
    "import matplotlib.pyplot as plt\n",
    "import scipy.stats as st\n",
    "import numpy as np"
   ]
  },
  {
   "cell_type": "code",
   "execution_count": 2,
   "metadata": {},
   "outputs": [],
   "source": [
    "pd.options.display.max_colwidth = 1000"
   ]
  },
  {
   "cell_type": "markdown",
   "metadata": {},
   "source": [
    "### Загрузка данных"
   ]
  },
  {
   "cell_type": "code",
   "execution_count": 3,
   "metadata": {},
   "outputs": [],
   "source": [
    "hypothesis = pd.read_csv('/datasets/hypothesis.csv')"
   ]
  },
  {
   "cell_type": "code",
   "execution_count": 4,
   "metadata": {},
   "outputs": [],
   "source": [
    "orders = pd.read_csv('/datasets/orders.csv',parse_dates=['date'])"
   ]
  },
  {
   "cell_type": "code",
   "execution_count": 5,
   "metadata": {},
   "outputs": [],
   "source": [
    "visitors = pd.read_csv('/datasets/visitors.csv',parse_dates=['date'])"
   ]
  },
  {
   "cell_type": "code",
   "execution_count": 6,
   "metadata": {},
   "outputs": [
    {
     "data": {
      "text/html": [
       "<div>\n",
       "<style scoped>\n",
       "    .dataframe tbody tr th:only-of-type {\n",
       "        vertical-align: middle;\n",
       "    }\n",
       "\n",
       "    .dataframe tbody tr th {\n",
       "        vertical-align: top;\n",
       "    }\n",
       "\n",
       "    .dataframe thead th {\n",
       "        text-align: right;\n",
       "    }\n",
       "</style>\n",
       "<table border=\"1\" class=\"dataframe\">\n",
       "  <thead>\n",
       "    <tr style=\"text-align: right;\">\n",
       "      <th></th>\n",
       "      <th>Hypothesis</th>\n",
       "      <th>Reach</th>\n",
       "      <th>Impact</th>\n",
       "      <th>Confidence</th>\n",
       "      <th>Efforts</th>\n",
       "    </tr>\n",
       "  </thead>\n",
       "  <tbody>\n",
       "    <tr>\n",
       "      <th>0</th>\n",
       "      <td>Добавить два новых канала привлечения трафика, что позволит привлекать на 30% больше пользователей</td>\n",
       "      <td>3</td>\n",
       "      <td>10</td>\n",
       "      <td>8</td>\n",
       "      <td>6</td>\n",
       "    </tr>\n",
       "    <tr>\n",
       "      <th>1</th>\n",
       "      <td>Запустить собственную службу доставки, что сократит срок доставки заказов</td>\n",
       "      <td>2</td>\n",
       "      <td>5</td>\n",
       "      <td>4</td>\n",
       "      <td>10</td>\n",
       "    </tr>\n",
       "    <tr>\n",
       "      <th>2</th>\n",
       "      <td>Добавить блоки рекомендаций товаров на сайт интернет магазина, чтобы повысить конверсию и средний чек заказа</td>\n",
       "      <td>8</td>\n",
       "      <td>3</td>\n",
       "      <td>7</td>\n",
       "      <td>3</td>\n",
       "    </tr>\n",
       "    <tr>\n",
       "      <th>3</th>\n",
       "      <td>Изменить структура категорий, что увеличит конверсию, т.к. пользователи быстрее найдут нужный товар</td>\n",
       "      <td>8</td>\n",
       "      <td>3</td>\n",
       "      <td>3</td>\n",
       "      <td>8</td>\n",
       "    </tr>\n",
       "    <tr>\n",
       "      <th>4</th>\n",
       "      <td>Изменить цвет фона главной страницы, чтобы увеличить вовлеченность пользователей</td>\n",
       "      <td>3</td>\n",
       "      <td>1</td>\n",
       "      <td>1</td>\n",
       "      <td>1</td>\n",
       "    </tr>\n",
       "    <tr>\n",
       "      <th>5</th>\n",
       "      <td>Добавить страницу отзывов клиентов о магазине, что позволит увеличить количество заказов</td>\n",
       "      <td>3</td>\n",
       "      <td>2</td>\n",
       "      <td>2</td>\n",
       "      <td>3</td>\n",
       "    </tr>\n",
       "    <tr>\n",
       "      <th>6</th>\n",
       "      <td>Показать на главной странице баннеры с актуальными акциями и распродажами, чтобы увеличить конверсию</td>\n",
       "      <td>5</td>\n",
       "      <td>3</td>\n",
       "      <td>8</td>\n",
       "      <td>3</td>\n",
       "    </tr>\n",
       "    <tr>\n",
       "      <th>7</th>\n",
       "      <td>Добавить форму подписки на все основные страницы, чтобы собрать базу клиентов для email-рассылок</td>\n",
       "      <td>10</td>\n",
       "      <td>7</td>\n",
       "      <td>8</td>\n",
       "      <td>5</td>\n",
       "    </tr>\n",
       "    <tr>\n",
       "      <th>8</th>\n",
       "      <td>Запустить акцию, дающую скидку на товар в день рождения</td>\n",
       "      <td>1</td>\n",
       "      <td>9</td>\n",
       "      <td>9</td>\n",
       "      <td>5</td>\n",
       "    </tr>\n",
       "  </tbody>\n",
       "</table>\n",
       "</div>"
      ],
      "text/plain": [
       "                                                                                                     Hypothesis  \\\n",
       "0            Добавить два новых канала привлечения трафика, что позволит привлекать на 30% больше пользователей   \n",
       "1                                     Запустить собственную службу доставки, что сократит срок доставки заказов   \n",
       "2  Добавить блоки рекомендаций товаров на сайт интернет магазина, чтобы повысить конверсию и средний чек заказа   \n",
       "3           Изменить структура категорий, что увеличит конверсию, т.к. пользователи быстрее найдут нужный товар   \n",
       "4                              Изменить цвет фона главной страницы, чтобы увеличить вовлеченность пользователей   \n",
       "5                      Добавить страницу отзывов клиентов о магазине, что позволит увеличить количество заказов   \n",
       "6          Показать на главной странице баннеры с актуальными акциями и распродажами, чтобы увеличить конверсию   \n",
       "7              Добавить форму подписки на все основные страницы, чтобы собрать базу клиентов для email-рассылок   \n",
       "8                                                       Запустить акцию, дающую скидку на товар в день рождения   \n",
       "\n",
       "   Reach  Impact  Confidence  Efforts  \n",
       "0      3      10           8        6  \n",
       "1      2       5           4       10  \n",
       "2      8       3           7        3  \n",
       "3      8       3           3        8  \n",
       "4      3       1           1        1  \n",
       "5      3       2           2        3  \n",
       "6      5       3           8        3  \n",
       "7     10       7           8        5  \n",
       "8      1       9           9        5  "
      ]
     },
     "execution_count": 6,
     "metadata": {},
     "output_type": "execute_result"
    }
   ],
   "source": [
    "hypothesis"
   ]
  },
  {
   "cell_type": "code",
   "execution_count": 7,
   "metadata": {},
   "outputs": [
    {
     "name": "stdout",
     "output_type": "stream",
     "text": [
      "<class 'pandas.core.frame.DataFrame'>\n",
      "RangeIndex: 9 entries, 0 to 8\n",
      "Data columns (total 5 columns):\n",
      " #   Column      Non-Null Count  Dtype \n",
      "---  ------      --------------  ----- \n",
      " 0   Hypothesis  9 non-null      object\n",
      " 1   Reach       9 non-null      int64 \n",
      " 2   Impact      9 non-null      int64 \n",
      " 3   Confidence  9 non-null      int64 \n",
      " 4   Efforts     9 non-null      int64 \n",
      "dtypes: int64(4), object(1)\n",
      "memory usage: 488.0+ bytes\n"
     ]
    }
   ],
   "source": [
    "hypothesis.info()"
   ]
  },
  {
   "cell_type": "code",
   "execution_count": 8,
   "metadata": {},
   "outputs": [
    {
     "data": {
      "text/html": [
       "<div>\n",
       "<style scoped>\n",
       "    .dataframe tbody tr th:only-of-type {\n",
       "        vertical-align: middle;\n",
       "    }\n",
       "\n",
       "    .dataframe tbody tr th {\n",
       "        vertical-align: top;\n",
       "    }\n",
       "\n",
       "    .dataframe thead th {\n",
       "        text-align: right;\n",
       "    }\n",
       "</style>\n",
       "<table border=\"1\" class=\"dataframe\">\n",
       "  <thead>\n",
       "    <tr style=\"text-align: right;\">\n",
       "      <th></th>\n",
       "      <th>transactionId</th>\n",
       "      <th>visitorId</th>\n",
       "      <th>date</th>\n",
       "      <th>revenue</th>\n",
       "      <th>group</th>\n",
       "    </tr>\n",
       "  </thead>\n",
       "  <tbody>\n",
       "    <tr>\n",
       "      <th>0</th>\n",
       "      <td>3667963787</td>\n",
       "      <td>3312258926</td>\n",
       "      <td>2019-08-15</td>\n",
       "      <td>1650</td>\n",
       "      <td>B</td>\n",
       "    </tr>\n",
       "    <tr>\n",
       "      <th>1</th>\n",
       "      <td>2804400009</td>\n",
       "      <td>3642806036</td>\n",
       "      <td>2019-08-15</td>\n",
       "      <td>730</td>\n",
       "      <td>B</td>\n",
       "    </tr>\n",
       "    <tr>\n",
       "      <th>2</th>\n",
       "      <td>2961555356</td>\n",
       "      <td>4069496402</td>\n",
       "      <td>2019-08-15</td>\n",
       "      <td>400</td>\n",
       "      <td>A</td>\n",
       "    </tr>\n",
       "    <tr>\n",
       "      <th>3</th>\n",
       "      <td>3797467345</td>\n",
       "      <td>1196621759</td>\n",
       "      <td>2019-08-15</td>\n",
       "      <td>9759</td>\n",
       "      <td>B</td>\n",
       "    </tr>\n",
       "    <tr>\n",
       "      <th>4</th>\n",
       "      <td>2282983706</td>\n",
       "      <td>2322279887</td>\n",
       "      <td>2019-08-15</td>\n",
       "      <td>2308</td>\n",
       "      <td>B</td>\n",
       "    </tr>\n",
       "  </tbody>\n",
       "</table>\n",
       "</div>"
      ],
      "text/plain": [
       "   transactionId   visitorId       date  revenue group\n",
       "0     3667963787  3312258926 2019-08-15     1650     B\n",
       "1     2804400009  3642806036 2019-08-15      730     B\n",
       "2     2961555356  4069496402 2019-08-15      400     A\n",
       "3     3797467345  1196621759 2019-08-15     9759     B\n",
       "4     2282983706  2322279887 2019-08-15     2308     B"
      ]
     },
     "execution_count": 8,
     "metadata": {},
     "output_type": "execute_result"
    }
   ],
   "source": [
    "orders.head()"
   ]
  },
  {
   "cell_type": "code",
   "execution_count": 9,
   "metadata": {},
   "outputs": [
    {
     "name": "stdout",
     "output_type": "stream",
     "text": [
      "<class 'pandas.core.frame.DataFrame'>\n",
      "RangeIndex: 1197 entries, 0 to 1196\n",
      "Data columns (total 5 columns):\n",
      " #   Column         Non-Null Count  Dtype         \n",
      "---  ------         --------------  -----         \n",
      " 0   transactionId  1197 non-null   int64         \n",
      " 1   visitorId      1197 non-null   int64         \n",
      " 2   date           1197 non-null   datetime64[ns]\n",
      " 3   revenue        1197 non-null   int64         \n",
      " 4   group          1197 non-null   object        \n",
      "dtypes: datetime64[ns](1), int64(3), object(1)\n",
      "memory usage: 46.9+ KB\n"
     ]
    }
   ],
   "source": [
    "orders.info()"
   ]
  },
  {
   "cell_type": "code",
   "execution_count": 10,
   "metadata": {},
   "outputs": [
    {
     "data": {
      "text/html": [
       "<div>\n",
       "<style scoped>\n",
       "    .dataframe tbody tr th:only-of-type {\n",
       "        vertical-align: middle;\n",
       "    }\n",
       "\n",
       "    .dataframe tbody tr th {\n",
       "        vertical-align: top;\n",
       "    }\n",
       "\n",
       "    .dataframe thead th {\n",
       "        text-align: right;\n",
       "    }\n",
       "</style>\n",
       "<table border=\"1\" class=\"dataframe\">\n",
       "  <thead>\n",
       "    <tr style=\"text-align: right;\">\n",
       "      <th></th>\n",
       "      <th>date</th>\n",
       "      <th>group</th>\n",
       "      <th>visitors</th>\n",
       "    </tr>\n",
       "  </thead>\n",
       "  <tbody>\n",
       "    <tr>\n",
       "      <th>0</th>\n",
       "      <td>2019-08-01</td>\n",
       "      <td>A</td>\n",
       "      <td>719</td>\n",
       "    </tr>\n",
       "    <tr>\n",
       "      <th>1</th>\n",
       "      <td>2019-08-02</td>\n",
       "      <td>A</td>\n",
       "      <td>619</td>\n",
       "    </tr>\n",
       "    <tr>\n",
       "      <th>2</th>\n",
       "      <td>2019-08-03</td>\n",
       "      <td>A</td>\n",
       "      <td>507</td>\n",
       "    </tr>\n",
       "    <tr>\n",
       "      <th>3</th>\n",
       "      <td>2019-08-04</td>\n",
       "      <td>A</td>\n",
       "      <td>717</td>\n",
       "    </tr>\n",
       "    <tr>\n",
       "      <th>4</th>\n",
       "      <td>2019-08-05</td>\n",
       "      <td>A</td>\n",
       "      <td>756</td>\n",
       "    </tr>\n",
       "  </tbody>\n",
       "</table>\n",
       "</div>"
      ],
      "text/plain": [
       "        date group  visitors\n",
       "0 2019-08-01     A       719\n",
       "1 2019-08-02     A       619\n",
       "2 2019-08-03     A       507\n",
       "3 2019-08-04     A       717\n",
       "4 2019-08-05     A       756"
      ]
     },
     "execution_count": 10,
     "metadata": {},
     "output_type": "execute_result"
    }
   ],
   "source": [
    "visitors.head(5)"
   ]
  },
  {
   "cell_type": "code",
   "execution_count": 11,
   "metadata": {},
   "outputs": [
    {
     "name": "stdout",
     "output_type": "stream",
     "text": [
      "<class 'pandas.core.frame.DataFrame'>\n",
      "RangeIndex: 62 entries, 0 to 61\n",
      "Data columns (total 3 columns):\n",
      " #   Column    Non-Null Count  Dtype         \n",
      "---  ------    --------------  -----         \n",
      " 0   date      62 non-null     datetime64[ns]\n",
      " 1   group     62 non-null     object        \n",
      " 2   visitors  62 non-null     int64         \n",
      "dtypes: datetime64[ns](1), int64(1), object(1)\n",
      "memory usage: 1.6+ KB\n"
     ]
    }
   ],
   "source": [
    "visitors.info()"
   ]
  },
  {
   "cell_type": "code",
   "execution_count": 12,
   "metadata": {},
   "outputs": [
    {
     "data": {
      "text/plain": [
       "transactionId    0\n",
       "visitorId        0\n",
       "date             0\n",
       "revenue          0\n",
       "group            0\n",
       "dtype: int64"
      ]
     },
     "metadata": {},
     "output_type": "display_data"
    },
    {
     "data": {
      "text/plain": [
       "date        0\n",
       "group       0\n",
       "visitors    0\n",
       "dtype: int64"
      ]
     },
     "metadata": {},
     "output_type": "display_data"
    }
   ],
   "source": [
    "#проверяем на наличие пропусков\n",
    "display(orders.isna().sum(),visitors.isna().sum())"
   ]
  },
  {
   "cell_type": "code",
   "execution_count": 13,
   "metadata": {},
   "outputs": [
    {
     "data": {
      "text/plain": [
       "0"
      ]
     },
     "metadata": {},
     "output_type": "display_data"
    },
    {
     "data": {
      "text/plain": [
       "0"
      ]
     },
     "metadata": {},
     "output_type": "display_data"
    }
   ],
   "source": [
    "#проверяем на наличие явных дубликатов\n",
    "display(orders.duplicated().sum(),visitors.duplicated().sum())"
   ]
  },
  {
   "cell_type": "code",
   "execution_count": 14,
   "metadata": {},
   "outputs": [
    {
     "data": {
      "text/html": [
       "<div>\n",
       "<style scoped>\n",
       "    .dataframe tbody tr th:only-of-type {\n",
       "        vertical-align: middle;\n",
       "    }\n",
       "\n",
       "    .dataframe tbody tr th {\n",
       "        vertical-align: top;\n",
       "    }\n",
       "\n",
       "    .dataframe thead th {\n",
       "        text-align: right;\n",
       "    }\n",
       "</style>\n",
       "<table border=\"1\" class=\"dataframe\">\n",
       "  <thead>\n",
       "    <tr style=\"text-align: right;\">\n",
       "      <th></th>\n",
       "      <th>hypothesis</th>\n",
       "      <th>reach</th>\n",
       "      <th>impact</th>\n",
       "      <th>confidence</th>\n",
       "      <th>efforts</th>\n",
       "    </tr>\n",
       "  </thead>\n",
       "  <tbody>\n",
       "    <tr>\n",
       "      <th>0</th>\n",
       "      <td>Добавить два новых канала привлечения трафика, что позволит привлекать на 30% больше пользователей</td>\n",
       "      <td>3</td>\n",
       "      <td>10</td>\n",
       "      <td>8</td>\n",
       "      <td>6</td>\n",
       "    </tr>\n",
       "    <tr>\n",
       "      <th>1</th>\n",
       "      <td>Запустить собственную службу доставки, что сократит срок доставки заказов</td>\n",
       "      <td>2</td>\n",
       "      <td>5</td>\n",
       "      <td>4</td>\n",
       "      <td>10</td>\n",
       "    </tr>\n",
       "    <tr>\n",
       "      <th>2</th>\n",
       "      <td>Добавить блоки рекомендаций товаров на сайт интернет магазина, чтобы повысить конверсию и средний чек заказа</td>\n",
       "      <td>8</td>\n",
       "      <td>3</td>\n",
       "      <td>7</td>\n",
       "      <td>3</td>\n",
       "    </tr>\n",
       "    <tr>\n",
       "      <th>3</th>\n",
       "      <td>Изменить структура категорий, что увеличит конверсию, т.к. пользователи быстрее найдут нужный товар</td>\n",
       "      <td>8</td>\n",
       "      <td>3</td>\n",
       "      <td>3</td>\n",
       "      <td>8</td>\n",
       "    </tr>\n",
       "    <tr>\n",
       "      <th>4</th>\n",
       "      <td>Изменить цвет фона главной страницы, чтобы увеличить вовлеченность пользователей</td>\n",
       "      <td>3</td>\n",
       "      <td>1</td>\n",
       "      <td>1</td>\n",
       "      <td>1</td>\n",
       "    </tr>\n",
       "  </tbody>\n",
       "</table>\n",
       "</div>"
      ],
      "text/plain": [
       "                                                                                                     hypothesis  \\\n",
       "0            Добавить два новых канала привлечения трафика, что позволит привлекать на 30% больше пользователей   \n",
       "1                                     Запустить собственную службу доставки, что сократит срок доставки заказов   \n",
       "2  Добавить блоки рекомендаций товаров на сайт интернет магазина, чтобы повысить конверсию и средний чек заказа   \n",
       "3           Изменить структура категорий, что увеличит конверсию, т.к. пользователи быстрее найдут нужный товар   \n",
       "4                              Изменить цвет фона главной страницы, чтобы увеличить вовлеченность пользователей   \n",
       "\n",
       "   reach  impact  confidence  efforts  \n",
       "0      3      10           8        6  \n",
       "1      2       5           4       10  \n",
       "2      8       3           7        3  \n",
       "3      8       3           3        8  \n",
       "4      3       1           1        1  "
      ]
     },
     "execution_count": 14,
     "metadata": {},
     "output_type": "execute_result"
    }
   ],
   "source": [
    "#приведем к змеиному синтаксису названия столбцов\n",
    "hypothesis.columns = hypothesis.columns.str.lower().str.replace(' ', '_')\n",
    "hypothesis.head()"
   ]
  },
  {
   "cell_type": "code",
   "execution_count": 15,
   "metadata": {},
   "outputs": [
    {
     "data": {
      "text/html": [
       "<div>\n",
       "<style scoped>\n",
       "    .dataframe tbody tr th:only-of-type {\n",
       "        vertical-align: middle;\n",
       "    }\n",
       "\n",
       "    .dataframe tbody tr th {\n",
       "        vertical-align: top;\n",
       "    }\n",
       "\n",
       "    .dataframe thead th {\n",
       "        text-align: right;\n",
       "    }\n",
       "</style>\n",
       "<table border=\"1\" class=\"dataframe\">\n",
       "  <thead>\n",
       "    <tr style=\"text-align: right;\">\n",
       "      <th></th>\n",
       "      <th>transaction_id</th>\n",
       "      <th>visitor_id</th>\n",
       "      <th>date</th>\n",
       "      <th>revenue</th>\n",
       "      <th>group</th>\n",
       "    </tr>\n",
       "  </thead>\n",
       "  <tbody>\n",
       "    <tr>\n",
       "      <th>0</th>\n",
       "      <td>3667963787</td>\n",
       "      <td>3312258926</td>\n",
       "      <td>2019-08-15</td>\n",
       "      <td>1650</td>\n",
       "      <td>B</td>\n",
       "    </tr>\n",
       "    <tr>\n",
       "      <th>1</th>\n",
       "      <td>2804400009</td>\n",
       "      <td>3642806036</td>\n",
       "      <td>2019-08-15</td>\n",
       "      <td>730</td>\n",
       "      <td>B</td>\n",
       "    </tr>\n",
       "    <tr>\n",
       "      <th>2</th>\n",
       "      <td>2961555356</td>\n",
       "      <td>4069496402</td>\n",
       "      <td>2019-08-15</td>\n",
       "      <td>400</td>\n",
       "      <td>A</td>\n",
       "    </tr>\n",
       "    <tr>\n",
       "      <th>3</th>\n",
       "      <td>3797467345</td>\n",
       "      <td>1196621759</td>\n",
       "      <td>2019-08-15</td>\n",
       "      <td>9759</td>\n",
       "      <td>B</td>\n",
       "    </tr>\n",
       "    <tr>\n",
       "      <th>4</th>\n",
       "      <td>2282983706</td>\n",
       "      <td>2322279887</td>\n",
       "      <td>2019-08-15</td>\n",
       "      <td>2308</td>\n",
       "      <td>B</td>\n",
       "    </tr>\n",
       "  </tbody>\n",
       "</table>\n",
       "</div>"
      ],
      "text/plain": [
       "   transaction_id  visitor_id       date  revenue group\n",
       "0      3667963787  3312258926 2019-08-15     1650     B\n",
       "1      2804400009  3642806036 2019-08-15      730     B\n",
       "2      2961555356  4069496402 2019-08-15      400     A\n",
       "3      3797467345  1196621759 2019-08-15     9759     B\n",
       "4      2282983706  2322279887 2019-08-15     2308     B"
      ]
     },
     "execution_count": 15,
     "metadata": {},
     "output_type": "execute_result"
    }
   ],
   "source": [
    "orders = orders.rename(columns={\"transactionId\": \"transaction_id\", \"visitorId\": \"visitor_id\"})\n",
    "orders.head()"
   ]
  },
  {
   "cell_type": "code",
   "execution_count": 16,
   "metadata": {},
   "outputs": [
    {
     "data": {
      "text/plain": [
       "array(['Добавить два новых канала привлечения трафика, что позволит привлекать на 30% больше пользователей',\n",
       "       'Запустить собственную службу доставки, что сократит срок доставки заказов',\n",
       "       'Добавить блоки рекомендаций товаров на сайт интернет магазина, чтобы повысить конверсию и средний чек заказа',\n",
       "       'Изменить структура категорий, что увеличит конверсию, т.к. пользователи быстрее найдут нужный товар',\n",
       "       'Изменить цвет фона главной страницы, чтобы увеличить вовлеченность пользователей',\n",
       "       'Добавить страницу отзывов клиентов о магазине, что позволит увеличить количество заказов',\n",
       "       'Показать на главной странице баннеры с актуальными акциями и распродажами, чтобы увеличить конверсию',\n",
       "       'Добавить форму подписки на все основные страницы, чтобы собрать базу клиентов для email-рассылок',\n",
       "       'Запустить акцию, дающую скидку на товар в день рождения'],\n",
       "      dtype=object)"
      ]
     },
     "execution_count": 16,
     "metadata": {},
     "output_type": "execute_result"
    }
   ],
   "source": [
    "hypothesis['hypothesis'].unique()"
   ]
  },
  {
   "cell_type": "code",
   "execution_count": 17,
   "metadata": {},
   "outputs": [],
   "source": [
    "hypothesis['hypothesis'] = hypothesis['hypothesis'].str.replace('структура','структуру')"
   ]
  },
  {
   "cell_type": "code",
   "execution_count": 18,
   "metadata": {},
   "outputs": [
    {
     "data": {
      "text/plain": [
       "array(['Добавить два новых канала привлечения трафика, что позволит привлекать на 30% больше пользователей',\n",
       "       'Запустить собственную службу доставки, что сократит срок доставки заказов',\n",
       "       'Добавить блоки рекомендаций товаров на сайт интернет магазина, чтобы повысить конверсию и средний чек заказа',\n",
       "       'Изменить структуру категорий, что увеличит конверсию, т.к. пользователи быстрее найдут нужный товар',\n",
       "       'Изменить цвет фона главной страницы, чтобы увеличить вовлеченность пользователей',\n",
       "       'Добавить страницу отзывов клиентов о магазине, что позволит увеличить количество заказов',\n",
       "       'Показать на главной странице баннеры с актуальными акциями и распродажами, чтобы увеличить конверсию',\n",
       "       'Добавить форму подписки на все основные страницы, чтобы собрать базу клиентов для email-рассылок',\n",
       "       'Запустить акцию, дающую скидку на товар в день рождения'],\n",
       "      dtype=object)"
      ]
     },
     "execution_count": 18,
     "metadata": {},
     "output_type": "execute_result"
    }
   ],
   "source": [
    "hypothesis['hypothesis'].unique()"
   ]
  },
  {
   "cell_type": "markdown",
   "metadata": {},
   "source": [
    "<div style=\"background-color:aliceblue;padding:25px;\"> Промежуточный вывод:\n",
    "    Данные загружены, выполнена небольшая предобратока в части изменения типа данных столбцов date,и приведению названия столбцов к змеиному синтаксису"
   ]
  },
  {
   "cell_type": "markdown",
   "metadata": {},
   "source": [
    "<div class=\"alert alert-success\">\n",
    "  \n",
    "  <b>Комментарий ревьюера</b>\n",
    "    \n",
    "  ✔️ Данные получены и подготовлены к анализу! \n",
    "</div>"
   ]
  },
  {
   "cell_type": "markdown",
   "metadata": {},
   "source": [
    "### Приоритизация гипотез."
   ]
  },
  {
   "cell_type": "markdown",
   "metadata": {},
   "source": [
    "В файле /datasets/hypothesis.csv 9 гипотез по увеличению выручки интернет-магазина с указанными параметрами Reach, Impact, Confidence, Effort.\n",
    "\n",
    "Задача\n",
    "\n",
    "Примените фреймворк ICE для приоритизации гипотез. Отсортируйте их по убыванию приоритета.\n",
    "\n",
    "Примените фреймворк RICE для приоритизации гипотез. Отсортируйте их по убыванию приоритета.\n",
    "\n",
    "Укажите, как изменилась приоритизация гипотез при применении RICE вместо ICE. Объясните, почему так произошло."
   ]
  },
  {
   "cell_type": "markdown",
   "metadata": {},
   "source": [
    " Фреймворк ICE расчитывается по следующей формуле:\n",
    " \n",
    " impact*confidence/efforts\n",
    " \n",
    " \n",
    " Фреймворк RICE расчитывается по следующей формуле:\n",
    " \n",
    " reach*impact*confidence/efforts"
   ]
  },
  {
   "cell_type": "code",
   "execution_count": 19,
   "metadata": {},
   "outputs": [
    {
     "data": {
      "text/html": [
       "<div>\n",
       "<style scoped>\n",
       "    .dataframe tbody tr th:only-of-type {\n",
       "        vertical-align: middle;\n",
       "    }\n",
       "\n",
       "    .dataframe tbody tr th {\n",
       "        vertical-align: top;\n",
       "    }\n",
       "\n",
       "    .dataframe thead th {\n",
       "        text-align: right;\n",
       "    }\n",
       "</style>\n",
       "<table border=\"1\" class=\"dataframe\">\n",
       "  <thead>\n",
       "    <tr style=\"text-align: right;\">\n",
       "      <th></th>\n",
       "      <th>hypothesis</th>\n",
       "      <th>reach</th>\n",
       "      <th>impact</th>\n",
       "      <th>confidence</th>\n",
       "      <th>efforts</th>\n",
       "    </tr>\n",
       "  </thead>\n",
       "  <tbody>\n",
       "    <tr>\n",
       "      <th>0</th>\n",
       "      <td>Добавить два новых канала привлечения трафика, что позволит привлекать на 30% больше пользователей</td>\n",
       "      <td>3</td>\n",
       "      <td>10</td>\n",
       "      <td>8</td>\n",
       "      <td>6</td>\n",
       "    </tr>\n",
       "    <tr>\n",
       "      <th>1</th>\n",
       "      <td>Запустить собственную службу доставки, что сократит срок доставки заказов</td>\n",
       "      <td>2</td>\n",
       "      <td>5</td>\n",
       "      <td>4</td>\n",
       "      <td>10</td>\n",
       "    </tr>\n",
       "    <tr>\n",
       "      <th>2</th>\n",
       "      <td>Добавить блоки рекомендаций товаров на сайт интернет магазина, чтобы повысить конверсию и средний чек заказа</td>\n",
       "      <td>8</td>\n",
       "      <td>3</td>\n",
       "      <td>7</td>\n",
       "      <td>3</td>\n",
       "    </tr>\n",
       "    <tr>\n",
       "      <th>3</th>\n",
       "      <td>Изменить структуру категорий, что увеличит конверсию, т.к. пользователи быстрее найдут нужный товар</td>\n",
       "      <td>8</td>\n",
       "      <td>3</td>\n",
       "      <td>3</td>\n",
       "      <td>8</td>\n",
       "    </tr>\n",
       "    <tr>\n",
       "      <th>4</th>\n",
       "      <td>Изменить цвет фона главной страницы, чтобы увеличить вовлеченность пользователей</td>\n",
       "      <td>3</td>\n",
       "      <td>1</td>\n",
       "      <td>1</td>\n",
       "      <td>1</td>\n",
       "    </tr>\n",
       "    <tr>\n",
       "      <th>5</th>\n",
       "      <td>Добавить страницу отзывов клиентов о магазине, что позволит увеличить количество заказов</td>\n",
       "      <td>3</td>\n",
       "      <td>2</td>\n",
       "      <td>2</td>\n",
       "      <td>3</td>\n",
       "    </tr>\n",
       "    <tr>\n",
       "      <th>6</th>\n",
       "      <td>Показать на главной странице баннеры с актуальными акциями и распродажами, чтобы увеличить конверсию</td>\n",
       "      <td>5</td>\n",
       "      <td>3</td>\n",
       "      <td>8</td>\n",
       "      <td>3</td>\n",
       "    </tr>\n",
       "    <tr>\n",
       "      <th>7</th>\n",
       "      <td>Добавить форму подписки на все основные страницы, чтобы собрать базу клиентов для email-рассылок</td>\n",
       "      <td>10</td>\n",
       "      <td>7</td>\n",
       "      <td>8</td>\n",
       "      <td>5</td>\n",
       "    </tr>\n",
       "    <tr>\n",
       "      <th>8</th>\n",
       "      <td>Запустить акцию, дающую скидку на товар в день рождения</td>\n",
       "      <td>1</td>\n",
       "      <td>9</td>\n",
       "      <td>9</td>\n",
       "      <td>5</td>\n",
       "    </tr>\n",
       "  </tbody>\n",
       "</table>\n",
       "</div>"
      ],
      "text/plain": [
       "                                                                                                     hypothesis  \\\n",
       "0            Добавить два новых канала привлечения трафика, что позволит привлекать на 30% больше пользователей   \n",
       "1                                     Запустить собственную службу доставки, что сократит срок доставки заказов   \n",
       "2  Добавить блоки рекомендаций товаров на сайт интернет магазина, чтобы повысить конверсию и средний чек заказа   \n",
       "3           Изменить структуру категорий, что увеличит конверсию, т.к. пользователи быстрее найдут нужный товар   \n",
       "4                              Изменить цвет фона главной страницы, чтобы увеличить вовлеченность пользователей   \n",
       "5                      Добавить страницу отзывов клиентов о магазине, что позволит увеличить количество заказов   \n",
       "6          Показать на главной странице баннеры с актуальными акциями и распродажами, чтобы увеличить конверсию   \n",
       "7              Добавить форму подписки на все основные страницы, чтобы собрать базу клиентов для email-рассылок   \n",
       "8                                                       Запустить акцию, дающую скидку на товар в день рождения   \n",
       "\n",
       "   reach  impact  confidence  efforts  \n",
       "0      3      10           8        6  \n",
       "1      2       5           4       10  \n",
       "2      8       3           7        3  \n",
       "3      8       3           3        8  \n",
       "4      3       1           1        1  \n",
       "5      3       2           2        3  \n",
       "6      5       3           8        3  \n",
       "7     10       7           8        5  \n",
       "8      1       9           9        5  "
      ]
     },
     "execution_count": 19,
     "metadata": {},
     "output_type": "execute_result"
    }
   ],
   "source": [
    "hypothesis"
   ]
  },
  {
   "cell_type": "markdown",
   "metadata": {},
   "source": [
    "ICE (от англ. impact, confidence, effort / ease «влияние, уверенность, усилия / простота»)"
   ]
  },
  {
   "cell_type": "code",
   "execution_count": 20,
   "metadata": {},
   "outputs": [
    {
     "data": {
      "text/html": [
       "<div>\n",
       "<style scoped>\n",
       "    .dataframe tbody tr th:only-of-type {\n",
       "        vertical-align: middle;\n",
       "    }\n",
       "\n",
       "    .dataframe tbody tr th {\n",
       "        vertical-align: top;\n",
       "    }\n",
       "\n",
       "    .dataframe thead th {\n",
       "        text-align: right;\n",
       "    }\n",
       "</style>\n",
       "<table border=\"1\" class=\"dataframe\">\n",
       "  <thead>\n",
       "    <tr style=\"text-align: right;\">\n",
       "      <th></th>\n",
       "      <th>hypothesis</th>\n",
       "      <th>reach</th>\n",
       "      <th>impact</th>\n",
       "      <th>confidence</th>\n",
       "      <th>efforts</th>\n",
       "      <th>ICE</th>\n",
       "    </tr>\n",
       "  </thead>\n",
       "  <tbody>\n",
       "    <tr>\n",
       "      <th>0</th>\n",
       "      <td>Запустить акцию, дающую скидку на товар в день рождения</td>\n",
       "      <td>1</td>\n",
       "      <td>9</td>\n",
       "      <td>9</td>\n",
       "      <td>5</td>\n",
       "      <td>16.200</td>\n",
       "    </tr>\n",
       "    <tr>\n",
       "      <th>1</th>\n",
       "      <td>Добавить два новых канала привлечения трафика, что позволит привлекать на 30% больше пользователей</td>\n",
       "      <td>3</td>\n",
       "      <td>10</td>\n",
       "      <td>8</td>\n",
       "      <td>6</td>\n",
       "      <td>13.333</td>\n",
       "    </tr>\n",
       "    <tr>\n",
       "      <th>2</th>\n",
       "      <td>Добавить форму подписки на все основные страницы, чтобы собрать базу клиентов для email-рассылок</td>\n",
       "      <td>10</td>\n",
       "      <td>7</td>\n",
       "      <td>8</td>\n",
       "      <td>5</td>\n",
       "      <td>11.200</td>\n",
       "    </tr>\n",
       "    <tr>\n",
       "      <th>3</th>\n",
       "      <td>Показать на главной странице баннеры с актуальными акциями и распродажами, чтобы увеличить конверсию</td>\n",
       "      <td>5</td>\n",
       "      <td>3</td>\n",
       "      <td>8</td>\n",
       "      <td>3</td>\n",
       "      <td>8.000</td>\n",
       "    </tr>\n",
       "    <tr>\n",
       "      <th>4</th>\n",
       "      <td>Добавить блоки рекомендаций товаров на сайт интернет магазина, чтобы повысить конверсию и средний чек заказа</td>\n",
       "      <td>8</td>\n",
       "      <td>3</td>\n",
       "      <td>7</td>\n",
       "      <td>3</td>\n",
       "      <td>7.000</td>\n",
       "    </tr>\n",
       "    <tr>\n",
       "      <th>5</th>\n",
       "      <td>Запустить собственную службу доставки, что сократит срок доставки заказов</td>\n",
       "      <td>2</td>\n",
       "      <td>5</td>\n",
       "      <td>4</td>\n",
       "      <td>10</td>\n",
       "      <td>2.000</td>\n",
       "    </tr>\n",
       "    <tr>\n",
       "      <th>6</th>\n",
       "      <td>Добавить страницу отзывов клиентов о магазине, что позволит увеличить количество заказов</td>\n",
       "      <td>3</td>\n",
       "      <td>2</td>\n",
       "      <td>2</td>\n",
       "      <td>3</td>\n",
       "      <td>1.333</td>\n",
       "    </tr>\n",
       "    <tr>\n",
       "      <th>7</th>\n",
       "      <td>Изменить структуру категорий, что увеличит конверсию, т.к. пользователи быстрее найдут нужный товар</td>\n",
       "      <td>8</td>\n",
       "      <td>3</td>\n",
       "      <td>3</td>\n",
       "      <td>8</td>\n",
       "      <td>1.125</td>\n",
       "    </tr>\n",
       "    <tr>\n",
       "      <th>8</th>\n",
       "      <td>Изменить цвет фона главной страницы, чтобы увеличить вовлеченность пользователей</td>\n",
       "      <td>3</td>\n",
       "      <td>1</td>\n",
       "      <td>1</td>\n",
       "      <td>1</td>\n",
       "      <td>1.000</td>\n",
       "    </tr>\n",
       "  </tbody>\n",
       "</table>\n",
       "</div>"
      ],
      "text/plain": [
       "                                                                                                     hypothesis  \\\n",
       "0                                                       Запустить акцию, дающую скидку на товар в день рождения   \n",
       "1            Добавить два новых канала привлечения трафика, что позволит привлекать на 30% больше пользователей   \n",
       "2              Добавить форму подписки на все основные страницы, чтобы собрать базу клиентов для email-рассылок   \n",
       "3          Показать на главной странице баннеры с актуальными акциями и распродажами, чтобы увеличить конверсию   \n",
       "4  Добавить блоки рекомендаций товаров на сайт интернет магазина, чтобы повысить конверсию и средний чек заказа   \n",
       "5                                     Запустить собственную службу доставки, что сократит срок доставки заказов   \n",
       "6                      Добавить страницу отзывов клиентов о магазине, что позволит увеличить количество заказов   \n",
       "7           Изменить структуру категорий, что увеличит конверсию, т.к. пользователи быстрее найдут нужный товар   \n",
       "8                              Изменить цвет фона главной страницы, чтобы увеличить вовлеченность пользователей   \n",
       "\n",
       "   reach  impact  confidence  efforts     ICE  \n",
       "0      1       9           9        5  16.200  \n",
       "1      3      10           8        6  13.333  \n",
       "2     10       7           8        5  11.200  \n",
       "3      5       3           8        3   8.000  \n",
       "4      8       3           7        3   7.000  \n",
       "5      2       5           4       10   2.000  \n",
       "6      3       2           2        3   1.333  \n",
       "7      8       3           3        8   1.125  \n",
       "8      3       1           1        1   1.000  "
      ]
     },
     "execution_count": 20,
     "metadata": {},
     "output_type": "execute_result"
    }
   ],
   "source": [
    "# применяем ICE\n",
    "hypothesis['ICE'] = round(hypothesis['impact']*hypothesis['confidence']/hypothesis['efforts'],3)\n",
    "ice_frame_hypothesis=hypothesis.sort_values(by='ICE' , ascending = False)\n",
    "ice_frame_hypothesis.reset_index(drop=True, inplace=True)\n",
    "ice_frame_hypothesis"
   ]
  },
  {
   "cell_type": "markdown",
   "metadata": {},
   "source": [
    "    \n",
    "<div class=\"alert alert-warning\">\n",
    "    \n",
    "  <b>Комментарий ревьюера</b>\n",
    "    \n",
    "  ⚠️ Гипотезы имеют длинные названия, чтобы они полностью отображались  можно установить параметр функции display(): pd.options.display.max_colwidth = число_символов (например, 400).\n",
    "    \n",
    "Или использовать <a href=\"https://pandas.pydata.org/pandas-docs/stable/user_guide/options.html\">опции pandas</a>\n",
    "    \n",
    "  ⚠️ В начале лучше написать небольшой комментарий о том, как рассчитываются гипотезы.\n",
    "\n",
    "</div>"
   ]
  },
  {
   "cell_type": "markdown",
   "metadata": {},
   "source": [
    "<div class=\"alert alert-block alert-info\">\n",
    "  \n",
    "  <b>Комментарий cтудента</b>\n",
    "    \n",
    "  Рекомендации выполнены\n",
    "</div>\n",
    "<div class=\"alert alert-success\">\n",
    "  \n",
    "  <b>Комментарий ревьюера v.2</b>\n",
    "    \n",
    "  ✔️ Теперь названия гипотез полностью видны! \n",
    "</div>"
   ]
  },
  {
   "cell_type": "code",
   "execution_count": 21,
   "metadata": {},
   "outputs": [
    {
     "data": {
      "text/html": [
       "<div>\n",
       "<style scoped>\n",
       "    .dataframe tbody tr th:only-of-type {\n",
       "        vertical-align: middle;\n",
       "    }\n",
       "\n",
       "    .dataframe tbody tr th {\n",
       "        vertical-align: top;\n",
       "    }\n",
       "\n",
       "    .dataframe thead th {\n",
       "        text-align: right;\n",
       "    }\n",
       "</style>\n",
       "<table border=\"1\" class=\"dataframe\">\n",
       "  <thead>\n",
       "    <tr style=\"text-align: right;\">\n",
       "      <th></th>\n",
       "      <th>hypothesis</th>\n",
       "      <th>reach</th>\n",
       "      <th>impact</th>\n",
       "      <th>confidence</th>\n",
       "      <th>efforts</th>\n",
       "      <th>ICE</th>\n",
       "      <th>RICE</th>\n",
       "    </tr>\n",
       "  </thead>\n",
       "  <tbody>\n",
       "    <tr>\n",
       "      <th>0</th>\n",
       "      <td>Добавить форму подписки на все основные страницы, чтобы собрать базу клиентов для email-рассылок</td>\n",
       "      <td>10</td>\n",
       "      <td>7</td>\n",
       "      <td>8</td>\n",
       "      <td>5</td>\n",
       "      <td>11.200</td>\n",
       "      <td>112.0</td>\n",
       "    </tr>\n",
       "    <tr>\n",
       "      <th>1</th>\n",
       "      <td>Добавить блоки рекомендаций товаров на сайт интернет магазина, чтобы повысить конверсию и средний чек заказа</td>\n",
       "      <td>8</td>\n",
       "      <td>3</td>\n",
       "      <td>7</td>\n",
       "      <td>3</td>\n",
       "      <td>7.000</td>\n",
       "      <td>56.0</td>\n",
       "    </tr>\n",
       "    <tr>\n",
       "      <th>2</th>\n",
       "      <td>Добавить два новых канала привлечения трафика, что позволит привлекать на 30% больше пользователей</td>\n",
       "      <td>3</td>\n",
       "      <td>10</td>\n",
       "      <td>8</td>\n",
       "      <td>6</td>\n",
       "      <td>13.333</td>\n",
       "      <td>40.0</td>\n",
       "    </tr>\n",
       "    <tr>\n",
       "      <th>3</th>\n",
       "      <td>Показать на главной странице баннеры с актуальными акциями и распродажами, чтобы увеличить конверсию</td>\n",
       "      <td>5</td>\n",
       "      <td>3</td>\n",
       "      <td>8</td>\n",
       "      <td>3</td>\n",
       "      <td>8.000</td>\n",
       "      <td>40.0</td>\n",
       "    </tr>\n",
       "    <tr>\n",
       "      <th>4</th>\n",
       "      <td>Запустить акцию, дающую скидку на товар в день рождения</td>\n",
       "      <td>1</td>\n",
       "      <td>9</td>\n",
       "      <td>9</td>\n",
       "      <td>5</td>\n",
       "      <td>16.200</td>\n",
       "      <td>16.2</td>\n",
       "    </tr>\n",
       "    <tr>\n",
       "      <th>5</th>\n",
       "      <td>Изменить структуру категорий, что увеличит конверсию, т.к. пользователи быстрее найдут нужный товар</td>\n",
       "      <td>8</td>\n",
       "      <td>3</td>\n",
       "      <td>3</td>\n",
       "      <td>8</td>\n",
       "      <td>1.125</td>\n",
       "      <td>9.0</td>\n",
       "    </tr>\n",
       "    <tr>\n",
       "      <th>6</th>\n",
       "      <td>Запустить собственную службу доставки, что сократит срок доставки заказов</td>\n",
       "      <td>2</td>\n",
       "      <td>5</td>\n",
       "      <td>4</td>\n",
       "      <td>10</td>\n",
       "      <td>2.000</td>\n",
       "      <td>4.0</td>\n",
       "    </tr>\n",
       "    <tr>\n",
       "      <th>7</th>\n",
       "      <td>Добавить страницу отзывов клиентов о магазине, что позволит увеличить количество заказов</td>\n",
       "      <td>3</td>\n",
       "      <td>2</td>\n",
       "      <td>2</td>\n",
       "      <td>3</td>\n",
       "      <td>1.333</td>\n",
       "      <td>4.0</td>\n",
       "    </tr>\n",
       "    <tr>\n",
       "      <th>8</th>\n",
       "      <td>Изменить цвет фона главной страницы, чтобы увеличить вовлеченность пользователей</td>\n",
       "      <td>3</td>\n",
       "      <td>1</td>\n",
       "      <td>1</td>\n",
       "      <td>1</td>\n",
       "      <td>1.000</td>\n",
       "      <td>3.0</td>\n",
       "    </tr>\n",
       "  </tbody>\n",
       "</table>\n",
       "</div>"
      ],
      "text/plain": [
       "                                                                                                     hypothesis  \\\n",
       "0              Добавить форму подписки на все основные страницы, чтобы собрать базу клиентов для email-рассылок   \n",
       "1  Добавить блоки рекомендаций товаров на сайт интернет магазина, чтобы повысить конверсию и средний чек заказа   \n",
       "2            Добавить два новых канала привлечения трафика, что позволит привлекать на 30% больше пользователей   \n",
       "3          Показать на главной странице баннеры с актуальными акциями и распродажами, чтобы увеличить конверсию   \n",
       "4                                                       Запустить акцию, дающую скидку на товар в день рождения   \n",
       "5           Изменить структуру категорий, что увеличит конверсию, т.к. пользователи быстрее найдут нужный товар   \n",
       "6                                     Запустить собственную службу доставки, что сократит срок доставки заказов   \n",
       "7                      Добавить страницу отзывов клиентов о магазине, что позволит увеличить количество заказов   \n",
       "8                              Изменить цвет фона главной страницы, чтобы увеличить вовлеченность пользователей   \n",
       "\n",
       "   reach  impact  confidence  efforts     ICE   RICE  \n",
       "0     10       7           8        5  11.200  112.0  \n",
       "1      8       3           7        3   7.000   56.0  \n",
       "2      3      10           8        6  13.333   40.0  \n",
       "3      5       3           8        3   8.000   40.0  \n",
       "4      1       9           9        5  16.200   16.2  \n",
       "5      8       3           3        8   1.125    9.0  \n",
       "6      2       5           4       10   2.000    4.0  \n",
       "7      3       2           2        3   1.333    4.0  \n",
       "8      3       1           1        1   1.000    3.0  "
      ]
     },
     "execution_count": 21,
     "metadata": {},
     "output_type": "execute_result"
    }
   ],
   "source": [
    "#Применяем RICE\n",
    "hypothesis['RICE'] = round(hypothesis['reach']*hypothesis['impact']*hypothesis['confidence']/hypothesis['efforts'],3)\n",
    "rice_frame_hypothesis=hypothesis.sort_values(by='RICE' , ascending = False)\n",
    "rice_frame_hypothesis.reset_index(drop=True, inplace=True)\n",
    "rice_frame_hypothesis"
   ]
  },
  {
   "cell_type": "markdown",
   "metadata": {},
   "source": [
    "<div style=\"background-color:aliceblue;padding:25px;\"> Промежуточный вывод:\n",
    "    Применены фреймворки ICE,RICE для приоритезации гипотез.\n",
    "    После применения RICE приоритезация гипотез изменилась. Прямое воздействие на изменения приоритезации при применении RICE оказывает Reach - охват пользователей,которых затронет изменение.\n",
    "    Наиболее предпочтительная гипотеза по результатам применения фреймворков:Добавить форму подписки на все основные страницы, чтобы собрать базу клиентов для email-рассылок\n",
    "    "
   ]
  },
  {
   "cell_type": "markdown",
   "metadata": {},
   "source": [
    "<div class=\"alert alert-success\">\n",
    "  \n",
    "  <b>Комментарий ревьюера</b>\n",
    "    \n",
    "  ✔️ Хорошая работа, корректно применены фреймворки и проанализированы полученные результаты. \n",
    "        \n",
    "    \n",
    "Результаты в единой таблице, для наглядности, можно было бы проранжировать и выделить цветом: https://pandas.pydata.org/pandas-docs/stable/user_guide/style.html\n",
    "\n",
    "А в качестве визуализации изменения приоритетов можно использовать: <a href=\"https://datayoga.ru/tpost/zh3s62fori-sloupgraf\">slope graph</a>, <a href=\"https://cduvallet.github.io/posts/2018/03/slopegraphs-in-python\">slope graph 2</a>, <a href=\"https://chart-studio.plotly.com/~pcchang/224/slopegraph-spending-and-academic-performance-by-states-doc/#/\">реализация на plotly</a>\n",
    "   \n",
    "</div>"
   ]
  },
  {
   "cell_type": "markdown",
   "metadata": {},
   "source": [
    "### Анализ A/B-теста"
   ]
  },
  {
   "cell_type": "markdown",
   "metadata": {},
   "source": [
    "Постройте график кумулятивной выручки по группам. Сделайте выводы и предположения.\n",
    "\n",
    "Постройте график кумулятивного среднего чека по группам. Сделайте выводы и предположения.\n",
    "\n",
    "Постройте график относительного изменения кумулятивного среднего чека группы B к группе A. Сделайте выводы и предположения.\n",
    "\n",
    "Постройте график кумулятивного среднего количества заказов на посетителя по группам. Сделайте выводы и предположения.\n",
    "\n",
    "Постройте график относительного изменения кумулятивного среднего количества заказов на посетителя группы B к группе A. Сделайте выводы и предположения.\n",
    "\n",
    "Постройте точечный график количества заказов по пользователям. Сделайте выводы и предположения.\n",
    "\n",
    "Посчитайте 95-й и 99-й перцентили количества заказов на пользователя. Выберите границу для определения аномальных пользователей.\n",
    "\n",
    "Постройте точечный график стоимостей заказов. Сделайте выводы и предположения.\n",
    "\n",
    "Посчитайте 95-й и 99-й перцентили стоимости заказов. Выберите границу для определения аномальных заказов.\n",
    "\n",
    "Посчитайте статистическую значимость различий в среднем количестве заказов на посетителя между группами по «сырым» данным. Сделайте выводы и предположения.\n",
    "\n",
    "Посчитайте статистическую значимость различий в среднем чеке заказа между группами по «сырым» данным. Сделайте выводы и предположения.\n",
    "\n",
    "Посчитайте статистическую значимость различий в среднем количестве заказов на посетителя между группами по «очищенным» данным. Сделайте выводы и предположения.\n",
    "\n",
    "Посчитайте статистическую значимость различий в среднем чеке заказа между группами по «очищенным» данным. Сделайте выводы и предположения.\n",
    "\n",
    "Примите решение по результатам теста и объясните его. Варианты решений: 1. Остановить тест, зафиксировать победу одной из групп. 2. Остановить тест, зафиксировать отсутствие различий между группами. 3. Продолжить тест.\n",
    "\n"
   ]
  },
  {
   "cell_type": "markdown",
   "metadata": {},
   "source": [
    "<div class=\"alert alert-danger\">\n",
    "    \n",
    "  <b>Комментарий ревьюера</b>\n",
    "\n",
    "  ❌ Еще остается не выполненным на этапе предобработки, но тем не менее важным - проверить корректность разбиения пользователей на группы - может быть есть пользователи, попавшие в обе группы? Если таковые пользователи есть, нужно их выявить и выработать стратегию работы с такими данными. Пересечение групп сильно влияет на результаты теста, если процент достаточно большой. Если есть возможность их можно удалить и посмотреть, какие результаты получаются без них, в любом случае к результатам теста придется относится осторожно.\n",
    "</div>\n"
   ]
  },
  {
   "cell_type": "code",
   "execution_count": 22,
   "metadata": {},
   "outputs": [
    {
     "data": {
      "text/html": [
       "<div>\n",
       "<style scoped>\n",
       "    .dataframe tbody tr th:only-of-type {\n",
       "        vertical-align: middle;\n",
       "    }\n",
       "\n",
       "    .dataframe tbody tr th {\n",
       "        vertical-align: top;\n",
       "    }\n",
       "\n",
       "    .dataframe thead th {\n",
       "        text-align: right;\n",
       "    }\n",
       "</style>\n",
       "<table border=\"1\" class=\"dataframe\">\n",
       "  <thead>\n",
       "    <tr style=\"text-align: right;\">\n",
       "      <th></th>\n",
       "      <th>transaction_id</th>\n",
       "      <th>visitor_id</th>\n",
       "      <th>date</th>\n",
       "      <th>revenue</th>\n",
       "      <th>group</th>\n",
       "    </tr>\n",
       "  </thead>\n",
       "  <tbody>\n",
       "    <tr>\n",
       "      <th>0</th>\n",
       "      <td>3667963787</td>\n",
       "      <td>3312258926</td>\n",
       "      <td>2019-08-15</td>\n",
       "      <td>1650</td>\n",
       "      <td>B</td>\n",
       "    </tr>\n",
       "    <tr>\n",
       "      <th>1</th>\n",
       "      <td>2804400009</td>\n",
       "      <td>3642806036</td>\n",
       "      <td>2019-08-15</td>\n",
       "      <td>730</td>\n",
       "      <td>B</td>\n",
       "    </tr>\n",
       "    <tr>\n",
       "      <th>2</th>\n",
       "      <td>2961555356</td>\n",
       "      <td>4069496402</td>\n",
       "      <td>2019-08-15</td>\n",
       "      <td>400</td>\n",
       "      <td>A</td>\n",
       "    </tr>\n",
       "    <tr>\n",
       "      <th>3</th>\n",
       "      <td>3797467345</td>\n",
       "      <td>1196621759</td>\n",
       "      <td>2019-08-15</td>\n",
       "      <td>9759</td>\n",
       "      <td>B</td>\n",
       "    </tr>\n",
       "    <tr>\n",
       "      <th>4</th>\n",
       "      <td>2282983706</td>\n",
       "      <td>2322279887</td>\n",
       "      <td>2019-08-15</td>\n",
       "      <td>2308</td>\n",
       "      <td>B</td>\n",
       "    </tr>\n",
       "  </tbody>\n",
       "</table>\n",
       "</div>"
      ],
      "text/plain": [
       "   transaction_id  visitor_id       date  revenue group\n",
       "0      3667963787  3312258926 2019-08-15     1650     B\n",
       "1      2804400009  3642806036 2019-08-15      730     B\n",
       "2      2961555356  4069496402 2019-08-15      400     A\n",
       "3      3797467345  1196621759 2019-08-15     9759     B\n",
       "4      2282983706  2322279887 2019-08-15     2308     B"
      ]
     },
     "execution_count": 22,
     "metadata": {},
     "output_type": "execute_result"
    }
   ],
   "source": [
    "orders.head()"
   ]
  },
  {
   "cell_type": "code",
   "execution_count": 23,
   "metadata": {},
   "outputs": [
    {
     "data": {
      "text/plain": [
       "group    58\n",
       "dtype: int64"
      ]
     },
     "execution_count": 23,
     "metadata": {},
     "output_type": "execute_result"
    }
   ],
   "source": [
    "#проверяем сколько пользователей попали в обе группы\n",
    "orders.groupby('visitor_id').agg({'group' : 'nunique'}).query('group>1').count()"
   ]
  },
  {
   "cell_type": "code",
   "execution_count": 24,
   "metadata": {},
   "outputs": [],
   "source": [
    "#создаем список пользователей с уникальными visitor_id:\n",
    "double_users = orders.groupby('visitor_id').agg({'group' : 'nunique'}) \\\n",
    ".reset_index().query('group>1')['visitor_id'].unique()"
   ]
  },
  {
   "cell_type": "code",
   "execution_count": 25,
   "metadata": {},
   "outputs": [],
   "source": [
    "#удаляем этих пользователей из таблицы orders\n",
    "orders = orders.query('visitor_id not in @double_users')"
   ]
  },
  {
   "cell_type": "markdown",
   "metadata": {},
   "source": [
    "<div class=\"alert alert-block alert-info\">\n",
    "  \n",
    "  <b>Комментарий cтудента</b>\n",
    "    \n",
    "Замечание устранено\n",
    "</div>\n",
    "<div class=\"alert alert-success\">\n",
    "  \n",
    "  <b>Комментарий ревьюера v.2</b>\n",
    "    \n",
    "  ✔️ Хорошо, результаты теста они больше не искажают. \n",
    "</div>"
   ]
  },
  {
   "cell_type": "code",
   "execution_count": 26,
   "metadata": {},
   "outputs": [
    {
     "name": "stdout",
     "output_type": "stream",
     "text": [
      "        date group  orders  buyers  revenue  visitors\n",
      "0 2019-08-01     A      23      19   142779       719\n",
      "1 2019-08-01     B      17      17    59758       713\n",
      "2 2019-08-02     A      42      36   234381      1338\n",
      "3 2019-08-02     B      40      39   221801      1294\n",
      "4 2019-08-03     A      66      60   346854      1845\n"
     ]
    }
   ],
   "source": [
    "# создаем массив уникальных пар значений дат и групп теста\n",
    "datesGroups = orders[['date','group']].drop_duplicates()\n",
    "\n",
    "# получаем агрегированные кумулятивные по дням данные о заказах \n",
    "ordersAggregated = datesGroups.apply(lambda x: orders[np.logical_and(orders['date'] <= x['date'], \\\n",
    "                                                                     orders['group'] == x['group'])]. \\\n",
    "                                     agg({'date' : 'max', 'group' : 'max', 'transaction_id' : 'nunique', 'visitor_id' : 'nunique', 'revenue' : 'sum'}), axis=1) \\\n",
    ".sort_values(by=['date','group'])\n",
    "\n",
    "# получаем агрегированные кумулятивные по дням данные о посетителях интернет-магазина \n",
    "visitorsAggregated = datesGroups.apply(lambda x: visitors[np.logical_and(visitors['date'] <= x['date'], visitors['group'] == x['group'])]. \\\n",
    "                                       agg({'date' : 'max', 'group' : 'max', 'visitors' : 'sum'}), axis=1).sort_values(by=['date','group'])\n",
    "\n",
    "# объединяем кумулятивные данные в одной таблице и присваиваем ее столбцам понятные названия\n",
    "cumulativeData = ordersAggregated.merge(visitorsAggregated, left_on=['date', 'group'], right_on=['date', 'group'])\n",
    "cumulativeData.columns = ['date', 'group', 'orders', 'buyers', 'revenue', 'visitors']\n",
    "\n",
    "print(cumulativeData.head(5)) "
   ]
  },
  {
   "cell_type": "code",
   "execution_count": 27,
   "metadata": {},
   "outputs": [
    {
     "data": {
      "image/png": "[encoded data removed]",
      "text/plain": [
       "<Figure size 936x720 with 1 Axes>"
      ]
     },
     "metadata": {
      "needs_background": "light"
     },
     "output_type": "display_data"
    }
   ],
   "source": [
    "# датафрейм с кумулятивным количеством заказов и кумулятивной выручкой по дням в группе А\n",
    "cumulativeRevenueA = cumulativeData[cumulativeData['group']=='A'][['date','revenue', 'orders']]\n",
    "\n",
    "# датафрейм с кумулятивным количеством заказов и кумулятивной выручкой по дням в группе B\n",
    "cumulativeRevenueB = cumulativeData[cumulativeData['group']=='B'][['date','revenue', 'orders']]\n",
    "\n",
    "plt.figure(figsize=(13,10))\n",
    "# Строим график выручки группы А\n",
    "plt.plot(cumulativeRevenueA['date'], cumulativeRevenueA['revenue'], label='A')\n",
    "\n",
    "# Строим график выручки группы B\n",
    "plt.plot(cumulativeRevenueB['date'], cumulativeRevenueB['revenue'], label='B')\n",
    "plt.title('График кумулятивной выручки по группам')\n",
    "plt.xlabel('Дата')\n",
    "plt.ylabel('Выручка')\n",
    "plt.legend()\n",
    "plt.show()"
   ]
  },
  {
   "cell_type": "markdown",
   "metadata": {},
   "source": [
    "<div style=\"background-color:aliceblue;padding:25px;\"> Промежуточный вывод:\n",
    "Выручка почти равномерно увеличивается в течение всего теста.\n",
    "Однако график выручки группы В в период с 2019-08-18 по 2019-08-19 резко растет. Это может сигнализировать о всплесках числа заказов, либо о появлении очень дорогих заказов в выборке. "
   ]
  },
  {
   "cell_type": "markdown",
   "metadata": {},
   "source": [
    "<div class=\"alert alert-success\">\n",
    "  \n",
    "  <b>Комментарий ревьюера</b>\n",
    "    \n",
    "  ✔️ График построен верно и можем зафиксировать аномалию в группе В.\n",
    "</div>\n",
    "<div class=\"alert alert-warning\">\n",
    "    \n",
    "  <b>Комментарий ревьюера</b>\n",
    "    \n",
    "  ⚠️ Чтобы при построении графика не выскакивали технические надписи вроде: `<matplotlib.legend.Legend at 0x7fb0715a2a90>` добавляй в конце вывода `plt.show()`. \n",
    "\n",
    "</div>"
   ]
  },
  {
   "cell_type": "markdown",
   "metadata": {},
   "source": [
    "<div class=\"alert alert-block alert-info\">\n",
    "  \n",
    "  <b>Комментарий cтудента</b>\n",
    "    \n",
    "Рекомендации выполнены\n",
    "</div>\n",
    "<div class=\"alert alert-success\">\n",
    "  \n",
    "  <b>Комментарий ревьюера v.2</b>\n",
    "    \n",
    "  ✔️ 👌\n",
    "</div>"
   ]
  },
  {
   "cell_type": "code",
   "execution_count": 28,
   "metadata": {},
   "outputs": [
    {
     "data": {
      "image/png": "[encoded data removed]",
      "text/plain": [
       "<Figure size 936x720 with 1 Axes>"
      ]
     },
     "metadata": {
      "needs_background": "light"
     },
     "output_type": "display_data"
    }
   ],
   "source": [
    "plt.figure(figsize=(13,10))\n",
    "plt.plot(cumulativeRevenueA['date'], cumulativeRevenueA['revenue']/cumulativeRevenueA['orders'], label='A')\n",
    "plt.plot(cumulativeRevenueB['date'], cumulativeRevenueB['revenue']/cumulativeRevenueB['orders'], label='B')\n",
    "plt.title('График кумулятивного среднего чека по группам')\n",
    "plt.xlabel('Дата')\n",
    "plt.ylabel('Сумма среднего чека')\n",
    "plt.legend()\n",
    "plt.show()"
   ]
  },
  {
   "cell_type": "markdown",
   "metadata": {},
   "source": [
    "<div style=\"background-color:aliceblue;padding:25px;\"> Промежуточный вывод:\n",
    "Средний чек продолжает падать для группы В и продолжает возрастать для группы А. Возможно, в группу А во второй половине теста попали крупные заказы (резкий всплеск на графике с 2019-08-18). Тогда ей нужно больше данных, чтобы прийти к реальному среднему чеку и установиться на его уровне."
   ]
  },
  {
   "cell_type": "markdown",
   "metadata": {},
   "source": [
    "<div class=\"alert alert-success\">\n",
    "  \n",
    "  <b>Комментарий ревьюера</b>\n",
    "    \n",
    "  ✔️ Тут так-же группа В выделяется.\n",
    "</div>"
   ]
  },
  {
   "cell_type": "code",
   "execution_count": 29,
   "metadata": {},
   "outputs": [
    {
     "data": {
      "image/png": "[encoded data removed]",
      "text/plain": [
       "<Figure size 936x720 with 1 Axes>"
      ]
     },
     "metadata": {
      "needs_background": "light"
     },
     "output_type": "display_data"
    }
   ],
   "source": [
    "plt.figure(figsize=(13,10))\n",
    "# собираем данные в одном датафрейме\n",
    "mergedCumulativeRevenue = cumulativeRevenueA.merge(cumulativeRevenueB, left_on='date', right_on='date', how='left', suffixes=['A', 'B'])\n",
    "\n",
    "# cтроим отношение средних чеков\n",
    "plt.plot(mergedCumulativeRevenue['date'], (mergedCumulativeRevenue['revenueB']/mergedCumulativeRevenue['ordersB'])/(mergedCumulativeRevenue['revenueA']/mergedCumulativeRevenue['ordersA'])-1)\n",
    "\n",
    "# добавляем ось X\n",
    "plt.axhline(y=0, color='black', linestyle='--') \n",
    "plt.title('График относительного изменения кумулятивного среднего чека группы B к группе A')\n",
    "plt.xlabel('Дата')\n",
    "plt.ylabel('отношение')\n",
    "plt.show()"
   ]
  },
  {
   "cell_type": "markdown",
   "metadata": {},
   "source": [
    "<div style=\"background-color:aliceblue;padding:25px;\"> Промежуточный вывод: В нескольких точках графика имеются значимые различия между сегментами."
   ]
  },
  {
   "cell_type": "markdown",
   "metadata": {},
   "source": [
    "<div class=\"alert alert-success\">\n",
    "  \n",
    "  <b>Комментарий ревьюера</b>\n",
    "    \n",
    "  ✔️ Похоже на крупные заказы.\n",
    "</div>"
   ]
  },
  {
   "cell_type": "code",
   "execution_count": 30,
   "metadata": {},
   "outputs": [
    {
     "data": {
      "image/png": "[encoded data removed]",
      "text/plain": [
       "<Figure size 936x720 with 1 Axes>"
      ]
     },
     "metadata": {
      "needs_background": "light"
     },
     "output_type": "display_data"
    }
   ],
   "source": [
    "# считаем среднее количество заказов на посетителя\n",
    "cumulativeData['conversion'] = cumulativeData['orders']/cumulativeData['visitors']\n",
    "\n",
    "# отделяем данные по группе A\n",
    "cumulativeDataA = cumulativeData[cumulativeData['group']=='A']\n",
    "\n",
    "# отделяем данные по группе B\n",
    "cumulativeDataB = cumulativeData[cumulativeData['group']=='B']\n",
    "# строим графики\n",
    "plt.figure(figsize=(13,10))\n",
    "plt.plot(cumulativeDataA['date'], cumulativeDataA['conversion'], label='A')\n",
    "plt.plot(cumulativeDataB['date'], cumulativeDataB['conversion'], label='B')\n",
    "# зададим описание графика\n",
    "plt.legend(['Группа А', 'Группа B']) \n",
    "# задаем масштаб осей\n",
    "plt.xlabel('Дата')\n",
    "plt.ylabel('Конверсия') \n",
    "plt.title('Кумулятивная конверсии по группам')\n",
    "plt.show()  "
   ]
  },
  {
   "cell_type": "markdown",
   "metadata": {},
   "source": [
    "<div style=\"background-color:aliceblue;padding:25px;\"> Промежуточный вывод:\n",
    "На графике видим, что в первые дни конверсия у группы А была выше, чем у В, но спустя 6 дней со времени запуска теста, это поменялось:\n",
    "\n",
    "для А конверсия держалась на уровне от 0.029 до 0.031,\n",
    "для B от 0.034 до 0.036\n",
    "Предварительно гипотеза подтверждается, с новововведениями на сайте - конверсия растёт"
   ]
  },
  {
   "cell_type": "markdown",
   "metadata": {},
   "source": [
    "<div class=\"alert alert-success\">\n",
    "  \n",
    "  <b>Комментарий ревьюера</b>\n",
    "    \n",
    "  ✔️ Согласен, группа В в лидерах.\n",
    "</div>\n",
    "\n",
    "<div class=\"alert alert-warning\">\n",
    "    \n",
    "  <b>Комментарий ревьюера</b>\n",
    "    \n",
    "  ⚠️ Только у нас тут и далее количество заказов.\n",
    "</div>"
   ]
  },
  {
   "cell_type": "code",
   "execution_count": 31,
   "metadata": {},
   "outputs": [
    {
     "data": {
      "image/png": "[encoded data removed]",
      "text/plain": [
       "<Figure size 936x720 with 1 Axes>"
      ]
     },
     "metadata": {
      "needs_background": "light"
     },
     "output_type": "display_data"
    }
   ],
   "source": [
    "mergedCumulativeConversions = cumulativeDataA[['date','conversion']].merge(cumulativeDataB[['date','conversion']], left_on='date', right_on='date', how='left', suffixes=['A', 'B'])\n",
    "plt.figure(figsize=(13,10))\n",
    "plt.plot(mergedCumulativeConversions['date'], mergedCumulativeConversions['conversionB']/mergedCumulativeConversions['conversionA']-1, label=\"Относительный прирост кумулятивного среднего количества заказов на посетителя группы B относительно группы A\")\n",
    "plt.legend()\n",
    "\n",
    "plt.axhline(y=0, color='black', linestyle='--')\n",
    "plt.axhline(y=0.2, color='grey', linestyle='--')\n",
    "# зададим описание графика \n",
    "plt.ylabel('Конверсия') \n",
    "plt.xlabel('Дата') \n",
    "plt.title('Относительный прирост конверсии группы B относительно группы A') \n",
    "plt.show()\n"
   ]
  },
  {
   "cell_type": "markdown",
   "metadata": {},
   "source": [
    "<div style=\"background-color:aliceblue;padding:25px;\"> Промежуточный вывод:\n",
    "На графике видим, что в начале теста, конверсия показывала не стабильные результаты, сначала резко поднимаясь, а потом опускалась, но на 6й день теста, получили стабильный прирост, который привысил 20% и установился в пределах от 10 до 15 % к концу периода"
   ]
  },
  {
   "cell_type": "markdown",
   "metadata": {},
   "source": [
    "<div class=\"alert alert-success\">\n",
    "  \n",
    "  <b>Комментарий ревьюера</b>\n",
    "    \n",
    "  ✔️ Да, группа В выше, а еще в последней трети эксперимента наблюдается стабилизация результатов.\n",
    "</div>\n"
   ]
  },
  {
   "cell_type": "code",
   "execution_count": 32,
   "metadata": {},
   "outputs": [],
   "source": [
    "ordersByUsers = (\n",
    "    orders.groupby('visitor_id', as_index=False).agg({'transaction_id':'nunique'})\n",
    ")"
   ]
  },
  {
   "cell_type": "code",
   "execution_count": 33,
   "metadata": {},
   "outputs": [
    {
     "data": {
      "image/png": "[encoded data removed]",
      "text/plain": [
       "<Figure size 864x576 with 1 Axes>"
      ]
     },
     "metadata": {
      "needs_background": "light"
     },
     "output_type": "display_data"
    }
   ],
   "source": [
    "# серия из чисел от 0 до количества наблюдений в orders_count \n",
    "x_values = pd.Series(range(0, len(ordersByUsers)))\n",
    "# зададим размеры графика  \n",
    "plt.figure(figsize=(12,8)) \n",
    "#построим график \n",
    "plt.scatter(x_values, ordersByUsers['transaction_id'])  \n",
    "# зададим описание графика \n",
    "plt.ylabel('Кол-во заказов') \n",
    "plt.xlabel('Кол-во пользователей') \n",
    "plt.title('Распределение по кол-ву сделанных заказов') \n",
    "plt.show() "
   ]
  },
  {
   "cell_type": "markdown",
   "metadata": {},
   "source": [
    "<div style=\"background-color:aliceblue;padding:25px;\"> Промежуточный вывод:\n",
    "Больше всего пользователей сделавших 1 заказ, реже от 2х до 3 х заказов"
   ]
  },
  {
   "cell_type": "code",
   "execution_count": 34,
   "metadata": {},
   "outputs": [
    {
     "name": "stdout",
     "output_type": "stream",
     "text": [
      "[1. 2.]\n"
     ]
    }
   ],
   "source": [
    "print(np.percentile(ordersByUsers['transaction_id'], [95, 99])) "
   ]
  },
  {
   "cell_type": "markdown",
   "metadata": {},
   "source": [
    "<div style=\"background-color:aliceblue;padding:25px;\"> Промежуточный вывод:\n",
    "\n",
    "не более 5 % совершили больше 1-го заказа\n",
    "не более 1 % совершили больше 2-ух заказов\n",
    "Устанавливаем границу по колличеству заказов на пользователя в 2 шт."
   ]
  },
  {
   "cell_type": "markdown",
   "metadata": {},
   "source": [
    "<div class=\"alert alert-warning\">\n",
    "    \n",
    "  <b>Комментарий ревьюера</b>\n",
    "    \n",
    "  ⚠️ Перцентали выбраны верно. Но скорее всего, после обнаружения пользователей, которые вошли в обе группы (что не совсем верно) границы выбросов изменятся. Еще раз перепроверь свое решение после дополнения части с предобработкой.\n",
    "</div>"
   ]
  },
  {
   "cell_type": "markdown",
   "metadata": {},
   "source": [
    "<div class=\"alert alert-block alert-info\">\n",
    "  \n",
    "  <b>Комментарий cтудента</b>\n",
    "    \n",
    "Рекомендации выполнены.  Граница по количеству заказов изменена\n",
    "</div>\n",
    "<div class=\"alert alert-success\">\n",
    "  \n",
    "  <b>Комментарий ревьюера v.2</b>\n",
    "    \n",
    "  ✔️ Количество заказов сократилось заметно, а вот чек не сильно уменьшился.\n",
    "</div>"
   ]
  },
  {
   "cell_type": "code",
   "execution_count": 35,
   "metadata": {},
   "outputs": [
    {
     "data": {
      "image/png": "[encoded data removed]",
      "text/plain": [
       "<Figure size 936x720 with 1 Axes>"
      ]
     },
     "metadata": {
      "needs_background": "light"
     },
     "output_type": "display_data"
    }
   ],
   "source": [
    "x_values = pd.Series(range(0,len(orders['revenue'])))\n",
    "plt.figure(figsize=(13,10))\n",
    "plt.scatter(x_values, orders['revenue'])\n",
    "plt.ylabel('Сумма') \n",
    "plt.xlabel('Кол-во пользователей') \n",
    "plt.title('Распределение по сумме заказов') \n",
    "plt.show() "
   ]
  },
  {
   "cell_type": "markdown",
   "metadata": {},
   "source": [
    "<div style=\"background-color:aliceblue;padding:25px;\"> Промежуточный вывод:\n",
    "Заказы на 200 тысяч и миллинон - очевидно будут сильно выбиваться. Зададим лимит в 100 000, что бы подробнее изучить распредление наиболее частых заказов:"
   ]
  },
  {
   "cell_type": "code",
   "execution_count": 36,
   "metadata": {},
   "outputs": [
    {
     "data": {
      "image/png": "[encoded data removed]",
      "text/plain": [
       "<Figure size 936x720 with 1 Axes>"
      ]
     },
     "metadata": {
      "needs_background": "light"
     },
     "output_type": "display_data"
    }
   ],
   "source": [
    "x_values = pd.Series(range(0,len(orders['revenue'])))\n",
    "plt.figure(figsize=(13,10))\n",
    "plt.ylim(0, 100000) \n",
    "plt.scatter(x_values, orders['revenue'])\n",
    "plt.ylabel('Сумма') \n",
    "plt.xlabel('Кол-во пользователей') \n",
    "plt.title('Распределение по сумме заказов') \n",
    "plt.show() "
   ]
  },
  {
   "cell_type": "markdown",
   "metadata": {},
   "source": [
    "<div style=\"background-color:aliceblue;padding:25px;\"> Промежуточный вывод:\n",
    "    Основные значения лежат в пределах до приблизтельно 20000,"
   ]
  },
  {
   "cell_type": "code",
   "execution_count": 37,
   "metadata": {},
   "outputs": [
    {
     "name": "stdout",
     "output_type": "stream",
     "text": [
      "[26785. 53904.]\n"
     ]
    }
   ],
   "source": [
    "print(np.percentile(orders['revenue'], [95, 99])) "
   ]
  },
  {
   "cell_type": "markdown",
   "metadata": {},
   "source": [
    "<div style=\"background-color:aliceblue;padding:25px;\"> Промежуточный вывод:\n",
    "Не более 5% заказов дороже 26785 рублей.\n",
    "И только 1% заказов дороже 53904 рублей.\n",
    "Выбираем 30000 за нижнюю границу стоимости заказов, и отсеивать аномальных пользователей будем по ней."
   ]
  },
  {
   "cell_type": "markdown",
   "metadata": {},
   "source": [
    "<div class=\"alert alert-warning\">\n",
    "    \n",
    "  <b>Комментарий ревьюера</b>\n",
    "    \n",
    "  ⚠️ Здесь тоже границы выбросов должны скорректироваться.\n",
    "</div>"
   ]
  },
  {
   "cell_type": "markdown",
   "metadata": {},
   "source": [
    "<div class=\"alert alert-block alert-info\">\n",
    "  \n",
    "  <b>Комментарий cтудента</b>\n",
    "    \n",
    "Рекомендации выполнены.  Границы выбросов изменены, но нижняя граница выбраная ранее осталась без изменения\n",
    "</div>"
   ]
  },
  {
   "cell_type": "code",
   "execution_count": 38,
   "metadata": {},
   "outputs": [
    {
     "data": {
      "text/html": [
       "<div>\n",
       "<style scoped>\n",
       "    .dataframe tbody tr th:only-of-type {\n",
       "        vertical-align: middle;\n",
       "    }\n",
       "\n",
       "    .dataframe tbody tr th {\n",
       "        vertical-align: top;\n",
       "    }\n",
       "\n",
       "    .dataframe thead th {\n",
       "        text-align: right;\n",
       "    }\n",
       "</style>\n",
       "<table border=\"1\" class=\"dataframe\">\n",
       "  <thead>\n",
       "    <tr style=\"text-align: right;\">\n",
       "      <th></th>\n",
       "      <th>visitors_id</th>\n",
       "      <th>orders</th>\n",
       "    </tr>\n",
       "  </thead>\n",
       "  <tbody>\n",
       "    <tr>\n",
       "      <th>0</th>\n",
       "      <td>11685486</td>\n",
       "      <td>1</td>\n",
       "    </tr>\n",
       "    <tr>\n",
       "      <th>1</th>\n",
       "      <td>54447517</td>\n",
       "      <td>1</td>\n",
       "    </tr>\n",
       "    <tr>\n",
       "      <th>2</th>\n",
       "      <td>66685450</td>\n",
       "      <td>1</td>\n",
       "    </tr>\n",
       "    <tr>\n",
       "      <th>3</th>\n",
       "      <td>78758296</td>\n",
       "      <td>1</td>\n",
       "    </tr>\n",
       "    <tr>\n",
       "      <th>4</th>\n",
       "      <td>85103373</td>\n",
       "      <td>1</td>\n",
       "    </tr>\n",
       "  </tbody>\n",
       "</table>\n",
       "</div>"
      ],
      "text/plain": [
       "   visitors_id  orders\n",
       "0     11685486       1\n",
       "1     54447517       1\n",
       "2     66685450       1\n",
       "3     78758296       1\n",
       "4     85103373       1"
      ]
     },
     "metadata": {},
     "output_type": "display_data"
    },
    {
     "data": {
      "text/html": [
       "<div>\n",
       "<style scoped>\n",
       "    .dataframe tbody tr th:only-of-type {\n",
       "        vertical-align: middle;\n",
       "    }\n",
       "\n",
       "    .dataframe tbody tr th {\n",
       "        vertical-align: top;\n",
       "    }\n",
       "\n",
       "    .dataframe thead th {\n",
       "        text-align: right;\n",
       "    }\n",
       "</style>\n",
       "<table border=\"1\" class=\"dataframe\">\n",
       "  <thead>\n",
       "    <tr style=\"text-align: right;\">\n",
       "      <th></th>\n",
       "      <th>visitors_id</th>\n",
       "      <th>orders</th>\n",
       "    </tr>\n",
       "  </thead>\n",
       "  <tbody>\n",
       "    <tr>\n",
       "      <th>0</th>\n",
       "      <td>5114589</td>\n",
       "      <td>1</td>\n",
       "    </tr>\n",
       "    <tr>\n",
       "      <th>1</th>\n",
       "      <td>6958315</td>\n",
       "      <td>1</td>\n",
       "    </tr>\n",
       "    <tr>\n",
       "      <th>2</th>\n",
       "      <td>39475350</td>\n",
       "      <td>1</td>\n",
       "    </tr>\n",
       "    <tr>\n",
       "      <th>3</th>\n",
       "      <td>47206413</td>\n",
       "      <td>1</td>\n",
       "    </tr>\n",
       "    <tr>\n",
       "      <th>4</th>\n",
       "      <td>48147722</td>\n",
       "      <td>1</td>\n",
       "    </tr>\n",
       "  </tbody>\n",
       "</table>\n",
       "</div>"
      ],
      "text/plain": [
       "   visitors_id  orders\n",
       "0      5114589       1\n",
       "1      6958315       1\n",
       "2     39475350       1\n",
       "3     47206413       1\n",
       "4     48147722       1"
      ]
     },
     "metadata": {},
     "output_type": "display_data"
    }
   ],
   "source": [
    "# таблицы с данными по заказам на каждого пользователя\n",
    "orders_by_users_a = orders[orders['group']=='A'].groupby('visitor_id')['transaction_id'].nunique().reset_index()\n",
    "orders_by_users_a.columns=['visitors_id','orders']\n",
    "\n",
    "orders_by_users_b = orders[orders['group']=='B'].groupby('visitor_id')['transaction_id'].nunique().reset_index()\n",
    "orders_by_users_b.columns=['visitors_id','orders'] \n",
    "\n",
    "display(orders_by_users_a.head()) \n",
    "display(orders_by_users_b.head())  "
   ]
  },
  {
   "cell_type": "code",
   "execution_count": 39,
   "metadata": {},
   "outputs": [],
   "source": [
    "sample_a = pd.concat(\n",
    "    [\n",
    "        orders_by_users_a['orders'],\n",
    "        pd.Series(0, \n",
    "                  index=np.arange\n",
    "                  (visitors[visitors['group']=='A']['visitors'].sum() - len(orders_by_users_a['orders'])\n",
    "                  ),\n",
    "                  name='orders'\n",
    "                 )\n",
    "    ],\n",
    "    axis=0)\n",
    "sample_b = pd.concat(\n",
    "    [\n",
    "        orders_by_users_b['orders'],\n",
    "        pd.Series\n",
    "        (0,\n",
    "         index=np.arange(\n",
    "             visitors[visitors['group']=='B']['visitors'].sum() - len(orders_by_users_b['orders'])\n",
    "         ),\n",
    "         name='orders'\n",
    "        )\n",
    "    ],\n",
    "    axis=0)"
   ]
  },
  {
   "cell_type": "markdown",
   "metadata": {},
   "source": [
    "H0: Различий в конверсии между группами нет\n",
    "\n",
    "H1: Различия в конверсиях между группами есть\n",
    "\n",
    "Коэффициент альфа: 0.05"
   ]
  },
  {
   "cell_type": "markdown",
   "metadata": {},
   "source": [
    "<div class=\"alert alert-success\">\n",
    "  \n",
    "  <b>Комментарий ревьюера</b>\n",
    "    \n",
    "  ✔️ Нулевая и альтернативная гипотезы сформулированы.\n",
    "\n",
    "Сами гипотезы обычно обозначают так:\n",
    "- H0 - Нет  различий ....\n",
    "- H1 - Есть различия ....\n",
    "    \n",
    "</div>"
   ]
  },
  {
   "cell_type": "code",
   "execution_count": 40,
   "metadata": {},
   "outputs": [
    {
     "name": "stdout",
     "output_type": "stream",
     "text": [
      "Значение p-value : 0.011018084110014696\n",
      "Отвергаем нулевую гипотезу\n",
      "Средняя конверсия группы А: 2.5%\n",
      "Средняя конверсия группы B: 2.9%\n",
      "Отношение конверсии В к А: 0.160\n"
     ]
    }
   ],
   "source": [
    "result_1 = st.mannwhitneyu(sample_a, sample_b)[1] \n",
    "#задаим значение aplha\n",
    "alpha = 0.05\n",
    "#введем значение p-value\n",
    "print(f'Значение p-value : {result_1}')\n",
    "# условный оператор с выводом строки с ответом\n",
    "if result_1 < alpha:\n",
    "    print(\"Отвергаем нулевую гипотезу\")\n",
    "else:\n",
    "    print(\"Не получилось отвергнуть нулевую гипотезу\")  \n",
    "print('Средняя конверсия группы А: {:.1%}'.format(sample_a.mean()))\n",
    "print('Средняя конверсия группы B: {:.1%}'.format(sample_b.mean()))  \n",
    "print('Отношение конверсии В к А: {0:.3f}'.format(sample_b.mean()/sample_a.mean()-1))   "
   ]
  },
  {
   "cell_type": "markdown",
   "metadata": {},
   "source": [
    "<div style=\"background-color:aliceblue;padding:25px;\"> Промежуточный вывод:\n",
    "P-value меньше заданного значения alpha - отвергаем нулевую гипотезу, следовательно верно утвеждение о том, что различия в конверсиях есть.\n",
    "\n",
    "Отношений конверсий группы А к В 0.160, что можно интропритировать как относительный прирост в 16%, что является не плохим результатом, на следующих этапах посмотрим какое значения будут иметь данные без аномалий"
   ]
  },
  {
   "cell_type": "markdown",
   "metadata": {},
   "source": [
    "<div class=\"alert alert-success\">\n",
    "  \n",
    "  <b>Комментарий ревьюера</b>\n",
    "    \n",
    "  ✔️ Верно выбран сам тест и верно проинтерпретированы  его результаты! \n",
    "\n",
    "</div>"
   ]
  },
  {
   "cell_type": "markdown",
   "metadata": {},
   "source": [
    "H0: Различий в средних чеках между группами нет\n",
    "\n",
    "H1: Различия в средних чеках между группами есть\n",
    "\n",
    "Коэффициент альфа: 0.05"
   ]
  },
  {
   "cell_type": "code",
   "execution_count": 41,
   "metadata": {},
   "outputs": [
    {
     "name": "stdout",
     "output_type": "stream",
     "text": [
      "Значение p-value : 0.8294908998149533\n",
      "Не получилось отвергнуть нулевую гипотезу\n",
      "Средний чек группы А: 7189.44\n",
      "Средний чек группы B: 9249.95\n",
      "Прирост в среднем чеке группы B: 0.287:\n"
     ]
    }
   ],
   "source": [
    "result_2 = st.mannwhitneyu(orders[orders['group']=='A']['revenue'], orders[orders['group']=='B']['revenue'])[1]  \n",
    "#введем значение p-value\n",
    "print(f'Значение p-value : {result_2}')\n",
    "# условный оператор с выводом строки с ответом\n",
    "if result_2 < alpha:\n",
    "    print(\"Отвергаем нулевую гипотезу\")\n",
    "else:\n",
    "    print(\"Не получилось отвергнуть нулевую гипотезу\")  \n",
    "#выведем основные показатели\n",
    "print('Средний чек группы А: {:.2f}'.format(orders[orders['group']=='A']['revenue'].mean()))\n",
    "print('Средний чек группы B: {:.2f}'.format(orders[orders['group']=='B']['revenue'].mean())) \n",
    "print('Прирост в среднем чеке группы B: {0:.3f}:'.format(orders[orders['group']=='B']['revenue'].mean() / orders[orders['group']=='A']['revenue'].mean()-1))  \n"
   ]
  },
  {
   "cell_type": "markdown",
   "metadata": {},
   "source": [
    "<div style=\"background-color:aliceblue;padding:25px;\"> Промежуточный вывод:\n",
    "P-value значительно больше alpha, значит принимаем нулевую гипотезу - статистической значимости различий в средних чеках нет, несмотря на разницу общего среднего значения по группам, которая составила в абсолютных значений 28,7%"
   ]
  },
  {
   "cell_type": "markdown",
   "metadata": {},
   "source": [
    "<div class=\"alert alert-danger\">\n",
    "    \n",
    "  <b>Комментарий ревьюера</b>\n",
    "    \n",
    "  ❌ Откуда у нас в выводе ` несмотря на разницу общего среднего значения по группам, которая составила в абсолютных значений 26%`? Где мы считали 26%?\n",
    "\n",
    "</div> "
   ]
  },
  {
   "cell_type": "markdown",
   "metadata": {},
   "source": [
    "<div class=\"alert alert-block alert-info\">\n",
    "  \n",
    "  <b>Комментарий cтудента</b>\n",
    "    \n",
    "Замечание устранено.\n",
    "</div>\n",
    "<div class=\"alert alert-warning\">\n",
    "    \n",
    "  <b>Комментарий ревьюера v.2</b>\n",
    "    \n",
    "  ⚠️ Согласен, только обрати, пожалуйста, внимание на выводы: в начале мы можем говорить о наблюдаемых различиях, а потом сказать - являются ли они стат. значимыми или нет.\n",
    "\n",
    "</div>\n"
   ]
  },
  {
   "cell_type": "markdown",
   "metadata": {},
   "source": [
    "Подсчёт статистической значимости различий в конверсии между группами по «очищенным» данным\n",
    "\n",
    "Ранее мы изучали распредление заказов по кол-ву для пользователя и сумме, границы были опредлены следующие:\n",
    "\n",
    "кол-во > 2\n",
    "\n",
    "сумма > 30000\n",
    "\n",
    "Посмотрим, сколько в датафрейме анамальных пользователей:"
   ]
  },
  {
   "cell_type": "code",
   "execution_count": 42,
   "metadata": {},
   "outputs": [],
   "source": [
    "#объявляем граничные переменные \n",
    "order_quantity = 2\n",
    "order_amount = 30000"
   ]
  },
  {
   "cell_type": "code",
   "execution_count": 43,
   "metadata": {},
   "outputs": [
    {
     "name": "stdout",
     "output_type": "stream",
     "text": [
      "1099    148427295\n",
      "928     204675465\n",
      "33      249864742\n",
      "684     358944393\n",
      "648     382846391\n",
      "dtype: int64\n",
      " \n",
      "Кол-во анамальных пользователей:  49\n"
     ]
    }
   ],
   "source": [
    "# собираем пользователей с большим кол-вом заказов \n",
    "many_orders = pd.concat(\n",
    "    [\n",
    "        orders_by_users_a[orders_by_users_a['orders'] > order_quantity]['visitors_id'],\n",
    "        orders_by_users_b[orders_by_users_b['orders'] > order_quantity]['visitors_id'],\n",
    "    ],\n",
    "    axis=0,\n",
    ")\n",
    "\n",
    "# собираем пользователей с слишком дорогими заказами\n",
    "expensive_orders = orders[orders['revenue'] > order_amount]['visitor_id']\n",
    "\n",
    "# объединяем всё в один датафрейм \n",
    "abnormal_users = (\n",
    "    pd.concat([many_orders, expensive_orders], axis=0)\n",
    "    .drop_duplicates()\n",
    "    .sort_values()\n",
    ")\n",
    "print(abnormal_users.head(5))\n",
    "print(' ')\n",
    "print('Кол-во анамальных пользователей: ', abnormal_users.shape[0])"
   ]
  },
  {
   "cell_type": "markdown",
   "metadata": {},
   "source": [
    "<div class=\"alert alert-warning\">\n",
    "    \n",
    "  <b>Комментарий ревьюера</b>\n",
    "    \n",
    "  ⚠️ Тут можно или непосредственно вычисления по 95 / 99 перцентилю, например:\n",
    "```python \n",
    "revenue_lim = np.percentile(orders['revenue'], 95)`\n",
    "```\n",
    "или задавать в качестве отдельной переменой:\n",
    "\n",
    "```python \n",
    "revenue_lim = 100000\n",
    "usersWithExpensiveOrders = orders[orders['revenue'] > revenue_lim]['visitorId']`\n",
    "```\n",
    "\n",
    "</div>"
   ]
  },
  {
   "cell_type": "markdown",
   "metadata": {},
   "source": [
    "<div class=\"alert alert-block alert-info\">\n",
    "  \n",
    "  <b>Комментарий cтудента</b>\n",
    "    \n",
    "Рекомендации выполнены.\n",
    "</div>\n",
    "<div class=\"alert alert-success\">\n",
    "  \n",
    "  <b>Комментарий ревьюера v.2</b>\n",
    "    \n",
    "  ✔️ Лучше оставлять меньше хардкода, т.к. при смене данных можно забыть поменять значения везде в коде, а переменную мы можем неоднократно использовать и при ее смене изменятся сразу все расчеты. \n",
    "</div>"
   ]
  },
  {
   "cell_type": "markdown",
   "metadata": {},
   "source": [
    "<div style=\"background-color:aliceblue;padding:25px;\"> Промежуточный вывод:\n",
    "    Данное количество может оказать влияние на итоговые выводы, используем полученные результаты анализа  для   того чтобы убрать аномалии:"
   ]
  },
  {
   "cell_type": "code",
   "execution_count": 44,
   "metadata": {},
   "outputs": [],
   "source": [
    "#отфильтруем данные в группе А \n",
    "sample_a_filtered = pd.concat(\n",
    "    [\n",
    "        orders_by_users_a[\n",
    "            np.logical_not(orders_by_users_a['visitors_id'].isin(abnormal_users))\n",
    "        ]['orders'],\n",
    "        pd.Series(\n",
    "            0,\n",
    "            index=np.arange(\n",
    "                visitors[visitors['group']=='A']['visitors'].sum() - len(orders_by_users_a['orders'])\n",
    "            ),\n",
    "            name='orders',\n",
    "        ),\n",
    "    ],\n",
    "    axis=0,\n",
    ")\n",
    "\n",
    "#отфильтруем данные в группе В\n",
    "sample_b_filtered = pd.concat(\n",
    "    [\n",
    "        orders_by_users_b[\n",
    "            np.logical_not(orders_by_users_b['visitors_id'].isin(abnormal_users))\n",
    "        ]['orders'],\n",
    "        pd.Series(\n",
    "            0,\n",
    "            index=np.arange(\n",
    "                visitors[visitors['group']=='B']['visitors'].sum() - len(orders_by_users_b['orders'])\n",
    "            ),\n",
    "            name='orders',\n",
    "        ),\n",
    "    ],\n",
    "    axis=0,\n",
    ")  "
   ]
  },
  {
   "cell_type": "markdown",
   "metadata": {},
   "source": [
    "Анамалии убрали, гипотезы для проведеня теста, по аналогии с предыдущими:"
   ]
  },
  {
   "cell_type": "code",
   "execution_count": 45,
   "metadata": {},
   "outputs": [
    {
     "name": "stdout",
     "output_type": "stream",
     "text": [
      "Значение p-value : 0.009707773706615004\n",
      "Отвергаем нулевую гипотезу\n",
      "Средняя конверсия (очищенная) группы А: 2.3%\n",
      "Средняя конверсия (очищенная) группы B: 2.7%\n",
      "Отношение конверсии В к А, по очищенным данным: 0.187\n"
     ]
    }
   ],
   "source": [
    "result_3 = st.mannwhitneyu(sample_a_filtered, sample_b_filtered)[1] \n",
    "#ведем значение pvalue\n",
    "print(f'Значение p-value : {result_3}') \n",
    "# условный оператор с выводом строки с ответом\n",
    "if result_3 < alpha:\n",
    "    print(\"Отвергаем нулевую гипотезу\")\n",
    "else:\n",
    "    print(\"Не получилось отвергнуть нулевую гипотезу\") \n",
    "print('Средняя конверсия (очищенная) группы А: {:.1%}'.format(sample_a_filtered.mean()))\n",
    "print('Средняя конверсия (очищенная) группы B: {:.1%}'.format(sample_b_filtered.mean())) \n",
    "print('Отношение конверсии В к А, по очищенным данным: {0:.3f}'.format(sample_b_filtered.mean()/sample_a_filtered.mean()-1))  "
   ]
  },
  {
   "cell_type": "markdown",
   "metadata": {},
   "source": [
    "<div style=\"background-color:aliceblue;padding:25px;\"> Промежуточный вывод:\n",
    "Для \"очищенных\" данных также справедливо утверждение о том, что конверсии разные. Само значения конверсии данных изменилось в меньшую сторону для обоих групп, лидируют по-прежнему пользователи из B, а средний прирост оказался выше на почти 2,7%"
   ]
  },
  {
   "cell_type": "markdown",
   "metadata": {},
   "source": [
    "<div class=\"alert alert-danger\">\n",
    "    \n",
    "  <b>Комментарий ревьюера</b>\n",
    "    \n",
    "  ❌ Разве при p-value < alpha `нулевая гипотеза верна`?\n",
    "</div>"
   ]
  },
  {
   "cell_type": "markdown",
   "metadata": {},
   "source": [
    "<div class=\"alert alert-block alert-info\">\n",
    "  \n",
    "  <b>Комментарий cтудента</b>\n",
    "    \n",
    "Замечание устранено\n",
    "</div>\n",
    "<div class=\"alert alert-success\">\n",
    "  \n",
    "  <b>Комментарий ревьюера v.2</b>\n",
    "    \n",
    "  ✔️ И тут отвергаем нулевую гипотезу.\n",
    "</div>"
   ]
  },
  {
   "cell_type": "code",
   "execution_count": 46,
   "metadata": {},
   "outputs": [
    {
     "name": "stdout",
     "output_type": "stream",
     "text": [
      "Значение p-value : 0.7408811467812091\n",
      "Не получилось отвергнуть нулевую гипотезу\n",
      "Средняя чек группы А (очищенный): 5126.0\n",
      "Средний чек группы B (очищенный): 5265.9\n",
      "Прирост в среднем чеке группы B: -0.03\n"
     ]
    }
   ],
   "source": [
    "result4 = st.mannwhitneyu(\n",
    "    orders[np.logical_and(\n",
    "        orders['group']=='A',\n",
    "        np.logical_not(orders['visitor_id'].isin(abnormal_users)))]['revenue'],\n",
    "    orders[np.logical_and(\n",
    "        orders['group']=='B',\n",
    "        np.logical_not(orders['visitor_id'].isin(abnormal_users)))]['revenue'])[1] \n",
    "\n",
    "#посчитаем среднием значения \n",
    "mean_revenue_b = orders[np.logical_and(orders['group']=='B',\n",
    "                                       np.logical_not(orders['visitor_id'].\n",
    "                                                      isin(abnormal_users)))]['revenue'].mean()\n",
    "mean_revenue_a = orders[np.logical_and(orders['group']=='A',\n",
    "                                       np.logical_not(orders['visitor_id'].\n",
    "                                                      isin(abnormal_users)))]['revenue'].mean() \n",
    "\n",
    "print(f'Значение p-value : {result4}')  \n",
    "# условный оператор с выводом строки с ответом\n",
    "if result4 < alpha:\n",
    "    print(\"Отвергаем нулевую гипотезу\")\n",
    "else:\n",
    "    print(\"Не получилось отвергнуть нулевую гипотезу\")  \n",
    "#выведем всю необходимую информацию\n",
    "print('Средняя чек группы А (очищенный): {:.1f}'.format(mean_revenue_b))\n",
    "print('Средний чек группы B (очищенный): {:.1f}'.format(mean_revenue_a))\n",
    "print('Прирост в среднем чеке группы B: {0:.2f}'.format(mean_revenue_b / mean_revenue_a -1)) "
   ]
  },
  {
   "cell_type": "markdown",
   "metadata": {},
   "source": [
    "<div style=\"background-color:aliceblue;padding:25px;\"> Промежуточный вывод:\n",
    "    Как и в случае с сырыми данными, статистическая значимость достигнута не была. Но разница между сегментами сократилась с 28,7% до практически нулевой (-0,03%), средний чек в группе B даже стал незначительно ниже чем в группе A."
   ]
  },
  {
   "cell_type": "markdown",
   "metadata": {},
   "source": [
    "<div class=\"alert alert-danger\">\n",
    "    \n",
    "  <b>Комментарий ревьюера</b>\n",
    "    \n",
    "  ❌ Мы считаем не `Отношение конверсии В к А` а отношение чеков, и проверь расчеты, 98% это очень много, у нас отношение существенно меньше.\n",
    "</div>"
   ]
  },
  {
   "cell_type": "markdown",
   "metadata": {},
   "source": [
    "<div class=\"alert alert-block alert-info\">\n",
    "  \n",
    "  <b>Комментарий cтудента</b>\n",
    "    \n",
    "Замечание устранено\n",
    "</div>\n",
    "<div class=\"alert alert-success\">\n",
    "  \n",
    "  <b>Комментарий ревьюера v.2</b>\n",
    "    \n",
    "  ✔️ Хорошо.\n",
    "</div>"
   ]
  },
  {
   "cell_type": "markdown",
   "metadata": {},
   "source": [
    "Вывод: Остановить тест, зафиксировать победу группы B. После внедрения гипотезы конверсия увеличилась на 17%, средний чек не изменился."
   ]
  },
  {
   "cell_type": "markdown",
   "metadata": {},
   "source": [
    "<div style=\"border:solid Purple 2px; padding: 40px\" > \n",
    "    <u><b> Общие выводы:</b></u>\n",
    "<ol>Выполнена загрузка данных и предобработка данных</ol>\n",
    "<ol>Выполнена приоритезация гипотез с применением фреймоврков ICE,RICE определена наиболее подходящая гипотеза\n",
    ":Добавить форму подписки на все основные страницы, чтобы собрать базу клиентов для email-рассылок.</ol>\n",
    "<ol>Выполнен Анализ A/B-теста в процессе которого:</ol>\n",
    "<ol>Построен график кумулятивной выручки по группам.</ol>\n",
    "<ol>Построен график кумулятивного среднего чека по группам.</ol>\n",
    "<ol>Построен график относительного изменения кумулятивного среднего чека группы B к группе A. </ol>\n",
    "<ol>Построен график кумулятивного среднего количества заказов на посетителя по группам.</ol>\n",
    "<ol>Построен график относительного изменения кумулятивного среднего количества заказов на посетителя группы B к группе A.</ol>\n",
    "<ol>Построен точечный график количества заказов по пользователям.</ol>\n",
    "<ol>Расчитан 95-й и 99-й перцентили количества заказов на пользователя. Выбраны границы для определения аномальных пользователей.</ol>\n",
    "<ol>Построен точечный график стоимостей заказов.</ol>\n",
    "<ol>Расчитан 95-й и 99-й перцентили стоимости заказов. Выбраны границы для определения аномальных заказов.</ol>\n",
    "<ol>Посчитана статистическая значимость различий в среднем количестве заказов на посетителя между группами по «сырым» данным.</ol>\n",
    "<ol>Посчитана статистическая значимость различий в среднем чеке заказа между группами по «сырым» данным.</ol>\n",
    "<ol>Посчитана статистическая значимость различий в среднем количестве заказов на посетителя между группами по «очищенным» данным.</ol>\n",
    "<ol>Посчитана статистическую значимость различий в среднем чеке заказа между группами по «очищенным» данным. </ol>\n",
    "<ol>Принято решение по результатам теста.</ol>\n",
    "    По результатам проделаной работы определено:\n",
    "<li>Что есть статистически значимые различия по конверсии между группами и по «сырым», и по данным после фильтрации аномалий;</li>\n",
    "<li>Нет статистически значимого различия по среднему чеку между группами ни по «сырым», ни по данным после фильтрации аномалий;</li>\n",
    "<li>График различия конверсии между группами сообщает, что результаты группы B лучше группы A и нет значительной тенденции к ухудшению.</li>\n",
    "<li>График различия среднего чека колеблется, хотя к концу периода наблюдения тоже показывает, что результаты группы B становятся лучше группы A. Но глядя на данные очищенные от аномальных пользователей мы видим, что средний чек практически не изменился и даже стал немного меньше по отношению к группе A.</li>\n",
    "<li>Принято решение остановить тест и зафиксировать победу группы B.</li>"
   ]
  },
  {
   "cell_type": "markdown",
   "metadata": {},
   "source": [
    "<div class=\"alert alert-warning\">\n",
    "    \n",
    "  <b>Комментарий ревьюера</b>\n",
    "    \n",
    "  ⚠️ Стоит структурировать вывод, сплошной текст тяжело воспринимать.\n",
    "</div>\n",
    "<div class=\"alert alert-danger\">\n",
    "    \n",
    "  <b>Комментарий ревьюера</b>\n",
    "    \n",
    "  ❌ Покажи, пожалуйста, где у нас `График различия среднего чека говорит о том, что результаты группы B лучше группы А на 25%: Но при отстутсвии анамалий мы видим незначительное снижение на 2%`?\n",
    "</div>"
   ]
  },
  {
   "cell_type": "markdown",
   "metadata": {},
   "source": [
    "<div class=\"alert alert-block alert-info\">\n",
    "  \n",
    "  <b>Комментарий cтудента</b>\n",
    "    \n",
    "Замечание устранено,рекомендации учтены\n",
    "</div>\n",
    "<div class=\"alert alert-success\">\n",
    "  \n",
    "  <b>Комментарий ревьюера v.2</b>\n",
    "    \n",
    "  ✔️  Верно! Тут тест окрасился только на половину - `по количеству заказов`. Но это тоже хорошо, т.к. стат.значимой разницы по среднему чеку нет (чек не увеличился, но и не уменьшился) то при возросшем количестве заказов с сохранившимся средним чеком выручка будет так-же расти. И значит мы заканчиваем анализ A/B-теста - он оказался успешным! \n",
    "\n",
    "</div>"
   ]
  },
  {
   "cell_type": "markdown",
   "metadata": {},
   "source": [
    "<div style=\"border:solid black 2px; padding: 20px\">\n",
    "  \n",
    "    \n",
    "  <b>Чек-лист доработок</b>\n",
    "    \n",
    " \n",
    "  📃 Проверить корректность разбиения пользователей на группы.\n",
    "       \n",
    "  📃 Пересмотреть выбросы по количеству и стоимости заказов.\n",
    "    \n",
    "  📃 Проверить выводы теста количества заказов по  очищенным данным.\n",
    "   \n",
    "  📃 Проверить выводы  теста среднего чека по сырым и очищенным данным.\n",
    "    \n",
    "  📃 Обосновать общий вывод.\n",
    "    \n",
    "\n",
    "</div>"
   ]
  },
  {
   "cell_type": "code",
   "execution_count": null,
   "metadata": {},
   "outputs": [],
   "source": []
  }
 ],
 "metadata": {
  "ExecuteTimeLog": [
   {
    "duration": 1434,
    "start_time": "2024-07-01T19:10:14.556Z"
   },
   {
    "duration": 71,
    "start_time": "2024-07-01T19:10:54.137Z"
   },
   {
    "duration": 98,
    "start_time": "2024-07-01T19:11:33.207Z"
   },
   {
    "duration": 76,
    "start_time": "2024-07-01T19:11:55.999Z"
   },
   {
    "duration": 18,
    "start_time": "2024-07-01T19:13:21.627Z"
   },
   {
    "duration": 9,
    "start_time": "2024-07-01T19:14:59.300Z"
   },
   {
    "duration": 8,
    "start_time": "2024-07-01T19:15:06.764Z"
   },
   {
    "duration": 12,
    "start_time": "2024-07-01T19:15:58.810Z"
   },
   {
    "duration": 8,
    "start_time": "2024-07-01T19:16:15.155Z"
   },
   {
    "duration": 5,
    "start_time": "2024-07-01T19:17:15.271Z"
   },
   {
    "duration": 8,
    "start_time": "2024-07-01T19:17:50.809Z"
   },
   {
    "duration": 11,
    "start_time": "2024-07-01T19:18:01.292Z"
   },
   {
    "duration": 12,
    "start_time": "2024-07-01T19:18:22.871Z"
   },
   {
    "duration": 8,
    "start_time": "2024-07-01T19:18:41.103Z"
   },
   {
    "duration": 11,
    "start_time": "2024-07-01T19:18:51.343Z"
   },
   {
    "duration": 11,
    "start_time": "2024-07-01T19:19:23.029Z"
   },
   {
    "duration": 49,
    "start_time": "2024-07-01T19:24:48.369Z"
   },
   {
    "duration": 15,
    "start_time": "2024-07-01T19:24:49.242Z"
   },
   {
    "duration": 8,
    "start_time": "2024-07-01T19:24:50.241Z"
   },
   {
    "duration": 15,
    "start_time": "2024-07-01T19:24:51.445Z"
   },
   {
    "duration": 11,
    "start_time": "2024-07-01T19:24:55.432Z"
   },
   {
    "duration": 11,
    "start_time": "2024-07-01T19:24:57.868Z"
   },
   {
    "duration": 8,
    "start_time": "2024-07-01T19:25:04.431Z"
   },
   {
    "duration": 11,
    "start_time": "2024-07-01T19:25:05.322Z"
   },
   {
    "duration": 9,
    "start_time": "2024-07-01T19:26:12.509Z"
   },
   {
    "duration": 10,
    "start_time": "2024-07-01T19:26:33.500Z"
   },
   {
    "duration": 7,
    "start_time": "2024-07-01T19:28:21.590Z"
   },
   {
    "duration": 8,
    "start_time": "2024-07-01T19:28:44.255Z"
   },
   {
    "duration": 57,
    "start_time": "2024-07-01T19:30:57.000Z"
   },
   {
    "duration": 4,
    "start_time": "2024-07-01T19:32:54.740Z"
   },
   {
    "duration": 4,
    "start_time": "2024-07-01T19:33:47.870Z"
   },
   {
    "duration": 10,
    "start_time": "2024-07-01T19:34:00.296Z"
   },
   {
    "duration": 9,
    "start_time": "2024-07-01T19:35:58.862Z"
   },
   {
    "duration": 106,
    "start_time": "2024-07-01T19:40:21.829Z"
   },
   {
    "duration": 4,
    "start_time": "2024-07-01T19:41:26.218Z"
   },
   {
    "duration": 9,
    "start_time": "2024-07-01T19:41:34.530Z"
   },
   {
    "duration": 1106,
    "start_time": "2024-07-01T19:42:13.238Z"
   },
   {
    "duration": 27,
    "start_time": "2024-07-01T19:42:14.346Z"
   },
   {
    "duration": 39,
    "start_time": "2024-07-01T19:42:14.375Z"
   },
   {
    "duration": 16,
    "start_time": "2024-07-01T19:42:14.416Z"
   },
   {
    "duration": 13,
    "start_time": "2024-07-01T19:42:14.434Z"
   },
   {
    "duration": 12,
    "start_time": "2024-07-01T19:42:14.449Z"
   },
   {
    "duration": 16,
    "start_time": "2024-07-01T19:42:14.463Z"
   },
   {
    "duration": 15,
    "start_time": "2024-07-01T19:42:14.480Z"
   },
   {
    "duration": 8,
    "start_time": "2024-07-01T19:42:14.497Z"
   },
   {
    "duration": 22,
    "start_time": "2024-07-01T19:42:14.507Z"
   },
   {
    "duration": 26,
    "start_time": "2024-07-01T19:42:14.531Z"
   },
   {
    "duration": 9,
    "start_time": "2024-07-01T19:42:14.559Z"
   },
   {
    "duration": 16,
    "start_time": "2024-07-01T19:42:14.570Z"
   },
   {
    "duration": 76,
    "start_time": "2024-07-01T19:42:14.589Z"
   },
   {
    "duration": 5,
    "start_time": "2024-07-01T19:42:50.179Z"
   },
   {
    "duration": 4,
    "start_time": "2024-07-01T19:44:50.712Z"
   },
   {
    "duration": 6,
    "start_time": "2024-07-01T19:44:59.860Z"
   },
   {
    "duration": 8,
    "start_time": "2024-07-01T19:51:57.023Z"
   },
   {
    "duration": 14,
    "start_time": "2024-07-01T19:55:51.790Z"
   },
   {
    "duration": 12,
    "start_time": "2024-07-01T19:56:14.307Z"
   },
   {
    "duration": 12,
    "start_time": "2024-07-01T19:56:57.212Z"
   },
   {
    "duration": 6,
    "start_time": "2024-07-01T19:57:08.593Z"
   },
   {
    "duration": 6,
    "start_time": "2024-07-01T19:57:12.955Z"
   },
   {
    "duration": 111,
    "start_time": "2024-07-01T19:57:19.781Z"
   },
   {
    "duration": 14,
    "start_time": "2024-07-01T19:57:29.277Z"
   },
   {
    "duration": 14,
    "start_time": "2024-07-01T19:57:36.386Z"
   },
   {
    "duration": 1119,
    "start_time": "2024-07-01T19:57:56.341Z"
   },
   {
    "duration": 27,
    "start_time": "2024-07-01T19:57:57.462Z"
   },
   {
    "duration": 40,
    "start_time": "2024-07-01T19:57:57.490Z"
   },
   {
    "duration": 15,
    "start_time": "2024-07-01T19:57:57.532Z"
   },
   {
    "duration": 13,
    "start_time": "2024-07-01T19:57:57.549Z"
   },
   {
    "duration": 11,
    "start_time": "2024-07-01T19:57:57.563Z"
   },
   {
    "duration": 11,
    "start_time": "2024-07-01T19:57:57.576Z"
   },
   {
    "duration": 10,
    "start_time": "2024-07-01T19:57:57.589Z"
   },
   {
    "duration": 9,
    "start_time": "2024-07-01T19:57:57.600Z"
   },
   {
    "duration": 11,
    "start_time": "2024-07-01T19:57:57.611Z"
   },
   {
    "duration": 9,
    "start_time": "2024-07-01T19:57:57.623Z"
   },
   {
    "duration": 8,
    "start_time": "2024-07-01T19:57:57.635Z"
   },
   {
    "duration": 10,
    "start_time": "2024-07-01T19:57:57.683Z"
   },
   {
    "duration": 17,
    "start_time": "2024-07-01T19:57:57.695Z"
   },
   {
    "duration": 7,
    "start_time": "2024-07-01T19:57:57.714Z"
   },
   {
    "duration": 5,
    "start_time": "2024-07-01T19:57:57.723Z"
   },
   {
    "duration": 8,
    "start_time": "2024-07-01T19:57:57.729Z"
   },
   {
    "duration": 10,
    "start_time": "2024-07-01T19:57:57.738Z"
   },
   {
    "duration": 45,
    "start_time": "2024-07-01T19:57:57.749Z"
   },
   {
    "duration": 13,
    "start_time": "2024-07-01T19:58:49.292Z"
   },
   {
    "duration": 11,
    "start_time": "2024-07-01T19:59:03.326Z"
   },
   {
    "duration": 12,
    "start_time": "2024-07-01T19:59:07.515Z"
   },
   {
    "duration": 1195,
    "start_time": "2024-07-01T19:59:38.530Z"
   },
   {
    "duration": 11,
    "start_time": "2024-07-01T19:59:48.427Z"
   },
   {
    "duration": 919,
    "start_time": "2024-07-01T19:59:52.995Z"
   },
   {
    "duration": 6,
    "start_time": "2024-07-01T20:01:38.881Z"
   },
   {
    "duration": 12,
    "start_time": "2024-07-01T20:01:44.638Z"
   },
   {
    "duration": 14,
    "start_time": "2024-07-01T20:01:59.256Z"
   },
   {
    "duration": 13,
    "start_time": "2024-07-01T20:02:05.747Z"
   },
   {
    "duration": 7,
    "start_time": "2024-07-01T20:03:09.306Z"
   },
   {
    "duration": 7,
    "start_time": "2024-07-01T20:03:26.438Z"
   },
   {
    "duration": 13,
    "start_time": "2024-07-01T20:03:34.181Z"
   },
   {
    "duration": 6,
    "start_time": "2024-07-01T20:03:53.776Z"
   },
   {
    "duration": 15,
    "start_time": "2024-07-01T20:04:01.466Z"
   },
   {
    "duration": 23,
    "start_time": "2024-07-01T20:04:13.163Z"
   },
   {
    "duration": 13,
    "start_time": "2024-07-01T20:07:12.415Z"
   },
   {
    "duration": 13,
    "start_time": "2024-07-01T20:09:14.938Z"
   },
   {
    "duration": 52,
    "start_time": "2024-07-01T20:21:44.857Z"
   },
   {
    "duration": 68,
    "start_time": "2024-07-01T20:22:56.090Z"
   },
   {
    "duration": 2,
    "start_time": "2024-07-01T20:29:42.905Z"
   },
   {
    "duration": 46,
    "start_time": "2024-07-01T20:32:39.609Z"
   },
   {
    "duration": 306,
    "start_time": "2024-07-01T20:36:11.816Z"
   },
   {
    "duration": 285,
    "start_time": "2024-07-01T20:38:18.680Z"
   },
   {
    "duration": 162,
    "start_time": "2024-07-01T20:39:12.900Z"
   },
   {
    "duration": 195,
    "start_time": "2024-07-01T20:39:26.806Z"
   },
   {
    "duration": 178,
    "start_time": "2024-07-01T20:39:39.444Z"
   },
   {
    "duration": 189,
    "start_time": "2024-07-01T20:39:46.617Z"
   },
   {
    "duration": 209,
    "start_time": "2024-07-01T20:42:12.608Z"
   },
   {
    "duration": 247,
    "start_time": "2024-07-01T20:42:24.045Z"
   },
   {
    "duration": 284,
    "start_time": "2024-07-01T20:42:32.446Z"
   },
   {
    "duration": 281,
    "start_time": "2024-07-01T20:48:51.721Z"
   },
   {
    "duration": 222,
    "start_time": "2024-07-01T20:49:10.900Z"
   },
   {
    "duration": 279,
    "start_time": "2024-07-01T20:53:50.903Z"
   },
   {
    "duration": 324,
    "start_time": "2024-07-01T20:54:00.798Z"
   },
   {
    "duration": 264,
    "start_time": "2024-07-01T20:57:27.524Z"
   },
   {
    "duration": 244,
    "start_time": "2024-07-01T20:58:08.299Z"
   },
   {
    "duration": 252,
    "start_time": "2024-07-01T20:58:58.949Z"
   },
   {
    "duration": 371,
    "start_time": "2024-07-01T20:59:56.465Z"
   },
   {
    "duration": 234,
    "start_time": "2024-07-01T21:02:22.948Z"
   },
   {
    "duration": 10,
    "start_time": "2024-07-01T21:03:23.749Z"
   },
   {
    "duration": 211,
    "start_time": "2024-07-01T21:03:50.924Z"
   },
   {
    "duration": 247,
    "start_time": "2024-07-01T21:04:15.797Z"
   },
   {
    "duration": 204,
    "start_time": "2024-07-01T21:04:24.934Z"
   },
   {
    "duration": 6,
    "start_time": "2024-07-01T21:07:25.704Z"
   },
   {
    "duration": 13,
    "start_time": "2024-07-01T21:07:57.950Z"
   },
   {
    "duration": 330,
    "start_time": "2024-07-01T21:08:30.791Z"
   },
   {
    "duration": 198,
    "start_time": "2024-07-01T21:08:45.452Z"
   },
   {
    "duration": 91,
    "start_time": "2024-07-01T21:13:16.877Z"
   },
   {
    "duration": 201,
    "start_time": "2024-07-01T21:13:40.418Z"
   },
   {
    "duration": 354,
    "start_time": "2024-07-01T21:14:02.054Z"
   },
   {
    "duration": 351,
    "start_time": "2024-07-01T21:14:10.204Z"
   },
   {
    "duration": 277,
    "start_time": "2024-07-01T21:14:28.914Z"
   },
   {
    "duration": 345,
    "start_time": "2024-07-01T21:19:21.121Z"
   },
   {
    "duration": 347,
    "start_time": "2024-07-01T21:19:33.823Z"
   },
   {
    "duration": 48,
    "start_time": "2024-07-02T08:02:28.261Z"
   },
   {
    "duration": 1763,
    "start_time": "2024-07-02T08:02:37.583Z"
   },
   {
    "duration": 69,
    "start_time": "2024-07-02T08:02:39.349Z"
   },
   {
    "duration": 91,
    "start_time": "2024-07-02T08:02:39.419Z"
   },
   {
    "duration": 66,
    "start_time": "2024-07-02T08:02:39.512Z"
   },
   {
    "duration": 10,
    "start_time": "2024-07-02T08:02:39.580Z"
   },
   {
    "duration": 9,
    "start_time": "2024-07-02T08:02:39.592Z"
   },
   {
    "duration": 7,
    "start_time": "2024-07-02T08:02:39.602Z"
   },
   {
    "duration": 9,
    "start_time": "2024-07-02T08:02:39.610Z"
   },
   {
    "duration": 10,
    "start_time": "2024-07-02T08:02:39.620Z"
   },
   {
    "duration": 13,
    "start_time": "2024-07-02T08:02:39.631Z"
   },
   {
    "duration": 9,
    "start_time": "2024-07-02T08:02:39.645Z"
   },
   {
    "duration": 7,
    "start_time": "2024-07-02T08:02:39.655Z"
   },
   {
    "duration": 8,
    "start_time": "2024-07-02T08:02:39.663Z"
   },
   {
    "duration": 9,
    "start_time": "2024-07-02T08:02:39.674Z"
   },
   {
    "duration": 5,
    "start_time": "2024-07-02T08:02:39.712Z"
   },
   {
    "duration": 4,
    "start_time": "2024-07-02T08:02:39.719Z"
   },
   {
    "duration": 5,
    "start_time": "2024-07-02T08:02:39.724Z"
   },
   {
    "duration": 13,
    "start_time": "2024-07-02T08:02:39.730Z"
   },
   {
    "duration": 16,
    "start_time": "2024-07-02T08:02:39.745Z"
   },
   {
    "duration": 11,
    "start_time": "2024-07-02T08:02:39.763Z"
   },
   {
    "duration": 274,
    "start_time": "2024-07-02T08:02:39.775Z"
   },
   {
    "duration": 297,
    "start_time": "2024-07-02T08:02:40.050Z"
   },
   {
    "duration": 228,
    "start_time": "2024-07-02T08:02:40.349Z"
   },
   {
    "duration": 399,
    "start_time": "2024-07-02T08:02:40.578Z"
   },
   {
    "duration": 263,
    "start_time": "2024-07-02T08:02:40.979Z"
   },
   {
    "duration": 322,
    "start_time": "2024-07-02T08:02:41.243Z"
   },
   {
    "duration": 101,
    "start_time": "2024-07-02T08:02:41.567Z"
   },
   {
    "duration": 57,
    "start_time": "2024-07-02T08:07:24.319Z"
   },
   {
    "duration": 7,
    "start_time": "2024-07-02T08:07:40.633Z"
   },
   {
    "duration": 11,
    "start_time": "2024-07-02T08:07:46.498Z"
   },
   {
    "duration": 9,
    "start_time": "2024-07-02T08:08:22.720Z"
   },
   {
    "duration": 10,
    "start_time": "2024-07-02T08:08:32.620Z"
   },
   {
    "duration": 5,
    "start_time": "2024-07-02T08:08:54.070Z"
   },
   {
    "duration": 8,
    "start_time": "2024-07-02T08:08:59.193Z"
   },
   {
    "duration": 12,
    "start_time": "2024-07-02T08:09:42.291Z"
   },
   {
    "duration": 10,
    "start_time": "2024-07-02T08:09:57.945Z"
   },
   {
    "duration": 98,
    "start_time": "2024-07-02T08:10:52.816Z"
   },
   {
    "duration": 5,
    "start_time": "2024-07-02T08:11:54.394Z"
   },
   {
    "duration": 139,
    "start_time": "2024-07-02T08:12:17.180Z"
   },
   {
    "duration": 4,
    "start_time": "2024-07-02T08:17:09.106Z"
   },
   {
    "duration": 8,
    "start_time": "2024-07-02T08:23:07.892Z"
   },
   {
    "duration": 8,
    "start_time": "2024-07-02T08:23:18.738Z"
   },
   {
    "duration": 113,
    "start_time": "2024-07-02T08:23:26.581Z"
   },
   {
    "duration": 230,
    "start_time": "2024-07-02T08:23:47.022Z"
   },
   {
    "duration": 165,
    "start_time": "2024-07-02T08:25:55.688Z"
   },
   {
    "duration": 3,
    "start_time": "2024-07-02T08:27:05.501Z"
   },
   {
    "duration": 30,
    "start_time": "2024-07-02T08:29:53.453Z"
   },
   {
    "duration": 15,
    "start_time": "2024-07-02T08:30:22.343Z"
   },
   {
    "duration": 7,
    "start_time": "2024-07-02T08:32:24.081Z"
   },
   {
    "duration": 9,
    "start_time": "2024-07-02T08:33:17.013Z"
   },
   {
    "duration": 22,
    "start_time": "2024-07-02T08:33:41.330Z"
   },
   {
    "duration": 14,
    "start_time": "2024-07-02T08:35:07.445Z"
   },
   {
    "duration": 49,
    "start_time": "2024-07-03T10:15:58.486Z"
   },
   {
    "duration": 1205,
    "start_time": "2024-07-03T10:16:06.162Z"
   },
   {
    "duration": 73,
    "start_time": "2024-07-03T10:16:07.369Z"
   },
   {
    "duration": 96,
    "start_time": "2024-07-03T10:16:07.443Z"
   },
   {
    "duration": 71,
    "start_time": "2024-07-03T10:16:07.540Z"
   },
   {
    "duration": 11,
    "start_time": "2024-07-03T10:16:07.613Z"
   },
   {
    "duration": 14,
    "start_time": "2024-07-03T10:16:07.626Z"
   },
   {
    "duration": 18,
    "start_time": "2024-07-03T10:16:07.641Z"
   },
   {
    "duration": 11,
    "start_time": "2024-07-03T10:16:07.660Z"
   },
   {
    "duration": 7,
    "start_time": "2024-07-03T10:16:07.672Z"
   },
   {
    "duration": 16,
    "start_time": "2024-07-03T10:16:07.680Z"
   },
   {
    "duration": 18,
    "start_time": "2024-07-03T10:16:07.698Z"
   },
   {
    "duration": 8,
    "start_time": "2024-07-03T10:16:07.718Z"
   },
   {
    "duration": 23,
    "start_time": "2024-07-03T10:16:07.727Z"
   },
   {
    "duration": 18,
    "start_time": "2024-07-03T10:16:07.753Z"
   },
   {
    "duration": 20,
    "start_time": "2024-07-03T10:16:07.773Z"
   },
   {
    "duration": 13,
    "start_time": "2024-07-03T10:16:07.794Z"
   },
   {
    "duration": 15,
    "start_time": "2024-07-03T10:16:07.809Z"
   },
   {
    "duration": 29,
    "start_time": "2024-07-03T10:16:07.825Z"
   },
   {
    "duration": 11,
    "start_time": "2024-07-03T10:16:07.856Z"
   },
   {
    "duration": 12,
    "start_time": "2024-07-03T10:16:07.869Z"
   },
   {
    "duration": 267,
    "start_time": "2024-07-03T10:16:07.882Z"
   },
   {
    "duration": 308,
    "start_time": "2024-07-03T10:16:08.151Z"
   },
   {
    "duration": 229,
    "start_time": "2024-07-03T10:16:08.461Z"
   },
   {
    "duration": 388,
    "start_time": "2024-07-03T10:16:08.692Z"
   },
   {
    "duration": 264,
    "start_time": "2024-07-03T10:16:09.082Z"
   },
   {
    "duration": 324,
    "start_time": "2024-07-03T10:16:09.348Z"
   },
   {
    "duration": 6,
    "start_time": "2024-07-03T10:16:09.673Z"
   },
   {
    "duration": 151,
    "start_time": "2024-07-03T10:16:09.680Z"
   },
   {
    "duration": 3,
    "start_time": "2024-07-03T10:16:09.833Z"
   },
   {
    "duration": 164,
    "start_time": "2024-07-03T10:16:09.838Z"
   },
   {
    "duration": 161,
    "start_time": "2024-07-03T10:16:10.003Z"
   },
   {
    "duration": 4,
    "start_time": "2024-07-03T10:16:10.165Z"
   },
   {
    "duration": 16,
    "start_time": "2024-07-03T10:16:10.171Z"
   },
   {
    "duration": 6,
    "start_time": "2024-07-03T10:16:10.188Z"
   },
   {
    "duration": 39,
    "start_time": "2024-07-03T10:16:10.195Z"
   },
   {
    "duration": 79,
    "start_time": "2024-07-03T10:16:10.235Z"
   },
   {
    "duration": 8,
    "start_time": "2024-07-03T10:16:10.316Z"
   },
   {
    "duration": 7,
    "start_time": "2024-07-03T10:21:00.681Z"
   },
   {
    "duration": 9,
    "start_time": "2024-07-03T10:23:31.734Z"
   },
   {
    "duration": 9,
    "start_time": "2024-07-03T10:23:56.118Z"
   },
   {
    "duration": 93,
    "start_time": "2024-07-03T10:24:26.686Z"
   },
   {
    "duration": 23,
    "start_time": "2024-07-03T10:24:36.307Z"
   },
   {
    "duration": 11,
    "start_time": "2024-07-03T10:40:18.100Z"
   },
   {
    "duration": 14,
    "start_time": "2024-07-03T10:40:24.462Z"
   },
   {
    "duration": 3,
    "start_time": "2024-07-03T10:45:08.068Z"
   },
   {
    "duration": 12,
    "start_time": "2024-07-03T10:46:04.670Z"
   },
   {
    "duration": 13,
    "start_time": "2024-07-03T10:46:17.482Z"
   },
   {
    "duration": 51,
    "start_time": "2024-07-03T11:07:54.029Z"
   },
   {
    "duration": 164,
    "start_time": "2024-07-03T11:11:35.896Z"
   },
   {
    "duration": 175,
    "start_time": "2024-07-03T11:11:46.919Z"
   },
   {
    "duration": 1104,
    "start_time": "2024-07-03T11:43:06.718Z"
   },
   {
    "duration": 26,
    "start_time": "2024-07-03T11:43:07.824Z"
   },
   {
    "duration": 40,
    "start_time": "2024-07-03T11:43:07.852Z"
   },
   {
    "duration": 15,
    "start_time": "2024-07-03T11:43:07.894Z"
   },
   {
    "duration": 11,
    "start_time": "2024-07-03T11:43:07.912Z"
   },
   {
    "duration": 11,
    "start_time": "2024-07-03T11:43:07.924Z"
   },
   {
    "duration": 11,
    "start_time": "2024-07-03T11:43:07.937Z"
   },
   {
    "duration": 20,
    "start_time": "2024-07-03T11:43:07.949Z"
   },
   {
    "duration": 8,
    "start_time": "2024-07-03T11:43:07.970Z"
   },
   {
    "duration": 18,
    "start_time": "2024-07-03T11:43:07.980Z"
   },
   {
    "duration": 9,
    "start_time": "2024-07-03T11:43:08.000Z"
   },
   {
    "duration": 11,
    "start_time": "2024-07-03T11:43:08.011Z"
   },
   {
    "duration": 9,
    "start_time": "2024-07-03T11:43:08.023Z"
   },
   {
    "duration": 11,
    "start_time": "2024-07-03T11:43:08.053Z"
   },
   {
    "duration": 7,
    "start_time": "2024-07-03T11:43:08.066Z"
   },
   {
    "duration": 4,
    "start_time": "2024-07-03T11:43:08.075Z"
   },
   {
    "duration": 5,
    "start_time": "2024-07-03T11:43:08.081Z"
   },
   {
    "duration": 14,
    "start_time": "2024-07-03T11:43:08.087Z"
   },
   {
    "duration": 15,
    "start_time": "2024-07-03T11:43:08.103Z"
   },
   {
    "duration": 46,
    "start_time": "2024-07-03T11:43:08.119Z"
   },
   {
    "duration": 311,
    "start_time": "2024-07-03T11:43:08.167Z"
   },
   {
    "duration": 336,
    "start_time": "2024-07-03T11:43:08.480Z"
   },
   {
    "duration": 258,
    "start_time": "2024-07-03T11:43:08.818Z"
   },
   {
    "duration": 331,
    "start_time": "2024-07-03T11:43:09.078Z"
   },
   {
    "duration": 284,
    "start_time": "2024-07-03T11:43:09.411Z"
   },
   {
    "duration": 320,
    "start_time": "2024-07-03T11:43:09.697Z"
   },
   {
    "duration": 7,
    "start_time": "2024-07-03T11:43:10.019Z"
   },
   {
    "duration": 171,
    "start_time": "2024-07-03T11:43:10.027Z"
   },
   {
    "duration": 4,
    "start_time": "2024-07-03T11:43:10.200Z"
   },
   {
    "duration": 192,
    "start_time": "2024-07-03T11:43:10.206Z"
   },
   {
    "duration": 192,
    "start_time": "2024-07-03T11:43:10.400Z"
   },
   {
    "duration": 4,
    "start_time": "2024-07-03T11:43:10.594Z"
   },
   {
    "duration": 50,
    "start_time": "2024-07-03T11:43:10.599Z"
   },
   {
    "duration": 7,
    "start_time": "2024-07-03T11:43:10.651Z"
   },
   {
    "duration": 104,
    "start_time": "2024-07-03T11:43:10.660Z"
   },
   {
    "duration": 14,
    "start_time": "2024-07-03T11:43:10.766Z"
   },
   {
    "duration": 14,
    "start_time": "2024-07-03T11:43:10.781Z"
   },
   {
    "duration": 11,
    "start_time": "2024-07-03T11:43:10.796Z"
   },
   {
    "duration": 49,
    "start_time": "2024-07-03T11:43:10.808Z"
   },
   {
    "duration": 14,
    "start_time": "2024-07-03T11:43:10.859Z"
   },
   {
    "duration": 1398,
    "start_time": "2024-07-03T13:50:48.357Z"
   },
   {
    "duration": 70,
    "start_time": "2024-07-03T13:50:49.757Z"
   },
   {
    "duration": 92,
    "start_time": "2024-07-03T13:50:49.829Z"
   },
   {
    "duration": 66,
    "start_time": "2024-07-03T13:50:49.923Z"
   },
   {
    "duration": 17,
    "start_time": "2024-07-03T13:50:49.992Z"
   },
   {
    "duration": 20,
    "start_time": "2024-07-03T13:50:50.011Z"
   },
   {
    "duration": 22,
    "start_time": "2024-07-03T13:50:50.033Z"
   },
   {
    "duration": 33,
    "start_time": "2024-07-03T13:50:50.057Z"
   },
   {
    "duration": 16,
    "start_time": "2024-07-03T13:50:50.092Z"
   },
   {
    "duration": 17,
    "start_time": "2024-07-03T13:50:50.110Z"
   },
   {
    "duration": 9,
    "start_time": "2024-07-03T13:50:50.128Z"
   },
   {
    "duration": 16,
    "start_time": "2024-07-03T13:50:50.139Z"
   },
   {
    "duration": 16,
    "start_time": "2024-07-03T13:50:50.157Z"
   },
   {
    "duration": 9,
    "start_time": "2024-07-03T13:50:50.183Z"
   },
   {
    "duration": 21,
    "start_time": "2024-07-03T13:50:50.193Z"
   },
   {
    "duration": 8,
    "start_time": "2024-07-03T13:50:50.216Z"
   },
   {
    "duration": 7,
    "start_time": "2024-07-03T13:50:50.226Z"
   },
   {
    "duration": 19,
    "start_time": "2024-07-03T13:50:50.235Z"
   },
   {
    "duration": 128,
    "start_time": "2024-07-03T13:50:50.256Z"
   },
   {
    "duration": 0,
    "start_time": "2024-07-03T13:50:50.385Z"
   },
   {
    "duration": 0,
    "start_time": "2024-07-03T13:50:50.386Z"
   },
   {
    "duration": 0,
    "start_time": "2024-07-03T13:50:50.388Z"
   },
   {
    "duration": 0,
    "start_time": "2024-07-03T13:50:50.389Z"
   },
   {
    "duration": 0,
    "start_time": "2024-07-03T13:50:50.390Z"
   },
   {
    "duration": 0,
    "start_time": "2024-07-03T13:50:50.391Z"
   },
   {
    "duration": 0,
    "start_time": "2024-07-03T13:50:50.392Z"
   },
   {
    "duration": 0,
    "start_time": "2024-07-03T13:50:50.393Z"
   },
   {
    "duration": 1,
    "start_time": "2024-07-03T13:50:50.394Z"
   },
   {
    "duration": 0,
    "start_time": "2024-07-03T13:50:50.395Z"
   },
   {
    "duration": 0,
    "start_time": "2024-07-03T13:50:50.396Z"
   },
   {
    "duration": 0,
    "start_time": "2024-07-03T13:50:50.397Z"
   },
   {
    "duration": 0,
    "start_time": "2024-07-03T13:50:50.398Z"
   },
   {
    "duration": 0,
    "start_time": "2024-07-03T13:50:50.399Z"
   },
   {
    "duration": 0,
    "start_time": "2024-07-03T13:50:50.401Z"
   },
   {
    "duration": 0,
    "start_time": "2024-07-03T13:50:50.402Z"
   },
   {
    "duration": 0,
    "start_time": "2024-07-03T13:50:50.403Z"
   },
   {
    "duration": 0,
    "start_time": "2024-07-03T13:50:50.404Z"
   },
   {
    "duration": 0,
    "start_time": "2024-07-03T13:50:50.405Z"
   },
   {
    "duration": 0,
    "start_time": "2024-07-03T13:50:50.406Z"
   },
   {
    "duration": 0,
    "start_time": "2024-07-03T13:50:50.408Z"
   },
   {
    "duration": 56,
    "start_time": "2024-07-03T13:51:48.247Z"
   },
   {
    "duration": 13,
    "start_time": "2024-07-03T13:51:54.082Z"
   },
   {
    "duration": 13,
    "start_time": "2024-07-03T13:52:02.060Z"
   },
   {
    "duration": 12,
    "start_time": "2024-07-03T13:52:52.698Z"
   },
   {
    "duration": 3,
    "start_time": "2024-07-03T13:53:14.989Z"
   },
   {
    "duration": 9,
    "start_time": "2024-07-03T13:53:19.964Z"
   },
   {
    "duration": 2,
    "start_time": "2024-07-03T13:53:29.170Z"
   },
   {
    "duration": 9,
    "start_time": "2024-07-03T13:53:32.016Z"
   },
   {
    "duration": 3,
    "start_time": "2024-07-03T13:53:59.237Z"
   },
   {
    "duration": 10,
    "start_time": "2024-07-03T13:54:01.558Z"
   },
   {
    "duration": 9,
    "start_time": "2024-07-03T13:54:15.005Z"
   },
   {
    "duration": 12,
    "start_time": "2024-07-03T13:54:20.645Z"
   },
   {
    "duration": 13,
    "start_time": "2024-07-03T13:54:26.597Z"
   },
   {
    "duration": 15,
    "start_time": "2024-07-03T13:54:37.940Z"
   },
   {
    "duration": 85,
    "start_time": "2024-07-03T13:59:59.156Z"
   },
   {
    "duration": 9,
    "start_time": "2024-07-03T14:05:27.348Z"
   },
   {
    "duration": 73,
    "start_time": "2024-07-03T14:05:40.751Z"
   },
   {
    "duration": 17,
    "start_time": "2024-07-03T14:07:32.292Z"
   },
   {
    "duration": 37,
    "start_time": "2024-07-03T14:08:02.814Z"
   },
   {
    "duration": 295,
    "start_time": "2024-07-03T14:09:36.140Z"
   },
   {
    "duration": 306,
    "start_time": "2024-07-03T14:10:18.776Z"
   },
   {
    "duration": 238,
    "start_time": "2024-07-03T14:10:37.098Z"
   },
   {
    "duration": 359,
    "start_time": "2024-07-03T14:11:00.699Z"
   },
   {
    "duration": 13,
    "start_time": "2024-07-03T14:11:19.277Z"
   },
   {
    "duration": 8,
    "start_time": "2024-07-03T14:11:31.884Z"
   },
   {
    "duration": 6,
    "start_time": "2024-07-03T14:11:43.267Z"
   },
   {
    "duration": 13,
    "start_time": "2024-07-03T14:12:06.342Z"
   },
   {
    "duration": 9,
    "start_time": "2024-07-03T14:14:40.438Z"
   },
   {
    "duration": 14,
    "start_time": "2024-07-03T14:14:46.623Z"
   },
   {
    "duration": 8,
    "start_time": "2024-07-03T14:15:25.991Z"
   },
   {
    "duration": 9,
    "start_time": "2024-07-03T14:16:11.960Z"
   },
   {
    "duration": 23,
    "start_time": "2024-07-03T14:16:15.872Z"
   },
   {
    "duration": 15,
    "start_time": "2024-07-03T14:16:42.428Z"
   },
   {
    "duration": 137,
    "start_time": "2024-07-03T14:17:15.853Z"
   },
   {
    "duration": 13,
    "start_time": "2024-07-03T14:17:55.850Z"
   },
   {
    "duration": 9,
    "start_time": "2024-07-03T14:18:01.715Z"
   },
   {
    "duration": 9,
    "start_time": "2024-07-03T14:18:49.289Z"
   },
   {
    "duration": 14,
    "start_time": "2024-07-03T14:18:59.373Z"
   },
   {
    "duration": 64,
    "start_time": "2024-07-03T14:19:13.756Z"
   },
   {
    "duration": 10,
    "start_time": "2024-07-03T14:22:32.172Z"
   },
   {
    "duration": 10,
    "start_time": "2024-07-03T14:24:56.850Z"
   },
   {
    "duration": 60,
    "start_time": "2024-07-03T14:25:51.080Z"
   },
   {
    "duration": 11,
    "start_time": "2024-07-03T14:25:59.705Z"
   },
   {
    "duration": 4,
    "start_time": "2024-07-03T14:26:18.209Z"
   },
   {
    "duration": 6,
    "start_time": "2024-07-03T14:26:40.041Z"
   },
   {
    "duration": 291,
    "start_time": "2024-07-03T14:26:48.775Z"
   },
   {
    "duration": 339,
    "start_time": "2024-07-03T14:26:51.291Z"
   },
   {
    "duration": 55,
    "start_time": "2024-07-03T14:27:44.195Z"
   },
   {
    "duration": 47,
    "start_time": "2024-07-03T20:01:14.668Z"
   },
   {
    "duration": 1277,
    "start_time": "2024-07-03T20:01:23.303Z"
   },
   {
    "duration": 3,
    "start_time": "2024-07-03T20:01:24.582Z"
   },
   {
    "duration": 100,
    "start_time": "2024-07-03T20:01:24.586Z"
   },
   {
    "duration": 79,
    "start_time": "2024-07-03T20:01:24.688Z"
   },
   {
    "duration": 55,
    "start_time": "2024-07-03T20:01:24.769Z"
   },
   {
    "duration": 11,
    "start_time": "2024-07-03T20:01:24.825Z"
   },
   {
    "duration": 9,
    "start_time": "2024-07-03T20:01:24.837Z"
   },
   {
    "duration": 9,
    "start_time": "2024-07-03T20:01:24.847Z"
   },
   {
    "duration": 14,
    "start_time": "2024-07-03T20:01:24.857Z"
   },
   {
    "duration": 10,
    "start_time": "2024-07-03T20:01:24.872Z"
   },
   {
    "duration": 8,
    "start_time": "2024-07-03T20:01:24.883Z"
   },
   {
    "duration": 8,
    "start_time": "2024-07-03T20:01:24.892Z"
   },
   {
    "duration": 6,
    "start_time": "2024-07-03T20:01:24.909Z"
   },
   {
    "duration": 7,
    "start_time": "2024-07-03T20:01:24.918Z"
   },
   {
    "duration": 17,
    "start_time": "2024-07-03T20:01:24.926Z"
   },
   {
    "duration": 15,
    "start_time": "2024-07-03T20:01:24.944Z"
   },
   {
    "duration": 8,
    "start_time": "2024-07-03T20:01:24.960Z"
   },
   {
    "duration": 21,
    "start_time": "2024-07-03T20:01:24.969Z"
   },
   {
    "duration": 16,
    "start_time": "2024-07-03T20:01:24.992Z"
   },
   {
    "duration": 21,
    "start_time": "2024-07-03T20:01:25.009Z"
   },
   {
    "duration": 27,
    "start_time": "2024-07-03T20:01:25.032Z"
   },
   {
    "duration": 23,
    "start_time": "2024-07-03T20:01:25.061Z"
   },
   {
    "duration": 28,
    "start_time": "2024-07-03T20:01:25.086Z"
   },
   {
    "duration": 7,
    "start_time": "2024-07-03T20:01:25.115Z"
   },
   {
    "duration": 4,
    "start_time": "2024-07-03T20:01:25.124Z"
   },
   {
    "duration": 263,
    "start_time": "2024-07-03T20:01:25.130Z"
   },
   {
    "duration": 295,
    "start_time": "2024-07-03T20:01:25.395Z"
   },
   {
    "duration": 223,
    "start_time": "2024-07-03T20:01:25.692Z"
   },
   {
    "duration": 347,
    "start_time": "2024-07-03T20:01:25.916Z"
   },
   {
    "duration": 219,
    "start_time": "2024-07-03T20:01:26.264Z"
   },
   {
    "duration": 345,
    "start_time": "2024-07-03T20:01:26.484Z"
   },
   {
    "duration": 5,
    "start_time": "2024-07-03T20:01:26.831Z"
   },
   {
    "duration": 176,
    "start_time": "2024-07-03T20:01:26.837Z"
   },
   {
    "duration": 4,
    "start_time": "2024-07-03T20:01:27.014Z"
   },
   {
    "duration": 178,
    "start_time": "2024-07-03T20:01:27.020Z"
   },
   {
    "duration": 179,
    "start_time": "2024-07-03T20:01:27.199Z"
   },
   {
    "duration": 4,
    "start_time": "2024-07-03T20:01:27.379Z"
   },
   {
    "duration": 37,
    "start_time": "2024-07-03T20:01:27.384Z"
   },
   {
    "duration": 19,
    "start_time": "2024-07-03T20:01:27.423Z"
   },
   {
    "duration": 112,
    "start_time": "2024-07-03T20:01:27.443Z"
   },
   {
    "duration": 15,
    "start_time": "2024-07-03T20:01:27.560Z"
   },
   {
    "duration": 20,
    "start_time": "2024-07-03T20:01:27.576Z"
   },
   {
    "duration": 54,
    "start_time": "2024-07-03T20:01:27.597Z"
   },
   {
    "duration": 38,
    "start_time": "2024-07-03T20:01:27.653Z"
   },
   {
    "duration": 39,
    "start_time": "2024-07-03T20:01:27.692Z"
   },
   {
    "duration": 205,
    "start_time": "2024-07-03T20:02:25.631Z"
   },
   {
    "duration": 276,
    "start_time": "2024-07-03T20:02:41.450Z"
   },
   {
    "duration": 5,
    "start_time": "2024-07-03T20:04:44.715Z"
   },
   {
    "duration": 149,
    "start_time": "2024-07-03T20:04:48.754Z"
   },
   {
    "duration": 82,
    "start_time": "2024-07-03T20:09:50.897Z"
   },
   {
    "duration": 3,
    "start_time": "2024-07-03T20:10:18.539Z"
   },
   {
    "duration": 62,
    "start_time": "2024-07-03T20:11:41.582Z"
   },
   {
    "duration": 11,
    "start_time": "2024-07-03T20:19:52.580Z"
   },
   {
    "duration": 12,
    "start_time": "2024-07-03T20:20:00.348Z"
   },
   {
    "duration": 75,
    "start_time": "2024-07-03T20:21:18.115Z"
   },
   {
    "duration": 9,
    "start_time": "2024-07-03T20:21:37.435Z"
   },
   {
    "duration": 2,
    "start_time": "2024-07-03T20:23:18.892Z"
   },
   {
    "duration": 2,
    "start_time": "2024-07-03T20:24:35.820Z"
   },
   {
    "duration": 9,
    "start_time": "2024-07-03T20:24:50.869Z"
   },
   {
    "duration": 59,
    "start_time": "2024-07-03T20:25:21.399Z"
   },
   {
    "duration": 8,
    "start_time": "2024-07-03T20:25:36.570Z"
   },
   {
    "duration": 21,
    "start_time": "2024-07-03T20:25:38.071Z"
   },
   {
    "duration": 77,
    "start_time": "2024-07-03T20:31:10.044Z"
   },
   {
    "duration": 12,
    "start_time": "2024-07-03T20:31:38.075Z"
   },
   {
    "duration": 22,
    "start_time": "2024-07-03T20:33:31.218Z"
   },
   {
    "duration": 14,
    "start_time": "2024-07-03T20:33:50.328Z"
   },
   {
    "duration": 13,
    "start_time": "2024-07-03T20:33:59.510Z"
   },
   {
    "duration": 13,
    "start_time": "2024-07-03T20:34:44.710Z"
   },
   {
    "duration": 13,
    "start_time": "2024-07-03T20:40:34.699Z"
   },
   {
    "duration": 1312,
    "start_time": "2024-07-04T06:08:54.534Z"
   },
   {
    "duration": 2,
    "start_time": "2024-07-04T06:08:55.848Z"
   },
   {
    "duration": 115,
    "start_time": "2024-07-04T06:08:55.854Z"
   },
   {
    "duration": 84,
    "start_time": "2024-07-04T06:08:55.971Z"
   },
   {
    "duration": 60,
    "start_time": "2024-07-04T06:08:56.057Z"
   },
   {
    "duration": 16,
    "start_time": "2024-07-04T06:08:56.119Z"
   },
   {
    "duration": 25,
    "start_time": "2024-07-04T06:08:56.137Z"
   },
   {
    "duration": 29,
    "start_time": "2024-07-04T06:08:56.164Z"
   },
   {
    "duration": 25,
    "start_time": "2024-07-04T06:08:56.195Z"
   },
   {
    "duration": 25,
    "start_time": "2024-07-04T06:08:56.222Z"
   },
   {
    "duration": 20,
    "start_time": "2024-07-04T06:08:56.249Z"
   },
   {
    "duration": 55,
    "start_time": "2024-07-04T06:08:56.271Z"
   },
   {
    "duration": 20,
    "start_time": "2024-07-04T06:08:56.328Z"
   },
   {
    "duration": 19,
    "start_time": "2024-07-04T06:08:56.349Z"
   },
   {
    "duration": 14,
    "start_time": "2024-07-04T06:08:56.370Z"
   },
   {
    "duration": 19,
    "start_time": "2024-07-04T06:08:56.385Z"
   },
   {
    "duration": 66,
    "start_time": "2024-07-04T06:08:56.405Z"
   },
   {
    "duration": 8,
    "start_time": "2024-07-04T06:08:56.472Z"
   },
   {
    "duration": 22,
    "start_time": "2024-07-04T06:08:56.482Z"
   },
   {
    "duration": 13,
    "start_time": "2024-07-04T06:08:56.505Z"
   },
   {
    "duration": 17,
    "start_time": "2024-07-04T06:08:56.520Z"
   },
   {
    "duration": 25,
    "start_time": "2024-07-04T06:08:56.538Z"
   },
   {
    "duration": 19,
    "start_time": "2024-07-04T06:08:56.564Z"
   },
   {
    "duration": 19,
    "start_time": "2024-07-04T06:08:56.585Z"
   },
   {
    "duration": 13,
    "start_time": "2024-07-04T06:08:56.606Z"
   },
   {
    "duration": 287,
    "start_time": "2024-07-04T06:08:56.620Z"
   },
   {
    "duration": 336,
    "start_time": "2024-07-04T06:08:56.909Z"
   },
   {
    "duration": 252,
    "start_time": "2024-07-04T06:08:57.255Z"
   },
   {
    "duration": 557,
    "start_time": "2024-07-04T06:08:57.509Z"
   },
   {
    "duration": 507,
    "start_time": "2024-07-04T06:08:58.068Z"
   },
   {
    "duration": 626,
    "start_time": "2024-07-04T06:08:58.577Z"
   },
   {
    "duration": 6,
    "start_time": "2024-07-04T06:08:59.255Z"
   },
   {
    "duration": 256,
    "start_time": "2024-07-04T06:08:59.263Z"
   },
   {
    "duration": 4,
    "start_time": "2024-07-04T06:08:59.521Z"
   },
   {
    "duration": 190,
    "start_time": "2024-07-04T06:08:59.527Z"
   },
   {
    "duration": 186,
    "start_time": "2024-07-04T06:08:59.719Z"
   },
   {
    "duration": 4,
    "start_time": "2024-07-04T06:08:59.907Z"
   },
   {
    "duration": 59,
    "start_time": "2024-07-04T06:08:59.913Z"
   },
   {
    "duration": 8,
    "start_time": "2024-07-04T06:08:59.974Z"
   },
   {
    "duration": 33,
    "start_time": "2024-07-04T06:08:59.984Z"
   },
   {
    "duration": 104,
    "start_time": "2024-07-04T06:09:00.020Z"
   },
   {
    "duration": 61,
    "start_time": "2024-07-04T06:09:00.127Z"
   },
   {
    "duration": 34,
    "start_time": "2024-07-04T06:09:00.190Z"
   },
   {
    "duration": 51,
    "start_time": "2024-07-04T06:09:00.225Z"
   },
   {
    "duration": 118,
    "start_time": "2024-07-04T06:09:00.278Z"
   },
   {
    "duration": 101,
    "start_time": "2024-07-04T06:09:00.398Z"
   }
  ],
  "kernelspec": {
   "display_name": "Python 3 (ipykernel)",
   "language": "python",
   "name": "python3"
  },
  "language_info": {
   "codemirror_mode": {
    "name": "ipython",
    "version": 3
   },
   "file_extension": ".py",
   "mimetype": "text/x-python",
   "name": "python",
   "nbconvert_exporter": "python",
   "pygments_lexer": "ipython3",
   "version": "3.9.5"
  },
  "toc": {
   "base_numbering": 1,
   "nav_menu": {},
   "number_sections": true,
   "sideBar": true,
   "skip_h1_title": true,
   "title_cell": "Table of Contents",
   "title_sidebar": "Contents",
   "toc_cell": false,
   "toc_position": {},
   "toc_section_display": true,
   "toc_window_display": true
  }
 },
 "nbformat": 4,
 "nbformat_minor": 2
}
