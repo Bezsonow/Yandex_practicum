{
 "cells": [
  {
   "cell_type": "markdown",
   "metadata": {
    "deletable": false,
    "editable": false,
    "id": "E0vqbgi9ay0H"
   },
   "source": [
    "# Яндекс Музыка"
   ]
  },
  {
   "cell_type": "markdown",
   "metadata": {
    "deletable": false,
    "editable": false,
    "id": "VUC88oWjTJw2"
   },
   "source": [
    "Сравнение Москвы и Петербурга окружено мифами. Например:\n",
    " * Москва — мегаполис, подчинённый жёсткому ритму рабочей недели;\n",
    " * Петербург — культурная столица, со своими вкусами.\n",
    "\n",
    "На данных Яндекс Музыки вы сравните поведение пользователей двух столиц.\n",
    "\n",
    "**Цель исследования** — проверьте три гипотезы:\n",
    "1. Активность пользователей зависит от дня недели. Причём в Москве и Петербурге это проявляется по-разному.\n",
    "2. В понедельник утром в Москве преобладают одни жанры, а в Петербурге — другие. Так же и вечером пятницы преобладают разные жанры — в зависимости от города.\n",
    "3. Москва и Петербург предпочитают разные жанры музыки. В Москве чаще слушают поп-музыку, в Петербурге — русский рэп.\n",
    "\n",
    "**Ход исследования**\n",
    "\n",
    "Данные о поведении пользователей вы получите из файла `yandex_music_project.csv`. О качестве данных ничего не известно. Поэтому перед проверкой гипотез понадобится обзор данных.\n",
    "\n",
    "Вы проверите данные на ошибки и оцените их влияние на исследование. Затем, на этапе предобработки вы поищете возможность исправить самые критичные ошибки данных.\n",
    "\n",
    "Таким образом, исследование пройдёт в три этапа:\n",
    " 1. Обзор данных.\n",
    " 2. Предобработка данных.\n",
    " 3. Проверка гипотез.\n",
    "\n"
   ]
  },
  {
   "cell_type": "markdown",
   "metadata": {
    "deletable": false,
    "editable": false,
    "id": "Ml1hmfXC_Zcs"
   },
   "source": [
    "## Обзор данных\n",
    "\n",
    "Составьте первое представление о данных Яндекс Музыки.\n",
    "\n",
    "\n"
   ]
  },
  {
   "cell_type": "markdown",
   "metadata": {
    "deletable": false,
    "editable": false,
    "id": "57eAOGIz_Zcs",
    "tags": [
     "start_task"
    ]
   },
   "source": [
    "**Задание 1**"
   ]
  },
  {
   "cell_type": "code",
   "execution_count": 1,
   "metadata": {
    "deletable": false,
    "id": "AXN7PHPN_Zcs"
   },
   "outputs": [],
   "source": [
    "# импорт библиотеки pandas\n",
    "import pandas as pd"
   ]
  },
  {
   "cell_type": "markdown",
   "metadata": {
    "deletable": false,
    "editable": false,
    "id": "SG23P8tt_Zcs",
    "tags": [
     "start_task"
    ]
   },
   "source": [
    "**Задание 2**"
   ]
  },
  {
   "cell_type": "code",
   "execution_count": 2,
   "metadata": {
    "deletable": false,
    "id": "fFVu7vqh_Zct"
   },
   "outputs": [],
   "source": [
    "# чтение файла с данными и сохранение в df\n",
    "df = pd.read_csv('/datasets/yandex_music_project.csv')"
   ]
  },
  {
   "cell_type": "markdown",
   "metadata": {
    "deletable": false,
    "editable": false,
    "id": "rDoOMd3uTqnZ",
    "tags": [
     "start_task"
    ]
   },
   "source": [
    "**Задание 3**"
   ]
  },
  {
   "cell_type": "code",
   "execution_count": 3,
   "metadata": {
    "deletable": false,
    "id": "oWTVX3gW_Zct"
   },
   "outputs": [
    {
     "data": {
      "text/html": [
       "<div>\n",
       "<style scoped>\n",
       "    .dataframe tbody tr th:only-of-type {\n",
       "        vertical-align: middle;\n",
       "    }\n",
       "\n",
       "    .dataframe tbody tr th {\n",
       "        vertical-align: top;\n",
       "    }\n",
       "\n",
       "    .dataframe thead th {\n",
       "        text-align: right;\n",
       "    }\n",
       "</style>\n",
       "<table border=\"1\" class=\"dataframe\">\n",
       "  <thead>\n",
       "    <tr style=\"text-align: right;\">\n",
       "      <th></th>\n",
       "      <th>userID</th>\n",
       "      <th>Track</th>\n",
       "      <th>artist</th>\n",
       "      <th>genre</th>\n",
       "      <th>City</th>\n",
       "      <th>time</th>\n",
       "      <th>Day</th>\n",
       "    </tr>\n",
       "  </thead>\n",
       "  <tbody>\n",
       "    <tr>\n",
       "      <th>0</th>\n",
       "      <td>FFB692EC</td>\n",
       "      <td>Kamigata To Boots</td>\n",
       "      <td>The Mass Missile</td>\n",
       "      <td>rock</td>\n",
       "      <td>Saint-Petersburg</td>\n",
       "      <td>20:28:33</td>\n",
       "      <td>Wednesday</td>\n",
       "    </tr>\n",
       "    <tr>\n",
       "      <th>1</th>\n",
       "      <td>55204538</td>\n",
       "      <td>Delayed Because of Accident</td>\n",
       "      <td>Andreas Rönnberg</td>\n",
       "      <td>rock</td>\n",
       "      <td>Moscow</td>\n",
       "      <td>14:07:09</td>\n",
       "      <td>Friday</td>\n",
       "    </tr>\n",
       "    <tr>\n",
       "      <th>2</th>\n",
       "      <td>20EC38</td>\n",
       "      <td>Funiculì funiculà</td>\n",
       "      <td>Mario Lanza</td>\n",
       "      <td>pop</td>\n",
       "      <td>Saint-Petersburg</td>\n",
       "      <td>20:58:07</td>\n",
       "      <td>Wednesday</td>\n",
       "    </tr>\n",
       "    <tr>\n",
       "      <th>3</th>\n",
       "      <td>A3DD03C9</td>\n",
       "      <td>Dragons in the Sunset</td>\n",
       "      <td>Fire + Ice</td>\n",
       "      <td>folk</td>\n",
       "      <td>Saint-Petersburg</td>\n",
       "      <td>08:37:09</td>\n",
       "      <td>Monday</td>\n",
       "    </tr>\n",
       "    <tr>\n",
       "      <th>4</th>\n",
       "      <td>E2DC1FAE</td>\n",
       "      <td>Soul People</td>\n",
       "      <td>Space Echo</td>\n",
       "      <td>dance</td>\n",
       "      <td>Moscow</td>\n",
       "      <td>08:34:34</td>\n",
       "      <td>Monday</td>\n",
       "    </tr>\n",
       "    <tr>\n",
       "      <th>5</th>\n",
       "      <td>842029A1</td>\n",
       "      <td>Преданная</td>\n",
       "      <td>IMPERVTOR</td>\n",
       "      <td>rusrap</td>\n",
       "      <td>Saint-Petersburg</td>\n",
       "      <td>13:09:41</td>\n",
       "      <td>Friday</td>\n",
       "    </tr>\n",
       "    <tr>\n",
       "      <th>6</th>\n",
       "      <td>4CB90AA5</td>\n",
       "      <td>True</td>\n",
       "      <td>Roman Messer</td>\n",
       "      <td>dance</td>\n",
       "      <td>Moscow</td>\n",
       "      <td>13:00:07</td>\n",
       "      <td>Wednesday</td>\n",
       "    </tr>\n",
       "    <tr>\n",
       "      <th>7</th>\n",
       "      <td>F03E1C1F</td>\n",
       "      <td>Feeling This Way</td>\n",
       "      <td>Polina Griffith</td>\n",
       "      <td>dance</td>\n",
       "      <td>Moscow</td>\n",
       "      <td>20:47:49</td>\n",
       "      <td>Wednesday</td>\n",
       "    </tr>\n",
       "    <tr>\n",
       "      <th>8</th>\n",
       "      <td>8FA1D3BE</td>\n",
       "      <td>И вновь продолжается бой</td>\n",
       "      <td>NaN</td>\n",
       "      <td>ruspop</td>\n",
       "      <td>Moscow</td>\n",
       "      <td>09:17:40</td>\n",
       "      <td>Friday</td>\n",
       "    </tr>\n",
       "    <tr>\n",
       "      <th>9</th>\n",
       "      <td>E772D5C0</td>\n",
       "      <td>Pessimist</td>\n",
       "      <td>NaN</td>\n",
       "      <td>dance</td>\n",
       "      <td>Saint-Petersburg</td>\n",
       "      <td>21:20:49</td>\n",
       "      <td>Wednesday</td>\n",
       "    </tr>\n",
       "  </tbody>\n",
       "</table>\n",
       "</div>"
      ],
      "text/plain": [
       "     userID                        Track            artist   genre  \\\n",
       "0  FFB692EC            Kamigata To Boots  The Mass Missile    rock   \n",
       "1  55204538  Delayed Because of Accident  Andreas Rönnberg    rock   \n",
       "2    20EC38            Funiculì funiculà       Mario Lanza     pop   \n",
       "3  A3DD03C9        Dragons in the Sunset        Fire + Ice    folk   \n",
       "4  E2DC1FAE                  Soul People        Space Echo   dance   \n",
       "5  842029A1                    Преданная         IMPERVTOR  rusrap   \n",
       "6  4CB90AA5                         True      Roman Messer   dance   \n",
       "7  F03E1C1F             Feeling This Way   Polina Griffith   dance   \n",
       "8  8FA1D3BE     И вновь продолжается бой               NaN  ruspop   \n",
       "9  E772D5C0                    Pessimist               NaN   dance   \n",
       "\n",
       "             City        time        Day  \n",
       "0  Saint-Petersburg  20:28:33  Wednesday  \n",
       "1            Moscow  14:07:09     Friday  \n",
       "2  Saint-Petersburg  20:58:07  Wednesday  \n",
       "3  Saint-Petersburg  08:37:09     Monday  \n",
       "4            Moscow  08:34:34     Monday  \n",
       "5  Saint-Petersburg  13:09:41     Friday  \n",
       "6            Moscow  13:00:07  Wednesday  \n",
       "7            Moscow  20:47:49  Wednesday  \n",
       "8            Moscow  09:17:40     Friday  \n",
       "9  Saint-Petersburg  21:20:49  Wednesday  "
      ]
     },
     "execution_count": 3,
     "metadata": {},
     "output_type": "execute_result"
    }
   ],
   "source": [
    "# получение первых 10 строк таблицы df\n",
    "df.head(10)"
   ]
  },
  {
   "cell_type": "markdown",
   "metadata": {
    "deletable": false,
    "editable": false,
    "id": "EO73Kwic_Zct",
    "tags": [
     "start_task"
    ]
   },
   "source": [
    "**Задание 4**"
   ]
  },
  {
   "cell_type": "code",
   "execution_count": 4,
   "metadata": {
    "deletable": false,
    "id": "DSf2kIb-_Zct"
   },
   "outputs": [
    {
     "name": "stdout",
     "output_type": "stream",
     "text": [
      "<class 'pandas.core.frame.DataFrame'>\n",
      "RangeIndex: 65079 entries, 0 to 65078\n",
      "Data columns (total 7 columns):\n",
      " #   Column    Non-Null Count  Dtype \n",
      "---  ------    --------------  ----- \n",
      " 0     userID  65079 non-null  object\n",
      " 1   Track     63848 non-null  object\n",
      " 2   artist    57876 non-null  object\n",
      " 3   genre     63881 non-null  object\n",
      " 4     City    65079 non-null  object\n",
      " 5   time      65079 non-null  object\n",
      " 6   Day       65079 non-null  object\n",
      "dtypes: object(7)\n",
      "memory usage: 3.5+ MB\n"
     ]
    }
   ],
   "source": [
    "# получение общей информации о данных в таблице df\n",
    "df.info()"
   ]
  },
  {
   "cell_type": "markdown",
   "metadata": {
    "deletable": false,
    "editable": false,
    "id": "TaQ2Iwbr_Zct"
   },
   "source": [
    "Количество значений в столбцах различается. Значит, в данных есть пропущенные значения."
   ]
  },
  {
   "cell_type": "markdown",
   "metadata": {
    "deletable": false,
    "editable": false,
    "id": "4P0UCWzswgEm",
    "tags": [
     "start_task"
    ]
   },
   "source": [
    "**Задание 5**"
   ]
  },
  {
   "cell_type": "code",
   "execution_count": 5,
   "metadata": {
    "id": "c137-ZstwgEm"
   },
   "outputs": [],
   "source": [
    "# Напишите ваш ответ здесь комментарием. Не удаляйте символ #. Не меняйте тип этой ячейки на Markdown.\n",
    "#Предполагаю, что третье нарушение стиля заключается в написании переменной \"userID\" - не соблюден 'змеиный регистр'.\n",
    "#Написание данной переменной с соблюдением стиля необходимо выполнить следюущим образом user_id"
   ]
  },
  {
   "cell_type": "markdown",
   "metadata": {
    "deletable": false,
    "editable": false,
    "id": "MCB6-dXG_Zct"
   },
   "source": [
    "**Выводы**\n",
    "\n",
    "В каждой строке таблицы — данные о прослушанном треке. Часть колонок описывает саму композицию: название, исполнителя и жанр. Остальные данные рассказывают о пользователе: из какого он города, когда он слушал музыку.\n",
    "\n",
    "Предварительно можно утверждать, что данных достаточно для проверки гипотез. Но встречаются пропуски в данных, а в названиях колонок — расхождения с хорошим стилем.\n",
    "\n",
    "Чтобы двигаться дальше, нужно устранить проблемы в данных."
   ]
  },
  {
   "cell_type": "markdown",
   "metadata": {
    "deletable": false,
    "editable": false,
    "id": "SjYF6Ub9_Zct"
   },
   "source": [
    "## Предобработка данных"
   ]
  },
  {
   "cell_type": "markdown",
   "metadata": {
    "deletable": false,
    "editable": false,
    "id": "dIaKXr29_Zct",
    "tags": [
     "start_task"
    ]
   },
   "source": [
    "### Переименование столбцов\n",
    "\n",
    "**Задание 6**"
   ]
  },
  {
   "cell_type": "code",
   "execution_count": 6,
   "metadata": {
    "deletable": false,
    "id": "oKOTdF_Q_Zct"
   },
   "outputs": [
    {
     "name": "stdout",
     "output_type": "stream",
     "text": [
      "Index(['  userID', 'Track', 'artist', 'genre', '  City  ', 'time', 'Day'], dtype='object')\n"
     ]
    }
   ],
   "source": [
    "# перечень названий столбцов таблицы df\n",
    "print(df.columns)"
   ]
  },
  {
   "cell_type": "markdown",
   "metadata": {
    "deletable": false,
    "editable": false,
    "id": "zj5534cv_Zct",
    "tags": [
     "start_task"
    ]
   },
   "source": [
    "**Задание 7**"
   ]
  },
  {
   "cell_type": "code",
   "execution_count": 7,
   "metadata": {
    "deletable": false,
    "id": "ISlFqs5y_Zct"
   },
   "outputs": [],
   "source": [
    "# переименование столбцов\n",
    "df = df.rename(columns={'  userID': 'user_id', 'Track': 'track', '  City  ': 'city', 'Day': 'day'})"
   ]
  },
  {
   "cell_type": "markdown",
   "metadata": {
    "deletable": false,
    "editable": false,
    "id": "1dqbh00J_Zct",
    "tags": [
     "start_task"
    ]
   },
   "source": [
    "**Задание 8**"
   ]
  },
  {
   "cell_type": "code",
   "execution_count": 8,
   "metadata": {
    "deletable": false,
    "id": "d4NOAmTW_Zct"
   },
   "outputs": [
    {
     "name": "stdout",
     "output_type": "stream",
     "text": [
      "Index(['user_id', 'track', 'artist', 'genre', 'city', 'time', 'day'], dtype='object')\n"
     ]
    }
   ],
   "source": [
    "# проверка результатов - перечень названий столбцов\n",
    "print(df.columns)"
   ]
  },
  {
   "cell_type": "markdown",
   "metadata": {
    "deletable": false,
    "editable": false,
    "id": "5ISfbcfY_Zct",
    "tags": [
     "start_task"
    ]
   },
   "source": [
    "### Обработка пропущенных значений\n",
    "\n",
    "**Задание 9**"
   ]
  },
  {
   "cell_type": "code",
   "execution_count": 9,
   "metadata": {
    "deletable": false,
    "id": "RskX29qr_Zct"
   },
   "outputs": [
    {
     "name": "stdout",
     "output_type": "stream",
     "text": [
      "user_id       0\n",
      "track      1231\n",
      "artist     7203\n",
      "genre      1198\n",
      "city          0\n",
      "time          0\n",
      "day           0\n",
      "dtype: int64\n"
     ]
    }
   ],
   "source": [
    "# подсчёт пропусков\n",
    "print(df.isna().sum())"
   ]
  },
  {
   "cell_type": "markdown",
   "metadata": {
    "deletable": false,
    "editable": false,
    "id": "fSv2laPA_Zct",
    "tags": [
     "start_task"
    ]
   },
   "source": [
    "**Задание 10**"
   ]
  },
  {
   "cell_type": "code",
   "execution_count": 10,
   "metadata": {
    "deletable": false,
    "id": "KplB5qWs_Zct"
   },
   "outputs": [],
   "source": [
    "# замена пропущенных значений на 'unknown'\n",
    "columns_to_replace = ['track', 'artist', 'genre']\n",
    "for column in columns_to_replace:\n",
    "    df[column] = df[column].fillna('unknown') "
   ]
  },
  {
   "cell_type": "markdown",
   "metadata": {
    "deletable": false,
    "editable": false,
    "id": "Ilsm-MZo_Zct",
    "tags": [
     "start_task"
    ]
   },
   "source": [
    "**Задание 11**"
   ]
  },
  {
   "cell_type": "code",
   "execution_count": 11,
   "metadata": {
    "deletable": false,
    "id": "Tq4nYRX4_Zct"
   },
   "outputs": [
    {
     "name": "stdout",
     "output_type": "stream",
     "text": [
      "user_id    0\n",
      "track      0\n",
      "artist     0\n",
      "genre      0\n",
      "city       0\n",
      "time       0\n",
      "day        0\n",
      "dtype: int64\n"
     ]
    }
   ],
   "source": [
    "# проверка на отсутствие пропусков\n",
    "print(df.isna().sum())"
   ]
  },
  {
   "cell_type": "markdown",
   "metadata": {
    "deletable": false,
    "editable": false,
    "id": "BWKRtBJ3_Zct",
    "tags": [
     "start_task"
    ]
   },
   "source": [
    "### Обработка дубликатов\n",
    "\n",
    "**Задание 12**"
   ]
  },
  {
   "cell_type": "code",
   "execution_count": 12,
   "metadata": {
    "deletable": false,
    "id": "36eES_S0_Zct"
   },
   "outputs": [
    {
     "name": "stdout",
     "output_type": "stream",
     "text": [
      "3826\n"
     ]
    }
   ],
   "source": [
    "# подсчёт явных дубликатов\n",
    "print(df.duplicated().sum())"
   ]
  },
  {
   "cell_type": "markdown",
   "metadata": {
    "deletable": false,
    "editable": false,
    "id": "Ot25h6XR_Zct",
    "tags": [
     "start_task"
    ]
   },
   "source": [
    "**Задание 13**"
   ]
  },
  {
   "cell_type": "code",
   "execution_count": 13,
   "metadata": {
    "deletable": false,
    "id": "exFHq6tt_Zct"
   },
   "outputs": [],
   "source": [
    "# удаление явных дубликатов, создание новых индексов и удаление старых\n",
    "df = df.drop_duplicates().reset_index(drop=True)"
   ]
  },
  {
   "cell_type": "markdown",
   "metadata": {
    "deletable": false,
    "editable": false,
    "id": "Im2YwBEG_Zct",
    "tags": [
     "start_task"
    ]
   },
   "source": [
    "**Задание 14**"
   ]
  },
  {
   "cell_type": "code",
   "execution_count": 14,
   "metadata": {
    "deletable": false,
    "id": "-8PuNWQ0_Zct"
   },
   "outputs": [
    {
     "name": "stdout",
     "output_type": "stream",
     "text": [
      "0\n"
     ]
    }
   ],
   "source": [
    "# проверка на отсутствие явных дубликатов\n",
    "print(df.duplicated().sum())"
   ]
  },
  {
   "cell_type": "markdown",
   "metadata": {
    "deletable": false,
    "editable": false,
    "id": "eSjWwsOh_Zct",
    "tags": [
     "start_task"
    ]
   },
   "source": [
    "**Задание 15**"
   ]
  },
  {
   "cell_type": "code",
   "execution_count": 15,
   "metadata": {
    "deletable": false,
    "id": "JIUcqzZN_Zct"
   },
   "outputs": [
    {
     "name": "stdout",
     "output_type": "stream",
     "text": [
      "['acid' 'acoustic' 'action' 'adult' 'africa' 'afrikaans' 'alternative'\n",
      " 'alternativepunk' 'ambient' 'americana' 'animated' 'anime' 'arabesk'\n",
      " 'arabic' 'arena' 'argentinetango' 'art' 'audiobook' 'author' 'avantgarde'\n",
      " 'axé' 'baile' 'balkan' 'beats' 'bigroom' 'black' 'bluegrass' 'blues'\n",
      " 'bollywood' 'bossa' 'brazilian' 'breakbeat' 'breaks' 'broadway'\n",
      " 'cantautori' 'cantopop' 'canzone' 'caribbean' 'caucasian' 'celtic'\n",
      " 'chamber' 'chanson' 'children' 'chill' 'chinese' 'choral' 'christian'\n",
      " 'christmas' 'classical' 'classicmetal' 'club' 'colombian' 'comedy'\n",
      " 'conjazz' 'contemporary' 'country' 'cuban' 'dance' 'dancehall' 'dancepop'\n",
      " 'dark' 'death' 'deep' 'deutschrock' 'deutschspr' 'dirty' 'disco' 'dnb'\n",
      " 'documentary' 'downbeat' 'downtempo' 'drum' 'dub' 'dubstep' 'eastern'\n",
      " 'easy' 'electronic' 'electropop' 'emo' 'entehno' 'epicmetal' 'estrada'\n",
      " 'ethnic' 'eurofolk' 'european' 'experimental' 'extrememetal' 'fado'\n",
      " 'fairytail' 'film' 'fitness' 'flamenco' 'folk' 'folklore' 'folkmetal'\n",
      " 'folkrock' 'folktronica' 'forró' 'frankreich' 'französisch' 'french'\n",
      " 'funk' 'future' 'gangsta' 'garage' 'german' 'ghazal' 'gitarre' 'glitch'\n",
      " 'gospel' 'gothic' 'grime' 'grunge' 'gypsy' 'handsup' \"hard'n'heavy\"\n",
      " 'hardcore' 'hardstyle' 'hardtechno' 'hip' 'hip-hop' 'hiphop' 'historisch'\n",
      " 'holiday' 'hop' 'horror' 'house' 'hymn' 'idm' 'independent' 'indian'\n",
      " 'indie' 'indipop' 'industrial' 'inspirational' 'instrumental'\n",
      " 'international' 'irish' 'jam' 'japanese' 'jazz' 'jewish' 'jpop' 'jungle'\n",
      " 'k-pop' 'karadeniz' 'karaoke' 'kayokyoku' 'korean' 'laiko' 'latin'\n",
      " 'latino' 'leftfield' 'local' 'lounge' 'loungeelectronic' 'lovers'\n",
      " 'malaysian' 'mandopop' 'marschmusik' 'meditative' 'mediterranean'\n",
      " 'melodic' 'metal' 'metalcore' 'mexican' 'middle' 'minimal'\n",
      " 'miscellaneous' 'modern' 'mood' 'mpb' 'muslim' 'native' 'neoklassik'\n",
      " 'neue' 'new' 'newage' 'newwave' 'nu' 'nujazz' 'numetal' 'oceania' 'old'\n",
      " 'opera' 'orchestral' 'other' 'piano' 'podcasts' 'pop' 'popdance'\n",
      " 'popelectronic' 'popeurodance' 'poprussian' 'post' 'posthardcore'\n",
      " 'postrock' 'power' 'progmetal' 'progressive' 'psychedelic' 'punjabi'\n",
      " 'punk' 'quebecois' 'ragga' 'ram' 'rancheras' 'rap' 'rave' 'reggae'\n",
      " 'reggaeton' 'regional' 'relax' 'religious' 'retro' 'rhythm' 'rnb' 'rnr'\n",
      " 'rock' 'rockabilly' 'rockalternative' 'rockindie' 'rockother' 'romance'\n",
      " 'roots' 'ruspop' 'rusrap' 'rusrock' 'russian' 'salsa' 'samba' 'scenic'\n",
      " 'schlager' 'self' 'sertanejo' 'shanson' 'shoegazing' 'showtunes' 'singer'\n",
      " 'ska' 'skarock' 'slow' 'smooth' 'soft' 'soul' 'soulful' 'sound'\n",
      " 'soundtrack' 'southern' 'specialty' 'speech' 'spiritual' 'sport'\n",
      " 'stonerrock' 'surf' 'swing' 'synthpop' 'synthrock' 'sängerportrait'\n",
      " 'tango' 'tanzorchester' 'taraftar' 'tatar' 'tech' 'techno' 'teen'\n",
      " 'thrash' 'top' 'traditional' 'tradjazz' 'trance' 'tribal' 'trip'\n",
      " 'triphop' 'tropical' 'türk' 'türkçe' 'ukrrock' 'unknown' 'urban' 'uzbek'\n",
      " 'variété' 'vi' 'videogame' 'vocal' 'western' 'world' 'worldbeat' 'ïîï'\n",
      " 'электроника']\n"
     ]
    }
   ],
   "source": [
    "# просмотр уникальных отсортированных названий жанров\n",
    "print(df['genre'].sort_values().unique())"
   ]
  },
  {
   "cell_type": "markdown",
   "metadata": {
    "deletable": false,
    "editable": false,
    "id": "qej-Qmuo_Zct",
    "tags": [
     "start_task"
    ]
   },
   "source": [
    "**Задание 16**"
   ]
  },
  {
   "cell_type": "code",
   "execution_count": 16,
   "metadata": {
    "deletable": false,
    "id": "ErNDkmns_Zct"
   },
   "outputs": [
    {
     "name": "stdout",
     "output_type": "stream",
     "text": [
      "        user_id                              track            artist  \\\n",
      "0      FFB692EC                  Kamigata To Boots  The Mass Missile   \n",
      "1      55204538        Delayed Because of Accident  Andreas Rönnberg   \n",
      "2        20EC38                  Funiculì funiculà       Mario Lanza   \n",
      "3      A3DD03C9              Dragons in the Sunset        Fire + Ice   \n",
      "4      E2DC1FAE                        Soul People        Space Echo   \n",
      "...         ...                                ...               ...   \n",
      "61248  729CBB09                            My Name            McLean   \n",
      "61249  D08D4A55  Maybe One Day (feat. Black Spade)       Blu & Exile   \n",
      "61250  C5E3A0D5                          Jalopiina           unknown   \n",
      "61251  321D0506                      Freight Train     Chas McDevitt   \n",
      "61252  3A64EF84          Tell Me Sweet Little Lies      Monica Lopez   \n",
      "\n",
      "            genre              city      time        day  \n",
      "0            rock  Saint-Petersburg  20:28:33  Wednesday  \n",
      "1            rock            Moscow  14:07:09     Friday  \n",
      "2             pop  Saint-Petersburg  20:58:07  Wednesday  \n",
      "3            folk  Saint-Petersburg  08:37:09     Monday  \n",
      "4           dance            Moscow  08:34:34     Monday  \n",
      "...           ...               ...       ...        ...  \n",
      "61248         rnb            Moscow  13:32:28  Wednesday  \n",
      "61249      hiphop  Saint-Petersburg  10:00:00     Monday  \n",
      "61250  industrial            Moscow  20:09:26     Friday  \n",
      "61251        rock            Moscow  21:43:59     Friday  \n",
      "61252     country            Moscow  21:59:46     Friday  \n",
      "\n",
      "[61253 rows x 7 columns]\n"
     ]
    }
   ],
   "source": [
    "# устранение неявных дубликатов\n",
    "\n",
    "def replace_wrong_values(wrong_values, correct_value): \n",
    "    for wrong_value in wrong_values:\n",
    "        df['genre'] = df['genre'].replace(wrong_value, correct_value)\n",
    "        \n",
    "duplicates = ['hip', 'hop', 'hip-hop'] # список неправильных имён\n",
    "name = 'hiphop' # правильное имя\n",
    "replace_wrong_values(duplicates, name) # вызов функции, replace() внутри будет вызван 3 раза\n",
    "print(df) # датафрейм изменился, неявные дубликаты устранены "
   ]
  },
  {
   "cell_type": "markdown",
   "metadata": {
    "deletable": false,
    "editable": false,
    "id": "zQKF16_RG15m",
    "tags": [
     "start_task"
    ]
   },
   "source": [
    "**Задание 17**"
   ]
  },
  {
   "cell_type": "code",
   "execution_count": 17,
   "metadata": {
    "deletable": false,
    "id": "wvixALnFG15m"
   },
   "outputs": [
    {
     "name": "stdout",
     "output_type": "stream",
     "text": [
      "['acid' 'acoustic' 'action' 'adult' 'africa' 'afrikaans' 'alternative'\n",
      " 'alternativepunk' 'ambient' 'americana' 'animated' 'anime' 'arabesk'\n",
      " 'arabic' 'arena' 'argentinetango' 'art' 'audiobook' 'author' 'avantgarde'\n",
      " 'axé' 'baile' 'balkan' 'beats' 'bigroom' 'black' 'bluegrass' 'blues'\n",
      " 'bollywood' 'bossa' 'brazilian' 'breakbeat' 'breaks' 'broadway'\n",
      " 'cantautori' 'cantopop' 'canzone' 'caribbean' 'caucasian' 'celtic'\n",
      " 'chamber' 'chanson' 'children' 'chill' 'chinese' 'choral' 'christian'\n",
      " 'christmas' 'classical' 'classicmetal' 'club' 'colombian' 'comedy'\n",
      " 'conjazz' 'contemporary' 'country' 'cuban' 'dance' 'dancehall' 'dancepop'\n",
      " 'dark' 'death' 'deep' 'deutschrock' 'deutschspr' 'dirty' 'disco' 'dnb'\n",
      " 'documentary' 'downbeat' 'downtempo' 'drum' 'dub' 'dubstep' 'eastern'\n",
      " 'easy' 'electronic' 'electropop' 'emo' 'entehno' 'epicmetal' 'estrada'\n",
      " 'ethnic' 'eurofolk' 'european' 'experimental' 'extrememetal' 'fado'\n",
      " 'fairytail' 'film' 'fitness' 'flamenco' 'folk' 'folklore' 'folkmetal'\n",
      " 'folkrock' 'folktronica' 'forró' 'frankreich' 'französisch' 'french'\n",
      " 'funk' 'future' 'gangsta' 'garage' 'german' 'ghazal' 'gitarre' 'glitch'\n",
      " 'gospel' 'gothic' 'grime' 'grunge' 'gypsy' 'handsup' \"hard'n'heavy\"\n",
      " 'hardcore' 'hardstyle' 'hardtechno' 'hiphop' 'historisch' 'holiday'\n",
      " 'horror' 'house' 'hymn' 'idm' 'independent' 'indian' 'indie' 'indipop'\n",
      " 'industrial' 'inspirational' 'instrumental' 'international' 'irish' 'jam'\n",
      " 'japanese' 'jazz' 'jewish' 'jpop' 'jungle' 'k-pop' 'karadeniz' 'karaoke'\n",
      " 'kayokyoku' 'korean' 'laiko' 'latin' 'latino' 'leftfield' 'local'\n",
      " 'lounge' 'loungeelectronic' 'lovers' 'malaysian' 'mandopop' 'marschmusik'\n",
      " 'meditative' 'mediterranean' 'melodic' 'metal' 'metalcore' 'mexican'\n",
      " 'middle' 'minimal' 'miscellaneous' 'modern' 'mood' 'mpb' 'muslim'\n",
      " 'native' 'neoklassik' 'neue' 'new' 'newage' 'newwave' 'nu' 'nujazz'\n",
      " 'numetal' 'oceania' 'old' 'opera' 'orchestral' 'other' 'piano' 'podcasts'\n",
      " 'pop' 'popdance' 'popelectronic' 'popeurodance' 'poprussian' 'post'\n",
      " 'posthardcore' 'postrock' 'power' 'progmetal' 'progressive' 'psychedelic'\n",
      " 'punjabi' 'punk' 'quebecois' 'ragga' 'ram' 'rancheras' 'rap' 'rave'\n",
      " 'reggae' 'reggaeton' 'regional' 'relax' 'religious' 'retro' 'rhythm'\n",
      " 'rnb' 'rnr' 'rock' 'rockabilly' 'rockalternative' 'rockindie' 'rockother'\n",
      " 'romance' 'roots' 'ruspop' 'rusrap' 'rusrock' 'russian' 'salsa' 'samba'\n",
      " 'scenic' 'schlager' 'self' 'sertanejo' 'shanson' 'shoegazing' 'showtunes'\n",
      " 'singer' 'ska' 'skarock' 'slow' 'smooth' 'soft' 'soul' 'soulful' 'sound'\n",
      " 'soundtrack' 'southern' 'specialty' 'speech' 'spiritual' 'sport'\n",
      " 'stonerrock' 'surf' 'swing' 'synthpop' 'synthrock' 'sängerportrait'\n",
      " 'tango' 'tanzorchester' 'taraftar' 'tatar' 'tech' 'techno' 'teen'\n",
      " 'thrash' 'top' 'traditional' 'tradjazz' 'trance' 'tribal' 'trip'\n",
      " 'triphop' 'tropical' 'türk' 'türkçe' 'ukrrock' 'unknown' 'urban' 'uzbek'\n",
      " 'variété' 'vi' 'videogame' 'vocal' 'western' 'world' 'worldbeat' 'ïîï'\n",
      " 'электроника']\n"
     ]
    }
   ],
   "source": [
    "# проверка на отсутствие неявных дубликатов\n",
    "print(df['genre'].sort_values().unique())"
   ]
  },
  {
   "cell_type": "markdown",
   "metadata": {
    "deletable": false,
    "editable": false,
    "id": "jz6a9-7HQUDd"
   },
   "source": [
    "**Выводы**\n",
    "\n",
    "Предобработка обнаружила три проблемы в данных:\n",
    "\n",
    "- нарушения в стиле заголовков,\n",
    "- пропущенные значения,\n",
    "- дубликаты — явные и неявные.\n",
    "\n",
    "Вы исправили заголовки, чтобы упростить работу с таблицей. Без дубликатов исследование станет более точным.\n",
    "\n",
    "Пропущенные значения вы заменили на `'unknown'`. Ещё предстоит увидеть, не повредят ли исследованию пропуски в колонке `genre`.\n",
    "\n",
    "Теперь можно перейти к проверке гипотез."
   ]
  },
  {
   "cell_type": "markdown",
   "metadata": {
    "deletable": false,
    "editable": false,
    "id": "WttZHXH0SqKk"
   },
   "source": [
    "## Проверка гипотез"
   ]
  },
  {
   "cell_type": "markdown",
   "metadata": {
    "deletable": false,
    "editable": false,
    "id": "Im936VVi_Zcu"
   },
   "source": [
    "### Сравнение поведения пользователей двух столиц"
   ]
  },
  {
   "cell_type": "markdown",
   "metadata": {
    "deletable": false,
    "editable": false,
    "id": "nwt_MuaL_Zcu"
   },
   "source": [
    "Первая гипотеза утверждает, что пользователи по-разному слушают музыку в Москве и Санкт-Петербурге. Проверим это предположение по данным о трёх днях недели — понедельнике, среде и пятнице. Для этого:\n",
    "\n",
    "* Разделим пользователей Москвы и Санкт-Петербурга.\n",
    "* Сравним, сколько треков послушала каждая группа пользователей в понедельник, среду и пятницу.\n"
   ]
  },
  {
   "cell_type": "markdown",
   "metadata": {
    "deletable": false,
    "id": "8Dw_YMmT_Zcu",
    "tags": [
     "start_task"
    ]
   },
   "source": [
    "**Задание 18**\n",
    "\n"
   ]
  },
  {
   "cell_type": "code",
   "execution_count": 18,
   "metadata": {
    "deletable": false,
    "id": "0_Qs96oh_Zcu"
   },
   "outputs": [
    {
     "name": "stdout",
     "output_type": "stream",
     "text": [
      "city\n",
      "Moscow              42741\n",
      "Saint-Petersburg    18512\n",
      "Name: time, dtype: int64\n"
     ]
    }
   ],
   "source": [
    "# подсчёт прослушиваний в каждом городе\n",
    "count_proshl = df.groupby('city')['time'].count()\n",
    "print(count_proshl)"
   ]
  },
  {
   "cell_type": "markdown",
   "metadata": {
    "id": "dzli3w8o_Zcu",
    "tags": [
     "start_task"
    ]
   },
   "source": [
    "**Задание 19**\n"
   ]
  },
  {
   "cell_type": "code",
   "execution_count": 19,
   "metadata": {
    "deletable": false,
    "id": "uZMKjiJz_Zcu"
   },
   "outputs": [
    {
     "name": "stdout",
     "output_type": "stream",
     "text": [
      "day\n",
      "Friday       21840\n",
      "Monday       21354\n",
      "Wednesday    18059\n",
      "Name: time, dtype: int64\n"
     ]
    }
   ],
   "source": [
    "count_proshl_day = df.groupby('day')['time'].count()\n",
    "print(count_proshl_day)"
   ]
  },
  {
   "cell_type": "markdown",
   "metadata": {
    "deletable": false,
    "editable": false,
    "id": "POzs8bGa_Zcu",
    "tags": [
     "start_task"
    ]
   },
   "source": [
    "**Задание 20**"
   ]
  },
  {
   "cell_type": "code",
   "execution_count": 20,
   "metadata": {
    "deletable": false,
    "id": "Nz3GdQB1_Zcu"
   },
   "outputs": [],
   "source": [
    "def number_tracks(day, city):\n",
    "    track_list = df[df['day']== day]\n",
    "    track_list = track_list[track_list['city']== city]\n",
    "    track_list_count = track_list['user_id'].count()\n",
    "    return track_list_count"
   ]
  },
  {
   "cell_type": "markdown",
   "metadata": {
    "deletable": false,
    "editable": false,
    "id": "ytf7xFrFJQ2r",
    "tags": [
     "start_task"
    ]
   },
   "source": [
    "**Задание 21**"
   ]
  },
  {
   "cell_type": "code",
   "execution_count": 21,
   "metadata": {
    "deletable": false,
    "id": "rJcRATNQ_Zcu"
   },
   "outputs": [
    {
     "data": {
      "text/plain": [
       "15740"
      ]
     },
     "execution_count": 21,
     "metadata": {},
     "output_type": "execute_result"
    }
   ],
   "source": [
    "# количество прослушиваний в Москве по понедельникам\n",
    "number_tracks('Monday','Moscow')"
   ]
  },
  {
   "cell_type": "code",
   "execution_count": 22,
   "metadata": {
    "deletable": false,
    "id": "hq_ncZ5T_Zcu"
   },
   "outputs": [
    {
     "data": {
      "text/plain": [
       "5614"
      ]
     },
     "execution_count": 22,
     "metadata": {},
     "output_type": "execute_result"
    }
   ],
   "source": [
    "# количество прослушиваний в Санкт-Петербурге по понедельникам\n",
    "number_tracks('Monday', 'Saint-Petersburg')"
   ]
  },
  {
   "cell_type": "code",
   "execution_count": 23,
   "metadata": {
    "deletable": false,
    "id": "_NTy2VPU_Zcu"
   },
   "outputs": [
    {
     "data": {
      "text/plain": [
       "11056"
      ]
     },
     "execution_count": 23,
     "metadata": {},
     "output_type": "execute_result"
    }
   ],
   "source": [
    "# количество прослушиваний в Москве по средам\n",
    "number_tracks('Wednesday', 'Moscow')"
   ]
  },
  {
   "cell_type": "code",
   "execution_count": 24,
   "metadata": {
    "deletable": false,
    "id": "j2y3TAwo_Zcu"
   },
   "outputs": [
    {
     "data": {
      "text/plain": [
       "7003"
      ]
     },
     "execution_count": 24,
     "metadata": {},
     "output_type": "execute_result"
    }
   ],
   "source": [
    "# количество прослушиваний в Санкт-Петербурге по средам\n",
    "number_tracks('Wednesday', 'Saint-Petersburg')"
   ]
  },
  {
   "cell_type": "code",
   "execution_count": 25,
   "metadata": {
    "deletable": false,
    "id": "vYDw5u_K_Zcu"
   },
   "outputs": [
    {
     "data": {
      "text/plain": [
       "15945"
      ]
     },
     "execution_count": 25,
     "metadata": {},
     "output_type": "execute_result"
    }
   ],
   "source": [
    "# количество прослушиваний в Москве по пятницам\n",
    "number_tracks('Friday', 'Moscow')"
   ]
  },
  {
   "cell_type": "code",
   "execution_count": 26,
   "metadata": {
    "deletable": false,
    "id": "8_yzFtW3_Zcu"
   },
   "outputs": [
    {
     "data": {
      "text/plain": [
       "5895"
      ]
     },
     "execution_count": 26,
     "metadata": {},
     "output_type": "execute_result"
    }
   ],
   "source": [
    "# количество прослушиваний в Санкт-Петербурге по пятницам\n",
    "number_tracks('Friday', 'Saint-Petersburg')"
   ]
  },
  {
   "cell_type": "markdown",
   "metadata": {
    "deletable": false,
    "editable": false,
    "id": "7QXffbO-_Zcu",
    "tags": [
     "start_task"
    ]
   },
   "source": [
    "**Задание 22**"
   ]
  },
  {
   "cell_type": "code",
   "execution_count": 27,
   "metadata": {
    "deletable": false,
    "id": "APAcLpOr_Zcu"
   },
   "outputs": [
    {
     "name": "stdout",
     "output_type": "stream",
     "text": [
      "               city  monday  wednesday  friday\n",
      "0            Moscow   15740      11056   15945\n",
      "1  Saint-Petersburg    5614       7003    5895\n"
     ]
    }
   ],
   "source": [
    "data=[['Moscow',15740,11056, 15945], ['Saint-Petersburg',5614, 7003,5895 ]]\n",
    "columns = ['city', 'monday', 'wednesday', 'friday']\n",
    "info = pd.DataFrame(data=data, columns=columns)\n",
    "print(info)\n",
    "# создание таблицы с результатами\n",
    "\n",
    "# вывод таблицы на экран"
   ]
  },
  {
   "cell_type": "markdown",
   "metadata": {
    "deletable": false,
    "editable": false,
    "id": "-EgPIHYu_Zcu"
   },
   "source": [
    "**Выводы**\n",
    "\n",
    "Данные показывают разницу поведения пользователей:\n",
    "\n",
    "- В Москве пик прослушиваний приходится на понедельник и пятницу, а в среду заметен спад.\n",
    "- В Петербурге, наоборот, больше слушают музыку по средам. Активность в понедельник и пятницу здесь почти в равной мере уступает среде.\n",
    "\n",
    "Значит, данные говорят в пользу первой гипотезы."
   ]
  },
  {
   "cell_type": "markdown",
   "metadata": {
    "deletable": false,
    "editable": false,
    "id": "atZAxtq4_Zcu"
   },
   "source": [
    "### Музыка в начале и в конце недели"
   ]
  },
  {
   "cell_type": "markdown",
   "metadata": {
    "deletable": false,
    "editable": false,
    "id": "eXrQqXFH_Zcu"
   },
   "source": [
    "Согласно второй гипотезе, утром в понедельник в Москве преобладают одни жанры, а в Петербурге — другие. Так же и вечером пятницы преобладают разные жанры — в зависимости от города."
   ]
  },
  {
   "cell_type": "markdown",
   "metadata": {
    "deletable": false,
    "editable": false,
    "id": "S8UcW6Hw_Zcu",
    "tags": [
     "start_task"
    ]
   },
   "source": [
    "**Задание 23**"
   ]
  },
  {
   "cell_type": "code",
   "execution_count": 35,
   "metadata": {
    "deletable": false,
    "id": "qeaFfM_P_Zcu"
   },
   "outputs": [],
   "source": [
    "# получение таблицы moscow_general из тех строк таблицы df, для которых значение в столбце 'city' равно 'Moscow'\n",
    "moscow_general = df[df['city'] == 'Moscow']"
   ]
  },
  {
   "cell_type": "code",
   "execution_count": 36,
   "metadata": {
    "deletable": false,
    "id": "ORaVRKto_Zcu"
   },
   "outputs": [],
   "source": [
    "# получение таблицы spb_general из тех строк таблицы df, для которых значение в столбце 'city' равно 'Saint-Petersburg'\n",
    "spb_general = df[df['city'] == 'Saint-Petersburg']"
   ]
  },
  {
   "cell_type": "markdown",
   "metadata": {
    "deletable": false,
    "editable": false,
    "id": "MEJV-CX2_Zcu",
    "tags": [
     "start_task"
    ]
   },
   "source": [
    "**Задание 24**"
   ]
  },
  {
   "cell_type": "code",
   "execution_count": 33,
   "metadata": {
    "deletable": false,
    "id": "laJT9BYl_Zcu"
   },
   "outputs": [],
   "source": [
    "def genre_weekday(table, day, time1, time2):\n",
    "    genre_df =table[table['day']==day]\n",
    "    genre_df = genre_df[genre_df['time'] < time2]\n",
    "    genre_df = genre_df[genre_df['time'] > time1]\n",
    "    genre_df_grouped = genre_df.groupby('genre')['time'].count()# ваш код здесь\n",
    "    genre_df_sorted = genre_df_grouped.sort_values(ascending=False) # ваш код здесь\n",
    "    # вернём Series с 10 самыми популярными жанрами в указанный отрезок времени заданного дня\n",
    "    return genre_df_sorted[:10]\n",
    "\n",
    "def genre_weekday(table, day, time1, time2): # Объявление функции genre_weekday() с параметрами table, day, time1, time2,\n",
    "    genre_df = table[table['day'] == day]\n",
    "    genre_df = genre_df[genre_df['time'] > time1]\n",
    "    genre_df = genre_df[genre_df['time'] < time2]\n",
    "    genre_df_count = genre_df.groupby('genre')['time'].count()\n",
    "    genre_df_sorted =  genre_df_count.sort_values(ascending=False)\n",
    "    return genre_df_sorted[:10]"
   ]
  },
  {
   "cell_type": "markdown",
   "metadata": {
    "deletable": false,
    "editable": false,
    "id": "la2s2_PF_Zcu",
    "tags": [
     "start_task"
    ]
   },
   "source": [
    "**Задание 25**"
   ]
  },
  {
   "cell_type": "code",
   "execution_count": 39,
   "metadata": {
    "deletable": false,
    "id": "yz7itPUQ_Zcu"
   },
   "outputs": [
    {
     "data": {
      "text/plain": [
       "genre\n",
       "pop            781\n",
       "dance          549\n",
       "electronic     480\n",
       "rock           474\n",
       "hiphop         286\n",
       "ruspop         186\n",
       "world          181\n",
       "rusrap         175\n",
       "alternative    164\n",
       "unknown        161\n",
       "Name: time, dtype: int64"
      ]
     },
     "execution_count": 39,
     "metadata": {},
     "output_type": "execute_result"
    }
   ],
   "source": [
    "# вызов функции для утра понедельника в Москве (вместо df — таблица moscow_general)\n",
    "genre_weekday(moscow_general, 'Monday', '07:00' , '11:00')"
   ]
  },
  {
   "cell_type": "code",
   "execution_count": 41,
   "metadata": {
    "deletable": false,
    "id": "kwUcHPdy_Zcu"
   },
   "outputs": [
    {
     "data": {
      "text/plain": [
       "genre\n",
       "pop            218\n",
       "dance          182\n",
       "rock           162\n",
       "electronic     147\n",
       "hiphop          80\n",
       "ruspop          64\n",
       "alternative     58\n",
       "rusrap          55\n",
       "jazz            44\n",
       "classical       40\n",
       "Name: time, dtype: int64"
      ]
     },
     "execution_count": 41,
     "metadata": {},
     "output_type": "execute_result"
    }
   ],
   "source": [
    "# вызов функции для утра понедельника в Петербурге (вместо df — таблица spb_general)\n",
    "genre_weekday(spb_general, 'Monday', '07:00', '11:00')"
   ]
  },
  {
   "cell_type": "code",
   "execution_count": 42,
   "metadata": {
    "deletable": false,
    "id": "EzXVRE1o_Zcu"
   },
   "outputs": [
    {
     "data": {
      "text/plain": [
       "genre\n",
       "pop            713\n",
       "rock           517\n",
       "dance          495\n",
       "electronic     482\n",
       "hiphop         273\n",
       "world          208\n",
       "ruspop         170\n",
       "alternative    163\n",
       "classical      163\n",
       "rusrap         142\n",
       "Name: time, dtype: int64"
      ]
     },
     "execution_count": 42,
     "metadata": {},
     "output_type": "execute_result"
    }
   ],
   "source": [
    "# вызов функции для вечера пятницы в Москве\n",
    "genre_weekday(moscow_general, 'Friday', '17:00', '23:00')"
   ]
  },
  {
   "cell_type": "code",
   "execution_count": 43,
   "metadata": {
    "deletable": false,
    "id": "JZaEKu5v_Zcu"
   },
   "outputs": [
    {
     "data": {
      "text/plain": [
       "genre\n",
       "pop            256\n",
       "electronic     216\n",
       "rock           216\n",
       "dance          210\n",
       "hiphop          97\n",
       "alternative     63\n",
       "jazz            61\n",
       "classical       60\n",
       "rusrap          59\n",
       "world           54\n",
       "Name: time, dtype: int64"
      ]
     },
     "execution_count": 43,
     "metadata": {},
     "output_type": "execute_result"
    }
   ],
   "source": [
    "# вызов функции для вечера пятницы в Петербурге\n",
    "genre_weekday(spb_general, 'Friday', '17:00', '23:00')"
   ]
  },
  {
   "cell_type": "markdown",
   "metadata": {
    "deletable": false,
    "editable": false,
    "id": "wrCe4MNX_Zcu"
   },
   "source": [
    "**Выводы**\n",
    "\n",
    "Если сравнить топ-10 жанров в понедельник утром, можно сделать такие выводы:\n",
    "\n",
    "1. В Москве и Петербурге слушают похожую музыку. Единственное различие — в московский рейтинг вошёл жанр “world”, а в петербургский — джаз и классика.\n",
    "\n",
    "2. В Москве пропущенных значений оказалось так много, что значение `'unknown'` заняло десятое место среди самых популярных жанров. Значит, пропущенные значения занимают существенную долю в данных и угрожают достоверности исследования.\n",
    "\n",
    "Вечер пятницы не меняет эту картину. Некоторые жанры поднимаются немного выше, другие спускаются, но в целом топ-10 остаётся тем же самым.\n",
    "\n",
    "Таким образом, вторая гипотеза подтвердилась лишь частично:\n",
    "* Пользователи слушают похожую музыку в начале недели и в конце.\n",
    "* Разница между Москвой и Петербургом не слишком выражена. В Москве чаще слушают русскую популярную музыку, в Петербурге — джаз.\n",
    "\n",
    "Однако пропуски в данных ставят под сомнение этот результат. В Москве их так много, что рейтинг топ-10 мог бы выглядеть иначе, если бы не утерянные  данные о жанрах."
   ]
  },
  {
   "cell_type": "markdown",
   "metadata": {
    "deletable": false,
    "editable": false,
    "id": "JolODAqr_Zcu"
   },
   "source": [
    "### Жанровые предпочтения в Москве и Петербурге\n",
    "\n",
    "Гипотеза: Петербург — столица рэпа, музыку этого жанра там слушают чаще, чем в Москве.  А Москва — город контрастов, в котором, тем не менее, преобладает поп-музыка."
   ]
  },
  {
   "cell_type": "markdown",
   "metadata": {
    "deletable": false,
    "editable": false,
    "id": "DlegSvaT_Zcu",
    "tags": [
     "start_task"
    ]
   },
   "source": [
    "**Задание 26**"
   ]
  },
  {
   "cell_type": "code",
   "execution_count": 44,
   "metadata": {
    "deletable": false,
    "id": "r19lIPke_Zcu"
   },
   "outputs": [
    {
     "name": "stdout",
     "output_type": "stream",
     "text": [
      "genre\n",
      "pop            5892\n",
      "dance          4435\n",
      "rock           3965\n",
      "electronic     3786\n",
      "hiphop         2096\n",
      "               ... \n",
      "neoklassik        1\n",
      "mood              1\n",
      "metalcore         1\n",
      "marschmusik       1\n",
      "ïîï               1\n",
      "Name: genre, Length: 267, dtype: int64\n"
     ]
    }
   ],
   "source": [
    "# одной строкой: группировка таблицы moscow_general по столбцу 'genre', выбор столбца `genre`, подсчёт числа значений 'genre' методом count(), сохранение в moscow_genres\n",
    "# сортировка получившегося Series в порядке убывания и сохранение обратно в moscow_genres\n",
    "predv = moscow_general.groupby('genre')['genre'].count()\n",
    "moscow_genres =  predv.sort_values(ascending=False)\n"
   ]
  },
  {
   "cell_type": "markdown",
   "metadata": {
    "deletable": false,
    "editable": false,
    "id": "6kMuomxTiIr8",
    "tags": [
     "start_task"
    ]
   },
   "source": [
    "**Задание 27**"
   ]
  },
  {
   "cell_type": "code",
   "execution_count": 45,
   "metadata": {
    "deletable": false,
    "id": "WhCSooF8_Zcv"
   },
   "outputs": [
    {
     "data": {
      "text/plain": [
       "genre\n",
       "pop            5892\n",
       "dance          4435\n",
       "rock           3965\n",
       "electronic     3786\n",
       "hiphop         2096\n",
       "classical      1616\n",
       "world          1432\n",
       "alternative    1379\n",
       "ruspop         1372\n",
       "rusrap         1161\n",
       "Name: genre, dtype: int64"
      ]
     },
     "execution_count": 45,
     "metadata": {},
     "output_type": "execute_result"
    }
   ],
   "source": [
    "# просмотр первых 10 строк moscow_genres\n",
    "moscow_genres.head(10)"
   ]
  },
  {
   "cell_type": "markdown",
   "metadata": {
    "deletable": false,
    "editable": false,
    "id": "cnPG2vnN_Zcv",
    "tags": [
     "start_task"
    ]
   },
   "source": [
    "**Задание 28**"
   ]
  },
  {
   "cell_type": "code",
   "execution_count": 46,
   "metadata": {
    "deletable": false,
    "id": "gluLIpE7_Zcv"
   },
   "outputs": [],
   "source": [
    "# одной строкой: группировка таблицы spb_general по столбцу 'genre', выбор столбца `genre`, подсчёт числа значений 'genre' методом count(), сохранение в spb_genres\n",
    "# сортировка получившегося Series в порядке убывания и сохранение обратно в spb_genres\n",
    "predv_spb = spb_general.groupby('genre')['genre'].count()\n",
    "spb_genres =  predv_spb.sort_values(ascending=False)"
   ]
  },
  {
   "cell_type": "markdown",
   "metadata": {
    "deletable": false,
    "editable": false,
    "id": "5Doha_ODgyQ8",
    "tags": [
     "start_task"
    ]
   },
   "source": [
    "**Задание 29**"
   ]
  },
  {
   "cell_type": "code",
   "execution_count": 47,
   "metadata": {
    "deletable": false,
    "id": "uaGJHjVU_Zcv"
   },
   "outputs": [
    {
     "data": {
      "text/plain": [
       "genre\n",
       "pop            2431\n",
       "dance          1932\n",
       "rock           1879\n",
       "electronic     1736\n",
       "hiphop          960\n",
       "alternative     649\n",
       "classical       646\n",
       "rusrap          564\n",
       "ruspop          538\n",
       "world           515\n",
       "Name: genre, dtype: int64"
      ]
     },
     "execution_count": 47,
     "metadata": {},
     "output_type": "execute_result"
    }
   ],
   "source": [
    "# просмотр первых 10 строк spb_genres\n",
    "spb_genres.head(10)"
   ]
  },
  {
   "cell_type": "markdown",
   "metadata": {
    "deletable": false,
    "editable": false,
    "id": "RY51YJYu_Zcv"
   },
   "source": [
    "**Выводы**"
   ]
  },
  {
   "cell_type": "markdown",
   "metadata": {
    "deletable": false,
    "editable": false,
    "id": "nVhnJEm__Zcv"
   },
   "source": [
    "Гипотеза частично подтвердилась:\n",
    "* Поп-музыка — самый популярный жанр в Москве, как и предполагала гипотеза. Более того, в топ-10 жанров встречается близкий жанр — русская популярная музыка.\n",
    "* Вопреки ожиданиям, рэп одинаково популярен в Москве и Петербурге.\n"
   ]
  },
  {
   "cell_type": "markdown",
   "metadata": {
    "deletable": false,
    "editable": false,
    "id": "ykKQ0N65_Zcv"
   },
   "source": [
    "## Итоги исследования"
   ]
  },
  {
   "cell_type": "markdown",
   "metadata": {
    "deletable": false,
    "editable": false,
    "id": "tjUwbHb3_Zcv"
   },
   "source": [
    "Вы проверили три гипотезы и установили:\n",
    "\n",
    "1. День недели по-разному влияет на активность пользователей в Москве и Петербурге.\n",
    "\n",
    "Первая гипотеза полностью подтвердилась.\n",
    "\n",
    "2. Музыкальные предпочтения не сильно меняются в течение недели — будь то Москва или Петербург. Небольшие различия заметны в начале недели, по понедельникам:\n",
    "* в Москве слушают музыку жанра “world”,\n",
    "* в Петербурге — джаз и классику.\n",
    "\n",
    "Таким образом, вторая гипотеза подтвердилась лишь отчасти. Этот результат мог оказаться иным, если бы не пропуски в данных.\n",
    "\n",
    "3. Во вкусах пользователей Москвы и Петербурга больше общего, чем различий. Вопреки ожиданиям, предпочтения жанров в Петербурге напоминают московские.\n",
    "\n",
    "Третья гипотеза не подтвердилась. Если различия в предпочтениях и существуют, на основной массе пользователей они незаметны.\n",
    "\n",
    "**На практике исследования содержат проверки статистических гипотез.**\n",
    "Из части данных одного сервиса невозможно сделать какие-то выводы о всех пользователях сервиса без методов статистики.\n",
    "Проверки статистических гипотез покажут, насколько они достоверны, исходя из имеющихся данных.\n",
    "С методами проверок гипотез вы ещё познакомитесь в следующих темах."
   ]
  }
 ],
 "metadata": {
  "ExecuteTimeLog": [
   {
    "duration": 424,
    "start_time": "2024-02-03T21:01:18.235Z"
   },
   {
    "duration": 58,
    "start_time": "2024-02-03T21:02:32.723Z"
   },
   {
    "duration": 73,
    "start_time": "2024-02-03T21:02:49.358Z"
   },
   {
    "duration": 74,
    "start_time": "2024-02-03T21:03:03.358Z"
   },
   {
    "duration": 111,
    "start_time": "2024-02-03T21:03:12.036Z"
   },
   {
    "duration": 183,
    "start_time": "2024-02-03T21:04:55.003Z"
   },
   {
    "duration": 16,
    "start_time": "2024-02-03T21:05:24.356Z"
   },
   {
    "duration": 42,
    "start_time": "2024-02-03T21:06:36.164Z"
   },
   {
    "duration": 2,
    "start_time": "2024-02-03T21:14:36.635Z"
   },
   {
    "duration": 4,
    "start_time": "2024-02-03T21:15:16.514Z"
   },
   {
    "duration": 14,
    "start_time": "2024-02-03T21:22:27.117Z"
   },
   {
    "duration": 3,
    "start_time": "2024-02-03T21:22:53.467Z"
   },
   {
    "duration": 14,
    "start_time": "2024-02-03T21:25:07.122Z"
   },
   {
    "duration": 7,
    "start_time": "2024-02-03T21:25:56.795Z"
   },
   {
    "duration": 25,
    "start_time": "2024-02-03T21:26:31.693Z"
   },
   {
    "duration": 85,
    "start_time": "2024-02-03T21:30:53.168Z"
   },
   {
    "duration": 6,
    "start_time": "2024-02-03T21:31:02.620Z"
   },
   {
    "duration": 6,
    "start_time": "2024-02-03T21:31:17.606Z"
   },
   {
    "duration": 8,
    "start_time": "2024-02-03T21:32:09.064Z"
   },
   {
    "duration": 1083,
    "start_time": "2024-02-03T21:36:37.831Z"
   },
   {
    "duration": 1190,
    "start_time": "2024-02-03T21:43:00.377Z"
   },
   {
    "duration": 3,
    "start_time": "2024-02-03T21:45:59.658Z"
   },
   {
    "duration": 14,
    "start_time": "2024-02-03T21:49:43.910Z"
   },
   {
    "duration": 6,
    "start_time": "2024-02-03T21:51:51.255Z"
   },
   {
    "duration": 58,
    "start_time": "2024-02-03T21:54:26.597Z"
   },
   {
    "duration": 181,
    "start_time": "2024-02-03T21:55:18.928Z"
   },
   {
    "duration": 115,
    "start_time": "2024-02-03T21:55:25.889Z"
   },
   {
    "duration": 45,
    "start_time": "2024-02-04T08:02:33.829Z"
   },
   {
    "duration": 5,
    "start_time": "2024-02-04T08:02:52.316Z"
   },
   {
    "duration": 376,
    "start_time": "2024-02-04T08:02:59.605Z"
   },
   {
    "duration": 454,
    "start_time": "2024-02-04T08:03:02.291Z"
   },
   {
    "duration": 13,
    "start_time": "2024-02-04T08:03:10.728Z"
   },
   {
    "duration": 30,
    "start_time": "2024-02-04T08:03:15.222Z"
   },
   {
    "duration": 18,
    "start_time": "2024-02-04T08:03:17.521Z"
   },
   {
    "duration": 25,
    "start_time": "2024-02-04T08:05:53.422Z"
   },
   {
    "duration": 28,
    "start_time": "2024-02-04T08:43:44.616Z"
   },
   {
    "duration": 7,
    "start_time": "2024-02-04T08:44:04.496Z"
   },
   {
    "duration": 63,
    "start_time": "2024-02-04T08:44:27.248Z"
   },
   {
    "duration": 67,
    "start_time": "2024-02-04T08:46:44.861Z"
   },
   {
    "duration": 53,
    "start_time": "2024-02-04T08:47:15.874Z"
   },
   {
    "duration": 12,
    "start_time": "2024-02-04T08:48:42.896Z"
   },
   {
    "duration": 11,
    "start_time": "2024-02-04T08:50:14.272Z"
   },
   {
    "duration": 5,
    "start_time": "2024-02-04T08:51:59.472Z"
   },
   {
    "duration": 11,
    "start_time": "2024-02-04T08:53:37.484Z"
   },
   {
    "duration": 10,
    "start_time": "2024-02-04T08:55:49.332Z"
   },
   {
    "duration": 12,
    "start_time": "2024-02-04T08:56:44.381Z"
   },
   {
    "duration": 54,
    "start_time": "2024-02-04T08:56:55.656Z"
   },
   {
    "duration": 64,
    "start_time": "2024-02-04T08:56:58.577Z"
   },
   {
    "duration": 52,
    "start_time": "2024-02-04T08:57:01.372Z"
   },
   {
    "duration": 22,
    "start_time": "2024-02-04T08:57:07.162Z"
   },
   {
    "duration": 18,
    "start_time": "2024-02-04T08:57:11.335Z"
   },
   {
    "duration": 24,
    "start_time": "2024-02-04T08:57:16.047Z"
   },
   {
    "duration": 23,
    "start_time": "2024-02-04T08:57:19.950Z"
   },
   {
    "duration": 347,
    "start_time": "2024-02-04T08:57:38.432Z"
   },
   {
    "duration": 169,
    "start_time": "2024-02-04T08:57:40.570Z"
   },
   {
    "duration": 15,
    "start_time": "2024-02-04T08:57:43.030Z"
   },
   {
    "duration": 28,
    "start_time": "2024-02-04T08:57:46.919Z"
   },
   {
    "duration": 3,
    "start_time": "2024-02-04T08:57:53.264Z"
   },
   {
    "duration": 16,
    "start_time": "2024-02-04T08:57:56.390Z"
   },
   {
    "duration": 3,
    "start_time": "2024-02-04T08:57:58.337Z"
   },
   {
    "duration": 39,
    "start_time": "2024-02-04T08:58:01.281Z"
   },
   {
    "duration": 18,
    "start_time": "2024-02-04T08:58:04.707Z"
   },
   {
    "duration": 24,
    "start_time": "2024-02-04T08:58:06.826Z"
   },
   {
    "duration": 62,
    "start_time": "2024-02-04T08:58:12.973Z"
   },
   {
    "duration": 80,
    "start_time": "2024-02-04T08:58:16.339Z"
   },
   {
    "duration": 58,
    "start_time": "2024-02-04T08:58:18.868Z"
   },
   {
    "duration": 62,
    "start_time": "2024-02-04T09:01:34.371Z"
   },
   {
    "duration": 7,
    "start_time": "2024-02-04T09:01:44.815Z"
   },
   {
    "duration": 40,
    "start_time": "2024-02-04T09:01:55.883Z"
   },
   {
    "duration": 41,
    "start_time": "2024-02-04T09:02:14.255Z"
   },
   {
    "duration": 41,
    "start_time": "2024-02-04T09:02:44.483Z"
   },
   {
    "duration": 60,
    "start_time": "2024-02-04T09:08:16.484Z"
   },
   {
    "duration": 14,
    "start_time": "2024-02-04T09:08:54.600Z"
   },
   {
    "duration": 6,
    "start_time": "2024-02-04T09:30:59.516Z"
   },
   {
    "duration": 40,
    "start_time": "2024-02-04T09:31:31.796Z"
   },
   {
    "duration": 10,
    "start_time": "2024-02-04T09:44:59.188Z"
   },
   {
    "duration": 5,
    "start_time": "2024-02-04T09:45:29.529Z"
   },
   {
    "duration": 3,
    "start_time": "2024-02-04T09:45:35.718Z"
   },
   {
    "duration": 15,
    "start_time": "2024-02-04T09:45:39.655Z"
   },
   {
    "duration": 299,
    "start_time": "2024-02-04T09:47:45.147Z"
   },
   {
    "duration": 12,
    "start_time": "2024-02-04T09:48:24.676Z"
   },
   {
    "duration": 3,
    "start_time": "2024-02-04T09:50:14.903Z"
   },
   {
    "duration": 11,
    "start_time": "2024-02-04T09:50:39.120Z"
   },
   {
    "duration": 9,
    "start_time": "2024-02-04T09:57:43.719Z"
   },
   {
    "duration": 10,
    "start_time": "2024-02-04T09:58:40.842Z"
   },
   {
    "duration": 10,
    "start_time": "2024-02-04T09:59:07.827Z"
   },
   {
    "duration": 11,
    "start_time": "2024-02-04T10:13:16.737Z"
   },
   {
    "duration": 85,
    "start_time": "2024-02-04T11:58:59.516Z"
   },
   {
    "duration": 79,
    "start_time": "2024-02-04T11:59:21.185Z"
   },
   {
    "duration": 86,
    "start_time": "2024-02-04T12:00:44.074Z"
   },
   {
    "duration": 65,
    "start_time": "2024-02-04T12:01:00.550Z"
   },
   {
    "duration": 9,
    "start_time": "2024-02-04T13:52:21.532Z"
   },
   {
    "duration": 4,
    "start_time": "2024-02-04T14:41:21.501Z"
   },
   {
    "duration": 3,
    "start_time": "2024-02-04T14:43:32.144Z"
   },
   {
    "duration": 4,
    "start_time": "2024-02-04T14:43:57.032Z"
   },
   {
    "duration": 3,
    "start_time": "2024-02-04T14:44:33.861Z"
   },
   {
    "duration": 67,
    "start_time": "2024-02-04T14:45:09.247Z"
   },
   {
    "duration": 3,
    "start_time": "2024-02-04T14:49:48.674Z"
   },
   {
    "duration": 758,
    "start_time": "2024-02-04T14:49:51.090Z"
   },
   {
    "duration": 3,
    "start_time": "2024-02-04T14:53:49.170Z"
   },
   {
    "duration": 693,
    "start_time": "2024-02-04T14:53:52.114Z"
   },
   {
    "duration": 4,
    "start_time": "2024-02-04T14:57:30.362Z"
   },
   {
    "duration": 1351,
    "start_time": "2024-02-04T14:57:32.194Z"
   },
   {
    "duration": 4,
    "start_time": "2024-02-04T14:58:29.192Z"
   },
   {
    "duration": 1327,
    "start_time": "2024-02-04T14:58:31.732Z"
   },
   {
    "duration": 3,
    "start_time": "2024-02-04T15:06:34.135Z"
   },
   {
    "duration": 3,
    "start_time": "2024-02-04T15:06:52.097Z"
   },
   {
    "duration": 1433,
    "start_time": "2024-02-04T15:06:56.594Z"
   },
   {
    "duration": 1360,
    "start_time": "2024-02-04T15:17:56.315Z"
   },
   {
    "duration": 4,
    "start_time": "2024-02-04T15:19:58.487Z"
   },
   {
    "duration": 1818,
    "start_time": "2024-02-04T15:20:00.910Z"
   },
   {
    "duration": 4,
    "start_time": "2024-02-04T15:26:31.420Z"
   },
   {
    "duration": 1405,
    "start_time": "2024-02-04T15:26:33.413Z"
   },
   {
    "duration": 3,
    "start_time": "2024-02-04T15:44:13.230Z"
   },
   {
    "duration": 1445,
    "start_time": "2024-02-04T15:44:17.958Z"
   },
   {
    "duration": 1344,
    "start_time": "2024-02-04T15:44:48.613Z"
   },
   {
    "duration": 1328,
    "start_time": "2024-02-04T15:47:52.739Z"
   },
   {
    "duration": 1348,
    "start_time": "2024-02-04T15:47:55.479Z"
   },
   {
    "duration": 1323,
    "start_time": "2024-02-04T15:48:10.086Z"
   },
   {
    "duration": 1269,
    "start_time": "2024-02-04T15:48:23.781Z"
   },
   {
    "duration": 6,
    "start_time": "2024-02-04T16:06:21.922Z"
   },
   {
    "duration": 12,
    "start_time": "2024-02-04T16:06:32.932Z"
   },
   {
    "duration": 7,
    "start_time": "2024-02-04T16:21:53.488Z"
   },
   {
    "duration": 8,
    "start_time": "2024-02-04T16:23:14.515Z"
   },
   {
    "duration": 6,
    "start_time": "2024-02-04T16:24:07.561Z"
   },
   {
    "duration": 4,
    "start_time": "2024-02-04T16:27:52.760Z"
   },
   {
    "duration": 4,
    "start_time": "2024-02-04T16:35:18.977Z"
   },
   {
    "duration": 4,
    "start_time": "2024-02-04T16:35:22.501Z"
   },
   {
    "duration": 406,
    "start_time": "2024-02-04T16:36:06.404Z"
   },
   {
    "duration": 199,
    "start_time": "2024-02-04T16:36:06.812Z"
   },
   {
    "duration": 18,
    "start_time": "2024-02-04T16:36:07.013Z"
   },
   {
    "duration": 49,
    "start_time": "2024-02-04T16:36:07.032Z"
   },
   {
    "duration": 3,
    "start_time": "2024-02-04T16:36:07.084Z"
   },
   {
    "duration": 7,
    "start_time": "2024-02-04T16:36:07.088Z"
   },
   {
    "duration": 11,
    "start_time": "2024-02-04T16:36:07.097Z"
   },
   {
    "duration": 4,
    "start_time": "2024-02-04T16:36:07.110Z"
   },
   {
    "duration": 28,
    "start_time": "2024-02-04T16:36:07.115Z"
   },
   {
    "duration": 50,
    "start_time": "2024-02-04T16:36:07.145Z"
   },
   {
    "duration": 28,
    "start_time": "2024-02-04T16:36:07.197Z"
   },
   {
    "duration": 112,
    "start_time": "2024-02-04T16:36:07.227Z"
   },
   {
    "duration": 98,
    "start_time": "2024-02-04T16:36:07.340Z"
   },
   {
    "duration": 78,
    "start_time": "2024-02-04T16:36:07.441Z"
   },
   {
    "duration": 44,
    "start_time": "2024-02-04T16:36:07.521Z"
   },
   {
    "duration": 29,
    "start_time": "2024-02-04T16:36:07.566Z"
   },
   {
    "duration": 45,
    "start_time": "2024-02-04T16:36:07.597Z"
   },
   {
    "duration": 36,
    "start_time": "2024-02-04T16:36:07.644Z"
   },
   {
    "duration": 12,
    "start_time": "2024-02-04T16:36:07.682Z"
   },
   {
    "duration": 10,
    "start_time": "2024-02-04T16:36:07.695Z"
   },
   {
    "duration": 26,
    "start_time": "2024-02-04T16:36:07.707Z"
   },
   {
    "duration": 23,
    "start_time": "2024-02-04T16:36:07.734Z"
   },
   {
    "duration": 47,
    "start_time": "2024-02-04T16:36:07.758Z"
   },
   {
    "duration": 19,
    "start_time": "2024-02-04T16:36:07.807Z"
   },
   {
    "duration": 20,
    "start_time": "2024-02-04T16:36:07.828Z"
   },
   {
    "duration": 40,
    "start_time": "2024-02-04T16:36:07.850Z"
   },
   {
    "duration": 6,
    "start_time": "2024-02-04T16:36:07.892Z"
   },
   {
    "duration": 4,
    "start_time": "2024-02-04T16:36:07.900Z"
   },
   {
    "duration": 6,
    "start_time": "2024-02-04T16:36:07.906Z"
   },
   {
    "duration": 56,
    "start_time": "2024-02-04T16:36:07.914Z"
   },
   {
    "duration": 0,
    "start_time": "2024-02-04T16:36:07.972Z"
   },
   {
    "duration": 0,
    "start_time": "2024-02-04T16:36:07.973Z"
   },
   {
    "duration": 0,
    "start_time": "2024-02-04T16:36:07.974Z"
   },
   {
    "duration": 0,
    "start_time": "2024-02-04T16:36:07.976Z"
   },
   {
    "duration": 0,
    "start_time": "2024-02-04T16:36:07.977Z"
   },
   {
    "duration": 0,
    "start_time": "2024-02-04T16:36:07.979Z"
   },
   {
    "duration": 0,
    "start_time": "2024-02-04T16:36:07.981Z"
   },
   {
    "duration": 0,
    "start_time": "2024-02-04T16:36:07.982Z"
   },
   {
    "duration": 4,
    "start_time": "2024-02-04T16:36:59.361Z"
   },
   {
    "duration": 7,
    "start_time": "2024-02-04T16:40:40.612Z"
   },
   {
    "duration": 6,
    "start_time": "2024-02-04T16:41:39.609Z"
   },
   {
    "duration": 397,
    "start_time": "2024-02-04T16:58:05.511Z"
   },
   {
    "duration": 214,
    "start_time": "2024-02-04T16:58:05.910Z"
   },
   {
    "duration": 18,
    "start_time": "2024-02-04T16:58:06.126Z"
   },
   {
    "duration": 46,
    "start_time": "2024-02-04T16:58:06.146Z"
   },
   {
    "duration": 2,
    "start_time": "2024-02-04T16:58:06.194Z"
   },
   {
    "duration": 7,
    "start_time": "2024-02-04T16:58:06.197Z"
   },
   {
    "duration": 12,
    "start_time": "2024-02-04T16:58:06.206Z"
   },
   {
    "duration": 13,
    "start_time": "2024-02-04T16:58:06.220Z"
   },
   {
    "duration": 46,
    "start_time": "2024-02-04T16:58:06.235Z"
   },
   {
    "duration": 22,
    "start_time": "2024-02-04T16:58:06.283Z"
   },
   {
    "duration": 27,
    "start_time": "2024-02-04T16:58:06.307Z"
   },
   {
    "duration": 89,
    "start_time": "2024-02-04T16:58:06.335Z"
   },
   {
    "duration": 95,
    "start_time": "2024-02-04T16:58:06.426Z"
   },
   {
    "duration": 80,
    "start_time": "2024-02-04T16:58:06.522Z"
   },
   {
    "duration": 45,
    "start_time": "2024-02-04T16:58:06.603Z"
   },
   {
    "duration": 32,
    "start_time": "2024-02-04T16:58:06.650Z"
   },
   {
    "duration": 44,
    "start_time": "2024-02-04T16:58:06.684Z"
   },
   {
    "duration": 13,
    "start_time": "2024-02-04T16:58:06.730Z"
   },
   {
    "duration": 36,
    "start_time": "2024-02-04T16:58:06.746Z"
   },
   {
    "duration": 4,
    "start_time": "2024-02-04T16:58:06.783Z"
   },
   {
    "duration": 24,
    "start_time": "2024-02-04T16:58:06.789Z"
   },
   {
    "duration": 16,
    "start_time": "2024-02-04T16:58:06.814Z"
   },
   {
    "duration": 17,
    "start_time": "2024-02-04T16:58:06.832Z"
   },
   {
    "duration": 43,
    "start_time": "2024-02-04T16:58:06.850Z"
   },
   {
    "duration": 27,
    "start_time": "2024-02-04T16:58:06.895Z"
   },
   {
    "duration": 20,
    "start_time": "2024-02-04T16:58:06.923Z"
   },
   {
    "duration": 7,
    "start_time": "2024-02-04T16:58:06.944Z"
   },
   {
    "duration": 31,
    "start_time": "2024-02-04T16:58:06.954Z"
   },
   {
    "duration": 15,
    "start_time": "2024-02-04T16:58:06.987Z"
   },
   {
    "duration": 56,
    "start_time": "2024-02-04T16:58:07.003Z"
   },
   {
    "duration": 0,
    "start_time": "2024-02-04T16:58:07.060Z"
   },
   {
    "duration": 0,
    "start_time": "2024-02-04T16:58:07.061Z"
   },
   {
    "duration": 0,
    "start_time": "2024-02-04T16:58:07.062Z"
   },
   {
    "duration": 0,
    "start_time": "2024-02-04T16:58:07.063Z"
   },
   {
    "duration": 0,
    "start_time": "2024-02-04T16:58:07.064Z"
   },
   {
    "duration": 0,
    "start_time": "2024-02-04T16:58:07.065Z"
   },
   {
    "duration": 0,
    "start_time": "2024-02-04T16:58:07.065Z"
   },
   {
    "duration": 0,
    "start_time": "2024-02-04T16:58:07.066Z"
   },
   {
    "duration": 5,
    "start_time": "2024-02-04T17:11:38.358Z"
   },
   {
    "duration": 4,
    "start_time": "2024-02-04T17:11:45.664Z"
   },
   {
    "duration": 66,
    "start_time": "2024-02-04T17:16:05.570Z"
   },
   {
    "duration": 419,
    "start_time": "2024-02-04T17:16:50.073Z"
   },
   {
    "duration": 191,
    "start_time": "2024-02-04T17:16:50.494Z"
   },
   {
    "duration": 18,
    "start_time": "2024-02-04T17:16:50.687Z"
   },
   {
    "duration": 40,
    "start_time": "2024-02-04T17:16:50.706Z"
   },
   {
    "duration": 3,
    "start_time": "2024-02-04T17:16:50.749Z"
   },
   {
    "duration": 17,
    "start_time": "2024-02-04T17:16:50.755Z"
   },
   {
    "duration": 14,
    "start_time": "2024-02-04T17:16:50.780Z"
   },
   {
    "duration": 8,
    "start_time": "2024-02-04T17:16:50.795Z"
   },
   {
    "duration": 35,
    "start_time": "2024-02-04T17:16:50.805Z"
   },
   {
    "duration": 44,
    "start_time": "2024-02-04T17:16:50.842Z"
   },
   {
    "duration": 35,
    "start_time": "2024-02-04T17:16:50.888Z"
   },
   {
    "duration": 78,
    "start_time": "2024-02-04T17:16:50.925Z"
   },
   {
    "duration": 94,
    "start_time": "2024-02-04T17:16:51.004Z"
   },
   {
    "duration": 61,
    "start_time": "2024-02-04T17:16:51.102Z"
   },
   {
    "duration": 54,
    "start_time": "2024-02-04T17:16:51.165Z"
   },
   {
    "duration": 15,
    "start_time": "2024-02-04T17:16:51.221Z"
   },
   {
    "duration": 58,
    "start_time": "2024-02-04T17:16:51.238Z"
   },
   {
    "duration": 11,
    "start_time": "2024-02-04T17:16:51.298Z"
   },
   {
    "duration": 28,
    "start_time": "2024-02-04T17:16:51.310Z"
   },
   {
    "duration": 3,
    "start_time": "2024-02-04T17:16:51.339Z"
   },
   {
    "duration": 19,
    "start_time": "2024-02-04T17:16:51.343Z"
   },
   {
    "duration": 23,
    "start_time": "2024-02-04T17:16:51.363Z"
   },
   {
    "duration": 15,
    "start_time": "2024-02-04T17:16:51.387Z"
   },
   {
    "duration": 13,
    "start_time": "2024-02-04T17:16:51.404Z"
   },
   {
    "duration": 18,
    "start_time": "2024-02-04T17:16:51.418Z"
   },
   {
    "duration": 43,
    "start_time": "2024-02-04T17:16:51.438Z"
   },
   {
    "duration": 6,
    "start_time": "2024-02-04T17:16:51.483Z"
   },
   {
    "duration": 15,
    "start_time": "2024-02-04T17:16:51.491Z"
   },
   {
    "duration": 13,
    "start_time": "2024-02-04T17:16:51.508Z"
   },
   {
    "duration": 8,
    "start_time": "2024-02-04T17:16:51.523Z"
   },
   {
    "duration": 77,
    "start_time": "2024-02-04T17:16:51.533Z"
   },
   {
    "duration": 0,
    "start_time": "2024-02-04T17:16:51.612Z"
   },
   {
    "duration": 0,
    "start_time": "2024-02-04T17:16:51.613Z"
   },
   {
    "duration": 0,
    "start_time": "2024-02-04T17:16:51.614Z"
   },
   {
    "duration": 0,
    "start_time": "2024-02-04T17:16:51.615Z"
   },
   {
    "duration": 0,
    "start_time": "2024-02-04T17:16:51.616Z"
   },
   {
    "duration": 0,
    "start_time": "2024-02-04T17:16:51.617Z"
   },
   {
    "duration": 0,
    "start_time": "2024-02-04T17:16:51.618Z"
   },
   {
    "duration": 9,
    "start_time": "2024-02-04T17:17:08.209Z"
   },
   {
    "duration": 7,
    "start_time": "2024-02-04T17:17:29.464Z"
   },
   {
    "duration": 65,
    "start_time": "2024-02-04T17:18:21.721Z"
   },
   {
    "duration": 385,
    "start_time": "2024-02-04T17:19:55.429Z"
   },
   {
    "duration": 186,
    "start_time": "2024-02-04T17:19:55.816Z"
   },
   {
    "duration": 18,
    "start_time": "2024-02-04T17:19:56.004Z"
   },
   {
    "duration": 36,
    "start_time": "2024-02-04T17:19:56.023Z"
   },
   {
    "duration": 2,
    "start_time": "2024-02-04T17:19:56.081Z"
   },
   {
    "duration": 11,
    "start_time": "2024-02-04T17:19:56.084Z"
   },
   {
    "duration": 14,
    "start_time": "2024-02-04T17:19:56.096Z"
   },
   {
    "duration": 28,
    "start_time": "2024-02-04T17:19:56.111Z"
   },
   {
    "duration": 29,
    "start_time": "2024-02-04T17:19:56.140Z"
   },
   {
    "duration": 31,
    "start_time": "2024-02-04T17:19:56.171Z"
   },
   {
    "duration": 26,
    "start_time": "2024-02-04T17:19:56.204Z"
   },
   {
    "duration": 84,
    "start_time": "2024-02-04T17:19:56.231Z"
   },
   {
    "duration": 105,
    "start_time": "2024-02-04T17:19:56.316Z"
   },
   {
    "duration": 74,
    "start_time": "2024-02-04T17:19:56.424Z"
   },
   {
    "duration": 46,
    "start_time": "2024-02-04T17:19:56.500Z"
   },
   {
    "duration": 36,
    "start_time": "2024-02-04T17:19:56.548Z"
   },
   {
    "duration": 46,
    "start_time": "2024-02-04T17:19:56.586Z"
   },
   {
    "duration": 12,
    "start_time": "2024-02-04T17:19:56.633Z"
   },
   {
    "duration": 33,
    "start_time": "2024-02-04T17:19:56.647Z"
   },
   {
    "duration": 4,
    "start_time": "2024-02-04T17:19:56.682Z"
   },
   {
    "duration": 21,
    "start_time": "2024-02-04T17:19:56.688Z"
   },
   {
    "duration": 26,
    "start_time": "2024-02-04T17:19:56.712Z"
   },
   {
    "duration": 42,
    "start_time": "2024-02-04T17:19:56.740Z"
   },
   {
    "duration": 15,
    "start_time": "2024-02-04T17:19:56.784Z"
   },
   {
    "duration": 25,
    "start_time": "2024-02-04T17:19:56.800Z"
   },
   {
    "duration": 17,
    "start_time": "2024-02-04T17:19:56.826Z"
   },
   {
    "duration": 40,
    "start_time": "2024-02-04T17:19:56.844Z"
   },
   {
    "duration": 18,
    "start_time": "2024-02-04T17:19:56.885Z"
   },
   {
    "duration": 15,
    "start_time": "2024-02-04T17:19:56.905Z"
   },
   {
    "duration": 22,
    "start_time": "2024-02-04T17:19:56.922Z"
   },
   {
    "duration": 59,
    "start_time": "2024-02-04T17:19:56.946Z"
   },
   {
    "duration": 0,
    "start_time": "2024-02-04T17:19:57.007Z"
   },
   {
    "duration": 0,
    "start_time": "2024-02-04T17:19:57.013Z"
   },
   {
    "duration": 0,
    "start_time": "2024-02-04T17:19:57.015Z"
   },
   {
    "duration": 0,
    "start_time": "2024-02-04T17:19:57.016Z"
   },
   {
    "duration": 0,
    "start_time": "2024-02-04T17:19:57.017Z"
   },
   {
    "duration": 0,
    "start_time": "2024-02-04T17:19:57.018Z"
   },
   {
    "duration": 0,
    "start_time": "2024-02-04T17:19:57.019Z"
   },
   {
    "duration": 59,
    "start_time": "2024-02-04T17:21:34.447Z"
   },
   {
    "duration": 396,
    "start_time": "2024-02-04T17:36:07.506Z"
   },
   {
    "duration": 197,
    "start_time": "2024-02-04T17:36:07.903Z"
   },
   {
    "duration": 18,
    "start_time": "2024-02-04T17:36:08.102Z"
   },
   {
    "duration": 34,
    "start_time": "2024-02-04T17:36:08.121Z"
   },
   {
    "duration": 2,
    "start_time": "2024-02-04T17:36:08.158Z"
   },
   {
    "duration": 21,
    "start_time": "2024-02-04T17:36:08.161Z"
   },
   {
    "duration": 13,
    "start_time": "2024-02-04T17:36:08.183Z"
   },
   {
    "duration": 11,
    "start_time": "2024-02-04T17:36:08.198Z"
   },
   {
    "duration": 31,
    "start_time": "2024-02-04T17:36:08.210Z"
   },
   {
    "duration": 38,
    "start_time": "2024-02-04T17:36:08.242Z"
   },
   {
    "duration": 27,
    "start_time": "2024-02-04T17:36:08.282Z"
   },
   {
    "duration": 88,
    "start_time": "2024-02-04T17:36:08.311Z"
   },
   {
    "duration": 91,
    "start_time": "2024-02-04T17:36:08.401Z"
   },
   {
    "duration": 93,
    "start_time": "2024-02-04T17:36:08.495Z"
   },
   {
    "duration": 52,
    "start_time": "2024-02-04T17:36:08.590Z"
   },
   {
    "duration": 18,
    "start_time": "2024-02-04T17:36:08.644Z"
   },
   {
    "duration": 62,
    "start_time": "2024-02-04T17:36:08.664Z"
   },
   {
    "duration": 13,
    "start_time": "2024-02-04T17:36:08.728Z"
   },
   {
    "duration": 12,
    "start_time": "2024-02-04T17:36:08.743Z"
   },
   {
    "duration": 3,
    "start_time": "2024-02-04T17:36:08.780Z"
   },
   {
    "duration": 20,
    "start_time": "2024-02-04T17:36:08.785Z"
   },
   {
    "duration": 14,
    "start_time": "2024-02-04T17:36:08.807Z"
   },
   {
    "duration": 16,
    "start_time": "2024-02-04T17:36:08.823Z"
   },
   {
    "duration": 43,
    "start_time": "2024-02-04T17:36:08.840Z"
   },
   {
    "duration": 18,
    "start_time": "2024-02-04T17:36:08.885Z"
   },
   {
    "duration": 15,
    "start_time": "2024-02-04T17:36:08.905Z"
   },
   {
    "duration": 6,
    "start_time": "2024-02-04T17:36:08.921Z"
   },
   {
    "duration": 14,
    "start_time": "2024-02-04T17:36:08.929Z"
   },
   {
    "duration": 39,
    "start_time": "2024-02-04T17:36:08.944Z"
   },
   {
    "duration": 3,
    "start_time": "2024-02-04T17:36:08.984Z"
   },
   {
    "duration": 2325,
    "start_time": "2024-02-04T17:36:08.989Z"
   },
   {
    "duration": 0,
    "start_time": "2024-02-04T17:36:11.316Z"
   },
   {
    "duration": 0,
    "start_time": "2024-02-04T17:36:11.317Z"
   },
   {
    "duration": 0,
    "start_time": "2024-02-04T17:36:11.319Z"
   },
   {
    "duration": 0,
    "start_time": "2024-02-04T17:36:11.320Z"
   },
   {
    "duration": 0,
    "start_time": "2024-02-04T17:36:11.323Z"
   },
   {
    "duration": 0,
    "start_time": "2024-02-04T17:36:11.324Z"
   },
   {
    "duration": 0,
    "start_time": "2024-02-04T17:36:11.325Z"
   },
   {
    "duration": 65,
    "start_time": "2024-02-04T17:36:23.347Z"
   },
   {
    "duration": 4,
    "start_time": "2024-02-04T17:38:01.091Z"
   },
   {
    "duration": 56,
    "start_time": "2024-02-04T17:38:03.887Z"
   },
   {
    "duration": 14,
    "start_time": "2024-02-04T17:39:40.734Z"
   },
   {
    "duration": 13,
    "start_time": "2024-02-04T17:39:42.515Z"
   },
   {
    "duration": 72,
    "start_time": "2024-02-04T17:39:45.451Z"
   },
   {
    "duration": 58,
    "start_time": "2024-02-04T17:40:02.588Z"
   },
   {
    "duration": 21,
    "start_time": "2024-02-04T17:40:40.936Z"
   },
   {
    "duration": 54,
    "start_time": "2024-02-04T17:40:54.908Z"
   },
   {
    "duration": 13,
    "start_time": "2024-02-04T17:41:18.666Z"
   },
   {
    "duration": 19,
    "start_time": "2024-02-04T17:41:32.419Z"
   },
   {
    "duration": 18,
    "start_time": "2024-02-04T17:41:38.123Z"
   },
   {
    "duration": 13,
    "start_time": "2024-02-04T17:46:42.539Z"
   },
   {
    "duration": 5,
    "start_time": "2024-02-04T17:47:29.780Z"
   },
   {
    "duration": 7,
    "start_time": "2024-02-04T17:48:49.646Z"
   },
   {
    "duration": 4,
    "start_time": "2024-02-04T17:49:29.834Z"
   }
  ],
  "celltoolbar": "Отсутствует",
  "colab": {
   "collapsed_sections": [
    "E0vqbgi9ay0H",
    "VUC88oWjTJw2"
   ],
   "provenance": []
  },
  "kernelspec": {
   "display_name": "Python 3 (ipykernel)",
   "language": "python",
   "name": "python3"
  },
  "language_info": {
   "codemirror_mode": {
    "name": "ipython",
    "version": 3
   },
   "file_extension": ".py",
   "mimetype": "text/x-python",
   "name": "python",
   "nbconvert_exporter": "python",
   "pygments_lexer": "ipython3",
   "version": "3.9.5"
  },
  "toc": {
   "base_numbering": 1,
   "nav_menu": {
    "height": "215px",
    "width": "403px"
   },
   "number_sections": true,
   "sideBar": true,
   "skip_h1_title": true,
   "title_cell": "Table of Contents",
   "title_sidebar": "Contents",
   "toc_cell": false,
   "toc_position": {
    "height": "calc(100% - 180px)",
    "left": "10px",
    "top": "150px",
    "width": "285.825px"
   },
   "toc_section_display": true,
   "toc_window_display": false
  }
 },
 "nbformat": 4,
 "nbformat_minor": 1
}
