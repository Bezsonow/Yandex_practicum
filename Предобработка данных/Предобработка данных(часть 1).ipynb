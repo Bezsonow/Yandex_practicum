{
 "cells": [
  {
   "cell_type": "markdown",
   "id": "4f11de00",
   "metadata": {
    "deletable": false,
    "editable": false,
    "id": "4f11de00"
   },
   "source": [
    "# Исследование надежности заемщиков"
   ]
  },
  {
   "cell_type": "markdown",
   "id": "f09d6878",
   "metadata": {
    "deletable": false,
    "editable": false,
    "id": "f09d6878"
   },
   "source": [
    "Это первая часть проекта, она будет проверена автоматически. Вторую часть проверит ревьюер. "
   ]
  },
  {
   "cell_type": "markdown",
   "id": "516620ee",
   "metadata": {
    "deletable": false,
    "editable": false,
    "id": "516620ee"
   },
   "source": [
    "## Откройте таблицу и изучите общую информацию о данных"
   ]
  },
  {
   "cell_type": "markdown",
   "id": "76a8a9ce",
   "metadata": {
    "deletable": false,
    "editable": false,
    "id": "76a8a9ce",
    "tags": [
     "start_task"
    ]
   },
   "source": [
    "**Задание 1. Импортируйте библиотеку pandas. Считайте данные из csv-файла в датафрейм и сохраните в переменную `data`. Путь к файлу:**\n",
    "\n",
    "`/datasets/data.csv`"
   ]
  },
  {
   "cell_type": "code",
   "execution_count": 26,
   "id": "fab207d0",
   "metadata": {
    "id": "fab207d0"
   },
   "outputs": [],
   "source": [
    "# импортируйте библиотеку pandas\n",
    "import pandas as pd"
   ]
  },
  {
   "cell_type": "code",
   "execution_count": 27,
   "id": "6c82b607",
   "metadata": {
    "id": "6c82b607"
   },
   "outputs": [],
   "source": [
    "# прочитайте csv-файл\n",
    "data = pd.read_csv('/datasets/data.csv')"
   ]
  },
  {
   "cell_type": "markdown",
   "id": "08bbb5b3",
   "metadata": {
    "deletable": false,
    "editable": false,
    "id": "08bbb5b3",
    "tags": [
     "start_task"
    ]
   },
   "source": [
    "**Задание 2. Выведите первые 20 строчек датафрейма `data` на экран.**"
   ]
  },
  {
   "cell_type": "code",
   "execution_count": 28,
   "id": "4ff33b36",
   "metadata": {
    "id": "4ff33b36"
   },
   "outputs": [
    {
     "data": {
      "text/html": [
       "<div>\n",
       "<style scoped>\n",
       "    .dataframe tbody tr th:only-of-type {\n",
       "        vertical-align: middle;\n",
       "    }\n",
       "\n",
       "    .dataframe tbody tr th {\n",
       "        vertical-align: top;\n",
       "    }\n",
       "\n",
       "    .dataframe thead th {\n",
       "        text-align: right;\n",
       "    }\n",
       "</style>\n",
       "<table border=\"1\" class=\"dataframe\">\n",
       "  <thead>\n",
       "    <tr style=\"text-align: right;\">\n",
       "      <th></th>\n",
       "      <th>children</th>\n",
       "      <th>days_employed</th>\n",
       "      <th>dob_years</th>\n",
       "      <th>education</th>\n",
       "      <th>education_id</th>\n",
       "      <th>family_status</th>\n",
       "      <th>family_status_id</th>\n",
       "      <th>gender</th>\n",
       "      <th>income_type</th>\n",
       "      <th>debt</th>\n",
       "      <th>total_income</th>\n",
       "      <th>purpose</th>\n",
       "    </tr>\n",
       "  </thead>\n",
       "  <tbody>\n",
       "    <tr>\n",
       "      <th>0</th>\n",
       "      <td>1</td>\n",
       "      <td>-8437.673028</td>\n",
       "      <td>42</td>\n",
       "      <td>высшее</td>\n",
       "      <td>0</td>\n",
       "      <td>женат / замужем</td>\n",
       "      <td>0</td>\n",
       "      <td>F</td>\n",
       "      <td>сотрудник</td>\n",
       "      <td>0</td>\n",
       "      <td>253875.639453</td>\n",
       "      <td>покупка жилья</td>\n",
       "    </tr>\n",
       "    <tr>\n",
       "      <th>1</th>\n",
       "      <td>1</td>\n",
       "      <td>-4024.803754</td>\n",
       "      <td>36</td>\n",
       "      <td>среднее</td>\n",
       "      <td>1</td>\n",
       "      <td>женат / замужем</td>\n",
       "      <td>0</td>\n",
       "      <td>F</td>\n",
       "      <td>сотрудник</td>\n",
       "      <td>0</td>\n",
       "      <td>112080.014102</td>\n",
       "      <td>приобретение автомобиля</td>\n",
       "    </tr>\n",
       "    <tr>\n",
       "      <th>2</th>\n",
       "      <td>0</td>\n",
       "      <td>-5623.422610</td>\n",
       "      <td>33</td>\n",
       "      <td>Среднее</td>\n",
       "      <td>1</td>\n",
       "      <td>женат / замужем</td>\n",
       "      <td>0</td>\n",
       "      <td>M</td>\n",
       "      <td>сотрудник</td>\n",
       "      <td>0</td>\n",
       "      <td>145885.952297</td>\n",
       "      <td>покупка жилья</td>\n",
       "    </tr>\n",
       "    <tr>\n",
       "      <th>3</th>\n",
       "      <td>3</td>\n",
       "      <td>-4124.747207</td>\n",
       "      <td>32</td>\n",
       "      <td>среднее</td>\n",
       "      <td>1</td>\n",
       "      <td>женат / замужем</td>\n",
       "      <td>0</td>\n",
       "      <td>M</td>\n",
       "      <td>сотрудник</td>\n",
       "      <td>0</td>\n",
       "      <td>267628.550329</td>\n",
       "      <td>дополнительное образование</td>\n",
       "    </tr>\n",
       "    <tr>\n",
       "      <th>4</th>\n",
       "      <td>0</td>\n",
       "      <td>340266.072047</td>\n",
       "      <td>53</td>\n",
       "      <td>среднее</td>\n",
       "      <td>1</td>\n",
       "      <td>гражданский брак</td>\n",
       "      <td>1</td>\n",
       "      <td>F</td>\n",
       "      <td>пенсионер</td>\n",
       "      <td>0</td>\n",
       "      <td>158616.077870</td>\n",
       "      <td>сыграть свадьбу</td>\n",
       "    </tr>\n",
       "    <tr>\n",
       "      <th>5</th>\n",
       "      <td>0</td>\n",
       "      <td>-926.185831</td>\n",
       "      <td>27</td>\n",
       "      <td>высшее</td>\n",
       "      <td>0</td>\n",
       "      <td>гражданский брак</td>\n",
       "      <td>1</td>\n",
       "      <td>M</td>\n",
       "      <td>компаньон</td>\n",
       "      <td>0</td>\n",
       "      <td>255763.565419</td>\n",
       "      <td>покупка жилья</td>\n",
       "    </tr>\n",
       "    <tr>\n",
       "      <th>6</th>\n",
       "      <td>0</td>\n",
       "      <td>-2879.202052</td>\n",
       "      <td>43</td>\n",
       "      <td>высшее</td>\n",
       "      <td>0</td>\n",
       "      <td>женат / замужем</td>\n",
       "      <td>0</td>\n",
       "      <td>F</td>\n",
       "      <td>компаньон</td>\n",
       "      <td>0</td>\n",
       "      <td>240525.971920</td>\n",
       "      <td>операции с жильем</td>\n",
       "    </tr>\n",
       "    <tr>\n",
       "      <th>7</th>\n",
       "      <td>0</td>\n",
       "      <td>-152.779569</td>\n",
       "      <td>50</td>\n",
       "      <td>СРЕДНЕЕ</td>\n",
       "      <td>1</td>\n",
       "      <td>женат / замужем</td>\n",
       "      <td>0</td>\n",
       "      <td>M</td>\n",
       "      <td>сотрудник</td>\n",
       "      <td>0</td>\n",
       "      <td>135823.934197</td>\n",
       "      <td>образование</td>\n",
       "    </tr>\n",
       "    <tr>\n",
       "      <th>8</th>\n",
       "      <td>2</td>\n",
       "      <td>-6929.865299</td>\n",
       "      <td>35</td>\n",
       "      <td>ВЫСШЕЕ</td>\n",
       "      <td>0</td>\n",
       "      <td>гражданский брак</td>\n",
       "      <td>1</td>\n",
       "      <td>F</td>\n",
       "      <td>сотрудник</td>\n",
       "      <td>0</td>\n",
       "      <td>95856.832424</td>\n",
       "      <td>на проведение свадьбы</td>\n",
       "    </tr>\n",
       "    <tr>\n",
       "      <th>9</th>\n",
       "      <td>0</td>\n",
       "      <td>-2188.756445</td>\n",
       "      <td>41</td>\n",
       "      <td>среднее</td>\n",
       "      <td>1</td>\n",
       "      <td>женат / замужем</td>\n",
       "      <td>0</td>\n",
       "      <td>M</td>\n",
       "      <td>сотрудник</td>\n",
       "      <td>0</td>\n",
       "      <td>144425.938277</td>\n",
       "      <td>покупка жилья для семьи</td>\n",
       "    </tr>\n",
       "    <tr>\n",
       "      <th>10</th>\n",
       "      <td>2</td>\n",
       "      <td>-4171.483647</td>\n",
       "      <td>36</td>\n",
       "      <td>высшее</td>\n",
       "      <td>0</td>\n",
       "      <td>женат / замужем</td>\n",
       "      <td>0</td>\n",
       "      <td>M</td>\n",
       "      <td>компаньон</td>\n",
       "      <td>0</td>\n",
       "      <td>113943.491460</td>\n",
       "      <td>покупка недвижимости</td>\n",
       "    </tr>\n",
       "    <tr>\n",
       "      <th>11</th>\n",
       "      <td>0</td>\n",
       "      <td>-792.701887</td>\n",
       "      <td>40</td>\n",
       "      <td>среднее</td>\n",
       "      <td>1</td>\n",
       "      <td>женат / замужем</td>\n",
       "      <td>0</td>\n",
       "      <td>F</td>\n",
       "      <td>сотрудник</td>\n",
       "      <td>0</td>\n",
       "      <td>77069.234271</td>\n",
       "      <td>покупка коммерческой недвижимости</td>\n",
       "    </tr>\n",
       "    <tr>\n",
       "      <th>12</th>\n",
       "      <td>0</td>\n",
       "      <td>NaN</td>\n",
       "      <td>65</td>\n",
       "      <td>среднее</td>\n",
       "      <td>1</td>\n",
       "      <td>гражданский брак</td>\n",
       "      <td>1</td>\n",
       "      <td>M</td>\n",
       "      <td>пенсионер</td>\n",
       "      <td>0</td>\n",
       "      <td>NaN</td>\n",
       "      <td>сыграть свадьбу</td>\n",
       "    </tr>\n",
       "    <tr>\n",
       "      <th>13</th>\n",
       "      <td>0</td>\n",
       "      <td>-1846.641941</td>\n",
       "      <td>54</td>\n",
       "      <td>неоконченное высшее</td>\n",
       "      <td>2</td>\n",
       "      <td>женат / замужем</td>\n",
       "      <td>0</td>\n",
       "      <td>F</td>\n",
       "      <td>сотрудник</td>\n",
       "      <td>0</td>\n",
       "      <td>130458.228857</td>\n",
       "      <td>приобретение автомобиля</td>\n",
       "    </tr>\n",
       "    <tr>\n",
       "      <th>14</th>\n",
       "      <td>0</td>\n",
       "      <td>-1844.956182</td>\n",
       "      <td>56</td>\n",
       "      <td>высшее</td>\n",
       "      <td>0</td>\n",
       "      <td>гражданский брак</td>\n",
       "      <td>1</td>\n",
       "      <td>F</td>\n",
       "      <td>компаньон</td>\n",
       "      <td>1</td>\n",
       "      <td>165127.911772</td>\n",
       "      <td>покупка жилой недвижимости</td>\n",
       "    </tr>\n",
       "    <tr>\n",
       "      <th>15</th>\n",
       "      <td>1</td>\n",
       "      <td>-972.364419</td>\n",
       "      <td>26</td>\n",
       "      <td>среднее</td>\n",
       "      <td>1</td>\n",
       "      <td>женат / замужем</td>\n",
       "      <td>0</td>\n",
       "      <td>F</td>\n",
       "      <td>сотрудник</td>\n",
       "      <td>0</td>\n",
       "      <td>116820.904450</td>\n",
       "      <td>строительство собственной недвижимости</td>\n",
       "    </tr>\n",
       "    <tr>\n",
       "      <th>16</th>\n",
       "      <td>0</td>\n",
       "      <td>-1719.934226</td>\n",
       "      <td>35</td>\n",
       "      <td>среднее</td>\n",
       "      <td>1</td>\n",
       "      <td>женат / замужем</td>\n",
       "      <td>0</td>\n",
       "      <td>F</td>\n",
       "      <td>сотрудник</td>\n",
       "      <td>0</td>\n",
       "      <td>289202.704229</td>\n",
       "      <td>недвижимость</td>\n",
       "    </tr>\n",
       "    <tr>\n",
       "      <th>17</th>\n",
       "      <td>0</td>\n",
       "      <td>-2369.999720</td>\n",
       "      <td>33</td>\n",
       "      <td>высшее</td>\n",
       "      <td>0</td>\n",
       "      <td>гражданский брак</td>\n",
       "      <td>1</td>\n",
       "      <td>M</td>\n",
       "      <td>сотрудник</td>\n",
       "      <td>0</td>\n",
       "      <td>90410.586745</td>\n",
       "      <td>строительство недвижимости</td>\n",
       "    </tr>\n",
       "    <tr>\n",
       "      <th>18</th>\n",
       "      <td>0</td>\n",
       "      <td>400281.136913</td>\n",
       "      <td>53</td>\n",
       "      <td>среднее</td>\n",
       "      <td>1</td>\n",
       "      <td>вдовец / вдова</td>\n",
       "      <td>2</td>\n",
       "      <td>F</td>\n",
       "      <td>пенсионер</td>\n",
       "      <td>0</td>\n",
       "      <td>56823.777243</td>\n",
       "      <td>на покупку подержанного автомобиля</td>\n",
       "    </tr>\n",
       "    <tr>\n",
       "      <th>19</th>\n",
       "      <td>0</td>\n",
       "      <td>-10038.818549</td>\n",
       "      <td>48</td>\n",
       "      <td>СРЕДНЕЕ</td>\n",
       "      <td>1</td>\n",
       "      <td>в разводе</td>\n",
       "      <td>3</td>\n",
       "      <td>F</td>\n",
       "      <td>сотрудник</td>\n",
       "      <td>0</td>\n",
       "      <td>242831.107982</td>\n",
       "      <td>на покупку своего автомобиля</td>\n",
       "    </tr>\n",
       "  </tbody>\n",
       "</table>\n",
       "</div>"
      ],
      "text/plain": [
       "    children  days_employed  dob_years            education  education_id  \\\n",
       "0          1   -8437.673028         42               высшее             0   \n",
       "1          1   -4024.803754         36              среднее             1   \n",
       "2          0   -5623.422610         33              Среднее             1   \n",
       "3          3   -4124.747207         32              среднее             1   \n",
       "4          0  340266.072047         53              среднее             1   \n",
       "5          0    -926.185831         27               высшее             0   \n",
       "6          0   -2879.202052         43               высшее             0   \n",
       "7          0    -152.779569         50              СРЕДНЕЕ             1   \n",
       "8          2   -6929.865299         35               ВЫСШЕЕ             0   \n",
       "9          0   -2188.756445         41              среднее             1   \n",
       "10         2   -4171.483647         36               высшее             0   \n",
       "11         0    -792.701887         40              среднее             1   \n",
       "12         0            NaN         65              среднее             1   \n",
       "13         0   -1846.641941         54  неоконченное высшее             2   \n",
       "14         0   -1844.956182         56               высшее             0   \n",
       "15         1    -972.364419         26              среднее             1   \n",
       "16         0   -1719.934226         35              среднее             1   \n",
       "17         0   -2369.999720         33               высшее             0   \n",
       "18         0  400281.136913         53              среднее             1   \n",
       "19         0  -10038.818549         48              СРЕДНЕЕ             1   \n",
       "\n",
       "       family_status  family_status_id gender income_type  debt  \\\n",
       "0    женат / замужем                 0      F   сотрудник     0   \n",
       "1    женат / замужем                 0      F   сотрудник     0   \n",
       "2    женат / замужем                 0      M   сотрудник     0   \n",
       "3    женат / замужем                 0      M   сотрудник     0   \n",
       "4   гражданский брак                 1      F   пенсионер     0   \n",
       "5   гражданский брак                 1      M   компаньон     0   \n",
       "6    женат / замужем                 0      F   компаньон     0   \n",
       "7    женат / замужем                 0      M   сотрудник     0   \n",
       "8   гражданский брак                 1      F   сотрудник     0   \n",
       "9    женат / замужем                 0      M   сотрудник     0   \n",
       "10   женат / замужем                 0      M   компаньон     0   \n",
       "11   женат / замужем                 0      F   сотрудник     0   \n",
       "12  гражданский брак                 1      M   пенсионер     0   \n",
       "13   женат / замужем                 0      F   сотрудник     0   \n",
       "14  гражданский брак                 1      F   компаньон     1   \n",
       "15   женат / замужем                 0      F   сотрудник     0   \n",
       "16   женат / замужем                 0      F   сотрудник     0   \n",
       "17  гражданский брак                 1      M   сотрудник     0   \n",
       "18    вдовец / вдова                 2      F   пенсионер     0   \n",
       "19         в разводе                 3      F   сотрудник     0   \n",
       "\n",
       "     total_income                                 purpose  \n",
       "0   253875.639453                           покупка жилья  \n",
       "1   112080.014102                 приобретение автомобиля  \n",
       "2   145885.952297                           покупка жилья  \n",
       "3   267628.550329              дополнительное образование  \n",
       "4   158616.077870                         сыграть свадьбу  \n",
       "5   255763.565419                           покупка жилья  \n",
       "6   240525.971920                       операции с жильем  \n",
       "7   135823.934197                             образование  \n",
       "8    95856.832424                   на проведение свадьбы  \n",
       "9   144425.938277                 покупка жилья для семьи  \n",
       "10  113943.491460                    покупка недвижимости  \n",
       "11   77069.234271       покупка коммерческой недвижимости  \n",
       "12            NaN                         сыграть свадьбу  \n",
       "13  130458.228857                 приобретение автомобиля  \n",
       "14  165127.911772              покупка жилой недвижимости  \n",
       "15  116820.904450  строительство собственной недвижимости  \n",
       "16  289202.704229                            недвижимость  \n",
       "17   90410.586745              строительство недвижимости  \n",
       "18   56823.777243      на покупку подержанного автомобиля  \n",
       "19  242831.107982            на покупку своего автомобиля  "
      ]
     },
     "execution_count": 28,
     "metadata": {},
     "output_type": "execute_result"
    }
   ],
   "source": [
    "# ваш код здесь\n",
    "data.head(20)"
   ]
  },
  {
   "cell_type": "markdown",
   "id": "c8f382ae",
   "metadata": {
    "deletable": false,
    "editable": false,
    "id": "c8f382ae",
    "tags": [
     "start_task"
    ]
   },
   "source": [
    "**Задание 3. Выведите основную информацию о датафрейме с помощью метода `info()`.**"
   ]
  },
  {
   "cell_type": "code",
   "execution_count": 29,
   "id": "e1ed9908",
   "metadata": {
    "id": "e1ed9908"
   },
   "outputs": [
    {
     "name": "stdout",
     "output_type": "stream",
     "text": [
      "<class 'pandas.core.frame.DataFrame'>\n",
      "RangeIndex: 21525 entries, 0 to 21524\n",
      "Data columns (total 12 columns):\n",
      " #   Column            Non-Null Count  Dtype  \n",
      "---  ------            --------------  -----  \n",
      " 0   children          21525 non-null  int64  \n",
      " 1   days_employed     19351 non-null  float64\n",
      " 2   dob_years         21525 non-null  int64  \n",
      " 3   education         21525 non-null  object \n",
      " 4   education_id      21525 non-null  int64  \n",
      " 5   family_status     21525 non-null  object \n",
      " 6   family_status_id  21525 non-null  int64  \n",
      " 7   gender            21525 non-null  object \n",
      " 8   income_type       21525 non-null  object \n",
      " 9   debt              21525 non-null  int64  \n",
      " 10  total_income      19351 non-null  float64\n",
      " 11  purpose           21525 non-null  object \n",
      "dtypes: float64(2), int64(5), object(5)\n",
      "memory usage: 2.0+ MB\n",
      "None\n"
     ]
    }
   ],
   "source": [
    "# ваш код здесь\n",
    "print(data.info())"
   ]
  },
  {
   "cell_type": "markdown",
   "id": "f969a1cd",
   "metadata": {
    "deletable": false,
    "editable": false,
    "id": "f969a1cd"
   },
   "source": [
    "## Предобработка данных"
   ]
  },
  {
   "cell_type": "markdown",
   "id": "7283e864",
   "metadata": {
    "deletable": false,
    "editable": false,
    "id": "7283e864"
   },
   "source": [
    "### Удаление пропусков"
   ]
  },
  {
   "cell_type": "markdown",
   "id": "c9a0745e",
   "metadata": {
    "deletable": false,
    "editable": false,
    "id": "c9a0745e",
    "tags": [
     "start_task"
    ]
   },
   "source": [
    "**Задание 4. Выведите количество пропущенных значений для каждого столбца. Используйте комбинацию двух методов.**"
   ]
  },
  {
   "cell_type": "code",
   "execution_count": 30,
   "id": "b7a096e1",
   "metadata": {
    "id": "b7a096e1"
   },
   "outputs": [
    {
     "name": "stdout",
     "output_type": "stream",
     "text": [
      "children               0\n",
      "days_employed       2174\n",
      "dob_years              0\n",
      "education              0\n",
      "education_id           0\n",
      "family_status          0\n",
      "family_status_id       0\n",
      "gender                 0\n",
      "income_type            0\n",
      "debt                   0\n",
      "total_income        2174\n",
      "purpose                0\n",
      "dtype: int64\n"
     ]
    }
   ],
   "source": [
    "# ваш код здесь\n",
    "print(data.isna().sum())"
   ]
  },
  {
   "cell_type": "markdown",
   "id": "c2578616",
   "metadata": {
    "deletable": false,
    "editable": false,
    "id": "c2578616",
    "tags": [
     "start_task"
    ]
   },
   "source": [
    "**Задание 5. В двух столбцах есть пропущенные значения. Один из них — `days_employed`. Пропуски в этом столбце вы обработаете на следующем этапе. Другой столбец с пропущенными значениями — `total_income` — хранит данные о доходах. На сумму дохода сильнее всего влияет тип занятости, поэтому заполнить пропуски в этом столбце нужно медианным значением по каждому типу из столбца `income_type`. Например, у человека с типом занятости `сотрудник` пропуск в столбце `total_income` должен быть заполнен медианным доходом среди всех записей с тем же типом.**"
   ]
  },
  {
   "cell_type": "code",
   "execution_count": 31,
   "id": "e8afc4bc",
   "metadata": {
    "id": "e8afc4bc"
   },
   "outputs": [],
   "source": [
    "# ваш код здесь\n",
    "for tip in data['income_type'].unique():\n",
    "    data.loc[(data['income_type'] == tip) & (data['total_income'].isna()), 'total_income'] = \\\n",
    "    data.loc[(data['income_type'] == tip), 'total_income'].median()\n",
    "#print(data.head(20))"
   ]
  },
  {
   "cell_type": "markdown",
   "id": "ae986d46",
   "metadata": {
    "deletable": false,
    "editable": false,
    "id": "ae986d46"
   },
   "source": [
    "### Обработка аномальных значений"
   ]
  },
  {
   "cell_type": "markdown",
   "id": "b049cbae",
   "metadata": {
    "deletable": false,
    "editable": false,
    "id": "b049cbae",
    "tags": [
     "start_task"
    ]
   },
   "source": [
    "**Задание 6. В данных могут встречаться артефакты (аномалии) — значения, которые не отражают действительность и появились по какой-то ошибке. Таким артефактом будет отрицательное количество дней трудового стажа в столбце `days_employed`. Для реальных данных это нормально. Обработайте значения в этом столбце: замените все отрицательные значения положительными с помощью метода `abs()`.**"
   ]
  },
  {
   "cell_type": "code",
   "execution_count": 32,
   "id": "187779b0",
   "metadata": {
    "id": "187779b0"
   },
   "outputs": [],
   "source": [
    "# ваш код здесь\n",
    "data['days_employed'] = data['days_employed'].abs()\n",
    "#print(data['days_employed'].head(10))"
   ]
  },
  {
   "cell_type": "markdown",
   "id": "a13054c2",
   "metadata": {
    "deletable": false,
    "editable": false,
    "id": "a13054c2",
    "tags": [
     "start_task"
    ]
   },
   "source": [
    "**Задание 7. Для каждого типа занятости выведите медианное значение трудового стажа `days_employed` в днях.**"
   ]
  },
  {
   "cell_type": "code",
   "execution_count": 33,
   "id": "f3f5810c",
   "metadata": {
    "id": "f3f5810c"
   },
   "outputs": [
    {
     "name": "stdout",
     "output_type": "stream",
     "text": [
      "income_type\n",
      "безработный        366413.652744\n",
      "в декрете            3296.759962\n",
      "госслужащий          2689.368353\n",
      "компаньон            1547.382223\n",
      "пенсионер          365213.306266\n",
      "предприниматель       520.848083\n",
      "сотрудник            1574.202821\n",
      "студент               578.751554\n",
      "Name: days_employed, dtype: float64\n"
     ]
    }
   ],
   "source": [
    "# ваш код здесь\n",
    "print(data.groupby('income_type')['days_employed'].median())"
   ]
  },
  {
   "cell_type": "markdown",
   "id": "dbc3168c",
   "metadata": {
    "deletable": false,
    "editable": false,
    "id": "dbc3168c"
   },
   "source": [
    "У двух типов (безработные и пенсионеры) получатся аномально большие значения. Исправить такие значения сложно, поэтому оставьте их как есть."
   ]
  },
  {
   "cell_type": "markdown",
   "id": "ff4378c2",
   "metadata": {
    "deletable": false,
    "editable": false,
    "id": "ff4378c2",
    "tags": [
     "start_task"
    ]
   },
   "source": [
    "**Задание 8. Выведите перечень уникальных значений столбца `children`.**"
   ]
  },
  {
   "cell_type": "code",
   "execution_count": 34,
   "id": "9bd0c232",
   "metadata": {
    "id": "9bd0c232"
   },
   "outputs": [
    {
     "name": "stdout",
     "output_type": "stream",
     "text": [
      "[ 1  0  3  2 -1  4 20  5]\n"
     ]
    }
   ],
   "source": [
    "# ваш код здесь\n",
    "print(data['children'].unique())"
   ]
  },
  {
   "cell_type": "markdown",
   "id": "8e911990",
   "metadata": {
    "deletable": false,
    "editable": false,
    "id": "8e911990",
    "tags": [
     "start_task"
    ]
   },
   "source": [
    "**Задание 9. В столбце `children` есть два аномальных значения. Удалите строки, в которых встречаются такие аномальные значения из датафрейма `data`.**"
   ]
  },
  {
   "cell_type": "code",
   "execution_count": 35,
   "id": "6d5ba289",
   "metadata": {
    "id": "6d5ba289"
   },
   "outputs": [],
   "source": [
    "# ваш код здесь\n",
    "data = data[(data['children'] != -1) & (data['children'] != 20)]\n"
   ]
  },
  {
   "cell_type": "markdown",
   "id": "18d77455",
   "metadata": {
    "deletable": false,
    "editable": false,
    "id": "18d77455",
    "tags": [
     "start_task"
    ]
   },
   "source": [
    "**Задание 10. Ещё раз выведите перечень уникальных значений столбца `children`, чтобы убедиться, что артефакты удалены.**"
   ]
  },
  {
   "cell_type": "code",
   "execution_count": 36,
   "id": "2c5fa92c",
   "metadata": {
    "id": "2c5fa92c"
   },
   "outputs": [
    {
     "name": "stdout",
     "output_type": "stream",
     "text": [
      "[1 0 3 2 4 5]\n"
     ]
    }
   ],
   "source": [
    "# ваш код здесь\n",
    "print(data['children'].unique())"
   ]
  },
  {
   "cell_type": "markdown",
   "id": "0ec07dee",
   "metadata": {
    "deletable": false,
    "editable": false,
    "id": "0ec07dee"
   },
   "source": [
    "### Удаление пропусков (продолжение)"
   ]
  },
  {
   "cell_type": "markdown",
   "id": "0fc3ae3f",
   "metadata": {
    "deletable": false,
    "editable": false,
    "id": "0fc3ae3f",
    "tags": [
     "start_task"
    ]
   },
   "source": [
    "**Задание 11. Заполните пропуски в столбце `days_employed` медианными значениями по каждому типу занятости `income_type`.**"
   ]
  },
  {
   "cell_type": "code",
   "execution_count": 37,
   "id": "e2aea7ac",
   "metadata": {
    "id": "e2aea7ac"
   },
   "outputs": [],
   "source": [
    "# ваш код здесь\n",
    "for tip in data['income_type'].unique():\n",
    "    data.loc[(data['income_type'] == tip) & (data['days_employed'].isna()), 'days_employed'] = \\\n",
    "    data.loc[(data['income_type'] == tip), 'days_employed'].median()\n",
    "#print(data.head(20))"
   ]
  },
  {
   "cell_type": "markdown",
   "id": "97b0b795",
   "metadata": {
    "deletable": false,
    "editable": false,
    "id": "97b0b795",
    "tags": [
     "start_task"
    ]
   },
   "source": [
    "**Задание 12. Убедитесь, что все пропуски заполнены. Проверьте себя и ещё раз выведите количество пропущенных значений для каждого столбца с помощью двух методов.**"
   ]
  },
  {
   "cell_type": "code",
   "execution_count": 38,
   "id": "79632a21",
   "metadata": {
    "id": "79632a21"
   },
   "outputs": [
    {
     "name": "stdout",
     "output_type": "stream",
     "text": [
      "children            0\n",
      "days_employed       0\n",
      "dob_years           0\n",
      "education           0\n",
      "education_id        0\n",
      "family_status       0\n",
      "family_status_id    0\n",
      "gender              0\n",
      "income_type         0\n",
      "debt                0\n",
      "total_income        0\n",
      "purpose             0\n",
      "dtype: int64\n"
     ]
    }
   ],
   "source": [
    "# ваш код здесь\n",
    "print(data.isna().sum())"
   ]
  },
  {
   "cell_type": "markdown",
   "id": "bd4aeb20",
   "metadata": {
    "deletable": false,
    "editable": false,
    "id": "bd4aeb20"
   },
   "source": [
    "### Изменение типов данных"
   ]
  },
  {
   "cell_type": "markdown",
   "id": "963bfa58",
   "metadata": {
    "deletable": false,
    "editable": false,
    "id": "963bfa58",
    "tags": [
     "start_task"
    ]
   },
   "source": [
    "**Задание 13. Замените вещественный тип данных в столбце `total_income` на целочисленный с помощью метода `astype()`.**"
   ]
  },
  {
   "cell_type": "code",
   "execution_count": 39,
   "id": "73da6ea0",
   "metadata": {
    "id": "73da6ea0"
   },
   "outputs": [],
   "source": [
    "# ваш код здесь\n",
    "data['total_income'] = data['total_income'].astype('int')\n",
    "#print(data['total_income'])"
   ]
  },
  {
   "cell_type": "markdown",
   "id": "d290239e",
   "metadata": {
    "deletable": false,
    "editable": false,
    "id": "d290239e"
   },
   "source": [
    "### Обработка дубликатов"
   ]
  },
  {
   "cell_type": "markdown",
   "id": "1b5844fd",
   "metadata": {
    "deletable": false,
    "editable": false,
    "id": "1b5844fd",
    "tags": [
     "start_task"
    ]
   },
   "source": [
    "**Задание 14. Обработайте неявные дубликаты в столбце `education`. В этом столбце есть одни и те же значения, но записанные по-разному: с использованием заглавных и строчных букв. Приведите их к нижнему регистру.**"
   ]
  },
  {
   "cell_type": "code",
   "execution_count": 40,
   "id": "3f2504b3",
   "metadata": {
    "id": "3f2504b3"
   },
   "outputs": [],
   "source": [
    "# ваш код здесь\n",
    "data['education'] = data['education'].str.lower()\n",
    "#print(data['education'])"
   ]
  },
  {
   "cell_type": "markdown",
   "id": "4c22acbc",
   "metadata": {
    "deletable": false,
    "editable": false,
    "id": "4c22acbc",
    "tags": [
     "start_task"
    ]
   },
   "source": [
    "**Задание 15. Выведите на экран количество строк-дубликатов в данных. Если такие строки присутствуют, удалите их.**"
   ]
  },
  {
   "cell_type": "code",
   "execution_count": 41,
   "id": "d34a4325",
   "metadata": {
    "id": "d34a4325"
   },
   "outputs": [
    {
     "data": {
      "text/plain": [
       "71"
      ]
     },
     "execution_count": 41,
     "metadata": {},
     "output_type": "execute_result"
    }
   ],
   "source": [
    "# посчитайте дубликаты\n",
    "data.duplicated().sum()"
   ]
  },
  {
   "cell_type": "code",
   "execution_count": 42,
   "id": "6e1a6499",
   "metadata": {
    "id": "6e1a6499"
   },
   "outputs": [],
   "source": [
    "# удалите дубликаты\n",
    "data = data.drop_duplicates()\n"
   ]
  },
  {
   "cell_type": "markdown",
   "id": "e5686ccc",
   "metadata": {
    "deletable": false,
    "editable": false,
    "id": "e5686ccc"
   },
   "source": [
    "### Категоризация данных"
   ]
  },
  {
   "cell_type": "markdown",
   "id": "636e9acd",
   "metadata": {
    "deletable": false,
    "editable": false,
    "id": "636e9acd",
    "tags": [
     "start_task"
    ]
   },
   "source": [
    "**Задание 16. На основании диапазонов, указанных ниже, создайте в датафрейме `data` столбец `total_income_category` с категориями:**\n",
    "\n",
    "- 0–30000 — `'E'`;\n",
    "- 30001–50000 — `'D'`;\n",
    "- 50001–200000 — `'C'`;\n",
    "- 200001–1000000 — `'B'`;\n",
    "- 1000001 и выше — `'A'`.\n",
    "\n",
    "\n",
    "**Например, кредитополучателю с доходом 25000 нужно назначить категорию `'E'`, а клиенту, получающему 235000, — `'B'`. Используйте собственную функцию с именем `categorize_income()` и метод `apply()`.**"
   ]
  },
  {
   "cell_type": "code",
   "execution_count": 43,
   "id": "880a77e5",
   "metadata": {
    "id": "880a77e5"
   },
   "outputs": [],
   "source": [
    "# создайте функцию categorize_income()\n",
    "def categorize_income(row):\n",
    "    if row <=30000:\n",
    "        return 'E'\n",
    "    elif 30001 <= row <=50000:\n",
    "        return 'D'\n",
    "    elif 50001 <= row <=200000:\n",
    "        return 'C'\n",
    "    elif 200001 <= row <=1000000:\n",
    "        return 'B'\n",
    "    else:\n",
    "        return 'A'"
   ]
  },
  {
   "cell_type": "code",
   "execution_count": 44,
   "id": "6f25f161",
   "metadata": {
    "id": "6f25f161"
   },
   "outputs": [],
   "source": [
    "# примените функцию методом apply()\n",
    "data['total_income_category'] = data['total_income'].apply(categorize_income)\n",
    "#print(data.head(20))"
   ]
  },
  {
   "cell_type": "markdown",
   "id": "3363b685",
   "metadata": {
    "deletable": false,
    "editable": false,
    "id": "3363b685",
    "tags": [
     "start_task"
    ]
   },
   "source": [
    "**Задание 17. Выведите на экран перечень уникальных целей взятия кредита из столбца `purpose`.**"
   ]
  },
  {
   "cell_type": "code",
   "execution_count": 45,
   "id": "e59f2c15",
   "metadata": {
    "id": "e59f2c15"
   },
   "outputs": [
    {
     "name": "stdout",
     "output_type": "stream",
     "text": [
      "['покупка жилья' 'приобретение автомобиля' 'дополнительное образование'\n",
      " 'сыграть свадьбу' 'операции с жильем' 'образование'\n",
      " 'на проведение свадьбы' 'покупка жилья для семьи' 'покупка недвижимости'\n",
      " 'покупка коммерческой недвижимости' 'покупка жилой недвижимости'\n",
      " 'строительство собственной недвижимости' 'недвижимость'\n",
      " 'строительство недвижимости' 'на покупку подержанного автомобиля'\n",
      " 'на покупку своего автомобиля' 'операции с коммерческой недвижимостью'\n",
      " 'строительство жилой недвижимости' 'жилье'\n",
      " 'операции со своей недвижимостью' 'автомобили' 'заняться образованием'\n",
      " 'сделка с подержанным автомобилем' 'получение образования' 'автомобиль'\n",
      " 'свадьба' 'получение дополнительного образования' 'покупка своего жилья'\n",
      " 'операции с недвижимостью' 'получение высшего образования'\n",
      " 'свой автомобиль' 'сделка с автомобилем' 'профильное образование'\n",
      " 'высшее образование' 'покупка жилья для сдачи' 'на покупку автомобиля'\n",
      " 'ремонт жилью' 'заняться высшим образованием']\n"
     ]
    }
   ],
   "source": [
    "# ваш код здесь\n",
    "print(data['purpose'].unique())"
   ]
  },
  {
   "cell_type": "markdown",
   "id": "bb33e847",
   "metadata": {
    "deletable": false,
    "editable": false,
    "id": "bb33e847",
    "tags": [
     "start_task"
    ]
   },
   "source": [
    "**Задание 18. Создайте функцию, которая на основании данных из столбца `purpose` сформирует новый столбец `purpose_category`, в который войдут следующие категории:**\n",
    "\n",
    "- `'операции с автомобилем'`,\n",
    "- `'операции с недвижимостью'`,\n",
    "- `'проведение свадьбы'`,\n",
    "- `'получение образования'`.\n",
    "\n",
    "**Например, если в столбце `purpose` находится подстрока `'на покупку автомобиля'`, то в столбце `purpose_category` должна появиться строка `'операции с автомобилем'`.**\n",
    "\n",
    "**Используйте собственную функцию с именем `categorize_purpose()` и метод `apply()`. Изучите данные в столбце `purpose` и определите, какие подстроки помогут вам правильно определить категорию.**"
   ]
  },
  {
   "cell_type": "code",
   "execution_count": 46,
   "id": "63909b83",
   "metadata": {
    "id": "63909b83"
   },
   "outputs": [],
   "source": [
    "# создайте функцию categorize_purpose()\n",
    "def categorize_purpose(row):\n",
    "    try:\n",
    "        if 'авт' in row:\n",
    "            return 'операции с автомобилем'\n",
    "        elif 'жил' in row or 'недвиж' in row:\n",
    "            return 'операции с недвижимостью'\n",
    "        elif 'свад' in row:\n",
    "            return 'проведение свадьбы'\n",
    "        elif 'образов' in row:\n",
    "            return 'получение образования'\n",
    "    except:\n",
    "        return 'без категории'"
   ]
  },
  {
   "cell_type": "code",
   "execution_count": 47,
   "id": "7cb4a81d",
   "metadata": {
    "id": "7cb4a81d"
   },
   "outputs": [],
   "source": [
    "# примените функцию методом apply()\n",
    "data['purpose_category'] = data['purpose'].apply(categorize_purpose)\n"
   ]
  },
  {
   "cell_type": "code",
   "execution_count": 48,
   "id": "7dfc53a6",
   "metadata": {},
   "outputs": [
    {
     "name": "stdout",
     "output_type": "stream",
     "text": [
      "    children  days_employed  dob_years            education  education_id  \\\n",
      "0          1    8437.673028         42               высшее             0   \n",
      "1          1    4024.803754         36              среднее             1   \n",
      "2          0    5623.422610         33              среднее             1   \n",
      "3          3    4124.747207         32              среднее             1   \n",
      "4          0  340266.072047         53              среднее             1   \n",
      "5          0     926.185831         27               высшее             0   \n",
      "6          0    2879.202052         43               высшее             0   \n",
      "7          0     152.779569         50              среднее             1   \n",
      "8          2    6929.865299         35               высшее             0   \n",
      "9          0    2188.756445         41              среднее             1   \n",
      "10         2    4171.483647         36               высшее             0   \n",
      "11         0     792.701887         40              среднее             1   \n",
      "12         0  365286.622650         65              среднее             1   \n",
      "13         0    1846.641941         54  неоконченное высшее             2   \n",
      "14         0    1844.956182         56               высшее             0   \n",
      "15         1     972.364419         26              среднее             1   \n",
      "16         0    1719.934226         35              среднее             1   \n",
      "17         0    2369.999720         33               высшее             0   \n",
      "18         0  400281.136913         53              среднее             1   \n",
      "19         0   10038.818549         48              среднее             1   \n",
      "\n",
      "       family_status  family_status_id gender income_type  debt  total_income  \\\n",
      "0    женат / замужем                 0      F   сотрудник     0        253875   \n",
      "1    женат / замужем                 0      F   сотрудник     0        112080   \n",
      "2    женат / замужем                 0      M   сотрудник     0        145885   \n",
      "3    женат / замужем                 0      M   сотрудник     0        267628   \n",
      "4   гражданский брак                 1      F   пенсионер     0        158616   \n",
      "5   гражданский брак                 1      M   компаньон     0        255763   \n",
      "6    женат / замужем                 0      F   компаньон     0        240525   \n",
      "7    женат / замужем                 0      M   сотрудник     0        135823   \n",
      "8   гражданский брак                 1      F   сотрудник     0         95856   \n",
      "9    женат / замужем                 0      M   сотрудник     0        144425   \n",
      "10   женат / замужем                 0      M   компаньон     0        113943   \n",
      "11   женат / замужем                 0      F   сотрудник     0         77069   \n",
      "12  гражданский брак                 1      M   пенсионер     0        118514   \n",
      "13   женат / замужем                 0      F   сотрудник     0        130458   \n",
      "14  гражданский брак                 1      F   компаньон     1        165127   \n",
      "15   женат / замужем                 0      F   сотрудник     0        116820   \n",
      "16   женат / замужем                 0      F   сотрудник     0        289202   \n",
      "17  гражданский брак                 1      M   сотрудник     0         90410   \n",
      "18    вдовец / вдова                 2      F   пенсионер     0         56823   \n",
      "19         в разводе                 3      F   сотрудник     0        242831   \n",
      "\n",
      "                                   purpose total_income_category  \\\n",
      "0                            покупка жилья                     B   \n",
      "1                  приобретение автомобиля                     C   \n",
      "2                            покупка жилья                     C   \n",
      "3               дополнительное образование                     B   \n",
      "4                          сыграть свадьбу                     C   \n",
      "5                            покупка жилья                     B   \n",
      "6                        операции с жильем                     B   \n",
      "7                              образование                     C   \n",
      "8                    на проведение свадьбы                     C   \n",
      "9                  покупка жилья для семьи                     C   \n",
      "10                    покупка недвижимости                     C   \n",
      "11       покупка коммерческой недвижимости                     C   \n",
      "12                         сыграть свадьбу                     C   \n",
      "13                 приобретение автомобиля                     C   \n",
      "14              покупка жилой недвижимости                     C   \n",
      "15  строительство собственной недвижимости                     C   \n",
      "16                            недвижимость                     B   \n",
      "17              строительство недвижимости                     C   \n",
      "18      на покупку подержанного автомобиля                     C   \n",
      "19            на покупку своего автомобиля                     B   \n",
      "\n",
      "            purpose_category  \n",
      "0   операции с недвижимостью  \n",
      "1     операции с автомобилем  \n",
      "2   операции с недвижимостью  \n",
      "3      получение образования  \n",
      "4         проведение свадьбы  \n",
      "5   операции с недвижимостью  \n",
      "6   операции с недвижимостью  \n",
      "7      получение образования  \n",
      "8         проведение свадьбы  \n",
      "9   операции с недвижимостью  \n",
      "10  операции с недвижимостью  \n",
      "11  операции с недвижимостью  \n",
      "12        проведение свадьбы  \n",
      "13    операции с автомобилем  \n",
      "14  операции с недвижимостью  \n",
      "15  операции с недвижимостью  \n",
      "16  операции с недвижимостью  \n",
      "17  операции с недвижимостью  \n",
      "18    операции с автомобилем  \n",
      "19    операции с автомобилем  \n"
     ]
    }
   ],
   "source": [
    "print(data.head(20))"
   ]
  },
  {
   "cell_type": "code",
   "execution_count": null,
   "id": "84e93b18",
   "metadata": {},
   "outputs": [],
   "source": []
  }
 ],
 "metadata": {
  "ExecuteTimeLog": [
   {
    "duration": 394,
    "start_time": "2024-02-24T20:28:25.347Z"
   },
   {
    "duration": 301,
    "start_time": "2024-02-24T20:28:57.527Z"
   },
   {
    "duration": 13,
    "start_time": "2024-02-24T20:29:13.616Z"
   },
   {
    "duration": 16,
    "start_time": "2024-02-24T20:30:35.332Z"
   },
   {
    "duration": 63,
    "start_time": "2024-02-24T20:34:14.098Z"
   },
   {
    "duration": 10,
    "start_time": "2024-02-24T20:35:01.007Z"
   },
   {
    "duration": 4,
    "start_time": "2024-02-24T21:02:20.909Z"
   },
   {
    "duration": 11,
    "start_time": "2024-02-24T21:04:01.116Z"
   },
   {
    "duration": 1165,
    "start_time": "2024-02-24T21:12:04.672Z"
   },
   {
    "duration": 1201,
    "start_time": "2024-02-24T21:13:46.027Z"
   },
   {
    "duration": 37,
    "start_time": "2024-02-24T21:14:21.694Z"
   },
   {
    "duration": 39,
    "start_time": "2024-02-24T21:14:51.347Z"
   },
   {
    "duration": 3,
    "start_time": "2024-02-24T21:17:11.879Z"
   },
   {
    "duration": 5,
    "start_time": "2024-02-24T21:17:53.559Z"
   },
   {
    "duration": 6,
    "start_time": "2024-02-24T21:19:59.579Z"
   },
   {
    "duration": 3,
    "start_time": "2024-02-24T21:20:48.764Z"
   },
   {
    "duration": 4,
    "start_time": "2024-02-24T21:21:07.185Z"
   },
   {
    "duration": 5,
    "start_time": "2024-02-24T21:21:31.771Z"
   },
   {
    "duration": 3,
    "start_time": "2024-02-24T21:22:04.154Z"
   },
   {
    "duration": 19,
    "start_time": "2024-02-24T21:28:12.414Z"
   },
   {
    "duration": 5,
    "start_time": "2024-02-24T21:28:23.994Z"
   },
   {
    "duration": 11,
    "start_time": "2024-02-24T21:29:40.659Z"
   },
   {
    "duration": 5,
    "start_time": "2024-02-24T21:29:44.013Z"
   },
   {
    "duration": 49,
    "start_time": "2024-02-25T19:23:18.693Z"
   },
   {
    "duration": 396,
    "start_time": "2024-02-25T19:23:52.871Z"
   },
   {
    "duration": 298,
    "start_time": "2024-02-25T19:23:53.269Z"
   },
   {
    "duration": 9,
    "start_time": "2024-02-25T19:23:53.569Z"
   },
   {
    "duration": 16,
    "start_time": "2024-02-25T19:23:53.580Z"
   },
   {
    "duration": 9,
    "start_time": "2024-02-25T19:23:53.598Z"
   },
   {
    "duration": 43,
    "start_time": "2024-02-25T19:23:53.608Z"
   },
   {
    "duration": 3,
    "start_time": "2024-02-25T19:23:53.652Z"
   },
   {
    "duration": 17,
    "start_time": "2024-02-25T19:23:53.656Z"
   },
   {
    "duration": 4,
    "start_time": "2024-02-25T19:23:53.674Z"
   },
   {
    "duration": 7,
    "start_time": "2024-02-25T19:23:53.680Z"
   },
   {
    "duration": 3,
    "start_time": "2024-02-25T19:23:53.689Z"
   },
   {
    "duration": 36,
    "start_time": "2024-02-25T19:23:53.694Z"
   },
   {
    "duration": 3,
    "start_time": "2024-02-25T19:23:53.731Z"
   },
   {
    "duration": 3,
    "start_time": "2024-02-25T19:23:53.765Z"
   },
   {
    "duration": 6,
    "start_time": "2024-02-25T19:23:53.769Z"
   },
   {
    "duration": 5,
    "start_time": "2024-02-25T19:23:53.777Z"
   },
   {
    "duration": 9,
    "start_time": "2024-02-25T19:23:53.783Z"
   },
   {
    "duration": 9,
    "start_time": "2024-02-25T19:23:53.793Z"
   },
   {
    "duration": 7,
    "start_time": "2024-02-25T19:23:53.803Z"
   },
   {
    "duration": 17,
    "start_time": "2024-02-25T19:23:53.811Z"
   },
   {
    "duration": 8,
    "start_time": "2024-02-25T19:23:53.829Z"
   },
   {
    "duration": 7,
    "start_time": "2024-02-25T19:23:53.840Z"
   },
   {
    "duration": 39,
    "start_time": "2024-02-25T19:24:25.775Z"
   },
   {
    "duration": 9,
    "start_time": "2024-02-25T19:25:14.096Z"
   },
   {
    "duration": 3,
    "start_time": "2024-02-25T19:27:45.806Z"
   },
   {
    "duration": 11,
    "start_time": "2024-02-25T19:29:56.930Z"
   },
   {
    "duration": 1253,
    "start_time": "2024-02-25T19:30:30.254Z"
   },
   {
    "duration": 5,
    "start_time": "2024-02-25T19:30:39.785Z"
   },
   {
    "duration": 21,
    "start_time": "2024-02-25T19:31:02.908Z"
   },
   {
    "duration": 357,
    "start_time": "2024-02-25T19:32:45.910Z"
   },
   {
    "duration": 78,
    "start_time": "2024-02-25T19:32:46.268Z"
   },
   {
    "duration": 10,
    "start_time": "2024-02-25T19:32:46.347Z"
   },
   {
    "duration": 29,
    "start_time": "2024-02-25T19:32:46.358Z"
   },
   {
    "duration": 34,
    "start_time": "2024-02-25T19:32:46.389Z"
   },
   {
    "duration": 44,
    "start_time": "2024-02-25T19:32:46.425Z"
   },
   {
    "duration": 3,
    "start_time": "2024-02-25T19:32:46.471Z"
   },
   {
    "duration": 24,
    "start_time": "2024-02-25T19:32:46.475Z"
   },
   {
    "duration": 13,
    "start_time": "2024-02-25T19:32:46.501Z"
   },
   {
    "duration": 19,
    "start_time": "2024-02-25T19:32:46.516Z"
   },
   {
    "duration": 26,
    "start_time": "2024-02-25T19:32:46.537Z"
   },
   {
    "duration": 49,
    "start_time": "2024-02-25T19:32:46.565Z"
   },
   {
    "duration": 10,
    "start_time": "2024-02-25T19:32:46.615Z"
   },
   {
    "duration": 4,
    "start_time": "2024-02-25T19:32:46.627Z"
   },
   {
    "duration": 29,
    "start_time": "2024-02-25T19:32:46.632Z"
   },
   {
    "duration": 12,
    "start_time": "2024-02-25T19:32:46.663Z"
   },
   {
    "duration": 11,
    "start_time": "2024-02-25T19:32:46.676Z"
   },
   {
    "duration": 38,
    "start_time": "2024-02-25T19:32:46.688Z"
   },
   {
    "duration": 12,
    "start_time": "2024-02-25T19:32:46.727Z"
   },
   {
    "duration": 23,
    "start_time": "2024-02-25T19:32:46.740Z"
   },
   {
    "duration": 25,
    "start_time": "2024-02-25T19:32:46.765Z"
   },
   {
    "duration": 20,
    "start_time": "2024-02-25T19:32:46.791Z"
   },
   {
    "duration": 18,
    "start_time": "2024-02-25T19:34:55.861Z"
   },
   {
    "duration": 4,
    "start_time": "2024-02-25T19:42:11.710Z"
   },
   {
    "duration": 69,
    "start_time": "2024-02-25T19:42:17.173Z"
   },
   {
    "duration": 10,
    "start_time": "2024-02-25T19:44:00.508Z"
   },
   {
    "duration": 8,
    "start_time": "2024-02-25T19:44:08.912Z"
   },
   {
    "duration": 13,
    "start_time": "2024-02-25T19:44:47.263Z"
   },
   {
    "duration": 11,
    "start_time": "2024-02-25T19:46:00.627Z"
   },
   {
    "duration": 9,
    "start_time": "2024-02-25T19:46:17.121Z"
   },
   {
    "duration": 3,
    "start_time": "2024-02-25T19:55:03.392Z"
   },
   {
    "duration": 1143,
    "start_time": "2024-02-25T19:56:26.801Z"
   },
   {
    "duration": 1103,
    "start_time": "2024-02-25T19:56:48.467Z"
   },
   {
    "duration": 1140,
    "start_time": "2024-02-25T19:58:05.597Z"
   },
   {
    "duration": 3,
    "start_time": "2024-02-25T19:58:34.599Z"
   },
   {
    "duration": 10,
    "start_time": "2024-02-25T19:58:37.681Z"
   },
   {
    "duration": 4,
    "start_time": "2024-02-25T19:59:29.724Z"
   },
   {
    "duration": 4,
    "start_time": "2024-02-25T19:59:44.580Z"
   },
   {
    "duration": 3,
    "start_time": "2024-02-25T20:00:09.421Z"
   },
   {
    "duration": 16,
    "start_time": "2024-02-25T20:05:33.506Z"
   },
   {
    "duration": 15,
    "start_time": "2024-02-25T20:05:48.863Z"
   },
   {
    "duration": 407,
    "start_time": "2024-02-25T20:06:09.750Z"
   },
   {
    "duration": 77,
    "start_time": "2024-02-25T20:06:10.159Z"
   },
   {
    "duration": 10,
    "start_time": "2024-02-25T20:06:10.238Z"
   },
   {
    "duration": 16,
    "start_time": "2024-02-25T20:06:10.250Z"
   },
   {
    "duration": 22,
    "start_time": "2024-02-25T20:06:10.269Z"
   },
   {
    "duration": 46,
    "start_time": "2024-02-25T20:06:10.293Z"
   },
   {
    "duration": 4,
    "start_time": "2024-02-25T20:06:10.341Z"
   },
   {
    "duration": 26,
    "start_time": "2024-02-25T20:06:10.347Z"
   },
   {
    "duration": 11,
    "start_time": "2024-02-25T20:06:10.375Z"
   },
   {
    "duration": 26,
    "start_time": "2024-02-25T20:06:10.387Z"
   },
   {
    "duration": 29,
    "start_time": "2024-02-25T20:06:10.414Z"
   },
   {
    "duration": 73,
    "start_time": "2024-02-25T20:06:10.445Z"
   },
   {
    "duration": 14,
    "start_time": "2024-02-25T20:06:10.520Z"
   },
   {
    "duration": 26,
    "start_time": "2024-02-25T20:06:10.536Z"
   },
   {
    "duration": 29,
    "start_time": "2024-02-25T20:06:10.563Z"
   },
   {
    "duration": 35,
    "start_time": "2024-02-25T20:06:10.593Z"
   },
   {
    "duration": 37,
    "start_time": "2024-02-25T20:06:10.630Z"
   },
   {
    "duration": 3,
    "start_time": "2024-02-25T20:06:10.668Z"
   },
   {
    "duration": 269,
    "start_time": "2024-02-25T20:06:10.673Z"
   },
   {
    "duration": 5,
    "start_time": "2024-02-25T20:06:10.943Z"
   },
   {
    "duration": 107,
    "start_time": "2024-02-25T20:06:10.950Z"
   },
   {
    "duration": 0,
    "start_time": "2024-02-25T20:06:11.058Z"
   },
   {
    "duration": 76,
    "start_time": "2024-02-25T20:17:13.449Z"
   },
   {
    "duration": 3,
    "start_time": "2024-02-25T20:17:22.771Z"
   },
   {
    "duration": 135,
    "start_time": "2024-02-25T20:18:08.970Z"
   },
   {
    "duration": 3,
    "start_time": "2024-02-25T20:18:25.835Z"
   },
   {
    "duration": 138,
    "start_time": "2024-02-25T20:18:28.156Z"
   },
   {
    "duration": 1255,
    "start_time": "2024-02-25T20:20:16.763Z"
   },
   {
    "duration": 147,
    "start_time": "2024-02-25T20:22:12.052Z"
   },
   {
    "duration": 1156,
    "start_time": "2024-02-25T20:22:15.464Z"
   },
   {
    "duration": 281,
    "start_time": "2024-02-25T20:22:33.383Z"
   },
   {
    "duration": 4,
    "start_time": "2024-02-25T20:23:45.166Z"
   },
   {
    "duration": 6,
    "start_time": "2024-02-25T20:23:47.364Z"
   },
   {
    "duration": 13,
    "start_time": "2024-02-25T20:24:02.263Z"
   },
   {
    "duration": 3,
    "start_time": "2024-02-25T20:25:18.335Z"
   },
   {
    "duration": 9,
    "start_time": "2024-02-25T20:27:34.998Z"
   },
   {
    "duration": 3,
    "start_time": "2024-02-25T20:27:36.595Z"
   },
   {
    "duration": 8,
    "start_time": "2024-02-25T20:27:39.449Z"
   },
   {
    "duration": 360,
    "start_time": "2024-02-25T20:29:23.603Z"
   },
   {
    "duration": 77,
    "start_time": "2024-02-25T20:29:23.964Z"
   },
   {
    "duration": 10,
    "start_time": "2024-02-25T20:29:24.042Z"
   },
   {
    "duration": 15,
    "start_time": "2024-02-25T20:29:24.054Z"
   },
   {
    "duration": 9,
    "start_time": "2024-02-25T20:29:24.071Z"
   },
   {
    "duration": 34,
    "start_time": "2024-02-25T20:29:24.081Z"
   },
   {
    "duration": 3,
    "start_time": "2024-02-25T20:29:24.116Z"
   },
   {
    "duration": 15,
    "start_time": "2024-02-25T20:29:24.120Z"
   },
   {
    "duration": 32,
    "start_time": "2024-02-25T20:29:24.136Z"
   },
   {
    "duration": 14,
    "start_time": "2024-02-25T20:29:24.169Z"
   },
   {
    "duration": 3,
    "start_time": "2024-02-25T20:29:24.185Z"
   },
   {
    "duration": 35,
    "start_time": "2024-02-25T20:29:24.190Z"
   },
   {
    "duration": 9,
    "start_time": "2024-02-25T20:29:24.226Z"
   },
   {
    "duration": 8,
    "start_time": "2024-02-25T20:29:24.238Z"
   },
   {
    "duration": 28,
    "start_time": "2024-02-25T20:29:24.247Z"
   },
   {
    "duration": 31,
    "start_time": "2024-02-25T20:29:24.277Z"
   },
   {
    "duration": 30,
    "start_time": "2024-02-25T20:29:24.309Z"
   },
   {
    "duration": 4,
    "start_time": "2024-02-25T20:29:24.340Z"
   },
   {
    "duration": 251,
    "start_time": "2024-02-25T20:29:24.365Z"
   },
   {
    "duration": 6,
    "start_time": "2024-02-25T20:29:24.617Z"
   },
   {
    "duration": 4,
    "start_time": "2024-02-25T20:29:24.625Z"
   },
   {
    "duration": 18,
    "start_time": "2024-02-25T20:29:24.632Z"
   },
   {
    "duration": 38,
    "start_time": "2024-02-25T20:33:37.451Z"
   },
   {
    "duration": 5,
    "start_time": "2024-02-25T20:33:46.804Z"
   },
   {
    "duration": 3,
    "start_time": "2024-02-25T20:33:50.378Z"
   },
   {
    "duration": 8,
    "start_time": "2024-02-25T20:33:52.507Z"
   },
   {
    "duration": 346,
    "start_time": "2024-02-25T20:34:50.465Z"
   },
   {
    "duration": 406,
    "start_time": "2024-02-25T20:35:16.273Z"
   },
   {
    "duration": 77,
    "start_time": "2024-02-25T20:35:16.681Z"
   },
   {
    "duration": 10,
    "start_time": "2024-02-25T20:35:16.759Z"
   },
   {
    "duration": 22,
    "start_time": "2024-02-25T20:35:16.770Z"
   },
   {
    "duration": 9,
    "start_time": "2024-02-25T20:35:16.794Z"
   },
   {
    "duration": 35,
    "start_time": "2024-02-25T20:35:16.804Z"
   },
   {
    "duration": 3,
    "start_time": "2024-02-25T20:35:16.841Z"
   },
   {
    "duration": 24,
    "start_time": "2024-02-25T20:35:16.845Z"
   },
   {
    "duration": 3,
    "start_time": "2024-02-25T20:35:16.871Z"
   },
   {
    "duration": 9,
    "start_time": "2024-02-25T20:35:16.875Z"
   },
   {
    "duration": 4,
    "start_time": "2024-02-25T20:35:16.886Z"
   },
   {
    "duration": 45,
    "start_time": "2024-02-25T20:35:16.891Z"
   },
   {
    "duration": 10,
    "start_time": "2024-02-25T20:35:16.937Z"
   },
   {
    "duration": 4,
    "start_time": "2024-02-25T20:35:16.966Z"
   },
   {
    "duration": 20,
    "start_time": "2024-02-25T20:35:16.971Z"
   },
   {
    "duration": 24,
    "start_time": "2024-02-25T20:35:16.993Z"
   },
   {
    "duration": 29,
    "start_time": "2024-02-25T20:35:17.019Z"
   },
   {
    "duration": 16,
    "start_time": "2024-02-25T20:35:17.049Z"
   },
   {
    "duration": 339,
    "start_time": "2024-02-25T20:35:17.067Z"
   },
   {
    "duration": 0,
    "start_time": "2024-02-25T20:35:17.407Z"
   },
   {
    "duration": 0,
    "start_time": "2024-02-25T20:35:17.409Z"
   },
   {
    "duration": 0,
    "start_time": "2024-02-25T20:35:17.410Z"
   },
   {
    "duration": 5,
    "start_time": "2024-02-25T20:35:43.895Z"
   },
   {
    "duration": 4,
    "start_time": "2024-02-25T20:37:53.145Z"
   },
   {
    "duration": 309,
    "start_time": "2024-02-25T20:37:57.445Z"
   },
   {
    "duration": 3,
    "start_time": "2024-02-25T20:39:50.586Z"
   },
   {
    "duration": 9,
    "start_time": "2024-02-25T20:39:52.606Z"
   },
   {
    "duration": 8,
    "start_time": "2024-02-25T20:40:09.784Z"
   },
   {
    "duration": 4,
    "start_time": "2024-02-25T20:40:39.039Z"
   },
   {
    "duration": 10,
    "start_time": "2024-02-25T20:40:41.232Z"
   },
   {
    "duration": 10,
    "start_time": "2024-02-25T20:41:19.371Z"
   },
   {
    "duration": 22,
    "start_time": "2024-02-25T20:41:39.217Z"
   },
   {
    "duration": 40,
    "start_time": "2024-02-25T20:41:41.711Z"
   },
   {
    "duration": 10,
    "start_time": "2024-02-25T20:41:51.127Z"
   },
   {
    "duration": 357,
    "start_time": "2024-02-25T21:08:15.821Z"
   },
   {
    "duration": 79,
    "start_time": "2024-02-25T21:08:16.180Z"
   },
   {
    "duration": 10,
    "start_time": "2024-02-25T21:08:16.260Z"
   },
   {
    "duration": 27,
    "start_time": "2024-02-25T21:08:16.272Z"
   },
   {
    "duration": 10,
    "start_time": "2024-02-25T21:08:16.302Z"
   },
   {
    "duration": 36,
    "start_time": "2024-02-25T21:08:16.314Z"
   },
   {
    "duration": 16,
    "start_time": "2024-02-25T21:08:16.352Z"
   },
   {
    "duration": 20,
    "start_time": "2024-02-25T21:08:16.369Z"
   },
   {
    "duration": 16,
    "start_time": "2024-02-25T21:08:16.391Z"
   },
   {
    "duration": 30,
    "start_time": "2024-02-25T21:08:16.409Z"
   },
   {
    "duration": 13,
    "start_time": "2024-02-25T21:08:16.441Z"
   },
   {
    "duration": 54,
    "start_time": "2024-02-25T21:08:16.456Z"
   },
   {
    "duration": 11,
    "start_time": "2024-02-25T21:08:16.511Z"
   },
   {
    "duration": 32,
    "start_time": "2024-02-25T21:08:16.525Z"
   },
   {
    "duration": 30,
    "start_time": "2024-02-25T21:08:16.558Z"
   },
   {
    "duration": 40,
    "start_time": "2024-02-25T21:08:16.589Z"
   },
   {
    "duration": 39,
    "start_time": "2024-02-25T21:08:16.631Z"
   },
   {
    "duration": 4,
    "start_time": "2024-02-25T21:08:16.673Z"
   },
   {
    "duration": 17,
    "start_time": "2024-02-25T21:08:16.678Z"
   },
   {
    "duration": 6,
    "start_time": "2024-02-25T21:08:16.696Z"
   },
   {
    "duration": 21,
    "start_time": "2024-02-25T21:08:16.704Z"
   },
   {
    "duration": 29,
    "start_time": "2024-02-25T21:08:16.727Z"
   },
   {
    "duration": 11,
    "start_time": "2024-02-25T21:08:16.758Z"
   },
   {
    "duration": 26,
    "start_time": "2024-02-25T21:09:12.844Z"
   },
   {
    "duration": 15,
    "start_time": "2024-02-25T21:09:31.310Z"
   },
   {
    "duration": 3,
    "start_time": "2024-02-25T21:10:16.965Z"
   },
   {
    "duration": 92,
    "start_time": "2024-02-25T21:10:16.970Z"
   },
   {
    "duration": 14,
    "start_time": "2024-02-25T21:10:17.064Z"
   },
   {
    "duration": 49,
    "start_time": "2024-02-25T21:10:17.079Z"
   },
   {
    "duration": 31,
    "start_time": "2024-02-25T21:10:17.130Z"
   },
   {
    "duration": 53,
    "start_time": "2024-02-25T21:10:17.162Z"
   },
   {
    "duration": 3,
    "start_time": "2024-02-25T21:10:17.216Z"
   },
   {
    "duration": 27,
    "start_time": "2024-02-25T21:10:17.221Z"
   },
   {
    "duration": 11,
    "start_time": "2024-02-25T21:10:17.250Z"
   },
   {
    "duration": 10,
    "start_time": "2024-02-25T21:10:17.262Z"
   },
   {
    "duration": 15,
    "start_time": "2024-02-25T21:10:17.274Z"
   },
   {
    "duration": 40,
    "start_time": "2024-02-25T21:10:17.291Z"
   },
   {
    "duration": 9,
    "start_time": "2024-02-25T21:10:17.333Z"
   },
   {
    "duration": 15,
    "start_time": "2024-02-25T21:10:17.345Z"
   },
   {
    "duration": 26,
    "start_time": "2024-02-25T21:10:17.362Z"
   },
   {
    "duration": 29,
    "start_time": "2024-02-25T21:10:17.389Z"
   },
   {
    "duration": 26,
    "start_time": "2024-02-25T21:10:17.420Z"
   },
   {
    "duration": 4,
    "start_time": "2024-02-25T21:10:17.447Z"
   },
   {
    "duration": 25,
    "start_time": "2024-02-25T21:10:17.452Z"
   },
   {
    "duration": 28,
    "start_time": "2024-02-25T21:10:17.479Z"
   },
   {
    "duration": 21,
    "start_time": "2024-02-25T21:10:17.509Z"
   },
   {
    "duration": 28,
    "start_time": "2024-02-25T21:10:17.532Z"
   },
   {
    "duration": 43,
    "start_time": "2024-02-25T21:10:17.562Z"
   }
  ],
  "colab": {
   "provenance": []
  },
  "kernelspec": {
   "display_name": "Python 3 (ipykernel)",
   "language": "python",
   "name": "python3"
  },
  "language_info": {
   "codemirror_mode": {
    "name": "ipython",
    "version": 3
   },
   "file_extension": ".py",
   "mimetype": "text/x-python",
   "name": "python",
   "nbconvert_exporter": "python",
   "pygments_lexer": "ipython3",
   "version": "3.9.5"
  },
  "toc": {
   "base_numbering": 1,
   "nav_menu": {},
   "number_sections": true,
   "sideBar": true,
   "skip_h1_title": true,
   "title_cell": "Table of Contents",
   "title_sidebar": "Contents",
   "toc_cell": false,
   "toc_position": {},
   "toc_section_display": true,
   "toc_window_display": false
  }
 },
 "nbformat": 4,
 "nbformat_minor": 5
}
